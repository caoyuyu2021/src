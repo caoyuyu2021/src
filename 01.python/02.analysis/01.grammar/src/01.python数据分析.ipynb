{
 "cells": [
  {
   "cell_type": "markdown",
   "id": "71b0d3df",
   "metadata": {},
   "source": [
    "<font face=\"微软雅黑\" color=green size=5>Python数据分析</font>"
   ]
  },
  {
   "cell_type": "markdown",
   "id": "c1a1f7f8",
   "metadata": {},
   "source": [
    "# numpy基础"
   ]
  },
  {
   "cell_type": "markdown",
   "id": "6070e3d0",
   "metadata": {},
   "source": [
    "numpy的核心特征之一就是N维数组对象ndarray，ndarray是python中一个快速，灵活的大型数据集容器，它包含的每一个元素均为相同类型。"
   ]
  },
  {
   "cell_type": "code",
   "execution_count": 1,
   "id": "23528c3b",
   "metadata": {
    "ExecuteTime": {
     "end_time": "2024-11-05T10:05:37.031466Z",
     "start_time": "2024-11-05T10:05:37.027622Z"
    }
   },
   "outputs": [],
   "source": [
    "import numpy as np"
   ]
  },
  {
   "cell_type": "markdown",
   "id": "dcb63d97",
   "metadata": {},
   "source": [
    "shape 用来表征数组每一维度的数量 数组名.shape  \n",
    "dtype 用来描述数组的数据类型 数组名.dtype  \n",
    "ndim 用来查看维度"
   ]
  },
  {
   "cell_type": "markdown",
   "id": "dd8c2fde",
   "metadata": {},
   "source": [
    "## 生成数组"
   ]
  },
  {
   "cell_type": "markdown",
   "id": "d70bd83e",
   "metadata": {},
   "source": [
    "array() np.array(变量名) np.array(list) 将列表转换成数组  \n",
    "zeros() 一次性创造全是0的数组 np.zeros(数字) 一维 np.zeros((n, m)) n×m数组  \n",
    "ones() 一次性创造全是1的数组  用法同zeros()  \n",
    "empty() 创建一个没有初始化数值的数组 用法同zeros()  "
   ]
  },
  {
   "cell_type": "markdown",
   "id": "abd094e8",
   "metadata": {},
   "source": [
    "## 索引与切片"
   ]
  },
  {
   "cell_type": "markdown",
   "id": "04646078",
   "metadata": {},
   "source": [
    "一维数组  \n",
    "数组名[n] 索引n处的值，一维数组索引与列表相同，可看成是列表  \n",
    "数组名[n:m] 索引n到m-1处的值，如果是高维，返回n到m-1行的数组  "
   ]
  },
  {
   "cell_type": "markdown",
   "id": "159cd608",
   "metadata": {},
   "source": [
    "二维数组，每个索引值对应的元素不再是一个值，而是一个一维数组    \n",
    "数组名[n][m] 单个元素n,m处  \n",
    "数组名[n,m] 单个元素n,m处  \n",
    "数组名[n] 第n行元素"
   ]
  },
  {
   "cell_type": "markdown",
   "id": "c6a8f075",
   "metadata": {},
   "source": [
    "多维数组  \n",
    "数组名[n] 返回的对象是一个降低一个维度的数组，每个平面的第n行组成的二维数组  \n",
    "数组名[n,m] 返回一个一维数组  \n",
    "数组名[n1:n2, m1:m2] 返回n1到n2-1行，m1到m2-1列的数组  "
   ]
  },
  {
   "cell_type": "markdown",
   "id": "b8e2b51c",
   "metadata": {},
   "source": [
    "## 神奇索引"
   ]
  },
  {
   "cell_type": "markdown",
   "id": "a298d7b0",
   "metadata": {},
   "source": [
    "为了选出一个符合特定顺序的子集，可以通过传递一个包含指明所需顺序的列表或数组来完成。  \n",
    "数组名[[n]] 提取第n行的数组  \n",
    "数组名[[n1,n2,n3]] 提取索引为n1,n2,n3行的数组  \n",
    "数组名[[n1,n2,n3],[m1,m2,m3]] 提取索引为(n1,m1),(n2,m2),(n3,m3)的元素"
   ]
  },
  {
   "cell_type": "markdown",
   "id": "25e1a286",
   "metadata": {},
   "source": [
    "## 数组转置"
   ]
  },
  {
   "cell_type": "markdown",
   "id": "37f432f7",
   "metadata": {},
   "source": [
    "数组名.T  \n",
    "矩阵内积 np.dot(arr.T,arr)  \n",
    "arange python内建函数range的数组版，返回一个数组，np.arange(n) n从0开始，到n-1结束。  \n",
    "transpose 置换轴"
   ]
  },
  {
   "cell_type": "markdown",
   "id": "8eec1c64",
   "metadata": {},
   "source": [
    "## 数学函数"
   ]
  },
  {
   "cell_type": "markdown",
   "id": "4da5ebec",
   "metadata": {},
   "source": [
    "np.sqrt(数组名) 开方  \n",
    "np.exp(数组名) 指数  \n",
    "np.square(数组名) 平方  \n",
    "np.add(x,y) 加  \n",
    "np.multiply() 乘  \n",
    "np.divide() 除  \n",
    "np.where(条件,数组1,数组2) 类似三元表达式   \n",
    "np.nan 代表NaN"
   ]
  },
  {
   "cell_type": "code",
   "execution_count": 3,
   "id": "07d9b794",
   "metadata": {
    "ExecuteTime": {
     "end_time": "2022-06-04T14:52:31.498610Z",
     "start_time": "2022-06-04T14:52:31.486157Z"
    }
   },
   "outputs": [
    {
     "data": {
      "text/plain": [
       "array([[-2, -2, -2, -2],\n",
       "       [-2,  2,  2, -2],\n",
       "       [ 2,  2, -2, -2],\n",
       "       [-2,  2, -2,  2]])"
      ]
     },
     "execution_count": 3,
     "metadata": {},
     "output_type": "execute_result"
    }
   ],
   "source": [
    "arr = np.random.randn(4,4)\n",
    "np.where(arr>0, 2, -2)"
   ]
  },
  {
   "cell_type": "markdown",
   "id": "85e38dac",
   "metadata": {},
   "source": [
    "## 数学与统计方法"
   ]
  },
  {
   "cell_type": "markdown",
   "id": "199e8c18",
   "metadata": {},
   "source": [
    "数组名.sum(axis=0或1) 或np.sum(数组名) 求和   \n",
    "数组名.mean() 平均值  \n",
    "数组名.std() 标准差  \n",
    "数组名.var() 方差  \n",
    "axis=0 对行进行操作，等价于DataFrame中 axis='index'  \n",
    "axis=1 对列进行操作，等价于DataFrame中 axis='columns'  \n",
    "axis=i 沿着第i个下标变化的方向进行操作   \n",
    "数组名.sort() 或np.sort(数组名) 排序升序  \n",
    "np.argsort(数组名) 返回排序后的索引  \n",
    "np.sort(数组名)[::-1] 降序排列  \n",
    "np.flipub(数组名) 翻转元组，也可以用数组名[::-1]\n",
    "np.random.seed(1) 随机种子  \n",
    "np.random.rand((n,m)) 从均匀分布中抽取样本生成n×m的数组  \n",
    "np.random.randn((n,m)) 从标准正态分布中抽取样本生成n×m的数组 "
   ]
  },
  {
   "cell_type": "markdown",
   "id": "585736ce",
   "metadata": {},
   "source": [
    "## 重塑数组"
   ]
  },
  {
   "cell_type": "markdown",
   "id": "a068ddc9",
   "metadata": {},
   "source": [
    "很多情况下，将数组从一个形状转换为另一个形状，并且不复制任何数据，可以用reshape方法。"
   ]
  },
  {
   "cell_type": "code",
   "execution_count": 7,
   "id": "5c7659a2",
   "metadata": {
    "ExecuteTime": {
     "end_time": "2023-11-28T02:58:07.657073Z",
     "start_time": "2023-11-28T02:58:07.650832Z"
    }
   },
   "outputs": [
    {
     "data": {
      "text/plain": [
       "array([0, 1, 2, 3, 4, 5, 6, 7])"
      ]
     },
     "execution_count": 7,
     "metadata": {},
     "output_type": "execute_result"
    }
   ],
   "source": [
    "arr = np.arange(8)\n",
    "arr"
   ]
  },
  {
   "cell_type": "code",
   "execution_count": 13,
   "id": "8cc5dbc0",
   "metadata": {
    "ExecuteTime": {
     "end_time": "2023-11-28T02:59:36.535092Z",
     "start_time": "2023-11-28T02:59:36.527917Z"
    }
   },
   "outputs": [
    {
     "data": {
      "text/plain": [
       "array([[0, 1],\n",
       "       [2, 3],\n",
       "       [4, 5],\n",
       "       [6, 7]])"
      ]
     },
     "execution_count": 13,
     "metadata": {},
     "output_type": "execute_result"
    }
   ],
   "source": [
    "arr.reshape(4, 2)"
   ]
  },
  {
   "cell_type": "markdown",
   "id": "5bacb575",
   "metadata": {},
   "source": [
    "数组新的shape属性应该要与原来的配套，如果等于-1的话，那么Numpy会根据剩下的维度计算出数组的另外一个shape属性值。"
   ]
  },
  {
   "cell_type": "code",
   "execution_count": 9,
   "id": "03456d48",
   "metadata": {
    "ExecuteTime": {
     "end_time": "2023-11-28T02:58:55.321668Z",
     "start_time": "2023-11-28T02:58:55.314996Z"
    }
   },
   "outputs": [
    {
     "data": {
      "text/plain": [
       "array([[0],\n",
       "       [1],\n",
       "       [2],\n",
       "       [3],\n",
       "       [4],\n",
       "       [5],\n",
       "       [6],\n",
       "       [7]])"
      ]
     },
     "execution_count": 9,
     "metadata": {},
     "output_type": "execute_result"
    }
   ],
   "source": [
    "arr.reshape(-1, 1)"
   ]
  },
  {
   "cell_type": "code",
   "execution_count": 12,
   "id": "c8e55c4a",
   "metadata": {
    "ExecuteTime": {
     "end_time": "2023-11-28T02:59:30.900412Z",
     "start_time": "2023-11-28T02:59:30.894758Z"
    }
   },
   "outputs": [
    {
     "data": {
      "text/plain": [
       "array([[0, 1, 2, 3, 4, 5, 6, 7]])"
      ]
     },
     "execution_count": 12,
     "metadata": {},
     "output_type": "execute_result"
    }
   ],
   "source": [
    "arr.reshape(1, -1)"
   ]
  },
  {
   "cell_type": "code",
   "execution_count": 14,
   "id": "b311ed48",
   "metadata": {
    "ExecuteTime": {
     "end_time": "2023-11-28T02:59:53.215329Z",
     "start_time": "2023-11-28T02:59:53.208692Z"
    }
   },
   "outputs": [
    {
     "data": {
      "text/plain": [
       "array([[0, 1, 2, 3],\n",
       "       [4, 5, 6, 7]])"
      ]
     },
     "execution_count": 14,
     "metadata": {},
     "output_type": "execute_result"
    }
   ],
   "source": [
    "arr.reshape(2, -1)"
   ]
  },
  {
   "cell_type": "markdown",
   "id": "b0ac33ae",
   "metadata": {},
   "source": [
    "将更高维的数组转换为一维数组（扁平化、分散化）。"
   ]
  },
  {
   "cell_type": "code",
   "execution_count": 7,
   "id": "28791007",
   "metadata": {
    "ExecuteTime": {
     "end_time": "2022-06-04T15:05:57.402568Z",
     "start_time": "2022-06-04T15:05:57.394021Z"
    }
   },
   "outputs": [
    {
     "data": {
      "text/plain": [
       "array([0, 1, 2, 3, 4, 5, 6, 7])"
      ]
     },
     "execution_count": 7,
     "metadata": {},
     "output_type": "execute_result"
    }
   ],
   "source": [
    "arr.ravel()"
   ]
  },
  {
   "cell_type": "code",
   "execution_count": 8,
   "id": "bd88afe3",
   "metadata": {
    "ExecuteTime": {
     "end_time": "2022-06-04T15:06:10.648332Z",
     "start_time": "2022-06-04T15:06:10.628786Z"
    }
   },
   "outputs": [
    {
     "data": {
      "text/plain": [
       "array([0, 1, 2, 3, 4, 5, 6, 7])"
      ]
     },
     "execution_count": 8,
     "metadata": {},
     "output_type": "execute_result"
    }
   ],
   "source": [
    "arr.flatten()"
   ]
  },
  {
   "cell_type": "markdown",
   "id": "34e45dfb",
   "metadata": {},
   "source": [
    "## 复制数组"
   ]
  },
  {
   "cell_type": "markdown",
   "id": "0268c7e3",
   "metadata": {},
   "source": [
    "np.tile() 把数组沿各个方向复制"
   ]
  },
  {
   "cell_type": "code",
   "execution_count": 9,
   "id": "870c4a59",
   "metadata": {
    "ExecuteTime": {
     "end_time": "2022-06-04T15:09:29.006270Z",
     "start_time": "2022-06-04T15:09:28.998175Z"
    }
   },
   "outputs": [
    {
     "data": {
      "text/plain": [
       "array([[0, 1, 2],\n",
       "       [0, 1, 2]])"
      ]
     },
     "execution_count": 9,
     "metadata": {},
     "output_type": "execute_result"
    }
   ],
   "source": [
    "a = np.array([0,1,2])\n",
    "np.tile(a,(2,1)) #把a先沿x轴复制1倍，再把结果沿y轴复制两倍"
   ]
  },
  {
   "cell_type": "code",
   "execution_count": 10,
   "id": "b339569d",
   "metadata": {
    "ExecuteTime": {
     "end_time": "2022-06-04T15:10:54.491762Z",
     "start_time": "2022-06-04T15:10:54.479120Z"
    }
   },
   "outputs": [
    {
     "data": {
      "text/plain": [
       "array([0, 1, 2, 0, 1, 2])"
      ]
     },
     "execution_count": 10,
     "metadata": {},
     "output_type": "execute_result"
    }
   ],
   "source": [
    "np.tile(a, 2) #沿x轴复制2倍"
   ]
  },
  {
   "cell_type": "markdown",
   "id": "098c3104",
   "metadata": {},
   "source": [
    "np.linspace() 创建等差数列"
   ]
  },
  {
   "cell_type": "code",
   "execution_count": 11,
   "id": "da2fcecb",
   "metadata": {
    "ExecuteTime": {
     "end_time": "2022-06-04T15:12:19.509711Z",
     "start_time": "2022-06-04T15:12:19.497363Z"
    }
   },
   "outputs": [
    {
     "data": {
      "text/plain": [
       "array([ 0.,  1.,  2.,  3.,  4.,  5.,  6.,  7.,  8.,  9., 10.])"
      ]
     },
     "execution_count": 11,
     "metadata": {},
     "output_type": "execute_result"
    }
   ],
   "source": [
    "np.linspace(0,10,11) #第一个起始值，第二个终点值，第三个数量"
   ]
  },
  {
   "cell_type": "markdown",
   "id": "dc17c0d1",
   "metadata": {},
   "source": [
    "## 连接和分割数组"
   ]
  },
  {
   "cell_type": "markdown",
   "id": "feee35ae",
   "metadata": {},
   "source": [
    "1、np.concatenate() 可以获取数组的序列，并沿着输入轴将他们按顺序连接在一起。"
   ]
  },
  {
   "cell_type": "code",
   "execution_count": 13,
   "id": "d603d9f1",
   "metadata": {
    "ExecuteTime": {
     "end_time": "2022-06-04T15:16:30.684553Z",
     "start_time": "2022-06-04T15:16:30.664705Z"
    }
   },
   "outputs": [
    {
     "data": {
      "text/plain": [
       "array([[ 1,  2,  3],\n",
       "       [ 4,  5,  6],\n",
       "       [ 7,  8,  9],\n",
       "       [10, 11, 12]])"
      ]
     },
     "execution_count": 13,
     "metadata": {},
     "output_type": "execute_result"
    }
   ],
   "source": [
    "arr1 = np.array([[1,2,3],[4,5,6]])\n",
    "arr2 = np.array([[7,8,9],[10,11,12]])\n",
    "np.concatenate([arr1,arr2],axis=0)"
   ]
  },
  {
   "cell_type": "code",
   "execution_count": 14,
   "id": "7011cbeb",
   "metadata": {
    "ExecuteTime": {
     "end_time": "2022-06-04T15:16:49.077972Z",
     "start_time": "2022-06-04T15:16:49.067999Z"
    }
   },
   "outputs": [
    {
     "data": {
      "text/plain": [
       "array([[ 1,  2,  3,  7,  8,  9],\n",
       "       [ 4,  5,  6, 10, 11, 12]])"
      ]
     },
     "execution_count": 14,
     "metadata": {},
     "output_type": "execute_result"
    }
   ],
   "source": [
    "np.concatenate([arr1,arr2],axis=1)"
   ]
  },
  {
   "cell_type": "markdown",
   "id": "ae0b3fd2",
   "metadata": {},
   "source": [
    "2、split可以将数组沿轴向切片成多个数组。"
   ]
  },
  {
   "cell_type": "code",
   "execution_count": 16,
   "id": "14d1cb93",
   "metadata": {
    "ExecuteTime": {
     "end_time": "2022-06-04T15:18:35.211922Z",
     "start_time": "2022-06-04T15:18:35.190706Z"
    }
   },
   "outputs": [
    {
     "data": {
      "text/plain": [
       "[array([[1, 2, 3]]), array([[4, 5, 6]]), array([], shape=(0, 3), dtype=int32)]"
      ]
     },
     "execution_count": 16,
     "metadata": {},
     "output_type": "execute_result"
    }
   ],
   "source": [
    "np.split(arr1,[1,2]) #[1,2]表示将数组拆分时的索引位置"
   ]
  },
  {
   "cell_type": "markdown",
   "id": "c7afb920",
   "metadata": {},
   "source": [
    "3、数组后面追加数组"
   ]
  },
  {
   "cell_type": "code",
   "execution_count": 17,
   "id": "920c5efa",
   "metadata": {
    "ExecuteTime": {
     "end_time": "2022-06-04T15:22:47.096696Z",
     "start_time": "2022-06-04T15:22:47.079311Z"
    }
   },
   "outputs": [
    {
     "data": {
      "text/plain": [
       "array([[ 1,  2,  3],\n",
       "       [ 4,  5,  6],\n",
       "       [ 7,  8,  9],\n",
       "       [10, 11, 12]])"
      ]
     },
     "execution_count": 17,
     "metadata": {},
     "output_type": "execute_result"
    }
   ],
   "source": [
    "np.append(arr1,arr2,axis=0) #按行追加"
   ]
  },
  {
   "cell_type": "markdown",
   "id": "b62ac6b1",
   "metadata": {},
   "source": [
    "## broadcast（广播机制）"
   ]
  },
  {
   "cell_type": "markdown",
   "id": "6d7bafab",
   "metadata": {},
   "source": [
    "广播”指的是在不同维度的数组之间进行算术运算的一种执行机制，其通过将数据矢量化进行高效的运算。"
   ]
  },
  {
   "cell_type": "markdown",
   "id": "d7229eaa",
   "metadata": {},
   "source": [
    "通常只在对多个数组进行对应元素操作形状不同时，才会发生广播。\n",
    "那什么是对应元素进行操作呢？比如："
   ]
  },
  {
   "cell_type": "code",
   "execution_count": 5,
   "id": "bef97f0f",
   "metadata": {
    "ExecuteTime": {
     "end_time": "2023-05-24T06:34:54.601905Z",
     "start_time": "2023-05-24T06:34:54.586917Z"
    }
   },
   "outputs": [
    {
     "data": {
      "text/plain": [
       "array([2, 4, 6])"
      ]
     },
     "execution_count": 5,
     "metadata": {},
     "output_type": "execute_result"
    }
   ],
   "source": [
    "a = np.array([1,2,3])\n",
    "b = np.array([2,2,2])\n",
    "a*b \n",
    "# a和b对应元素相乘\n",
    "# a*b的结果是： [1*2,2*2,3*2]"
   ]
  },
  {
   "cell_type": "markdown",
   "id": "5986fc55",
   "metadata": {},
   "source": [
    "什么叫做形状不同呢？"
   ]
  },
  {
   "cell_type": "code",
   "execution_count": 7,
   "id": "4a6876ce",
   "metadata": {
    "ExecuteTime": {
     "end_time": "2023-05-24T06:36:01.986076Z",
     "start_time": "2023-05-24T06:36:01.971169Z"
    }
   },
   "outputs": [
    {
     "data": {
      "text/plain": [
       "array([2, 4, 6])"
      ]
     },
     "execution_count": 7,
     "metadata": {},
     "output_type": "execute_result"
    }
   ],
   "source": [
    "a = np.array([1,2,3])\n",
    "b = 2\n",
    "a*b #a是1维向量，b是标量，这就是形状不同\n",
    "# 结果也是：[1*2,2*2, 3*2]"
   ]
  },
  {
   "cell_type": "markdown",
   "id": "1ea8416c",
   "metadata": {},
   "source": [
    "这是因为发生了广播。b被填充为[2,2,2]\n",
    "然后a\\*b的效果变成了，[1,2,3]*[2,2,2]"
   ]
  },
  {
   "cell_type": "markdown",
   "id": "cc985c30",
   "metadata": {},
   "source": [
    "可以广播的几种情况："
   ]
  },
  {
   "cell_type": "markdown",
   "id": "881a9db9",
   "metadata": {},
   "source": [
    "假定只有两个数组进行操作，即A+B、A*B这种情况。"
   ]
  },
  {
   "cell_type": "markdown",
   "id": "2ca84a89",
   "metadata": {},
   "source": [
    "**两个数组各维度大小从后往前比对均一致**"
   ]
  },
  {
   "cell_type": "code",
   "execution_count": 8,
   "id": "4aecd27f",
   "metadata": {
    "ExecuteTime": {
     "end_time": "2023-05-24T06:45:56.681611Z",
     "start_time": "2023-05-24T06:45:56.666661Z"
    }
   },
   "outputs": [
    {
     "name": "stdout",
     "output_type": "stream",
     "text": [
      "(2, 5, 3, 4)\n",
      "(3, 4)\n"
     ]
    }
   ],
   "source": [
    "A = np.zeros((2,5,3,4))\n",
    "B = np.zeros((3,4))\n",
    "print((A+B).shape) # 输出 (2, 5, 3, 4)\n",
    "\n",
    "A = np.zeros((4))\n",
    "B = np.zeros((3,4))\n",
    "print((A+B).shape) # 输出(3,4)"
   ]
  },
  {
   "cell_type": "code",
   "execution_count": 9,
   "id": "db8b60de",
   "metadata": {
    "ExecuteTime": {
     "end_time": "2023-05-24T06:46:11.556847Z",
     "start_time": "2023-05-24T06:46:11.537377Z"
    }
   },
   "outputs": [
    {
     "ename": "ValueError",
     "evalue": "operands could not be broadcast together with shapes (2,5,3,4) (3,3) ",
     "output_type": "error",
     "traceback": [
      "\u001b[1;31m---------------------------------------------------------------------------\u001b[0m",
      "\u001b[1;31mValueError\u001b[0m                                Traceback (most recent call last)",
      "Cell \u001b[1;32mIn[9], line 3\u001b[0m\n\u001b[0;32m      1\u001b[0m A \u001b[38;5;241m=\u001b[39m np\u001b[38;5;241m.\u001b[39mzeros((\u001b[38;5;241m2\u001b[39m,\u001b[38;5;241m5\u001b[39m,\u001b[38;5;241m3\u001b[39m,\u001b[38;5;241m4\u001b[39m))\n\u001b[0;32m      2\u001b[0m B \u001b[38;5;241m=\u001b[39m np\u001b[38;5;241m.\u001b[39mzeros((\u001b[38;5;241m3\u001b[39m,\u001b[38;5;241m3\u001b[39m))\n\u001b[1;32m----> 3\u001b[0m \u001b[38;5;28mprint\u001b[39m((\u001b[43mA\u001b[49m\u001b[38;5;241;43m+\u001b[39;49m\u001b[43mB\u001b[49m)\u001b[38;5;241m.\u001b[39mshape)\n",
      "\u001b[1;31mValueError\u001b[0m: operands could not be broadcast together with shapes (2,5,3,4) (3,3) "
     ]
    }
   ],
   "source": [
    "A = np.zeros((2,5,3,4))\n",
    "B = np.zeros((3,3))\n",
    "print((A+B).shape)"
   ]
  },
  {
   "cell_type": "markdown",
   "id": "752bd323",
   "metadata": {},
   "source": [
    "为啥呢？因为最后一维的大小A是4，B是3，不一致。"
   ]
  },
  {
   "cell_type": "markdown",
   "id": "35ef65d1",
   "metadata": {},
   "source": [
    "**两个数组存在一些维度大小不相等时，有一个不相等数组的维度大小为1**"
   ]
  },
  {
   "cell_type": "code",
   "execution_count": 10,
   "id": "9ae231b7",
   "metadata": {
    "ExecuteTime": {
     "end_time": "2023-05-24T06:48:29.775204Z",
     "start_time": "2023-05-24T06:48:29.762247Z"
    }
   },
   "outputs": [
    {
     "name": "stdout",
     "output_type": "stream",
     "text": [
      "(2, 5, 3, 4)\n",
      "(2, 5, 3, 4)\n",
      "(3, 4)\n"
     ]
    }
   ],
   "source": [
    "A = np.zeros((2,5,3,4))\n",
    "B = np.zeros((3,1))\n",
    "print((A+B).shape) # 输出：(2, 5, 3, 4)\n",
    "\n",
    "A = np.zeros((2,5,3,4))\n",
    "B = np.zeros((2,1,1,4))\n",
    "print((A+B).shape) # 输出：(2, 5, 3, 4)\n",
    "\n",
    "A = np.zeros((1))\n",
    "B = np.zeros((3,4))\n",
    "print((A+B).shape) # 输出(3,4)"
   ]
  },
  {
   "cell_type": "code",
   "execution_count": 11,
   "id": "b2ba12d3",
   "metadata": {
    "ExecuteTime": {
     "end_time": "2023-05-24T06:49:18.918762Z",
     "start_time": "2023-05-24T06:49:18.897350Z"
    }
   },
   "outputs": [
    {
     "ename": "ValueError",
     "evalue": "operands could not be broadcast together with shapes (2,5,3,4) (2,4,1,4) ",
     "output_type": "error",
     "traceback": [
      "\u001b[1;31m---------------------------------------------------------------------------\u001b[0m",
      "\u001b[1;31mValueError\u001b[0m                                Traceback (most recent call last)",
      "Cell \u001b[1;32mIn[11], line 4\u001b[0m\n\u001b[0;32m      2\u001b[0m A \u001b[38;5;241m=\u001b[39m np\u001b[38;5;241m.\u001b[39mzeros((\u001b[38;5;241m2\u001b[39m,\u001b[38;5;241m5\u001b[39m,\u001b[38;5;241m3\u001b[39m,\u001b[38;5;241m4\u001b[39m))\n\u001b[0;32m      3\u001b[0m B \u001b[38;5;241m=\u001b[39m np\u001b[38;5;241m.\u001b[39mzeros((\u001b[38;5;241m2\u001b[39m,\u001b[38;5;241m4\u001b[39m,\u001b[38;5;241m1\u001b[39m,\u001b[38;5;241m4\u001b[39m))\n\u001b[1;32m----> 4\u001b[0m \u001b[38;5;28mprint\u001b[39m((\u001b[43mA\u001b[49m\u001b[38;5;241;43m+\u001b[39;49m\u001b[43mB\u001b[49m)\u001b[38;5;241m.\u001b[39mshape)\n",
      "\u001b[1;31mValueError\u001b[0m: operands could not be broadcast together with shapes (2,5,3,4) (2,4,1,4) "
     ]
    }
   ],
   "source": [
    "# 下面是报错案例\n",
    "A = np.zeros((2,5,3,4))\n",
    "B = np.zeros((2,4,1,4))\n",
    "print((A+B).shape)"
   ]
  },
  {
   "cell_type": "markdown",
   "id": "028eb1e7",
   "metadata": {},
   "source": [
    "为啥报错？因为A和B的第2维不相等。并且都不等于1."
   ]
  },
  {
   "cell_type": "markdown",
   "id": "2f5ae028",
   "metadata": {},
   "source": [
    "**使用numpy的广播机制代替for循环以提高效率**"
   ]
  },
  {
   "cell_type": "code",
   "execution_count": 17,
   "id": "a38204ec",
   "metadata": {
    "ExecuteTime": {
     "end_time": "2023-05-24T06:55:33.729559Z",
     "start_time": "2023-05-24T06:55:28.633971Z"
    }
   },
   "outputs": [
    {
     "name": "stdout",
     "output_type": "stream",
     "text": [
      "cost of broadcast:  0.042083740234375\n",
      "cost of _for_:  4.9777257442474365\n",
      "c2 - c1 == 0?:  True\n"
     ]
    }
   ],
   "source": [
    "def contrast(n,f,k):\n",
    "    import time\n",
    "    data = np.random.rand(n, f)\n",
    "    centers = data[:k]\n",
    "    t1 = time.time()\n",
    "    c1 = (data[:,:,None]-centers.T[None,:,:])**2\n",
    "    t2 = time.time()\n",
    "    print('cost of broadcast: ',str(t2-t1))\n",
    "    c2 = np.ones((n,f,k))-1\n",
    "    t1 = time.time()\n",
    "    for i in range(n):\n",
    "        for j in range(f):\n",
    "            for g in range(k):\n",
    "                c2[i,j,g] = (data[i,j]-centers[g,j])**2\n",
    "    t2 = time.time()\n",
    "    print('cost of _for_: ',str(t2-t1))\n",
    "    print('c2 - c1 == 0?: ',str((c2-c1).all()==0))\n",
    "\n",
    "def test_time_cost(n,f,k):\n",
    "    contrast(n,f,k)\n",
    "\n",
    "if __name__ == '__main__':\n",
    "    test_time_cost(200000,5,10)"
   ]
  },
  {
   "cell_type": "markdown",
   "id": "f7c68954",
   "metadata": {},
   "source": [
    "## 数组增加维度"
   ]
  },
  {
   "cell_type": "markdown",
   "id": "760231e8",
   "metadata": {},
   "source": [
    "np.newaxis的作用就是在这一位置增加一个一维，这一位置指的是np.newaxis所在的位置"
   ]
  },
  {
   "cell_type": "code",
   "execution_count": 19,
   "id": "c21edd81",
   "metadata": {
    "ExecuteTime": {
     "end_time": "2023-05-24T07:00:58.235456Z",
     "start_time": "2023-05-24T07:00:58.217098Z"
    }
   },
   "outputs": [
    {
     "name": "stdout",
     "output_type": "stream",
     "text": [
      "(4,)\n",
      "(4, 1)\n",
      "(1, 4)\n"
     ]
    }
   ],
   "source": [
    "a = np.array([0.0, 10.0, 20.0, 30.0])\n",
    "print(a.shape)\n",
    "b = a[:, np.newaxis]\n",
    "print(b.shape)\n",
    "c = a[np.newaxis, :]\n",
    "print(c.shape)"
   ]
  },
  {
   "cell_type": "markdown",
   "id": "02bd3b63",
   "metadata": {},
   "source": [
    "### newaxis本质"
   ]
  },
  {
   "cell_type": "markdown",
   "id": "78006d7b",
   "metadata": {},
   "source": [
    "np.newaxis 在使用和功能上等价于 None，其实就是 None 的一个别名。"
   ]
  },
  {
   "cell_type": "code",
   "execution_count": 20,
   "id": "d2caba04",
   "metadata": {
    "ExecuteTime": {
     "end_time": "2023-05-24T07:02:37.925374Z",
     "start_time": "2023-05-24T07:02:37.921424Z"
    }
   },
   "outputs": [
    {
     "data": {
      "text/plain": [
       "NoneType"
      ]
     },
     "execution_count": 20,
     "metadata": {},
     "output_type": "execute_result"
    }
   ],
   "source": [
    "type(np.newaxis)"
   ]
  },
  {
   "cell_type": "code",
   "execution_count": 21,
   "id": "7b7cc215",
   "metadata": {
    "ExecuteTime": {
     "end_time": "2023-05-24T07:02:47.307224Z",
     "start_time": "2023-05-24T07:02:47.297258Z"
    }
   },
   "outputs": [
    {
     "data": {
      "text/plain": [
       "True"
      ]
     },
     "execution_count": 21,
     "metadata": {},
     "output_type": "execute_result"
    }
   ],
   "source": [
    "np.newaxis == None"
   ]
  },
  {
   "cell_type": "code",
   "execution_count": 22,
   "id": "15413821",
   "metadata": {
    "ExecuteTime": {
     "end_time": "2023-05-24T07:03:39.936859Z",
     "start_time": "2023-05-24T07:03:39.921910Z"
    }
   },
   "outputs": [
    {
     "data": {
      "text/plain": [
       "array([[ 0.],\n",
       "       [10.],\n",
       "       [20.],\n",
       "       [30.]])"
      ]
     },
     "execution_count": 22,
     "metadata": {},
     "output_type": "execute_result"
    }
   ],
   "source": [
    "b = a[:, np.newaxis]\n",
    "b"
   ]
  },
  {
   "cell_type": "code",
   "execution_count": 23,
   "id": "7f5f0790",
   "metadata": {
    "ExecuteTime": {
     "end_time": "2023-05-24T07:03:53.106912Z",
     "start_time": "2023-05-24T07:03:53.089434Z"
    }
   },
   "outputs": [
    {
     "data": {
      "text/plain": [
       "array([[ 0.],\n",
       "       [10.],\n",
       "       [20.],\n",
       "       [30.]])"
      ]
     },
     "execution_count": 23,
     "metadata": {},
     "output_type": "execute_result"
    }
   ],
   "source": [
    "b = a[:, None]\n",
    "b"
   ]
  },
  {
   "cell_type": "markdown",
   "id": "257e6dbb",
   "metadata": {},
   "source": [
    "### 索引多维数组的某一列时返回的是一个行向量"
   ]
  },
  {
   "cell_type": "code",
   "execution_count": 24,
   "id": "46ff1573",
   "metadata": {
    "ExecuteTime": {
     "end_time": "2023-05-24T07:06:49.169555Z",
     "start_time": "2023-05-24T07:06:49.161582Z"
    }
   },
   "outputs": [
    {
     "data": {
      "text/plain": [
       "array([ 2,  6, 10])"
      ]
     },
     "execution_count": 24,
     "metadata": {},
     "output_type": "execute_result"
    }
   ],
   "source": [
    "X = np.array([[1, 2, 3, 4], [5, 6, 7, 8], [9, 10, 11, 12]])\n",
    "X[:, 1] #这里是一个行"
   ]
  },
  {
   "cell_type": "markdown",
   "id": "1fb55262",
   "metadata": {},
   "source": [
    "如果我索引多维数组的某一列时，返回的仍然是列的结构，一种正确的索引方式是："
   ]
  },
  {
   "cell_type": "code",
   "execution_count": 25,
   "id": "b5acf92b",
   "metadata": {
    "ExecuteTime": {
     "end_time": "2023-05-24T07:07:33.351555Z",
     "start_time": "2023-05-24T07:07:33.345574Z"
    }
   },
   "outputs": [
    {
     "data": {
      "text/plain": [
       "array([[ 2],\n",
       "       [ 6],\n",
       "       [10]])"
      ]
     },
     "execution_count": 25,
     "metadata": {},
     "output_type": "execute_result"
    }
   ],
   "source": [
    "X[:, 1][:, np.newaxis]"
   ]
  },
  {
   "cell_type": "markdown",
   "id": "db4b90d4",
   "metadata": {},
   "source": [
    "如果想实现第二列和第四列的拼接（层叠）："
   ]
  },
  {
   "cell_type": "code",
   "execution_count": 26,
   "id": "4c12f757",
   "metadata": {
    "ExecuteTime": {
     "end_time": "2023-05-24T07:08:37.335640Z",
     "start_time": "2023-05-24T07:08:37.328663Z"
    }
   },
   "outputs": [
    {
     "data": {
      "text/plain": [
       "array([[ 2,  4],\n",
       "       [ 6,  8],\n",
       "       [10, 12]])"
      ]
     },
     "execution_count": 26,
     "metadata": {},
     "output_type": "execute_result"
    }
   ],
   "source": [
    "X_sub = np.hstack([X[:, 1][:, np.newaxis], X[:, 3][:, np.newaxis]])   \n",
    "X_sub"
   ]
  },
  {
   "cell_type": "markdown",
   "id": "c7c9db5b",
   "metadata": {},
   "source": [
    "当然更为简单的方式还是使用切片："
   ]
  },
  {
   "cell_type": "code",
   "execution_count": 27,
   "id": "40c2a2d8",
   "metadata": {
    "ExecuteTime": {
     "end_time": "2023-05-24T07:08:54.515189Z",
     "start_time": "2023-05-24T07:08:54.497211Z"
    }
   },
   "outputs": [
    {
     "data": {
      "text/plain": [
       "array([[ 2,  4],\n",
       "       [ 6,  8],\n",
       "       [10, 12]])"
      ]
     },
     "execution_count": 27,
     "metadata": {},
     "output_type": "execute_result"
    }
   ],
   "source": [
    "X[:, [1, 3]]"
   ]
  },
  {
   "cell_type": "markdown",
   "id": "867e727d",
   "metadata": {},
   "source": [
    "## 数组去重"
   ]
  },
  {
   "cell_type": "markdown",
   "id": "6c4101a0",
   "metadata": {},
   "source": [
    "对于一维数组或者列表，np.unique() 函数 去除其中重复的元素 ，并按元素 由小到大 返回一个新的无元素重复的元组或者列表。"
   ]
  },
  {
   "cell_type": "markdown",
   "id": "a2bb2aca",
   "metadata": {},
   "source": [
    "`numpy.unique(arr, return_index, return_inverse, return_counts)\n",
    "`"
   ]
  },
  {
   "cell_type": "markdown",
   "id": "515e7c74",
   "metadata": {},
   "source": [
    "arr：输入数组，如果不是一维数组则会展开\n",
    "return_index：如果为 true，返回新列表元素在旧列表中的位置（下标），并以列表形式存储。\n",
    "return_inverse：如果为true，返回旧列表元素在新列表中的位置（下标），并以列表形式存储。\n",
    "return_counts：如果为 true，返回去重数组中的元素在原数组中的出现次数。"
   ]
  },
  {
   "cell_type": "code",
   "execution_count": 2,
   "id": "11c3fc70",
   "metadata": {
    "ExecuteTime": {
     "end_time": "2024-05-09T02:28:53.754321Z",
     "start_time": "2024-05-09T02:28:53.746401Z"
    }
   },
   "outputs": [
    {
     "name": "stdout",
     "output_type": "stream",
     "text": [
      "[1 2 3 4 5]\n",
      "______\n",
      "[1 2 3 4 5]\n",
      "[0 1 4 5 3]\n",
      "______\n",
      "[1 2 3 4 5]\n",
      "[0 1 1 4 2 3 2]\n",
      "[1 2 2 5 3 4 3]\n",
      "______\n",
      "{1: 1, 2: 2, 3: 2, 4: 1, 5: 1}\n",
      "______\n",
      "[1 2 3 4 5]\n",
      "['asd' 'asdfds' 'fgfh' 'wrh']\n"
     ]
    }
   ],
   "source": [
    "import numpy as np\n",
    "A = [1, 2, 2, 5, 3, 4, 3]\n",
    "a = np.unique(A)\n",
    "print(a)\n",
    "print(\"______\")\n",
    "\n",
    "a, indices = np.unique(A, return_index=True)   # 返回新列表元素在旧列表中的位置（下标）\n",
    "print(a)\t\t # 列表\n",
    "print(indices)\t # 下标\n",
    "print(\"______\")\n",
    "\n",
    "a, indices = np.unique(A, return_inverse=True)   # 旧列表的元素在新列表的位置\n",
    "print(a)\n",
    "print(indices)\n",
    "print(a[indices])     # 使用下标重构原数组\n",
    "print(\"______\")\n",
    "\n",
    "unique, counts = np.unique(A, return_counts=True)    # 每个元素在旧列表里各自出现了几次\n",
    "print(dict(zip(unique, counts)))\n",
    "print(\"______\")\n",
    "\n",
    "B = ([1, 2], [2, 5], [3, 4])\n",
    "b = np.unique(B)\n",
    "C= ['fgfh','asd','fgfh','asdfds','wrh']\n",
    "c= np.unique(C)\n",
    "print(b)\n",
    "print(c)"
   ]
  },
  {
   "cell_type": "markdown",
   "id": "f1538aa8",
   "metadata": {},
   "source": [
    "## 常用函数"
   ]
  },
  {
   "cell_type": "markdown",
   "id": "37f70c96",
   "metadata": {},
   "source": [
    "### np.percentile"
   ]
  },
  {
   "cell_type": "markdown",
   "id": "0ab20c34",
   "metadata": {},
   "source": [
    "np.percentile 函数的基本语法如下：\n",
    "\n",
    "import numpy as np\n",
    "\n",
    "np.percentile(a, q, axis=None, interpolation='linear')\n",
    "\n",
    "参数解释\n",
    "- a：输入数组，可以是列表、元组或 NumPy 数组。\n",
    "- q：要计算的百分位数，可以是单个值或一个包含多个百分位数的列表。百分位数的范围是 0 到 100。\n",
    "- axis：指定计算百分位数的轴。默认是 None，表示在整个数组上计算百分位数。\n",
    "- interpolation：指定插值方法。默认是 'linear'，表示线性插值。其他选项包括 'lower'、'higher'、'midpoint' 和 'nearest'。"
   ]
  },
  {
   "cell_type": "code",
   "execution_count": 1,
   "id": "68a36c18",
   "metadata": {
    "ExecuteTime": {
     "end_time": "2024-10-24T03:36:36.636775Z",
     "start_time": "2024-10-24T03:36:36.625629Z"
    }
   },
   "outputs": [
    {
     "name": "stdout",
     "output_type": "stream",
     "text": [
      "中位数: 5.5\n",
      "四分位数: [3.25 7.75]\n"
     ]
    }
   ],
   "source": [
    "import numpy as np\n",
    "\n",
    "# 示例数据\n",
    "data = [1, 2, 3, 4, 5, 6, 7, 8, 9, 10]\n",
    "\n",
    "# 计算第 50 百分位数（中位数）\n",
    "median = np.percentile(data, 50)\n",
    "print(f\"中位数: {median}\")\n",
    "\n",
    "# 计算第 25 和第 75 百分位数（四分位数）\n",
    "quartiles = np.percentile(data, [25, 75])\n",
    "print(f\"四分位数: {quartiles}\")"
   ]
  },
  {
   "cell_type": "markdown",
   "id": "2067cf43",
   "metadata": {},
   "source": [
    "### np.nan_to_num"
   ]
  },
  {
   "cell_type": "markdown",
   "id": "ec2cb131",
   "metadata": {},
   "source": [
    "numpy.nan_to_num(x, copy=True, nan=0.0, posinf=None, neginf=None)\n",
    "\n",
    "使用0代替数组x中的nan元素，使用有限的数字代替inf元素(默认行为)  \n",
    "或者用户使用nan、posinf和neginf关键字来定义数字"
   ]
  },
  {
   "cell_type": "code",
   "execution_count": 3,
   "id": "77d65d8b",
   "metadata": {
    "ExecuteTime": {
     "end_time": "2024-11-05T10:08:34.136935Z",
     "start_time": "2024-11-05T10:08:34.131162Z"
    }
   },
   "outputs": [
    {
     "data": {
      "text/plain": [
       "array([ 1.79769313e+308, -1.79769313e+308,  0.00000000e+000,\n",
       "       -1.28000000e+002,  1.28000000e+002])"
      ]
     },
     "execution_count": 3,
     "metadata": {},
     "output_type": "execute_result"
    }
   ],
   "source": [
    "x = np.array([np.inf, -np.inf, np.nan, -128, 128])\n",
    "np.nan_to_num(x)"
   ]
  },
  {
   "cell_type": "code",
   "execution_count": 4,
   "id": "b2744db8",
   "metadata": {
    "ExecuteTime": {
     "end_time": "2024-11-05T10:08:48.151647Z",
     "start_time": "2024-11-05T10:08:48.146913Z"
    }
   },
   "outputs": [
    {
     "data": {
      "text/plain": [
       "1.7976931348623157e+308"
      ]
     },
     "execution_count": 4,
     "metadata": {},
     "output_type": "execute_result"
    }
   ],
   "source": [
    "np.nan_to_num(np.inf) "
   ]
  },
  {
   "cell_type": "code",
   "execution_count": 5,
   "id": "2f2ff1cc",
   "metadata": {
    "ExecuteTime": {
     "end_time": "2024-11-05T10:09:32.793505Z",
     "start_time": "2024-11-05T10:09:32.788277Z"
    }
   },
   "outputs": [
    {
     "data": {
      "text/plain": [
       "-1.7976931348623157e+308"
      ]
     },
     "execution_count": 5,
     "metadata": {},
     "output_type": "execute_result"
    }
   ],
   "source": [
    "np.nan_to_num(-np.inf) "
   ]
  },
  {
   "cell_type": "markdown",
   "id": "05a853d4",
   "metadata": {},
   "source": [
    "### np.select"
   ]
  },
  {
   "cell_type": "markdown",
   "id": "313ae18b",
   "metadata": {},
   "source": [
    "np.select 是 NumPy 提供的一个条件选择函数，它允许基于多个条件从不同选项中选择元素。\n",
    "\n",
    "语法：  \n",
    "`np.select(condlist, choicelist, default=0) `   \n",
    "condlist: 条件列表，每个元素是一个布尔数组，表示条件。  \n",
    "choicelist: 选择列表，包含与条件对应的值或数组。  \n",
    "default: 如果所有条件都不满足，返回的默认值。\n",
    "\n",
    "工作原理：  \n",
    "np.select 会从 condlist 中找到第一个为 True 的条件，然后从 choicelist 中选取相应的值。  \n",
    "如果没有任何条件为 True，则返回 default 值。"
   ]
  },
  {
   "cell_type": "code",
   "execution_count": 1,
   "id": "f85365bd",
   "metadata": {
    "ExecuteTime": {
     "end_time": "2024-12-04T05:41:17.233916Z",
     "start_time": "2024-12-04T05:41:17.227810Z"
    }
   },
   "outputs": [
    {
     "name": "stdout",
     "output_type": "stream",
     "text": [
      "[ 10  20 300 400  -1]\n"
     ]
    }
   ],
   "source": [
    "import numpy as np\n",
    "\n",
    "# 定义输入数组\n",
    "x = np.array([1, 2, 3, 4, 5])\n",
    "\n",
    "# 定义条件列表\n",
    "conditions = [\n",
    "    x < 3,         # 小于 3 的元素\n",
    "    (x >= 3) & (x < 5)  # 大于等于 3 且小于 5 的元素\n",
    "]\n",
    "\n",
    "# 定义对应的选择值\n",
    "choices = [\n",
    "    x * 10,        # 对应条件 1，值乘以 10\n",
    "    x * 100        # 对应条件 2，值乘以 100\n",
    "]\n",
    "\n",
    "# 应用 np.select\n",
    "result = np.select(conditions, choices, default=-1)\n",
    "print(result)"
   ]
  },
  {
   "cell_type": "code",
   "execution_count": 2,
   "id": "ff6416f4",
   "metadata": {
    "ExecuteTime": {
     "end_time": "2024-12-04T05:42:03.906225Z",
     "start_time": "2024-12-04T05:42:02.579369Z"
    }
   },
   "outputs": [
    {
     "name": "stdout",
     "output_type": "stream",
     "text": [
      "    A  B           C\n",
      "0  10  1  Category 1\n",
      "1  20  2  Category 2\n",
      "2  30  3  Category 2\n",
      "3  40  4  Category 3\n",
      "4  50  5  Category 3\n"
     ]
    }
   ],
   "source": [
    "import pandas as pd\n",
    "import numpy as np\n",
    "\n",
    "# 创建数据框\n",
    "df = pd.DataFrame({\n",
    "    'A': [10, 20, 30, 40, 50],\n",
    "    'B': [1, 2, 3, 4, 5]\n",
    "})\n",
    "\n",
    "# 定义条件列表\n",
    "conditions = [\n",
    "    (df['A'] < 20) & (df['B'] < 2),         # 条件 1：A < 20 且 B < 2\n",
    "    (df['A'] >= 20) & (df['A'] < 40),       # 条件 2：20 <= A < 40\n",
    "    (df['B'] >= 4)                          # 条件 3：B >= 4\n",
    "]\n",
    "\n",
    "# 定义对应的选择列表\n",
    "choices = [\n",
    "    'Category 1',    # 对应条件 1\n",
    "    'Category 2',    # 对应条件 2\n",
    "    'Category 3'     # 对应条件 3\n",
    "]\n",
    "\n",
    "# 应用 np.select，创建新列 C\n",
    "df['C'] = np.select(conditions, choices, default='Other')\n",
    "\n",
    "print(df)"
   ]
  },
  {
   "cell_type": "markdown",
   "id": "f0e7de1d",
   "metadata": {},
   "source": [
    "### np.where"
   ]
  },
  {
   "cell_type": "markdown",
   "id": "a606168e",
   "metadata": {},
   "source": [
    "np.where 是 NumPy 提供的一个条件选择函数，常用于基于布尔条件从数组或数据框中选择元素。\n",
    "\n",
    "语法：  \n",
    "`np.where(condition, x, y)`  \n",
    "condition：布尔条件，当为 True 时选择 x，否则选择 y。  \n",
    "x：满足条件时返回的值或数组。  \n",
    "y：不满足条件时返回的值或数组。  "
   ]
  },
  {
   "cell_type": "code",
   "execution_count": 3,
   "id": "cd7640c9",
   "metadata": {
    "ExecuteTime": {
     "end_time": "2024-12-04T05:45:18.066669Z",
     "start_time": "2024-12-04T05:45:18.061165Z"
    }
   },
   "outputs": [
    {
     "name": "stdout",
     "output_type": "stream",
     "text": [
      "[-1 -2 -3 40 50]\n"
     ]
    }
   ],
   "source": [
    "import numpy as np\n",
    "\n",
    "arr = np.array([1, 2, 3, 4, 5])\n",
    "result = np.where(arr > 3, arr * 10, arr * -1)\n",
    "print(result)"
   ]
  },
  {
   "cell_type": "markdown",
   "id": "77419799",
   "metadata": {},
   "source": [
    "可以将 np.where 与 Pandas 一起使用，在数据框中基于某个条件生成新列。"
   ]
  },
  {
   "cell_type": "code",
   "execution_count": 4,
   "id": "f3a4cfaa",
   "metadata": {
    "ExecuteTime": {
     "end_time": "2024-12-04T05:46:20.742472Z",
     "start_time": "2024-12-04T05:46:20.734339Z"
    }
   },
   "outputs": [
    {
     "name": "stdout",
     "output_type": "stream",
     "text": [
      "   A   B     C\n",
      "0  1  10   Low\n",
      "1  2  20   Low\n",
      "2  3  30   Low\n",
      "3  4  40  High\n",
      "4  5  50  High\n"
     ]
    }
   ],
   "source": [
    "import pandas as pd\n",
    "import numpy as np\n",
    "\n",
    "# 创建数据框\n",
    "df = pd.DataFrame({\n",
    "    'A': [1, 2, 3, 4, 5],\n",
    "    'B': [10, 20, 30, 40, 50]\n",
    "})\n",
    "\n",
    "# 基于条件创建新列 C\n",
    "df['C'] = np.where(df['A'] > 3, 'High', 'Low')\n",
    "\n",
    "print(df)"
   ]
  },
  {
   "cell_type": "markdown",
   "id": "7509faaf",
   "metadata": {},
   "source": [
    "当只传入布尔条件时，np.where 会返回满足条件的元素索引。"
   ]
  },
  {
   "cell_type": "code",
   "execution_count": 5,
   "id": "9abb6de8",
   "metadata": {
    "ExecuteTime": {
     "end_time": "2024-12-04T05:50:09.738447Z",
     "start_time": "2024-12-04T05:50:09.733799Z"
    }
   },
   "outputs": [
    {
     "name": "stdout",
     "output_type": "stream",
     "text": [
      "(array([2, 3, 4], dtype=int64),)\n"
     ]
    }
   ],
   "source": [
    "import numpy as np\n",
    "\n",
    "arr = np.array([10, 20, 30, 40, 50])\n",
    "\n",
    "# 找到大于 25 的元素索引\n",
    "indices = np.where(arr > 25)\n",
    "print(indices)"
   ]
  },
  {
   "cell_type": "markdown",
   "id": "820d7069",
   "metadata": {},
   "source": [
    "# Pandas入门"
   ]
  },
  {
   "cell_type": "markdown",
   "id": "151c8d26",
   "metadata": {},
   "source": [
    "pandas采用了很多numpy的代码风格，但最大的不同在于pandas是用来处理表格型或异质型数据的，而numpy更适合处理同质型的数值类数组数据。"
   ]
  },
  {
   "cell_type": "code",
   "execution_count": 1,
   "id": "5c5a196c",
   "metadata": {
    "ExecuteTime": {
     "end_time": "2024-12-16T08:18:53.602759Z",
     "start_time": "2024-12-16T08:18:52.949688Z"
    }
   },
   "outputs": [],
   "source": [
    "import pandas as pd\n",
    "from pandas import DataFrame, Series"
   ]
  },
  {
   "cell_type": "markdown",
   "id": "c8e07d75",
   "metadata": {},
   "source": [
    "## Series"
   ]
  },
  {
   "cell_type": "markdown",
   "id": "d81fc446",
   "metadata": {},
   "source": [
    "Series是一种一维的数组型对象，它包含了一个值序列，并且包含了数据标签，成为索引，最简单的序列可以仅仅由一个数组组成。"
   ]
  },
  {
   "cell_type": "code",
   "execution_count": 3,
   "id": "8ce4085b",
   "metadata": {
    "ExecuteTime": {
     "end_time": "2024-06-13T04:09:37.079667Z",
     "start_time": "2024-06-13T04:09:37.072402Z"
    }
   },
   "outputs": [
    {
     "data": {
      "text/plain": [
       "d    4.0\n",
       "b    7.0\n",
       "a   -5.0\n",
       "c    NaN\n",
       "dtype: float64"
      ]
     },
     "execution_count": 3,
     "metadata": {},
     "output_type": "execute_result"
    }
   ],
   "source": [
    "obj = pd.Series([4,7,-5,None], index = ['d','b','a','c'])\n",
    "obj"
   ]
  },
  {
   "cell_type": "markdown",
   "id": "23da72d9",
   "metadata": {},
   "source": [
    "交互式环境中Series的字符串表示，索引在左边，值在右边，可通过values属性和index属性分别获得Series对象的值和索引。"
   ]
  },
  {
   "cell_type": "code",
   "execution_count": 3,
   "id": "29711e63",
   "metadata": {
    "ExecuteTime": {
     "end_time": "2022-06-05T00:16:34.767903Z",
     "start_time": "2022-06-05T00:16:34.752311Z"
    }
   },
   "outputs": [
    {
     "data": {
      "text/plain": [
       "array([ 4,  7, -5,  3], dtype=int64)"
      ]
     },
     "execution_count": 3,
     "metadata": {},
     "output_type": "execute_result"
    }
   ],
   "source": [
    "obj.values"
   ]
  },
  {
   "cell_type": "code",
   "execution_count": 4,
   "id": "5946764b",
   "metadata": {
    "ExecuteTime": {
     "end_time": "2022-06-05T00:16:42.982875Z",
     "start_time": "2022-06-05T00:16:42.963876Z"
    }
   },
   "outputs": [
    {
     "data": {
      "text/plain": [
       "Index(['d', 'b', 'a', 'c'], dtype='object')"
      ]
     },
     "execution_count": 4,
     "metadata": {},
     "output_type": "execute_result"
    }
   ],
   "source": [
    "obj.index"
   ]
  },
  {
   "cell_type": "markdown",
   "id": "e119c4fe",
   "metadata": {},
   "source": [
    "可以使用字典生成一个Series，pd.Series(字典)。"
   ]
  },
  {
   "cell_type": "markdown",
   "id": "0dd25e47",
   "metadata": {},
   "source": [
    "Series的索引可以通过按位置赋值的方式进行改变，obj.index = [值]。"
   ]
  },
  {
   "cell_type": "markdown",
   "id": "8914dcc2",
   "metadata": {},
   "source": [
    "## DataFrame"
   ]
  },
  {
   "cell_type": "markdown",
   "id": "c5f924f5",
   "metadata": {},
   "source": [
    "DataFrame表示的是矩阵的数据表，它包含已排序的列集合，每一列可以是不同的值类型，DataFrame既有行索引，也有列索引，DataFrame是二维的。"
   ]
  },
  {
   "cell_type": "markdown",
   "id": "9fb85ecb",
   "metadata": {},
   "source": [
    "### 构建DataFrame"
   ]
  },
  {
   "cell_type": "markdown",
   "id": "903e4330",
   "metadata": {},
   "source": [
    "有多种方式构建DataFrame，其中最常用的是利用包含等长度列表或numpy数组的字典来形成。行索引（index），列索引（columns），值（values）。"
   ]
  },
  {
   "cell_type": "code",
   "execution_count": 2,
   "id": "61649387",
   "metadata": {
    "ExecuteTime": {
     "end_time": "2024-12-16T08:18:57.422013Z",
     "start_time": "2024-12-16T08:18:57.404926Z"
    }
   },
   "outputs": [
    {
     "data": {
      "text/html": [
       "<div>\n",
       "<style scoped>\n",
       "    .dataframe tbody tr th:only-of-type {\n",
       "        vertical-align: middle;\n",
       "    }\n",
       "\n",
       "    .dataframe tbody tr th {\n",
       "        vertical-align: top;\n",
       "    }\n",
       "\n",
       "    .dataframe thead th {\n",
       "        text-align: right;\n",
       "    }\n",
       "</style>\n",
       "<table border=\"1\" class=\"dataframe\">\n",
       "  <thead>\n",
       "    <tr style=\"text-align: right;\">\n",
       "      <th></th>\n",
       "      <th>state</th>\n",
       "      <th>year</th>\n",
       "    </tr>\n",
       "  </thead>\n",
       "  <tbody>\n",
       "    <tr>\n",
       "      <th>0</th>\n",
       "      <td>ohio</td>\n",
       "      <td>NaN</td>\n",
       "    </tr>\n",
       "    <tr>\n",
       "      <th>1</th>\n",
       "      <td>ohio</td>\n",
       "      <td>2001.0</td>\n",
       "    </tr>\n",
       "    <tr>\n",
       "      <th>2</th>\n",
       "      <td>None</td>\n",
       "      <td>2001.0</td>\n",
       "    </tr>\n",
       "  </tbody>\n",
       "</table>\n",
       "</div>"
      ],
      "text/plain": [
       "  state    year\n",
       "0  ohio     NaN\n",
       "1  ohio  2001.0\n",
       "2  None  2001.0"
      ]
     },
     "execution_count": 2,
     "metadata": {},
     "output_type": "execute_result"
    }
   ],
   "source": [
    "data = {'state':['ohio', 'ohio', None],\n",
    "        'year':[None, 2001, 2001]}\n",
    "frame = pd.DataFrame(data)\n",
    "frame"
   ]
  },
  {
   "cell_type": "code",
   "execution_count": 3,
   "id": "123ec7f9",
   "metadata": {
    "ExecuteTime": {
     "end_time": "2024-12-16T08:19:00.308595Z",
     "start_time": "2024-12-16T08:19:00.297886Z"
    }
   },
   "outputs": [
    {
     "data": {
      "text/plain": [
       "array([  nan, 2001., 2001.])"
      ]
     },
     "execution_count": 3,
     "metadata": {},
     "output_type": "execute_result"
    }
   ],
   "source": [
    "frame['year'].values"
   ]
  },
  {
   "cell_type": "markdown",
   "id": "4a9184b5",
   "metadata": {},
   "source": [
    "### 判断DataFrame为空"
   ]
  },
  {
   "cell_type": "code",
   "execution_count": 4,
   "id": "b147a9aa",
   "metadata": {
    "ExecuteTime": {
     "end_time": "2024-12-16T08:19:50.704017Z",
     "start_time": "2024-12-16T08:19:50.699943Z"
    }
   },
   "outputs": [
    {
     "name": "stdout",
     "output_type": "stream",
     "text": [
      "frame非空\n"
     ]
    }
   ],
   "source": [
    "if frame.empty:\n",
    "    print(\"frame为空！\")\n",
    "else:\n",
    "    print(\"frame非空\")"
   ]
  },
  {
   "cell_type": "markdown",
   "id": "14409e68",
   "metadata": {},
   "source": [
    "### DataFrame切片"
   ]
  },
  {
   "cell_type": "markdown",
   "id": "a6d7f7e1-8264-468d-96db-fb42e5be6bc9",
   "metadata": {},
   "source": [
    "#### 普通切片"
   ]
  },
  {
   "cell_type": "markdown",
   "id": "68794f9a",
   "metadata": {},
   "source": [
    "1、DataFrame的列会按照指定顺序排列，如果你指定了列的顺序。"
   ]
  },
  {
   "cell_type": "code",
   "execution_count": 3,
   "id": "43245a2a",
   "metadata": {
    "ExecuteTime": {
     "end_time": "2023-11-28T02:54:13.666956Z",
     "start_time": "2023-11-28T02:54:13.653385Z"
    }
   },
   "outputs": [
    {
     "data": {
      "text/html": [
       "<div>\n",
       "<style scoped>\n",
       "    .dataframe tbody tr th:only-of-type {\n",
       "        vertical-align: middle;\n",
       "    }\n",
       "\n",
       "    .dataframe tbody tr th {\n",
       "        vertical-align: top;\n",
       "    }\n",
       "\n",
       "    .dataframe thead th {\n",
       "        text-align: right;\n",
       "    }\n",
       "</style>\n",
       "<table border=\"1\" class=\"dataframe\">\n",
       "  <thead>\n",
       "    <tr style=\"text-align: right;\">\n",
       "      <th></th>\n",
       "      <th>year</th>\n",
       "      <th>state</th>\n",
       "    </tr>\n",
       "  </thead>\n",
       "  <tbody>\n",
       "    <tr>\n",
       "      <th>0</th>\n",
       "      <td>2000</td>\n",
       "      <td>ohio</td>\n",
       "    </tr>\n",
       "    <tr>\n",
       "      <th>1</th>\n",
       "      <td>2001</td>\n",
       "      <td>ohio</td>\n",
       "    </tr>\n",
       "    <tr>\n",
       "      <th>2</th>\n",
       "      <td>2002</td>\n",
       "      <td>nevada</td>\n",
       "    </tr>\n",
       "  </tbody>\n",
       "</table>\n",
       "</div>"
      ],
      "text/plain": [
       "   year   state\n",
       "0  2000    ohio\n",
       "1  2001    ohio\n",
       "2  2002  nevada"
      ]
     },
     "execution_count": 3,
     "metadata": {},
     "output_type": "execute_result"
    }
   ],
   "source": [
    "pd.DataFrame(data, columns = ['year', 'state'])"
   ]
  },
  {
   "cell_type": "markdown",
   "id": "3063468e",
   "metadata": {},
   "source": [
    "2、DataFrame中的一列，可以按照字典型标记，或属性那样检索为Series。"
   ]
  },
  {
   "cell_type": "code",
   "execution_count": 9,
   "id": "7a1a58d4",
   "metadata": {
    "ExecuteTime": {
     "end_time": "2022-06-05T00:29:14.248281Z",
     "start_time": "2022-06-05T00:29:14.235077Z"
    }
   },
   "outputs": [
    {
     "data": {
      "text/plain": [
       "0      ohio\n",
       "1      ohio\n",
       "2    nevada\n",
       "Name: state, dtype: object"
      ]
     },
     "execution_count": 9,
     "metadata": {},
     "output_type": "execute_result"
    }
   ],
   "source": [
    "frame['state']"
   ]
  },
  {
   "cell_type": "markdown",
   "id": "7e4db86b",
   "metadata": {},
   "source": [
    "3、行可以通过位置或特殊属性loc进行选取。"
   ]
  },
  {
   "cell_type": "code",
   "execution_count": 10,
   "id": "51374946",
   "metadata": {
    "ExecuteTime": {
     "end_time": "2022-06-05T00:30:25.927501Z",
     "start_time": "2022-06-05T00:30:25.913632Z"
    }
   },
   "outputs": [
    {
     "data": {
      "text/plain": [
       "state    ohio\n",
       "year     2000\n",
       "Name: 0, dtype: object"
      ]
     },
     "execution_count": 10,
     "metadata": {},
     "output_type": "execute_result"
    }
   ],
   "source": [
    "frame.loc[0]"
   ]
  },
  {
   "cell_type": "markdown",
   "id": "d2d7a848",
   "metadata": {},
   "source": [
    "4、列的引用可以修改，可以对列赋值为标量或值数组，如果被赋值的列不存在，则会生成一个新列。"
   ]
  },
  {
   "cell_type": "code",
   "execution_count": 14,
   "id": "2bb0be3b",
   "metadata": {
    "ExecuteTime": {
     "end_time": "2022-06-05T00:33:56.553093Z",
     "start_time": "2022-06-05T00:33:56.540094Z"
    }
   },
   "outputs": [
    {
     "data": {
      "text/html": [
       "<div>\n",
       "<style scoped>\n",
       "    .dataframe tbody tr th:only-of-type {\n",
       "        vertical-align: middle;\n",
       "    }\n",
       "\n",
       "    .dataframe tbody tr th {\n",
       "        vertical-align: top;\n",
       "    }\n",
       "\n",
       "    .dataframe thead th {\n",
       "        text-align: right;\n",
       "    }\n",
       "</style>\n",
       "<table border=\"1\" class=\"dataframe\">\n",
       "  <thead>\n",
       "    <tr style=\"text-align: right;\">\n",
       "      <th></th>\n",
       "      <th>state</th>\n",
       "      <th>year</th>\n",
       "      <th>debt</th>\n",
       "    </tr>\n",
       "  </thead>\n",
       "  <tbody>\n",
       "    <tr>\n",
       "      <th>0</th>\n",
       "      <td>ohio</td>\n",
       "      <td>2000</td>\n",
       "      <td>16.5</td>\n",
       "    </tr>\n",
       "    <tr>\n",
       "      <th>1</th>\n",
       "      <td>ohio</td>\n",
       "      <td>2001</td>\n",
       "      <td>16.5</td>\n",
       "    </tr>\n",
       "    <tr>\n",
       "      <th>2</th>\n",
       "      <td>nevada</td>\n",
       "      <td>2002</td>\n",
       "      <td>16.5</td>\n",
       "    </tr>\n",
       "  </tbody>\n",
       "</table>\n",
       "</div>"
      ],
      "text/plain": [
       "    state  year  debt\n",
       "0    ohio  2000  16.5\n",
       "1    ohio  2001  16.5\n",
       "2  nevada  2002  16.5"
      ]
     },
     "execution_count": 14,
     "metadata": {},
     "output_type": "execute_result"
    }
   ],
   "source": [
    "frame['debt'] = 16.5\n",
    "frame"
   ]
  },
  {
   "cell_type": "markdown",
   "id": "3c895f2e",
   "metadata": {},
   "source": [
    "5、del关键字可以像在字典中那样删除列。"
   ]
  },
  {
   "cell_type": "code",
   "execution_count": 15,
   "id": "6f3addca",
   "metadata": {
    "ExecuteTime": {
     "end_time": "2022-06-05T00:33:59.246646Z",
     "start_time": "2022-06-05T00:33:59.230232Z"
    }
   },
   "outputs": [
    {
     "data": {
      "text/html": [
       "<div>\n",
       "<style scoped>\n",
       "    .dataframe tbody tr th:only-of-type {\n",
       "        vertical-align: middle;\n",
       "    }\n",
       "\n",
       "    .dataframe tbody tr th {\n",
       "        vertical-align: top;\n",
       "    }\n",
       "\n",
       "    .dataframe thead th {\n",
       "        text-align: right;\n",
       "    }\n",
       "</style>\n",
       "<table border=\"1\" class=\"dataframe\">\n",
       "  <thead>\n",
       "    <tr style=\"text-align: right;\">\n",
       "      <th></th>\n",
       "      <th>state</th>\n",
       "      <th>year</th>\n",
       "    </tr>\n",
       "  </thead>\n",
       "  <tbody>\n",
       "    <tr>\n",
       "      <th>0</th>\n",
       "      <td>ohio</td>\n",
       "      <td>2000</td>\n",
       "    </tr>\n",
       "    <tr>\n",
       "      <th>1</th>\n",
       "      <td>ohio</td>\n",
       "      <td>2001</td>\n",
       "    </tr>\n",
       "    <tr>\n",
       "      <th>2</th>\n",
       "      <td>nevada</td>\n",
       "      <td>2002</td>\n",
       "    </tr>\n",
       "  </tbody>\n",
       "</table>\n",
       "</div>"
      ],
      "text/plain": [
       "    state  year\n",
       "0    ohio  2000\n",
       "1    ohio  2001\n",
       "2  nevada  2002"
      ]
     },
     "execution_count": 15,
     "metadata": {},
     "output_type": "execute_result"
    }
   ],
   "source": [
    "del frame['debt']\n",
    "frame"
   ]
  },
  {
   "cell_type": "code",
   "execution_count": 16,
   "id": "cc5778c5",
   "metadata": {
    "ExecuteTime": {
     "end_time": "2022-06-05T00:34:18.873902Z",
     "start_time": "2022-06-05T00:34:18.849932Z"
    }
   },
   "outputs": [
    {
     "data": {
      "text/html": [
       "<div>\n",
       "<style scoped>\n",
       "    .dataframe tbody tr th:only-of-type {\n",
       "        vertical-align: middle;\n",
       "    }\n",
       "\n",
       "    .dataframe tbody tr th {\n",
       "        vertical-align: top;\n",
       "    }\n",
       "\n",
       "    .dataframe thead th {\n",
       "        text-align: right;\n",
       "    }\n",
       "</style>\n",
       "<table border=\"1\" class=\"dataframe\">\n",
       "  <thead>\n",
       "    <tr style=\"text-align: right;\">\n",
       "      <th></th>\n",
       "      <th>0</th>\n",
       "      <th>1</th>\n",
       "      <th>2</th>\n",
       "    </tr>\n",
       "  </thead>\n",
       "  <tbody>\n",
       "    <tr>\n",
       "      <th>state</th>\n",
       "      <td>ohio</td>\n",
       "      <td>ohio</td>\n",
       "      <td>nevada</td>\n",
       "    </tr>\n",
       "    <tr>\n",
       "      <th>year</th>\n",
       "      <td>2000</td>\n",
       "      <td>2001</td>\n",
       "      <td>2002</td>\n",
       "    </tr>\n",
       "  </tbody>\n",
       "</table>\n",
       "</div>"
      ],
      "text/plain": [
       "          0     1       2\n",
       "state  ohio  ohio  nevada\n",
       "year   2000  2001    2002"
      ]
     },
     "execution_count": 16,
     "metadata": {},
     "output_type": "execute_result"
    }
   ],
   "source": [
    "frame.T #转置"
   ]
  },
  {
   "cell_type": "markdown",
   "id": "27babb9b",
   "metadata": {},
   "source": [
    "6、DataFrame的values属性会将包含在DataFrame中的数据以二维数组的形式返回。"
   ]
  },
  {
   "cell_type": "code",
   "execution_count": 17,
   "id": "5f95f6fe",
   "metadata": {
    "ExecuteTime": {
     "end_time": "2022-06-05T00:35:41.032947Z",
     "start_time": "2022-06-05T00:35:41.018951Z"
    }
   },
   "outputs": [
    {
     "data": {
      "text/plain": [
       "array([['ohio', 2000],\n",
       "       ['ohio', 2001],\n",
       "       ['nevada', 2002]], dtype=object)"
      ]
     },
     "execution_count": 17,
     "metadata": {},
     "output_type": "execute_result"
    }
   ],
   "source": [
    "frame.values"
   ]
  },
  {
   "cell_type": "code",
   "execution_count": 18,
   "id": "74756763",
   "metadata": {
    "ExecuteTime": {
     "end_time": "2022-06-05T00:35:51.933287Z",
     "start_time": "2022-06-05T00:35:51.914804Z"
    }
   },
   "outputs": [
    {
     "data": {
      "text/plain": [
       "Index(['state', 'year'], dtype='object')"
      ]
     },
     "execution_count": 18,
     "metadata": {},
     "output_type": "execute_result"
    }
   ],
   "source": [
    "frame.columns #列索引"
   ]
  },
  {
   "cell_type": "code",
   "execution_count": 19,
   "id": "7378571e",
   "metadata": {
    "ExecuteTime": {
     "end_time": "2022-06-05T00:36:10.015038Z",
     "start_time": "2022-06-05T00:36:10.005683Z"
    }
   },
   "outputs": [
    {
     "data": {
      "text/plain": [
       "RangeIndex(start=0, stop=3, step=1)"
      ]
     },
     "execution_count": 19,
     "metadata": {},
     "output_type": "execute_result"
    }
   ],
   "source": [
    "frame.index #行索引"
   ]
  },
  {
   "cell_type": "markdown",
   "id": "dd636a38",
   "metadata": {},
   "source": [
    "7、pandas索引对象可以包含重复标签。"
   ]
  },
  {
   "cell_type": "code",
   "execution_count": 20,
   "id": "22aa2223",
   "metadata": {
    "ExecuteTime": {
     "end_time": "2022-06-05T00:38:22.533788Z",
     "start_time": "2022-06-05T00:38:22.517830Z"
    }
   },
   "outputs": [],
   "source": [
    "labels = pd.Index(['foo','foo','bar','bar'])"
   ]
  },
  {
   "cell_type": "markdown",
   "id": "04ebb18a",
   "metadata": {},
   "source": [
    "8、显示DataFrame的行数"
   ]
  },
  {
   "cell_type": "code",
   "execution_count": 21,
   "id": "b355b3e9",
   "metadata": {
    "ExecuteTime": {
     "end_time": "2022-06-05T00:39:19.876483Z",
     "start_time": "2022-06-05T00:39:19.860997Z"
    }
   },
   "outputs": [
    {
     "data": {
      "text/html": [
       "<div>\n",
       "<style scoped>\n",
       "    .dataframe tbody tr th:only-of-type {\n",
       "        vertical-align: middle;\n",
       "    }\n",
       "\n",
       "    .dataframe tbody tr th {\n",
       "        vertical-align: top;\n",
       "    }\n",
       "\n",
       "    .dataframe thead th {\n",
       "        text-align: right;\n",
       "    }\n",
       "</style>\n",
       "<table border=\"1\" class=\"dataframe\">\n",
       "  <thead>\n",
       "    <tr style=\"text-align: right;\">\n",
       "      <th></th>\n",
       "      <th>state</th>\n",
       "      <th>year</th>\n",
       "    </tr>\n",
       "  </thead>\n",
       "  <tbody>\n",
       "    <tr>\n",
       "      <th>0</th>\n",
       "      <td>ohio</td>\n",
       "      <td>2000</td>\n",
       "    </tr>\n",
       "    <tr>\n",
       "      <th>1</th>\n",
       "      <td>ohio</td>\n",
       "      <td>2001</td>\n",
       "    </tr>\n",
       "  </tbody>\n",
       "</table>\n",
       "</div>"
      ],
      "text/plain": [
       "  state  year\n",
       "0  ohio  2000\n",
       "1  ohio  2001"
      ]
     },
     "execution_count": 21,
     "metadata": {},
     "output_type": "execute_result"
    }
   ],
   "source": [
    "frame.head(2)"
   ]
  },
  {
   "cell_type": "markdown",
   "id": "825fe4bf-cf38-41fe-ac35-5ec902442418",
   "metadata": {},
   "source": [
    "#### data.loc"
   ]
  },
  {
   "cell_type": "markdown",
   "id": "e9f750f0-a266-4bdb-9e34-82bdd2b55c0c",
   "metadata": {},
   "source": [
    "data.loc 是 pandas 库中用于按标签（行标签和列标签）来访问 DataFrame 数据的一个方法。它支持行和列的选择，并允许进行数据的筛选、修改和删除操作。\n",
    "\n",
    "data.loc[行标签, 列标签]  \n",
    "行标签：你可以用单个标签、标签列表或条件来选择行。  \n",
    "列标签：你可以用单个标签、标签列表来选择列。"
   ]
  },
  {
   "cell_type": "code",
   "execution_count": 1,
   "id": "c89ba155-471c-4a56-a05d-ceb5e3cef6d2",
   "metadata": {
    "execution": {
     "iopub.execute_input": "2024-12-09T02:06:57.625275Z",
     "iopub.status.busy": "2024-12-09T02:06:57.624277Z",
     "iopub.status.idle": "2024-12-09T02:07:00.974480Z",
     "shell.execute_reply": "2024-12-09T02:07:00.973569Z",
     "shell.execute_reply.started": "2024-12-09T02:06:57.625275Z"
    }
   },
   "outputs": [
    {
     "data": {
      "text/html": [
       "<div>\n",
       "<style scoped>\n",
       "    .dataframe tbody tr th:only-of-type {\n",
       "        vertical-align: middle;\n",
       "    }\n",
       "\n",
       "    .dataframe tbody tr th {\n",
       "        vertical-align: top;\n",
       "    }\n",
       "\n",
       "    .dataframe thead th {\n",
       "        text-align: right;\n",
       "    }\n",
       "</style>\n",
       "<table border=\"1\" class=\"dataframe\">\n",
       "  <thead>\n",
       "    <tr style=\"text-align: right;\">\n",
       "      <th></th>\n",
       "      <th>A</th>\n",
       "      <th>B</th>\n",
       "      <th>C</th>\n",
       "    </tr>\n",
       "  </thead>\n",
       "  <tbody>\n",
       "    <tr>\n",
       "      <th>0</th>\n",
       "      <td>1</td>\n",
       "      <td>4</td>\n",
       "      <td>7</td>\n",
       "    </tr>\n",
       "    <tr>\n",
       "      <th>1</th>\n",
       "      <td>2</td>\n",
       "      <td>5</td>\n",
       "      <td>8</td>\n",
       "    </tr>\n",
       "    <tr>\n",
       "      <th>2</th>\n",
       "      <td>3</td>\n",
       "      <td>6</td>\n",
       "      <td>9</td>\n",
       "    </tr>\n",
       "  </tbody>\n",
       "</table>\n",
       "</div>"
      ],
      "text/plain": [
       "   A  B  C\n",
       "0  1  4  7\n",
       "1  2  5  8\n",
       "2  3  6  9"
      ]
     },
     "execution_count": 1,
     "metadata": {},
     "output_type": "execute_result"
    }
   ],
   "source": [
    "import pandas as pd\n",
    "\n",
    "# 创建一个示例 DataFrame\n",
    "data = pd.DataFrame({\n",
    "    'A': [1, 2, 3],\n",
    "    'B': [4, 5, 6],\n",
    "    'C': [7, 8, 9]\n",
    "})\n",
    "data"
   ]
  },
  {
   "cell_type": "code",
   "execution_count": 2,
   "id": "abe54498-1a54-48e6-9ef8-6c036bec2211",
   "metadata": {
    "execution": {
     "iopub.execute_input": "2024-12-09T02:07:12.284735Z",
     "iopub.status.busy": "2024-12-09T02:07:12.284735Z",
     "iopub.status.idle": "2024-12-09T02:07:12.299595Z",
     "shell.execute_reply": "2024-12-09T02:07:12.298595Z",
     "shell.execute_reply.started": "2024-12-09T02:07:12.284735Z"
    }
   },
   "outputs": [
    {
     "name": "stdout",
     "output_type": "stream",
     "text": [
      "A    2\n",
      "B    5\n",
      "Name: 1, dtype: int64\n"
     ]
    }
   ],
   "source": [
    "# 1. 访问特定的行和列\n",
    "\n",
    "# 访问第二行，列 'A' 和 'B' 的值\n",
    "result = data.loc[1, ['A', 'B']]\n",
    "print(result)"
   ]
  },
  {
   "cell_type": "code",
   "execution_count": 3,
   "id": "e70f06ed-7698-4d64-91a0-eedd81ec7bda",
   "metadata": {
    "execution": {
     "iopub.execute_input": "2024-12-09T02:07:40.405150Z",
     "iopub.status.busy": "2024-12-09T02:07:40.405150Z",
     "iopub.status.idle": "2024-12-09T02:07:40.415782Z",
     "shell.execute_reply": "2024-12-09T02:07:40.414292Z",
     "shell.execute_reply.started": "2024-12-09T02:07:40.405150Z"
    }
   },
   "outputs": [
    {
     "name": "stdout",
     "output_type": "stream",
     "text": [
      "   A  B  C\n",
      "1  2  5  8\n",
      "2  3  6  9\n"
     ]
    }
   ],
   "source": [
    "# 2. 通过标签筛选行\n",
    "\n",
    "# 获取标签为 1 和 2 的行\n",
    "result = data.loc[1:2]\n",
    "print(result)"
   ]
  },
  {
   "cell_type": "code",
   "execution_count": 4,
   "id": "cd8c4ee4-9346-4efb-864c-c26e2dcb32b7",
   "metadata": {
    "execution": {
     "iopub.execute_input": "2024-12-09T02:08:11.936413Z",
     "iopub.status.busy": "2024-12-09T02:08:11.936413Z",
     "iopub.status.idle": "2024-12-09T02:08:11.967943Z",
     "shell.execute_reply": "2024-12-09T02:08:11.967052Z",
     "shell.execute_reply.started": "2024-12-09T02:08:11.936413Z"
    }
   },
   "outputs": [
    {
     "name": "stdout",
     "output_type": "stream",
     "text": [
      "   A  B  C\n",
      "1  2  5  8\n",
      "2  3  6  9\n"
     ]
    }
   ],
   "source": [
    "# 3. 条件筛选\n",
    "\n",
    "# 获取 A 列大于 1 的行\n",
    "result = data.loc[data['A'] > 1]\n",
    "print(result)"
   ]
  },
  {
   "cell_type": "code",
   "execution_count": 5,
   "id": "5aa89684-b112-45bc-aba5-b2f72a757830",
   "metadata": {
    "execution": {
     "iopub.execute_input": "2024-12-09T02:09:39.723237Z",
     "iopub.status.busy": "2024-12-09T02:09:39.722232Z",
     "iopub.status.idle": "2024-12-09T02:09:39.736251Z",
     "shell.execute_reply": "2024-12-09T02:09:39.735343Z",
     "shell.execute_reply.started": "2024-12-09T02:09:39.723237Z"
    }
   },
   "outputs": [
    {
     "name": "stdout",
     "output_type": "stream",
     "text": [
      "    A  B  C\n",
      "0   1  4  7\n",
      "1  10  5  8\n",
      "2   3  6  9\n"
     ]
    }
   ],
   "source": [
    "# 4. 修改数据\n",
    "\n",
    "# 修改第二行，列 'A' 的值为 10\n",
    "data.loc[1, 'A'] = 10\n",
    "print(data)"
   ]
  },
  {
   "cell_type": "code",
   "execution_count": 8,
   "id": "9dfedbfe-0032-4be1-8a90-98a5c68f2f99",
   "metadata": {
    "execution": {
     "iopub.execute_input": "2024-12-09T02:10:51.587812Z",
     "iopub.status.busy": "2024-12-09T02:10:51.587812Z",
     "iopub.status.idle": "2024-12-09T02:10:51.606902Z",
     "shell.execute_reply": "2024-12-09T02:10:51.605984Z",
     "shell.execute_reply.started": "2024-12-09T02:10:51.587812Z"
    }
   },
   "outputs": [
    {
     "name": "stdout",
     "output_type": "stream",
     "text": [
      "1    5\n",
      "2    6\n",
      "Name: B, dtype: int64\n"
     ]
    }
   ],
   "source": [
    "# 5. 使用布尔索引进行行选择\n",
    "\n",
    "# 布尔条件选择\n",
    "result = data.loc[data['A'] > 1, 'B']\n",
    "print(result)"
   ]
  },
  {
   "cell_type": "code",
   "execution_count": 9,
   "id": "02c0f1e7-5e0d-4b40-ad3d-f7c57d25503d",
   "metadata": {
    "execution": {
     "iopub.execute_input": "2024-12-09T02:11:33.921813Z",
     "iopub.status.busy": "2024-12-09T02:11:33.920812Z",
     "iopub.status.idle": "2024-12-09T02:11:33.930509Z",
     "shell.execute_reply": "2024-12-09T02:11:33.929404Z",
     "shell.execute_reply.started": "2024-12-09T02:11:33.921813Z"
    }
   },
   "outputs": [
    {
     "name": "stdout",
     "output_type": "stream",
     "text": [
      "    A  B  C\n",
      "1  10  5  8\n"
     ]
    }
   ],
   "source": [
    "# 6. 多条件选择\n",
    "\n",
    "# 选择 A 列大于 1 并且 B 列小于 6 的行\n",
    "result = data.loc[(data['A'] > 1) & (data['B'] < 6)]\n",
    "print(result)"
   ]
  },
  {
   "cell_type": "markdown",
   "id": "741713a3",
   "metadata": {},
   "source": [
    "### 列转行"
   ]
  },
  {
   "cell_type": "code",
   "execution_count": 4,
   "id": "d2dbf8ee",
   "metadata": {
    "ExecuteTime": {
     "end_time": "2023-11-28T02:55:25.072425Z",
     "start_time": "2023-11-28T02:55:25.054637Z"
    }
   },
   "outputs": [
    {
     "data": {
      "text/html": [
       "<div>\n",
       "<style scoped>\n",
       "    .dataframe tbody tr th:only-of-type {\n",
       "        vertical-align: middle;\n",
       "    }\n",
       "\n",
       "    .dataframe tbody tr th {\n",
       "        vertical-align: top;\n",
       "    }\n",
       "\n",
       "    .dataframe thead th {\n",
       "        text-align: right;\n",
       "    }\n",
       "</style>\n",
       "<table border=\"1\" class=\"dataframe\">\n",
       "  <thead>\n",
       "    <tr style=\"text-align: right;\">\n",
       "      <th></th>\n",
       "      <th>state</th>\n",
       "      <th>variable</th>\n",
       "      <th>value</th>\n",
       "    </tr>\n",
       "  </thead>\n",
       "  <tbody>\n",
       "    <tr>\n",
       "      <th>0</th>\n",
       "      <td>ohio</td>\n",
       "      <td>year</td>\n",
       "      <td>2000</td>\n",
       "    </tr>\n",
       "    <tr>\n",
       "      <th>1</th>\n",
       "      <td>ohio</td>\n",
       "      <td>year</td>\n",
       "      <td>2001</td>\n",
       "    </tr>\n",
       "    <tr>\n",
       "      <th>2</th>\n",
       "      <td>nevada</td>\n",
       "      <td>year</td>\n",
       "      <td>2002</td>\n",
       "    </tr>\n",
       "  </tbody>\n",
       "</table>\n",
       "</div>"
      ],
      "text/plain": [
       "    state variable  value\n",
       "0    ohio     year   2000\n",
       "1    ohio     year   2001\n",
       "2  nevada     year   2002"
      ]
     },
     "execution_count": 4,
     "metadata": {},
     "output_type": "execute_result"
    }
   ],
   "source": [
    "pd.melt(frame, id_vars=['state'], value_vars=['year'])"
   ]
  },
  {
   "cell_type": "code",
   "execution_count": 5,
   "id": "549885c6",
   "metadata": {
    "ExecuteTime": {
     "end_time": "2023-11-28T02:56:24.157229Z",
     "start_time": "2023-11-28T02:56:24.145572Z"
    }
   },
   "outputs": [
    {
     "data": {
      "text/html": [
       "<div>\n",
       "<style scoped>\n",
       "    .dataframe tbody tr th:only-of-type {\n",
       "        vertical-align: middle;\n",
       "    }\n",
       "\n",
       "    .dataframe tbody tr th {\n",
       "        vertical-align: top;\n",
       "    }\n",
       "\n",
       "    .dataframe thead th {\n",
       "        text-align: right;\n",
       "    }\n",
       "</style>\n",
       "<table border=\"1\" class=\"dataframe\">\n",
       "  <thead>\n",
       "    <tr style=\"text-align: right;\">\n",
       "      <th></th>\n",
       "      <th>variable</th>\n",
       "      <th>value</th>\n",
       "    </tr>\n",
       "  </thead>\n",
       "  <tbody>\n",
       "    <tr>\n",
       "      <th>0</th>\n",
       "      <td>state</td>\n",
       "      <td>ohio</td>\n",
       "    </tr>\n",
       "    <tr>\n",
       "      <th>1</th>\n",
       "      <td>state</td>\n",
       "      <td>ohio</td>\n",
       "    </tr>\n",
       "    <tr>\n",
       "      <th>2</th>\n",
       "      <td>state</td>\n",
       "      <td>nevada</td>\n",
       "    </tr>\n",
       "    <tr>\n",
       "      <th>3</th>\n",
       "      <td>year</td>\n",
       "      <td>2000</td>\n",
       "    </tr>\n",
       "    <tr>\n",
       "      <th>4</th>\n",
       "      <td>year</td>\n",
       "      <td>2001</td>\n",
       "    </tr>\n",
       "    <tr>\n",
       "      <th>5</th>\n",
       "      <td>year</td>\n",
       "      <td>2002</td>\n",
       "    </tr>\n",
       "  </tbody>\n",
       "</table>\n",
       "</div>"
      ],
      "text/plain": [
       "  variable   value\n",
       "0    state    ohio\n",
       "1    state    ohio\n",
       "2    state  nevada\n",
       "3     year    2000\n",
       "4     year    2001\n",
       "5     year    2002"
      ]
     },
     "execution_count": 5,
     "metadata": {},
     "output_type": "execute_result"
    }
   ],
   "source": [
    "pd.melt(frame, value_vars=['state', 'year'])"
   ]
  },
  {
   "cell_type": "markdown",
   "id": "756e4e69",
   "metadata": {},
   "source": [
    "### 重建索引"
   ]
  },
  {
   "cell_type": "markdown",
   "id": "321b6569",
   "metadata": {},
   "source": [
    "reindex是pandas对象的重要方法，该方法用于创建一个符合新索引的新对象。（标签唯一）"
   ]
  },
  {
   "cell_type": "code",
   "execution_count": 4,
   "id": "318d1e54",
   "metadata": {
    "ExecuteTime": {
     "end_time": "2024-10-22T03:19:14.403881Z",
     "start_time": "2024-10-22T03:19:14.397138Z"
    }
   },
   "outputs": [
    {
     "data": {
      "text/plain": [
       "d    4.5\n",
       "b    7.2\n",
       "a   -5.3\n",
       "c    3.6\n",
       "dtype: float64"
      ]
     },
     "execution_count": 4,
     "metadata": {},
     "output_type": "execute_result"
    }
   ],
   "source": [
    "obj = pd.Series([4.5, 7.2, -5.3, 3.6],index = ['d', 'b', 'a', 'c'])\n",
    "obj"
   ]
  },
  {
   "cell_type": "code",
   "execution_count": 5,
   "id": "8f53fed2",
   "metadata": {
    "ExecuteTime": {
     "end_time": "2024-10-22T03:19:15.577102Z",
     "start_time": "2024-10-22T03:19:15.564124Z"
    }
   },
   "outputs": [
    {
     "data": {
      "text/plain": [
       "a   -5.3\n",
       "b    7.2\n",
       "c    3.6\n",
       "d    4.5\n",
       "dtype: float64"
      ]
     },
     "execution_count": 5,
     "metadata": {},
     "output_type": "execute_result"
    }
   ],
   "source": [
    "obj.reindex(['a', 'b', 'c', 'd'])"
   ]
  },
  {
   "cell_type": "markdown",
   "id": "0d02fbe6",
   "metadata": {},
   "source": [
    "series调用reindex方法时，会将数据按照新的索引（行索引或列索引）进行排列，如果某个索引值之前并不存在，则会引入缺失值。"
   ]
  },
  {
   "cell_type": "markdown",
   "id": "8ba79555",
   "metadata": {},
   "source": [
    "### 新增列"
   ]
  },
  {
   "cell_type": "code",
   "execution_count": null,
   "id": "ee1d2a1b",
   "metadata": {},
   "outputs": [],
   "source": [
    "frame[\"month\"] = 1"
   ]
  },
  {
   "cell_type": "markdown",
   "id": "226a52ad",
   "metadata": {},
   "source": [
    "### 删除行"
   ]
  },
  {
   "cell_type": "markdown",
   "id": "1deadf8b",
   "metadata": {},
   "source": [
    "drop方法会返回一个含有指示值或轴向上删除值的新对象。"
   ]
  },
  {
   "cell_type": "code",
   "execution_count": 28,
   "id": "55274621",
   "metadata": {
    "ExecuteTime": {
     "end_time": "2022-06-05T00:52:21.782277Z",
     "start_time": "2022-06-05T00:52:21.772755Z"
    }
   },
   "outputs": [
    {
     "data": {
      "text/plain": [
       "a    0.0\n",
       "b    1.0\n",
       "c    2.0\n",
       "d    3.0\n",
       "e    4.0\n",
       "dtype: float64"
      ]
     },
     "execution_count": 28,
     "metadata": {},
     "output_type": "execute_result"
    }
   ],
   "source": [
    "obj = pd.Series(np.arange(5.),index = ['a','b','c','d','e'])\n",
    "obj"
   ]
  },
  {
   "cell_type": "code",
   "execution_count": 29,
   "id": "14115e8b",
   "metadata": {
    "ExecuteTime": {
     "end_time": "2022-06-05T00:52:47.717095Z",
     "start_time": "2022-06-05T00:52:47.707457Z"
    }
   },
   "outputs": [
    {
     "data": {
      "text/plain": [
       "a    0.0\n",
       "b    1.0\n",
       "d    3.0\n",
       "e    4.0\n",
       "dtype: float64"
      ]
     },
     "execution_count": 29,
     "metadata": {},
     "output_type": "execute_result"
    }
   ],
   "source": [
    "obj.drop('c')"
   ]
  },
  {
   "cell_type": "markdown",
   "id": "c7866b59",
   "metadata": {},
   "source": [
    "**在DataFrame中，索引值可以轴向上删除，在调用drop时使用标签序列会根据行标签删除值。名字.drop(行标签)**"
   ]
  },
  {
   "cell_type": "markdown",
   "id": "5d5d017f",
   "metadata": {},
   "source": [
    "### 删除列"
   ]
  },
  {
   "cell_type": "markdown",
   "id": "5e3456b5",
   "metadata": {},
   "source": [
    "可以通过传递axis=1或axis='columns'来从列中删除值。"
   ]
  },
  {
   "cell_type": "markdown",
   "id": "983cc3cc",
   "metadata": {},
   "source": [
    "名字.drop(列名,axis=1)#删除这一列  \n",
    "名字.drop([,,],axis='columns')#删除多列"
   ]
  },
  {
   "cell_type": "markdown",
   "id": "5934dfbe",
   "metadata": {},
   "source": [
    "### 重命名"
   ]
  },
  {
   "cell_type": "code",
   "execution_count": 9,
   "id": "c3ba8a8c",
   "metadata": {
    "ExecuteTime": {
     "end_time": "2024-10-22T03:20:59.965614Z",
     "start_time": "2024-10-22T03:20:59.957860Z"
    }
   },
   "outputs": [
    {
     "data": {
      "text/html": [
       "<div>\n",
       "<style scoped>\n",
       "    .dataframe tbody tr th:only-of-type {\n",
       "        vertical-align: middle;\n",
       "    }\n",
       "\n",
       "    .dataframe tbody tr th {\n",
       "        vertical-align: top;\n",
       "    }\n",
       "\n",
       "    .dataframe thead th {\n",
       "        text-align: right;\n",
       "    }\n",
       "</style>\n",
       "<table border=\"1\" class=\"dataframe\">\n",
       "  <thead>\n",
       "    <tr style=\"text-align: right;\">\n",
       "      <th></th>\n",
       "      <th>A</th>\n",
       "      <th>B</th>\n",
       "    </tr>\n",
       "  </thead>\n",
       "  <tbody>\n",
       "    <tr>\n",
       "      <th>0</th>\n",
       "      <td>ohio</td>\n",
       "      <td>NaN</td>\n",
       "    </tr>\n",
       "    <tr>\n",
       "      <th>1</th>\n",
       "      <td>ohio</td>\n",
       "      <td>2001.0</td>\n",
       "    </tr>\n",
       "    <tr>\n",
       "      <th>2</th>\n",
       "      <td>None</td>\n",
       "      <td>2001.0</td>\n",
       "    </tr>\n",
       "  </tbody>\n",
       "</table>\n",
       "</div>"
      ],
      "text/plain": [
       "      A       B\n",
       "0  ohio     NaN\n",
       "1  ohio  2001.0\n",
       "2  None  2001.0"
      ]
     },
     "execution_count": 9,
     "metadata": {},
     "output_type": "execute_result"
    }
   ],
   "source": [
    "# 修改列名\n",
    "frame.columns = [\"A\", \"B\"]\n",
    "frame"
   ]
  },
  {
   "cell_type": "code",
   "execution_count": 10,
   "id": "b1cca834",
   "metadata": {
    "ExecuteTime": {
     "end_time": "2024-10-22T03:21:03.852498Z",
     "start_time": "2024-10-22T03:21:03.844331Z"
    }
   },
   "outputs": [
    {
     "data": {
      "text/html": [
       "<div>\n",
       "<style scoped>\n",
       "    .dataframe tbody tr th:only-of-type {\n",
       "        vertical-align: middle;\n",
       "    }\n",
       "\n",
       "    .dataframe tbody tr th {\n",
       "        vertical-align: top;\n",
       "    }\n",
       "\n",
       "    .dataframe thead th {\n",
       "        text-align: right;\n",
       "    }\n",
       "</style>\n",
       "<table border=\"1\" class=\"dataframe\">\n",
       "  <thead>\n",
       "    <tr style=\"text-align: right;\">\n",
       "      <th></th>\n",
       "      <th>a</th>\n",
       "      <th>c</th>\n",
       "    </tr>\n",
       "  </thead>\n",
       "  <tbody>\n",
       "    <tr>\n",
       "      <th>0a</th>\n",
       "      <td>ohio</td>\n",
       "      <td>NaN</td>\n",
       "    </tr>\n",
       "    <tr>\n",
       "      <th>1a</th>\n",
       "      <td>ohio</td>\n",
       "      <td>2001.0</td>\n",
       "    </tr>\n",
       "    <tr>\n",
       "      <th>2</th>\n",
       "      <td>None</td>\n",
       "      <td>2001.0</td>\n",
       "    </tr>\n",
       "  </tbody>\n",
       "</table>\n",
       "</div>"
      ],
      "text/plain": [
       "       a       c\n",
       "0a  ohio     NaN\n",
       "1a  ohio  2001.0\n",
       "2   None  2001.0"
      ]
     },
     "execution_count": 10,
     "metadata": {},
     "output_type": "execute_result"
    }
   ],
   "source": [
    "# 同时修改行名和列名\n",
    "df_re=frame.rename(columns={\"A\": \"a\", \"B\": \"c\"},index={0:\"0a\",1:\"1a\"})\n",
    "df_re"
   ]
  },
  {
   "cell_type": "markdown",
   "id": "75c6026f",
   "metadata": {},
   "source": [
    "### 索引，选择与过滤"
   ]
  },
  {
   "cell_type": "markdown",
   "id": "119dab81",
   "metadata": {},
   "source": [
    "1、Series的索引与Numpy数组索引的功能类似。"
   ]
  },
  {
   "cell_type": "code",
   "execution_count": 30,
   "id": "39856205",
   "metadata": {
    "ExecuteTime": {
     "end_time": "2022-06-05T00:58:07.536452Z",
     "start_time": "2022-06-05T00:58:07.523486Z"
    }
   },
   "outputs": [
    {
     "data": {
      "text/plain": [
       "a    0\n",
       "b    1\n",
       "c    2\n",
       "d    3\n",
       "dtype: int32"
      ]
     },
     "execution_count": 30,
     "metadata": {},
     "output_type": "execute_result"
    }
   ],
   "source": [
    "obj = pd.Series(np.arange(4),index = ['a','b','c','d'])\n",
    "obj"
   ]
  },
  {
   "cell_type": "code",
   "execution_count": 31,
   "id": "5acfa065",
   "metadata": {
    "ExecuteTime": {
     "end_time": "2022-06-05T00:58:28.887290Z",
     "start_time": "2022-06-05T00:58:28.874747Z"
    }
   },
   "outputs": [
    {
     "data": {
      "text/plain": [
       "1"
      ]
     },
     "execution_count": 31,
     "metadata": {},
     "output_type": "execute_result"
    }
   ],
   "source": [
    "obj['b']"
   ]
  },
  {
   "cell_type": "code",
   "execution_count": 32,
   "id": "d5ac9345",
   "metadata": {
    "ExecuteTime": {
     "end_time": "2022-06-05T00:58:43.962196Z",
     "start_time": "2022-06-05T00:58:43.955484Z"
    }
   },
   "outputs": [
    {
     "data": {
      "text/plain": [
       "1"
      ]
     },
     "execution_count": 32,
     "metadata": {},
     "output_type": "execute_result"
    }
   ],
   "source": [
    "obj[1]"
   ]
  },
  {
   "cell_type": "code",
   "execution_count": 33,
   "id": "6e9a9970",
   "metadata": {
    "ExecuteTime": {
     "end_time": "2022-06-05T00:59:00.082476Z",
     "start_time": "2022-06-05T00:59:00.068395Z"
    }
   },
   "outputs": [
    {
     "data": {
      "text/plain": [
       "c    2\n",
       "d    3\n",
       "dtype: int32"
      ]
     },
     "execution_count": 33,
     "metadata": {},
     "output_type": "execute_result"
    }
   ],
   "source": [
    "obj[2:4]"
   ]
  },
  {
   "cell_type": "markdown",
   "id": "3847aa97",
   "metadata": {},
   "source": [
    "2、使用单个值或序列，可以从DataFrame中索引出一个或多个列。"
   ]
  },
  {
   "cell_type": "code",
   "execution_count": 5,
   "id": "eb07cc28",
   "metadata": {
    "ExecuteTime": {
     "end_time": "2024-10-15T02:53:28.541323Z",
     "start_time": "2024-10-15T02:53:28.531635Z"
    }
   },
   "outputs": [
    {
     "data": {
      "text/html": [
       "<div>\n",
       "<style scoped>\n",
       "    .dataframe tbody tr th:only-of-type {\n",
       "        vertical-align: middle;\n",
       "    }\n",
       "\n",
       "    .dataframe tbody tr th {\n",
       "        vertical-align: top;\n",
       "    }\n",
       "\n",
       "    .dataframe thead th {\n",
       "        text-align: right;\n",
       "    }\n",
       "</style>\n",
       "<table border=\"1\" class=\"dataframe\">\n",
       "  <thead>\n",
       "    <tr style=\"text-align: right;\">\n",
       "      <th></th>\n",
       "      <th>state</th>\n",
       "      <th>year</th>\n",
       "    </tr>\n",
       "  </thead>\n",
       "  <tbody>\n",
       "    <tr>\n",
       "      <th>0</th>\n",
       "      <td>ohio</td>\n",
       "      <td>2000</td>\n",
       "    </tr>\n",
       "    <tr>\n",
       "      <th>1</th>\n",
       "      <td>ohio</td>\n",
       "      <td>2001</td>\n",
       "    </tr>\n",
       "    <tr>\n",
       "      <th>2</th>\n",
       "      <td>nevada</td>\n",
       "      <td>2002</td>\n",
       "    </tr>\n",
       "  </tbody>\n",
       "</table>\n",
       "</div>"
      ],
      "text/plain": [
       "    state  year\n",
       "0    ohio  2000\n",
       "1    ohio  2001\n",
       "2  nevada  2002"
      ]
     },
     "execution_count": 5,
     "metadata": {},
     "output_type": "execute_result"
    }
   ],
   "source": [
    "data = {'state':['ohio', 'ohio', 'nevada'],\n",
    "        'year':[2000, 2001, 2002]}\n",
    "frame = pd.DataFrame(data)\n",
    "frame"
   ]
  },
  {
   "cell_type": "code",
   "execution_count": 35,
   "id": "40e14126",
   "metadata": {
    "ExecuteTime": {
     "end_time": "2022-06-05T01:01:01.865832Z",
     "start_time": "2022-06-05T01:01:01.850391Z"
    }
   },
   "outputs": [
    {
     "data": {
      "text/plain": [
       "0    2000\n",
       "1    2001\n",
       "2    2002\n",
       "Name: year, dtype: int64"
      ]
     },
     "execution_count": 35,
     "metadata": {},
     "output_type": "execute_result"
    }
   ],
   "source": [
    "frame['year'] #索引单个列"
   ]
  },
  {
   "cell_type": "code",
   "execution_count": 36,
   "id": "57eafbb4",
   "metadata": {
    "ExecuteTime": {
     "end_time": "2022-06-05T01:01:25.288200Z",
     "start_time": "2022-06-05T01:01:25.264232Z"
    }
   },
   "outputs": [
    {
     "data": {
      "text/html": [
       "<div>\n",
       "<style scoped>\n",
       "    .dataframe tbody tr th:only-of-type {\n",
       "        vertical-align: middle;\n",
       "    }\n",
       "\n",
       "    .dataframe tbody tr th {\n",
       "        vertical-align: top;\n",
       "    }\n",
       "\n",
       "    .dataframe thead th {\n",
       "        text-align: right;\n",
       "    }\n",
       "</style>\n",
       "<table border=\"1\" class=\"dataframe\">\n",
       "  <thead>\n",
       "    <tr style=\"text-align: right;\">\n",
       "      <th></th>\n",
       "      <th>year</th>\n",
       "      <th>state</th>\n",
       "    </tr>\n",
       "  </thead>\n",
       "  <tbody>\n",
       "    <tr>\n",
       "      <th>0</th>\n",
       "      <td>2000</td>\n",
       "      <td>ohio</td>\n",
       "    </tr>\n",
       "    <tr>\n",
       "      <th>1</th>\n",
       "      <td>2001</td>\n",
       "      <td>ohio</td>\n",
       "    </tr>\n",
       "    <tr>\n",
       "      <th>2</th>\n",
       "      <td>2002</td>\n",
       "      <td>nevada</td>\n",
       "    </tr>\n",
       "  </tbody>\n",
       "</table>\n",
       "</div>"
      ],
      "text/plain": [
       "   year   state\n",
       "0  2000    ohio\n",
       "1  2001    ohio\n",
       "2  2002  nevada"
      ]
     },
     "execution_count": 36,
     "metadata": {},
     "output_type": "execute_result"
    }
   ],
   "source": [
    "frame[['year','state']] #索引多个列"
   ]
  },
  {
   "cell_type": "markdown",
   "id": "6bbd00ff",
   "metadata": {},
   "source": [
    "3、使用布尔值DataFrame进行索引，布尔值DataFrame可以是对标量值进行比较产生。"
   ]
  },
  {
   "cell_type": "markdown",
   "id": "2fdfd6c1",
   "metadata": {
    "ExecuteTime": {
     "end_time": "2022-06-05T01:03:22.133698Z",
     "start_time": "2022-06-05T01:03:21.726784Z"
    }
   },
   "source": [
    "data[data>5]=0  将大于5的变为0，其余不变"
   ]
  },
  {
   "cell_type": "markdown",
   "id": "80eda5e9",
   "metadata": {},
   "source": [
    "4、通过标签选出单行多列或多行多列的数据，轴标签loc，整数标签iloc。"
   ]
  },
  {
   "cell_type": "markdown",
   "id": "e3eb533a",
   "metadata": {},
   "source": [
    "frame.loc[行标签,列标签]"
   ]
  },
  {
   "cell_type": "code",
   "execution_count": 39,
   "id": "b1402165",
   "metadata": {
    "ExecuteTime": {
     "end_time": "2022-06-05T01:06:27.366650Z",
     "start_time": "2022-06-05T01:06:27.347600Z"
    }
   },
   "outputs": [
    {
     "data": {
      "text/plain": [
       "2000"
      ]
     },
     "execution_count": 39,
     "metadata": {},
     "output_type": "execute_result"
    }
   ],
   "source": [
    "frame.loc[0,'year']#单行单列"
   ]
  },
  {
   "cell_type": "code",
   "execution_count": 40,
   "id": "a589ac10",
   "metadata": {
    "ExecuteTime": {
     "end_time": "2022-06-05T01:07:07.911633Z",
     "start_time": "2022-06-05T01:07:07.902809Z"
    }
   },
   "outputs": [
    {
     "data": {
      "text/plain": [
       "year     2000\n",
       "state    ohio\n",
       "Name: 0, dtype: object"
      ]
     },
     "execution_count": 40,
     "metadata": {},
     "output_type": "execute_result"
    }
   ],
   "source": [
    "frame.loc[0,['year','state']]#单行多列"
   ]
  },
  {
   "cell_type": "code",
   "execution_count": 41,
   "id": "264e61f4",
   "metadata": {
    "ExecuteTime": {
     "end_time": "2022-06-05T01:08:17.239829Z",
     "start_time": "2022-06-05T01:08:17.219883Z"
    }
   },
   "outputs": [
    {
     "data": {
      "text/plain": [
       "0    2000\n",
       "1    2001\n",
       "Name: year, dtype: int64"
      ]
     },
     "execution_count": 41,
     "metadata": {},
     "output_type": "execute_result"
    }
   ],
   "source": [
    "frame.loc[[0,1],'year']#多行单列"
   ]
  },
  {
   "cell_type": "markdown",
   "id": "626a4330",
   "metadata": {},
   "source": [
    "frame.iloc[行索引值,列索引值]"
   ]
  },
  {
   "cell_type": "code",
   "execution_count": 42,
   "id": "853cdb5e",
   "metadata": {
    "ExecuteTime": {
     "end_time": "2022-06-05T01:10:18.077489Z",
     "start_time": "2022-06-05T01:10:18.063967Z"
    }
   },
   "outputs": [
    {
     "data": {
      "text/plain": [
       "'ohio'"
      ]
     },
     "execution_count": 42,
     "metadata": {},
     "output_type": "execute_result"
    }
   ],
   "source": [
    "frame.iloc[0,0]"
   ]
  },
  {
   "cell_type": "markdown",
   "id": "6f65b592",
   "metadata": {},
   "source": [
    "### 算术与数据对齐"
   ]
  },
  {
   "cell_type": "markdown",
   "id": "f63c39c5",
   "metadata": {},
   "source": [
    "1、add 加 sub 减 div 除 mul乘  \n",
    "a.add(b,axis=0) 行相加"
   ]
  },
  {
   "cell_type": "markdown",
   "id": "81e46995",
   "metadata": {},
   "source": [
    "2、函数应用和映射"
   ]
  },
  {
   "cell_type": "code",
   "execution_count": 48,
   "id": "4305d017",
   "metadata": {
    "ExecuteTime": {
     "end_time": "2022-06-05T01:17:49.454116Z",
     "start_time": "2022-06-05T01:17:49.436272Z"
    }
   },
   "outputs": [
    {
     "data": {
      "text/plain": [
       "0    2\n",
       "1    2\n",
       "2    2\n",
       "dtype: int64"
      ]
     },
     "execution_count": 48,
     "metadata": {},
     "output_type": "execute_result"
    }
   ],
   "source": [
    "f = lambda x: x.count()\n",
    "frame.apply(f,axis='columns') #以列作为索引的Series，默认是axis=0"
   ]
  },
  {
   "cell_type": "markdown",
   "id": "87ac7086",
   "metadata": {},
   "source": [
    "3、排序"
   ]
  },
  {
   "cell_type": "markdown",
   "id": "6b020caa",
   "metadata": {},
   "source": [
    "如需按行或列索引进行排序，需要使用sort_index方法，默认为升序排列。"
   ]
  },
  {
   "cell_type": "code",
   "execution_count": 49,
   "id": "3b2b7e03",
   "metadata": {
    "ExecuteTime": {
     "end_time": "2022-06-05T01:20:32.174564Z",
     "start_time": "2022-06-05T01:20:32.159477Z"
    }
   },
   "outputs": [
    {
     "data": {
      "text/html": [
       "<div>\n",
       "<style scoped>\n",
       "    .dataframe tbody tr th:only-of-type {\n",
       "        vertical-align: middle;\n",
       "    }\n",
       "\n",
       "    .dataframe tbody tr th {\n",
       "        vertical-align: top;\n",
       "    }\n",
       "\n",
       "    .dataframe thead th {\n",
       "        text-align: right;\n",
       "    }\n",
       "</style>\n",
       "<table border=\"1\" class=\"dataframe\">\n",
       "  <thead>\n",
       "    <tr style=\"text-align: right;\">\n",
       "      <th></th>\n",
       "      <th>state</th>\n",
       "      <th>year</th>\n",
       "    </tr>\n",
       "  </thead>\n",
       "  <tbody>\n",
       "    <tr>\n",
       "      <th>0</th>\n",
       "      <td>ohio</td>\n",
       "      <td>2000</td>\n",
       "    </tr>\n",
       "    <tr>\n",
       "      <th>1</th>\n",
       "      <td>ohio</td>\n",
       "      <td>2001</td>\n",
       "    </tr>\n",
       "    <tr>\n",
       "      <th>2</th>\n",
       "      <td>nevada</td>\n",
       "      <td>2002</td>\n",
       "    </tr>\n",
       "  </tbody>\n",
       "</table>\n",
       "</div>"
      ],
      "text/plain": [
       "    state  year\n",
       "0    ohio  2000\n",
       "1    ohio  2001\n",
       "2  nevada  2002"
      ]
     },
     "execution_count": 49,
     "metadata": {},
     "output_type": "execute_result"
    }
   ],
   "source": [
    "frame.sort_index()#按行索引"
   ]
  },
  {
   "cell_type": "code",
   "execution_count": 51,
   "id": "ff86381e",
   "metadata": {
    "ExecuteTime": {
     "end_time": "2022-06-05T01:23:07.625065Z",
     "start_time": "2022-06-05T01:23:07.603577Z"
    }
   },
   "outputs": [
    {
     "data": {
      "text/html": [
       "<div>\n",
       "<style scoped>\n",
       "    .dataframe tbody tr th:only-of-type {\n",
       "        vertical-align: middle;\n",
       "    }\n",
       "\n",
       "    .dataframe tbody tr th {\n",
       "        vertical-align: top;\n",
       "    }\n",
       "\n",
       "    .dataframe thead th {\n",
       "        text-align: right;\n",
       "    }\n",
       "</style>\n",
       "<table border=\"1\" class=\"dataframe\">\n",
       "  <thead>\n",
       "    <tr style=\"text-align: right;\">\n",
       "      <th></th>\n",
       "      <th>year</th>\n",
       "      <th>state</th>\n",
       "    </tr>\n",
       "  </thead>\n",
       "  <tbody>\n",
       "    <tr>\n",
       "      <th>0</th>\n",
       "      <td>2000</td>\n",
       "      <td>ohio</td>\n",
       "    </tr>\n",
       "    <tr>\n",
       "      <th>1</th>\n",
       "      <td>2001</td>\n",
       "      <td>ohio</td>\n",
       "    </tr>\n",
       "    <tr>\n",
       "      <th>2</th>\n",
       "      <td>2002</td>\n",
       "      <td>nevada</td>\n",
       "    </tr>\n",
       "  </tbody>\n",
       "</table>\n",
       "</div>"
      ],
      "text/plain": [
       "   year   state\n",
       "0  2000    ohio\n",
       "1  2001    ohio\n",
       "2  2002  nevada"
      ]
     },
     "execution_count": 51,
     "metadata": {},
     "output_type": "execute_result"
    }
   ],
   "source": [
    "frame.sort_index(axis=1, ascending=False)#按列索引并且降序排列"
   ]
  },
  {
   "cell_type": "markdown",
   "id": "a1190cd0",
   "metadata": {},
   "source": [
    "如需根据Series的值进行排序，使用sort_values方法。当对DataFrame排序时，可以使用一列或多列作为排序键，使用参数by实现。"
   ]
  },
  {
   "cell_type": "code",
   "execution_count": 53,
   "id": "e8776319",
   "metadata": {
    "ExecuteTime": {
     "end_time": "2022-06-05T02:04:42.817577Z",
     "start_time": "2022-06-05T02:04:42.801367Z"
    }
   },
   "outputs": [
    {
     "data": {
      "text/html": [
       "<div>\n",
       "<style scoped>\n",
       "    .dataframe tbody tr th:only-of-type {\n",
       "        vertical-align: middle;\n",
       "    }\n",
       "\n",
       "    .dataframe tbody tr th {\n",
       "        vertical-align: top;\n",
       "    }\n",
       "\n",
       "    .dataframe thead th {\n",
       "        text-align: right;\n",
       "    }\n",
       "</style>\n",
       "<table border=\"1\" class=\"dataframe\">\n",
       "  <thead>\n",
       "    <tr style=\"text-align: right;\">\n",
       "      <th></th>\n",
       "      <th>state</th>\n",
       "      <th>year</th>\n",
       "    </tr>\n",
       "  </thead>\n",
       "  <tbody>\n",
       "    <tr>\n",
       "      <th>2</th>\n",
       "      <td>nevada</td>\n",
       "      <td>2002</td>\n",
       "    </tr>\n",
       "    <tr>\n",
       "      <th>1</th>\n",
       "      <td>ohio</td>\n",
       "      <td>2001</td>\n",
       "    </tr>\n",
       "    <tr>\n",
       "      <th>0</th>\n",
       "      <td>ohio</td>\n",
       "      <td>2000</td>\n",
       "    </tr>\n",
       "  </tbody>\n",
       "</table>\n",
       "</div>"
      ],
      "text/plain": [
       "    state  year\n",
       "2  nevada  2002\n",
       "1    ohio  2001\n",
       "0    ohio  2000"
      ]
     },
     "execution_count": 53,
     "metadata": {},
     "output_type": "execute_result"
    }
   ],
   "source": [
    "frame.sort_values(by='year',ascending=False)"
   ]
  },
  {
   "cell_type": "code",
   "execution_count": 54,
   "id": "f8171498",
   "metadata": {
    "ExecuteTime": {
     "end_time": "2022-06-05T02:05:13.155350Z",
     "start_time": "2022-06-05T02:05:13.148368Z"
    }
   },
   "outputs": [
    {
     "data": {
      "text/plain": [
       "['state', 'year']"
      ]
     },
     "execution_count": 54,
     "metadata": {},
     "output_type": "execute_result"
    }
   ],
   "source": [
    "list(frame) #获得表头"
   ]
  },
  {
   "cell_type": "markdown",
   "id": "04ab85b6",
   "metadata": {},
   "source": [
    "### 描述性统计"
   ]
  },
  {
   "cell_type": "markdown",
   "id": "3fe77a85",
   "metadata": {},
   "source": [
    "pandas对象装配了一个常用数学，统计学方法的集合，与numpy中的类似方法相比，它们内建了处理缺失值的功能，NA值会被自动排除。"
   ]
  },
  {
   "cell_type": "code",
   "execution_count": 56,
   "id": "3a28b3b8",
   "metadata": {
    "ExecuteTime": {
     "end_time": "2022-06-05T02:10:16.054233Z",
     "start_time": "2022-06-05T02:10:16.034076Z"
    }
   },
   "outputs": [
    {
     "data": {
      "text/plain": [
       "state    ohioohionevada\n",
       "year               6003\n",
       "dtype: object"
      ]
     },
     "execution_count": 56,
     "metadata": {},
     "output_type": "execute_result"
    }
   ],
   "source": [
    "frame.sum(axis=0) #行相加"
   ]
  },
  {
   "cell_type": "code",
   "execution_count": 57,
   "id": "473dbd35",
   "metadata": {
    "ExecuteTime": {
     "end_time": "2022-06-05T02:11:08.311362Z",
     "start_time": "2022-06-05T02:11:08.288869Z"
    }
   },
   "outputs": [
    {
     "data": {
      "text/html": [
       "<div>\n",
       "<style scoped>\n",
       "    .dataframe tbody tr th:only-of-type {\n",
       "        vertical-align: middle;\n",
       "    }\n",
       "\n",
       "    .dataframe tbody tr th {\n",
       "        vertical-align: top;\n",
       "    }\n",
       "\n",
       "    .dataframe thead th {\n",
       "        text-align: right;\n",
       "    }\n",
       "</style>\n",
       "<table border=\"1\" class=\"dataframe\">\n",
       "  <thead>\n",
       "    <tr style=\"text-align: right;\">\n",
       "      <th></th>\n",
       "      <th>year</th>\n",
       "    </tr>\n",
       "  </thead>\n",
       "  <tbody>\n",
       "    <tr>\n",
       "      <th>count</th>\n",
       "      <td>3.0</td>\n",
       "    </tr>\n",
       "    <tr>\n",
       "      <th>mean</th>\n",
       "      <td>2001.0</td>\n",
       "    </tr>\n",
       "    <tr>\n",
       "      <th>std</th>\n",
       "      <td>1.0</td>\n",
       "    </tr>\n",
       "    <tr>\n",
       "      <th>min</th>\n",
       "      <td>2000.0</td>\n",
       "    </tr>\n",
       "    <tr>\n",
       "      <th>25%</th>\n",
       "      <td>2000.5</td>\n",
       "    </tr>\n",
       "    <tr>\n",
       "      <th>50%</th>\n",
       "      <td>2001.0</td>\n",
       "    </tr>\n",
       "    <tr>\n",
       "      <th>75%</th>\n",
       "      <td>2001.5</td>\n",
       "    </tr>\n",
       "    <tr>\n",
       "      <th>max</th>\n",
       "      <td>2002.0</td>\n",
       "    </tr>\n",
       "  </tbody>\n",
       "</table>\n",
       "</div>"
      ],
      "text/plain": [
       "         year\n",
       "count     3.0\n",
       "mean   2001.0\n",
       "std       1.0\n",
       "min    2000.0\n",
       "25%    2000.5\n",
       "50%    2001.0\n",
       "75%    2001.5\n",
       "max    2002.0"
      ]
     },
     "execution_count": 57,
     "metadata": {},
     "output_type": "execute_result"
    }
   ],
   "source": [
    "frame.describe()#描述性统计"
   ]
  },
  {
   "cell_type": "markdown",
   "id": "d5884328",
   "metadata": {},
   "source": [
    "常见方法：count\\min\\max\\sum\\mean\\median\\var\\std"
   ]
  },
  {
   "cell_type": "code",
   "execution_count": 59,
   "id": "fcf401f9",
   "metadata": {
    "ExecuteTime": {
     "end_time": "2022-06-05T02:14:04.999159Z",
     "start_time": "2022-06-05T02:14:04.988798Z"
    }
   },
   "outputs": [
    {
     "data": {
      "text/html": [
       "<div>\n",
       "<style scoped>\n",
       "    .dataframe tbody tr th:only-of-type {\n",
       "        vertical-align: middle;\n",
       "    }\n",
       "\n",
       "    .dataframe tbody tr th {\n",
       "        vertical-align: top;\n",
       "    }\n",
       "\n",
       "    .dataframe thead th {\n",
       "        text-align: right;\n",
       "    }\n",
       "</style>\n",
       "<table border=\"1\" class=\"dataframe\">\n",
       "  <thead>\n",
       "    <tr style=\"text-align: right;\">\n",
       "      <th></th>\n",
       "      <th>state</th>\n",
       "      <th>year</th>\n",
       "    </tr>\n",
       "  </thead>\n",
       "  <tbody>\n",
       "    <tr>\n",
       "      <th>2000</th>\n",
       "      <td>0.0</td>\n",
       "      <td>1.0</td>\n",
       "    </tr>\n",
       "    <tr>\n",
       "      <th>2001</th>\n",
       "      <td>0.0</td>\n",
       "      <td>1.0</td>\n",
       "    </tr>\n",
       "    <tr>\n",
       "      <th>2002</th>\n",
       "      <td>0.0</td>\n",
       "      <td>1.0</td>\n",
       "    </tr>\n",
       "    <tr>\n",
       "      <th>nevada</th>\n",
       "      <td>1.0</td>\n",
       "      <td>0.0</td>\n",
       "    </tr>\n",
       "    <tr>\n",
       "      <th>ohio</th>\n",
       "      <td>2.0</td>\n",
       "      <td>0.0</td>\n",
       "    </tr>\n",
       "  </tbody>\n",
       "</table>\n",
       "</div>"
      ],
      "text/plain": [
       "        state  year\n",
       "2000      0.0   1.0\n",
       "2001      0.0   1.0\n",
       "2002      0.0   1.0\n",
       "nevada    1.0   0.0\n",
       "ohio      2.0   0.0"
      ]
     },
     "execution_count": 59,
     "metadata": {},
     "output_type": "execute_result"
    }
   ],
   "source": [
    "frame.apply(pd.value_counts).fillna(0) #计算不同值在每个列中出现的次数"
   ]
  },
  {
   "cell_type": "markdown",
   "id": "173b0dd0",
   "metadata": {},
   "source": [
    "### 数据类型转换"
   ]
  },
  {
   "cell_type": "code",
   "execution_count": 60,
   "id": "491afc13",
   "metadata": {
    "ExecuteTime": {
     "end_time": "2022-06-05T02:15:44.628646Z",
     "start_time": "2022-06-05T02:15:44.616589Z"
    }
   },
   "outputs": [
    {
     "data": {
      "text/plain": [
       "state    object\n",
       "year      int64\n",
       "dtype: object"
      ]
     },
     "execution_count": 60,
     "metadata": {},
     "output_type": "execute_result"
    }
   ],
   "source": [
    "frame.dtypes #查看数据框的类型"
   ]
  },
  {
   "cell_type": "code",
   "execution_count": 61,
   "id": "fe501256",
   "metadata": {
    "ExecuteTime": {
     "end_time": "2022-06-05T02:16:17.109738Z",
     "start_time": "2022-06-05T02:16:17.092240Z"
    }
   },
   "outputs": [
    {
     "name": "stdout",
     "output_type": "stream",
     "text": [
      "<class 'pandas.core.frame.DataFrame'>\n",
      "RangeIndex: 3 entries, 0 to 2\n",
      "Data columns (total 2 columns):\n",
      " #   Column  Non-Null Count  Dtype \n",
      "---  ------  --------------  ----- \n",
      " 0   state   3 non-null      object\n",
      " 1   year    3 non-null      int64 \n",
      "dtypes: int64(1), object(1)\n",
      "memory usage: 176.0+ bytes\n"
     ]
    }
   ],
   "source": [
    "frame.info() #查看数据框的更多详细信息"
   ]
  },
  {
   "cell_type": "markdown",
   "id": "7c877e20",
   "metadata": {},
   "source": [
    "pandas三种常用的数据格式的转换：   \n",
    "1、名字.astype()强制转化为数据类型  \n",
    "2、通过创建自定义的函数进行数据转换  \n",
    "3、pandas提供的to_numeric()以及to_datetime()"
   ]
  },
  {
   "cell_type": "code",
   "execution_count": 79,
   "id": "a051d30e",
   "metadata": {
    "ExecuteTime": {
     "end_time": "2022-06-05T02:27:38.193144Z",
     "start_time": "2022-06-05T02:27:38.181153Z"
    }
   },
   "outputs": [
    {
     "data": {
      "text/html": [
       "<div>\n",
       "<style scoped>\n",
       "    .dataframe tbody tr th:only-of-type {\n",
       "        vertical-align: middle;\n",
       "    }\n",
       "\n",
       "    .dataframe tbody tr th {\n",
       "        vertical-align: top;\n",
       "    }\n",
       "\n",
       "    .dataframe thead th {\n",
       "        text-align: right;\n",
       "    }\n",
       "</style>\n",
       "<table border=\"1\" class=\"dataframe\">\n",
       "  <thead>\n",
       "    <tr style=\"text-align: right;\">\n",
       "      <th></th>\n",
       "      <th>state</th>\n",
       "      <th>year</th>\n",
       "    </tr>\n",
       "  </thead>\n",
       "  <tbody>\n",
       "    <tr>\n",
       "      <th>0</th>\n",
       "      <td>ohio</td>\n",
       "      <td>2000</td>\n",
       "    </tr>\n",
       "    <tr>\n",
       "      <th>1</th>\n",
       "      <td>ohio</td>\n",
       "      <td>2001</td>\n",
       "    </tr>\n",
       "    <tr>\n",
       "      <th>2</th>\n",
       "      <td>nevada</td>\n",
       "      <td>2002</td>\n",
       "    </tr>\n",
       "  </tbody>\n",
       "</table>\n",
       "</div>"
      ],
      "text/plain": [
       "    state  year\n",
       "0    ohio  2000\n",
       "1    ohio  2001\n",
       "2  nevada  2002"
      ]
     },
     "execution_count": 79,
     "metadata": {},
     "output_type": "execute_result"
    }
   ],
   "source": [
    "frame['year'] = frame['year'].astype('int')#将DataFrame中的某一列转换类型\n",
    "frame"
   ]
  },
  {
   "cell_type": "code",
   "execution_count": 2,
   "id": "cae5e784",
   "metadata": {
    "ExecuteTime": {
     "end_time": "2024-11-06T07:47:18.075263Z",
     "start_time": "2024-11-06T07:47:18.067134Z"
    }
   },
   "outputs": [
    {
     "name": "stdout",
     "output_type": "stream",
     "text": [
      "name           object\n",
      "age             int64\n",
      "salary        float64\n",
      "is_manager       bool\n",
      "dtype: object\n"
     ]
    }
   ],
   "source": [
    "# 批量转换列类型\n",
    "\n",
    "# 创建一个示例 DataFrame\n",
    "df = pd.DataFrame({\n",
    "    'name': ['Alice', 'Bob', 'Charlie'],\n",
    "    'age': ['25', '30', '35'],      # 注意这里 age 是字符串类型\n",
    "    'salary': ['50000', '60000', '70000'],  # salary 也是字符串类型\n",
    "    'is_manager': ['True', 'False', 'False']  # is_manager 也是字符串类型\n",
    "})\n",
    "\n",
    "# 使用字典指定转换的列及目标类型\n",
    "df = df.astype({\n",
    "    'age': 'int64',\n",
    "    'salary': 'float64',\n",
    "    'is_manager': 'bool'\n",
    "})\n",
    "\n",
    "print(df.dtypes)"
   ]
  },
  {
   "cell_type": "code",
   "execution_count": null,
   "id": "9ff66909",
   "metadata": {},
   "outputs": [],
   "source": [
    "# 类型校验\n",
    "df = df.astype(dict(df.dtypes))"
   ]
  },
  {
   "cell_type": "markdown",
   "id": "0657a00f",
   "metadata": {},
   "source": [
    "### 数据类型筛选"
   ]
  },
  {
   "cell_type": "code",
   "execution_count": 3,
   "id": "58715bb4",
   "metadata": {
    "ExecuteTime": {
     "end_time": "2023-11-24T09:37:28.247263Z",
     "start_time": "2023-11-24T09:37:28.241073Z"
    }
   },
   "outputs": [
    {
     "data": {
      "text/plain": [
       "state    object\n",
       "year      int64\n",
       "dtype: object"
      ]
     },
     "execution_count": 3,
     "metadata": {},
     "output_type": "execute_result"
    }
   ],
   "source": [
    "frame.dtypes #查看数据框的类型"
   ]
  },
  {
   "cell_type": "code",
   "execution_count": 4,
   "id": "46854019",
   "metadata": {
    "ExecuteTime": {
     "end_time": "2023-11-24T09:37:48.317670Z",
     "start_time": "2023-11-24T09:37:48.309994Z"
    }
   },
   "outputs": [
    {
     "data": {
      "text/html": [
       "<div>\n",
       "<style scoped>\n",
       "    .dataframe tbody tr th:only-of-type {\n",
       "        vertical-align: middle;\n",
       "    }\n",
       "\n",
       "    .dataframe tbody tr th {\n",
       "        vertical-align: top;\n",
       "    }\n",
       "\n",
       "    .dataframe thead th {\n",
       "        text-align: right;\n",
       "    }\n",
       "</style>\n",
       "<table border=\"1\" class=\"dataframe\">\n",
       "  <thead>\n",
       "    <tr style=\"text-align: right;\">\n",
       "      <th></th>\n",
       "      <th>year</th>\n",
       "    </tr>\n",
       "  </thead>\n",
       "  <tbody>\n",
       "    <tr>\n",
       "      <th>0</th>\n",
       "      <td>2000</td>\n",
       "    </tr>\n",
       "    <tr>\n",
       "      <th>1</th>\n",
       "      <td>2001</td>\n",
       "    </tr>\n",
       "    <tr>\n",
       "      <th>2</th>\n",
       "      <td>2002</td>\n",
       "    </tr>\n",
       "  </tbody>\n",
       "</table>\n",
       "</div>"
      ],
      "text/plain": [
       "   year\n",
       "0  2000\n",
       "1  2001\n",
       "2  2002"
      ]
     },
     "execution_count": 4,
     "metadata": {},
     "output_type": "execute_result"
    }
   ],
   "source": [
    "frame.select_dtypes(include = ['int64','float64']) #选择包含int和float的数据"
   ]
  },
  {
   "cell_type": "code",
   "execution_count": 5,
   "id": "80a89e22",
   "metadata": {
    "ExecuteTime": {
     "end_time": "2023-11-24T09:38:43.165325Z",
     "start_time": "2023-11-24T09:38:43.158372Z"
    }
   },
   "outputs": [
    {
     "data": {
      "text/html": [
       "<div>\n",
       "<style scoped>\n",
       "    .dataframe tbody tr th:only-of-type {\n",
       "        vertical-align: middle;\n",
       "    }\n",
       "\n",
       "    .dataframe tbody tr th {\n",
       "        vertical-align: top;\n",
       "    }\n",
       "\n",
       "    .dataframe thead th {\n",
       "        text-align: right;\n",
       "    }\n",
       "</style>\n",
       "<table border=\"1\" class=\"dataframe\">\n",
       "  <thead>\n",
       "    <tr style=\"text-align: right;\">\n",
       "      <th></th>\n",
       "      <th>state</th>\n",
       "    </tr>\n",
       "  </thead>\n",
       "  <tbody>\n",
       "    <tr>\n",
       "      <th>0</th>\n",
       "      <td>ohio</td>\n",
       "    </tr>\n",
       "    <tr>\n",
       "      <th>1</th>\n",
       "      <td>ohio</td>\n",
       "    </tr>\n",
       "    <tr>\n",
       "      <th>2</th>\n",
       "      <td>nevada</td>\n",
       "    </tr>\n",
       "  </tbody>\n",
       "</table>\n",
       "</div>"
      ],
      "text/plain": [
       "    state\n",
       "0    ohio\n",
       "1    ohio\n",
       "2  nevada"
      ]
     },
     "execution_count": 5,
     "metadata": {},
     "output_type": "execute_result"
    }
   ],
   "source": [
    "frame.select_dtypes(include = 'object')"
   ]
  },
  {
   "cell_type": "code",
   "execution_count": 6,
   "id": "8afd8574",
   "metadata": {
    "ExecuteTime": {
     "end_time": "2023-11-24T09:39:01.415906Z",
     "start_time": "2023-11-24T09:39:01.404839Z"
    }
   },
   "outputs": [
    {
     "data": {
      "text/html": [
       "<div>\n",
       "<style scoped>\n",
       "    .dataframe tbody tr th:only-of-type {\n",
       "        vertical-align: middle;\n",
       "    }\n",
       "\n",
       "    .dataframe tbody tr th {\n",
       "        vertical-align: top;\n",
       "    }\n",
       "\n",
       "    .dataframe thead th {\n",
       "        text-align: right;\n",
       "    }\n",
       "</style>\n",
       "<table border=\"1\" class=\"dataframe\">\n",
       "  <thead>\n",
       "    <tr style=\"text-align: right;\">\n",
       "      <th></th>\n",
       "      <th>state</th>\n",
       "      <th>year</th>\n",
       "    </tr>\n",
       "  </thead>\n",
       "  <tbody>\n",
       "    <tr>\n",
       "      <th>0</th>\n",
       "      <td>ohio</td>\n",
       "      <td>2000</td>\n",
       "    </tr>\n",
       "    <tr>\n",
       "      <th>1</th>\n",
       "      <td>ohio</td>\n",
       "      <td>2001</td>\n",
       "    </tr>\n",
       "    <tr>\n",
       "      <th>2</th>\n",
       "      <td>nevada</td>\n",
       "      <td>2002</td>\n",
       "    </tr>\n",
       "  </tbody>\n",
       "</table>\n",
       "</div>"
      ],
      "text/plain": [
       "    state  year\n",
       "0    ohio  2000\n",
       "1    ohio  2001\n",
       "2  nevada  2002"
      ]
     },
     "execution_count": 6,
     "metadata": {},
     "output_type": "execute_result"
    }
   ],
   "source": [
    "frame.select_dtypes(exclude = 'bool') #除布尔型之外的类型的数据"
   ]
  },
  {
   "cell_type": "markdown",
   "id": "5834d086",
   "metadata": {},
   "source": [
    "### DataFrame拼接"
   ]
  },
  {
   "cell_type": "code",
   "execution_count": 91,
   "id": "45d99089",
   "metadata": {
    "ExecuteTime": {
     "end_time": "2022-06-05T02:32:44.614012Z",
     "start_time": "2022-06-05T02:32:44.604322Z"
    }
   },
   "outputs": [
    {
     "data": {
      "text/html": [
       "<div>\n",
       "<style scoped>\n",
       "    .dataframe tbody tr th:only-of-type {\n",
       "        vertical-align: middle;\n",
       "    }\n",
       "\n",
       "    .dataframe tbody tr th {\n",
       "        vertical-align: top;\n",
       "    }\n",
       "\n",
       "    .dataframe thead th {\n",
       "        text-align: right;\n",
       "    }\n",
       "</style>\n",
       "<table border=\"1\" class=\"dataframe\">\n",
       "  <thead>\n",
       "    <tr style=\"text-align: right;\">\n",
       "      <th></th>\n",
       "      <th>state</th>\n",
       "      <th>year</th>\n",
       "    </tr>\n",
       "  </thead>\n",
       "  <tbody>\n",
       "    <tr>\n",
       "      <th>0</th>\n",
       "      <td>nace</td>\n",
       "      <td>2003</td>\n",
       "    </tr>\n",
       "    <tr>\n",
       "      <th>1</th>\n",
       "      <td>eque</td>\n",
       "      <td>2004</td>\n",
       "    </tr>\n",
       "  </tbody>\n",
       "</table>\n",
       "</div>"
      ],
      "text/plain": [
       "  state  year\n",
       "0  nace  2003\n",
       "1  eque  2004"
      ]
     },
     "execution_count": 91,
     "metadata": {},
     "output_type": "execute_result"
    }
   ],
   "source": [
    "data1 = {'state':['nace','eque'],\n",
    "        'year':[2003,2004]}\n",
    "frame1 = pd.DataFrame(data1)\n",
    "frame1"
   ]
  },
  {
   "cell_type": "code",
   "execution_count": 92,
   "id": "82d665e4",
   "metadata": {
    "ExecuteTime": {
     "end_time": "2022-06-05T02:32:53.788555Z",
     "start_time": "2022-06-05T02:32:53.768226Z"
    }
   },
   "outputs": [
    {
     "data": {
      "text/html": [
       "<div>\n",
       "<style scoped>\n",
       "    .dataframe tbody tr th:only-of-type {\n",
       "        vertical-align: middle;\n",
       "    }\n",
       "\n",
       "    .dataframe tbody tr th {\n",
       "        vertical-align: top;\n",
       "    }\n",
       "\n",
       "    .dataframe thead th {\n",
       "        text-align: right;\n",
       "    }\n",
       "</style>\n",
       "<table border=\"1\" class=\"dataframe\">\n",
       "  <thead>\n",
       "    <tr style=\"text-align: right;\">\n",
       "      <th></th>\n",
       "      <th>state</th>\n",
       "      <th>year</th>\n",
       "    </tr>\n",
       "  </thead>\n",
       "  <tbody>\n",
       "    <tr>\n",
       "      <th>0</th>\n",
       "      <td>ohio</td>\n",
       "      <td>2000</td>\n",
       "    </tr>\n",
       "    <tr>\n",
       "      <th>1</th>\n",
       "      <td>ohio</td>\n",
       "      <td>2001</td>\n",
       "    </tr>\n",
       "    <tr>\n",
       "      <th>2</th>\n",
       "      <td>nevada</td>\n",
       "      <td>2002</td>\n",
       "    </tr>\n",
       "    <tr>\n",
       "      <th>3</th>\n",
       "      <td>nace</td>\n",
       "      <td>2003</td>\n",
       "    </tr>\n",
       "    <tr>\n",
       "      <th>4</th>\n",
       "      <td>eque</td>\n",
       "      <td>2004</td>\n",
       "    </tr>\n",
       "  </tbody>\n",
       "</table>\n",
       "</div>"
      ],
      "text/plain": [
       "    state  year\n",
       "0    ohio  2000\n",
       "1    ohio  2001\n",
       "2  nevada  2002\n",
       "3    nace  2003\n",
       "4    eque  2004"
      ]
     },
     "execution_count": 92,
     "metadata": {},
     "output_type": "execute_result"
    }
   ],
   "source": [
    "frame.append(frame1, ignore_index=True) #忽略列名，只显示一个，也可用循环实现"
   ]
  },
  {
   "cell_type": "code",
   "execution_count": 93,
   "id": "312cf3fc",
   "metadata": {
    "ExecuteTime": {
     "end_time": "2022-06-05T02:33:00.709239Z",
     "start_time": "2022-06-05T02:33:00.689944Z"
    }
   },
   "outputs": [
    {
     "data": {
      "text/html": [
       "<div>\n",
       "<style scoped>\n",
       "    .dataframe tbody tr th:only-of-type {\n",
       "        vertical-align: middle;\n",
       "    }\n",
       "\n",
       "    .dataframe tbody tr th {\n",
       "        vertical-align: top;\n",
       "    }\n",
       "\n",
       "    .dataframe thead th {\n",
       "        text-align: right;\n",
       "    }\n",
       "</style>\n",
       "<table border=\"1\" class=\"dataframe\">\n",
       "  <thead>\n",
       "    <tr style=\"text-align: right;\">\n",
       "      <th></th>\n",
       "      <th>state</th>\n",
       "      <th>year</th>\n",
       "    </tr>\n",
       "  </thead>\n",
       "  <tbody>\n",
       "    <tr>\n",
       "      <th>0</th>\n",
       "      <td>ohio</td>\n",
       "      <td>2000</td>\n",
       "    </tr>\n",
       "    <tr>\n",
       "      <th>1</th>\n",
       "      <td>ohio</td>\n",
       "      <td>2001</td>\n",
       "    </tr>\n",
       "    <tr>\n",
       "      <th>2</th>\n",
       "      <td>nevada</td>\n",
       "      <td>2002</td>\n",
       "    </tr>\n",
       "    <tr>\n",
       "      <th>0</th>\n",
       "      <td>nace</td>\n",
       "      <td>2003</td>\n",
       "    </tr>\n",
       "    <tr>\n",
       "      <th>1</th>\n",
       "      <td>eque</td>\n",
       "      <td>2004</td>\n",
       "    </tr>\n",
       "  </tbody>\n",
       "</table>\n",
       "</div>"
      ],
      "text/plain": [
       "    state  year\n",
       "0    ohio  2000\n",
       "1    ohio  2001\n",
       "2  nevada  2002\n",
       "0    nace  2003\n",
       "1    eque  2004"
      ]
     },
     "execution_count": 93,
     "metadata": {},
     "output_type": "execute_result"
    }
   ],
   "source": [
    "pd.concat([frame,frame1], axis=0)#横向拼接"
   ]
  },
  {
   "cell_type": "markdown",
   "id": "c8535947",
   "metadata": {},
   "source": [
    "### 时间序列/差分"
   ]
  },
  {
   "cell_type": "code",
   "execution_count": 3,
   "id": "e1b70de4",
   "metadata": {
    "ExecuteTime": {
     "end_time": "2024-10-15T02:52:09.760041Z",
     "start_time": "2024-10-15T02:52:09.745530Z"
    }
   },
   "outputs": [
    {
     "data": {
      "text/html": [
       "<div>\n",
       "<style scoped>\n",
       "    .dataframe tbody tr th:only-of-type {\n",
       "        vertical-align: middle;\n",
       "    }\n",
       "\n",
       "    .dataframe tbody tr th {\n",
       "        vertical-align: top;\n",
       "    }\n",
       "\n",
       "    .dataframe thead th {\n",
       "        text-align: right;\n",
       "    }\n",
       "</style>\n",
       "<table border=\"1\" class=\"dataframe\">\n",
       "  <thead>\n",
       "    <tr style=\"text-align: right;\">\n",
       "      <th></th>\n",
       "      <th>state</th>\n",
       "      <th>year</th>\n",
       "    </tr>\n",
       "  </thead>\n",
       "  <tbody>\n",
       "    <tr>\n",
       "      <th>0</th>\n",
       "      <td>None</td>\n",
       "      <td>NaN</td>\n",
       "    </tr>\n",
       "    <tr>\n",
       "      <th>1</th>\n",
       "      <td>ohio</td>\n",
       "      <td>NaN</td>\n",
       "    </tr>\n",
       "    <tr>\n",
       "      <th>2</th>\n",
       "      <td>ohio</td>\n",
       "      <td>2001.0</td>\n",
       "    </tr>\n",
       "  </tbody>\n",
       "</table>\n",
       "</div>"
      ],
      "text/plain": [
       "  state    year\n",
       "0  None     NaN\n",
       "1  ohio     NaN\n",
       "2  ohio  2001.0"
      ]
     },
     "execution_count": 3,
     "metadata": {},
     "output_type": "execute_result"
    }
   ],
   "source": [
    "frame.shift(1)"
   ]
  },
  {
   "cell_type": "markdown",
   "id": "25e273c2",
   "metadata": {},
   "source": [
    "frame.shift(periods=1, freq=None, axis=0) periods类型为int，表示移动的幅度，可以是正数，也可以是负数，默认值为1，1表示移动一次，这里移动的是数据，而索引是不移动的，移动之后没有对应值的，为NaN。"
   ]
  },
  {
   "cell_type": "markdown",
   "id": "d4808d69",
   "metadata": {},
   "source": [
    "freq可选参数，只适用于时间序列，如果这个参数存在，会按照参数值移动时间索引，而数据值没有发生变化。"
   ]
  },
  {
   "cell_type": "code",
   "execution_count": 14,
   "id": "0dfe2749",
   "metadata": {
    "ExecuteTime": {
     "end_time": "2024-10-15T03:14:21.181608Z",
     "start_time": "2024-10-15T03:14:21.172658Z"
    },
    "scrolled": true
   },
   "outputs": [
    {
     "data": {
      "text/html": [
       "<div>\n",
       "<style scoped>\n",
       "    .dataframe tbody tr th:only-of-type {\n",
       "        vertical-align: middle;\n",
       "    }\n",
       "\n",
       "    .dataframe tbody tr th {\n",
       "        vertical-align: top;\n",
       "    }\n",
       "\n",
       "    .dataframe thead th {\n",
       "        text-align: right;\n",
       "    }\n",
       "</style>\n",
       "<table border=\"1\" class=\"dataframe\">\n",
       "  <thead>\n",
       "    <tr style=\"text-align: right;\">\n",
       "      <th></th>\n",
       "      <th>year</th>\n",
       "    </tr>\n",
       "  </thead>\n",
       "  <tbody>\n",
       "    <tr>\n",
       "      <th>0</th>\n",
       "      <td>NaN</td>\n",
       "    </tr>\n",
       "    <tr>\n",
       "      <th>1</th>\n",
       "      <td>1.0</td>\n",
       "    </tr>\n",
       "    <tr>\n",
       "      <th>2</th>\n",
       "      <td>1.0</td>\n",
       "    </tr>\n",
       "  </tbody>\n",
       "</table>\n",
       "</div>"
      ],
      "text/plain": [
       "   year\n",
       "0   NaN\n",
       "1   1.0\n",
       "2   1.0"
      ]
     },
     "execution_count": 14,
     "metadata": {},
     "output_type": "execute_result"
    }
   ],
   "source": [
    "frame[['year']].diff(periods=1) # 一阶差分"
   ]
  },
  {
   "cell_type": "markdown",
   "id": "0e19595b",
   "metadata": {},
   "source": [
    "diff函数是从数学上来说，是将数据与平移后的数据进行比较得出的差异数据。从操作的意义上来说，是两条临近记录的差值，也就是一阶差分。"
   ]
  },
  {
   "cell_type": "markdown",
   "id": "fefb40d9",
   "metadata": {},
   "source": [
    "### 抽样"
   ]
  },
  {
   "cell_type": "markdown",
   "id": "2c74017f",
   "metadata": {},
   "source": [
    "frame.sample(n=None, frac=None, replace=False, weights=None, random_state=None, axis=None)  \n",
    "n：设置抽样数量  \n",
    "frac：设置抽样比例  \n",
    "replace：设置是否放回  \n",
    "weights：设置样本权重  \n",
    "random_state：设置随机种子"
   ]
  },
  {
   "cell_type": "code",
   "execution_count": 97,
   "id": "b9081e8c",
   "metadata": {
    "ExecuteTime": {
     "end_time": "2022-06-05T02:43:41.114891Z",
     "start_time": "2022-06-05T02:43:41.096652Z"
    }
   },
   "outputs": [
    {
     "data": {
      "text/html": [
       "<div>\n",
       "<style scoped>\n",
       "    .dataframe tbody tr th:only-of-type {\n",
       "        vertical-align: middle;\n",
       "    }\n",
       "\n",
       "    .dataframe tbody tr th {\n",
       "        vertical-align: top;\n",
       "    }\n",
       "\n",
       "    .dataframe thead th {\n",
       "        text-align: right;\n",
       "    }\n",
       "</style>\n",
       "<table border=\"1\" class=\"dataframe\">\n",
       "  <thead>\n",
       "    <tr style=\"text-align: right;\">\n",
       "      <th></th>\n",
       "      <th>state</th>\n",
       "      <th>year</th>\n",
       "    </tr>\n",
       "  </thead>\n",
       "  <tbody>\n",
       "    <tr>\n",
       "      <th>0</th>\n",
       "      <td>ohio</td>\n",
       "      <td>2000</td>\n",
       "    </tr>\n",
       "    <tr>\n",
       "      <th>1</th>\n",
       "      <td>ohio</td>\n",
       "      <td>2001</td>\n",
       "    </tr>\n",
       "  </tbody>\n",
       "</table>\n",
       "</div>"
      ],
      "text/plain": [
       "  state  year\n",
       "0  ohio  2000\n",
       "1  ohio  2001"
      ]
     },
     "execution_count": 97,
     "metadata": {},
     "output_type": "execute_result"
    }
   ],
   "source": [
    "frame.sample(frac=0.5)"
   ]
  },
  {
   "cell_type": "markdown",
   "id": "214a4ae4",
   "metadata": {},
   "source": [
    "### set_index()"
   ]
  },
  {
   "cell_type": "markdown",
   "id": "a3fd6220",
   "metadata": {},
   "source": [
    "功能：指定数据表中的某列或指定某个数组列表为DataFrame行索引。  \n",
    "函数语法  \n",
    "DataFrame.set_index(keys, *, drop=True, append=False, inplace=False, verify_integrity=False)\n",
    " \n",
    "参数说明\n",
    "\n",
    "- key：数据表中的某列/列标签列表/数组列表，需要设置为索引的列。\n",
    "- drop：删除用作新索引的列，默认为True，删除。\n",
    "- append：是否将列附加到现有索引，默认为False，否。\n",
    "- inplace：表示当前操作是否对原数据重新，默认为False，否。\n",
    "- verify_integrity：检查新索引的副本。否则，请将检查推迟到必要时进行。将其设置为False，将提高该方法的性能，默认为False。"
   ]
  },
  {
   "cell_type": "code",
   "execution_count": 6,
   "id": "5b77534f",
   "metadata": {
    "ExecuteTime": {
     "end_time": "2024-10-14T03:10:44.467333Z",
     "start_time": "2024-10-14T03:10:44.429017Z"
    }
   },
   "outputs": [
    {
     "data": {
      "text/html": [
       "<div>\n",
       "<style scoped>\n",
       "    .dataframe tbody tr th:only-of-type {\n",
       "        vertical-align: middle;\n",
       "    }\n",
       "\n",
       "    .dataframe tbody tr th {\n",
       "        vertical-align: top;\n",
       "    }\n",
       "\n",
       "    .dataframe thead th {\n",
       "        text-align: right;\n",
       "    }\n",
       "</style>\n",
       "<table border=\"1\" class=\"dataframe\">\n",
       "  <thead>\n",
       "    <tr style=\"text-align: right;\">\n",
       "      <th></th>\n",
       "      <th>load</th>\n",
       "      <th>temp</th>\n",
       "    </tr>\n",
       "    <tr>\n",
       "      <th>Unnamed: 0</th>\n",
       "      <th></th>\n",
       "      <th></th>\n",
       "    </tr>\n",
       "  </thead>\n",
       "  <tbody>\n",
       "    <tr>\n",
       "      <th>2012-01-01 00:00:00</th>\n",
       "      <td>2698.0</td>\n",
       "      <td>32.00</td>\n",
       "    </tr>\n",
       "    <tr>\n",
       "      <th>2012-01-01 01:00:00</th>\n",
       "      <td>2558.0</td>\n",
       "      <td>32.67</td>\n",
       "    </tr>\n",
       "    <tr>\n",
       "      <th>2012-01-01 02:00:00</th>\n",
       "      <td>2444.0</td>\n",
       "      <td>30.00</td>\n",
       "    </tr>\n",
       "    <tr>\n",
       "      <th>2012-01-01 03:00:00</th>\n",
       "      <td>2402.0</td>\n",
       "      <td>31.00</td>\n",
       "    </tr>\n",
       "    <tr>\n",
       "      <th>2012-01-01 04:00:00</th>\n",
       "      <td>2403.0</td>\n",
       "      <td>32.00</td>\n",
       "    </tr>\n",
       "    <tr>\n",
       "      <th>...</th>\n",
       "      <td>...</td>\n",
       "      <td>...</td>\n",
       "    </tr>\n",
       "    <tr>\n",
       "      <th>2014-12-31 19:00:00</th>\n",
       "      <td>4012.0</td>\n",
       "      <td>18.00</td>\n",
       "    </tr>\n",
       "    <tr>\n",
       "      <th>2014-12-31 20:00:00</th>\n",
       "      <td>3856.0</td>\n",
       "      <td>16.67</td>\n",
       "    </tr>\n",
       "    <tr>\n",
       "      <th>2014-12-31 21:00:00</th>\n",
       "      <td>3671.0</td>\n",
       "      <td>17.00</td>\n",
       "    </tr>\n",
       "    <tr>\n",
       "      <th>2014-12-31 22:00:00</th>\n",
       "      <td>3499.0</td>\n",
       "      <td>15.33</td>\n",
       "    </tr>\n",
       "    <tr>\n",
       "      <th>2014-12-31 23:00:00</th>\n",
       "      <td>3345.0</td>\n",
       "      <td>15.33</td>\n",
       "    </tr>\n",
       "  </tbody>\n",
       "</table>\n",
       "<p>26304 rows × 2 columns</p>\n",
       "</div>"
      ],
      "text/plain": [
       "                       load   temp\n",
       "Unnamed: 0                        \n",
       "2012-01-01 00:00:00  2698.0  32.00\n",
       "2012-01-01 01:00:00  2558.0  32.67\n",
       "2012-01-01 02:00:00  2444.0  30.00\n",
       "2012-01-01 03:00:00  2402.0  31.00\n",
       "2012-01-01 04:00:00  2403.0  32.00\n",
       "...                     ...    ...\n",
       "2014-12-31 19:00:00  4012.0  18.00\n",
       "2014-12-31 20:00:00  3856.0  16.67\n",
       "2014-12-31 21:00:00  3671.0  17.00\n",
       "2014-12-31 22:00:00  3499.0  15.33\n",
       "2014-12-31 23:00:00  3345.0  15.33\n",
       "\n",
       "[26304 rows x 2 columns]"
      ]
     },
     "execution_count": 6,
     "metadata": {},
     "output_type": "execute_result"
    }
   ],
   "source": [
    "import pandas as pd\n",
    "data = pd.read_csv('../data/energy.csv')\n",
    "df = data.set_index('Unnamed: 0')\n",
    "df"
   ]
  },
  {
   "cell_type": "markdown",
   "id": "53e7fcf0",
   "metadata": {},
   "source": [
    "### reset_index()"
   ]
  },
  {
   "cell_type": "markdown",
   "id": "74f8dbf5",
   "metadata": {},
   "source": [
    "功能：第一种对原来的数据表进行reset，第二种是对使用过的set_index()函数进行reset。\n",
    "\n",
    "函数语法\n",
    "\n",
    "DataFrame.reset_index(level=None, \\*, drop=False, inplace=False, col_level=0, col_fill=‘’, allow_duplicates=\\_NoDefault.no_default, names=None)[source]\n",
    "\n",
    "参数说明\n",
    "\n",
    "- key：数值类型可以为：int、str、tuple或list，默认无。\n",
    "- drop：当指定drop=False（默认为False）时，则索引列会被还原为普通列；否则，如设置为True，原索引列会被丢弃。\n",
    "- inplace：表示当前操作是否对原数据重新，默认为False，否。\n",
    "- col_level：数值类型为int或str，默认值为0，如果列有多个级别，则确定将标签插入到哪个级别。默认情况下，它将插入到第一级。\n",
    "- col_fill：对象，默认‘’，如果列有多个级别，则确定其他级别的命名方式。如果没有，则重复索引名。"
   ]
  },
  {
   "cell_type": "code",
   "execution_count": 2,
   "id": "2a691c73",
   "metadata": {
    "ExecuteTime": {
     "end_time": "2024-10-14T03:06:19.522744Z",
     "start_time": "2024-10-14T03:06:19.509102Z"
    }
   },
   "outputs": [
    {
     "data": {
      "text/html": [
       "<div>\n",
       "<style scoped>\n",
       "    .dataframe tbody tr th:only-of-type {\n",
       "        vertical-align: middle;\n",
       "    }\n",
       "\n",
       "    .dataframe tbody tr th {\n",
       "        vertical-align: top;\n",
       "    }\n",
       "\n",
       "    .dataframe thead th {\n",
       "        text-align: right;\n",
       "    }\n",
       "</style>\n",
       "<table border=\"1\" class=\"dataframe\">\n",
       "  <thead>\n",
       "    <tr style=\"text-align: right;\">\n",
       "      <th></th>\n",
       "      <th>Unnamed: 0</th>\n",
       "      <th>load</th>\n",
       "      <th>temp</th>\n",
       "    </tr>\n",
       "  </thead>\n",
       "  <tbody>\n",
       "    <tr>\n",
       "      <th>0</th>\n",
       "      <td>2012-01-01 00:00:00</td>\n",
       "      <td>2698.0</td>\n",
       "      <td>32.00</td>\n",
       "    </tr>\n",
       "    <tr>\n",
       "      <th>1</th>\n",
       "      <td>2012-01-01 01:00:00</td>\n",
       "      <td>2558.0</td>\n",
       "      <td>32.67</td>\n",
       "    </tr>\n",
       "    <tr>\n",
       "      <th>2</th>\n",
       "      <td>2012-01-01 02:00:00</td>\n",
       "      <td>2444.0</td>\n",
       "      <td>30.00</td>\n",
       "    </tr>\n",
       "    <tr>\n",
       "      <th>3</th>\n",
       "      <td>2012-01-01 03:00:00</td>\n",
       "      <td>2402.0</td>\n",
       "      <td>31.00</td>\n",
       "    </tr>\n",
       "    <tr>\n",
       "      <th>4</th>\n",
       "      <td>2012-01-01 04:00:00</td>\n",
       "      <td>2403.0</td>\n",
       "      <td>32.00</td>\n",
       "    </tr>\n",
       "    <tr>\n",
       "      <th>...</th>\n",
       "      <td>...</td>\n",
       "      <td>...</td>\n",
       "      <td>...</td>\n",
       "    </tr>\n",
       "    <tr>\n",
       "      <th>26299</th>\n",
       "      <td>2014-12-31 19:00:00</td>\n",
       "      <td>4012.0</td>\n",
       "      <td>18.00</td>\n",
       "    </tr>\n",
       "    <tr>\n",
       "      <th>26300</th>\n",
       "      <td>2014-12-31 20:00:00</td>\n",
       "      <td>3856.0</td>\n",
       "      <td>16.67</td>\n",
       "    </tr>\n",
       "    <tr>\n",
       "      <th>26301</th>\n",
       "      <td>2014-12-31 21:00:00</td>\n",
       "      <td>3671.0</td>\n",
       "      <td>17.00</td>\n",
       "    </tr>\n",
       "    <tr>\n",
       "      <th>26302</th>\n",
       "      <td>2014-12-31 22:00:00</td>\n",
       "      <td>3499.0</td>\n",
       "      <td>15.33</td>\n",
       "    </tr>\n",
       "    <tr>\n",
       "      <th>26303</th>\n",
       "      <td>2014-12-31 23:00:00</td>\n",
       "      <td>3345.0</td>\n",
       "      <td>15.33</td>\n",
       "    </tr>\n",
       "  </tbody>\n",
       "</table>\n",
       "<p>26304 rows × 3 columns</p>\n",
       "</div>"
      ],
      "text/plain": [
       "                Unnamed: 0    load   temp\n",
       "0      2012-01-01 00:00:00  2698.0  32.00\n",
       "1      2012-01-01 01:00:00  2558.0  32.67\n",
       "2      2012-01-01 02:00:00  2444.0  30.00\n",
       "3      2012-01-01 03:00:00  2402.0  31.00\n",
       "4      2012-01-01 04:00:00  2403.0  32.00\n",
       "...                    ...     ...    ...\n",
       "26299  2014-12-31 19:00:00  4012.0  18.00\n",
       "26300  2014-12-31 20:00:00  3856.0  16.67\n",
       "26301  2014-12-31 21:00:00  3671.0  17.00\n",
       "26302  2014-12-31 22:00:00  3499.0  15.33\n",
       "26303  2014-12-31 23:00:00  3345.0  15.33\n",
       "\n",
       "[26304 rows x 3 columns]"
      ]
     },
     "execution_count": 2,
     "metadata": {},
     "output_type": "execute_result"
    }
   ],
   "source": [
    "df.reset_index()"
   ]
  },
  {
   "cell_type": "markdown",
   "id": "9f23979a",
   "metadata": {},
   "source": [
    "### 打印数据框"
   ]
  },
  {
   "cell_type": "code",
   "execution_count": 3,
   "id": "6d843f25",
   "metadata": {
    "ExecuteTime": {
     "end_time": "2024-10-14T03:06:26.517922Z",
     "start_time": "2024-10-14T03:06:26.507119Z"
    }
   },
   "outputs": [
    {
     "data": {
      "text/html": [
       "<div>\n",
       "<style scoped>\n",
       "    .dataframe tbody tr th:only-of-type {\n",
       "        vertical-align: middle;\n",
       "    }\n",
       "\n",
       "    .dataframe tbody tr th {\n",
       "        vertical-align: top;\n",
       "    }\n",
       "\n",
       "    .dataframe thead th {\n",
       "        text-align: right;\n",
       "    }\n",
       "</style>\n",
       "<table border=\"1\" class=\"dataframe\">\n",
       "  <thead>\n",
       "    <tr style=\"text-align: right;\">\n",
       "      <th></th>\n",
       "      <th>load</th>\n",
       "      <th>temp</th>\n",
       "    </tr>\n",
       "    <tr>\n",
       "      <th>Unnamed: 0</th>\n",
       "      <th></th>\n",
       "      <th></th>\n",
       "    </tr>\n",
       "  </thead>\n",
       "  <tbody>\n",
       "    <tr>\n",
       "      <th>2012-01-01 00:00:00</th>\n",
       "      <td>2698.0</td>\n",
       "      <td>32.00</td>\n",
       "    </tr>\n",
       "    <tr>\n",
       "      <th>2012-01-01 01:00:00</th>\n",
       "      <td>2558.0</td>\n",
       "      <td>32.67</td>\n",
       "    </tr>\n",
       "    <tr>\n",
       "      <th>2012-01-01 02:00:00</th>\n",
       "      <td>2444.0</td>\n",
       "      <td>30.00</td>\n",
       "    </tr>\n",
       "    <tr>\n",
       "      <th>2012-01-01 03:00:00</th>\n",
       "      <td>2402.0</td>\n",
       "      <td>31.00</td>\n",
       "    </tr>\n",
       "    <tr>\n",
       "      <th>2012-01-01 04:00:00</th>\n",
       "      <td>2403.0</td>\n",
       "      <td>32.00</td>\n",
       "    </tr>\n",
       "    <tr>\n",
       "      <th>...</th>\n",
       "      <td>...</td>\n",
       "      <td>...</td>\n",
       "    </tr>\n",
       "    <tr>\n",
       "      <th>2014-12-31 19:00:00</th>\n",
       "      <td>4012.0</td>\n",
       "      <td>18.00</td>\n",
       "    </tr>\n",
       "    <tr>\n",
       "      <th>2014-12-31 20:00:00</th>\n",
       "      <td>3856.0</td>\n",
       "      <td>16.67</td>\n",
       "    </tr>\n",
       "    <tr>\n",
       "      <th>2014-12-31 21:00:00</th>\n",
       "      <td>3671.0</td>\n",
       "      <td>17.00</td>\n",
       "    </tr>\n",
       "    <tr>\n",
       "      <th>2014-12-31 22:00:00</th>\n",
       "      <td>3499.0</td>\n",
       "      <td>15.33</td>\n",
       "    </tr>\n",
       "    <tr>\n",
       "      <th>2014-12-31 23:00:00</th>\n",
       "      <td>3345.0</td>\n",
       "      <td>15.33</td>\n",
       "    </tr>\n",
       "  </tbody>\n",
       "</table>\n",
       "<p>26304 rows × 2 columns</p>\n",
       "</div>"
      ],
      "text/plain": [
       "                       load   temp\n",
       "Unnamed: 0                        \n",
       "2012-01-01 00:00:00  2698.0  32.00\n",
       "2012-01-01 01:00:00  2558.0  32.67\n",
       "2012-01-01 02:00:00  2444.0  30.00\n",
       "2012-01-01 03:00:00  2402.0  31.00\n",
       "2012-01-01 04:00:00  2403.0  32.00\n",
       "...                     ...    ...\n",
       "2014-12-31 19:00:00  4012.0  18.00\n",
       "2014-12-31 20:00:00  3856.0  16.67\n",
       "2014-12-31 21:00:00  3671.0  17.00\n",
       "2014-12-31 22:00:00  3499.0  15.33\n",
       "2014-12-31 23:00:00  3345.0  15.33\n",
       "\n",
       "[26304 rows x 2 columns]"
      ]
     },
     "metadata": {},
     "output_type": "display_data"
    }
   ],
   "source": [
    "display(df)"
   ]
  },
  {
   "cell_type": "markdown",
   "id": "fee699d2",
   "metadata": {},
   "source": [
    "### 排序"
   ]
  },
  {
   "cell_type": "code",
   "execution_count": 7,
   "id": "715d4da4",
   "metadata": {
    "ExecuteTime": {
     "end_time": "2024-10-14T03:10:54.324005Z",
     "start_time": "2024-10-14T03:10:54.308475Z"
    }
   },
   "outputs": [
    {
     "data": {
      "text/html": [
       "<div>\n",
       "<style scoped>\n",
       "    .dataframe tbody tr th:only-of-type {\n",
       "        vertical-align: middle;\n",
       "    }\n",
       "\n",
       "    .dataframe tbody tr th {\n",
       "        vertical-align: top;\n",
       "    }\n",
       "\n",
       "    .dataframe thead th {\n",
       "        text-align: right;\n",
       "    }\n",
       "</style>\n",
       "<table border=\"1\" class=\"dataframe\">\n",
       "  <thead>\n",
       "    <tr style=\"text-align: right;\">\n",
       "      <th></th>\n",
       "      <th>load</th>\n",
       "      <th>temp</th>\n",
       "    </tr>\n",
       "    <tr>\n",
       "      <th>Unnamed: 0</th>\n",
       "      <th></th>\n",
       "      <th></th>\n",
       "    </tr>\n",
       "  </thead>\n",
       "  <tbody>\n",
       "    <tr>\n",
       "      <th>2012-10-30 03:00:00</th>\n",
       "      <td>1979.0</td>\n",
       "      <td>60.00</td>\n",
       "    </tr>\n",
       "    <tr>\n",
       "      <th>2012-10-30 02:00:00</th>\n",
       "      <td>1987.0</td>\n",
       "      <td>59.33</td>\n",
       "    </tr>\n",
       "    <tr>\n",
       "      <th>2012-10-30 01:00:00</th>\n",
       "      <td>2026.0</td>\n",
       "      <td>60.00</td>\n",
       "    </tr>\n",
       "    <tr>\n",
       "      <th>2012-10-30 00:00:00</th>\n",
       "      <td>2064.0</td>\n",
       "      <td>59.67</td>\n",
       "    </tr>\n",
       "    <tr>\n",
       "      <th>2012-10-30 04:00:00</th>\n",
       "      <td>2067.0</td>\n",
       "      <td>59.67</td>\n",
       "    </tr>\n",
       "    <tr>\n",
       "      <th>...</th>\n",
       "      <td>...</td>\n",
       "      <td>...</td>\n",
       "    </tr>\n",
       "    <tr>\n",
       "      <th>2013-07-19 17:00:00</th>\n",
       "      <td>5178.0</td>\n",
       "      <td>95.00</td>\n",
       "    </tr>\n",
       "    <tr>\n",
       "      <th>2013-07-19 13:00:00</th>\n",
       "      <td>5195.0</td>\n",
       "      <td>90.67</td>\n",
       "    </tr>\n",
       "    <tr>\n",
       "      <th>2013-07-19 14:00:00</th>\n",
       "      <td>5202.0</td>\n",
       "      <td>92.67</td>\n",
       "    </tr>\n",
       "    <tr>\n",
       "      <th>2013-07-19 15:00:00</th>\n",
       "      <td>5210.0</td>\n",
       "      <td>94.00</td>\n",
       "    </tr>\n",
       "    <tr>\n",
       "      <th>2013-07-19 16:00:00</th>\n",
       "      <td>5224.0</td>\n",
       "      <td>95.00</td>\n",
       "    </tr>\n",
       "  </tbody>\n",
       "</table>\n",
       "<p>26304 rows × 2 columns</p>\n",
       "</div>"
      ],
      "text/plain": [
       "                       load   temp\n",
       "Unnamed: 0                        \n",
       "2012-10-30 03:00:00  1979.0  60.00\n",
       "2012-10-30 02:00:00  1987.0  59.33\n",
       "2012-10-30 01:00:00  2026.0  60.00\n",
       "2012-10-30 00:00:00  2064.0  59.67\n",
       "2012-10-30 04:00:00  2067.0  59.67\n",
       "...                     ...    ...\n",
       "2013-07-19 17:00:00  5178.0  95.00\n",
       "2013-07-19 13:00:00  5195.0  90.67\n",
       "2013-07-19 14:00:00  5202.0  92.67\n",
       "2013-07-19 15:00:00  5210.0  94.00\n",
       "2013-07-19 16:00:00  5224.0  95.00\n",
       "\n",
       "[26304 rows x 2 columns]"
      ]
     },
     "execution_count": 7,
     "metadata": {},
     "output_type": "execute_result"
    }
   ],
   "source": [
    "# 默认是升序排序(ascending=True),ascending=False:降序排序\n",
    "df_sorted = df.sort_values(by='load', ascending=True)\n",
    "df_sorted"
   ]
  },
  {
   "cell_type": "code",
   "execution_count": 8,
   "id": "ca32d686",
   "metadata": {
    "ExecuteTime": {
     "end_time": "2024-10-14T03:11:47.986666Z",
     "start_time": "2024-10-14T03:11:47.952576Z"
    }
   },
   "outputs": [
    {
     "data": {
      "text/html": [
       "<div>\n",
       "<style scoped>\n",
       "    .dataframe tbody tr th:only-of-type {\n",
       "        vertical-align: middle;\n",
       "    }\n",
       "\n",
       "    .dataframe tbody tr th {\n",
       "        vertical-align: top;\n",
       "    }\n",
       "\n",
       "    .dataframe thead th {\n",
       "        text-align: right;\n",
       "    }\n",
       "</style>\n",
       "<table border=\"1\" class=\"dataframe\">\n",
       "  <thead>\n",
       "    <tr style=\"text-align: right;\">\n",
       "      <th></th>\n",
       "      <th>load</th>\n",
       "      <th>temp</th>\n",
       "    </tr>\n",
       "    <tr>\n",
       "      <th>Unnamed: 0</th>\n",
       "      <th></th>\n",
       "      <th></th>\n",
       "    </tr>\n",
       "  </thead>\n",
       "  <tbody>\n",
       "    <tr>\n",
       "      <th>2012-10-30 03:00:00</th>\n",
       "      <td>1979.0</td>\n",
       "      <td>60.00</td>\n",
       "    </tr>\n",
       "    <tr>\n",
       "      <th>2012-10-30 02:00:00</th>\n",
       "      <td>1987.0</td>\n",
       "      <td>59.33</td>\n",
       "    </tr>\n",
       "    <tr>\n",
       "      <th>2012-10-30 01:00:00</th>\n",
       "      <td>2026.0</td>\n",
       "      <td>60.00</td>\n",
       "    </tr>\n",
       "    <tr>\n",
       "      <th>2012-10-30 00:00:00</th>\n",
       "      <td>2064.0</td>\n",
       "      <td>59.67</td>\n",
       "    </tr>\n",
       "    <tr>\n",
       "      <th>2012-10-30 04:00:00</th>\n",
       "      <td>2067.0</td>\n",
       "      <td>59.67</td>\n",
       "    </tr>\n",
       "    <tr>\n",
       "      <th>...</th>\n",
       "      <td>...</td>\n",
       "      <td>...</td>\n",
       "    </tr>\n",
       "    <tr>\n",
       "      <th>2013-07-19 17:00:00</th>\n",
       "      <td>5178.0</td>\n",
       "      <td>95.00</td>\n",
       "    </tr>\n",
       "    <tr>\n",
       "      <th>2013-07-19 13:00:00</th>\n",
       "      <td>5195.0</td>\n",
       "      <td>90.67</td>\n",
       "    </tr>\n",
       "    <tr>\n",
       "      <th>2013-07-19 14:00:00</th>\n",
       "      <td>5202.0</td>\n",
       "      <td>92.67</td>\n",
       "    </tr>\n",
       "    <tr>\n",
       "      <th>2013-07-19 15:00:00</th>\n",
       "      <td>5210.0</td>\n",
       "      <td>94.00</td>\n",
       "    </tr>\n",
       "    <tr>\n",
       "      <th>2013-07-19 16:00:00</th>\n",
       "      <td>5224.0</td>\n",
       "      <td>95.00</td>\n",
       "    </tr>\n",
       "  </tbody>\n",
       "</table>\n",
       "<p>26304 rows × 2 columns</p>\n",
       "</div>"
      ],
      "text/plain": [
       "                       load   temp\n",
       "Unnamed: 0                        \n",
       "2012-10-30 03:00:00  1979.0  60.00\n",
       "2012-10-30 02:00:00  1987.0  59.33\n",
       "2012-10-30 01:00:00  2026.0  60.00\n",
       "2012-10-30 00:00:00  2064.0  59.67\n",
       "2012-10-30 04:00:00  2067.0  59.67\n",
       "...                     ...    ...\n",
       "2013-07-19 17:00:00  5178.0  95.00\n",
       "2013-07-19 13:00:00  5195.0  90.67\n",
       "2013-07-19 14:00:00  5202.0  92.67\n",
       "2013-07-19 15:00:00  5210.0  94.00\n",
       "2013-07-19 16:00:00  5224.0  95.00\n",
       "\n",
       "[26304 rows x 2 columns]"
      ]
     },
     "execution_count": 8,
     "metadata": {},
     "output_type": "execute_result"
    }
   ],
   "source": [
    "# 如果要使一列ascending为True,一列为False:\n",
    "df_sorted = df.sort_values(by=['load', 'temp'], ascending=[True, False])\n",
    "df_sorted"
   ]
  },
  {
   "cell_type": "markdown",
   "id": "32bf0e59",
   "metadata": {},
   "source": [
    "## 常用函数"
   ]
  },
  {
   "cell_type": "markdown",
   "id": "3d2862f2",
   "metadata": {},
   "source": [
    "### map"
   ]
  },
  {
   "cell_type": "markdown",
   "id": "c7f51138",
   "metadata": {},
   "source": [
    "map() 是一个Series的函数，DataFrame结构中没有map()。map()将一个自定义函数应用于Series结构中的每个元素(elements)。"
   ]
  },
  {
   "cell_type": "code",
   "execution_count": 5,
   "id": "39506e84",
   "metadata": {
    "ExecuteTime": {
     "end_time": "2023-07-07T02:07:44.083217Z",
     "start_time": "2023-07-07T02:07:44.069263Z"
    }
   },
   "outputs": [
    {
     "data": {
      "text/html": [
       "<div>\n",
       "<style scoped>\n",
       "    .dataframe tbody tr th:only-of-type {\n",
       "        vertical-align: middle;\n",
       "    }\n",
       "\n",
       "    .dataframe tbody tr th {\n",
       "        vertical-align: top;\n",
       "    }\n",
       "\n",
       "    .dataframe thead th {\n",
       "        text-align: right;\n",
       "    }\n",
       "</style>\n",
       "<table border=\"1\" class=\"dataframe\">\n",
       "  <thead>\n",
       "    <tr style=\"text-align: right;\">\n",
       "      <th></th>\n",
       "      <th>state</th>\n",
       "      <th>year</th>\n",
       "    </tr>\n",
       "  </thead>\n",
       "  <tbody>\n",
       "    <tr>\n",
       "      <th>0</th>\n",
       "      <td>ohio</td>\n",
       "      <td>2000</td>\n",
       "    </tr>\n",
       "    <tr>\n",
       "      <th>1</th>\n",
       "      <td>ohio</td>\n",
       "      <td>2001</td>\n",
       "    </tr>\n",
       "    <tr>\n",
       "      <th>2</th>\n",
       "      <td>nevada</td>\n",
       "      <td>2002</td>\n",
       "    </tr>\n",
       "  </tbody>\n",
       "</table>\n",
       "</div>"
      ],
      "text/plain": [
       "    state  year\n",
       "0    ohio  2000\n",
       "1    ohio  2001\n",
       "2  nevada  2002"
      ]
     },
     "metadata": {},
     "output_type": "display_data"
    }
   ],
   "source": [
    "data = {'state':['ohio', 'ohio', 'nevada'],\n",
    "        'year':[2000, 2001, 2002]}\n",
    "df = pd.DataFrame(data)\n",
    "display(df)"
   ]
  },
  {
   "cell_type": "code",
   "execution_count": 6,
   "id": "d49efff7",
   "metadata": {
    "ExecuteTime": {
     "end_time": "2023-07-07T02:08:40.670608Z",
     "start_time": "2023-07-07T02:08:40.660641Z"
    }
   },
   "outputs": [
    {
     "data": {
      "text/html": [
       "<div>\n",
       "<style scoped>\n",
       "    .dataframe tbody tr th:only-of-type {\n",
       "        vertical-align: middle;\n",
       "    }\n",
       "\n",
       "    .dataframe tbody tr th {\n",
       "        vertical-align: top;\n",
       "    }\n",
       "\n",
       "    .dataframe thead th {\n",
       "        text-align: right;\n",
       "    }\n",
       "</style>\n",
       "<table border=\"1\" class=\"dataframe\">\n",
       "  <thead>\n",
       "    <tr style=\"text-align: right;\">\n",
       "      <th></th>\n",
       "      <th>state</th>\n",
       "      <th>year</th>\n",
       "    </tr>\n",
       "  </thead>\n",
       "  <tbody>\n",
       "    <tr>\n",
       "      <th>0</th>\n",
       "      <td>Ohio</td>\n",
       "      <td>2000</td>\n",
       "    </tr>\n",
       "    <tr>\n",
       "      <th>1</th>\n",
       "      <td>Ohio</td>\n",
       "      <td>2001</td>\n",
       "    </tr>\n",
       "    <tr>\n",
       "      <th>2</th>\n",
       "      <td>Nevada</td>\n",
       "      <td>2002</td>\n",
       "    </tr>\n",
       "  </tbody>\n",
       "</table>\n",
       "</div>"
      ],
      "text/plain": [
       "    state  year\n",
       "0    Ohio  2000\n",
       "1    Ohio  2001\n",
       "2  Nevada  2002"
      ]
     },
     "metadata": {},
     "output_type": "display_data"
    }
   ],
   "source": [
    "df[\"state\"] = df[\"state\"].map(str.capitalize) #首字母大写\n",
    "display(df)"
   ]
  },
  {
   "cell_type": "code",
   "execution_count": 9,
   "id": "e1b5d7fe",
   "metadata": {
    "ExecuteTime": {
     "end_time": "2023-07-07T02:12:08.838640Z",
     "start_time": "2023-07-07T02:12:08.828674Z"
    }
   },
   "outputs": [
    {
     "data": {
      "text/html": [
       "<div>\n",
       "<style scoped>\n",
       "    .dataframe tbody tr th:only-of-type {\n",
       "        vertical-align: middle;\n",
       "    }\n",
       "\n",
       "    .dataframe tbody tr th {\n",
       "        vertical-align: top;\n",
       "    }\n",
       "\n",
       "    .dataframe thead th {\n",
       "        text-align: right;\n",
       "    }\n",
       "</style>\n",
       "<table border=\"1\" class=\"dataframe\">\n",
       "  <thead>\n",
       "    <tr style=\"text-align: right;\">\n",
       "      <th></th>\n",
       "      <th>key1</th>\n",
       "      <th>key2</th>\n",
       "      <th>data1</th>\n",
       "      <th>data2</th>\n",
       "    </tr>\n",
       "  </thead>\n",
       "  <tbody>\n",
       "    <tr>\n",
       "      <th>0</th>\n",
       "      <td>a</td>\n",
       "      <td>one</td>\n",
       "      <td>0</td>\n",
       "      <td>5</td>\n",
       "    </tr>\n",
       "    <tr>\n",
       "      <th>1</th>\n",
       "      <td>a</td>\n",
       "      <td>two</td>\n",
       "      <td>1</td>\n",
       "      <td>6</td>\n",
       "    </tr>\n",
       "    <tr>\n",
       "      <th>2</th>\n",
       "      <td>b</td>\n",
       "      <td>one</td>\n",
       "      <td>2</td>\n",
       "      <td>7</td>\n",
       "    </tr>\n",
       "    <tr>\n",
       "      <th>3</th>\n",
       "      <td>b</td>\n",
       "      <td>two</td>\n",
       "      <td>3</td>\n",
       "      <td>8</td>\n",
       "    </tr>\n",
       "    <tr>\n",
       "      <th>4</th>\n",
       "      <td>a</td>\n",
       "      <td>one</td>\n",
       "      <td>4</td>\n",
       "      <td>9</td>\n",
       "    </tr>\n",
       "  </tbody>\n",
       "</table>\n",
       "</div>"
      ],
      "text/plain": [
       "  key1 key2  data1  data2\n",
       "0    a  one      0      5\n",
       "1    a  two      1      6\n",
       "2    b  one      2      7\n",
       "3    b  two      3      8\n",
       "4    a  one      4      9"
      ]
     },
     "execution_count": 9,
     "metadata": {},
     "output_type": "execute_result"
    }
   ],
   "source": [
    "df = pd.DataFrame({'key1' : ['a', 'a', 'b', 'b', 'a'],\n",
    "                   'key2' : ['one', 'two', 'one', 'two', 'one'],\n",
    "                   'data1' : np.arange(5),\n",
    "                   'data2' : np.arange(5,10)})\n",
    "df"
   ]
  },
  {
   "cell_type": "code",
   "execution_count": 10,
   "id": "8e4b357e",
   "metadata": {
    "ExecuteTime": {
     "end_time": "2023-07-07T02:12:38.602955Z",
     "start_time": "2023-07-07T02:12:38.581028Z"
    }
   },
   "outputs": [
    {
     "data": {
      "text/html": [
       "<div>\n",
       "<style scoped>\n",
       "    .dataframe tbody tr th:only-of-type {\n",
       "        vertical-align: middle;\n",
       "    }\n",
       "\n",
       "    .dataframe tbody tr th {\n",
       "        vertical-align: top;\n",
       "    }\n",
       "\n",
       "    .dataframe thead th {\n",
       "        text-align: right;\n",
       "    }\n",
       "</style>\n",
       "<table border=\"1\" class=\"dataframe\">\n",
       "  <thead>\n",
       "    <tr style=\"text-align: right;\">\n",
       "      <th></th>\n",
       "      <th>key1</th>\n",
       "      <th>key2</th>\n",
       "      <th>data1</th>\n",
       "      <th>data2</th>\n",
       "    </tr>\n",
       "  </thead>\n",
       "  <tbody>\n",
       "    <tr>\n",
       "      <th>0</th>\n",
       "      <td>a</td>\n",
       "      <td>one</td>\n",
       "      <td>0.000</td>\n",
       "      <td>5</td>\n",
       "    </tr>\n",
       "    <tr>\n",
       "      <th>1</th>\n",
       "      <td>a</td>\n",
       "      <td>two</td>\n",
       "      <td>1.000</td>\n",
       "      <td>6</td>\n",
       "    </tr>\n",
       "    <tr>\n",
       "      <th>2</th>\n",
       "      <td>b</td>\n",
       "      <td>one</td>\n",
       "      <td>2.000</td>\n",
       "      <td>7</td>\n",
       "    </tr>\n",
       "    <tr>\n",
       "      <th>3</th>\n",
       "      <td>b</td>\n",
       "      <td>two</td>\n",
       "      <td>3.000</td>\n",
       "      <td>8</td>\n",
       "    </tr>\n",
       "    <tr>\n",
       "      <th>4</th>\n",
       "      <td>a</td>\n",
       "      <td>one</td>\n",
       "      <td>4.000</td>\n",
       "      <td>9</td>\n",
       "    </tr>\n",
       "  </tbody>\n",
       "</table>\n",
       "</div>"
      ],
      "text/plain": [
       "  key1 key2  data1  data2\n",
       "0    a  one  0.000      5\n",
       "1    a  two  1.000      6\n",
       "2    b  one  2.000      7\n",
       "3    b  two  3.000      8\n",
       "4    a  one  4.000      9"
      ]
     },
     "execution_count": 10,
     "metadata": {},
     "output_type": "execute_result"
    }
   ],
   "source": [
    "df['data1'] = df['data1'].map(lambda x : \"%.3f\"%x) #lambda在这里其实是在定义一个简单的函数，一个没有函数名的函数。\n",
    "df"
   ]
  },
  {
   "cell_type": "code",
   "execution_count": 11,
   "id": "b8ce620f",
   "metadata": {
    "ExecuteTime": {
     "end_time": "2023-07-07T02:13:33.794285Z",
     "start_time": "2023-07-07T02:13:33.773391Z"
    }
   },
   "outputs": [
    {
     "data": {
      "text/html": [
       "<div>\n",
       "<style scoped>\n",
       "    .dataframe tbody tr th:only-of-type {\n",
       "        vertical-align: middle;\n",
       "    }\n",
       "\n",
       "    .dataframe tbody tr th {\n",
       "        vertical-align: top;\n",
       "    }\n",
       "\n",
       "    .dataframe thead th {\n",
       "        text-align: right;\n",
       "    }\n",
       "</style>\n",
       "<table border=\"1\" class=\"dataframe\">\n",
       "  <thead>\n",
       "    <tr style=\"text-align: right;\">\n",
       "      <th></th>\n",
       "      <th>key1</th>\n",
       "      <th>key2</th>\n",
       "      <th>data1</th>\n",
       "      <th>data2</th>\n",
       "    </tr>\n",
       "  </thead>\n",
       "  <tbody>\n",
       "    <tr>\n",
       "      <th>0</th>\n",
       "      <td>c</td>\n",
       "      <td>one</td>\n",
       "      <td>0.000</td>\n",
       "      <td>5</td>\n",
       "    </tr>\n",
       "    <tr>\n",
       "      <th>1</th>\n",
       "      <td>c</td>\n",
       "      <td>two</td>\n",
       "      <td>1.000</td>\n",
       "      <td>6</td>\n",
       "    </tr>\n",
       "    <tr>\n",
       "      <th>2</th>\n",
       "      <td>d</td>\n",
       "      <td>one</td>\n",
       "      <td>2.000</td>\n",
       "      <td>7</td>\n",
       "    </tr>\n",
       "    <tr>\n",
       "      <th>3</th>\n",
       "      <td>d</td>\n",
       "      <td>two</td>\n",
       "      <td>3.000</td>\n",
       "      <td>8</td>\n",
       "    </tr>\n",
       "    <tr>\n",
       "      <th>4</th>\n",
       "      <td>c</td>\n",
       "      <td>one</td>\n",
       "      <td>4.000</td>\n",
       "      <td>9</td>\n",
       "    </tr>\n",
       "  </tbody>\n",
       "</table>\n",
       "</div>"
      ],
      "text/plain": [
       "  key1 key2  data1  data2\n",
       "0    c  one  0.000      5\n",
       "1    c  two  1.000      6\n",
       "2    d  one  2.000      7\n",
       "3    d  two  3.000      8\n",
       "4    c  one  4.000      9"
      ]
     },
     "execution_count": 11,
     "metadata": {},
     "output_type": "execute_result"
    }
   ],
   "source": [
    "df['key1'] = df['key1'].map({'a':'c',\"b\":\"d\"})\n",
    "df"
   ]
  },
  {
   "cell_type": "markdown",
   "id": "37818de2",
   "metadata": {},
   "source": [
    "### apply"
   ]
  },
  {
   "cell_type": "markdown",
   "id": "e07c7057",
   "metadata": {},
   "source": [
    "apply() 函数功能是自动遍历Series 或者 DataFrame，对每一个元素运行指定的函数。 对于Series 元素为Series中的每一个值，对于DataFrame元素为DataFrame的一行（axis=1）或一列（axis=0），map、transformer只能进行一列处理处理，apply()可以对单列或多列进行处理."
   ]
  },
  {
   "cell_type": "code",
   "execution_count": 13,
   "id": "f2d4f41b",
   "metadata": {
    "ExecuteTime": {
     "end_time": "2023-07-07T02:16:02.979642Z",
     "start_time": "2023-07-07T02:16:02.972665Z"
    }
   },
   "outputs": [
    {
     "data": {
      "text/html": [
       "<div>\n",
       "<style scoped>\n",
       "    .dataframe tbody tr th:only-of-type {\n",
       "        vertical-align: middle;\n",
       "    }\n",
       "\n",
       "    .dataframe tbody tr th {\n",
       "        vertical-align: top;\n",
       "    }\n",
       "\n",
       "    .dataframe thead th {\n",
       "        text-align: right;\n",
       "    }\n",
       "</style>\n",
       "<table border=\"1\" class=\"dataframe\">\n",
       "  <thead>\n",
       "    <tr style=\"text-align: right;\">\n",
       "      <th></th>\n",
       "      <th>key1</th>\n",
       "      <th>key2</th>\n",
       "      <th>data1</th>\n",
       "      <th>data2</th>\n",
       "    </tr>\n",
       "  </thead>\n",
       "  <tbody>\n",
       "    <tr>\n",
       "      <th>0</th>\n",
       "      <td>a</td>\n",
       "      <td>one</td>\n",
       "      <td>0</td>\n",
       "      <td>5</td>\n",
       "    </tr>\n",
       "    <tr>\n",
       "      <th>1</th>\n",
       "      <td>a</td>\n",
       "      <td>two</td>\n",
       "      <td>1</td>\n",
       "      <td>6</td>\n",
       "    </tr>\n",
       "    <tr>\n",
       "      <th>2</th>\n",
       "      <td>b</td>\n",
       "      <td>one</td>\n",
       "      <td>2</td>\n",
       "      <td>7</td>\n",
       "    </tr>\n",
       "    <tr>\n",
       "      <th>3</th>\n",
       "      <td>b</td>\n",
       "      <td>two</td>\n",
       "      <td>3</td>\n",
       "      <td>8</td>\n",
       "    </tr>\n",
       "    <tr>\n",
       "      <th>4</th>\n",
       "      <td>a</td>\n",
       "      <td>one</td>\n",
       "      <td>4</td>\n",
       "      <td>9</td>\n",
       "    </tr>\n",
       "  </tbody>\n",
       "</table>\n",
       "</div>"
      ],
      "text/plain": [
       "  key1 key2  data1  data2\n",
       "0    a  one      0      5\n",
       "1    a  two      1      6\n",
       "2    b  one      2      7\n",
       "3    b  two      3      8\n",
       "4    a  one      4      9"
      ]
     },
     "execution_count": 13,
     "metadata": {},
     "output_type": "execute_result"
    }
   ],
   "source": [
    "df = pd.DataFrame({'key1' : ['a', 'a', 'b', 'b', 'a'],\n",
    "                   'key2' : ['one', 'two', 'one', 'two', 'one'],\n",
    "                   'data1' : np.arange(5),\n",
    "                   'data2' : np.arange(5,10)})\n",
    "df"
   ]
  },
  {
   "cell_type": "code",
   "execution_count": 14,
   "id": "34bacd9b",
   "metadata": {
    "ExecuteTime": {
     "end_time": "2023-07-07T02:16:04.381417Z",
     "start_time": "2023-07-07T02:16:04.373443Z"
    }
   },
   "outputs": [
    {
     "data": {
      "text/html": [
       "<div>\n",
       "<style scoped>\n",
       "    .dataframe tbody tr th:only-of-type {\n",
       "        vertical-align: middle;\n",
       "    }\n",
       "\n",
       "    .dataframe tbody tr th {\n",
       "        vertical-align: top;\n",
       "    }\n",
       "\n",
       "    .dataframe thead th {\n",
       "        text-align: right;\n",
       "    }\n",
       "</style>\n",
       "<table border=\"1\" class=\"dataframe\">\n",
       "  <thead>\n",
       "    <tr style=\"text-align: right;\">\n",
       "      <th></th>\n",
       "      <th>key1</th>\n",
       "      <th>key2</th>\n",
       "      <th>data1</th>\n",
       "      <th>data2</th>\n",
       "      <th>total</th>\n",
       "    </tr>\n",
       "  </thead>\n",
       "  <tbody>\n",
       "    <tr>\n",
       "      <th>0</th>\n",
       "      <td>a</td>\n",
       "      <td>one</td>\n",
       "      <td>0</td>\n",
       "      <td>5</td>\n",
       "      <td>5</td>\n",
       "    </tr>\n",
       "    <tr>\n",
       "      <th>1</th>\n",
       "      <td>a</td>\n",
       "      <td>two</td>\n",
       "      <td>1</td>\n",
       "      <td>6</td>\n",
       "      <td>7</td>\n",
       "    </tr>\n",
       "    <tr>\n",
       "      <th>2</th>\n",
       "      <td>b</td>\n",
       "      <td>one</td>\n",
       "      <td>2</td>\n",
       "      <td>7</td>\n",
       "      <td>9</td>\n",
       "    </tr>\n",
       "    <tr>\n",
       "      <th>3</th>\n",
       "      <td>b</td>\n",
       "      <td>two</td>\n",
       "      <td>3</td>\n",
       "      <td>8</td>\n",
       "      <td>11</td>\n",
       "    </tr>\n",
       "    <tr>\n",
       "      <th>4</th>\n",
       "      <td>a</td>\n",
       "      <td>one</td>\n",
       "      <td>4</td>\n",
       "      <td>9</td>\n",
       "      <td>13</td>\n",
       "    </tr>\n",
       "  </tbody>\n",
       "</table>\n",
       "</div>"
      ],
      "text/plain": [
       "  key1 key2  data1  data2  total\n",
       "0    a  one      0      5      5\n",
       "1    a  two      1      6      7\n",
       "2    b  one      2      7      9\n",
       "3    b  two      3      8     11\n",
       "4    a  one      4      9     13"
      ]
     },
     "execution_count": 14,
     "metadata": {},
     "output_type": "execute_result"
    }
   ],
   "source": [
    "df['total'] = df[['data1','data2']].apply(lambda x : x.sum(),axis=1 ) \n",
    "df"
   ]
  },
  {
   "cell_type": "code",
   "execution_count": 15,
   "id": "a9a78739",
   "metadata": {
    "ExecuteTime": {
     "end_time": "2023-07-07T02:20:50.966113Z",
     "start_time": "2023-07-07T02:20:50.949170Z"
    }
   },
   "outputs": [
    {
     "data": {
      "text/html": [
       "<div>\n",
       "<style scoped>\n",
       "    .dataframe tbody tr th:only-of-type {\n",
       "        vertical-align: middle;\n",
       "    }\n",
       "\n",
       "    .dataframe tbody tr th {\n",
       "        vertical-align: top;\n",
       "    }\n",
       "\n",
       "    .dataframe thead th {\n",
       "        text-align: right;\n",
       "    }\n",
       "</style>\n",
       "<table border=\"1\" class=\"dataframe\">\n",
       "  <thead>\n",
       "    <tr style=\"text-align: right;\">\n",
       "      <th></th>\n",
       "      <th>key1</th>\n",
       "      <th>key2</th>\n",
       "      <th>data1</th>\n",
       "      <th>data2</th>\n",
       "      <th>total</th>\n",
       "    </tr>\n",
       "  </thead>\n",
       "  <tbody>\n",
       "    <tr>\n",
       "      <th>0</th>\n",
       "      <td>a</td>\n",
       "      <td>one</td>\n",
       "      <td>0.0</td>\n",
       "      <td>5.0</td>\n",
       "      <td>5.0</td>\n",
       "    </tr>\n",
       "    <tr>\n",
       "      <th>1</th>\n",
       "      <td>a</td>\n",
       "      <td>two</td>\n",
       "      <td>1.0</td>\n",
       "      <td>6.0</td>\n",
       "      <td>7.0</td>\n",
       "    </tr>\n",
       "    <tr>\n",
       "      <th>2</th>\n",
       "      <td>b</td>\n",
       "      <td>one</td>\n",
       "      <td>2.0</td>\n",
       "      <td>7.0</td>\n",
       "      <td>9.0</td>\n",
       "    </tr>\n",
       "    <tr>\n",
       "      <th>3</th>\n",
       "      <td>b</td>\n",
       "      <td>two</td>\n",
       "      <td>3.0</td>\n",
       "      <td>8.0</td>\n",
       "      <td>11.0</td>\n",
       "    </tr>\n",
       "    <tr>\n",
       "      <th>4</th>\n",
       "      <td>a</td>\n",
       "      <td>one</td>\n",
       "      <td>4.0</td>\n",
       "      <td>9.0</td>\n",
       "      <td>13.0</td>\n",
       "    </tr>\n",
       "    <tr>\n",
       "      <th>total</th>\n",
       "      <td>NaN</td>\n",
       "      <td>NaN</td>\n",
       "      <td>10.0</td>\n",
       "      <td>35.0</td>\n",
       "      <td>NaN</td>\n",
       "    </tr>\n",
       "  </tbody>\n",
       "</table>\n",
       "</div>"
      ],
      "text/plain": [
       "      key1 key2  data1  data2  total\n",
       "0        a  one    0.0    5.0    5.0\n",
       "1        a  two    1.0    6.0    7.0\n",
       "2        b  one    2.0    7.0    9.0\n",
       "3        b  two    3.0    8.0   11.0\n",
       "4        a  one    4.0    9.0   13.0\n",
       "total  NaN  NaN   10.0   35.0    NaN"
      ]
     },
     "execution_count": 15,
     "metadata": {},
     "output_type": "execute_result"
    }
   ],
   "source": [
    "df.loc['total'] = df[['data1','data2']].apply(lambda x : x.sum(),axis=0 )\n",
    "df"
   ]
  },
  {
   "cell_type": "markdown",
   "id": "2a3ccc79",
   "metadata": {},
   "source": [
    "## 表达式计算"
   ]
  },
  {
   "cell_type": "markdown",
   "id": "9bc7cc6a",
   "metadata": {},
   "source": [
    "### query"
   ]
  },
  {
   "cell_type": "markdown",
   "id": "cd961978",
   "metadata": {},
   "source": [
    "DataFrame.query(expr, inplace=False, \\**kwargs)  \n",
    "其中的参数：\n",
    "\n",
    "expr：str，要计算的查询字符串  \n",
    "inplace，bool，查询结果是就地修改数据还是返回修改后的副本  \n",
    "\\**kwargs：pandas.eval() 支持的关键字参数，可用于查询\n",
    "\n",
    "返回：\n",
    "\n",
    "DataFrame：由提供的查询表达式生成的 DataFrame  \n",
    "None：如果 inplace=True，但原数据被就地修改"
   ]
  },
  {
   "cell_type": "markdown",
   "id": "4fed5fe4",
   "metadata": {},
   "source": [
    "支持以下算术运算：+, -, \\*,/, \\**, %, //（仅限 python 引擎）以及以下布尔运算： | (or), & (and), 和 ~ (not)。此外，“pandas”解析器允许使用 and、or 和 not，其语义与相应的位运算符不同。"
   ]
  },
  {
   "cell_type": "code",
   "execution_count": 6,
   "id": "ca9778fc",
   "metadata": {
    "ExecuteTime": {
     "end_time": "2024-10-09T08:35:51.574507Z",
     "start_time": "2024-10-09T08:35:51.566918Z"
    }
   },
   "outputs": [
    {
     "data": {
      "text/html": [
       "<div>\n",
       "<style scoped>\n",
       "    .dataframe tbody tr th:only-of-type {\n",
       "        vertical-align: middle;\n",
       "    }\n",
       "\n",
       "    .dataframe tbody tr th {\n",
       "        vertical-align: top;\n",
       "    }\n",
       "\n",
       "    .dataframe thead th {\n",
       "        text-align: right;\n",
       "    }\n",
       "</style>\n",
       "<table border=\"1\" class=\"dataframe\">\n",
       "  <thead>\n",
       "    <tr style=\"text-align: right;\">\n",
       "      <th></th>\n",
       "      <th>a</th>\n",
       "      <th>b</th>\n",
       "      <th>c</th>\n",
       "    </tr>\n",
       "  </thead>\n",
       "  <tbody>\n",
       "    <tr>\n",
       "      <th>0</th>\n",
       "      <td>4</td>\n",
       "      <td>4</td>\n",
       "      <td>6</td>\n",
       "    </tr>\n",
       "    <tr>\n",
       "      <th>1</th>\n",
       "      <td>3</td>\n",
       "      <td>5</td>\n",
       "      <td>8</td>\n",
       "    </tr>\n",
       "    <tr>\n",
       "      <th>2</th>\n",
       "      <td>2</td>\n",
       "      <td>7</td>\n",
       "      <td>9</td>\n",
       "    </tr>\n",
       "  </tbody>\n",
       "</table>\n",
       "</div>"
      ],
      "text/plain": [
       "   a  b  c\n",
       "0  4  4  6\n",
       "1  3  5  8\n",
       "2  2  7  9"
      ]
     },
     "execution_count": 6,
     "metadata": {},
     "output_type": "execute_result"
    }
   ],
   "source": [
    "df = pd.DataFrame({\"a\": [4, 3, 2], \"b\": [4, 5, 7], \"c\": [6, 8, 9]})\n",
    "df"
   ]
  },
  {
   "cell_type": "code",
   "execution_count": 7,
   "id": "489d5bca",
   "metadata": {
    "ExecuteTime": {
     "end_time": "2024-10-09T08:35:53.054407Z",
     "start_time": "2024-10-09T08:35:53.046874Z"
    }
   },
   "outputs": [
    {
     "data": {
      "text/html": [
       "<div>\n",
       "<style scoped>\n",
       "    .dataframe tbody tr th:only-of-type {\n",
       "        vertical-align: middle;\n",
       "    }\n",
       "\n",
       "    .dataframe tbody tr th {\n",
       "        vertical-align: top;\n",
       "    }\n",
       "\n",
       "    .dataframe thead th {\n",
       "        text-align: right;\n",
       "    }\n",
       "</style>\n",
       "<table border=\"1\" class=\"dataframe\">\n",
       "  <thead>\n",
       "    <tr style=\"text-align: right;\">\n",
       "      <th></th>\n",
       "      <th>a</th>\n",
       "      <th>b</th>\n",
       "      <th>c</th>\n",
       "    </tr>\n",
       "  </thead>\n",
       "  <tbody>\n",
       "    <tr>\n",
       "      <th>1</th>\n",
       "      <td>3</td>\n",
       "      <td>5</td>\n",
       "      <td>8</td>\n",
       "    </tr>\n",
       "    <tr>\n",
       "      <th>2</th>\n",
       "      <td>2</td>\n",
       "      <td>7</td>\n",
       "      <td>9</td>\n",
       "    </tr>\n",
       "  </tbody>\n",
       "</table>\n",
       "</div>"
      ],
      "text/plain": [
       "   a  b  c\n",
       "1  3  5  8\n",
       "2  2  7  9"
      ]
     },
     "execution_count": 7,
     "metadata": {},
     "output_type": "execute_result"
    }
   ],
   "source": [
    "# pure python\n",
    "df[(df['a'] < df['b']) & (df['b'] < df['c'])]"
   ]
  },
  {
   "cell_type": "code",
   "execution_count": 8,
   "id": "fb1f59af",
   "metadata": {
    "ExecuteTime": {
     "end_time": "2024-10-09T08:35:55.270770Z",
     "start_time": "2024-10-09T08:35:55.261729Z"
    }
   },
   "outputs": [
    {
     "data": {
      "text/html": [
       "<div>\n",
       "<style scoped>\n",
       "    .dataframe tbody tr th:only-of-type {\n",
       "        vertical-align: middle;\n",
       "    }\n",
       "\n",
       "    .dataframe tbody tr th {\n",
       "        vertical-align: top;\n",
       "    }\n",
       "\n",
       "    .dataframe thead th {\n",
       "        text-align: right;\n",
       "    }\n",
       "</style>\n",
       "<table border=\"1\" class=\"dataframe\">\n",
       "  <thead>\n",
       "    <tr style=\"text-align: right;\">\n",
       "      <th></th>\n",
       "      <th>a</th>\n",
       "      <th>b</th>\n",
       "      <th>c</th>\n",
       "    </tr>\n",
       "  </thead>\n",
       "  <tbody>\n",
       "    <tr>\n",
       "      <th>1</th>\n",
       "      <td>3</td>\n",
       "      <td>5</td>\n",
       "      <td>8</td>\n",
       "    </tr>\n",
       "    <tr>\n",
       "      <th>2</th>\n",
       "      <td>2</td>\n",
       "      <td>7</td>\n",
       "      <td>9</td>\n",
       "    </tr>\n",
       "  </tbody>\n",
       "</table>\n",
       "</div>"
      ],
      "text/plain": [
       "   a  b  c\n",
       "1  3  5  8\n",
       "2  2  7  9"
      ]
     },
     "execution_count": 8,
     "metadata": {},
     "output_type": "execute_result"
    }
   ],
   "source": [
    "# query\n",
    "df.query('(a < b) & (b < c)')"
   ]
  },
  {
   "cell_type": "code",
   "execution_count": 9,
   "id": "5d5c071b",
   "metadata": {
    "ExecuteTime": {
     "end_time": "2024-10-09T08:38:54.960901Z",
     "start_time": "2024-10-09T08:38:54.949992Z"
    }
   },
   "outputs": [
    {
     "data": {
      "text/html": [
       "<div>\n",
       "<style scoped>\n",
       "    .dataframe tbody tr th:only-of-type {\n",
       "        vertical-align: middle;\n",
       "    }\n",
       "\n",
       "    .dataframe tbody tr th {\n",
       "        vertical-align: top;\n",
       "    }\n",
       "\n",
       "    .dataframe thead th {\n",
       "        text-align: right;\n",
       "    }\n",
       "</style>\n",
       "<table border=\"1\" class=\"dataframe\">\n",
       "  <thead>\n",
       "    <tr style=\"text-align: right;\">\n",
       "      <th></th>\n",
       "      <th>a</th>\n",
       "      <th>b</th>\n",
       "      <th>c</th>\n",
       "    </tr>\n",
       "  </thead>\n",
       "  <tbody>\n",
       "    <tr>\n",
       "      <th>0</th>\n",
       "      <td>4</td>\n",
       "      <td>4</td>\n",
       "      <td>6</td>\n",
       "    </tr>\n",
       "  </tbody>\n",
       "</table>\n",
       "</div>"
      ],
      "text/plain": [
       "   a  b  c\n",
       "0  4  4  6"
      ]
     },
     "execution_count": 9,
     "metadata": {},
     "output_type": "execute_result"
    }
   ],
   "source": [
    "# a 列中有 b 列内容的\n",
    "df.query('a in b')"
   ]
  },
  {
   "cell_type": "code",
   "execution_count": 10,
   "id": "2cc85a52",
   "metadata": {
    "ExecuteTime": {
     "end_time": "2024-10-09T08:38:58.981656Z",
     "start_time": "2024-10-09T08:38:58.974277Z"
    }
   },
   "outputs": [
    {
     "data": {
      "text/html": [
       "<div>\n",
       "<style scoped>\n",
       "    .dataframe tbody tr th:only-of-type {\n",
       "        vertical-align: middle;\n",
       "    }\n",
       "\n",
       "    .dataframe tbody tr th {\n",
       "        vertical-align: top;\n",
       "    }\n",
       "\n",
       "    .dataframe thead th {\n",
       "        text-align: right;\n",
       "    }\n",
       "</style>\n",
       "<table border=\"1\" class=\"dataframe\">\n",
       "  <thead>\n",
       "    <tr style=\"text-align: right;\">\n",
       "      <th></th>\n",
       "      <th>a</th>\n",
       "      <th>b</th>\n",
       "      <th>c</th>\n",
       "    </tr>\n",
       "  </thead>\n",
       "  <tbody>\n",
       "    <tr>\n",
       "      <th>0</th>\n",
       "      <td>4</td>\n",
       "      <td>4</td>\n",
       "      <td>6</td>\n",
       "    </tr>\n",
       "  </tbody>\n",
       "</table>\n",
       "</div>"
      ],
      "text/plain": [
       "   a  b  c\n",
       "0  4  4  6"
      ]
     },
     "execution_count": 10,
     "metadata": {},
     "output_type": "execute_result"
    }
   ],
   "source": [
    "# Python 方法，同上\n",
    "df[df['a'].isin(df['b'])]"
   ]
  },
  {
   "cell_type": "code",
   "execution_count": 11,
   "id": "a975b177",
   "metadata": {
    "ExecuteTime": {
     "end_time": "2024-10-09T08:39:11.369692Z",
     "start_time": "2024-10-09T08:39:11.362038Z"
    }
   },
   "outputs": [
    {
     "data": {
      "text/html": [
       "<div>\n",
       "<style scoped>\n",
       "    .dataframe tbody tr th:only-of-type {\n",
       "        vertical-align: middle;\n",
       "    }\n",
       "\n",
       "    .dataframe tbody tr th {\n",
       "        vertical-align: top;\n",
       "    }\n",
       "\n",
       "    .dataframe thead th {\n",
       "        text-align: right;\n",
       "    }\n",
       "</style>\n",
       "<table border=\"1\" class=\"dataframe\">\n",
       "  <thead>\n",
       "    <tr style=\"text-align: right;\">\n",
       "      <th></th>\n",
       "      <th>a</th>\n",
       "      <th>b</th>\n",
       "      <th>c</th>\n",
       "    </tr>\n",
       "  </thead>\n",
       "  <tbody>\n",
       "    <tr>\n",
       "      <th>1</th>\n",
       "      <td>3</td>\n",
       "      <td>5</td>\n",
       "      <td>8</td>\n",
       "    </tr>\n",
       "    <tr>\n",
       "      <th>2</th>\n",
       "      <td>2</td>\n",
       "      <td>7</td>\n",
       "      <td>9</td>\n",
       "    </tr>\n",
       "  </tbody>\n",
       "</table>\n",
       "</div>"
      ],
      "text/plain": [
       "   a  b  c\n",
       "1  3  5  8\n",
       "2  2  7  9"
      ]
     },
     "execution_count": 11,
     "metadata": {},
     "output_type": "execute_result"
    }
   ],
   "source": [
    "df.query('a not in b')"
   ]
  },
  {
   "cell_type": "code",
   "execution_count": 12,
   "id": "073a02f5",
   "metadata": {
    "ExecuteTime": {
     "end_time": "2024-10-09T08:39:13.883206Z",
     "start_time": "2024-10-09T08:39:13.874750Z"
    }
   },
   "outputs": [
    {
     "data": {
      "text/html": [
       "<div>\n",
       "<style scoped>\n",
       "    .dataframe tbody tr th:only-of-type {\n",
       "        vertical-align: middle;\n",
       "    }\n",
       "\n",
       "    .dataframe tbody tr th {\n",
       "        vertical-align: top;\n",
       "    }\n",
       "\n",
       "    .dataframe thead th {\n",
       "        text-align: right;\n",
       "    }\n",
       "</style>\n",
       "<table border=\"1\" class=\"dataframe\">\n",
       "  <thead>\n",
       "    <tr style=\"text-align: right;\">\n",
       "      <th></th>\n",
       "      <th>a</th>\n",
       "      <th>b</th>\n",
       "      <th>c</th>\n",
       "    </tr>\n",
       "  </thead>\n",
       "  <tbody>\n",
       "    <tr>\n",
       "      <th>1</th>\n",
       "      <td>3</td>\n",
       "      <td>5</td>\n",
       "      <td>8</td>\n",
       "    </tr>\n",
       "    <tr>\n",
       "      <th>2</th>\n",
       "      <td>2</td>\n",
       "      <td>7</td>\n",
       "      <td>9</td>\n",
       "    </tr>\n",
       "  </tbody>\n",
       "</table>\n",
       "</div>"
      ],
      "text/plain": [
       "   a  b  c\n",
       "1  3  5  8\n",
       "2  2  7  9"
      ]
     },
     "execution_count": 12,
     "metadata": {},
     "output_type": "execute_result"
    }
   ],
   "source": [
    "# Python 方法\n",
    "df[~df['a'].isin(df['b'])]"
   ]
  },
  {
   "cell_type": "markdown",
   "id": "9d916542",
   "metadata": {},
   "source": [
    "### eval"
   ]
  },
  {
   "cell_type": "markdown",
   "id": "ac55f5da",
   "metadata": {},
   "source": [
    "语法为：\n",
    "\n",
    "pd.eval(expr: 'str | BinOp',\n",
    "      parser: 'str' = 'pandas',\n",
    "      engine: 'str | None' = None,\n",
    "      truediv=<no_default>,\n",
    "      local_dict=None,\n",
    "      global_dict=None,\n",
    "      resolvers=(), level=0,\n",
    "      target=None,\n",
    "      inplace=False)  \n",
    "参数详解：  \n",
    "\n",
    "expr : str，要计算的表达式此字符串，不能包含任何 Python 语句（statements），仅包含 Python 表达式（expressions）。  \n",
    "\n",
    "parser : {'pandas', 'python'}, 默认 'pandas'，用于从表达式构造语法树的解析器。默认 'pandas' 与标准 Python 代码略有不同， Python 解析器保留严格的 python 语义。  \n",
    "\n",
    "engine : {'python', 'numexpr'}, 默认 'numexpr'，用于计算表达式的引擎。支持的引擎是：  \n",
    "None : 尝试使用 numexpr，失败后回退到 python  \n",
    "'numexpr': 此默认引擎使用 numexpr 用于复杂表达式中的大加速大 DataFrame  \n",
    "'python': 就像 Python 的 eval 一样执行操作，一般不太有用。  \n",
    "pandas 将来可能会有更多的后端引擎可用。  \n",
    "\n",
    "truediv : bool, 可选，是否使用真除法，在 pandas 1.0.0 中移除（不要再使用）  \n",
    "\n",
    "local_dict : dict 或者 None, 可选，局部变量字典，默认情况下取自 locals()  \n",
    "\n",
    "global_dict : dict 或者 None, 可选，全局变量字典，默认情况下取自 globals()  \n",
    "\n",
    "resolvers : list of dict-like（映射列表） 或者 None, 可选，方法解析器。实现 __getitem__特殊方法的对象列表，这些对象你可以注入其他命名空间用于变量查找。 比如， ~DataFrame.query 的方法注入 DataFrame.index 和 DataFrame.columns引入各自的变量到 ~pandas.DataFrame 的实例属性  \n",
    "\n",
    "level : int, 可选。要遍历并添加到当前堆栈数据框的先前堆栈帧数范围，大多数用户不需要更改此参数\n",
    "\n",
    "target : object, 可选, 默认为 None，这是赋值的目标对象。它是在有需要时使用的表达式中的变量赋值，如果这样，那么“target”必须支持使用字符串键分配项目，如果正在创建副本返回时，它还必须支持 .copy()    \n",
    "\n",
    "inplace : bool, 默认 False，如果提供了'target'，并且表达式变异为'target'，则在原地修改'target'。否则，返回带有变异的数据  \n",
    "返回：  \n",
    "\n",
    "ndarray, numeric scalar, DataFrame, Series, 或者 None  \n",
    "计算给定代码的完成值，如果 inplace=True，则为 None  \n",
    "注：算术%运算中涉及的任何对象的数据类型都递归转换为 float64。  "
   ]
  },
  {
   "cell_type": "code",
   "execution_count": 13,
   "id": "3dcb61d1",
   "metadata": {
    "ExecuteTime": {
     "end_time": "2024-10-09T08:44:49.799105Z",
     "start_time": "2024-10-09T08:44:49.792026Z"
    }
   },
   "outputs": [
    {
     "data": {
      "text/html": [
       "<div>\n",
       "<style scoped>\n",
       "    .dataframe tbody tr th:only-of-type {\n",
       "        vertical-align: middle;\n",
       "    }\n",
       "\n",
       "    .dataframe tbody tr th {\n",
       "        vertical-align: top;\n",
       "    }\n",
       "\n",
       "    .dataframe thead th {\n",
       "        text-align: right;\n",
       "    }\n",
       "</style>\n",
       "<table border=\"1\" class=\"dataframe\">\n",
       "  <thead>\n",
       "    <tr style=\"text-align: right;\">\n",
       "      <th></th>\n",
       "      <th>animal</th>\n",
       "      <th>age</th>\n",
       "    </tr>\n",
       "  </thead>\n",
       "  <tbody>\n",
       "    <tr>\n",
       "      <th>0</th>\n",
       "      <td>dog</td>\n",
       "      <td>10</td>\n",
       "    </tr>\n",
       "    <tr>\n",
       "      <th>1</th>\n",
       "      <td>pig</td>\n",
       "      <td>20</td>\n",
       "    </tr>\n",
       "  </tbody>\n",
       "</table>\n",
       "</div>"
      ],
      "text/plain": [
       "  animal  age\n",
       "0    dog   10\n",
       "1    pig   20"
      ]
     },
     "execution_count": 13,
     "metadata": {},
     "output_type": "execute_result"
    }
   ],
   "source": [
    "df = pd.DataFrame({\"animal\": [\"dog\", \"pig\"], \"age\": [10, 20]})\n",
    "df"
   ]
  },
  {
   "cell_type": "code",
   "execution_count": 14,
   "id": "ae0e02ea",
   "metadata": {
    "ExecuteTime": {
     "end_time": "2024-10-09T08:45:53.500696Z",
     "start_time": "2024-10-09T08:45:53.491048Z"
    }
   },
   "outputs": [
    {
     "data": {
      "text/html": [
       "<div>\n",
       "<style scoped>\n",
       "    .dataframe tbody tr th:only-of-type {\n",
       "        vertical-align: middle;\n",
       "    }\n",
       "\n",
       "    .dataframe tbody tr th {\n",
       "        vertical-align: top;\n",
       "    }\n",
       "\n",
       "    .dataframe thead th {\n",
       "        text-align: right;\n",
       "    }\n",
       "</style>\n",
       "<table border=\"1\" class=\"dataframe\">\n",
       "  <thead>\n",
       "    <tr style=\"text-align: right;\">\n",
       "      <th></th>\n",
       "      <th>animal</th>\n",
       "      <th>age</th>\n",
       "      <th>double_age</th>\n",
       "    </tr>\n",
       "  </thead>\n",
       "  <tbody>\n",
       "    <tr>\n",
       "      <th>0</th>\n",
       "      <td>dog</td>\n",
       "      <td>10</td>\n",
       "      <td>20</td>\n",
       "    </tr>\n",
       "    <tr>\n",
       "      <th>1</th>\n",
       "      <td>pig</td>\n",
       "      <td>20</td>\n",
       "      <td>40</td>\n",
       "    </tr>\n",
       "  </tbody>\n",
       "</table>\n",
       "</div>"
      ],
      "text/plain": [
       "  animal  age  double_age\n",
       "0    dog   10          20\n",
       "1    pig   20          40"
      ]
     },
     "execution_count": 14,
     "metadata": {},
     "output_type": "execute_result"
    }
   ],
   "source": [
    "# 我们可以使用 pd.eval 添加一个新列：\n",
    "pd.eval(\"double_age = df.age * 2\", target=df)"
   ]
  },
  {
   "cell_type": "markdown",
   "id": "eca28b4c",
   "metadata": {},
   "source": [
    "DataFrame.eval 描述对 DataFrame 列的操作的字符串进行计算。它仅对列进行操作，而不对特定行或元素进行操作。它允许 eval 运行任意代码，如果您将用户输入传递给此函数，这会使你容易受到代码注入的攻击，因此这个方法只能由你控制，不要开发给外部调用。\n",
    "\n",
    "语法为：\n",
    "\n",
    "DataFrame.eval(expr, inplace=False, **kwargs)  \n",
    "参数：\n",
    "\n",
    "expr : str，要计算的表达式字符串  \n",
    "inplace : bool, 默认 False，如果表达式包含赋值，则是否执行操作替换并改变现有数据帧，否则返回一个新的数据帧  \n",
    "**kwargs：传入pd.eval 的参数  \n",
    "返回：  \n",
    "\n",
    "计算结果，ndarray, scalar, pandas object, 或者 None  \n",
    "如果inplace=True 则为 None"
   ]
  },
  {
   "cell_type": "code",
   "execution_count": 15,
   "id": "b838856f",
   "metadata": {
    "ExecuteTime": {
     "end_time": "2024-10-09T08:48:00.748981Z",
     "start_time": "2024-10-09T08:48:00.735527Z"
    }
   },
   "outputs": [
    {
     "data": {
      "text/html": [
       "<div>\n",
       "<style scoped>\n",
       "    .dataframe tbody tr th:only-of-type {\n",
       "        vertical-align: middle;\n",
       "    }\n",
       "\n",
       "    .dataframe tbody tr th {\n",
       "        vertical-align: top;\n",
       "    }\n",
       "\n",
       "    .dataframe thead th {\n",
       "        text-align: right;\n",
       "    }\n",
       "</style>\n",
       "<table border=\"1\" class=\"dataframe\">\n",
       "  <thead>\n",
       "    <tr style=\"text-align: right;\">\n",
       "      <th></th>\n",
       "      <th>a</th>\n",
       "      <th>b</th>\n",
       "      <th>c</th>\n",
       "      <th>d</th>\n",
       "    </tr>\n",
       "  </thead>\n",
       "  <tbody>\n",
       "    <tr>\n",
       "      <th>0</th>\n",
       "      <td>1</td>\n",
       "      <td>5</td>\n",
       "      <td>5</td>\n",
       "      <td>10</td>\n",
       "    </tr>\n",
       "    <tr>\n",
       "      <th>1</th>\n",
       "      <td>1</td>\n",
       "      <td>6</td>\n",
       "      <td>7</td>\n",
       "      <td>14</td>\n",
       "    </tr>\n",
       "    <tr>\n",
       "      <th>2</th>\n",
       "      <td>1</td>\n",
       "      <td>7</td>\n",
       "      <td>9</td>\n",
       "      <td>18</td>\n",
       "    </tr>\n",
       "    <tr>\n",
       "      <th>3</th>\n",
       "      <td>1</td>\n",
       "      <td>8</td>\n",
       "      <td>11</td>\n",
       "      <td>22</td>\n",
       "    </tr>\n",
       "    <tr>\n",
       "      <th>4</th>\n",
       "      <td>1</td>\n",
       "      <td>9</td>\n",
       "      <td>13</td>\n",
       "      <td>26</td>\n",
       "    </tr>\n",
       "  </tbody>\n",
       "</table>\n",
       "</div>"
      ],
      "text/plain": [
       "   a  b   c   d\n",
       "0  1  5   5  10\n",
       "1  1  6   7  14\n",
       "2  1  7   9  18\n",
       "3  1  8  11  22\n",
       "4  1  9  13  26"
      ]
     },
     "execution_count": 15,
     "metadata": {},
     "output_type": "execute_result"
    }
   ],
   "source": [
    "df = pd.DataFrame(dict(a=range(5), b=range(5, 10)))\n",
    "df.eval(\"c = a + b\", inplace=True)\n",
    "df.eval(\"d = a + b + c\", inplace=True)\n",
    "df.eval(\"a = 1\", inplace=True)\n",
    "df"
   ]
  },
  {
   "cell_type": "markdown",
   "id": "c8b88b53",
   "metadata": {},
   "source": [
    "当 inplace 设置为 False（默认值）时，将返回具有新列或修改列的 DataFrame 的副本，并且原始帧不变。"
   ]
  },
  {
   "cell_type": "markdown",
   "id": "4a7f89f9",
   "metadata": {},
   "source": [
    "支持以下算术运算：+, -, *,/, **, %, //（仅限 python 引擎）以及以下布尔运算： | (or), & (and), 和 ~ (not)。此外，“pandas”解析器允许使用 and、or 和 not，其语义与相应的位运算符不同。\n",
    "\n",
    "pandas.eval() 支持这些操作：\n",
    "\n",
    "    算术运算，除左移 (<<) 和右移 (>>) 操作, 如 df + 2 * pi / s ** 4 % 42 - the_golden_ratio  \n",
    "    比较操作，包括链式比较，如 2 < df < df2  \n",
    "    布尔运算，如 df < df2 and df3 < df4 or not df_bool  \n",
    "    列表和元组字面量， 如 [1, 2] or (1, 2)  \n",
    "    属性访问，如 df.a  \n",
    "    下标表达式，如 df[0]  \n",
    "    单变量评价计值，如 pd.eval(\"df\") (这不是很有用)  \n",
    "    数学函数，有 sin, cos, exp, log, expm1, log1p, sqrt, sinh, cosh, tanh, arcsin, arccos, arctan, arccosh, arcsinh, arctanh, abs, arctan2 和 log10  \n",
    "不允许使用此 Python 语法：  \n",
    "\n",
    "    表达式  \n",
    "    函数调用（非以上说的数学函数）  \n",
    "    is/is not 操作  \n",
    "    if 表达式  \n",
    "    lambda 表达式  \n",
    "    list/set/dict 解析式  \n",
    "    dict 和 set 字面量表达式  \n",
    "    yield 表达式  \n",
    "    生成器表达式  \n",
    "    仅由标量值组成的布尔表达式  \n",
    "    语句  \n",
    "    不允许使用简单或复合语句，这包括 for、while 和 if  "
   ]
  },
  {
   "cell_type": "markdown",
   "id": "d1d1ec2c",
   "metadata": {},
   "source": [
    "必须通过在名称前面放置 @ 字符来显式引用要在表达式中使用的任何局部变量。例如："
   ]
  },
  {
   "cell_type": "code",
   "execution_count": 16,
   "id": "1a0f6d5d",
   "metadata": {
    "ExecuteTime": {
     "end_time": "2024-10-09T08:50:47.030424Z",
     "start_time": "2024-10-09T08:50:47.015317Z"
    }
   },
   "outputs": [
    {
     "data": {
      "text/plain": [
       "0   -1.350336\n",
       "1   -0.563354\n",
       "2    0.532087\n",
       "3   -1.663400\n",
       "4   -0.520031\n",
       "dtype: float64"
      ]
     },
     "execution_count": 16,
     "metadata": {},
     "output_type": "execute_result"
    }
   ],
   "source": [
    "df = pd.DataFrame(np.random.randn(5, 2), columns=list(\"ab\"))\n",
    "newcol = np.random.randn(len(df))\n",
    "\n",
    "# 变量 newcol 参考计算\n",
    "df.eval(\"b + @newcol\")"
   ]
  },
  {
   "cell_type": "markdown",
   "id": "649aa8e5",
   "metadata": {},
   "source": [
    "如果不在局部变量前面加 @，pandas 将引发异常，告诉您该变量未定义。当使用数据帧时。DataFrame.eval() 和 DataFrame.query() 允许您在表达式中具有相同名称的局部变量和DataFrame 列。"
   ]
  },
  {
   "cell_type": "code",
   "execution_count": 17,
   "id": "1725ecc1",
   "metadata": {
    "ExecuteTime": {
     "end_time": "2024-10-09T08:52:08.991197Z",
     "start_time": "2024-10-09T08:52:08.981825Z"
    }
   },
   "outputs": [
    {
     "data": {
      "text/html": [
       "<div>\n",
       "<style scoped>\n",
       "    .dataframe tbody tr th:only-of-type {\n",
       "        vertical-align: middle;\n",
       "    }\n",
       "\n",
       "    .dataframe tbody tr th {\n",
       "        vertical-align: top;\n",
       "    }\n",
       "\n",
       "    .dataframe thead th {\n",
       "        text-align: right;\n",
       "    }\n",
       "</style>\n",
       "<table border=\"1\" class=\"dataframe\">\n",
       "  <thead>\n",
       "    <tr style=\"text-align: right;\">\n",
       "      <th></th>\n",
       "      <th>a</th>\n",
       "      <th>b</th>\n",
       "    </tr>\n",
       "  </thead>\n",
       "  <tbody>\n",
       "    <tr>\n",
       "      <th>0</th>\n",
       "      <td>0.582290</td>\n",
       "      <td>-0.164228</td>\n",
       "    </tr>\n",
       "    <tr>\n",
       "      <th>2</th>\n",
       "      <td>-0.173368</td>\n",
       "      <td>1.609626</td>\n",
       "    </tr>\n",
       "    <tr>\n",
       "      <th>4</th>\n",
       "      <td>0.942135</td>\n",
       "      <td>-0.449050</td>\n",
       "    </tr>\n",
       "  </tbody>\n",
       "</table>\n",
       "</div>"
      ],
      "text/plain": [
       "          a         b\n",
       "0  0.582290 -0.164228\n",
       "2 -0.173368  1.609626\n",
       "4  0.942135 -0.449050"
      ]
     },
     "execution_count": 17,
     "metadata": {},
     "output_type": "execute_result"
    }
   ],
   "source": [
    "a = np.random.randn()\n",
    "df.query(\"@a < a\")"
   ]
  },
  {
   "cell_type": "markdown",
   "id": "858f39f4",
   "metadata": {},
   "source": [
    "### df.query 与 df.eval 区别"
   ]
  },
  {
   "cell_type": "markdown",
   "id": "f0871a3b",
   "metadata": {},
   "source": [
    "df.query() 与 df.eval() 都可以用字符串表达式来对原数据做计算，区别主要有：\n",
    "\n",
    "功能不同  \n",
    "- df.query() 是数据查询，返回的符合条件的整行  \n",
    "- df.eval() 是计算，根据表达式计算出任意结果  \n",
    "\n",
    "表达式返回值要求不同  \n",
    "\n",
    "- df.query() 由于是查询，需要表达式返回一个同长度同索引的布尔序列，为 True 的为筛选中的行  \n",
    "- df.eval() 对表达式返回值没有要求，可以是任意结果，同时它会把表达式结果原样返回为最终结果  \n",
    "- 另外 df.eval() 和 pd.eval() 的命名空间不同， pd.eval() 可以做任何事情，包括对数据的修改、非 pandas 数据的操作。如果要对 pandas 数据进行操作，要指定数据变量（如 df.col）。"
   ]
  },
  {
   "cell_type": "markdown",
   "id": "dc402f14",
   "metadata": {},
   "source": [
    "# 数据载入、存储和文件格式"
   ]
  },
  {
   "cell_type": "markdown",
   "id": "e90d6787",
   "metadata": {},
   "source": [
    "## 基本操作"
   ]
  },
  {
   "cell_type": "markdown",
   "id": "b728a3b6",
   "metadata": {},
   "source": [
    "1、将表格型数据读取为DataFrame对象是pandas的重要特征，read_csv和read_table是使用最多的函数。"
   ]
  },
  {
   "cell_type": "markdown",
   "id": "9fec8888",
   "metadata": {},
   "source": [
    "`df = pd.read_csv('文件名', sep=',', header=None, chunksize=1000, encoding='gbk', parse_dates={'Date': [0, 1, 2]})`  \n",
    "sep用于分隔每行字段的字符序列  \n",
    "header显示列名  \n",
    "encoding 显示文字类型 gbk表示中文  \n",
    "chunksize用于迭代的块的大小  \n",
    "parse_dates将表中0、1和2的时间列合并为新的Date列"
   ]
  },
  {
   "cell_type": "markdown",
   "id": "9ac55b54",
   "metadata": {},
   "source": [
    "2、将数据写入文本格式  "
   ]
  },
  {
   "cell_type": "markdown",
   "id": "dba84792",
   "metadata": {},
   "source": [
    "`frame.to_csv('路径',sep=' ', na_rep='NULL', index=False, header=False, columns=[,,], mode='a')  `  \n",
    "sep=' '空格形式写入  \n",
    "na_rep 对缺失值进行标注  \n",
    "columns 按照选定的顺序写入  \n",
    "mode='a' 不覆盖追加数据  \n",
    "index=False  保存时不保存index"
   ]
  },
  {
   "cell_type": "markdown",
   "id": "a2583fbf",
   "metadata": {},
   "source": [
    "3、读入其他数据"
   ]
  },
  {
   "cell_type": "markdown",
   "id": "281418ba",
   "metadata": {},
   "source": [
    "Json数据 pd.read_json()  \n",
    "Html数据 pd.read_html()  \n",
    "Excel数据 pd.read_excel('路径','表名') 数据名称.to_excel('路径','表名')"
   ]
  },
  {
   "cell_type": "markdown",
   "id": "985aff0d",
   "metadata": {},
   "source": [
    "4、数据库读数"
   ]
  },
  {
   "cell_type": "code",
   "execution_count": 98,
   "id": "83c06d5d",
   "metadata": {
    "ExecuteTime": {
     "end_time": "2022-06-05T03:03:47.816922Z",
     "start_time": "2022-06-05T03:03:47.760072Z"
    }
   },
   "outputs": [],
   "source": [
    "import pymysql"
   ]
  },
  {
   "cell_type": "markdown",
   "id": "72878da7",
   "metadata": {},
   "source": [
    "具体见mysql数据库.ipynb资料"
   ]
  },
  {
   "cell_type": "markdown",
   "id": "4510b3e4",
   "metadata": {},
   "source": [
    "## 遍历文件夹及其子目录"
   ]
  },
  {
   "cell_type": "code",
   "execution_count": 99,
   "id": "888a4cad",
   "metadata": {
    "ExecuteTime": {
     "end_time": "2022-06-05T03:06:10.027050Z",
     "start_time": "2022-06-05T03:06:10.013052Z"
    }
   },
   "outputs": [],
   "source": [
    "import os"
   ]
  },
  {
   "cell_type": "markdown",
   "id": "da79b9dc",
   "metadata": {},
   "source": [
    "os.listdir(path) 返回指定的文件夹包含的文件或文件夹的名字的列表"
   ]
  },
  {
   "cell_type": "markdown",
   "id": "42c1f9be",
   "metadata": {
    "ExecuteTime": {
     "end_time": "2022-06-05T03:10:50.706418Z",
     "start_time": "2022-06-05T03:10:50.688533Z"
    }
   },
   "source": [
    "os.walk(top, topdown=True, onerror=None, followlinks=False)  \n",
    "top是你要遍历的目录的地址  \n",
    "topdown为真，优先遍历top目录，否则优先遍历top的子目录  \n",
    "followlinks为真，会遍历目录下的快捷方式  "
   ]
  },
  {
   "cell_type": "markdown",
   "id": "5d711b79",
   "metadata": {},
   "source": [
    "os.walk的返回值是一个生成器，需要不断遍历，每次遍历的对象都是返回一个三元组(root, dirs, files)  \n",
    "root：当前目录  \n",
    "dirs：该文件夹中所有的目录的名字 list格式  \n",
    "files：该文件夹中的所有文件 list格式  \n",
    "每次用next()取得一个返回值。"
   ]
  },
  {
   "cell_type": "markdown",
   "id": "20cf2e05",
   "metadata": {},
   "source": [
    "os.path_join(path1,path2,...) 把目录和文件名合成一个路径  \n",
    "os.mkdir(path) 创建一个目录  "
   ]
  },
  {
   "cell_type": "code",
   "execution_count": 101,
   "id": "eb9d1b21",
   "metadata": {
    "ExecuteTime": {
     "end_time": "2022-06-05T03:14:03.566820Z",
     "start_time": "2022-06-05T03:14:03.556600Z"
    }
   },
   "outputs": [],
   "source": [
    "import shutil"
   ]
  },
  {
   "cell_type": "markdown",
   "id": "75e3d4d9",
   "metadata": {},
   "source": [
    "suhtil.copyfile(src, dst) 将src文件内容复制到dst文件中"
   ]
  },
  {
   "cell_type": "markdown",
   "id": "6cdf813d",
   "metadata": {},
   "source": [
    "# 数据清洗与准备"
   ]
  },
  {
   "cell_type": "markdown",
   "id": "5984e383",
   "metadata": {},
   "source": [
    "## 表示缺失值"
   ]
  },
  {
   "cell_type": "markdown",
   "id": "021df293",
   "metadata": {},
   "source": [
    "pd.NA 是 Pandas 独有的，主要用于 Pandas 的数据结构。  \n",
    "None 是 Python 的原生空值。  \n",
    "np.nan 是 NumPy 的浮点数表示的缺失值。  "
   ]
  },
  {
   "cell_type": "markdown",
   "id": "1ac9cf1f",
   "metadata": {},
   "source": [
    "### pd.NA"
   ]
  },
  {
   "cell_type": "markdown",
   "id": "5d093fe0",
   "metadata": {},
   "source": [
    "pd.NA 是 Pandas 引入的新型缺失值标记（从 Pandas 1.0.0 开始）。它是一种通用的缺失值表示方式，旨在统一对缺失值的处理，适用于各种数据类型，包括字符串、整数、浮点数和布尔值。"
   ]
  },
  {
   "cell_type": "markdown",
   "id": "df139a14",
   "metadata": {},
   "source": [
    "pd.NA 的特性  \n",
    "\n",
    "适用范围广泛  \n",
    "pd.NA 可以表示任意类型的数据中的缺失值，例如布尔值、整数、浮点数和字符串。  \n",
    "传统上，np.nan 主要用于浮点类型，而 None 用于对象类型；pd.NA 统一了这些用法。\n",
    "\n",
    "运算行为\n",
    "pd.NA 参与的任何运算都会返回 pd.NA（类似于 SQL 中的三值逻辑）。"
   ]
  },
  {
   "cell_type": "code",
   "execution_count": 9,
   "id": "7bca7c7e",
   "metadata": {
    "ExecuteTime": {
     "end_time": "2024-11-18T03:48:26.659570Z",
     "start_time": "2024-11-18T03:48:26.655111Z"
    }
   },
   "outputs": [
    {
     "name": "stdout",
     "output_type": "stream",
     "text": [
      "<NA>\n",
      "True\n",
      "False\n"
     ]
    }
   ],
   "source": [
    "import pandas as pd\n",
    "\n",
    "a = pd.NA\n",
    "print(a + 1)   # pd.NA\n",
    "print(a | True)  # pd.NA\n",
    "print(a & False)  # pd.NA"
   ]
  },
  {
   "cell_type": "markdown",
   "id": "895982e5",
   "metadata": {},
   "source": [
    "### None"
   ]
  },
  {
   "cell_type": "markdown",
   "id": "0f27f211",
   "metadata": {},
   "source": [
    "None 是 Python 的一个特殊常量，表示“没有值”或“空值”。在数据处理中，None 通常被用于表示缺失值，尤其是非数值类型（如字符串、对象等）中的缺失值。\n",
    "\n",
    "None 的特性  \n",
    "单例对象  \n",
    "None 是 Python 中唯一的单例对象，这意味着所有 None 都是相同的实例。  \n",
    "判断是否为 None 应使用 is 而不是 ==。\n",
    "\n",
    "类型检查  \n",
    "None 的类型是 NoneType。\n",
    "\n",
    "与布尔值的关系  \n",
    "在布尔上下文中，None 被视为 False。\n",
    "\n",
    "与其他类型的运算  \n",
    "直接参与运算会抛出错误。"
   ]
  },
  {
   "cell_type": "code",
   "execution_count": 10,
   "id": "3f774e48",
   "metadata": {
    "ExecuteTime": {
     "end_time": "2024-11-18T03:51:10.304151Z",
     "start_time": "2024-11-18T03:51:10.299395Z"
    }
   },
   "outputs": [
    {
     "name": "stdout",
     "output_type": "stream",
     "text": [
      "True\n"
     ]
    }
   ],
   "source": [
    "a = None\n",
    "b = None\n",
    "print(a is b)  # True"
   ]
  },
  {
   "cell_type": "code",
   "execution_count": 11,
   "id": "7c1763b1",
   "metadata": {
    "ExecuteTime": {
     "end_time": "2024-11-18T03:51:26.862975Z",
     "start_time": "2024-11-18T03:51:26.858149Z"
    }
   },
   "outputs": [
    {
     "name": "stdout",
     "output_type": "stream",
     "text": [
      "False\n"
     ]
    }
   ],
   "source": [
    "if None:\n",
    "    print(\"True\")\n",
    "else:\n",
    "    print(\"False\")  # 输出 \"False\""
   ]
  },
  {
   "cell_type": "markdown",
   "id": "40b76ad5",
   "metadata": {},
   "source": [
    "### np.nan"
   ]
  },
  {
   "cell_type": "markdown",
   "id": "3a633c6b",
   "metadata": {},
   "source": [
    "np.nan 是 NumPy 提供的一种特殊浮点值，用来表示缺失值或无效值。nan 是 \"Not a Number\" 的缩写，它符合 IEEE 754 浮点数标准。\n",
    "\n",
    "np.nan 的特性  \n",
    "浮点数类型  \n",
    "np.nan 是一个浮点数，其类型为 float。\n",
    "\n",
    "在布尔上下文中的表现  \n",
    "np.nan 在布尔上下文中被视为 True。\n",
    "\n",
    "与自身不相等  \n",
    "np.nan 是唯一一个与自身不相等的值：\n",
    "\n",
    "运算行为  \n",
    "np.nan 参与的任何算术运算结果仍然是 np.nan，表示计算结果不确定。"
   ]
  },
  {
   "cell_type": "code",
   "execution_count": 12,
   "id": "624a435c",
   "metadata": {
    "ExecuteTime": {
     "end_time": "2024-11-18T03:54:08.244165Z",
     "start_time": "2024-11-18T03:54:08.237818Z"
    }
   },
   "outputs": [
    {
     "name": "stdout",
     "output_type": "stream",
     "text": [
      "True\n",
      "[False  True False]\n"
     ]
    }
   ],
   "source": [
    "import numpy as np\n",
    "\n",
    "value = np.nan\n",
    "print(np.isnan(value))  # True\n",
    "\n",
    "# 数组检测\n",
    "arr = np.array([1.0, np.nan, 3.0])\n",
    "print(np.isnan(arr))  # [False  True False]"
   ]
  },
  {
   "cell_type": "code",
   "execution_count": null,
   "id": "977ecf59",
   "metadata": {},
   "outputs": [],
   "source": []
  },
  {
   "cell_type": "code",
   "execution_count": null,
   "id": "45cf41d8",
   "metadata": {},
   "outputs": [],
   "source": []
  },
  {
   "cell_type": "code",
   "execution_count": null,
   "id": "f7526305",
   "metadata": {},
   "outputs": [],
   "source": []
  },
  {
   "cell_type": "markdown",
   "id": "2cbf6557",
   "metadata": {},
   "source": [
    "## 判定缺失值"
   ]
  },
  {
   "cell_type": "markdown",
   "id": "12a2e617",
   "metadata": {},
   "source": [
    "### pandas缺失值"
   ]
  },
  {
   "cell_type": "markdown",
   "id": "76b8bb38",
   "metadata": {},
   "source": [
    "Pandas 中，缺失值通常由 NaN 或 None 表示。\n",
    "\n",
    "1.1 使用 isna() 或 isnull()  \n",
    "这两个方法功能相同，返回一个布尔值的 DataFrame 或 Series，表示每个元素是否为缺失值。"
   ]
  },
  {
   "cell_type": "code",
   "execution_count": 1,
   "id": "3ada1a02",
   "metadata": {
    "ExecuteTime": {
     "end_time": "2024-11-18T03:28:54.360463Z",
     "start_time": "2024-11-18T03:28:53.136764Z"
    }
   },
   "outputs": [
    {
     "name": "stdout",
     "output_type": "stream",
     "text": [
      "       A      B      C\n",
      "0  False  False  False\n",
      "1  False   True  False\n",
      "2   True  False  False\n",
      "       A      B      C\n",
      "0  False  False  False\n",
      "1  False   True  False\n",
      "2   True  False  False\n"
     ]
    }
   ],
   "source": [
    "import pandas as pd\n",
    "import numpy as np\n",
    "\n",
    "# 示例数据\n",
    "data = {'A': [1, 2, np.nan], 'B': [4, np.nan, 6], 'C': [7, 8, 9]}\n",
    "df = pd.DataFrame(data)\n",
    "\n",
    "# 判定缺失值\n",
    "print(df.isna())\n",
    "print(df.isnull())"
   ]
  },
  {
   "cell_type": "markdown",
   "id": "f4a13827",
   "metadata": {},
   "source": [
    "1.2 使用 notna() 或 notnull()  \n",
    "判断哪些值不是缺失值。"
   ]
  },
  {
   "cell_type": "code",
   "execution_count": 2,
   "id": "54f8183d",
   "metadata": {
    "ExecuteTime": {
     "end_time": "2024-11-18T03:29:34.533235Z",
     "start_time": "2024-11-18T03:29:34.520614Z"
    }
   },
   "outputs": [
    {
     "name": "stdout",
     "output_type": "stream",
     "text": [
      "       A      B     C\n",
      "0   True   True  True\n",
      "1   True  False  True\n",
      "2  False   True  True\n",
      "       A      B     C\n",
      "0   True   True  True\n",
      "1   True  False  True\n",
      "2  False   True  True\n"
     ]
    }
   ],
   "source": [
    "print(df.notna())\n",
    "print(df.notnull())"
   ]
  },
  {
   "cell_type": "markdown",
   "id": "88cfe267",
   "metadata": {},
   "source": [
    "### numpy缺失值"
   ]
  },
  {
   "cell_type": "markdown",
   "id": "fd0bf31a",
   "metadata": {},
   "source": [
    "在 NumPy 中，缺失值主要由 np.nan 表示（用于浮点类型）和 None（用于对象类型）。  \n",
    "使用 np.isnan()  \n",
    "用于判断 np.nan，适用于数值类型（尤其是浮点类型）。如果传入其他数据类型（如 int 或 None），会报错。"
   ]
  },
  {
   "cell_type": "code",
   "execution_count": 6,
   "id": "38216bf1",
   "metadata": {
    "ExecuteTime": {
     "end_time": "2024-11-18T03:37:55.878310Z",
     "start_time": "2024-11-18T03:37:55.873426Z"
    }
   },
   "outputs": [
    {
     "name": "stdout",
     "output_type": "stream",
     "text": [
      "True\n",
      "False\n"
     ]
    }
   ],
   "source": [
    "import numpy as np\n",
    "\n",
    "# 判定缺失值\n",
    "value1 = np.nan\n",
    "value2 = 5.0\n",
    "\n",
    "print(np.isnan(value1))  # True，表示缺失值\n",
    "print(np.isnan(value2))  # False，表示非缺失值"
   ]
  },
  {
   "cell_type": "markdown",
   "id": "6543e3e0",
   "metadata": {},
   "source": [
    "判定 None 值  \n",
    "NumPy 本身没有专门的方法来直接判定 None 值，但可以使用 Python 的 is 或比较操作："
   ]
  },
  {
   "cell_type": "code",
   "execution_count": 7,
   "id": "612855ee",
   "metadata": {
    "ExecuteTime": {
     "end_time": "2024-11-18T03:38:30.187697Z",
     "start_time": "2024-11-18T03:38:30.183578Z"
    }
   },
   "outputs": [
    {
     "name": "stdout",
     "output_type": "stream",
     "text": [
      "True\n"
     ]
    }
   ],
   "source": [
    "value3 = None\n",
    "\n",
    "print(value3 is None)  # True，表示缺失值"
   ]
  },
  {
   "cell_type": "markdown",
   "id": "3ade55ec",
   "metadata": {},
   "source": [
    "结合 np.isnan() 和 pd.isna()  \n",
    "如果数组中同时存在 None 和 np.nan，建议结合 Pandas 处理缺失值，因为 Pandas 的 pd.isna() 可以同时处理 None 和 np.nan："
   ]
  },
  {
   "cell_type": "code",
   "execution_count": 8,
   "id": "dc8127a0",
   "metadata": {
    "ExecuteTime": {
     "end_time": "2024-11-18T03:39:17.167025Z",
     "start_time": "2024-11-18T03:39:17.161241Z"
    }
   },
   "outputs": [
    {
     "name": "stdout",
     "output_type": "stream",
     "text": [
      "[False  True  True]\n"
     ]
    }
   ],
   "source": [
    "import pandas as pd\n",
    "\n",
    "arr_mixed = np.array([1, np.nan, None], dtype=object)\n",
    "print(pd.isna(arr_mixed))  # [False  True  True]"
   ]
  },
  {
   "cell_type": "markdown",
   "id": "1a7cb166",
   "metadata": {},
   "source": [
    "np.isnan() 和 np.isnull()\n",
    "\n",
    "1. np.isnan()  \n",
    "功能：判断数组或单个值是否是 NaN（\"Not a Number\"）。  \n",
    "适用范围：主要用于数值类型（尤其是 float 类型）。如果输入为非数值（如 int、None 或字符串），会报错。\n",
    "\n",
    "2. np.isnull()  \n",
    "功能：判断值是否为空或缺失值（类似 Pandas 中的 pd.isnull()）。  \n",
    "适用范围：np.isnull() 是 Pandas 的工具函数 pd.isnull() 的别名，在 NumPy 中默认不可用，必须通过 Pandas 使用。"
   ]
  },
  {
   "cell_type": "markdown",
   "id": "cb73bf9e",
   "metadata": {},
   "source": [
    "### 单个缺失值"
   ]
  },
  {
   "cell_type": "markdown",
   "id": "45806114",
   "metadata": {},
   "source": [
    "方法 1：使用 pd.isna() 或 pd.isnull()  \n",
    "直接判断某个值是否是缺失值，返回布尔值。  \n",
    "pd.isna() 和 pd.isnull() 是等价的，可以互换使用。"
   ]
  },
  {
   "cell_type": "code",
   "execution_count": 3,
   "id": "32559f4a",
   "metadata": {
    "ExecuteTime": {
     "end_time": "2024-11-18T03:33:02.664172Z",
     "start_time": "2024-11-18T03:33:02.658657Z"
    }
   },
   "outputs": [
    {
     "name": "stdout",
     "output_type": "stream",
     "text": [
      "True\n",
      "False\n"
     ]
    }
   ],
   "source": [
    "import pandas as pd\n",
    "import numpy as np\n",
    "\n",
    "# 单个值判定\n",
    "value1 = np.nan\n",
    "value2 = 5\n",
    "\n",
    "print(pd.isna(value1))  # True，表示缺失值\n",
    "print(pd.isna(value2))  # False，表示非缺失值"
   ]
  },
  {
   "cell_type": "markdown",
   "id": "5003fdcb",
   "metadata": {},
   "source": [
    "方法 2：使用 pd.notna() 或 pd.notnull()  \n",
    "判断某个值是否不是缺失值，返回布尔值。"
   ]
  },
  {
   "cell_type": "code",
   "execution_count": 4,
   "id": "42958e98",
   "metadata": {
    "ExecuteTime": {
     "end_time": "2024-11-18T03:33:39.064562Z",
     "start_time": "2024-11-18T03:33:39.059286Z"
    }
   },
   "outputs": [
    {
     "name": "stdout",
     "output_type": "stream",
     "text": [
      "False\n",
      "True\n"
     ]
    }
   ],
   "source": [
    "print(pd.notna(value1))  # False，表示是缺失值\n",
    "print(pd.notna(value2))  # True，表示非缺失值"
   ]
  },
  {
   "cell_type": "markdown",
   "id": "7437da21",
   "metadata": {},
   "source": [
    "方法 3：使用 np.isnan()  \n",
    "适用于数值类型。仅适用于 float 类型值（如 np.nan），对于 None 不适用。"
   ]
  },
  {
   "cell_type": "code",
   "execution_count": 5,
   "id": "21286f40",
   "metadata": {
    "ExecuteTime": {
     "end_time": "2024-11-18T03:34:14.400482Z",
     "start_time": "2024-11-18T03:34:14.395344Z"
    }
   },
   "outputs": [
    {
     "name": "stdout",
     "output_type": "stream",
     "text": [
      "True\n"
     ]
    }
   ],
   "source": [
    "print(np.isnan(value1))  # True，表示缺失值\n",
    "# print(np.isnan(None))  # 会报错"
   ]
  },
  {
   "cell_type": "markdown",
   "id": "a2f51e41",
   "metadata": {},
   "source": [
    "注意  \n",
    "对于 None 和 np.nan，Pandas 会将两者都视为缺失值，pd.isna() 和 pd.notna() 适用于两者。  \n",
    "使用 numpy.isnan() 时，若传入非浮点数（如 None 或字符串），会报错，因此 pd.isna() 更加通用。"
   ]
  },
  {
   "cell_type": "markdown",
   "id": "7db7b8b7",
   "metadata": {},
   "source": [
    "## 处理缺失值"
   ]
  },
  {
   "cell_type": "markdown",
   "id": "7cdc35d9",
   "metadata": {},
   "source": [
    "pandas对象的所有描述性统计信息默认情况下是排除缺失值(NA)。"
   ]
  },
  {
   "cell_type": "markdown",
   "id": "700faccf",
   "metadata": {},
   "source": [
    "1、NA处理方法  \n",
    "dropna() 返回所有的非空数据  \n",
    "fillna() 用某些值填充缺失的数据或使用插值方法  \n",
    "isnull() 返回表名哪些值是缺失值的布尔值  \n",
    "notnull() isnull()的反函数  "
   ]
  },
  {
   "cell_type": "code",
   "execution_count": 102,
   "id": "6252587f",
   "metadata": {
    "ExecuteTime": {
     "end_time": "2022-06-05T03:23:36.489158Z",
     "start_time": "2022-06-05T03:23:36.458027Z"
    }
   },
   "outputs": [
    {
     "data": {
      "text/plain": [
       "state    False\n",
       "year     False\n",
       "dtype: bool"
      ]
     },
     "execution_count": 102,
     "metadata": {},
     "output_type": "execute_result"
    }
   ],
   "source": [
    "frame.isnull().any() #判断哪些列存在缺失值"
   ]
  },
  {
   "cell_type": "code",
   "execution_count": 103,
   "id": "7417ccd0",
   "metadata": {
    "ExecuteTime": {
     "end_time": "2022-06-05T03:24:31.252180Z",
     "start_time": "2022-06-05T03:24:31.228567Z"
    }
   },
   "outputs": [
    {
     "data": {
      "text/plain": [
       "0    0\n",
       "1    0\n",
       "2    0\n",
       "dtype: int64"
      ]
     },
     "execution_count": 103,
     "metadata": {},
     "output_type": "execute_result"
    }
   ],
   "source": [
    "frame.isnull().sum(axis=1) #返回每行缺失值总数"
   ]
  },
  {
   "cell_type": "code",
   "execution_count": 104,
   "id": "98b758f4",
   "metadata": {
    "ExecuteTime": {
     "end_time": "2022-06-05T03:25:15.205175Z",
     "start_time": "2022-06-05T03:25:15.183012Z"
    }
   },
   "outputs": [
    {
     "data": {
      "text/plain": [
       "state    0\n",
       "year     0\n",
       "dtype: int64"
      ]
     },
     "execution_count": 104,
     "metadata": {},
     "output_type": "execute_result"
    }
   ],
   "source": [
    "frame.isnull().sum(axis=0) #返回每列缺失值总数"
   ]
  },
  {
   "cell_type": "code",
   "execution_count": null,
   "id": "b6133d40",
   "metadata": {},
   "outputs": [],
   "source": [
    "frame[frame.isnull().T.any()].index # 返回缺失值对应行索引"
   ]
  },
  {
   "cell_type": "markdown",
   "id": "d0a700b9",
   "metadata": {},
   "source": [
    "2、np.nan表示缺失值或 from numpy import nan as NA，用NA代替缺失值"
   ]
  },
  {
   "cell_type": "markdown",
   "id": "9ba06ae4",
   "metadata": {},
   "source": [
    "3、当处理DataFrame对象时，dropna默认情况下会删除包含缺失值的行  \n",
    "dropna(how='all') 删除所有值均为NA的行  \n",
    "dropna(axis=1) 删除包含缺失值的列"
   ]
  },
  {
   "cell_type": "markdown",
   "id": "43d5e5d6",
   "metadata": {},
   "source": [
    "## 补全缺失值"
   ]
  },
  {
   "cell_type": "markdown",
   "id": "f2d8cbee",
   "metadata": {},
   "source": [
    "### pandas"
   ]
  },
  {
   "cell_type": "markdown",
   "id": "0aeb065c",
   "metadata": {},
   "source": [
    "1、大多数情况下，主要使用fillna()来补全缺失值，可以使用一个常数来替代缺失值。"
   ]
  },
  {
   "cell_type": "code",
   "execution_count": 105,
   "id": "137f21a6",
   "metadata": {
    "ExecuteTime": {
     "end_time": "2022-06-05T03:31:07.090554Z",
     "start_time": "2022-06-05T03:31:07.059027Z"
    }
   },
   "outputs": [
    {
     "data": {
      "text/html": [
       "<div>\n",
       "<style scoped>\n",
       "    .dataframe tbody tr th:only-of-type {\n",
       "        vertical-align: middle;\n",
       "    }\n",
       "\n",
       "    .dataframe tbody tr th {\n",
       "        vertical-align: top;\n",
       "    }\n",
       "\n",
       "    .dataframe thead th {\n",
       "        text-align: right;\n",
       "    }\n",
       "</style>\n",
       "<table border=\"1\" class=\"dataframe\">\n",
       "  <thead>\n",
       "    <tr style=\"text-align: right;\">\n",
       "      <th></th>\n",
       "      <th>state</th>\n",
       "      <th>year</th>\n",
       "    </tr>\n",
       "  </thead>\n",
       "  <tbody>\n",
       "    <tr>\n",
       "      <th>0</th>\n",
       "      <td>ohio</td>\n",
       "      <td>2000</td>\n",
       "    </tr>\n",
       "    <tr>\n",
       "      <th>1</th>\n",
       "      <td>ohio</td>\n",
       "      <td>2001</td>\n",
       "    </tr>\n",
       "    <tr>\n",
       "      <th>2</th>\n",
       "      <td>nevada</td>\n",
       "      <td>2002</td>\n",
       "    </tr>\n",
       "  </tbody>\n",
       "</table>\n",
       "</div>"
      ],
      "text/plain": [
       "    state  year\n",
       "0    ohio  2000\n",
       "1    ohio  2001\n",
       "2  nevada  2002"
      ]
     },
     "execution_count": 105,
     "metadata": {},
     "output_type": "execute_result"
    }
   ],
   "source": [
    "frame.fillna(0)"
   ]
  },
  {
   "cell_type": "markdown",
   "id": "08bf9130",
   "metadata": {},
   "source": [
    "2、在调用fillna时使用字典，可以为不同列设定不同的填充值。"
   ]
  },
  {
   "cell_type": "code",
   "execution_count": 106,
   "id": "b90f3610",
   "metadata": {
    "ExecuteTime": {
     "end_time": "2022-06-05T03:33:00.326887Z",
     "start_time": "2022-06-05T03:33:00.309011Z"
    }
   },
   "outputs": [
    {
     "data": {
      "text/html": [
       "<div>\n",
       "<style scoped>\n",
       "    .dataframe tbody tr th:only-of-type {\n",
       "        vertical-align: middle;\n",
       "    }\n",
       "\n",
       "    .dataframe tbody tr th {\n",
       "        vertical-align: top;\n",
       "    }\n",
       "\n",
       "    .dataframe thead th {\n",
       "        text-align: right;\n",
       "    }\n",
       "</style>\n",
       "<table border=\"1\" class=\"dataframe\">\n",
       "  <thead>\n",
       "    <tr style=\"text-align: right;\">\n",
       "      <th></th>\n",
       "      <th>state</th>\n",
       "      <th>year</th>\n",
       "    </tr>\n",
       "  </thead>\n",
       "  <tbody>\n",
       "    <tr>\n",
       "      <th>0</th>\n",
       "      <td>ohio</td>\n",
       "      <td>2000</td>\n",
       "    </tr>\n",
       "    <tr>\n",
       "      <th>1</th>\n",
       "      <td>ohio</td>\n",
       "      <td>2001</td>\n",
       "    </tr>\n",
       "    <tr>\n",
       "      <th>2</th>\n",
       "      <td>nevada</td>\n",
       "      <td>2002</td>\n",
       "    </tr>\n",
       "  </tbody>\n",
       "</table>\n",
       "</div>"
      ],
      "text/plain": [
       "    state  year\n",
       "0    ohio  2000\n",
       "1    ohio  2001\n",
       "2  nevada  2002"
      ]
     },
     "execution_count": 106,
     "metadata": {},
     "output_type": "execute_result"
    }
   ],
   "source": [
    "frame.fillna({1:0.5, 2:0.7}) #第二列缺失值填充为0.5，第三列填充为0.7"
   ]
  },
  {
   "cell_type": "markdown",
   "id": "a4b9f743",
   "metadata": {},
   "source": [
    "3、可以将平均值、中位数等函数计算结果用于填充缺失值。"
   ]
  },
  {
   "cell_type": "code",
   "execution_count": 107,
   "id": "2786e021",
   "metadata": {
    "ExecuteTime": {
     "end_time": "2022-06-05T03:34:05.586985Z",
     "start_time": "2022-06-05T03:34:05.564290Z"
    }
   },
   "outputs": [
    {
     "data": {
      "text/html": [
       "<div>\n",
       "<style scoped>\n",
       "    .dataframe tbody tr th:only-of-type {\n",
       "        vertical-align: middle;\n",
       "    }\n",
       "\n",
       "    .dataframe tbody tr th {\n",
       "        vertical-align: top;\n",
       "    }\n",
       "\n",
       "    .dataframe thead th {\n",
       "        text-align: right;\n",
       "    }\n",
       "</style>\n",
       "<table border=\"1\" class=\"dataframe\">\n",
       "  <thead>\n",
       "    <tr style=\"text-align: right;\">\n",
       "      <th></th>\n",
       "      <th>state</th>\n",
       "      <th>year</th>\n",
       "    </tr>\n",
       "  </thead>\n",
       "  <tbody>\n",
       "    <tr>\n",
       "      <th>0</th>\n",
       "      <td>ohio</td>\n",
       "      <td>2000</td>\n",
       "    </tr>\n",
       "    <tr>\n",
       "      <th>1</th>\n",
       "      <td>ohio</td>\n",
       "      <td>2001</td>\n",
       "    </tr>\n",
       "    <tr>\n",
       "      <th>2</th>\n",
       "      <td>nevada</td>\n",
       "      <td>2002</td>\n",
       "    </tr>\n",
       "  </tbody>\n",
       "</table>\n",
       "</div>"
      ],
      "text/plain": [
       "    state  year\n",
       "0    ohio  2000\n",
       "1    ohio  2001\n",
       "2  nevada  2002"
      ]
     },
     "execution_count": 107,
     "metadata": {},
     "output_type": "execute_result"
    }
   ],
   "source": [
    "frame.fillna(frame.mean())"
   ]
  },
  {
   "cell_type": "markdown",
   "id": "7a99bae2",
   "metadata": {},
   "source": [
    "### numpy"
   ]
  },
  {
   "cell_type": "code",
   "execution_count": 13,
   "id": "5b02a2f0",
   "metadata": {
    "ExecuteTime": {
     "end_time": "2024-11-18T03:55:22.024348Z",
     "start_time": "2024-11-18T03:55:22.015716Z"
    }
   },
   "outputs": [
    {
     "name": "stdout",
     "output_type": "stream",
     "text": [
      "[1. 0. 3.]\n"
     ]
    }
   ],
   "source": [
    "import numpy as np\n",
    "\n",
    "arr = np.array([1, np.nan, 3])\n",
    "arr_filled = np.where(np.isnan(arr), 0, arr)  # 用 0 替换缺失值\n",
    "print(arr_filled)  # [1. 0. 3.]"
   ]
  },
  {
   "cell_type": "markdown",
   "id": "abe0dabb",
   "metadata": {},
   "source": [
    "## 删除重复值"
   ]
  },
  {
   "cell_type": "code",
   "execution_count": 108,
   "id": "333f85ed",
   "metadata": {
    "ExecuteTime": {
     "end_time": "2022-06-05T03:35:56.360507Z",
     "start_time": "2022-06-05T03:35:56.299609Z"
    }
   },
   "outputs": [
    {
     "data": {
      "text/html": [
       "<div>\n",
       "<style scoped>\n",
       "    .dataframe tbody tr th:only-of-type {\n",
       "        vertical-align: middle;\n",
       "    }\n",
       "\n",
       "    .dataframe tbody tr th {\n",
       "        vertical-align: top;\n",
       "    }\n",
       "\n",
       "    .dataframe thead th {\n",
       "        text-align: right;\n",
       "    }\n",
       "</style>\n",
       "<table border=\"1\" class=\"dataframe\">\n",
       "  <thead>\n",
       "    <tr style=\"text-align: right;\">\n",
       "      <th></th>\n",
       "      <th>state</th>\n",
       "      <th>year</th>\n",
       "    </tr>\n",
       "  </thead>\n",
       "  <tbody>\n",
       "    <tr>\n",
       "      <th>0</th>\n",
       "      <td>ohio</td>\n",
       "      <td>2000</td>\n",
       "    </tr>\n",
       "    <tr>\n",
       "      <th>1</th>\n",
       "      <td>ohio</td>\n",
       "      <td>2001</td>\n",
       "    </tr>\n",
       "    <tr>\n",
       "      <th>2</th>\n",
       "      <td>nevada</td>\n",
       "      <td>2002</td>\n",
       "    </tr>\n",
       "  </tbody>\n",
       "</table>\n",
       "</div>"
      ],
      "text/plain": [
       "    state  year\n",
       "0    ohio  2000\n",
       "1    ohio  2001\n",
       "2  nevada  2002"
      ]
     },
     "execution_count": 108,
     "metadata": {},
     "output_type": "execute_result"
    }
   ],
   "source": [
    "frame.drop_duplicates() #去除重复行"
   ]
  },
  {
   "cell_type": "code",
   "execution_count": 109,
   "id": "647d37d3",
   "metadata": {
    "ExecuteTime": {
     "end_time": "2022-06-05T03:36:48.558933Z",
     "start_time": "2022-06-05T03:36:48.542432Z"
    }
   },
   "outputs": [
    {
     "data": {
      "text/html": [
       "<div>\n",
       "<style scoped>\n",
       "    .dataframe tbody tr th:only-of-type {\n",
       "        vertical-align: middle;\n",
       "    }\n",
       "\n",
       "    .dataframe tbody tr th {\n",
       "        vertical-align: top;\n",
       "    }\n",
       "\n",
       "    .dataframe thead th {\n",
       "        text-align: right;\n",
       "    }\n",
       "</style>\n",
       "<table border=\"1\" class=\"dataframe\">\n",
       "  <thead>\n",
       "    <tr style=\"text-align: right;\">\n",
       "      <th></th>\n",
       "      <th>state</th>\n",
       "      <th>year</th>\n",
       "    </tr>\n",
       "  </thead>\n",
       "  <tbody>\n",
       "    <tr>\n",
       "      <th>0</th>\n",
       "      <td>ohio</td>\n",
       "      <td>2000</td>\n",
       "    </tr>\n",
       "    <tr>\n",
       "      <th>2</th>\n",
       "      <td>nevada</td>\n",
       "      <td>2002</td>\n",
       "    </tr>\n",
       "  </tbody>\n",
       "</table>\n",
       "</div>"
      ],
      "text/plain": [
       "    state  year\n",
       "0    ohio  2000\n",
       "2  nevada  2002"
      ]
     },
     "execution_count": 109,
     "metadata": {},
     "output_type": "execute_result"
    }
   ],
   "source": [
    "frame.drop_duplicates(['state']) #基于指定列去除重复值"
   ]
  },
  {
   "cell_type": "markdown",
   "id": "2b2a4287",
   "metadata": {},
   "source": [
    "## 替代值"
   ]
  },
  {
   "cell_type": "code",
   "execution_count": 110,
   "id": "a7ab6b12",
   "metadata": {
    "ExecuteTime": {
     "end_time": "2022-06-05T03:39:08.271067Z",
     "start_time": "2022-06-05T03:39:08.245238Z"
    }
   },
   "outputs": [
    {
     "data": {
      "text/html": [
       "<div>\n",
       "<style scoped>\n",
       "    .dataframe tbody tr th:only-of-type {\n",
       "        vertical-align: middle;\n",
       "    }\n",
       "\n",
       "    .dataframe tbody tr th {\n",
       "        vertical-align: top;\n",
       "    }\n",
       "\n",
       "    .dataframe thead th {\n",
       "        text-align: right;\n",
       "    }\n",
       "</style>\n",
       "<table border=\"1\" class=\"dataframe\">\n",
       "  <thead>\n",
       "    <tr style=\"text-align: right;\">\n",
       "      <th></th>\n",
       "      <th>state</th>\n",
       "      <th>year</th>\n",
       "    </tr>\n",
       "  </thead>\n",
       "  <tbody>\n",
       "    <tr>\n",
       "      <th>0</th>\n",
       "      <td>ohio</td>\n",
       "      <td>NaN</td>\n",
       "    </tr>\n",
       "    <tr>\n",
       "      <th>1</th>\n",
       "      <td>ohio</td>\n",
       "      <td>2001.0</td>\n",
       "    </tr>\n",
       "    <tr>\n",
       "      <th>2</th>\n",
       "      <td>nevada</td>\n",
       "      <td>2002.0</td>\n",
       "    </tr>\n",
       "  </tbody>\n",
       "</table>\n",
       "</div>"
      ],
      "text/plain": [
       "    state    year\n",
       "0    ohio     NaN\n",
       "1    ohio  2001.0\n",
       "2  nevada  2002.0"
      ]
     },
     "execution_count": 110,
     "metadata": {},
     "output_type": "execute_result"
    }
   ],
   "source": [
    "frame.replace(2000,np.nan)"
   ]
  },
  {
   "cell_type": "code",
   "execution_count": 111,
   "id": "9f1f4f68",
   "metadata": {
    "ExecuteTime": {
     "end_time": "2022-06-05T03:39:59.530134Z",
     "start_time": "2022-06-05T03:39:59.502535Z"
    }
   },
   "outputs": [
    {
     "data": {
      "text/html": [
       "<div>\n",
       "<style scoped>\n",
       "    .dataframe tbody tr th:only-of-type {\n",
       "        vertical-align: middle;\n",
       "    }\n",
       "\n",
       "    .dataframe tbody tr th {\n",
       "        vertical-align: top;\n",
       "    }\n",
       "\n",
       "    .dataframe thead th {\n",
       "        text-align: right;\n",
       "    }\n",
       "</style>\n",
       "<table border=\"1\" class=\"dataframe\">\n",
       "  <thead>\n",
       "    <tr style=\"text-align: right;\">\n",
       "      <th></th>\n",
       "      <th>state</th>\n",
       "      <th>year</th>\n",
       "    </tr>\n",
       "  </thead>\n",
       "  <tbody>\n",
       "    <tr>\n",
       "      <th>0</th>\n",
       "      <td>ohio</td>\n",
       "      <td>NaN</td>\n",
       "    </tr>\n",
       "    <tr>\n",
       "      <th>1</th>\n",
       "      <td>ohio</td>\n",
       "      <td>2001.0</td>\n",
       "    </tr>\n",
       "    <tr>\n",
       "      <th>2</th>\n",
       "      <td>nevada</td>\n",
       "      <td>2002.0</td>\n",
       "    </tr>\n",
       "  </tbody>\n",
       "</table>\n",
       "</div>"
      ],
      "text/plain": [
       "    state    year\n",
       "0    ohio     NaN\n",
       "1    ohio  2001.0\n",
       "2  nevada  2002.0"
      ]
     },
     "execution_count": 111,
     "metadata": {},
     "output_type": "execute_result"
    }
   ],
   "source": [
    "frame.replace([2000,1000],[np.nan,0]) #多值替代"
   ]
  },
  {
   "cell_type": "markdown",
   "id": "9bea8862",
   "metadata": {},
   "source": [
    "## 重命名轴索引"
   ]
  },
  {
   "cell_type": "code",
   "execution_count": 113,
   "id": "e60b3031",
   "metadata": {
    "ExecuteTime": {
     "end_time": "2022-06-05T03:42:55.782422Z",
     "start_time": "2022-06-05T03:42:55.757968Z"
    }
   },
   "outputs": [
    {
     "data": {
      "text/html": [
       "<div>\n",
       "<style scoped>\n",
       "    .dataframe tbody tr th:only-of-type {\n",
       "        vertical-align: middle;\n",
       "    }\n",
       "\n",
       "    .dataframe tbody tr th {\n",
       "        vertical-align: top;\n",
       "    }\n",
       "\n",
       "    .dataframe thead th {\n",
       "        text-align: right;\n",
       "    }\n",
       "</style>\n",
       "<table border=\"1\" class=\"dataframe\">\n",
       "  <thead>\n",
       "    <tr style=\"text-align: right;\">\n",
       "      <th></th>\n",
       "      <th>states</th>\n",
       "      <th>years</th>\n",
       "    </tr>\n",
       "  </thead>\n",
       "  <tbody>\n",
       "    <tr>\n",
       "      <th>zero</th>\n",
       "      <td>ohio</td>\n",
       "      <td>2000</td>\n",
       "    </tr>\n",
       "    <tr>\n",
       "      <th>one</th>\n",
       "      <td>ohio</td>\n",
       "      <td>2001</td>\n",
       "    </tr>\n",
       "    <tr>\n",
       "      <th>two</th>\n",
       "      <td>nevada</td>\n",
       "      <td>2002</td>\n",
       "    </tr>\n",
       "  </tbody>\n",
       "</table>\n",
       "</div>"
      ],
      "text/plain": [
       "      states  years\n",
       "zero    ohio   2000\n",
       "one     ohio   2001\n",
       "two   nevada   2002"
      ]
     },
     "execution_count": 113,
     "metadata": {},
     "output_type": "execute_result"
    }
   ],
   "source": [
    "frame.rename(index={0:'zero',1:'one',2:'two'}, columns={'year':'years','state':'states'})"
   ]
  },
  {
   "cell_type": "markdown",
   "id": "75bf389c",
   "metadata": {},
   "source": [
    "## 离散化和分箱"
   ]
  },
  {
   "cell_type": "code",
   "execution_count": 114,
   "id": "40e629c0",
   "metadata": {
    "ExecuteTime": {
     "end_time": "2022-06-05T03:46:41.591008Z",
     "start_time": "2022-06-05T03:46:41.530083Z"
    }
   },
   "outputs": [
    {
     "data": {
      "text/plain": [
       "[(18, 25], (18, 25], (18, 25], (25, 35], (18, 25], ..., (25, 35], (60, 100], (35, 60], (35, 60], (25, 35]]\n",
       "Length: 12\n",
       "Categories (4, interval[int64]): [(18, 25] < (25, 35] < (35, 60] < (60, 100]]"
      ]
     },
     "execution_count": 114,
     "metadata": {},
     "output_type": "execute_result"
    }
   ],
   "source": [
    "ages = [20, 22, 25, 27, 21, 23, 37, 31, 61, 45, 41, 32]\n",
    "bins = [18, 25, 35, 60, 100]#将年龄划分区间\n",
    "cuts = pd.cut(ages, bins)\n",
    "cuts"
   ]
  },
  {
   "cell_type": "code",
   "execution_count": 115,
   "id": "0bfc3800",
   "metadata": {
    "ExecuteTime": {
     "end_time": "2022-06-05T03:47:22.545635Z",
     "start_time": "2022-06-05T03:47:22.522942Z"
    }
   },
   "outputs": [
    {
     "data": {
      "text/plain": [
       "(18, 25]     5\n",
       "(25, 35]     3\n",
       "(35, 60]     3\n",
       "(60, 100]    1\n",
       "dtype: int64"
      ]
     },
     "execution_count": 115,
     "metadata": {},
     "output_type": "execute_result"
    }
   ],
   "source": [
    "pd.value_counts(cuts)#统计区间个数"
   ]
  },
  {
   "cell_type": "code",
   "execution_count": 116,
   "id": "77101cce",
   "metadata": {
    "ExecuteTime": {
     "end_time": "2022-06-05T03:48:22.898599Z",
     "start_time": "2022-06-05T03:48:22.845367Z"
    }
   },
   "outputs": [
    {
     "data": {
      "text/plain": [
       "[(19.999, 22.75], (19.999, 22.75], (22.75, 29.0], (22.75, 29.0], (19.999, 22.75], ..., (29.0, 38.0], (38.0, 61.0], (38.0, 61.0], (38.0, 61.0], (29.0, 38.0]]\n",
       "Length: 12\n",
       "Categories (4, interval[float64]): [(19.999, 22.75] < (22.75, 29.0] < (29.0, 38.0] < (38.0, 61.0]]"
      ]
     },
     "execution_count": 116,
     "metadata": {},
     "output_type": "execute_result"
    }
   ],
   "source": [
    "pd.qcut(ages, 4)#将样本按四分位数切成四分"
   ]
  },
  {
   "cell_type": "markdown",
   "id": "79aa8bed",
   "metadata": {},
   "source": [
    "# 重塑和透视"
   ]
  },
  {
   "cell_type": "markdown",
   "id": "25afdc11",
   "metadata": {},
   "source": [
    "分层索引是pandas的重要特性，允许你在一个轴向上拥有多个索引层级，分层索引提供了一种在更低维度的形式中处理更高维度数据的方式。"
   ]
  },
  {
   "cell_type": "code",
   "execution_count": 119,
   "id": "e8a3de17",
   "metadata": {
    "ExecuteTime": {
     "end_time": "2022-06-05T03:55:21.079938Z",
     "start_time": "2022-06-05T03:55:21.054165Z"
    }
   },
   "outputs": [
    {
     "data": {
      "text/plain": [
       "state  0      ohio\n",
       "       1      ohio\n",
       "       2    nevada\n",
       "year   0      2000\n",
       "       1      2001\n",
       "       2      2002\n",
       "dtype: object"
      ]
     },
     "execution_count": 119,
     "metadata": {},
     "output_type": "execute_result"
    }
   ],
   "source": [
    "frame.unstack() #拆堆"
   ]
  },
  {
   "cell_type": "code",
   "execution_count": 120,
   "id": "6b657c9a",
   "metadata": {
    "ExecuteTime": {
     "end_time": "2022-06-05T03:55:57.968186Z",
     "start_time": "2022-06-05T03:55:57.950444Z"
    }
   },
   "outputs": [
    {
     "data": {
      "text/plain": [
       "0  state      ohio\n",
       "   year       2000\n",
       "1  state      ohio\n",
       "   year       2001\n",
       "2  state    nevada\n",
       "   year       2002\n",
       "dtype: object"
      ]
     },
     "execution_count": 120,
     "metadata": {},
     "output_type": "execute_result"
    }
   ],
   "source": [
    "frame.stack() #堆叠"
   ]
  },
  {
   "cell_type": "markdown",
   "id": "63214c57",
   "metadata": {},
   "source": [
    "# 绘图和可视化"
   ]
  },
  {
   "cell_type": "markdown",
   "id": "93ab3b9b",
   "metadata": {},
   "source": [
    "## matplotlib库"
   ]
  },
  {
   "cell_type": "code",
   "execution_count": 117,
   "id": "30396a9e",
   "metadata": {
    "ExecuteTime": {
     "end_time": "2022-06-05T03:49:55.594890Z",
     "start_time": "2022-06-05T03:49:55.365348Z"
    }
   },
   "outputs": [],
   "source": [
    "import matplotlib as plt"
   ]
  },
  {
   "cell_type": "markdown",
   "id": "22c52624",
   "metadata": {},
   "source": [
    "## seaborn库"
   ]
  },
  {
   "cell_type": "code",
   "execution_count": 118,
   "id": "33185608",
   "metadata": {
    "ExecuteTime": {
     "end_time": "2022-06-05T03:51:06.996099Z",
     "start_time": "2022-06-05T03:51:03.357734Z"
    }
   },
   "outputs": [],
   "source": [
    "import seaborn as sns"
   ]
  },
  {
   "cell_type": "markdown",
   "id": "e3f1636b",
   "metadata": {},
   "source": [
    "# 数据聚合与分组操作"
   ]
  },
  {
   "cell_type": "markdown",
   "id": "3a038ab5",
   "metadata": {},
   "source": [
    "## groupby机制"
   ]
  },
  {
   "cell_type": "markdown",
   "id": "2c3e26f0",
   "metadata": {},
   "source": [
    "DataFrame可以在它的行方向（axis=0）或列方向（axis=1）进行分组，在这种情况下，你可以传递列名或行名（无论它们是字符串、数字或其他python对象）作为分组键。"
   ]
  },
  {
   "cell_type": "code",
   "execution_count": 122,
   "id": "184f597b",
   "metadata": {
    "ExecuteTime": {
     "end_time": "2022-06-05T05:23:29.491928Z",
     "start_time": "2022-06-05T05:23:29.474938Z"
    }
   },
   "outputs": [
    {
     "data": {
      "text/html": [
       "<div>\n",
       "<style scoped>\n",
       "    .dataframe tbody tr th:only-of-type {\n",
       "        vertical-align: middle;\n",
       "    }\n",
       "\n",
       "    .dataframe tbody tr th {\n",
       "        vertical-align: top;\n",
       "    }\n",
       "\n",
       "    .dataframe thead th {\n",
       "        text-align: right;\n",
       "    }\n",
       "</style>\n",
       "<table border=\"1\" class=\"dataframe\">\n",
       "  <thead>\n",
       "    <tr style=\"text-align: right;\">\n",
       "      <th></th>\n",
       "      <th>key1</th>\n",
       "      <th>key2</th>\n",
       "      <th>data1</th>\n",
       "      <th>data2</th>\n",
       "    </tr>\n",
       "  </thead>\n",
       "  <tbody>\n",
       "    <tr>\n",
       "      <th>0</th>\n",
       "      <td>a</td>\n",
       "      <td>one</td>\n",
       "      <td>-0.119439</td>\n",
       "      <td>-0.735122</td>\n",
       "    </tr>\n",
       "    <tr>\n",
       "      <th>1</th>\n",
       "      <td>a</td>\n",
       "      <td>two</td>\n",
       "      <td>-0.813536</td>\n",
       "      <td>0.827313</td>\n",
       "    </tr>\n",
       "    <tr>\n",
       "      <th>2</th>\n",
       "      <td>b</td>\n",
       "      <td>one</td>\n",
       "      <td>0.332113</td>\n",
       "      <td>-0.439339</td>\n",
       "    </tr>\n",
       "    <tr>\n",
       "      <th>3</th>\n",
       "      <td>b</td>\n",
       "      <td>two</td>\n",
       "      <td>0.900853</td>\n",
       "      <td>-0.117592</td>\n",
       "    </tr>\n",
       "    <tr>\n",
       "      <th>4</th>\n",
       "      <td>a</td>\n",
       "      <td>one</td>\n",
       "      <td>-0.459998</td>\n",
       "      <td>0.133810</td>\n",
       "    </tr>\n",
       "  </tbody>\n",
       "</table>\n",
       "</div>"
      ],
      "text/plain": [
       "  key1 key2     data1     data2\n",
       "0    a  one -0.119439 -0.735122\n",
       "1    a  two -0.813536  0.827313\n",
       "2    b  one  0.332113 -0.439339\n",
       "3    b  two  0.900853 -0.117592\n",
       "4    a  one -0.459998  0.133810"
      ]
     },
     "execution_count": 122,
     "metadata": {},
     "output_type": "execute_result"
    }
   ],
   "source": [
    "df = pd.DataFrame({'key1':['a','a','b','b','a'],\n",
    "                   'key2':['one','two','one','two','one'],\n",
    "                   'data1':np.random.randn(5),\n",
    "                   'data2':np.random.randn(5)})\n",
    "df"
   ]
  },
  {
   "cell_type": "markdown",
   "id": "cc9b2361",
   "metadata": {},
   "source": [
    "1、根据key1标签计算data1的均值  "
   ]
  },
  {
   "cell_type": "code",
   "execution_count": 123,
   "id": "e21bed0b",
   "metadata": {
    "ExecuteTime": {
     "end_time": "2022-06-05T05:27:08.422741Z",
     "start_time": "2022-06-05T05:27:08.396769Z"
    }
   },
   "outputs": [
    {
     "data": {
      "text/plain": [
       "key1\n",
       "a   -0.464324\n",
       "b    0.616483\n",
       "Name: data1, dtype: float64"
      ]
     },
     "execution_count": 123,
     "metadata": {},
     "output_type": "execute_result"
    }
   ],
   "source": [
    "df.groupby('key1')['data1'].mean()"
   ]
  },
  {
   "cell_type": "markdown",
   "id": "132e8fe5",
   "metadata": {},
   "source": [
    "2、根据key1，key2标签进行分组"
   ]
  },
  {
   "cell_type": "code",
   "execution_count": 124,
   "id": "bdfec95c",
   "metadata": {
    "ExecuteTime": {
     "end_time": "2022-06-05T05:28:21.542846Z",
     "start_time": "2022-06-05T05:28:21.532634Z"
    }
   },
   "outputs": [
    {
     "data": {
      "text/plain": [
       "<pandas.core.groupby.generic.DataFrameGroupBy object at 0x0000019DF24DBA48>"
      ]
     },
     "execution_count": 124,
     "metadata": {},
     "output_type": "execute_result"
    }
   ],
   "source": [
    "df.groupby(['key1', 'key2'])"
   ]
  },
  {
   "cell_type": "markdown",
   "id": "394ebfbd",
   "metadata": {},
   "source": [
    "上述语句现在是一个groupby对象，需要迭代产生结果。"
   ]
  },
  {
   "cell_type": "code",
   "execution_count": 128,
   "id": "9cd79d2f",
   "metadata": {
    "ExecuteTime": {
     "end_time": "2022-06-05T05:32:50.364537Z",
     "start_time": "2022-06-05T05:32:50.343059Z"
    }
   },
   "outputs": [
    {
     "name": "stdout",
     "output_type": "stream",
     "text": [
      "a\n",
      "  key1 key2     data1     data2\n",
      "0    a  one -0.119439 -0.735122\n",
      "1    a  two -0.813536  0.827313\n",
      "4    a  one -0.459998  0.133810\n",
      "b\n",
      "  key1 key2     data1     data2\n",
      "2    b  one  0.332113 -0.439339\n",
      "3    b  two  0.900853 -0.117592\n"
     ]
    }
   ],
   "source": [
    "#当只有一个标签时：\n",
    "for name, group in df.groupby('key1'):\n",
    "    print(name)\n",
    "    print(group)"
   ]
  },
  {
   "cell_type": "code",
   "execution_count": 129,
   "id": "a76e557a",
   "metadata": {
    "ExecuteTime": {
     "end_time": "2022-06-05T05:32:51.242362Z",
     "start_time": "2022-06-05T05:32:51.211479Z"
    }
   },
   "outputs": [
    {
     "name": "stdout",
     "output_type": "stream",
     "text": [
      "('a', 'one')\n",
      "  key1 key2     data1     data2\n",
      "0    a  one -0.119439 -0.735122\n",
      "4    a  one -0.459998  0.133810\n",
      "('a', 'two')\n",
      "  key1 key2     data1     data2\n",
      "1    a  two -0.813536  0.827313\n",
      "('b', 'one')\n",
      "  key1 key2     data1     data2\n",
      "2    b  one  0.332113 -0.439339\n",
      "('b', 'two')\n",
      "  key1 key2     data1     data2\n",
      "3    b  two  0.900853 -0.117592\n"
     ]
    }
   ],
   "source": [
    "#当只有两个标签时：\n",
    "for (k1,k2),group in df.groupby(['key1','key2']):\n",
    "    print((k1,k2))\n",
    "    print(group)"
   ]
  },
  {
   "cell_type": "markdown",
   "id": "c93a00e0",
   "metadata": {},
   "source": [
    "根据key1，key2标签对data1进行分组，并求均值。"
   ]
  },
  {
   "cell_type": "code",
   "execution_count": 131,
   "id": "001e5304",
   "metadata": {
    "ExecuteTime": {
     "end_time": "2022-06-05T05:35:14.983743Z",
     "start_time": "2022-06-05T05:35:14.962800Z"
    }
   },
   "outputs": [
    {
     "data": {
      "text/plain": [
       "key1  key2\n",
       "a     one    -0.289718\n",
       "      two    -0.813536\n",
       "b     one     0.332113\n",
       "      two     0.900853\n",
       "Name: data1, dtype: float64"
      ]
     },
     "execution_count": 131,
     "metadata": {},
     "output_type": "execute_result"
    }
   ],
   "source": [
    "s = df.groupby(['key1','key2'])['data1'].mean()\n",
    "s"
   ]
  },
  {
   "cell_type": "code",
   "execution_count": 132,
   "id": "d9da1f7a",
   "metadata": {
    "ExecuteTime": {
     "end_time": "2022-06-05T05:35:23.388053Z",
     "start_time": "2022-06-05T05:35:23.376841Z"
    }
   },
   "outputs": [
    {
     "data": {
      "text/html": [
       "<div>\n",
       "<style scoped>\n",
       "    .dataframe tbody tr th:only-of-type {\n",
       "        vertical-align: middle;\n",
       "    }\n",
       "\n",
       "    .dataframe tbody tr th {\n",
       "        vertical-align: top;\n",
       "    }\n",
       "\n",
       "    .dataframe thead th {\n",
       "        text-align: right;\n",
       "    }\n",
       "</style>\n",
       "<table border=\"1\" class=\"dataframe\">\n",
       "  <thead>\n",
       "    <tr style=\"text-align: right;\">\n",
       "      <th>key2</th>\n",
       "      <th>one</th>\n",
       "      <th>two</th>\n",
       "    </tr>\n",
       "    <tr>\n",
       "      <th>key1</th>\n",
       "      <th></th>\n",
       "      <th></th>\n",
       "    </tr>\n",
       "  </thead>\n",
       "  <tbody>\n",
       "    <tr>\n",
       "      <th>a</th>\n",
       "      <td>-0.289718</td>\n",
       "      <td>-0.813536</td>\n",
       "    </tr>\n",
       "    <tr>\n",
       "      <th>b</th>\n",
       "      <td>0.332113</td>\n",
       "      <td>0.900853</td>\n",
       "    </tr>\n",
       "  </tbody>\n",
       "</table>\n",
       "</div>"
      ],
      "text/plain": [
       "key2       one       two\n",
       "key1                    \n",
       "a    -0.289718 -0.813536\n",
       "b     0.332113  0.900853"
      ]
     },
     "execution_count": 132,
     "metadata": {},
     "output_type": "execute_result"
    }
   ],
   "source": [
    "s.unstack()"
   ]
  },
  {
   "cell_type": "markdown",
   "id": "fa43dee3",
   "metadata": {},
   "source": [
    "3、优化的groupby方法"
   ]
  },
  {
   "cell_type": "markdown",
   "id": "9af8d8e1",
   "metadata": {},
   "source": [
    "count 分组中的非NA值数量  \n",
    "sum 非NA值的累和  \n",
    "mean 非NA值的均值  \n",
    "median 非NA值的算术中位数  \n",
    "std,var 无偏标准差和方差  \n",
    "min,max 非NA值的最小值，最大值  \n",
    "first,last 非NA值的第一个和最后一个值"
   ]
  },
  {
   "cell_type": "markdown",
   "id": "01164bcb",
   "metadata": {},
   "source": [
    "4、需要使用自己的聚合函数，可以将函数传递给agg方法"
   ]
  },
  {
   "cell_type": "code",
   "execution_count": 136,
   "id": "71bd1c87",
   "metadata": {
    "ExecuteTime": {
     "end_time": "2022-06-05T05:42:48.209547Z",
     "start_time": "2022-06-05T05:42:48.182968Z"
    }
   },
   "outputs": [
    {
     "data": {
      "text/html": [
       "<div>\n",
       "<style scoped>\n",
       "    .dataframe tbody tr th:only-of-type {\n",
       "        vertical-align: middle;\n",
       "    }\n",
       "\n",
       "    .dataframe tbody tr th {\n",
       "        vertical-align: top;\n",
       "    }\n",
       "\n",
       "    .dataframe thead th {\n",
       "        text-align: right;\n",
       "    }\n",
       "</style>\n",
       "<table border=\"1\" class=\"dataframe\">\n",
       "  <thead>\n",
       "    <tr style=\"text-align: right;\">\n",
       "      <th></th>\n",
       "      <th>data1</th>\n",
       "      <th>data2</th>\n",
       "    </tr>\n",
       "    <tr>\n",
       "      <th>key1</th>\n",
       "      <th></th>\n",
       "      <th></th>\n",
       "    </tr>\n",
       "  </thead>\n",
       "  <tbody>\n",
       "    <tr>\n",
       "      <th>a</th>\n",
       "      <td>0.694097</td>\n",
       "      <td>1.562434</td>\n",
       "    </tr>\n",
       "    <tr>\n",
       "      <th>b</th>\n",
       "      <td>0.568740</td>\n",
       "      <td>0.321747</td>\n",
       "    </tr>\n",
       "  </tbody>\n",
       "</table>\n",
       "</div>"
      ],
      "text/plain": [
       "         data1     data2\n",
       "key1                    \n",
       "a     0.694097  1.562434\n",
       "b     0.568740  0.321747"
      ]
     },
     "execution_count": 136,
     "metadata": {},
     "output_type": "execute_result"
    }
   ],
   "source": [
    "grouped = df.groupby('key1')\n",
    "def peak_to_peak(arr):\n",
    "    return arr.max()-arr.min()#组内最大值与最小值的差\n",
    "grouped.agg(peak_to_peak)"
   ]
  },
  {
   "cell_type": "code",
   "execution_count": 137,
   "id": "4295320c",
   "metadata": {
    "ExecuteTime": {
     "end_time": "2022-06-05T05:43:19.551290Z",
     "start_time": "2022-06-05T05:43:19.509054Z"
    }
   },
   "outputs": [
    {
     "data": {
      "text/html": [
       "<div>\n",
       "<style scoped>\n",
       "    .dataframe tbody tr th:only-of-type {\n",
       "        vertical-align: middle;\n",
       "    }\n",
       "\n",
       "    .dataframe tbody tr th {\n",
       "        vertical-align: top;\n",
       "    }\n",
       "\n",
       "    .dataframe thead tr th {\n",
       "        text-align: left;\n",
       "    }\n",
       "\n",
       "    .dataframe thead tr:last-of-type th {\n",
       "        text-align: right;\n",
       "    }\n",
       "</style>\n",
       "<table border=\"1\" class=\"dataframe\">\n",
       "  <thead>\n",
       "    <tr>\n",
       "      <th></th>\n",
       "      <th colspan=\"8\" halign=\"left\">data1</th>\n",
       "      <th colspan=\"8\" halign=\"left\">data2</th>\n",
       "    </tr>\n",
       "    <tr>\n",
       "      <th></th>\n",
       "      <th>count</th>\n",
       "      <th>mean</th>\n",
       "      <th>std</th>\n",
       "      <th>min</th>\n",
       "      <th>25%</th>\n",
       "      <th>50%</th>\n",
       "      <th>75%</th>\n",
       "      <th>max</th>\n",
       "      <th>count</th>\n",
       "      <th>mean</th>\n",
       "      <th>std</th>\n",
       "      <th>min</th>\n",
       "      <th>25%</th>\n",
       "      <th>50%</th>\n",
       "      <th>75%</th>\n",
       "      <th>max</th>\n",
       "    </tr>\n",
       "    <tr>\n",
       "      <th>key1</th>\n",
       "      <th></th>\n",
       "      <th></th>\n",
       "      <th></th>\n",
       "      <th></th>\n",
       "      <th></th>\n",
       "      <th></th>\n",
       "      <th></th>\n",
       "      <th></th>\n",
       "      <th></th>\n",
       "      <th></th>\n",
       "      <th></th>\n",
       "      <th></th>\n",
       "      <th></th>\n",
       "      <th></th>\n",
       "      <th></th>\n",
       "      <th></th>\n",
       "    </tr>\n",
       "  </thead>\n",
       "  <tbody>\n",
       "    <tr>\n",
       "      <th>a</th>\n",
       "      <td>3.0</td>\n",
       "      <td>-0.464324</td>\n",
       "      <td>0.347069</td>\n",
       "      <td>-0.813536</td>\n",
       "      <td>-0.636767</td>\n",
       "      <td>-0.459998</td>\n",
       "      <td>-0.289718</td>\n",
       "      <td>-0.119439</td>\n",
       "      <td>3.0</td>\n",
       "      <td>0.075334</td>\n",
       "      <td>0.782857</td>\n",
       "      <td>-0.735122</td>\n",
       "      <td>-0.300656</td>\n",
       "      <td>0.133810</td>\n",
       "      <td>0.480561</td>\n",
       "      <td>0.827313</td>\n",
       "    </tr>\n",
       "    <tr>\n",
       "      <th>b</th>\n",
       "      <td>2.0</td>\n",
       "      <td>0.616483</td>\n",
       "      <td>0.402160</td>\n",
       "      <td>0.332113</td>\n",
       "      <td>0.474298</td>\n",
       "      <td>0.616483</td>\n",
       "      <td>0.758668</td>\n",
       "      <td>0.900853</td>\n",
       "      <td>2.0</td>\n",
       "      <td>-0.278466</td>\n",
       "      <td>0.227509</td>\n",
       "      <td>-0.439339</td>\n",
       "      <td>-0.358903</td>\n",
       "      <td>-0.278466</td>\n",
       "      <td>-0.198029</td>\n",
       "      <td>-0.117592</td>\n",
       "    </tr>\n",
       "  </tbody>\n",
       "</table>\n",
       "</div>"
      ],
      "text/plain": [
       "     data1                                                              \\\n",
       "     count      mean       std       min       25%       50%       75%   \n",
       "key1                                                                     \n",
       "a      3.0 -0.464324  0.347069 -0.813536 -0.636767 -0.459998 -0.289718   \n",
       "b      2.0  0.616483  0.402160  0.332113  0.474298  0.616483  0.758668   \n",
       "\n",
       "               data2                                                    \\\n",
       "           max count      mean       std       min       25%       50%   \n",
       "key1                                                                     \n",
       "a    -0.119439   3.0  0.075334  0.782857 -0.735122 -0.300656  0.133810   \n",
       "b     0.900853   2.0 -0.278466  0.227509 -0.439339 -0.358903 -0.278466   \n",
       "\n",
       "                          \n",
       "           75%       max  \n",
       "key1                      \n",
       "a     0.480561  0.827313  \n",
       "b    -0.198029 -0.117592  "
      ]
     },
     "execution_count": 137,
     "metadata": {},
     "output_type": "execute_result"
    }
   ],
   "source": [
    "grouped.describe()"
   ]
  },
  {
   "cell_type": "markdown",
   "id": "d7a6265c",
   "metadata": {},
   "source": [
    "5、分组聚合"
   ]
  },
  {
   "cell_type": "code",
   "execution_count": 138,
   "id": "e52ce940",
   "metadata": {
    "ExecuteTime": {
     "end_time": "2022-06-05T05:49:13.715400Z",
     "start_time": "2022-06-05T05:49:13.693426Z"
    }
   },
   "outputs": [
    {
     "data": {
      "text/plain": [
       "key1\n",
       "a   -2.861932\n",
       "b    0.452199\n",
       "dtype: float64"
      ]
     },
     "execution_count": 138,
     "metadata": {},
     "output_type": "execute_result"
    }
   ],
   "source": [
    "get_wavg = lambda g: np.average(g['data1'],weights=g['data2'])\n",
    "df.groupby('key1').apply(get_wavg)"
   ]
  },
  {
   "cell_type": "code",
   "execution_count": 11,
   "id": "74192068-9863-4664-a737-053b70217f0f",
   "metadata": {
    "execution": {
     "iopub.execute_input": "2024-12-09T03:10:28.174659Z",
     "iopub.status.busy": "2024-12-09T03:10:28.173708Z",
     "iopub.status.idle": "2024-12-09T03:10:28.197282Z",
     "shell.execute_reply": "2024-12-09T03:10:28.196283Z",
     "shell.execute_reply.started": "2024-12-09T03:10:28.174659Z"
    }
   },
   "outputs": [
    {
     "data": {
      "text/html": [
       "<div>\n",
       "<style scoped>\n",
       "    .dataframe tbody tr th:only-of-type {\n",
       "        vertical-align: middle;\n",
       "    }\n",
       "\n",
       "    .dataframe tbody tr th {\n",
       "        vertical-align: top;\n",
       "    }\n",
       "\n",
       "    .dataframe thead th {\n",
       "        text-align: right;\n",
       "    }\n",
       "</style>\n",
       "<table border=\"1\" class=\"dataframe\">\n",
       "  <thead>\n",
       "    <tr style=\"text-align: right;\">\n",
       "      <th></th>\n",
       "      <th>分类</th>\n",
       "      <th>值</th>\n",
       "      <th>描述</th>\n",
       "    </tr>\n",
       "  </thead>\n",
       "  <tbody>\n",
       "    <tr>\n",
       "      <th>0</th>\n",
       "      <td>A</td>\n",
       "      <td>1</td>\n",
       "      <td>苹果</td>\n",
       "    </tr>\n",
       "    <tr>\n",
       "      <th>1</th>\n",
       "      <td>A</td>\n",
       "      <td>2</td>\n",
       "      <td>香蕉</td>\n",
       "    </tr>\n",
       "    <tr>\n",
       "      <th>2</th>\n",
       "      <td>B</td>\n",
       "      <td>3</td>\n",
       "      <td>梨</td>\n",
       "    </tr>\n",
       "    <tr>\n",
       "      <th>3</th>\n",
       "      <td>B</td>\n",
       "      <td>4</td>\n",
       "      <td>桃子</td>\n",
       "    </tr>\n",
       "    <tr>\n",
       "      <th>4</th>\n",
       "      <td>C</td>\n",
       "      <td>5</td>\n",
       "      <td>橙子</td>\n",
       "    </tr>\n",
       "  </tbody>\n",
       "</table>\n",
       "</div>"
      ],
      "text/plain": [
       "  分类  值  描述\n",
       "0  A  1  苹果\n",
       "1  A  2  香蕉\n",
       "2  B  3   梨\n",
       "3  B  4  桃子\n",
       "4  C  5  橙子"
      ]
     },
     "execution_count": 11,
     "metadata": {},
     "output_type": "execute_result"
    }
   ],
   "source": [
    "import pandas as pd\n",
    "\n",
    "# 创建示例 DataFrame\n",
    "data = {\n",
    "    '分类': ['A', 'A', 'B', 'B', 'C'],\n",
    "    '值': [1, 2, 3, 4, 5],\n",
    "    '描述': ['苹果', '香蕉', '梨', '桃子', '橙子']\n",
    "}\n",
    "df = pd.DataFrame(data)\n",
    "df"
   ]
  },
  {
   "cell_type": "code",
   "execution_count": 12,
   "id": "0a83e6f5-4cdd-4c36-b2e2-984b972bd606",
   "metadata": {
    "execution": {
     "iopub.execute_input": "2024-12-09T03:10:52.947414Z",
     "iopub.status.busy": "2024-12-09T03:10:52.946222Z",
     "iopub.status.idle": "2024-12-09T03:10:52.998425Z",
     "shell.execute_reply": "2024-12-09T03:10:52.997428Z",
     "shell.execute_reply.started": "2024-12-09T03:10:52.947414Z"
    }
   },
   "outputs": [
    {
     "name": "stdout",
     "output_type": "stream",
     "text": [
      "  分类       值        描述\n",
      "0  A  [1, 2]  [苹果, 香蕉]\n",
      "1  B  [3, 4]   [梨, 桃子]\n",
      "2  C     [5]      [橙子]\n"
     ]
    }
   ],
   "source": [
    "# 1: 合并为列表\n",
    "# 按分类分组，将其他列合并为列表\n",
    "result = df.groupby('分类').agg(list).reset_index()\n",
    "print(result)"
   ]
  },
  {
   "cell_type": "code",
   "execution_count": 13,
   "id": "838bedda-0a8e-431d-9d9c-84598f8a636a",
   "metadata": {
    "execution": {
     "iopub.execute_input": "2024-12-09T03:11:29.658908Z",
     "iopub.status.busy": "2024-12-09T03:11:29.658908Z",
     "iopub.status.idle": "2024-12-09T03:11:29.686804Z",
     "shell.execute_reply": "2024-12-09T03:11:29.685762Z",
     "shell.execute_reply.started": "2024-12-09T03:11:29.658908Z"
    }
   },
   "outputs": [
    {
     "name": "stdout",
     "output_type": "stream",
     "text": [
      "  分类  值      描述\n",
      "0  A  3  苹果, 香蕉\n",
      "1  B  7   梨, 桃子\n",
      "2  C  5      橙子\n"
     ]
    }
   ],
   "source": [
    "# 合并为字符串\n",
    "# 按分类分组，将其他列合并为字符串\n",
    "result = df.groupby('分类').agg({\n",
    "    '值': 'sum',  # 示例操作：求和\n",
    "    '描述': ', '.join  # 合并为字符串\n",
    "}).reset_index()\n",
    "print(result)"
   ]
  },
  {
   "cell_type": "markdown",
   "id": "74a6c107",
   "metadata": {},
   "source": [
    "# 时间序列基础"
   ]
  },
  {
   "cell_type": "markdown",
   "id": "0ea8cce6",
   "metadata": {},
   "source": [
    "![hello](../images/p1.jpg)"
   ]
  },
  {
   "cell_type": "markdown",
   "id": "86966cdd",
   "metadata": {},
   "source": [
    "与时间相关的一般概念：\n",
    "- 日期时间：带有时区支持的特定日期和时间，例如月、日、年等，又叫时间戳。\n",
    "- 时间增量：用于操纵日期的绝对时间长度。\n",
    "- 时间跨度：由时间点及其关联的频率定义的持续时间。\n",
    "- 日期偏移：涉及日期计算的相对持续时间。"
   ]
  },
  {
   "cell_type": "markdown",
   "id": "82662013",
   "metadata": {},
   "source": [
    "## 基于pandas库"
   ]
  },
  {
   "cell_type": "markdown",
   "id": "95409a88",
   "metadata": {},
   "source": [
    "### 时间戳与周期"
   ]
  },
  {
   "cell_type": "code",
   "execution_count": 2,
   "id": "c9182a36",
   "metadata": {
    "ExecuteTime": {
     "end_time": "2023-11-26T07:39:23.196735Z",
     "start_time": "2023-11-26T07:39:23.186544Z"
    }
   },
   "outputs": [],
   "source": [
    "import pandas as pd\n",
    "import datetime as dt\n",
    "import numpy as np"
   ]
  },
  {
   "cell_type": "code",
   "execution_count": 3,
   "id": "f1e2bac7",
   "metadata": {
    "ExecuteTime": {
     "end_time": "2023-11-26T07:40:37.264005Z",
     "start_time": "2023-11-26T07:40:37.249222Z"
    }
   },
   "outputs": [
    {
     "data": {
      "text/plain": [
       "Timestamp('2014-05-01 00:00:00')"
      ]
     },
     "execution_count": 3,
     "metadata": {},
     "output_type": "execute_result"
    }
   ],
   "source": [
    "pd.Timestamp(dt.datetime(2014, 5, 1))"
   ]
  },
  {
   "cell_type": "code",
   "execution_count": 4,
   "id": "eb349646",
   "metadata": {
    "ExecuteTime": {
     "end_time": "2023-11-26T07:40:51.092601Z",
     "start_time": "2023-11-26T07:40:51.079817Z"
    }
   },
   "outputs": [
    {
     "data": {
      "text/plain": [
       "Timestamp('2014-06-01 00:00:00')"
      ]
     },
     "execution_count": 4,
     "metadata": {},
     "output_type": "execute_result"
    }
   ],
   "source": [
    "pd.Timestamp(\"2014-06-01\")"
   ]
  },
  {
   "cell_type": "code",
   "execution_count": 5,
   "id": "509a0991",
   "metadata": {
    "ExecuteTime": {
     "end_time": "2023-11-26T07:41:05.128065Z",
     "start_time": "2023-11-26T07:41:05.120836Z"
    }
   },
   "outputs": [
    {
     "data": {
      "text/plain": [
       "Timestamp('2014-06-01 00:00:00')"
      ]
     },
     "execution_count": 5,
     "metadata": {},
     "output_type": "execute_result"
    }
   ],
   "source": [
    "pd.Timestamp(2014, 6, 1)"
   ]
  },
  {
   "cell_type": "code",
   "execution_count": 6,
   "id": "91733e5a",
   "metadata": {
    "ExecuteTime": {
     "end_time": "2023-11-26T07:42:23.344269Z",
     "start_time": "2023-11-26T07:42:23.328384Z"
    }
   },
   "outputs": [
    {
     "data": {
      "text/plain": [
       "Period('2014-06', 'M')"
      ]
     },
     "execution_count": 6,
     "metadata": {},
     "output_type": "execute_result"
    }
   ],
   "source": [
    "pd.Period(\"2014-06\") #M代表月，时间间隔"
   ]
  },
  {
   "cell_type": "code",
   "execution_count": 7,
   "id": "faf1e060",
   "metadata": {
    "ExecuteTime": {
     "end_time": "2023-11-26T07:42:56.070580Z",
     "start_time": "2023-11-26T07:42:56.042501Z"
    }
   },
   "outputs": [
    {
     "data": {
      "text/plain": [
       "Period('2014-06-01', 'D')"
      ]
     },
     "execution_count": 7,
     "metadata": {},
     "output_type": "execute_result"
    }
   ],
   "source": [
    "pd.Period(\"2014-06\", freq=\"D\")"
   ]
  },
  {
   "cell_type": "code",
   "execution_count": 8,
   "id": "ff3513f5",
   "metadata": {
    "ExecuteTime": {
     "end_time": "2023-11-26T07:43:34.294474Z",
     "start_time": "2023-11-26T07:43:34.256944Z"
    }
   },
   "outputs": [
    {
     "data": {
      "text/plain": [
       "pandas.core.indexes.datetimes.DatetimeIndex"
      ]
     },
     "execution_count": 8,
     "metadata": {},
     "output_type": "execute_result"
    }
   ],
   "source": [
    "dates = [\n",
    "    pd.Timestamp(\"2014-06-01\"),\n",
    "    pd.Timestamp(\"2014-06-02\"),\n",
    "    pd.Timestamp(\"2014-06-03\"),\n",
    "]\n",
    "\n",
    "ts_data = pd.Series(np.random.randn(3), dates)\n",
    "\n",
    "type(ts_data.index)"
   ]
  },
  {
   "cell_type": "code",
   "execution_count": 9,
   "id": "0492a3a9",
   "metadata": {
    "ExecuteTime": {
     "end_time": "2023-11-26T07:43:42.340854Z",
     "start_time": "2023-11-26T07:43:42.306180Z"
    }
   },
   "outputs": [
    {
     "data": {
      "text/plain": [
       "DatetimeIndex(['2014-06-01', '2014-06-02', '2014-06-03'], dtype='datetime64[ns]', freq=None)"
      ]
     },
     "execution_count": 9,
     "metadata": {},
     "output_type": "execute_result"
    }
   ],
   "source": [
    "ts_data.index"
   ]
  },
  {
   "cell_type": "code",
   "execution_count": 10,
   "id": "bedff9b8",
   "metadata": {
    "ExecuteTime": {
     "end_time": "2023-11-26T07:43:53.395983Z",
     "start_time": "2023-11-26T07:43:53.375061Z"
    }
   },
   "outputs": [
    {
     "data": {
      "text/plain": [
       "2014-06-01   -0.014228\n",
       "2014-06-02    0.539426\n",
       "2014-06-03   -1.503673\n",
       "dtype: float64"
      ]
     },
     "execution_count": 10,
     "metadata": {},
     "output_type": "execute_result"
    }
   ],
   "source": [
    "ts_data"
   ]
  },
  {
   "cell_type": "markdown",
   "id": "02db0afb",
   "metadata": {},
   "source": [
    "pandas使用TimeStamp表示时间戳，使用DatetimeIndex表示时间戳序列。"
   ]
  },
  {
   "cell_type": "markdown",
   "id": "aa66973d",
   "metadata": {},
   "source": [
    "### 转换为时间戳"
   ]
  },
  {
   "cell_type": "code",
   "execution_count": 11,
   "id": "6226549f",
   "metadata": {
    "ExecuteTime": {
     "end_time": "2023-11-26T07:46:19.510649Z",
     "start_time": "2023-11-26T07:46:19.486442Z"
    }
   },
   "outputs": [
    {
     "data": {
      "text/plain": [
       "0   2012-07-31\n",
       "1   2012-01-10\n",
       "2          NaT\n",
       "dtype: datetime64[ns]"
      ]
     },
     "execution_count": 11,
     "metadata": {},
     "output_type": "execute_result"
    }
   ],
   "source": [
    "pd.to_datetime(pd.Series([\"Jul 31, 2012\", \"2012-01-10\", None]))"
   ]
  },
  {
   "cell_type": "markdown",
   "id": "3820e962",
   "metadata": {},
   "source": [
    "### 提供格式参数"
   ]
  },
  {
   "cell_type": "code",
   "execution_count": 13,
   "id": "f805f3a1",
   "metadata": {
    "ExecuteTime": {
     "end_time": "2023-11-26T07:47:44.787867Z",
     "start_time": "2023-11-26T07:47:44.774064Z"
    }
   },
   "outputs": [
    {
     "data": {
      "text/plain": [
       "DatetimeIndex(['2012-11-23', '2012-12-31'], dtype='datetime64[ns]', freq=None)"
      ]
     },
     "execution_count": 13,
     "metadata": {},
     "output_type": "execute_result"
    }
   ],
   "source": [
    "pd.to_datetime([\"2012/11/23\", \"2012.12.31\"])"
   ]
  },
  {
   "cell_type": "code",
   "execution_count": 6,
   "id": "a91aa44e",
   "metadata": {
    "ExecuteTime": {
     "end_time": "2024-10-22T05:43:44.042689Z",
     "start_time": "2024-10-22T05:43:44.038140Z"
    }
   },
   "outputs": [
    {
     "data": {
      "text/plain": [
       "Timestamp('2018-11-11 00:00:00')"
      ]
     },
     "execution_count": 6,
     "metadata": {},
     "output_type": "execute_result"
    }
   ],
   "source": [
    "pd.to_datetime(\"2018-11-11 00:00\", format=\"%Y-%m-%d %H:%M\")"
   ]
  },
  {
   "cell_type": "markdown",
   "id": "560f71af",
   "metadata": {},
   "source": [
    "### 时区信息"
   ]
  },
  {
   "cell_type": "markdown",
   "id": "5c12c5c3",
   "metadata": {},
   "source": [
    "python是可以包含时区信息的，offset-naive是不含时区的类型，而offset-aware是有时区类型。"
   ]
  },
  {
   "cell_type": "markdown",
   "id": "ea92de79",
   "metadata": {},
   "source": [
    "- 可以使用 datetime 的 replace 方法添加时区信息，比如 replace(tzinfo=timezone.utc)\n",
    "- 或者原始的时间字符串就带上时区信息，比如 s = Struct(create_at='1970-01-01 00:00:00+08:00')\n",
    "- 或者都不带时区信息，可以使用 datetime 的 replace 方法去除时区信息，比如 replace(tzinfo=None)"
   ]
  },
  {
   "cell_type": "code",
   "execution_count": 4,
   "id": "d43fbd35",
   "metadata": {
    "ExecuteTime": {
     "end_time": "2024-10-22T05:43:29.556459Z",
     "start_time": "2024-10-22T05:43:29.545221Z"
    }
   },
   "outputs": [
    {
     "data": {
      "text/plain": [
       "Timestamp('2018-11-11 00:00:00')"
      ]
     },
     "execution_count": 4,
     "metadata": {},
     "output_type": "execute_result"
    }
   ],
   "source": [
    "pd.to_datetime(\"2018-11-11 00:00\", format=\"%Y-%m-%d %H:%M\").replace(tzinfo=None)"
   ]
  },
  {
   "cell_type": "markdown",
   "id": "348e6ecc",
   "metadata": {},
   "source": [
    "### 索引"
   ]
  },
  {
   "cell_type": "code",
   "execution_count": 79,
   "id": "f52e6ce1",
   "metadata": {
    "ExecuteTime": {
     "end_time": "2023-11-26T09:10:54.222792Z",
     "start_time": "2023-11-26T09:10:54.171747Z"
    }
   },
   "outputs": [],
   "source": [
    "ts_data_load = pd.read_csv(\"../data/energy_old.csv\")"
   ]
  },
  {
   "cell_type": "code",
   "execution_count": 80,
   "id": "0b227434",
   "metadata": {
    "ExecuteTime": {
     "end_time": "2023-11-26T09:11:05.585279Z",
     "start_time": "2023-11-26T09:10:55.017989Z"
    }
   },
   "outputs": [],
   "source": [
    "#转换时间格式\n",
    "ts_data_load[\"index\"] = None\n",
    "for i in range(ts_data_load.shape[0]):\n",
    "    year = pd.to_datetime(ts_data_load[\"Date\"][i]).year\n",
    "    month = pd.to_datetime(ts_data_load[\"Date\"][i]).month\n",
    "    day = pd.to_datetime(ts_data_load[\"Date\"][i]).day\n",
    "    hour = ts_data_load[\"Hour\"][i] - 1\n",
    "    ts_data_load.loc[i, \"index\"] = pd.Timestamp(year, month, day, hour)\n",
    "ts_data_load = pd.DataFrame(ts_data_load[[\"load\", \"T\"]].values, index=ts_data_load[\"index\"].values, columns=[\"load\", \"temp\"])"
   ]
  },
  {
   "cell_type": "code",
   "execution_count": 81,
   "id": "595422c5",
   "metadata": {
    "ExecuteTime": {
     "end_time": "2023-11-26T09:11:09.097787Z",
     "start_time": "2023-11-26T09:11:08.991551Z"
    }
   },
   "outputs": [],
   "source": [
    "ts_data_load.to_csv(\"../data/energy.csv\")"
   ]
  },
  {
   "cell_type": "code",
   "execution_count": 82,
   "id": "ddf9865a",
   "metadata": {
    "ExecuteTime": {
     "end_time": "2023-11-26T09:11:11.229800Z",
     "start_time": "2023-11-26T09:11:11.207725Z"
    }
   },
   "outputs": [
    {
     "data": {
      "text/html": [
       "<div>\n",
       "<style scoped>\n",
       "    .dataframe tbody tr th:only-of-type {\n",
       "        vertical-align: middle;\n",
       "    }\n",
       "\n",
       "    .dataframe tbody tr th {\n",
       "        vertical-align: top;\n",
       "    }\n",
       "\n",
       "    .dataframe thead th {\n",
       "        text-align: right;\n",
       "    }\n",
       "</style>\n",
       "<table border=\"1\" class=\"dataframe\">\n",
       "  <thead>\n",
       "    <tr style=\"text-align: right;\">\n",
       "      <th></th>\n",
       "      <th>load</th>\n",
       "      <th>temp</th>\n",
       "    </tr>\n",
       "  </thead>\n",
       "  <tbody>\n",
       "    <tr>\n",
       "      <th>2012-01-01 00:00:00</th>\n",
       "      <td>2698.0</td>\n",
       "      <td>32.00</td>\n",
       "    </tr>\n",
       "    <tr>\n",
       "      <th>2012-01-01 01:00:00</th>\n",
       "      <td>2558.0</td>\n",
       "      <td>32.67</td>\n",
       "    </tr>\n",
       "    <tr>\n",
       "      <th>2012-01-01 02:00:00</th>\n",
       "      <td>2444.0</td>\n",
       "      <td>30.00</td>\n",
       "    </tr>\n",
       "    <tr>\n",
       "      <th>2012-01-01 03:00:00</th>\n",
       "      <td>2402.0</td>\n",
       "      <td>31.00</td>\n",
       "    </tr>\n",
       "    <tr>\n",
       "      <th>2012-01-01 04:00:00</th>\n",
       "      <td>2403.0</td>\n",
       "      <td>32.00</td>\n",
       "    </tr>\n",
       "  </tbody>\n",
       "</table>\n",
       "</div>"
      ],
      "text/plain": [
       "                       load   temp\n",
       "2012-01-01 00:00:00  2698.0  32.00\n",
       "2012-01-01 01:00:00  2558.0  32.67\n",
       "2012-01-01 02:00:00  2444.0  30.00\n",
       "2012-01-01 03:00:00  2402.0  31.00\n",
       "2012-01-01 04:00:00  2403.0  32.00"
      ]
     },
     "execution_count": 82,
     "metadata": {},
     "output_type": "execute_result"
    }
   ],
   "source": [
    "ts_data_load.head()"
   ]
  },
  {
   "cell_type": "code",
   "execution_count": 78,
   "id": "bd482198",
   "metadata": {
    "ExecuteTime": {
     "end_time": "2023-11-26T09:02:03.082438Z",
     "start_time": "2023-11-26T09:02:03.070442Z"
    }
   },
   "outputs": [
    {
     "data": {
      "text/plain": [
       "DatetimeIndex(['2012-01-01 00:00:00', '2012-01-01 01:00:00',\n",
       "               '2012-01-01 02:00:00', '2012-01-01 03:00:00',\n",
       "               '2012-01-01 04:00:00', '2012-01-01 05:00:00',\n",
       "               '2012-01-01 06:00:00', '2012-01-01 07:00:00',\n",
       "               '2012-01-01 08:00:00', '2012-01-01 09:00:00',\n",
       "               ...\n",
       "               '2014-12-31 14:00:00', '2014-12-31 15:00:00',\n",
       "               '2014-12-31 16:00:00', '2014-12-31 17:00:00',\n",
       "               '2014-12-31 18:00:00', '2014-12-31 19:00:00',\n",
       "               '2014-12-31 20:00:00', '2014-12-31 21:00:00',\n",
       "               '2014-12-31 22:00:00', '2014-12-31 23:00:00'],\n",
       "              dtype='datetime64[ns]', length=26304, freq=None)"
      ]
     },
     "execution_count": 78,
     "metadata": {},
     "output_type": "execute_result"
    }
   ],
   "source": [
    "ts_data_load.index"
   ]
  },
  {
   "cell_type": "code",
   "execution_count": 83,
   "id": "134611b7",
   "metadata": {
    "ExecuteTime": {
     "end_time": "2023-11-26T09:30:28.413764Z",
     "start_time": "2023-11-26T09:30:28.392841Z"
    }
   },
   "outputs": [
    {
     "data": {
      "text/plain": [
       "DatetimeIndex(['2012-01-01 00:00:00', '2012-01-01 02:00:00',\n",
       "               '2012-01-01 04:00:00', '2012-01-01 06:00:00',\n",
       "               '2012-01-01 08:00:00', '2012-01-01 10:00:00',\n",
       "               '2012-01-01 12:00:00', '2012-01-01 14:00:00',\n",
       "               '2012-01-01 16:00:00', '2012-01-01 18:00:00',\n",
       "               ...\n",
       "               '2014-12-31 04:00:00', '2014-12-31 06:00:00',\n",
       "               '2014-12-31 08:00:00', '2014-12-31 10:00:00',\n",
       "               '2014-12-31 12:00:00', '2014-12-31 14:00:00',\n",
       "               '2014-12-31 16:00:00', '2014-12-31 18:00:00',\n",
       "               '2014-12-31 20:00:00', '2014-12-31 22:00:00'],\n",
       "              dtype='datetime64[ns]', length=13152, freq=None)"
      ]
     },
     "execution_count": 83,
     "metadata": {},
     "output_type": "execute_result"
    }
   ],
   "source": [
    "ts_data_load[::2].index #每隔一小时取值"
   ]
  },
  {
   "cell_type": "code",
   "execution_count": 86,
   "id": "4cecaa11",
   "metadata": {
    "ExecuteTime": {
     "end_time": "2023-11-26T09:32:48.049424Z",
     "start_time": "2023-11-26T09:32:48.021025Z"
    }
   },
   "outputs": [
    {
     "data": {
      "text/html": [
       "<div>\n",
       "<style scoped>\n",
       "    .dataframe tbody tr th:only-of-type {\n",
       "        vertical-align: middle;\n",
       "    }\n",
       "\n",
       "    .dataframe tbody tr th {\n",
       "        vertical-align: top;\n",
       "    }\n",
       "\n",
       "    .dataframe thead th {\n",
       "        text-align: right;\n",
       "    }\n",
       "</style>\n",
       "<table border=\"1\" class=\"dataframe\">\n",
       "  <thead>\n",
       "    <tr style=\"text-align: right;\">\n",
       "      <th></th>\n",
       "      <th>load</th>\n",
       "      <th>temp</th>\n",
       "    </tr>\n",
       "  </thead>\n",
       "  <tbody>\n",
       "    <tr>\n",
       "      <th>2012-06-01 00:00:00</th>\n",
       "      <td>2474.0</td>\n",
       "      <td>56.67</td>\n",
       "    </tr>\n",
       "    <tr>\n",
       "      <th>2012-06-01 01:00:00</th>\n",
       "      <td>2349.0</td>\n",
       "      <td>55.67</td>\n",
       "    </tr>\n",
       "    <tr>\n",
       "      <th>2012-06-01 02:00:00</th>\n",
       "      <td>2291.0</td>\n",
       "      <td>54.33</td>\n",
       "    </tr>\n",
       "    <tr>\n",
       "      <th>2012-06-01 03:00:00</th>\n",
       "      <td>2281.0</td>\n",
       "      <td>53.00</td>\n",
       "    </tr>\n",
       "    <tr>\n",
       "      <th>2012-06-01 04:00:00</th>\n",
       "      <td>2343.0</td>\n",
       "      <td>50.33</td>\n",
       "    </tr>\n",
       "    <tr>\n",
       "      <th>2012-06-01 05:00:00</th>\n",
       "      <td>2518.0</td>\n",
       "      <td>49.33</td>\n",
       "    </tr>\n",
       "    <tr>\n",
       "      <th>2012-06-01 06:00:00</th>\n",
       "      <td>2934.0</td>\n",
       "      <td>49.33</td>\n",
       "    </tr>\n",
       "    <tr>\n",
       "      <th>2012-06-01 07:00:00</th>\n",
       "      <td>3235.0</td>\n",
       "      <td>54.00</td>\n",
       "    </tr>\n",
       "    <tr>\n",
       "      <th>2012-06-01 08:00:00</th>\n",
       "      <td>3348.0</td>\n",
       "      <td>57.67</td>\n",
       "    </tr>\n",
       "    <tr>\n",
       "      <th>2012-06-01 09:00:00</th>\n",
       "      <td>3405.0</td>\n",
       "      <td>61.00</td>\n",
       "    </tr>\n",
       "    <tr>\n",
       "      <th>2012-06-01 10:00:00</th>\n",
       "      <td>3459.0</td>\n",
       "      <td>64.33</td>\n",
       "    </tr>\n",
       "    <tr>\n",
       "      <th>2012-06-01 11:00:00</th>\n",
       "      <td>3479.0</td>\n",
       "      <td>66.67</td>\n",
       "    </tr>\n",
       "    <tr>\n",
       "      <th>2012-06-01 12:00:00</th>\n",
       "      <td>3478.0</td>\n",
       "      <td>68.67</td>\n",
       "    </tr>\n",
       "    <tr>\n",
       "      <th>2012-06-01 13:00:00</th>\n",
       "      <td>3495.0</td>\n",
       "      <td>70.00</td>\n",
       "    </tr>\n",
       "    <tr>\n",
       "      <th>2012-06-01 14:00:00</th>\n",
       "      <td>3473.0</td>\n",
       "      <td>70.00</td>\n",
       "    </tr>\n",
       "    <tr>\n",
       "      <th>2012-06-01 15:00:00</th>\n",
       "      <td>3439.0</td>\n",
       "      <td>69.00</td>\n",
       "    </tr>\n",
       "    <tr>\n",
       "      <th>2012-06-01 16:00:00</th>\n",
       "      <td>3404.0</td>\n",
       "      <td>69.67</td>\n",
       "    </tr>\n",
       "    <tr>\n",
       "      <th>2012-06-01 17:00:00</th>\n",
       "      <td>3337.0</td>\n",
       "      <td>67.67</td>\n",
       "    </tr>\n",
       "    <tr>\n",
       "      <th>2012-06-01 18:00:00</th>\n",
       "      <td>3291.0</td>\n",
       "      <td>65.00</td>\n",
       "    </tr>\n",
       "    <tr>\n",
       "      <th>2012-06-01 19:00:00</th>\n",
       "      <td>3261.0</td>\n",
       "      <td>63.33</td>\n",
       "    </tr>\n",
       "    <tr>\n",
       "      <th>2012-06-01 20:00:00</th>\n",
       "      <td>3309.0</td>\n",
       "      <td>63.00</td>\n",
       "    </tr>\n",
       "    <tr>\n",
       "      <th>2012-06-01 21:00:00</th>\n",
       "      <td>3197.0</td>\n",
       "      <td>61.67</td>\n",
       "    </tr>\n",
       "    <tr>\n",
       "      <th>2012-06-01 22:00:00</th>\n",
       "      <td>2916.0</td>\n",
       "      <td>61.00</td>\n",
       "    </tr>\n",
       "    <tr>\n",
       "      <th>2012-06-01 23:00:00</th>\n",
       "      <td>2619.0</td>\n",
       "      <td>60.67</td>\n",
       "    </tr>\n",
       "  </tbody>\n",
       "</table>\n",
       "</div>"
      ],
      "text/plain": [
       "                       load   temp\n",
       "2012-06-01 00:00:00  2474.0  56.67\n",
       "2012-06-01 01:00:00  2349.0  55.67\n",
       "2012-06-01 02:00:00  2291.0  54.33\n",
       "2012-06-01 03:00:00  2281.0  53.00\n",
       "2012-06-01 04:00:00  2343.0  50.33\n",
       "2012-06-01 05:00:00  2518.0  49.33\n",
       "2012-06-01 06:00:00  2934.0  49.33\n",
       "2012-06-01 07:00:00  3235.0  54.00\n",
       "2012-06-01 08:00:00  3348.0  57.67\n",
       "2012-06-01 09:00:00  3405.0  61.00\n",
       "2012-06-01 10:00:00  3459.0  64.33\n",
       "2012-06-01 11:00:00  3479.0  66.67\n",
       "2012-06-01 12:00:00  3478.0  68.67\n",
       "2012-06-01 13:00:00  3495.0  70.00\n",
       "2012-06-01 14:00:00  3473.0  70.00\n",
       "2012-06-01 15:00:00  3439.0  69.00\n",
       "2012-06-01 16:00:00  3404.0  69.67\n",
       "2012-06-01 17:00:00  3337.0  67.67\n",
       "2012-06-01 18:00:00  3291.0  65.00\n",
       "2012-06-01 19:00:00  3261.0  63.33\n",
       "2012-06-01 20:00:00  3309.0  63.00\n",
       "2012-06-01 21:00:00  3197.0  61.67\n",
       "2012-06-01 22:00:00  2916.0  61.00\n",
       "2012-06-01 23:00:00  2619.0  60.67"
      ]
     },
     "execution_count": 86,
     "metadata": {},
     "output_type": "execute_result"
    }
   ],
   "source": [
    "ts_data_load.loc[\"2012-6-01\"] #一天的数据"
   ]
  },
  {
   "cell_type": "code",
   "execution_count": 89,
   "id": "694d159c",
   "metadata": {
    "ExecuteTime": {
     "end_time": "2023-11-26T09:34:08.368624Z",
     "start_time": "2023-11-26T09:34:08.341381Z"
    }
   },
   "outputs": [
    {
     "data": {
      "text/html": [
       "<div>\n",
       "<style scoped>\n",
       "    .dataframe tbody tr th:only-of-type {\n",
       "        vertical-align: middle;\n",
       "    }\n",
       "\n",
       "    .dataframe tbody tr th {\n",
       "        vertical-align: top;\n",
       "    }\n",
       "\n",
       "    .dataframe thead th {\n",
       "        text-align: right;\n",
       "    }\n",
       "</style>\n",
       "<table border=\"1\" class=\"dataframe\">\n",
       "  <thead>\n",
       "    <tr style=\"text-align: right;\">\n",
       "      <th></th>\n",
       "      <th>load</th>\n",
       "      <th>temp</th>\n",
       "    </tr>\n",
       "  </thead>\n",
       "  <tbody>\n",
       "    <tr>\n",
       "      <th>2012-01-01 00:00:00</th>\n",
       "      <td>2698.0</td>\n",
       "      <td>32.00</td>\n",
       "    </tr>\n",
       "    <tr>\n",
       "      <th>2012-01-01 01:00:00</th>\n",
       "      <td>2558.0</td>\n",
       "      <td>32.67</td>\n",
       "    </tr>\n",
       "    <tr>\n",
       "      <th>2012-01-01 02:00:00</th>\n",
       "      <td>2444.0</td>\n",
       "      <td>30.00</td>\n",
       "    </tr>\n",
       "    <tr>\n",
       "      <th>2012-01-01 03:00:00</th>\n",
       "      <td>2402.0</td>\n",
       "      <td>31.00</td>\n",
       "    </tr>\n",
       "    <tr>\n",
       "      <th>2012-01-01 04:00:00</th>\n",
       "      <td>2403.0</td>\n",
       "      <td>32.00</td>\n",
       "    </tr>\n",
       "    <tr>\n",
       "      <th>...</th>\n",
       "      <td>...</td>\n",
       "      <td>...</td>\n",
       "    </tr>\n",
       "    <tr>\n",
       "      <th>2012-02-28 19:00:00</th>\n",
       "      <td>3858.0</td>\n",
       "      <td>28.67</td>\n",
       "    </tr>\n",
       "    <tr>\n",
       "      <th>2012-02-28 20:00:00</th>\n",
       "      <td>3687.0</td>\n",
       "      <td>27.33</td>\n",
       "    </tr>\n",
       "    <tr>\n",
       "      <th>2012-02-28 21:00:00</th>\n",
       "      <td>3420.0</td>\n",
       "      <td>25.00</td>\n",
       "    </tr>\n",
       "    <tr>\n",
       "      <th>2012-02-28 22:00:00</th>\n",
       "      <td>3122.0</td>\n",
       "      <td>24.33</td>\n",
       "    </tr>\n",
       "    <tr>\n",
       "      <th>2012-02-28 23:00:00</th>\n",
       "      <td>2875.0</td>\n",
       "      <td>23.00</td>\n",
       "    </tr>\n",
       "  </tbody>\n",
       "</table>\n",
       "<p>1416 rows × 2 columns</p>\n",
       "</div>"
      ],
      "text/plain": [
       "                       load   temp\n",
       "2012-01-01 00:00:00  2698.0  32.00\n",
       "2012-01-01 01:00:00  2558.0  32.67\n",
       "2012-01-01 02:00:00  2444.0  30.00\n",
       "2012-01-01 03:00:00  2402.0  31.00\n",
       "2012-01-01 04:00:00  2403.0  32.00\n",
       "...                     ...    ...\n",
       "2012-02-28 19:00:00  3858.0  28.67\n",
       "2012-02-28 20:00:00  3687.0  27.33\n",
       "2012-02-28 21:00:00  3420.0  25.00\n",
       "2012-02-28 22:00:00  3122.0  24.33\n",
       "2012-02-28 23:00:00  2875.0  23.00\n",
       "\n",
       "[1416 rows x 2 columns]"
      ]
     },
     "execution_count": 89,
     "metadata": {},
     "output_type": "execute_result"
    }
   ],
   "source": [
    "ts_data_load.loc[\"2012-1\":\"2012-2-28\"]"
   ]
  },
  {
   "cell_type": "code",
   "execution_count": 90,
   "id": "c5a90ba7",
   "metadata": {
    "ExecuteTime": {
     "end_time": "2023-11-26T09:34:15.723250Z",
     "start_time": "2023-11-26T09:34:15.698633Z"
    }
   },
   "outputs": [
    {
     "data": {
      "text/html": [
       "<div>\n",
       "<style scoped>\n",
       "    .dataframe tbody tr th:only-of-type {\n",
       "        vertical-align: middle;\n",
       "    }\n",
       "\n",
       "    .dataframe tbody tr th {\n",
       "        vertical-align: top;\n",
       "    }\n",
       "\n",
       "    .dataframe thead th {\n",
       "        text-align: right;\n",
       "    }\n",
       "</style>\n",
       "<table border=\"1\" class=\"dataframe\">\n",
       "  <thead>\n",
       "    <tr style=\"text-align: right;\">\n",
       "      <th></th>\n",
       "      <th>load</th>\n",
       "      <th>temp</th>\n",
       "    </tr>\n",
       "  </thead>\n",
       "  <tbody>\n",
       "    <tr>\n",
       "      <th>2012-01-01 00:00:00</th>\n",
       "      <td>2698.0</td>\n",
       "      <td>32.00</td>\n",
       "    </tr>\n",
       "    <tr>\n",
       "      <th>2012-01-01 01:00:00</th>\n",
       "      <td>2558.0</td>\n",
       "      <td>32.67</td>\n",
       "    </tr>\n",
       "    <tr>\n",
       "      <th>2012-01-01 02:00:00</th>\n",
       "      <td>2444.0</td>\n",
       "      <td>30.00</td>\n",
       "    </tr>\n",
       "    <tr>\n",
       "      <th>2012-01-01 03:00:00</th>\n",
       "      <td>2402.0</td>\n",
       "      <td>31.00</td>\n",
       "    </tr>\n",
       "    <tr>\n",
       "      <th>2012-01-01 04:00:00</th>\n",
       "      <td>2403.0</td>\n",
       "      <td>32.00</td>\n",
       "    </tr>\n",
       "    <tr>\n",
       "      <th>2012-01-01 05:00:00</th>\n",
       "      <td>2453.0</td>\n",
       "      <td>31.33</td>\n",
       "    </tr>\n",
       "    <tr>\n",
       "      <th>2012-01-01 06:00:00</th>\n",
       "      <td>2560.0</td>\n",
       "      <td>30.00</td>\n",
       "    </tr>\n",
       "    <tr>\n",
       "      <th>2012-01-01 07:00:00</th>\n",
       "      <td>2719.0</td>\n",
       "      <td>29.00</td>\n",
       "    </tr>\n",
       "    <tr>\n",
       "      <th>2012-01-01 08:00:00</th>\n",
       "      <td>2916.0</td>\n",
       "      <td>29.00</td>\n",
       "    </tr>\n",
       "    <tr>\n",
       "      <th>2012-01-01 09:00:00</th>\n",
       "      <td>3105.0</td>\n",
       "      <td>33.33</td>\n",
       "    </tr>\n",
       "    <tr>\n",
       "      <th>2012-01-01 10:00:00</th>\n",
       "      <td>3174.0</td>\n",
       "      <td>36.67</td>\n",
       "    </tr>\n",
       "    <tr>\n",
       "      <th>2012-01-01 11:00:00</th>\n",
       "      <td>3180.0</td>\n",
       "      <td>40.33</td>\n",
       "    </tr>\n",
       "    <tr>\n",
       "      <th>2012-01-01 12:00:00</th>\n",
       "      <td>3184.0</td>\n",
       "      <td>43.67</td>\n",
       "    </tr>\n",
       "    <tr>\n",
       "      <th>2012-01-01 13:00:00</th>\n",
       "      <td>3147.0</td>\n",
       "      <td>43.33</td>\n",
       "    </tr>\n",
       "    <tr>\n",
       "      <th>2012-01-01 14:00:00</th>\n",
       "      <td>3122.0</td>\n",
       "      <td>45.00</td>\n",
       "    </tr>\n",
       "    <tr>\n",
       "      <th>2012-01-01 15:00:00</th>\n",
       "      <td>3137.0</td>\n",
       "      <td>44.67</td>\n",
       "    </tr>\n",
       "    <tr>\n",
       "      <th>2012-01-01 16:00:00</th>\n",
       "      <td>3486.0</td>\n",
       "      <td>43.33</td>\n",
       "    </tr>\n",
       "    <tr>\n",
       "      <th>2012-01-01 17:00:00</th>\n",
       "      <td>3717.0</td>\n",
       "      <td>41.67</td>\n",
       "    </tr>\n",
       "    <tr>\n",
       "      <th>2012-01-01 18:00:00</th>\n",
       "      <td>3659.0</td>\n",
       "      <td>41.33</td>\n",
       "    </tr>\n",
       "    <tr>\n",
       "      <th>2012-01-01 19:00:00</th>\n",
       "      <td>3513.0</td>\n",
       "      <td>41.67</td>\n",
       "    </tr>\n",
       "    <tr>\n",
       "      <th>2012-01-01 20:00:00</th>\n",
       "      <td>3344.0</td>\n",
       "      <td>42.67</td>\n",
       "    </tr>\n",
       "    <tr>\n",
       "      <th>2012-01-01 21:00:00</th>\n",
       "      <td>3129.0</td>\n",
       "      <td>43.33</td>\n",
       "    </tr>\n",
       "    <tr>\n",
       "      <th>2012-01-01 22:00:00</th>\n",
       "      <td>2873.0</td>\n",
       "      <td>44.33</td>\n",
       "    </tr>\n",
       "    <tr>\n",
       "      <th>2012-01-01 23:00:00</th>\n",
       "      <td>2639.0</td>\n",
       "      <td>44.00</td>\n",
       "    </tr>\n",
       "    <tr>\n",
       "      <th>2012-01-02 00:00:00</th>\n",
       "      <td>2458.0</td>\n",
       "      <td>43.67</td>\n",
       "    </tr>\n",
       "  </tbody>\n",
       "</table>\n",
       "</div>"
      ],
      "text/plain": [
       "                       load   temp\n",
       "2012-01-01 00:00:00  2698.0  32.00\n",
       "2012-01-01 01:00:00  2558.0  32.67\n",
       "2012-01-01 02:00:00  2444.0  30.00\n",
       "2012-01-01 03:00:00  2402.0  31.00\n",
       "2012-01-01 04:00:00  2403.0  32.00\n",
       "2012-01-01 05:00:00  2453.0  31.33\n",
       "2012-01-01 06:00:00  2560.0  30.00\n",
       "2012-01-01 07:00:00  2719.0  29.00\n",
       "2012-01-01 08:00:00  2916.0  29.00\n",
       "2012-01-01 09:00:00  3105.0  33.33\n",
       "2012-01-01 10:00:00  3174.0  36.67\n",
       "2012-01-01 11:00:00  3180.0  40.33\n",
       "2012-01-01 12:00:00  3184.0  43.67\n",
       "2012-01-01 13:00:00  3147.0  43.33\n",
       "2012-01-01 14:00:00  3122.0  45.00\n",
       "2012-01-01 15:00:00  3137.0  44.67\n",
       "2012-01-01 16:00:00  3486.0  43.33\n",
       "2012-01-01 17:00:00  3717.0  41.67\n",
       "2012-01-01 18:00:00  3659.0  41.33\n",
       "2012-01-01 19:00:00  3513.0  41.67\n",
       "2012-01-01 20:00:00  3344.0  42.67\n",
       "2012-01-01 21:00:00  3129.0  43.33\n",
       "2012-01-01 22:00:00  2873.0  44.33\n",
       "2012-01-01 23:00:00  2639.0  44.00\n",
       "2012-01-02 00:00:00  2458.0  43.67"
      ]
     },
     "execution_count": 90,
     "metadata": {},
     "output_type": "execute_result"
    }
   ],
   "source": [
    "ts_data_load.loc[\"2012-1\":\"2012-1-2 00:00:00\"]"
   ]
  },
  {
   "cell_type": "markdown",
   "id": "527fc81d",
   "metadata": {},
   "source": [
    "truncate()函数类似于切片。"
   ]
  },
  {
   "cell_type": "code",
   "execution_count": 91,
   "id": "b974e78d",
   "metadata": {
    "ExecuteTime": {
     "end_time": "2023-11-26T09:35:21.936926Z",
     "start_time": "2023-11-26T09:35:21.908627Z"
    }
   },
   "outputs": [
    {
     "data": {
      "text/html": [
       "<div>\n",
       "<style scoped>\n",
       "    .dataframe tbody tr th:only-of-type {\n",
       "        vertical-align: middle;\n",
       "    }\n",
       "\n",
       "    .dataframe tbody tr th {\n",
       "        vertical-align: top;\n",
       "    }\n",
       "\n",
       "    .dataframe thead th {\n",
       "        text-align: right;\n",
       "    }\n",
       "</style>\n",
       "<table border=\"1\" class=\"dataframe\">\n",
       "  <thead>\n",
       "    <tr style=\"text-align: right;\">\n",
       "      <th></th>\n",
       "      <th>load</th>\n",
       "      <th>temp</th>\n",
       "    </tr>\n",
       "  </thead>\n",
       "  <tbody>\n",
       "    <tr>\n",
       "      <th>2013-11-01 00:00:00</th>\n",
       "      <td>2506.0</td>\n",
       "      <td>58.00</td>\n",
       "    </tr>\n",
       "    <tr>\n",
       "      <th>2013-11-01 01:00:00</th>\n",
       "      <td>2419.0</td>\n",
       "      <td>57.67</td>\n",
       "    </tr>\n",
       "    <tr>\n",
       "      <th>2013-11-01 02:00:00</th>\n",
       "      <td>2369.0</td>\n",
       "      <td>58.00</td>\n",
       "    </tr>\n",
       "    <tr>\n",
       "      <th>2013-11-01 03:00:00</th>\n",
       "      <td>2349.0</td>\n",
       "      <td>58.67</td>\n",
       "    </tr>\n",
       "    <tr>\n",
       "      <th>2013-11-01 04:00:00</th>\n",
       "      <td>2425.0</td>\n",
       "      <td>59.33</td>\n",
       "    </tr>\n",
       "    <tr>\n",
       "      <th>2013-11-01 05:00:00</th>\n",
       "      <td>2671.0</td>\n",
       "      <td>60.00</td>\n",
       "    </tr>\n",
       "    <tr>\n",
       "      <th>2013-11-01 06:00:00</th>\n",
       "      <td>3143.0</td>\n",
       "      <td>59.33</td>\n",
       "    </tr>\n",
       "    <tr>\n",
       "      <th>2013-11-01 07:00:00</th>\n",
       "      <td>3438.0</td>\n",
       "      <td>59.33</td>\n",
       "    </tr>\n",
       "    <tr>\n",
       "      <th>2013-11-01 08:00:00</th>\n",
       "      <td>3486.0</td>\n",
       "      <td>59.67</td>\n",
       "    </tr>\n",
       "    <tr>\n",
       "      <th>2013-11-01 09:00:00</th>\n",
       "      <td>3541.0</td>\n",
       "      <td>62.33</td>\n",
       "    </tr>\n",
       "    <tr>\n",
       "      <th>2013-11-01 10:00:00</th>\n",
       "      <td>3591.0</td>\n",
       "      <td>63.67</td>\n",
       "    </tr>\n",
       "    <tr>\n",
       "      <th>2013-11-01 11:00:00</th>\n",
       "      <td>3585.0</td>\n",
       "      <td>64.67</td>\n",
       "    </tr>\n",
       "    <tr>\n",
       "      <th>2013-11-01 12:00:00</th>\n",
       "      <td>3532.0</td>\n",
       "      <td>63.67</td>\n",
       "    </tr>\n",
       "    <tr>\n",
       "      <th>2013-11-01 13:00:00</th>\n",
       "      <td>3491.0</td>\n",
       "      <td>63.33</td>\n",
       "    </tr>\n",
       "    <tr>\n",
       "      <th>2013-11-01 14:00:00</th>\n",
       "      <td>3430.0</td>\n",
       "      <td>65.67</td>\n",
       "    </tr>\n",
       "    <tr>\n",
       "      <th>2013-11-01 15:00:00</th>\n",
       "      <td>3358.0</td>\n",
       "      <td>67.00</td>\n",
       "    </tr>\n",
       "    <tr>\n",
       "      <th>2013-11-01 16:00:00</th>\n",
       "      <td>3347.0</td>\n",
       "      <td>67.33</td>\n",
       "    </tr>\n",
       "    <tr>\n",
       "      <th>2013-11-01 17:00:00</th>\n",
       "      <td>3478.0</td>\n",
       "      <td>65.67</td>\n",
       "    </tr>\n",
       "    <tr>\n",
       "      <th>2013-11-01 18:00:00</th>\n",
       "      <td>3636.0</td>\n",
       "      <td>63.00</td>\n",
       "    </tr>\n",
       "    <tr>\n",
       "      <th>2013-11-01 19:00:00</th>\n",
       "      <td>3501.0</td>\n",
       "      <td>60.67</td>\n",
       "    </tr>\n",
       "    <tr>\n",
       "      <th>2013-11-01 20:00:00</th>\n",
       "      <td>3345.0</td>\n",
       "      <td>59.67</td>\n",
       "    </tr>\n",
       "    <tr>\n",
       "      <th>2013-11-01 21:00:00</th>\n",
       "      <td>3131.0</td>\n",
       "      <td>57.67</td>\n",
       "    </tr>\n",
       "    <tr>\n",
       "      <th>2013-11-01 22:00:00</th>\n",
       "      <td>2883.0</td>\n",
       "      <td>57.67</td>\n",
       "    </tr>\n",
       "    <tr>\n",
       "      <th>2013-11-01 23:00:00</th>\n",
       "      <td>2626.0</td>\n",
       "      <td>55.67</td>\n",
       "    </tr>\n",
       "    <tr>\n",
       "      <th>2013-11-02 00:00:00</th>\n",
       "      <td>2447.0</td>\n",
       "      <td>52.33</td>\n",
       "    </tr>\n",
       "  </tbody>\n",
       "</table>\n",
       "</div>"
      ],
      "text/plain": [
       "                       load   temp\n",
       "2013-11-01 00:00:00  2506.0  58.00\n",
       "2013-11-01 01:00:00  2419.0  57.67\n",
       "2013-11-01 02:00:00  2369.0  58.00\n",
       "2013-11-01 03:00:00  2349.0  58.67\n",
       "2013-11-01 04:00:00  2425.0  59.33\n",
       "2013-11-01 05:00:00  2671.0  60.00\n",
       "2013-11-01 06:00:00  3143.0  59.33\n",
       "2013-11-01 07:00:00  3438.0  59.33\n",
       "2013-11-01 08:00:00  3486.0  59.67\n",
       "2013-11-01 09:00:00  3541.0  62.33\n",
       "2013-11-01 10:00:00  3591.0  63.67\n",
       "2013-11-01 11:00:00  3585.0  64.67\n",
       "2013-11-01 12:00:00  3532.0  63.67\n",
       "2013-11-01 13:00:00  3491.0  63.33\n",
       "2013-11-01 14:00:00  3430.0  65.67\n",
       "2013-11-01 15:00:00  3358.0  67.00\n",
       "2013-11-01 16:00:00  3347.0  67.33\n",
       "2013-11-01 17:00:00  3478.0  65.67\n",
       "2013-11-01 18:00:00  3636.0  63.00\n",
       "2013-11-01 19:00:00  3501.0  60.67\n",
       "2013-11-01 20:00:00  3345.0  59.67\n",
       "2013-11-01 21:00:00  3131.0  57.67\n",
       "2013-11-01 22:00:00  2883.0  57.67\n",
       "2013-11-01 23:00:00  2626.0  55.67\n",
       "2013-11-02 00:00:00  2447.0  52.33"
      ]
     },
     "execution_count": 91,
     "metadata": {},
     "output_type": "execute_result"
    }
   ],
   "source": [
    "ts_data_load.truncate(before=\"2013-11-01\", after=\"2013-11-02\")"
   ]
  },
  {
   "cell_type": "markdown",
   "id": "9dadf31c",
   "metadata": {},
   "source": [
    "### 时间日期组件"
   ]
  },
  {
   "cell_type": "markdown",
   "id": "46316bef",
   "metadata": {},
   "source": [
    "![hello](../images/p2.jpg)\n",
    "![hello](../images/p3.jpg)"
   ]
  },
  {
   "cell_type": "markdown",
   "id": "c1fd1725",
   "metadata": {},
   "source": [
    "### 频率转换"
   ]
  },
  {
   "cell_type": "markdown",
   "id": "cd3f177d",
   "metadata": {},
   "source": [
    "频率转换的主要函数是asfreq()，此方法将时间序列转换为指定的频率，并可选的填充缺失值。"
   ]
  },
  {
   "cell_type": "code",
   "execution_count": 96,
   "id": "e4c791cd",
   "metadata": {
    "ExecuteTime": {
     "end_time": "2023-11-26T10:17:00.971798Z",
     "start_time": "2023-11-26T10:17:00.946834Z"
    }
   },
   "outputs": [],
   "source": [
    "?ts_data_load.asfreq"
   ]
  },
  {
   "cell_type": "code",
   "execution_count": 98,
   "id": "5cedf343",
   "metadata": {
    "ExecuteTime": {
     "end_time": "2023-11-26T10:20:21.385038Z",
     "start_time": "2023-11-26T10:20:21.364019Z"
    }
   },
   "outputs": [
    {
     "data": {
      "text/html": [
       "<div>\n",
       "<style scoped>\n",
       "    .dataframe tbody tr th:only-of-type {\n",
       "        vertical-align: middle;\n",
       "    }\n",
       "\n",
       "    .dataframe tbody tr th {\n",
       "        vertical-align: top;\n",
       "    }\n",
       "\n",
       "    .dataframe thead th {\n",
       "        text-align: right;\n",
       "    }\n",
       "</style>\n",
       "<table border=\"1\" class=\"dataframe\">\n",
       "  <thead>\n",
       "    <tr style=\"text-align: right;\">\n",
       "      <th></th>\n",
       "      <th>load</th>\n",
       "      <th>temp</th>\n",
       "    </tr>\n",
       "  </thead>\n",
       "  <tbody>\n",
       "    <tr>\n",
       "      <th>2012-01-01</th>\n",
       "      <td>2698.0</td>\n",
       "      <td>32.00</td>\n",
       "    </tr>\n",
       "    <tr>\n",
       "      <th>2012-01-02</th>\n",
       "      <td>2458.0</td>\n",
       "      <td>43.67</td>\n",
       "    </tr>\n",
       "    <tr>\n",
       "      <th>2012-01-03</th>\n",
       "      <td>2780.0</td>\n",
       "      <td>26.33</td>\n",
       "    </tr>\n",
       "    <tr>\n",
       "      <th>2012-01-04</th>\n",
       "      <td>3184.0</td>\n",
       "      <td>6.00</td>\n",
       "    </tr>\n",
       "    <tr>\n",
       "      <th>2012-01-05</th>\n",
       "      <td>3014.0</td>\n",
       "      <td>22.33</td>\n",
       "    </tr>\n",
       "  </tbody>\n",
       "</table>\n",
       "</div>"
      ],
      "text/plain": [
       "              load   temp\n",
       "2012-01-01  2698.0  32.00\n",
       "2012-01-02  2458.0  43.67\n",
       "2012-01-03  2780.0  26.33\n",
       "2012-01-04  3184.0   6.00\n",
       "2012-01-05  3014.0  22.33"
      ]
     },
     "execution_count": 98,
     "metadata": {},
     "output_type": "execute_result"
    }
   ],
   "source": [
    "daily_ts_data = ts_data_load.asfreq(freq='D', method='pad')\n",
    "daily_ts_data.head(5)"
   ]
  },
  {
   "cell_type": "markdown",
   "id": "ff41f6c3",
   "metadata": {},
   "source": [
    "### 添加时间特征"
   ]
  },
  {
   "cell_type": "code",
   "execution_count": 1,
   "id": "4975bebb",
   "metadata": {
    "ExecuteTime": {
     "end_time": "2024-10-14T02:15:18.965439Z",
     "start_time": "2024-10-14T02:15:18.127638Z"
    }
   },
   "outputs": [
    {
     "data": {
      "text/html": [
       "<div>\n",
       "<style scoped>\n",
       "    .dataframe tbody tr th:only-of-type {\n",
       "        vertical-align: middle;\n",
       "    }\n",
       "\n",
       "    .dataframe tbody tr th {\n",
       "        vertical-align: top;\n",
       "    }\n",
       "\n",
       "    .dataframe thead th {\n",
       "        text-align: right;\n",
       "    }\n",
       "</style>\n",
       "<table border=\"1\" class=\"dataframe\">\n",
       "  <thead>\n",
       "    <tr style=\"text-align: right;\">\n",
       "      <th></th>\n",
       "      <th>time</th>\n",
       "      <th>load</th>\n",
       "      <th>temp</th>\n",
       "      <th>month</th>\n",
       "      <th>year</th>\n",
       "      <th>day</th>\n",
       "      <th>year_month_day</th>\n",
       "    </tr>\n",
       "  </thead>\n",
       "  <tbody>\n",
       "    <tr>\n",
       "      <th>0</th>\n",
       "      <td>2012-01-01 00:00:00</td>\n",
       "      <td>2698.0</td>\n",
       "      <td>32.00</td>\n",
       "      <td>1</td>\n",
       "      <td>2012</td>\n",
       "      <td>1</td>\n",
       "      <td>2012-1-1</td>\n",
       "    </tr>\n",
       "    <tr>\n",
       "      <th>1</th>\n",
       "      <td>2012-01-01 01:00:00</td>\n",
       "      <td>2558.0</td>\n",
       "      <td>32.67</td>\n",
       "      <td>1</td>\n",
       "      <td>2012</td>\n",
       "      <td>1</td>\n",
       "      <td>2012-1-1</td>\n",
       "    </tr>\n",
       "    <tr>\n",
       "      <th>2</th>\n",
       "      <td>2012-01-01 02:00:00</td>\n",
       "      <td>2444.0</td>\n",
       "      <td>30.00</td>\n",
       "      <td>1</td>\n",
       "      <td>2012</td>\n",
       "      <td>1</td>\n",
       "      <td>2012-1-1</td>\n",
       "    </tr>\n",
       "    <tr>\n",
       "      <th>3</th>\n",
       "      <td>2012-01-01 03:00:00</td>\n",
       "      <td>2402.0</td>\n",
       "      <td>31.00</td>\n",
       "      <td>1</td>\n",
       "      <td>2012</td>\n",
       "      <td>1</td>\n",
       "      <td>2012-1-1</td>\n",
       "    </tr>\n",
       "    <tr>\n",
       "      <th>4</th>\n",
       "      <td>2012-01-01 04:00:00</td>\n",
       "      <td>2403.0</td>\n",
       "      <td>32.00</td>\n",
       "      <td>1</td>\n",
       "      <td>2012</td>\n",
       "      <td>1</td>\n",
       "      <td>2012-1-1</td>\n",
       "    </tr>\n",
       "  </tbody>\n",
       "</table>\n",
       "</div>"
      ],
      "text/plain": [
       "                 time    load   temp  month  year  day year_month_day\n",
       "0 2012-01-01 00:00:00  2698.0  32.00      1  2012    1       2012-1-1\n",
       "1 2012-01-01 01:00:00  2558.0  32.67      1  2012    1       2012-1-1\n",
       "2 2012-01-01 02:00:00  2444.0  30.00      1  2012    1       2012-1-1\n",
       "3 2012-01-01 03:00:00  2402.0  31.00      1  2012    1       2012-1-1\n",
       "4 2012-01-01 04:00:00  2403.0  32.00      1  2012    1       2012-1-1"
      ]
     },
     "execution_count": 1,
     "metadata": {},
     "output_type": "execute_result"
    }
   ],
   "source": [
    "import pandas as pd\n",
    "\n",
    "energy = pd.read_csv(\"../data/energy.csv\")\n",
    "energy.columns = [\"time\", \"load\", \"temp\"]\n",
    "energy[\"time\"] = pd.to_datetime(energy[\"time\"].values)\n",
    "energy['month'] = pd.DatetimeIndex(energy['time']).month\n",
    "energy['year'] = pd.DatetimeIndex(energy['time']).year\n",
    "energy['day'] = pd.DatetimeIndex(energy['time']).day\n",
    "energy['year_month_day'] = [str(i)+'-'+str(j)+'-'+str(k) for i,j,k in zip(energy.year, energy.month, energy.day)]\n",
    "energy.head()"
   ]
  },
  {
   "cell_type": "markdown",
   "id": "05316b4c",
   "metadata": {},
   "source": [
    "### 判断时间类型"
   ]
  },
  {
   "cell_type": "code",
   "execution_count": 3,
   "id": "55cdbcbe",
   "metadata": {
    "ExecuteTime": {
     "end_time": "2024-10-14T02:16:16.991273Z",
     "start_time": "2024-10-14T02:16:16.986715Z"
    }
   },
   "outputs": [],
   "source": [
    "def is_time_col(dataframe: pd.DataFrame):\n",
    "    for column, dtype in dataframe.dtypes.items():\n",
    "        if pd.api.types.is_datetime64_any_dtype(dtype):\n",
    "            return column\n",
    "    raise RuntimeError(f\"该DataFrame不存在时间列！{dataframe.dtypes}\")"
   ]
  },
  {
   "cell_type": "code",
   "execution_count": 5,
   "id": "283b4d7d",
   "metadata": {
    "ExecuteTime": {
     "end_time": "2024-10-14T02:16:23.706057Z",
     "start_time": "2024-10-14T02:16:23.700445Z"
    }
   },
   "outputs": [
    {
     "data": {
      "text/plain": [
       "'time'"
      ]
     },
     "execution_count": 5,
     "metadata": {},
     "output_type": "execute_result"
    }
   ],
   "source": [
    "time_col = is_time_col(energy)\n",
    "time_col"
   ]
  },
  {
   "cell_type": "markdown",
   "id": "10267370",
   "metadata": {},
   "source": [
    "### 时间列合并"
   ]
  },
  {
   "cell_type": "code",
   "execution_count": null,
   "id": "afce19d5",
   "metadata": {},
   "outputs": [],
   "source": [
    "# 将两列合并为一个时间\n",
    "data['时间'] = data['时间'].astype('string')\n",
    "data['日期'] = data['日期'].astype('string')\n",
    "\n",
    "data['合并时间'] = pd.to_datetime(data['日期'] + ' ' + data['时间'], format='%Y/%m/%d %H:%M:%S')"
   ]
  },
  {
   "cell_type": "markdown",
   "id": "df3acde7",
   "metadata": {},
   "source": [
    "## 基于datetime库"
   ]
  },
  {
   "cell_type": "markdown",
   "id": "d0740538",
   "metadata": {},
   "source": [
    "### 标准库"
   ]
  },
  {
   "cell_type": "markdown",
   "id": "f4ad6d94",
   "metadata": {},
   "source": [
    "python标准库包含了日期和时间数据的类型，datetime,time,calender模块是开始处理时间数据的主要内容。"
   ]
  },
  {
   "cell_type": "code",
   "execution_count": 1,
   "id": "c78a6b46",
   "metadata": {
    "ExecuteTime": {
     "end_time": "2024-04-01T09:46:52.557311Z",
     "start_time": "2024-04-01T09:46:52.541099Z"
    }
   },
   "outputs": [
    {
     "data": {
      "text/plain": [
       "2024"
      ]
     },
     "execution_count": 1,
     "metadata": {},
     "output_type": "execute_result"
    }
   ],
   "source": [
    "from datetime import datetime\n",
    "now = datetime.now()\n",
    "now.year"
   ]
  },
  {
   "cell_type": "code",
   "execution_count": 141,
   "id": "2b01996d",
   "metadata": {
    "ExecuteTime": {
     "end_time": "2022-06-05T06:07:31.013839Z",
     "start_time": "2022-06-05T06:07:30.997671Z"
    }
   },
   "outputs": [
    {
     "data": {
      "text/plain": [
       "6"
      ]
     },
     "execution_count": 141,
     "metadata": {},
     "output_type": "execute_result"
    }
   ],
   "source": [
    "now.month"
   ]
  },
  {
   "cell_type": "code",
   "execution_count": 142,
   "id": "50a4cee1",
   "metadata": {
    "ExecuteTime": {
     "end_time": "2022-06-05T06:07:38.250333Z",
     "start_time": "2022-06-05T06:07:38.232083Z"
    }
   },
   "outputs": [
    {
     "data": {
      "text/plain": [
       "5"
      ]
     },
     "execution_count": 142,
     "metadata": {},
     "output_type": "execute_result"
    }
   ],
   "source": [
    "now.day"
   ]
  },
  {
   "cell_type": "code",
   "execution_count": 7,
   "id": "bb442c44",
   "metadata": {
    "ExecuteTime": {
     "end_time": "2024-04-01T09:51:07.980253Z",
     "start_time": "2024-04-01T09:51:07.974512Z"
    }
   },
   "outputs": [],
   "source": [
    "from datetime import timedelta #两个datetime值之差"
   ]
  },
  {
   "cell_type": "markdown",
   "id": "48d35d15",
   "metadata": {},
   "source": [
    "timedelta的参数\n",
    "![hello](../images/timedelta.png)"
   ]
  },
  {
   "cell_type": "markdown",
   "id": "cb95289f",
   "metadata": {},
   "source": [
    "### 字符串与datetime互相转换"
   ]
  },
  {
   "cell_type": "code",
   "execution_count": 144,
   "id": "69a85a8f",
   "metadata": {
    "ExecuteTime": {
     "end_time": "2022-06-05T06:10:01.856012Z",
     "start_time": "2022-06-05T06:10:01.843817Z"
    }
   },
   "outputs": [
    {
     "data": {
      "text/plain": [
       "'2011-01-01 00:00:00'"
      ]
     },
     "execution_count": 144,
     "metadata": {},
     "output_type": "execute_result"
    }
   ],
   "source": [
    "s = datetime(2011, 1,1)\n",
    "str(s)"
   ]
  },
  {
   "cell_type": "code",
   "execution_count": 145,
   "id": "0267c297",
   "metadata": {
    "ExecuteTime": {
     "end_time": "2022-06-05T06:10:45.703628Z",
     "start_time": "2022-06-05T06:10:45.694778Z"
    }
   },
   "outputs": [
    {
     "data": {
      "text/plain": [
       "'2011-01-01'"
      ]
     },
     "execution_count": 145,
     "metadata": {},
     "output_type": "execute_result"
    }
   ],
   "source": [
    "s.strftime('%F')#传递一个指定的格式给strftime方法"
   ]
  },
  {
   "cell_type": "code",
   "execution_count": 146,
   "id": "f13e42a5",
   "metadata": {
    "ExecuteTime": {
     "end_time": "2022-06-05T06:12:07.657511Z",
     "start_time": "2022-06-05T06:12:07.650429Z"
    }
   },
   "outputs": [
    {
     "data": {
      "text/plain": [
       "datetime.datetime(2011, 1, 3, 0, 0)"
      ]
     },
     "execution_count": 146,
     "metadata": {},
     "output_type": "execute_result"
    }
   ],
   "source": [
    "value = '2011-01-03'\n",
    "datetime.strptime(value, '%Y-%m-%d')#将字符串转换成日期"
   ]
  },
  {
   "cell_type": "code",
   "execution_count": 147,
   "id": "fc10c49b",
   "metadata": {
    "ExecuteTime": {
     "end_time": "2022-06-05T06:13:34.641463Z",
     "start_time": "2022-06-05T06:13:34.613004Z"
    }
   },
   "outputs": [
    {
     "data": {
      "text/plain": [
       "Timestamp('2011-01-03 00:00:00')"
      ]
     },
     "execution_count": 147,
     "metadata": {},
     "output_type": "execute_result"
    }
   ],
   "source": [
    "a = pd.to_datetime(value) #字符串转时间戳\n",
    "a"
   ]
  },
  {
   "cell_type": "code",
   "execution_count": 148,
   "id": "7ceaecad",
   "metadata": {
    "ExecuteTime": {
     "end_time": "2022-06-05T06:15:09.952221Z",
     "start_time": "2022-06-05T06:15:09.937043Z"
    }
   },
   "outputs": [
    {
     "data": {
      "text/plain": [
       "Timestamp('2011-01-04 00:00:00')"
      ]
     },
     "execution_count": 148,
     "metadata": {},
     "output_type": "execute_result"
    }
   ],
   "source": [
    "b = a+timedelta(days=1)\n",
    "b"
   ]
  },
  {
   "cell_type": "code",
   "execution_count": 149,
   "id": "8a11eb5a",
   "metadata": {
    "ExecuteTime": {
     "end_time": "2022-06-05T06:16:25.961913Z",
     "start_time": "2022-06-05T06:16:25.946528Z"
    }
   },
   "outputs": [
    {
     "data": {
      "text/plain": [
       "1"
      ]
     },
     "execution_count": 149,
     "metadata": {},
     "output_type": "execute_result"
    }
   ],
   "source": [
    "abs((a-b).days)#相差天数"
   ]
  },
  {
   "cell_type": "markdown",
   "id": "c89e1e3a",
   "metadata": {},
   "source": [
    "datetime格式说明：  \n",
    "%Y 四位的年份 %y 两位的年份  \n",
    "%m 两位的月份 %d 两位的日期号  \n",
    "%H 24小时制 %I 12小时制  \n",
    "%F %Y-%m-%d的简写 %D %m/%d/%y的简写"
   ]
  },
  {
   "cell_type": "markdown",
   "id": "64b0eddd",
   "metadata": {},
   "source": [
    "NaT（not a time）是pandas中时间戳数据的null值。"
   ]
  },
  {
   "cell_type": "markdown",
   "id": "d6a4ecf6",
   "metadata": {},
   "source": [
    "### 截断时间"
   ]
  },
  {
   "cell_type": "code",
   "execution_count": 2,
   "id": "20eecbe9",
   "metadata": {
    "ExecuteTime": {
     "end_time": "2024-04-01T09:47:11.900457Z",
     "start_time": "2024-04-01T09:47:11.895376Z"
    }
   },
   "outputs": [
    {
     "data": {
      "text/plain": [
       "datetime.datetime(2024, 4, 1, 17, 47, 11, 897376)"
      ]
     },
     "execution_count": 2,
     "metadata": {},
     "output_type": "execute_result"
    }
   ],
   "source": [
    "now = datetime.now()\n",
    "now"
   ]
  },
  {
   "cell_type": "code",
   "execution_count": 3,
   "id": "8aa8188f",
   "metadata": {
    "ExecuteTime": {
     "end_time": "2024-04-01T09:47:17.931081Z",
     "start_time": "2024-04-01T09:47:17.923738Z"
    }
   },
   "outputs": [
    {
     "data": {
      "text/plain": [
       "datetime.datetime(2024, 4, 1, 17, 47, 11)"
      ]
     },
     "execution_count": 3,
     "metadata": {},
     "output_type": "execute_result"
    }
   ],
   "source": [
    "newdatetime = now.replace(microsecond=0)\n",
    "newdatetime"
   ]
  },
  {
   "cell_type": "markdown",
   "id": "1156d0bd",
   "metadata": {},
   "source": [
    "## 含有重复索引的时间序列"
   ]
  },
  {
   "cell_type": "markdown",
   "id": "6f0eed37",
   "metadata": {},
   "source": [
    "在某些应用中，可能会有多个数据观察值落在特定的时间戳上，如果要聚合含有非唯一时间戳的数据，一种方式是使用groupby并传递level=0"
   ]
  },
  {
   "cell_type": "code",
   "execution_count": 153,
   "id": "0809e4fa",
   "metadata": {
    "ExecuteTime": {
     "end_time": "2022-06-05T06:27:32.371851Z",
     "start_time": "2022-06-05T06:27:32.350129Z"
    }
   },
   "outputs": [
    {
     "data": {
      "text/plain": [
       "<pandas.core.groupby.generic.SeriesGroupBy object at 0x0000019DF2CC1DC8>"
      ]
     },
     "execution_count": 153,
     "metadata": {},
     "output_type": "execute_result"
    }
   ],
   "source": [
    "ts_data_load.groupby(level=0)"
   ]
  },
  {
   "cell_type": "markdown",
   "id": "3b419eb0",
   "metadata": {},
   "source": [
    "## 生成日期范围"
   ]
  },
  {
   "cell_type": "markdown",
   "id": "d7e106f9",
   "metadata": {},
   "source": [
    "pd.date_range()是用于根据特定频率生成指定长度的时间戳，默认情况下，date_range()生成的是每日的时间戳，如果只传递一个起始或结尾日期，必须传递一个用于生成范围的数字（periods=数字）。"
   ]
  },
  {
   "cell_type": "code",
   "execution_count": 154,
   "id": "be7a29b5",
   "metadata": {
    "ExecuteTime": {
     "end_time": "2022-06-05T06:32:03.218667Z",
     "start_time": "2022-06-05T06:32:03.197353Z"
    }
   },
   "outputs": [
    {
     "data": {
      "text/plain": [
       "DatetimeIndex(['2012-04-01', '2012-04-02', '2012-04-03', '2012-04-04',\n",
       "               '2012-04-05', '2012-04-06', '2012-04-07', '2012-04-08',\n",
       "               '2012-04-09', '2012-04-10',\n",
       "               ...\n",
       "               '2012-12-23', '2012-12-24', '2012-12-25', '2012-12-26',\n",
       "               '2012-12-27', '2012-12-28', '2012-12-29', '2012-12-30',\n",
       "               '2012-12-31', '2013-01-01'],\n",
       "              dtype='datetime64[ns]', length=276, freq='D')"
      ]
     },
     "execution_count": 154,
     "metadata": {},
     "output_type": "execute_result"
    }
   ],
   "source": [
    "ts1 = pd.date_range(start='2012-04-01', end='2013-01-01')\n",
    "ts1"
   ]
  },
  {
   "cell_type": "code",
   "execution_count": 155,
   "id": "4e24b969",
   "metadata": {
    "ExecuteTime": {
     "end_time": "2022-06-05T06:32:30.158923Z",
     "start_time": "2022-06-05T06:32:30.142352Z"
    }
   },
   "outputs": [
    {
     "data": {
      "text/plain": [
       "DatetimeIndex(['2012-04-30', '2012-05-31', '2012-06-30', '2012-07-31',\n",
       "               '2012-08-31', '2012-09-30', '2012-10-31', '2012-11-30',\n",
       "               '2012-12-31'],\n",
       "              dtype='datetime64[ns]', freq='M')"
      ]
     },
     "execution_count": 155,
     "metadata": {},
     "output_type": "execute_result"
    }
   ],
   "source": [
    "ts2 = pd.date_range(start='2012-04-01', end='2013-01-01', freq='M')#D表示日期的每天，H表示每小时，M表示日历的月底日期\n",
    "ts2"
   ]
  },
  {
   "cell_type": "markdown",
   "id": "811488f5",
   "metadata": {},
   "source": [
    "pandas中的频率由基础频率和倍数组成，基础频率通常会有字符串别名，例如：freq='4h'"
   ]
  },
  {
   "cell_type": "markdown",
   "id": "6c4e8bda",
   "metadata": {},
   "source": [
    "如果频率已知，则可以将频率传递给shift来推移时间戳，只对时间序列有效，对单个时间戳不能使用，例如：数据名.shift(2,freq='M')"
   ]
  },
  {
   "cell_type": "code",
   "execution_count": 8,
   "id": "39f52ab8",
   "metadata": {
    "ExecuteTime": {
     "end_time": "2024-04-01T09:51:15.198398Z",
     "start_time": "2024-04-01T09:51:15.186755Z"
    }
   },
   "outputs": [
    {
     "data": {
      "text/plain": [
       "DatetimeIndex(['2024-04-01 17:49:36.191770', '2024-04-01 17:49:37.191770',\n",
       "               '2024-04-01 17:49:38.191770', '2024-04-01 17:49:39.191770',\n",
       "               '2024-04-01 17:49:40.191770', '2024-04-01 17:49:41.191770',\n",
       "               '2024-04-01 17:49:42.191770', '2024-04-01 17:49:43.191770',\n",
       "               '2024-04-01 17:49:44.191770', '2024-04-01 17:49:45.191770',\n",
       "               '2024-04-01 17:49:46.191770', '2024-04-01 17:49:47.191770',\n",
       "               '2024-04-01 17:49:48.191770', '2024-04-01 17:49:49.191770',\n",
       "               '2024-04-01 17:49:50.191770', '2024-04-01 17:49:51.191770',\n",
       "               '2024-04-01 17:49:52.191770', '2024-04-01 17:49:53.191770',\n",
       "               '2024-04-01 17:49:54.191770', '2024-04-01 17:49:55.191770',\n",
       "               '2024-04-01 17:49:56.191770', '2024-04-01 17:49:57.191770',\n",
       "               '2024-04-01 17:49:58.191770', '2024-04-01 17:49:59.191770',\n",
       "               '2024-04-01 17:50:00.191770', '2024-04-01 17:50:01.191770',\n",
       "               '2024-04-01 17:50:02.191770', '2024-04-01 17:50:03.191770',\n",
       "               '2024-04-01 17:50:04.191770', '2024-04-01 17:50:05.191770',\n",
       "               '2024-04-01 17:50:06.191770', '2024-04-01 17:50:07.191770',\n",
       "               '2024-04-01 17:50:08.191770', '2024-04-01 17:50:09.191770',\n",
       "               '2024-04-01 17:50:10.191770', '2024-04-01 17:50:11.191770',\n",
       "               '2024-04-01 17:50:12.191770', '2024-04-01 17:50:13.191770',\n",
       "               '2024-04-01 17:50:14.191770', '2024-04-01 17:50:15.191770',\n",
       "               '2024-04-01 17:50:16.191770', '2024-04-01 17:50:17.191770',\n",
       "               '2024-04-01 17:50:18.191770', '2024-04-01 17:50:19.191770',\n",
       "               '2024-04-01 17:50:20.191770', '2024-04-01 17:50:21.191770',\n",
       "               '2024-04-01 17:50:22.191770', '2024-04-01 17:50:23.191770',\n",
       "               '2024-04-01 17:50:24.191770', '2024-04-01 17:50:25.191770',\n",
       "               '2024-04-01 17:50:26.191770', '2024-04-01 17:50:27.191770',\n",
       "               '2024-04-01 17:50:28.191770', '2024-04-01 17:50:29.191770',\n",
       "               '2024-04-01 17:50:30.191770', '2024-04-01 17:50:31.191770',\n",
       "               '2024-04-01 17:50:32.191770', '2024-04-01 17:50:33.191770',\n",
       "               '2024-04-01 17:50:34.191770', '2024-04-01 17:50:35.191770',\n",
       "               '2024-04-01 17:50:36.191770', '2024-04-01 17:50:37.191770',\n",
       "               '2024-04-01 17:50:38.191770', '2024-04-01 17:50:39.191770',\n",
       "               '2024-04-01 17:50:40.191770', '2024-04-01 17:50:41.191770',\n",
       "               '2024-04-01 17:50:42.191770', '2024-04-01 17:50:43.191770',\n",
       "               '2024-04-01 17:50:44.191770', '2024-04-01 17:50:45.191770',\n",
       "               '2024-04-01 17:50:46.191770', '2024-04-01 17:50:47.191770',\n",
       "               '2024-04-01 17:50:48.191770', '2024-04-01 17:50:49.191770',\n",
       "               '2024-04-01 17:50:50.191770', '2024-04-01 17:50:51.191770',\n",
       "               '2024-04-01 17:50:52.191770', '2024-04-01 17:50:53.191770',\n",
       "               '2024-04-01 17:50:54.191770', '2024-04-01 17:50:55.191770',\n",
       "               '2024-04-01 17:50:56.191770', '2024-04-01 17:50:57.191770',\n",
       "               '2024-04-01 17:50:58.191770', '2024-04-01 17:50:59.191770',\n",
       "               '2024-04-01 17:51:00.191770', '2024-04-01 17:51:01.191770',\n",
       "               '2024-04-01 17:51:02.191770', '2024-04-01 17:51:03.191770',\n",
       "               '2024-04-01 17:51:04.191770', '2024-04-01 17:51:05.191770',\n",
       "               '2024-04-01 17:51:06.191770', '2024-04-01 17:51:07.191770',\n",
       "               '2024-04-01 17:51:08.191770', '2024-04-01 17:51:09.191770',\n",
       "               '2024-04-01 17:51:10.191770', '2024-04-01 17:51:11.191770',\n",
       "               '2024-04-01 17:51:12.191770', '2024-04-01 17:51:13.191770',\n",
       "               '2024-04-01 17:51:14.191770', '2024-04-01 17:51:15.191770'],\n",
       "              dtype='datetime64[ns]', freq='S')"
      ]
     },
     "execution_count": 8,
     "metadata": {},
     "output_type": "execute_result"
    }
   ],
   "source": [
    "# 生成固定长度的时间范围，按秒生成\n",
    "length = 100\n",
    "pd.date_range(start=datetime.now()-timedelta(seconds=length-1), end=datetime.now(), freq='S')"
   ]
  },
  {
   "cell_type": "markdown",
   "id": "71a9a3c2",
   "metadata": {},
   "source": [
    "## Series.dt的用法"
   ]
  },
  {
   "cell_type": "markdown",
   "id": "9eb9170f",
   "metadata": {},
   "source": [
    "1、dt.date和dt.normalize()都返回一个日期的日期部分，只包含年月日，先创建一个DataFrame名为df。"
   ]
  },
  {
   "cell_type": "code",
   "execution_count": 156,
   "id": "ca8bdc43",
   "metadata": {
    "ExecuteTime": {
     "end_time": "2022-06-05T06:42:48.836334Z",
     "start_time": "2022-06-05T06:42:48.825729Z"
    }
   },
   "outputs": [
    {
     "data": {
      "text/html": [
       "<div>\n",
       "<style scoped>\n",
       "    .dataframe tbody tr th:only-of-type {\n",
       "        vertical-align: middle;\n",
       "    }\n",
       "\n",
       "    .dataframe tbody tr th {\n",
       "        vertical-align: top;\n",
       "    }\n",
       "\n",
       "    .dataframe thead th {\n",
       "        text-align: right;\n",
       "    }\n",
       "</style>\n",
       "<table border=\"1\" class=\"dataframe\">\n",
       "  <thead>\n",
       "    <tr style=\"text-align: right;\">\n",
       "      <th></th>\n",
       "      <th>time</th>\n",
       "    </tr>\n",
       "  </thead>\n",
       "  <tbody>\n",
       "    <tr>\n",
       "      <th>0</th>\n",
       "      <td>2020-07-12 20:59:37</td>\n",
       "    </tr>\n",
       "    <tr>\n",
       "      <th>1</th>\n",
       "      <td>2020-07-13 20:59:37</td>\n",
       "    </tr>\n",
       "  </tbody>\n",
       "</table>\n",
       "</div>"
      ],
      "text/plain": [
       "                  time\n",
       "0  2020-07-12 20:59:37\n",
       "1  2020-07-13 20:59:37"
      ]
     },
     "execution_count": 156,
     "metadata": {},
     "output_type": "execute_result"
    }
   ],
   "source": [
    "df = pd.DataFrame({'time':['2020-07-12 20:59:37', '2020-07-13 20:59:37']})\n",
    "df"
   ]
  },
  {
   "cell_type": "code",
   "execution_count": 161,
   "id": "7dff6dfd",
   "metadata": {
    "ExecuteTime": {
     "end_time": "2022-06-05T06:45:22.501949Z",
     "start_time": "2022-06-05T06:45:22.483405Z"
    }
   },
   "outputs": [
    {
     "data": {
      "text/plain": [
       "0    2020-07-12\n",
       "1    2020-07-13\n",
       "Name: time, dtype: object"
      ]
     },
     "execution_count": 161,
     "metadata": {},
     "output_type": "execute_result"
    }
   ],
   "source": [
    "pd.to_datetime(df['time']).dt.date"
   ]
  },
  {
   "cell_type": "markdown",
   "id": "73b4ee40",
   "metadata": {},
   "source": [
    "2、dt.year,dt.month,dt.day,dt.hour,dt.minute,dt.second,dt.week,分别返回年月日时分秒"
   ]
  },
  {
   "cell_type": "code",
   "execution_count": 162,
   "id": "e64f4935",
   "metadata": {
    "ExecuteTime": {
     "end_time": "2022-06-05T06:46:50.325705Z",
     "start_time": "2022-06-05T06:46:50.303851Z"
    }
   },
   "outputs": [
    {
     "data": {
      "text/plain": [
       "0    12\n",
       "1    13\n",
       "Name: time, dtype: int64"
      ]
     },
     "execution_count": 162,
     "metadata": {},
     "output_type": "execute_result"
    }
   ],
   "source": [
    "pd.to_datetime(df['time']).dt.day"
   ]
  },
  {
   "cell_type": "markdown",
   "id": "db38c559",
   "metadata": {},
   "source": [
    "3、dt.weekday 返回一周中的星期几，0代表星期一，6代表星期天"
   ]
  },
  {
   "cell_type": "markdown",
   "id": "41d06bfd",
   "metadata": {},
   "source": [
    "4、dt.dayofyear 返回一年的第几天  \n",
    "dt.quarter 返回每个日期分别是第几个季度"
   ]
  },
  {
   "cell_type": "markdown",
   "id": "01cea894",
   "metadata": {},
   "source": [
    "5、dt.is_month_start,dt.is_month_end 判断是否为每月的第一天或最后一天  \n",
    "dt.is_year_start,dt.is_year_end 判断是否为每年的第一天或最后一天   \n",
    "dt.is_quarter_start,dt.is_quarter_end 判断是否为每季度的第一天或最后一天 "
   ]
  },
  {
   "cell_type": "markdown",
   "id": "ccda89c5",
   "metadata": {},
   "source": [
    "dt.is_leap_year 判断是否为闰年"
   ]
  },
  {
   "cell_type": "markdown",
   "id": "27168392",
   "metadata": {},
   "source": [
    "dt.month_name() 返回月份的英文名称"
   ]
  },
  {
   "cell_type": "markdown",
   "id": "e72a0bf8",
   "metadata": {},
   "source": [
    "6、dt.days 返回时间差 (pd.to_datetime(字符串1)-pd.to_datetime(字符串2)).dt.days"
   ]
  },
  {
   "cell_type": "markdown",
   "id": "99a1f114",
   "metadata": {},
   "source": [
    "7、重新采样是指将时间序列从一个频率转换为另一个时间频率的过程，将更高频率的数据聚合到低频率被称为向下采样，而从低频率向高频率称为向上采样。pandas拥有resample()方法，先调用resample对数据分组，之后再调用聚合函数。"
   ]
  },
  {
   "cell_type": "markdown",
   "id": "a22d19a7",
   "metadata": {},
   "source": [
    "data.resample('频率').聚合函数 频率可以为'D','5min'等，聚合函数包括sum()，mean()等。"
   ]
  },
  {
   "cell_type": "markdown",
   "id": "c0bc7298",
   "metadata": {},
   "source": [
    "# broadcast（广播机制）"
   ]
  },
  {
   "cell_type": "markdown",
   "id": "00902478",
   "metadata": {},
   "source": [
    "广播”指的是在不同维度的数组之间进行算术运算的一种执行机制，其通过将数据矢量化进行高效的运算。"
   ]
  },
  {
   "cell_type": "markdown",
   "id": "96d55831",
   "metadata": {},
   "source": [
    "在panda中广播操作是指一个Series数组和另一个DataFrame进行运算，举例如下："
   ]
  },
  {
   "cell_type": "code",
   "execution_count": 30,
   "id": "9676596e",
   "metadata": {
    "ExecuteTime": {
     "end_time": "2023-05-24T08:02:24.604214Z",
     "start_time": "2023-05-24T08:02:24.598198Z"
    }
   },
   "outputs": [
    {
     "name": "stdout",
     "output_type": "stream",
     "text": [
      "0    0\n",
      "1    1\n",
      "2    2\n",
      "dtype: int64\n"
     ]
    }
   ],
   "source": [
    "import pandas as pd\n",
    "a = pd.Series([0,1,2])\n",
    "b = pd.DataFrame([[0,0,0],[10,10,10],[20,20,20],[30,30,30]],\n",
    "                 index=['A','B','C','D'])\n",
    "print(a)"
   ]
  },
  {
   "cell_type": "code",
   "execution_count": 31,
   "id": "9635739f",
   "metadata": {
    "ExecuteTime": {
     "end_time": "2023-05-24T08:02:25.284726Z",
     "start_time": "2023-05-24T08:02:25.277200Z"
    }
   },
   "outputs": [
    {
     "name": "stdout",
     "output_type": "stream",
     "text": [
      "    0   1   2\n",
      "A   0   0   0\n",
      "B  10  10  10\n",
      "C  20  20  20\n",
      "D  30  30  30\n"
     ]
    }
   ],
   "source": [
    "print(b)"
   ]
  },
  {
   "cell_type": "code",
   "execution_count": 32,
   "id": "9cb8c591",
   "metadata": {
    "ExecuteTime": {
     "end_time": "2023-05-24T08:02:25.734502Z",
     "start_time": "2023-05-24T08:02:25.725532Z"
    }
   },
   "outputs": [
    {
     "name": "stdout",
     "output_type": "stream",
     "text": [
      "    0   1   2\n",
      "A   0   1   2\n",
      "B  10  11  12\n",
      "C  20  21  22\n",
      "D  30  31  32\n"
     ]
    }
   ],
   "source": [
    "print(a + b)"
   ]
  },
  {
   "cell_type": "markdown",
   "id": "0d673b74",
   "metadata": {},
   "source": [
    "从结果上来看是很神奇的，从原理上来说就是a进行了维度的扩展，变成了[[0,1,2], [0,1,2], [0,1,2], [0,1,2]]，然后与b进行相加的操作。示意图如下："
   ]
  },
  {
   "cell_type": "markdown",
   "id": "4c2421a7",
   "metadata": {},
   "source": [
    "当然了其他的运算也会有同样的效果："
   ]
  },
  {
   "cell_type": "code",
   "execution_count": 34,
   "id": "33a82c10",
   "metadata": {
    "ExecuteTime": {
     "end_time": "2023-05-24T08:05:16.322756Z",
     "start_time": "2023-05-24T08:05:16.317773Z"
    }
   },
   "outputs": [
    {
     "name": "stdout",
     "output_type": "stream",
     "text": [
      "0    1.0\n",
      "1    2.0\n",
      "2    3.0\n",
      "dtype: float64\n"
     ]
    }
   ],
   "source": [
    "c = pd.Series([0.1,0.2,0.3])\n",
    "d = 10\n",
    "print(c*d)"
   ]
  },
  {
   "cell_type": "code",
   "execution_count": 35,
   "id": "e53ed770",
   "metadata": {
    "ExecuteTime": {
     "end_time": "2023-05-24T08:05:16.944230Z",
     "start_time": "2023-05-24T08:05:16.926290Z"
    }
   },
   "outputs": [
    {
     "name": "stdout",
     "output_type": "stream",
     "text": [
      "0    0.01\n",
      "1    0.02\n",
      "2    0.03\n",
      "dtype: float64\n"
     ]
    }
   ],
   "source": [
    "print(c/10)"
   ]
  },
  {
   "cell_type": "markdown",
   "id": "4e4527ad",
   "metadata": {},
   "source": [
    "维度不一致的时候，会怎样呢？"
   ]
  },
  {
   "cell_type": "code",
   "execution_count": 36,
   "id": "96bd478d",
   "metadata": {
    "ExecuteTime": {
     "end_time": "2023-05-24T08:05:47.947281Z",
     "start_time": "2023-05-24T08:05:47.925396Z"
    }
   },
   "outputs": [
    {
     "name": "stdout",
     "output_type": "stream",
     "text": [
      "      0     1   2\n",
      "A   0.0   1.0 NaN\n",
      "B  10.0  11.0 NaN\n",
      "C  20.0  21.0 NaN\n",
      "D  30.0  31.0 NaN\n"
     ]
    }
   ],
   "source": [
    "import pandas as pd\n",
    "\n",
    "a_1 = pd.Series([0,1])\n",
    "b_1 = pd.DataFrame([[0,0,0],[10,10,10],[20,20,20],[30,30,30]],\n",
    "                 index=['A','B','C','D'])\n",
    "print(a_1 + b_1)"
   ]
  },
  {
   "cell_type": "markdown",
   "id": "f474c059",
   "metadata": {},
   "source": [
    "结果还是很好理解的，总维度与高维度的数据维度一致。"
   ]
  },
  {
   "cell_type": "markdown",
   "id": "616459f4",
   "metadata": {},
   "source": [
    "# 其他"
   ]
  },
  {
   "cell_type": "markdown",
   "id": "5d7ebeab",
   "metadata": {},
   "source": [
    "## pandas常用配置"
   ]
  },
  {
   "cell_type": "markdown",
   "id": "ba08b79f",
   "metadata": {},
   "source": [
    "通过pandas的使用，我们经常要交互式地展示表格（dataframe）、分析表格。而表格的格式就显得尤为重要了，因为大部分时候如果我们直接展示表格，格式并不是很友好。\n",
    "\n",
    "其实呢，这些痛点都可以通过pandas的option来解决。短短几行代码，只要提前配置好，一次设置好，全局生效"
   ]
  },
  {
   "cell_type": "markdown",
   "id": "97437f9c",
   "metadata": {},
   "source": [
    "pd.set_option('') #设置配置\n",
    "\n",
    "pd.get_option('') #获得配置\n",
    "\n",
    "pd.reset_option('') #重置"
   ]
  },
  {
   "cell_type": "markdown",
   "id": "fe8ebe3b",
   "metadata": {},
   "source": [
    "### 显示更多行"
   ]
  },
  {
   "cell_type": "markdown",
   "id": "6a822a74",
   "metadata": {},
   "source": [
    "默认情况下，pandas 是不超出屏幕的显示范围的，如果表的行数很多，它会截断中间的行只显示一部分。我们可以通过设置display.max_rows来控制显示的最大行数，比如我想设置显示200行。"
   ]
  },
  {
   "cell_type": "code",
   "execution_count": 3,
   "id": "a2af7429",
   "metadata": {
    "ExecuteTime": {
     "end_time": "2023-12-14T09:42:22.183339Z",
     "start_time": "2023-12-14T09:42:22.179337Z"
    }
   },
   "outputs": [],
   "source": [
    "pd.set_option('display.max_rows', 200)"
   ]
  },
  {
   "cell_type": "markdown",
   "id": "63dcd577",
   "metadata": {},
   "source": [
    "如果行数超过了display.max_rows，那么display.min_rows将确定显示的部分有多少行。因为display.min_rows的默认行数为5，,下面例子只显示前5行和最后5行，中间的所有行省略。"
   ]
  },
  {
   "cell_type": "code",
   "execution_count": 4,
   "id": "e6e71f0c",
   "metadata": {
    "ExecuteTime": {
     "end_time": "2023-12-14T09:43:26.231858Z",
     "start_time": "2023-12-14T09:43:26.227835Z"
    }
   },
   "outputs": [],
   "source": [
    "pd.set_option('display.min_rows', 10)"
   ]
  },
  {
   "cell_type": "code",
   "execution_count": 5,
   "id": "f22807a9",
   "metadata": {
    "ExecuteTime": {
     "end_time": "2023-12-14T09:43:36.538383Z",
     "start_time": "2023-12-14T09:43:36.534528Z"
    }
   },
   "outputs": [],
   "source": [
    "# 重置\n",
    "pd.reset_option('display.max_rows')"
   ]
  },
  {
   "cell_type": "markdown",
   "id": "1ba642c4",
   "metadata": {},
   "source": [
    "### 显示更多列"
   ]
  },
  {
   "cell_type": "markdown",
   "id": "ced3e5e1",
   "metadata": {},
   "source": [
    "行可以设置，同样的列也可以设置，display.max_columns控制着可显示的列数，默认值为20。"
   ]
  },
  {
   "cell_type": "code",
   "execution_count": 7,
   "id": "e9ad0874",
   "metadata": {
    "ExecuteTime": {
     "end_time": "2023-12-14T09:45:47.748162Z",
     "start_time": "2023-12-14T09:45:47.744110Z"
    }
   },
   "outputs": [],
   "source": [
    "pd.set_option('display.max_columns', 30) "
   ]
  },
  {
   "cell_type": "markdown",
   "id": "33729bde",
   "metadata": {},
   "source": [
    "###  改变列宽"
   ]
  },
  {
   "cell_type": "markdown",
   "id": "00c89fd5",
   "metadata": {},
   "source": [
    "pandas对列中显示的字符数有一些限制，默认值为50字符。所以，有的值字符过长就会显示省略号。如果想全部显示，可以设置display.max_colwidth，比如设置成500。"
   ]
  },
  {
   "cell_type": "code",
   "execution_count": 8,
   "id": "604a387a",
   "metadata": {
    "ExecuteTime": {
     "end_time": "2023-12-14T09:47:28.175916Z",
     "start_time": "2023-12-14T09:47:28.171817Z"
    }
   },
   "outputs": [],
   "source": [
    "pd.set_option ('display.max_colwidth',500)"
   ]
  },
  {
   "cell_type": "markdown",
   "id": "e7e9c8b1",
   "metadata": {},
   "source": [
    "### 设置float列的精度"
   ]
  },
  {
   "cell_type": "markdown",
   "id": "632c208c",
   "metadata": {},
   "source": [
    "对于float浮点型数据，pandas默认情况下只显示小数点后6位。我们可以通过预先设置display.precision让其只显示2位，避免后面重复操作。"
   ]
  },
  {
   "cell_type": "code",
   "execution_count": 9,
   "id": "1865b1cf",
   "metadata": {
    "ExecuteTime": {
     "end_time": "2023-12-14T09:48:46.555219Z",
     "start_time": "2023-12-14T09:48:46.551556Z"
    }
   },
   "outputs": [],
   "source": [
    "pd.set_option( 'display.precision',2)"
   ]
  },
  {
   "cell_type": "markdown",
   "id": "72fb1d8d",
   "metadata": {},
   "source": [
    "这个设置不影响底层数据，它只影响浮动列的显示。"
   ]
  },
  {
   "cell_type": "markdown",
   "id": "1971dd41",
   "metadata": {},
   "source": [
    "### 数字格式化显示"
   ]
  },
  {
   "cell_type": "markdown",
   "id": "31fd5460",
   "metadata": {},
   "source": [
    "pandas中有一个选项display.float_formatoption可以用来格式化任何浮点列。这个仅适用于浮点列，对于其他数据类型，必须将它们转换为浮点数才可以。"
   ]
  },
  {
   "cell_type": "markdown",
   "id": "a8cc2af7",
   "metadata": {},
   "source": [
    "例如 1200000 这样的大数字看起来很不方便，所以我们用逗号进行分隔。"
   ]
  },
  {
   "cell_type": "code",
   "execution_count": 10,
   "id": "3ec3f9dd",
   "metadata": {
    "ExecuteTime": {
     "end_time": "2023-12-14T09:50:00.230191Z",
     "start_time": "2023-12-14T09:50:00.226176Z"
    }
   },
   "outputs": [],
   "source": [
    "pd.set_option('display.float_format','{:,}'.format)"
   ]
  },
  {
   "cell_type": "markdown",
   "id": "bfa3195f",
   "metadata": {},
   "source": [
    "假如我们只关心小数点后的2位数字，我们可以这样设置格式化："
   ]
  },
  {
   "cell_type": "code",
   "execution_count": 11,
   "id": "e3f0e43b",
   "metadata": {
    "ExecuteTime": {
     "end_time": "2023-12-14T09:50:30.404164Z",
     "start_time": "2023-12-14T09:50:30.400291Z"
    }
   },
   "outputs": [],
   "source": [
    "pd.set_option('display.float_format',  '{:,.2f}'.format)"
   ]
  },
  {
   "cell_type": "markdown",
   "id": "60832aa6",
   "metadata": {},
   "source": [
    "如果我们要显示一个百分比的列，可以这样设置。"
   ]
  },
  {
   "cell_type": "code",
   "execution_count": 12,
   "id": "b0ed5080",
   "metadata": {
    "ExecuteTime": {
     "end_time": "2023-12-14T09:50:50.257199Z",
     "start_time": "2023-12-14T09:50:50.252138Z"
    }
   },
   "outputs": [],
   "source": [
    "pd.set_option('display.float_format', '{:.2f}%'.format)"
   ]
  },
  {
   "cell_type": "markdown",
   "id": "f822d9b6",
   "metadata": {},
   "source": [
    "### 更改绘图方法"
   ]
  },
  {
   "cell_type": "markdown",
   "id": "d17583f4",
   "metadata": {},
   "source": [
    "默认情况下，pandas使用matplotlib作为绘图后端。从 0.25 版本开始，pandas提供了使用不同后端选择，比如plotly，bokeh等第三方库，但前提是你需要先安装起来。"
   ]
  },
  {
   "cell_type": "markdown",
   "id": "5f0f4ec9",
   "metadata": {},
   "source": [
    "### 配置info()的输出"
   ]
  },
  {
   "cell_type": "markdown",
   "id": "84377311",
   "metadata": {},
   "source": [
    "pandas中我们经常要使用info()来快速查看DataFrame的数据情况。但是，info这个方法对要分析的最大列数是有默认限制的，并且如果数据集中有null，那么在大数据集计数统计时会非常慢。\n",
    "\n",
    "pandas提供了两种选择：\n",
    "\n",
    "- display.max_info_columns: 设置要分析的最大列数，默认为100。\n",
    "- display.max_info_rows: 设置计数null时的阈值，默认为1690785。"
   ]
  },
  {
   "cell_type": "markdown",
   "id": "410ff458",
   "metadata": {},
   "source": [
    "比如，在分析有 150 个特征的数据集时，我们可以设置display.max_info_columns为涵盖所有列的值，比如将其设置为 200："
   ]
  },
  {
   "cell_type": "code",
   "execution_count": 14,
   "id": "2fedb143",
   "metadata": {
    "ExecuteTime": {
     "end_time": "2023-12-14T09:54:02.249538Z",
     "start_time": "2023-12-14T09:54:02.246262Z"
    }
   },
   "outputs": [],
   "source": [
    "pd.set_option('display.max_info_columns', 200)"
   ]
  },
  {
   "cell_type": "markdown",
   "id": "d0ef80bf",
   "metadata": {},
   "source": [
    "只在行数不超过5时才计数null："
   ]
  },
  {
   "cell_type": "code",
   "execution_count": 15,
   "id": "6b8c98cf",
   "metadata": {
    "ExecuteTime": {
     "end_time": "2023-12-14T09:54:38.808921Z",
     "start_time": "2023-12-14T09:54:38.804942Z"
    }
   },
   "outputs": [],
   "source": [
    "pd.set_option('display.max_info_rows', 5)"
   ]
  },
  {
   "cell_type": "markdown",
   "id": "07a5ad8c",
   "metadata": {},
   "source": [
    "### 打印出当前设置并重置所有选项"
   ]
  },
  {
   "cell_type": "markdown",
   "id": "07ddc7ff",
   "metadata": {},
   "source": [
    "pd.describe_option()将打印出设置的描述及其当前值。"
   ]
  },
  {
   "cell_type": "code",
   "execution_count": 16,
   "id": "cdec817a",
   "metadata": {
    "ExecuteTime": {
     "end_time": "2023-12-14T09:55:17.142777Z",
     "start_time": "2023-12-14T09:55:17.138601Z"
    }
   },
   "outputs": [
    {
     "name": "stdout",
     "output_type": "stream",
     "text": [
      "compute.use_bottleneck : bool\n",
      "    Use the bottleneck library to accelerate if it is installed,\n",
      "    the default is True\n",
      "    Valid values: False,True\n",
      "    [default: True] [currently: True]\n",
      "compute.use_numba : bool\n",
      "    Use the numba engine option for select operations if it is installed,\n",
      "    the default is False\n",
      "    Valid values: False,True\n",
      "    [default: False] [currently: False]\n",
      "compute.use_numexpr : bool\n",
      "    Use the numexpr library to accelerate computation if it is installed,\n",
      "    the default is True\n",
      "    Valid values: False,True\n",
      "    [default: True] [currently: True]\n",
      "display.chop_threshold : float or None\n",
      "    if set to a float value, all float values smaller than the given threshold\n",
      "    will be displayed as exactly 0 by repr and friends.\n",
      "    [default: None] [currently: None]\n",
      "display.colheader_justify : 'left'/'right'\n",
      "    Controls the justification of column headers. used by DataFrameFormatter.\n",
      "    [default: right] [currently: right]\n",
      "display.date_dayfirst : boolean\n",
      "    When True, prints and parses dates with the day first, eg 20/01/2005\n",
      "    [default: False] [currently: False]\n",
      "display.date_yearfirst : boolean\n",
      "    When True, prints and parses dates with the year first, eg 2005/01/20\n",
      "    [default: False] [currently: False]\n",
      "display.encoding : str/unicode\n",
      "    Defaults to the detected encoding of the console.\n",
      "    Specifies the encoding to be used for strings returned by to_string,\n",
      "    these are generally strings meant to be displayed on the console.\n",
      "    [default: UTF-8] [currently: UTF-8]\n",
      "display.expand_frame_repr : boolean\n",
      "    Whether to print out the full DataFrame repr for wide DataFrames across\n",
      "    multiple lines, `max_columns` is still respected, but the output will\n",
      "    wrap-around across multiple \"pages\" if its width exceeds `display.width`.\n",
      "    [default: True] [currently: True]\n",
      "display.float_format : callable\n",
      "    The callable should accept a floating point number and return\n",
      "    a string with the desired format of the number. This is used\n",
      "    in some places like SeriesFormatter.\n",
      "    See formats.format.EngFormatter for an example.\n",
      "    [default: None] [currently: <built-in method format of str object at 0x00000214EE5521F0>]\n",
      "display.html.border : int\n",
      "    A ``border=value`` attribute is inserted in the ``<table>`` tag\n",
      "    for the DataFrame HTML repr.\n",
      "    [default: 1] [currently: 1]\n",
      "display.html.table_schema : boolean\n",
      "    Whether to publish a Table Schema representation for frontends\n",
      "    that support it.\n",
      "    (default: False)\n",
      "    [default: False] [currently: False]\n",
      "display.html.use_mathjax : boolean\n",
      "    When True, Jupyter notebook will process table contents using MathJax,\n",
      "    rendering mathematical expressions enclosed by the dollar symbol.\n",
      "    (default: True)\n",
      "    [default: True] [currently: True]\n",
      "display.large_repr : 'truncate'/'info'\n",
      "    For DataFrames exceeding max_rows/max_cols, the repr (and HTML repr) can\n",
      "    show a truncated table, or switch to the view from\n",
      "    df.info() (the behaviour in earlier versions of pandas).\n",
      "    [default: truncate] [currently: truncate]\n",
      "display.max_categories : int\n",
      "    This sets the maximum number of categories pandas should output when\n",
      "    printing out a `Categorical` or a Series of dtype \"category\".\n",
      "    [default: 8] [currently: 8]\n",
      "display.max_columns : int\n",
      "    If max_cols is exceeded, switch to truncate view. Depending on\n",
      "    `large_repr`, objects are either centrally truncated or printed as\n",
      "    a summary view. 'None' value means unlimited.\n",
      "\n",
      "    In case python/IPython is running in a terminal and `large_repr`\n",
      "    equals 'truncate' this can be set to 0 or None and pandas will auto-detect\n",
      "    the width of the terminal and print a truncated object which fits\n",
      "    the screen width. The IPython notebook, IPython qtconsole, or IDLE\n",
      "    do not run in a terminal and hence it is not possible to do\n",
      "    correct auto-detection and defaults to 20.\n",
      "    [default: 20] [currently: 30]\n",
      "display.max_colwidth : int or None\n",
      "    The maximum width in characters of a column in the repr of\n",
      "    a pandas data structure. When the column overflows, a \"...\"\n",
      "    placeholder is embedded in the output. A 'None' value means unlimited.\n",
      "    [default: 50] [currently: 500]\n",
      "display.max_dir_items : int\n",
      "    The number of items that will be added to `dir(...)`. 'None' value means\n",
      "    unlimited. Because dir is cached, changing this option will not immediately\n",
      "    affect already existing dataframes until a column is deleted or added.\n",
      "\n",
      "    This is for instance used to suggest columns from a dataframe to tab\n",
      "    completion.\n",
      "    [default: 100] [currently: 100]\n",
      "display.max_info_columns : int\n",
      "    max_info_columns is used in DataFrame.info method to decide if\n",
      "    per column information will be printed.\n",
      "    [default: 100] [currently: 200]\n",
      "display.max_info_rows : int or None\n",
      "    df.info() will usually show null-counts for each column.\n",
      "    For large frames this can be quite slow. max_info_rows and max_info_cols\n",
      "    limit this null check only to frames with smaller dimensions than\n",
      "    specified.\n",
      "    [default: 1690785] [currently: 5]\n",
      "display.max_rows : int\n",
      "    If max_rows is exceeded, switch to truncate view. Depending on\n",
      "    `large_repr`, objects are either centrally truncated or printed as\n",
      "    a summary view. 'None' value means unlimited.\n",
      "\n",
      "    In case python/IPython is running in a terminal and `large_repr`\n",
      "    equals 'truncate' this can be set to 0 and pandas will auto-detect\n",
      "    the height of the terminal and print a truncated object which fits\n",
      "    the screen height. The IPython notebook, IPython qtconsole, or\n",
      "    IDLE do not run in a terminal and hence it is not possible to do\n",
      "    correct auto-detection.\n",
      "    [default: 60] [currently: 60]\n",
      "display.max_seq_items : int or None\n",
      "    When pretty-printing a long sequence, no more then `max_seq_items`\n",
      "    will be printed. If items are omitted, they will be denoted by the\n",
      "    addition of \"...\" to the resulting string.\n",
      "\n",
      "    If set to None, the number of items to be printed is unlimited.\n",
      "    [default: 100] [currently: 100]\n",
      "display.memory_usage : bool, string or None\n",
      "    This specifies if the memory usage of a DataFrame should be displayed when\n",
      "    df.info() is called. Valid values True,False,'deep'\n",
      "    [default: True] [currently: True]\n",
      "display.min_rows : int\n",
      "    The numbers of rows to show in a truncated view (when `max_rows` is\n",
      "    exceeded). Ignored when `max_rows` is set to None or 0. When set to\n",
      "    None, follows the value of `max_rows`.\n",
      "    [default: 10] [currently: 10]\n",
      "display.multi_sparse : boolean\n",
      "    \"sparsify\" MultiIndex display (don't display repeated\n",
      "    elements in outer levels within groups)\n",
      "    [default: True] [currently: True]\n",
      "display.notebook_repr_html : boolean\n",
      "    When True, IPython notebook will use html representation for\n",
      "    pandas objects (if it is available).\n",
      "    [default: True] [currently: True]\n",
      "display.pprint_nest_depth : int\n",
      "    Controls the number of nested levels to process when pretty-printing\n",
      "    [default: 3] [currently: 3]\n",
      "display.precision : int\n",
      "    Floating point output precision in terms of number of places after the\n",
      "    decimal, for regular formatting as well as scientific notation. Similar\n",
      "    to ``precision`` in :meth:`numpy.set_printoptions`.\n",
      "    [default: 6] [currently: 2]\n",
      "display.show_dimensions : boolean or 'truncate'\n",
      "    Whether to print out dimensions at the end of DataFrame repr.\n",
      "    If 'truncate' is specified, only print out the dimensions if the\n",
      "    frame is truncated (e.g. not display all rows and/or columns)\n",
      "    [default: truncate] [currently: truncate]\n",
      "display.unicode.ambiguous_as_wide : boolean\n",
      "    Whether to use the Unicode East Asian Width to calculate the display text\n",
      "    width.\n",
      "    Enabling this may affect to the performance (default: False)\n",
      "    [default: False] [currently: False]\n",
      "display.unicode.east_asian_width : boolean\n",
      "    Whether to use the Unicode East Asian Width to calculate the display text\n",
      "    width.\n",
      "    Enabling this may affect to the performance (default: False)\n",
      "    [default: False] [currently: False]\n",
      "display.width : int\n",
      "    Width of the display in characters. In case python/IPython is running in\n",
      "    a terminal this can be set to None and pandas will correctly auto-detect\n",
      "    the width.\n",
      "    Note that the IPython notebook, IPython qtconsole, or IDLE do not run in a\n",
      "    terminal and hence it is not possible to correctly detect the width.\n",
      "    [default: 80] [currently: 80]\n",
      "future.infer_string Whether to infer sequence of str objects as pyarrow string dtype, which will be the default in pandas 3.0 (at which point this option will be deprecated).\n",
      "    [default: False] [currently: False]\n",
      "io.excel.ods.reader : string\n",
      "    The default Excel reader engine for 'ods' files. Available options:\n",
      "    auto, odf.\n",
      "    [default: auto] [currently: auto]\n",
      "io.excel.ods.writer : string\n",
      "    The default Excel writer engine for 'ods' files. Available options:\n",
      "    auto, odf.\n",
      "    [default: auto] [currently: auto]\n",
      "io.excel.xls.reader : string\n",
      "    The default Excel reader engine for 'xls' files. Available options:\n",
      "    auto, xlrd.\n",
      "    [default: auto] [currently: auto]\n",
      "io.excel.xlsb.reader : string\n",
      "    The default Excel reader engine for 'xlsb' files. Available options:\n",
      "    auto, pyxlsb.\n",
      "    [default: auto] [currently: auto]\n",
      "io.excel.xlsm.reader : string\n",
      "    The default Excel reader engine for 'xlsm' files. Available options:\n",
      "    auto, xlrd, openpyxl.\n",
      "    [default: auto] [currently: auto]\n",
      "io.excel.xlsm.writer : string\n",
      "    The default Excel writer engine for 'xlsm' files. Available options:\n",
      "    auto, openpyxl.\n",
      "    [default: auto] [currently: auto]\n",
      "io.excel.xlsx.reader : string\n",
      "    The default Excel reader engine for 'xlsx' files. Available options:\n",
      "    auto, xlrd, openpyxl.\n",
      "    [default: auto] [currently: auto]\n",
      "io.excel.xlsx.writer : string\n",
      "    The default Excel writer engine for 'xlsx' files. Available options:\n",
      "    auto, openpyxl, xlsxwriter.\n",
      "    [default: auto] [currently: auto]\n",
      "io.hdf.default_format : format\n",
      "    default format writing format, if None, then\n",
      "    put will default to 'fixed' and append will default to 'table'\n",
      "    [default: None] [currently: None]\n",
      "io.hdf.dropna_table : boolean\n",
      "    drop ALL nan rows when appending to a table\n",
      "    [default: False] [currently: False]\n",
      "io.parquet.engine : string\n",
      "    The default parquet reader/writer engine. Available options:\n",
      "    'auto', 'pyarrow', 'fastparquet', the default is 'auto'\n",
      "    [default: auto] [currently: auto]\n",
      "io.sql.engine : string\n",
      "    The default sql reader/writer engine. Available options:\n",
      "    'auto', 'sqlalchemy', the default is 'auto'\n",
      "    [default: auto] [currently: auto]\n",
      "mode.chained_assignment : string\n",
      "    Raise an exception, warn, or no action if trying to use chained assignment,\n",
      "    The default is warn\n",
      "    [default: warn] [currently: warn]\n",
      "mode.copy_on_write : bool\n",
      "    Use new copy-view behaviour using Copy-on-Write. Defaults to False,\n",
      "    unless overridden by the 'PANDAS_COPY_ON_WRITE' environment variable\n",
      "    (if set to \"1\" for True, needs to be set before pandas is imported).\n",
      "    [default: False] [currently: False]\n",
      "mode.data_manager : string\n",
      "    Internal data manager type; can be \"block\" or \"array\". Defaults to \"block\",\n",
      "    unless overridden by the 'PANDAS_DATA_MANAGER' environment variable (needs\n",
      "    to be set before pandas is imported).\n",
      "    [default: block] [currently: block]\n",
      "mode.sim_interactive : boolean\n",
      "    Whether to simulate interactive mode for purposes of testing\n",
      "    [default: False] [currently: False]\n",
      "mode.string_storage : string\n",
      "    The default storage for StringDtype. This option is ignored if\n",
      "    ``future.infer_string`` is set to True.\n",
      "    [default: python] [currently: python]\n",
      "mode.use_inf_as_na : boolean\n",
      "    True means treat None, NaN, INF, -INF as NA (old way),\n",
      "    False means None and NaN are null, but INF, -INF are not NA\n",
      "    (new way).\n",
      "\n",
      "    This option is deprecated in pandas 2.1.0 and will be removed in 3.0.\n",
      "    [default: False] [currently: False]\n",
      "    (Deprecated, use `` instead.)\n",
      "plotting.backend : str\n",
      "    The plotting backend to use. The default value is \"matplotlib\", the\n",
      "    backend provided with pandas. Other backends can be specified by\n",
      "    providing the name of the module that implements the backend.\n",
      "    [default: matplotlib] [currently: matplotlib]\n",
      "plotting.matplotlib.register_converters : bool or 'auto'.\n",
      "    Whether to register converters with matplotlib's units registry for\n",
      "    dates, times, datetimes, and Periods. Toggling to False will remove\n",
      "    the converters, restoring any converters that pandas overwrote.\n",
      "    [default: auto] [currently: auto]\n",
      "styler.format.decimal : str\n",
      "    The character representation for the decimal separator for floats and complex.\n",
      "    [default: .] [currently: .]\n",
      "styler.format.escape : str, optional\n",
      "    Whether to escape certain characters according to the given context; html or latex.\n",
      "    [default: None] [currently: None]\n",
      "styler.format.formatter : str, callable, dict, optional\n",
      "    A formatter object to be used as default within ``Styler.format``.\n",
      "    [default: None] [currently: None]\n",
      "styler.format.na_rep : str, optional\n",
      "    The string representation for values identified as missing.\n",
      "    [default: None] [currently: None]\n",
      "styler.format.precision : int\n",
      "    The precision for floats and complex numbers.\n",
      "    [default: 6] [currently: 6]\n",
      "styler.format.thousands : str, optional\n",
      "    The character representation for thousands separator for floats, int and complex.\n",
      "    [default: None] [currently: None]\n",
      "styler.html.mathjax : bool\n",
      "    If False will render special CSS classes to table attributes that indicate Mathjax\n",
      "    will not be used in Jupyter Notebook.\n",
      "    [default: True] [currently: True]\n",
      "styler.latex.environment : str\n",
      "    The environment to replace ``\\begin{table}``. If \"longtable\" is used results\n",
      "    in a specific longtable environment format.\n",
      "    [default: None] [currently: None]\n",
      "styler.latex.hrules : bool\n",
      "    Whether to add horizontal rules on top and bottom and below the headers.\n",
      "    [default: False] [currently: False]\n",
      "styler.latex.multicol_align : {\"r\", \"c\", \"l\", \"naive-l\", \"naive-r\"}\n",
      "    The specifier for horizontal alignment of sparsified LaTeX multicolumns. Pipe\n",
      "    decorators can also be added to non-naive values to draw vertical\n",
      "    rules, e.g. \"\\|r\" will draw a rule on the left side of right aligned merged cells.\n",
      "    [default: r] [currently: r]\n",
      "styler.latex.multirow_align : {\"c\", \"t\", \"b\"}\n",
      "    The specifier for vertical alignment of sparsified LaTeX multirows.\n",
      "    [default: c] [currently: c]\n",
      "styler.render.encoding : str\n",
      "    The encoding used for output HTML and LaTeX files.\n",
      "    [default: utf-8] [currently: utf-8]\n",
      "styler.render.max_columns : int, optional\n",
      "    The maximum number of columns that will be rendered. May still be reduced to\n",
      "    satisfy ``max_elements``, which takes precedence.\n",
      "    [default: None] [currently: None]\n",
      "styler.render.max_elements : int\n",
      "    The maximum number of data-cell (<td>) elements that will be rendered before\n",
      "    trimming will occur over columns, rows or both if needed.\n",
      "    [default: 262144] [currently: 262144]\n",
      "styler.render.max_rows : int, optional\n",
      "    The maximum number of rows that will be rendered. May still be reduced to\n",
      "    satisfy ``max_elements``, which takes precedence.\n",
      "    [default: None] [currently: None]\n",
      "styler.render.repr : str\n",
      "    Determine which output to use in Jupyter Notebook in {\"html\", \"latex\"}.\n",
      "    [default: html] [currently: html]\n",
      "styler.sparse.columns : bool\n",
      "    Whether to sparsify the display of hierarchical columns. Setting to False will\n",
      "    display each explicit level element in a hierarchical key for each column.\n",
      "    [default: True] [currently: True]\n",
      "styler.sparse.index : bool\n",
      "    Whether to sparsify the display of a hierarchical index. Setting to False will\n",
      "    display each explicit level element in a hierarchical key for each row.\n",
      "    [default: True] [currently: True]\n"
     ]
    }
   ],
   "source": [
    "pd.describe_option()"
   ]
  },
  {
   "cell_type": "markdown",
   "id": "cb0c2354",
   "metadata": {},
   "source": [
    "### 全部重置"
   ]
  },
  {
   "cell_type": "code",
   "execution_count": 17,
   "id": "65adad9b",
   "metadata": {
    "ExecuteTime": {
     "end_time": "2023-12-14T09:55:52.244058Z",
     "start_time": "2023-12-14T09:55:51.965262Z"
    }
   },
   "outputs": [
    {
     "name": "stderr",
     "output_type": "stream",
     "text": [
      "C:\\Users\\IKAS\\AppData\\Local\\Temp\\ipykernel_34000\\2786130087.py:1: FutureWarning: use_inf_as_na option is deprecated and will be removed in a future version. Convert inf values to NaN before operating instead.\n",
      "  pd.reset_option('all')\n"
     ]
    }
   ],
   "source": [
    "pd.reset_option('all')"
   ]
  },
  {
   "cell_type": "markdown",
   "id": "c43d4952",
   "metadata": {},
   "source": [
    "# 滑动窗口"
   ]
  },
  {
   "cell_type": "markdown",
   "id": "35b92253",
   "metadata": {},
   "source": [
    "提供滑动窗口计算，可用于时间序列（时间和日期）数据  \n",
    "`DataFrame.rolling(window, min_periods=None, center=False, win_type=None, on=None, axis=0, closed=None, method='single')`\n",
    "\n",
    "参数：\n",
    "\n",
    "- **window**：int, offset, or BaseIndexer subclass\n",
    "移动窗口的大小，如果是整数，代表每个窗口覆盖的固定数量；如果是offset（pandas时间序列），代表每个窗口的时间段，每个窗口的大小将根据时间段中包含的观察值而变化，仅对datetimelike索引有效。\n",
    "- **min_periods**：int, default None\n",
    "窗口计算值要求至少有min_periods个观测值。窗口由时间类型指定，则min_periods默认为1，窗口为整数，则min_periods默认为窗口大小\n",
    "- **center**：bool, default False\n",
    "是否将窗口中间索引设为窗口计算后的标签\n",
    "- **win_type**：str, default None\n",
    "观测值的权重分布。如果为None，则所有点的权重均相等。如果是字符串，要求是 scipy.signal window function函数\n",
    "- **on**：str, optional\n",
    "对于 DataFrame，计算滚动窗口所依照的列标签或索引级别，而不是 DataFrame 的索引\n",
    "- **axis**：int or str, default 0\n",
    "如果是0或’index’，按行滚动；如果是1或’columns’，按列滚动\n",
    "- **closed**：str, default None\n",
    "‘right’：窗口中的第一个点将从计算中排除；‘left‘：窗口中的最后一个点将从计算中排除；‘both’：窗口中没有点将从计算中排除；‘neither’：窗口中的第一个点和最后一个点将从计算中排除；默认’right’"
   ]
  },
  {
   "cell_type": "code",
   "execution_count": 2,
   "id": "438d403e",
   "metadata": {
    "ExecuteTime": {
     "end_time": "2024-07-17T09:50:14.322845Z",
     "start_time": "2024-07-17T09:50:14.310094Z"
    }
   },
   "outputs": [
    {
     "data": {
      "text/html": [
       "<div>\n",
       "<style scoped>\n",
       "    .dataframe tbody tr th:only-of-type {\n",
       "        vertical-align: middle;\n",
       "    }\n",
       "\n",
       "    .dataframe tbody tr th {\n",
       "        vertical-align: top;\n",
       "    }\n",
       "\n",
       "    .dataframe thead th {\n",
       "        text-align: right;\n",
       "    }\n",
       "</style>\n",
       "<table border=\"1\" class=\"dataframe\">\n",
       "  <thead>\n",
       "    <tr style=\"text-align: right;\">\n",
       "      <th></th>\n",
       "      <th>B</th>\n",
       "    </tr>\n",
       "  </thead>\n",
       "  <tbody>\n",
       "    <tr>\n",
       "      <th>0</th>\n",
       "      <td>0</td>\n",
       "    </tr>\n",
       "    <tr>\n",
       "      <th>1</th>\n",
       "      <td>1</td>\n",
       "    </tr>\n",
       "    <tr>\n",
       "      <th>2</th>\n",
       "      <td>2</td>\n",
       "    </tr>\n",
       "    <tr>\n",
       "      <th>3</th>\n",
       "      <td>3</td>\n",
       "    </tr>\n",
       "    <tr>\n",
       "      <th>4</th>\n",
       "      <td>4</td>\n",
       "    </tr>\n",
       "  </tbody>\n",
       "</table>\n",
       "</div>"
      ],
      "text/plain": [
       "   B\n",
       "0  0\n",
       "1  1\n",
       "2  2\n",
       "3  3\n",
       "4  4"
      ]
     },
     "execution_count": 2,
     "metadata": {},
     "output_type": "execute_result"
    }
   ],
   "source": [
    "df = pd.DataFrame({'B': [i for i in range(5)]})\n",
    "df"
   ]
  },
  {
   "cell_type": "code",
   "execution_count": 3,
   "id": "30073daa",
   "metadata": {
    "ExecuteTime": {
     "end_time": "2024-07-17T09:50:43.082704Z",
     "start_time": "2024-07-17T09:50:43.075452Z"
    }
   },
   "outputs": [
    {
     "data": {
      "text/html": [
       "<div>\n",
       "<style scoped>\n",
       "    .dataframe tbody tr th:only-of-type {\n",
       "        vertical-align: middle;\n",
       "    }\n",
       "\n",
       "    .dataframe tbody tr th {\n",
       "        vertical-align: top;\n",
       "    }\n",
       "\n",
       "    .dataframe thead th {\n",
       "        text-align: right;\n",
       "    }\n",
       "</style>\n",
       "<table border=\"1\" class=\"dataframe\">\n",
       "  <thead>\n",
       "    <tr style=\"text-align: right;\">\n",
       "      <th></th>\n",
       "      <th>B</th>\n",
       "    </tr>\n",
       "  </thead>\n",
       "  <tbody>\n",
       "    <tr>\n",
       "      <th>0</th>\n",
       "      <td>NaN</td>\n",
       "    </tr>\n",
       "    <tr>\n",
       "      <th>1</th>\n",
       "      <td>1.0</td>\n",
       "    </tr>\n",
       "    <tr>\n",
       "      <th>2</th>\n",
       "      <td>3.0</td>\n",
       "    </tr>\n",
       "    <tr>\n",
       "      <th>3</th>\n",
       "      <td>5.0</td>\n",
       "    </tr>\n",
       "    <tr>\n",
       "      <th>4</th>\n",
       "      <td>7.0</td>\n",
       "    </tr>\n",
       "  </tbody>\n",
       "</table>\n",
       "</div>"
      ],
      "text/plain": [
       "     B\n",
       "0  NaN\n",
       "1  1.0\n",
       "2  3.0\n",
       "3  5.0\n",
       "4  7.0"
      ]
     },
     "execution_count": 3,
     "metadata": {},
     "output_type": "execute_result"
    }
   ],
   "source": [
    "df.rolling(window=2).sum() # 前两个点的总和"
   ]
  },
  {
   "cell_type": "code",
   "execution_count": null,
   "id": "18c30dae",
   "metadata": {},
   "outputs": [],
   "source": []
  }
 ],
 "metadata": {
  "hide_input": false,
  "kernelspec": {
   "display_name": "Python 3 (ipykernel)",
   "language": "python",
   "name": "python3"
  },
  "language_info": {
   "codemirror_mode": {
    "name": "ipython",
    "version": 3
   },
   "file_extension": ".py",
   "mimetype": "text/x-python",
   "name": "python",
   "nbconvert_exporter": "python",
   "pygments_lexer": "ipython3",
   "version": "3.11.5"
  },
  "nbTranslate": {
   "displayLangs": [
    "*"
   ],
   "hotkey": "alt-t",
   "langInMainMenu": true,
   "sourceLang": "en",
   "targetLang": "fr",
   "useGoogleTranslate": true
  },
  "toc": {
   "base_numbering": 1,
   "nav_menu": {},
   "number_sections": true,
   "sideBar": true,
   "skip_h1_title": false,
   "title_cell": "Table of Contents",
   "title_sidebar": "Contents",
   "toc_cell": false,
   "toc_position": {
    "height": "calc(100% - 180px)",
    "left": "10px",
    "top": "150px",
    "width": "240.938px"
   },
   "toc_section_display": true,
   "toc_window_display": true
  },
  "varInspector": {
   "cols": {
    "lenName": 16,
    "lenType": 16,
    "lenVar": 40
   },
   "kernels_config": {
    "python": {
     "delete_cmd_postfix": "",
     "delete_cmd_prefix": "del ",
     "library": "var_list.py",
     "varRefreshCmd": "print(var_dic_list())"
    },
    "r": {
     "delete_cmd_postfix": ") ",
     "delete_cmd_prefix": "rm(",
     "library": "var_list.r",
     "varRefreshCmd": "cat(var_dic_list()) "
    }
   },
   "types_to_exclude": [
    "module",
    "function",
    "builtin_function_or_method",
    "instance",
    "_Feature"
   ],
   "window_display": false
  }
 },
 "nbformat": 4,
 "nbformat_minor": 5
}
