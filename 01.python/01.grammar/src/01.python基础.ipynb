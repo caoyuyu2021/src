{
 "cells": [
  {
   "cell_type": "markdown",
   "id": "eb6e173e",
   "metadata": {},
   "source": [
    "<font face=\"微软雅黑\" color=green size=5>Python基础</font>"
   ]
  },
  {
   "cell_type": "markdown",
   "id": "ea41624e",
   "metadata": {},
   "source": [
    "# 基本数据类型"
   ]
  },
  {
   "cell_type": "markdown",
   "id": "b66259f5",
   "metadata": {},
   "source": [
    "python基本数据类型分为数字和组，数字包括：整型int()、浮点型float()、布尔型bool()、复数complex()。组包括：序列（字符串str()、列表list()、元组tuple()）、集合set()、字典dict()。"
   ]
  },
  {
   "cell_type": "markdown",
   "id": "b65c9c6c",
   "metadata": {},
   "source": [
    "## 数字"
   ]
  },
  {
   "cell_type": "code",
   "execution_count": 2,
   "id": "23dc17e6",
   "metadata": {
    "ExecuteTime": {
     "end_time": "2022-05-31T12:02:36.339293Z",
     "start_time": "2022-05-31T12:02:36.315697Z"
    }
   },
   "outputs": [
    {
     "data": {
      "text/plain": [
       "int"
      ]
     },
     "execution_count": 2,
     "metadata": {},
     "output_type": "execute_result"
    }
   ],
   "source": [
    "type(1) #查看数据类型"
   ]
  },
  {
   "cell_type": "markdown",
   "id": "766a020a",
   "metadata": {},
   "source": [
    "在除法中A/B得到的是float类型，而A//B得到的是int类型。"
   ]
  },
  {
   "cell_type": "markdown",
   "id": "5d63e85b",
   "metadata": {},
   "source": [
    "二进制表示：0b+数字；八进制表示：0o+数字；十六进制表示：0x+数字，其他进制转二进制bin()，其他进制转十进制int()，其他进制转十六进制hex()，其他进制转八进制oct()。"
   ]
  },
  {
   "cell_type": "code",
   "execution_count": 3,
   "id": "dbd10eb5",
   "metadata": {
    "ExecuteTime": {
     "end_time": "2022-05-31T12:07:32.052633Z",
     "start_time": "2022-05-31T12:07:32.043847Z"
    }
   },
   "outputs": [
    {
     "data": {
      "text/plain": [
       "1"
      ]
     },
     "execution_count": 3,
     "metadata": {},
     "output_type": "execute_result"
    }
   ],
   "source": [
    "int(True)"
   ]
  },
  {
   "cell_type": "code",
   "execution_count": 4,
   "id": "a4967503",
   "metadata": {
    "ExecuteTime": {
     "end_time": "2022-05-31T12:07:45.532908Z",
     "start_time": "2022-05-31T12:07:45.523898Z"
    }
   },
   "outputs": [
    {
     "data": {
      "text/plain": [
       "0"
      ]
     },
     "execution_count": 4,
     "metadata": {},
     "output_type": "execute_result"
    }
   ],
   "source": [
    "int(False)"
   ]
  },
  {
   "cell_type": "code",
   "execution_count": 2,
   "id": "597780f0",
   "metadata": {
    "ExecuteTime": {
     "end_time": "2024-07-29T02:38:10.966562Z",
     "start_time": "2024-07-29T02:38:10.961240Z"
    }
   },
   "outputs": [
    {
     "data": {
      "text/plain": [
       "0"
      ]
     },
     "execution_count": 2,
     "metadata": {},
     "output_type": "execute_result"
    }
   ],
   "source": [
    "int(0.9) # int代表向下取整"
   ]
  },
  {
   "cell_type": "markdown",
   "id": "52e62e7b",
   "metadata": {},
   "source": [
    "int8  byte  1个字节           \n",
    "int16 short 2个字节         \n",
    "int32 int  4个字节          \n",
    "int64 long 8个字节  \n",
    "uint 无符号 表正数  \n",
    "float   半精度  \n",
    "float32 单精度  \n",
    "float64 双精度  "
   ]
  },
  {
   "cell_type": "markdown",
   "id": "09ba8237",
   "metadata": {},
   "source": [
    "bool类型表示真假，bool(x):非零数字、字符均为True，None、零和空值均为False。"
   ]
  },
  {
   "cell_type": "markdown",
   "id": "b5a610bf",
   "metadata": {},
   "source": [
    "## 字符串"
   ]
  },
  {
   "cell_type": "markdown",
   "id": "009960ad",
   "metadata": {},
   "source": [
    "### 基本概念"
   ]
  },
  {
   "cell_type": "markdown",
   "id": "41f09f92",
   "metadata": {},
   "source": [
    "单引号''，双引号\"\"，三引号''''''，字符串过长可用三引号，三引号内可回车。"
   ]
  },
  {
   "cell_type": "markdown",
   "id": "161ede13",
   "metadata": {},
   "source": [
    "字符串\\*n：表示将字符串重复n次。  \n",
    "字符串[n]：表示提取字符串中索引为n的字符，空格、小数点都算字符，n为负数时，从后往前提取字符，-1为提取最后一个字符，索引从0开始。  \n",
    "字符串[n:m]：表示提取索引n到m的字符（不包括m），若m不写，则提取索引n之后的所有字符，若n不写，则提取从头到索引m的字符（不包括m）。  "
   ]
  },
  {
   "cell_type": "code",
   "execution_count": 5,
   "id": "d2c642b5",
   "metadata": {
    "ExecuteTime": {
     "end_time": "2022-05-31T12:32:35.914609Z",
     "start_time": "2022-05-31T12:32:35.897532Z"
    }
   },
   "outputs": [
    {
     "data": {
      "text/plain": [
       "['In',\n",
       " 'NamespaceMagics',\n",
       " 'Out',\n",
       " '_',\n",
       " '_2',\n",
       " '_3',\n",
       " '_4',\n",
       " '_Jupyter',\n",
       " '__',\n",
       " '___',\n",
       " '__builtin__',\n",
       " '__builtins__',\n",
       " '__doc__',\n",
       " '__loader__',\n",
       " '__name__',\n",
       " '__package__',\n",
       " '__spec__',\n",
       " '_dh',\n",
       " '_getshapeof',\n",
       " '_getsizeof',\n",
       " '_i',\n",
       " '_i1',\n",
       " '_i2',\n",
       " '_i3',\n",
       " '_i4',\n",
       " '_i5',\n",
       " '_ih',\n",
       " '_ii',\n",
       " '_iii',\n",
       " '_nms',\n",
       " '_oh',\n",
       " 'exit',\n",
       " 'get_ipython',\n",
       " 'getsizeof',\n",
       " 'json',\n",
       " 'np',\n",
       " 'quit',\n",
       " 'var_dic_list']"
      ]
     },
     "execution_count": 5,
     "metadata": {},
     "output_type": "execute_result"
    }
   ],
   "source": [
    "dir() #不带参数时，返回当前范围内的变量、方法和定义的类型列表；带参数时，返回参数的属性、方法列表"
   ]
  },
  {
   "cell_type": "markdown",
   "id": "cdf083d6",
   "metadata": {},
   "source": [
    "字符串格式化：  \n",
    "%c 格式化字符串及其ASCII码  \n",
    "%s 格式化字符串  \n",
    "%d 格式化整数  \n",
    "%f 格式化定点数，可指定小数点的精度，%m.nf 输出m位，其中小数点后n位；%.nf 小数点后n位。  \n",
    "%e 用科学计数法格式化定点数  \n",
    "print() 格式化输出"
   ]
  },
  {
   "cell_type": "code",
   "execution_count": 1,
   "id": "28c47bdf",
   "metadata": {
    "ExecuteTime": {
     "end_time": "2022-06-02T01:08:08.476298Z",
     "start_time": "2022-06-02T01:08:08.451268Z"
    }
   },
   "outputs": [
    {
     "name": "stdout",
     "output_type": "stream",
     "text": [
      "1的2倍是：2\n"
     ]
    }
   ],
   "source": [
    "a = 1\n",
    "b = 2\n",
    "print(\"%d的2倍是：%d\" %(a, b))"
   ]
  },
  {
   "cell_type": "code",
   "execution_count": 4,
   "id": "8230da00",
   "metadata": {
    "ExecuteTime": {
     "end_time": "2022-06-02T01:11:05.981516Z",
     "start_time": "2022-06-02T01:11:05.965944Z"
    }
   },
   "outputs": [
    {
     "name": "stdout",
     "output_type": "stream",
     "text": [
      "I love Fishc.com\n"
     ]
    }
   ],
   "source": [
    "print(\"{0} love {1}.{2}\".format(\"I\", \"Fishc\",\"com\")) #位置参数"
   ]
  },
  {
   "cell_type": "code",
   "execution_count": 6,
   "id": "b4544611",
   "metadata": {
    "ExecuteTime": {
     "end_time": "2022-06-02T01:11:46.861870Z",
     "start_time": "2022-06-02T01:11:46.832299Z"
    }
   },
   "outputs": [
    {
     "name": "stdout",
     "output_type": "stream",
     "text": [
      "I love Fishc.com\n"
     ]
    }
   ],
   "source": [
    "print(\"{a} love {b}.{c}\".format(a = \"I\", b = \"Fishc\", c = \"com\")) #关键字参数"
   ]
  },
  {
   "cell_type": "code",
   "execution_count": 7,
   "id": "c0dddf26",
   "metadata": {
    "ExecuteTime": {
     "end_time": "2022-06-02T01:13:07.792553Z",
     "start_time": "2022-06-02T01:13:07.784358Z"
    }
   },
   "outputs": [
    {
     "name": "stdout",
     "output_type": "stream",
     "text": [
      "1的2倍是：2\n"
     ]
    }
   ],
   "source": [
    "a = 1\n",
    "b = 2\n",
    "print(\"{0:d}的2倍是：{1:d}\".format(a, b)) #冒号后面是格式，花括号里不写百分号，格式也可以写成{0:.2f}保留两位小数"
   ]
  },
  {
   "cell_type": "markdown",
   "id": "a18662ea",
   "metadata": {},
   "source": [
    "原始字符串：只需要在字符串前加一个英文字母r即可。"
   ]
  },
  {
   "cell_type": "code",
   "execution_count": 8,
   "id": "0e8a36b3",
   "metadata": {
    "ExecuteTime": {
     "end_time": "2022-06-02T01:15:26.952772Z",
     "start_time": "2022-06-02T01:15:26.930766Z"
    }
   },
   "outputs": [
    {
     "name": "stdout",
     "output_type": "stream",
     "text": [
      "[1, 2, 3, 4] "
     ]
    }
   ],
   "source": [
    "x = [1,2,3,4]\n",
    "print(x, end = \" \")#表示将x按行打印，中间加逗号表示按行逗号打印"
   ]
  },
  {
   "cell_type": "code",
   "execution_count": 9,
   "id": "a7e5fe61",
   "metadata": {
    "ExecuteTime": {
     "end_time": "2022-06-02T01:21:25.440814Z",
     "start_time": "2022-06-02T01:21:25.426268Z"
    }
   },
   "outputs": [
    {
     "name": "stdout",
     "output_type": "stream",
     "text": [
      "a-b-c\n"
     ]
    }
   ],
   "source": [
    "str = \"-\" #分隔符\n",
    "seq = ('a', 'b', 'c') #要链接的元素列表，字符串，元组，字典\n",
    "print(str.join(seq)) #以str作为分隔符，将seq所有元素合并成一个新的字符串\n",
    "#join() 将序列中的元素以指定的字符连接生成一个新的字符串"
   ]
  },
  {
   "cell_type": "code",
   "execution_count": 10,
   "id": "3f40eb3e",
   "metadata": {
    "ExecuteTime": {
     "end_time": "2022-06-02T01:21:45.176655Z",
     "start_time": "2022-06-02T01:21:45.168658Z"
    }
   },
   "outputs": [
    {
     "name": "stdout",
     "output_type": "stream",
     "text": [
      "abc\n"
     ]
    }
   ],
   "source": [
    "print(''.join(seq))"
   ]
  },
  {
   "cell_type": "markdown",
   "id": "5f5f9da0",
   "metadata": {},
   "source": [
    "### 转义字符"
   ]
  },
  {
   "cell_type": "markdown",
   "id": "78aa695e",
   "metadata": {},
   "source": [
    "转义字符：表示无法看见的字符，与语言本身语法有冲突的字符。  \n",
    "\\n 换行  \\' 单引号  \\t 横向制表符  \\r 回车  \\ 将\\后面的转换成字符。\n",
    "\n",
    "\\n : 换行符（newline），另起一行，对应ASCII值10（缩写：LF）。\n",
    "\n",
    "\\r : 回车符（return），回到一行的开头，对应ASCII值13（缩写：CR）。\n",
    "\n",
    "'\\r'是回车，'\\n'是换行，前者使光标到行首，后者使光标下移一格。通常用的Enter是两个加起来。\n",
    "\n",
    "有的编辑器只认\\r\\n，有的编辑器则两个都认。所以要想通用的话，最好用\\r\\n换行。\n",
    "\n",
    "在微软的MS-DOS和Windows中，使用“回车CR('\\r')”和“换行LF('\\n')”两个字符作为换行符;  \n",
    "Windows系统里面，每行结尾是 回车+换行(CR+LF)，即“\\r\\n”；  \n",
    "Unix系统里，每行结尾只有 换行CR，即“\\n”；  \n",
    "Mac系统里，每行结尾是 回车CR 即'\\r'；  \n",
    "所以我们平时编写文件的回车符应该确切来说叫做回车换行符；  "
   ]
  },
  {
   "cell_type": "markdown",
   "id": "d4637977",
   "metadata": {},
   "source": [
    "### 字符串前缀"
   ]
  },
  {
   "cell_type": "markdown",
   "id": "65920a17",
   "metadata": {},
   "source": [
    "**f前缀**：表示该字符串是一个格式化字符串（formatted string）。格式化字符串可以包含占位符（placeholder），并在字符串中用大括号 {} 包围。当字符串被执行时，占位符将被替换为相应的值。"
   ]
  },
  {
   "cell_type": "code",
   "execution_count": 17,
   "id": "cdc81f2c",
   "metadata": {
    "ExecuteTime": {
     "end_time": "2024-07-30T03:36:53.526955Z",
     "start_time": "2024-07-30T03:36:53.522540Z"
    }
   },
   "outputs": [
    {
     "name": "stdout",
     "output_type": "stream",
     "text": [
      "Hello, Alice! You are 25 years old.\n"
     ]
    }
   ],
   "source": [
    "name = 'Alice'\n",
    "age = 25\n",
    "formatted_string = f'Hello, {name}! You are {age} years old.'\n",
    "print(formatted_string)  # 输出: Hello, Alice! You are 25 years old."
   ]
  },
  {
   "cell_type": "markdown",
   "id": "8e3dd796",
   "metadata": {},
   "source": [
    "**r前缀**：表示该字符串是一个原始字符串（raw string）。原始字符串不会对反斜杠（\\）进行转义，即不会将其解释为特殊字符。这使得原始字符串可以包含反斜杠字符而不必使用双反斜杠（\\）进行转义。"
   ]
  },
  {
   "cell_type": "code",
   "execution_count": 18,
   "id": "2cec4c3c",
   "metadata": {
    "ExecuteTime": {
     "end_time": "2024-07-30T05:36:44.992991Z",
     "start_time": "2024-07-30T05:36:44.988419Z"
    }
   },
   "outputs": [
    {
     "name": "stdout",
     "output_type": "stream",
     "text": [
      "This is a raw string \\n.\n"
     ]
    }
   ],
   "source": [
    "s = r'This is a raw string \\n.'\n",
    "print(s)  # 输出: This is a raw string \\n."
   ]
  },
  {
   "cell_type": "markdown",
   "id": "0d2da184",
   "metadata": {},
   "source": [
    "**b前缀**：将字符串转换为字节串（bytes），其中包含原始的、未经处理的字节。。"
   ]
  },
  {
   "cell_type": "code",
   "execution_count": 19,
   "id": "285869c6",
   "metadata": {
    "ExecuteTime": {
     "end_time": "2024-07-30T05:39:45.877112Z",
     "start_time": "2024-07-30T05:39:45.872379Z"
    }
   },
   "outputs": [
    {
     "name": "stdout",
     "output_type": "stream",
     "text": [
      "b'This is a bytes string'\n"
     ]
    }
   ],
   "source": [
    "s = b'This is a bytes string'\n",
    "print(s)  # 输出: b'This is a bytes string'"
   ]
  },
  {
   "cell_type": "markdown",
   "id": "d8e7ee56",
   "metadata": {},
   "source": [
    "**u前缀**：将字符串标记为Unicode（在Python 2中）。在Python 3中，所有字符串都是Unicode字符串，无需使用此前缀。"
   ]
  },
  {
   "cell_type": "code",
   "execution_count": 20,
   "id": "10dc3172",
   "metadata": {
    "ExecuteTime": {
     "end_time": "2024-07-30T05:41:09.846843Z",
     "start_time": "2024-07-30T05:41:09.842570Z"
    }
   },
   "outputs": [
    {
     "name": "stdout",
     "output_type": "stream",
     "text": [
      "This is a Unicode string\n"
     ]
    }
   ],
   "source": [
    "s = u'This is a Unicode string'\n",
    "print(s)  # 输出: 'This is a Unicode string'"
   ]
  },
  {
   "cell_type": "markdown",
   "id": "0c3123dc",
   "metadata": {},
   "source": [
    "**br前缀**：原始字节串，包含原始的、未经处理的字节。"
   ]
  },
  {
   "cell_type": "code",
   "execution_count": 21,
   "id": "c711e5ae",
   "metadata": {
    "ExecuteTime": {
     "end_time": "2024-07-30T05:42:04.895986Z",
     "start_time": "2024-07-30T05:42:04.891777Z"
    }
   },
   "outputs": [
    {
     "name": "stdout",
     "output_type": "stream",
     "text": [
      "b'This is a raw bytes string \\\\x00'\n"
     ]
    }
   ],
   "source": [
    "s = br'This is a raw bytes string \\x00'\n",
    "print(s)  # 输出: b'This is a raw bytes string \\\\x00'"
   ]
  },
  {
   "cell_type": "markdown",
   "id": "6d2361aa",
   "metadata": {},
   "source": [
    "**rb前缀**：原始字节串，包含原始的、未经处理的字节，但不会进行转义。"
   ]
  },
  {
   "cell_type": "code",
   "execution_count": 22,
   "id": "3875e69a",
   "metadata": {
    "ExecuteTime": {
     "end_time": "2024-07-30T05:43:04.258952Z",
     "start_time": "2024-07-30T05:43:04.254691Z"
    }
   },
   "outputs": [
    {
     "name": "stdout",
     "output_type": "stream",
     "text": [
      "b'This is a raw bytes string \\\\x00'\n"
     ]
    }
   ],
   "source": [
    "s = rb'This is a raw bytes string \\x00'\n",
    "print(s)  # 输出: b'This is a raw bytes string \\x00'"
   ]
  },
  {
   "cell_type": "markdown",
   "id": "ec0fd0ee",
   "metadata": {},
   "source": [
    "### 将字符串作为代码运行"
   ]
  },
  {
   "cell_type": "markdown",
   "id": "7baf4b0c",
   "metadata": {},
   "source": [
    "Python运行字符串的接口：exec() 与 eval()"
   ]
  },
  {
   "cell_type": "markdown",
   "id": "440ea5d0",
   "metadata": {},
   "source": [
    "eval用于执行**一行逻辑表达式字符串**  \n",
    "exec用于执行**字符串方法、字符串代码块**等结构化代码字符串集合"
   ]
  },
  {
   "cell_type": "markdown",
   "id": "3be2aa28",
   "metadata": {},
   "source": [
    "#### exec()"
   ]
  },
  {
   "cell_type": "markdown",
   "id": "eaeca587",
   "metadata": {},
   "source": [
    "exec 执行储存在字符串或文件中的 Python 语句，相比于 eval，exec 可以执行更复杂的 Python 代码。\n",
    "\n",
    "exec(object[, globals[, locals]])\n",
    "\n",
    "参数\n",
    "- object：必选参数，表示需要被指定的 Python 代码。它必须是字符串或 code 对象。如果 object 是一个字符串，该字符串会先被解析为一组 Python 语句，然后再执行（除非发生语法错误）。如果 object 是一个 code 对象，那么它只是被简单的执行。\n",
    "- globals：可选参数，表示全局命名空间（存放全局变量），如果被提供，则必须是一个字典对象。\n",
    "- locals：可选参数，表示当前局部命名空间（存放局部变量），如果被提供，可以是任何映射对象。如果该参数被忽略，那么它将会取与 globals 相同的值。\n",
    "\n",
    "返回值\n",
    "- exec 返回值永远为 None。\n",
    "\n"
   ]
  },
  {
   "cell_type": "code",
   "execution_count": 1,
   "id": "ecd41664",
   "metadata": {
    "ExecuteTime": {
     "end_time": "2024-08-12T09:28:03.588745Z",
     "start_time": "2024-08-12T09:28:03.565065Z"
    }
   },
   "outputs": [
    {
     "name": "stdout",
     "output_type": "stream",
     "text": [
      "Hello World\n"
     ]
    }
   ],
   "source": [
    "exec('print(\"Hello World\")')"
   ]
  },
  {
   "cell_type": "code",
   "execution_count": 2,
   "id": "c5b7ac6c",
   "metadata": {
    "ExecuteTime": {
     "end_time": "2024-08-12T09:28:11.437083Z",
     "start_time": "2024-08-12T09:28:11.431536Z"
    }
   },
   "outputs": [
    {
     "name": "stdout",
     "output_type": "stream",
     "text": [
      "iter time: 0\n",
      "iter time: 1\n",
      "iter time: 2\n",
      "iter time: 3\n",
      "iter time: 4\n"
     ]
    }
   ],
   "source": [
    "exec (\"\"\"for i in range(5):\n",
    "...     print (\"iter time: %d\" % i)\n",
    "... \"\"\")"
   ]
  },
  {
   "cell_type": "markdown",
   "id": "1b2e6121",
   "metadata": {
    "ExecuteTime": {
     "end_time": "2022-11-05T08:26:05.007357Z",
     "start_time": "2022-11-05T08:26:04.985430Z"
    }
   },
   "source": [
    "在 Python 中，exec 函数用于执行字符串中的代码，但它不返回任何值,如果要获取执行代码后的返回值，可以使用 eval 函数或 exec 结合 locals() 或 globals() 来获取变量的值。\n",
    "\n",
    "请注意，使用 eval 和 exec 需要小心，尤其是当执行的代码来自不受信任的源时，可能存在安全风险。\n",
    "\n"
   ]
  },
  {
   "cell_type": "markdown",
   "id": "e0fed315",
   "metadata": {},
   "source": [
    "**使用 eval 获取返回值:**"
   ]
  },
  {
   "cell_type": "code",
   "execution_count": 3,
   "id": "17e6cee4",
   "metadata": {
    "ExecuteTime": {
     "end_time": "2024-08-12T09:29:44.839230Z",
     "start_time": "2024-08-12T09:29:44.831711Z"
    }
   },
   "outputs": [
    {
     "name": "stdout",
     "output_type": "stream",
     "text": [
      "4\n"
     ]
    }
   ],
   "source": [
    "code = '2 + 2'\n",
    "result = eval(code)\n",
    "print(result)"
   ]
  },
  {
   "cell_type": "markdown",
   "id": "1222aa14",
   "metadata": {},
   "source": [
    "**使用 exec 结合 locals() 获取返回值:**"
   ]
  },
  {
   "cell_type": "code",
   "execution_count": 1,
   "id": "a6b5a3ad",
   "metadata": {
    "ExecuteTime": {
     "end_time": "2024-08-15T07:18:43.411829Z",
     "start_time": "2024-08-15T07:18:43.407010Z"
    }
   },
   "outputs": [
    {
     "name": "stdout",
     "output_type": "stream",
     "text": [
      "4\n"
     ]
    }
   ],
   "source": [
    "code = 'result = 2 + 2'\n",
    "local_vars = locals()\n",
    "exec(code, globals(), local_vars)\n",
    "result = local_vars['result']\n",
    "print(result)"
   ]
  },
  {
   "cell_type": "markdown",
   "id": "ffe83019",
   "metadata": {},
   "source": [
    "在这个例子中，exec 执行字符串 'result = 2 + 2'，并将结果存储在 local_vars 字典中的 'result' 键中。"
   ]
  },
  {
   "cell_type": "markdown",
   "id": "ec22637e",
   "metadata": {},
   "source": [
    "**使用 exec 结合 globals() 获取返回值:**"
   ]
  },
  {
   "cell_type": "code",
   "execution_count": 5,
   "id": "f8e9214b",
   "metadata": {
    "ExecuteTime": {
     "end_time": "2024-08-12T09:31:21.004734Z",
     "start_time": "2024-08-12T09:31:20.999608Z"
    }
   },
   "outputs": [
    {
     "name": "stdout",
     "output_type": "stream",
     "text": [
      "4\n"
     ]
    }
   ],
   "source": [
    "code = 'result = 2 + 2'\n",
    "global_vars = {}\n",
    "exec(code, global_vars)\n",
    "result = global_vars['result']\n",
    "print(result)"
   ]
  },
  {
   "cell_type": "markdown",
   "id": "bfd76449",
   "metadata": {},
   "source": [
    "在这个例子中，exec 执行字符串 'result = 2 + 2'，并将结果存储在 global_vars 字典中的 'result' 键中。"
   ]
  },
  {
   "cell_type": "markdown",
   "id": "4cafd028",
   "metadata": {},
   "source": [
    "#### eval()"
   ]
  },
  {
   "cell_type": "markdown",
   "id": "4c70b62d",
   "metadata": {},
   "source": [
    "eval()函数相对常见一些，与上边的区别简单讲就是eval()函数是会有返回值的。"
   ]
  },
  {
   "cell_type": "code",
   "execution_count": 4,
   "id": "043e67d4",
   "metadata": {
    "ExecuteTime": {
     "end_time": "2022-11-05T08:31:38.161934Z",
     "start_time": "2022-11-05T08:31:38.142001Z"
    }
   },
   "outputs": [
    {
     "data": {
      "text/plain": [
       "10"
      ]
     },
     "execution_count": 4,
     "metadata": {},
     "output_type": "execute_result"
    }
   ],
   "source": [
    "n = 6\n",
    "eval(\"n + 4\")"
   ]
  },
  {
   "cell_type": "markdown",
   "id": "b653719b",
   "metadata": {},
   "source": [
    "### 字符串中插入变量值"
   ]
  },
  {
   "cell_type": "code",
   "execution_count": 1,
   "id": "540719f3",
   "metadata": {
    "ExecuteTime": {
     "end_time": "2024-03-21T07:52:34.399346Z",
     "start_time": "2024-03-21T07:52:34.390467Z"
    }
   },
   "outputs": [
    {
     "data": {
      "text/plain": [
       "\"F.col(a['a'])+F.col(a['b'])+F.col(a['c'])+\""
      ]
     },
     "execution_count": 1,
     "metadata": {},
     "output_type": "execute_result"
    }
   ],
   "source": [
    "a = ['a','b','c']\n",
    "res = ''\n",
    "for i in a:\n",
    "    res += f\"F.col(a['{i}'])+\"\n",
    "res"
   ]
  },
  {
   "cell_type": "markdown",
   "id": "3cbbf4c1-d496-42eb-8997-3ca478cef4fc",
   "metadata": {},
   "source": [
    "### 常用函数"
   ]
  },
  {
   "cell_type": "markdown",
   "id": "82f8c82c-219b-4103-b3b6-3bc7f608fc6d",
   "metadata": {},
   "source": [
    "字符串的操作：字符串名.函数：调用字符串的内置函数。\n",
    "\n",
    "upper() 全部大写   \n",
    "lower() 全部小写    \n",
    "swapcase() 大小写互换  \n",
    "capitalize() 首字母大写，其余小写  \n",
    "title() 首字母大写  \n",
    "count() 统计指定字符串出现的次数  \n",
    "strip() 去两边空格  \n",
    "lstrip() 去左边空格  \n",
    "rstrip() 去右边空格  \n",
    "split() split(',') 将字符串按逗号分隔  \n",
    "replace(旧字符, 新字符) 将旧字符替换成新字符  \n",
    "isalpha() 判断字母  \n",
    "isspace() 判断空格  \n",
    "isdigit() 判断数字  "
   ]
  },
  {
   "cell_type": "markdown",
   "id": "f8af308d-1a57-4e87-84d6-b21f3ab13ded",
   "metadata": {},
   "source": [
    "#### count()"
   ]
  },
  {
   "cell_type": "markdown",
   "id": "349ce2c5-d8fb-44e2-acb9-cd1664d7b45c",
   "metadata": {},
   "source": [
    "Python 中的 count 函数是字符串的一种方法，用于统计一个字符串中子字符串（substring）出现的次数。\n",
    "\n",
    "str.count(sub[, start[, end]])  \n",
    "参数\n",
    "- sub: 需要统计的子字符串。\n",
    "- start: （可选）搜索的起始位置（索引）。\n",
    "- end: （可选）搜索的结束位置（索引）。"
   ]
  },
  {
   "cell_type": "code",
   "execution_count": 1,
   "id": "0c100feb-f148-41b4-90ca-c170210fa13e",
   "metadata": {
    "execution": {
     "iopub.execute_input": "2024-12-25T02:50:31.633080Z",
     "iopub.status.busy": "2024-12-25T02:50:31.633080Z",
     "iopub.status.idle": "2024-12-25T02:50:31.659077Z",
     "shell.execute_reply": "2024-12-25T02:50:31.657112Z",
     "shell.execute_reply.started": "2024-12-25T02:50:31.633080Z"
    }
   },
   "outputs": [
    {
     "name": "stdout",
     "output_type": "stream",
     "text": [
      "2\n",
      "1\n",
      "0\n"
     ]
    }
   ],
   "source": [
    "# 基本用法\n",
    "text = \"hello world, hello Python\"\n",
    "print(text.count(\"hello\"))  # 输出: 2\n",
    "\n",
    "# 指定范围\n",
    "print(text.count(\"hello\", 0, 12))  # 输出: 1 (只搜索 \"hello world,\")\n",
    "\n",
    "# 子字符串不存在\n",
    "print(text.count(\"Java\"))  # 输出: 0"
   ]
  },
  {
   "cell_type": "markdown",
   "id": "3c52b4f5-4f5a-42d7-944d-e89c0fbfc8d7",
   "metadata": {},
   "source": [
    "#### strip()"
   ]
  },
  {
   "cell_type": "markdown",
   "id": "6f0d2590-9da7-41d8-99bc-c1e9004fc223",
   "metadata": {},
   "source": [
    "Python 中的 strip() 函数是字符串的一种方法，用于移除字符串开头和结尾的指定字符（默认是空格和换行符）。它不会对字符串中间的字符进行处理。\n",
    "\n",
    "str.strip([chars])  \n",
    "参数\n",
    "- chars: （可选）要移除的字符集合。可以是一个字符串，其中包含要移除的所有字符。如果未指定，则默认移除空格、换行符（\\n）、制表符（\\t）等空白字符。"
   ]
  },
  {
   "cell_type": "code",
   "execution_count": 2,
   "id": "e4400d0d-60a5-4015-9226-766e3fe0e82b",
   "metadata": {
    "execution": {
     "iopub.execute_input": "2024-12-25T02:53:19.480285Z",
     "iopub.status.busy": "2024-12-25T02:53:19.479283Z",
     "iopub.status.idle": "2024-12-25T02:53:19.496536Z",
     "shell.execute_reply": "2024-12-25T02:53:19.495117Z",
     "shell.execute_reply.started": "2024-12-25T02:53:19.480285Z"
    }
   },
   "outputs": [
    {
     "name": "stdout",
     "output_type": "stream",
     "text": [
      "Hello, World!\n",
      "Hello, Python\n",
      "Hello, xyzPython\n",
      "Hello,   World!\n",
      "abc\n",
      "Hello, Python   \n",
      "   Hello, Python\n"
     ]
    }
   ],
   "source": [
    "# 1. 默认移除空白字符\n",
    "text1 = \"   Hello, World!   \"\n",
    "print(text1.strip())  # 输出: \"Hello, World!\"\n",
    "\n",
    "# 2. 指定要移除的字符\n",
    "text2 = \"###Hello, Python###\"\n",
    "print(text2.strip(\"#\"))  # 输出: \"Hello, Python\"\n",
    "\n",
    "# 3. 移除多个指定字符\n",
    "text3 = \"xyzHello, xyzPythonxyz\"\n",
    "print(text3.strip(\"xyz\"))  # 输出: \"Hello, xyzPython\"\n",
    "\n",
    "# 4. 不移除中间的字符\n",
    "text4 = \"   Hello,   World!   \"\n",
    "print(text4.strip())  # 输出: \"Hello,   World!\"\n",
    "\n",
    "# 5. 使用组合字符\n",
    "text5 = \"123abc321\"\n",
    "print(text5.strip(\"123\"))  # 输出: \"abc\"\n",
    "\n",
    "# 6. 与 lstrip 和 rstrip 的对比\n",
    "text6 = \"   Hello, Python   \"\n",
    "print(text6.lstrip())  # 输出: \"Hello, Python   \"\n",
    "print(text6.rstrip())  # 输出: \"   Hello, Python\""
   ]
  },
  {
   "cell_type": "markdown",
   "id": "2b433b76-9ae5-440d-80b7-aff7c383c175",
   "metadata": {},
   "source": [
    "#### split()"
   ]
  },
  {
   "cell_type": "markdown",
   "id": "ba34ab76-bbc3-4b40-822e-9d2f59a7fe70",
   "metadata": {},
   "source": [
    "Python 中的 split() 函数是字符串的一种方法，用于将字符串按照指定的分隔符拆分成列表。\n",
    "\n",
    "str.split([separator[, maxsplit]])  \n",
    "参数\n",
    "- separator: （可选）分隔符，指定以什么字符或字符串为分隔依据。默认为任意空白字符（包括空格、制表符和换行符）。\n",
    "- maxsplit: （可选）最大分割次数，分割完成后，剩余部分作为最后一个元素。如果未指定或为负数，则不限制分割次数。"
   ]
  },
  {
   "cell_type": "code",
   "execution_count": 3,
   "id": "a1801a6e-c4c1-46c4-95ab-544d658d145a",
   "metadata": {
    "execution": {
     "iopub.execute_input": "2024-12-25T02:56:50.313389Z",
     "iopub.status.busy": "2024-12-25T02:56:50.312398Z",
     "iopub.status.idle": "2024-12-25T02:56:50.331559Z",
     "shell.execute_reply": "2024-12-25T02:56:50.330590Z",
     "shell.execute_reply.started": "2024-12-25T02:56:50.313389Z"
    }
   },
   "outputs": [
    {
     "name": "stdout",
     "output_type": "stream",
     "text": [
      "['Hello', 'Python', 'World']\n",
      "['apple', 'banana', 'cherry']\n",
      "['one', 'two', 'three:four']\n",
      "['hello world']\n",
      "['line1', 'line2', 'line3']\n",
      "['Python', 'is', 'awesome']\n",
      "['one:two', 'three', 'four']\n",
      "('one', ':', 'two:three')\n"
     ]
    }
   ],
   "source": [
    "# 1. 按默认空白字符分割\n",
    "text1 = \"Hello Python World\"\n",
    "print(text1.split())  # 输出: ['Hello', 'Python', 'World']\n",
    "\n",
    "# 2. 按指定分隔符分割\n",
    "text2 = \"apple,banana,cherry\"\n",
    "print(text2.split(\",\"))  # 输出: ['apple', 'banana', 'cherry']\n",
    "\n",
    "# 3. 限制分割次数\n",
    "text3 = \"one:two:three:four\"\n",
    "print(text3.split(\":\", 2))  # 输出: ['one', 'two', 'three:four']\n",
    "\n",
    "# 4. 当分隔符不存在时\n",
    "text4 = \"hello world\"\n",
    "print(text4.split(\",\"))  # 输出: ['hello world']\n",
    "\n",
    "# 5. 分割换行符\n",
    "text5 = \"line1\\nline2\\nline3\"\n",
    "print(text5.split(\"\\n\"))  # 输出: ['line1', 'line2', 'line3']\n",
    "\n",
    "# 6. 使用多个空白字符作为分隔符\n",
    "text6 = \"Python   is\\tawesome\\n\"\n",
    "print(text6.split())  # 输出: ['Python', 'is', 'awesome']\n",
    "\n",
    "# 7. 分割右侧限制次数（rsplit 示例）\n",
    "text7 = \"one:two:three:four\"\n",
    "print(text7.rsplit(\":\", 2))  # 输出: ['one:two', 'three', 'four']\n",
    "\n",
    "# 8. 分割并返回三元组（partition 示例）\n",
    "text8 = \"one:two:three\"\n",
    "print(text8.partition(\":\"))  # 输出: ('one', ':', 'two:three')"
   ]
  },
  {
   "cell_type": "markdown",
   "id": "fc9b6cab-6653-450b-8f59-92e2e458befe",
   "metadata": {},
   "source": [
    "#### replace()"
   ]
  },
  {
   "cell_type": "markdown",
   "id": "70c803b7-bfc5-4207-849f-aa55e9f43c44",
   "metadata": {},
   "source": [
    "Python 中的 replace() 函数是字符串的一种方法，用于替换字符串中的指定子字符串为另一个子字符串。\n",
    "\n",
    "str.replace(old, new[, count])  \n",
    "参数\n",
    "- old: 要被替换的子字符串。\n",
    "- new: 替换后的子字符串。\n",
    "- count: （可选）指定替换的最大次数。如果不指定或为负数，则替换所有匹配项。"
   ]
  },
  {
   "cell_type": "code",
   "execution_count": 4,
   "id": "093c2f5e-5cdd-451f-b276-f1c4ce7fe885",
   "metadata": {
    "execution": {
     "iopub.execute_input": "2024-12-25T03:00:07.735883Z",
     "iopub.status.busy": "2024-12-25T03:00:07.735883Z",
     "iopub.status.idle": "2024-12-25T03:00:07.744882Z",
     "shell.execute_reply": "2024-12-25T03:00:07.743881Z",
     "shell.execute_reply.started": "2024-12-25T03:00:07.735883Z"
    }
   },
   "outputs": [
    {
     "name": "stdout",
     "output_type": "stream",
     "text": [
      "Hi, world! Hi, Python!\n",
      "orange, banana, apple, cherry\n",
      "123456\n",
      "hello world\n",
      "line1 | line2 | line3\n"
     ]
    }
   ],
   "source": [
    "# 1. 替换所有匹配项\n",
    "text1 = \"Hello, world! Hello, Python!\"\n",
    "print(text1.replace(\"Hello\", \"Hi\"))  \n",
    "# 输出: \"Hi, world! Hi, Python!\"\n",
    "\n",
    "# 2. 限制替换次数\n",
    "text2 = \"apple, banana, apple, cherry\"\n",
    "print(text2.replace(\"apple\", \"orange\", 1))  \n",
    "# 输出: \"orange, banana, apple, cherry\"\n",
    "\n",
    "# 3. 替换子字符串为一个空字符串\n",
    "text3 = \"abc123abc456\"\n",
    "print(text3.replace(\"abc\", \"\"))  \n",
    "# 输出: \"123456\"\n",
    "\n",
    "# 4. 子字符串不存在时\n",
    "text4 = \"hello world\"\n",
    "print(text4.replace(\"Python\", \"Java\"))  \n",
    "# 输出: \"hello world\" （没有变化）\n",
    "\n",
    "# 5. 替换换行符或特殊字符\n",
    "text5 = \"line1\\nline2\\nline3\"\n",
    "print(text5.replace(\"\\n\", \" | \"))  \n",
    "# 输出: \"line1 | line2 | line3\""
   ]
  },
  {
   "cell_type": "markdown",
   "id": "344038ed-ca5f-4a2a-8b82-1498f96bdfa8",
   "metadata": {},
   "source": [
    "Python 的 str.replace() 方法一次只能替换一种字符或子字符串。如果需要同时替换多个字符，可以使用以下几种方法来实现：\n"
   ]
  },
  {
   "cell_type": "code",
   "execution_count": 5,
   "id": "39cd39f2-1686-4b60-85e7-479f0c4b5a69",
   "metadata": {
    "execution": {
     "iopub.execute_input": "2024-12-25T03:01:39.591787Z",
     "iopub.status.busy": "2024-12-25T03:01:39.590745Z",
     "iopub.status.idle": "2024-12-25T03:01:39.611271Z",
     "shell.execute_reply": "2024-12-25T03:01:39.610347Z",
     "shell.execute_reply.started": "2024-12-25T03:01:39.591787Z"
    }
   },
   "outputs": [
    {
     "name": "stdout",
     "output_type": "stream",
     "text": [
      "hi Earth! python is awesome.\n"
     ]
    }
   ],
   "source": [
    "# 对于少量替换，可以直接链式调用多个 replace()：\n",
    "\n",
    "text = \"hello world! python is fun.\"\n",
    "text = text.replace(\"hello\", \"hi\").replace(\"world\", \"Earth\").replace(\"fun\", \"awesome\")\n",
    "print(text)  \n",
    "# 输出: \"hi Earth! python is awesome.\""
   ]
  },
  {
   "cell_type": "code",
   "execution_count": 6,
   "id": "21f74e63-4be6-4bce-b593-000988e7f89c",
   "metadata": {
    "execution": {
     "iopub.execute_input": "2024-12-25T03:02:49.168087Z",
     "iopub.status.busy": "2024-12-25T03:02:49.168087Z",
     "iopub.status.idle": "2024-12-25T03:02:49.188659Z",
     "shell.execute_reply": "2024-12-25T03:02:49.187710Z",
     "shell.execute_reply.started": "2024-12-25T03:02:49.168087Z"
    }
   },
   "outputs": [
    {
     "name": "stdout",
     "output_type": "stream",
     "text": [
      "hi Earth! python is awesome.\n"
     ]
    }
   ],
   "source": [
    "# 如果需要替换的内容较多，可以使用字典映射替换：\n",
    "\n",
    "text = \"hello world! python is fun.\"\n",
    "replacements = {\n",
    "    \"hello\": \"hi\",\n",
    "    \"world\": \"Earth\",\n",
    "    \"fun\": \"awesome\"\n",
    "}\n",
    "\n",
    "for old, new in replacements.items():\n",
    "    text = text.replace(old, new)\n",
    "\n",
    "print(text)  \n",
    "# 输出: \"hi Earth! python is awesome.\""
   ]
  },
  {
   "cell_type": "markdown",
   "id": "42f256d4",
   "metadata": {},
   "source": [
    "## 列表"
   ]
  },
  {
   "cell_type": "markdown",
   "id": "4a1a6e0c-e49d-4b54-872c-2d50018bfec3",
   "metadata": {},
   "source": [
    "### 基本概念"
   ]
  },
  {
   "cell_type": "markdown",
   "id": "1531cef1",
   "metadata": {},
   "source": [
    "在python中，用方括号[]表示列表，并用逗号来分隔其中的元素。"
   ]
  },
  {
   "cell_type": "markdown",
   "id": "6cfd6586",
   "metadata": {},
   "source": [
    "1、访问列表元素 列表[索引]，索引从0开始。  \n",
    "4、空列表 变量名 = []  \n",
    "列表长度 len(列表名)  \n",
    "列表名[][] 访问嵌套列表中的元素  \n",
    "列表名[条件] 判断条件，True输出，False不输出  \n",
    "5、列表切片\n",
    "列表名[m:n] 提取列表索引从m到n-1的元素  \n",
    "列表名[m:] 提取列表中从索引m开始的元素  \n",
    "列表名[:n] 提取列表中索引n-1之前的所有元素   \n",
    "列表名[m:n:s] s代表步长，也可以用负值，最后一个字符为-1  \n",
    "列表名[-3:-1] 提取最后三个元素  "
   ]
  },
  {
   "cell_type": "code",
   "execution_count": 26,
   "id": "da55fe8a",
   "metadata": {
    "ExecuteTime": {
     "end_time": "2022-06-02T01:51:04.813785Z",
     "start_time": "2022-06-02T01:51:04.794794Z"
    }
   },
   "outputs": [
    {
     "data": {
      "text/plain": [
       "['__add__',\n",
       " '__class__',\n",
       " '__class_getitem__',\n",
       " '__contains__',\n",
       " '__delattr__',\n",
       " '__delitem__',\n",
       " '__dir__',\n",
       " '__doc__',\n",
       " '__eq__',\n",
       " '__format__',\n",
       " '__ge__',\n",
       " '__getattribute__',\n",
       " '__getitem__',\n",
       " '__gt__',\n",
       " '__hash__',\n",
       " '__iadd__',\n",
       " '__imul__',\n",
       " '__init__',\n",
       " '__init_subclass__',\n",
       " '__iter__',\n",
       " '__le__',\n",
       " '__len__',\n",
       " '__lt__',\n",
       " '__mul__',\n",
       " '__ne__',\n",
       " '__new__',\n",
       " '__reduce__',\n",
       " '__reduce_ex__',\n",
       " '__repr__',\n",
       " '__reversed__',\n",
       " '__rmul__',\n",
       " '__setattr__',\n",
       " '__setitem__',\n",
       " '__sizeof__',\n",
       " '__str__',\n",
       " '__subclasshook__',\n",
       " 'append',\n",
       " 'clear',\n",
       " 'copy',\n",
       " 'count',\n",
       " 'extend',\n",
       " 'index',\n",
       " 'insert',\n",
       " 'pop',\n",
       " 'remove',\n",
       " 'reverse',\n",
       " 'sort']"
      ]
     },
     "execution_count": 26,
     "metadata": {},
     "output_type": "execute_result"
    }
   ],
   "source": [
    "dir(list) #查看列表中的内置方法"
   ]
  },
  {
   "cell_type": "markdown",
   "id": "3125c842",
   "metadata": {},
   "source": [
    "列表名.方法() 调用列表中的方法\n",
    "列表名.reverse() 翻转列表中的元素 或列表名[::-1]  \n",
    "列表名.sort() 将列表中的元素升序排列  \n",
    "列表名.sort(reverse=True) 将列表中的元素降序排列  \n",
    "列表2 = 列表1[:] 列表拷贝"
   ]
  },
  {
   "cell_type": "markdown",
   "id": "a62f7500",
   "metadata": {},
   "source": [
    "sorted(range(len(列表名)),key = lambda k:列表名[k]) #返回排序列表的索引"
   ]
  },
  {
   "cell_type": "markdown",
   "id": "2c8c6c00-eeab-450d-bcdf-85fb839716e4",
   "metadata": {},
   "source": [
    "### 常用函数"
   ]
  },
  {
   "cell_type": "markdown",
   "id": "80e8697c-ffe4-4f93-93df-2c95fc88bac0",
   "metadata": {},
   "source": [
    "列表中插入元素：  \n",
    "insert() 列表名.insert(索引,元素) 在索引处插入元素  \n",
    "append() 列表名.append(元素) 在列表末尾插入元素  \n",
    "extend() 列表1.extend(列表2) 将列表2插入到列表1后面  \n",
    "\n",
    "列表中删除元素：  \n",
    "del del 列表名[索引] 删除索引处的元素  \n",
    "remove 列表名.remove(元素) 删除列表中的元素（只会删除符合条件的第一个）  \n",
    "pop 列表名.pop() 删除最后一个元素，并返回该元素的值  \n",
    "列表名.pop(索引) 删除删除索引处的元素  "
   ]
  },
  {
   "cell_type": "markdown",
   "id": "edaffdd6",
   "metadata": {},
   "source": [
    "## 元组"
   ]
  },
  {
   "cell_type": "markdown",
   "id": "dba312ff",
   "metadata": {},
   "source": [
    "在python中，用圆括号()来表示元组，用逗号分隔元素。"
   ]
  },
  {
   "cell_type": "markdown",
   "id": "2cd8fab5",
   "metadata": {},
   "source": [
    "访问元组元素 元组名[]\n",
    "表示一个元素的元组 (元素,)#加个逗号"
   ]
  },
  {
   "cell_type": "code",
   "execution_count": 28,
   "id": "71f678d0",
   "metadata": {
    "ExecuteTime": {
     "end_time": "2022-06-02T02:06:00.537624Z",
     "start_time": "2022-06-02T02:06:00.513574Z"
    }
   },
   "outputs": [
    {
     "data": {
      "text/plain": [
       "(1, 2, 5, 3, 4)"
      ]
     },
     "execution_count": 28,
     "metadata": {},
     "output_type": "execute_result"
    }
   ],
   "source": [
    "s = (1,2,3,4)\n",
    "s = s[: 2] +(5, ) + s[2: ] #元组中元素的添加\n",
    "s"
   ]
  },
  {
   "cell_type": "code",
   "execution_count": 7,
   "id": "c1fc17b6",
   "metadata": {
    "ExecuteTime": {
     "end_time": "2023-05-29T11:27:58.583240Z",
     "start_time": "2023-05-29T11:27:58.569102Z"
    }
   },
   "outputs": [
    {
     "data": {
      "text/plain": [
       "(1, 2, 3, 4)"
      ]
     },
     "execution_count": 7,
     "metadata": {},
     "output_type": "execute_result"
    }
   ],
   "source": [
    "s = [1,2,3,4]\n",
    "tuple(s)"
   ]
  },
  {
   "cell_type": "code",
   "execution_count": 9,
   "id": "af6db223",
   "metadata": {
    "ExecuteTime": {
     "end_time": "2023-05-29T11:28:29.584595Z",
     "start_time": "2023-05-29T11:28:29.568222Z"
    }
   },
   "outputs": [
    {
     "data": {
      "text/plain": [
       "1"
      ]
     },
     "execution_count": 9,
     "metadata": {},
     "output_type": "execute_result"
    }
   ],
   "source": [
    "s.count(1)"
   ]
  },
  {
   "cell_type": "code",
   "execution_count": 1,
   "id": "dcde8144",
   "metadata": {
    "ExecuteTime": {
     "end_time": "2023-05-29T11:25:27.176285Z",
     "start_time": "2023-05-29T11:25:27.154747Z"
    }
   },
   "outputs": [
    {
     "name": "stdout",
     "output_type": "stream",
     "text": [
      "1\n",
      "2\n",
      "3\n"
     ]
    }
   ],
   "source": [
    "tup = (1,2,3)\n",
    "a,b,c = tup\n",
    "print(a)\n",
    "print(b)\n",
    "print(c)\n",
    "#元组拆包，如果你想将元组型的表达式赋值给变量，python会对符号右边的值进行拆包"
   ]
  },
  {
   "cell_type": "markdown",
   "id": "205a9e8c",
   "metadata": {},
   "source": [
    "元组名.count(数值名) 计量元组中某个数值出现的次数"
   ]
  },
  {
   "cell_type": "code",
   "execution_count": 6,
   "id": "97df4257",
   "metadata": {
    "ExecuteTime": {
     "end_time": "2023-05-29T11:27:13.929500Z",
     "start_time": "2023-05-29T11:27:13.915792Z"
    }
   },
   "outputs": [
    {
     "data": {
      "text/plain": [
       "[1, 1, 1]"
      ]
     },
     "execution_count": 6,
     "metadata": {},
     "output_type": "execute_result"
    }
   ],
   "source": [
    "[tup.count(i) for i in tup]"
   ]
  },
  {
   "cell_type": "markdown",
   "id": "f33f5b34",
   "metadata": {},
   "source": [
    "## 序列"
   ]
  },
  {
   "cell_type": "markdown",
   "id": "7debe00e",
   "metadata": {
    "ExecuteTime": {
     "end_time": "2022-06-02T02:12:30.215862Z",
     "start_time": "2022-06-02T02:12:30.191613Z"
    }
   },
   "source": [
    "str,list,tuple均为序列（有序）  \n",
    "ord(字符) 查看字符的ASCII码"
   ]
  },
  {
   "cell_type": "markdown",
   "id": "19d34680",
   "metadata": {},
   "source": [
    "序列共同点：  \n",
    "都可以通过索引得到每一个元素  \n",
    "默认索引都是从0开始  \n",
    "可以通过切片的方法得到一个范围内的元素的集合   \n",
    "有很多共同的操作符（重复操作符*，拼接操作符+，成员关系操作符in/not in）"
   ]
  },
  {
   "cell_type": "markdown",
   "id": "84698213",
   "metadata": {},
   "source": [
    "## 集合"
   ]
  },
  {
   "cell_type": "markdown",
   "id": "381d23bd",
   "metadata": {},
   "source": [
    "在python中，用花括号{}表示集合，集合是无序的，且集合中的元素唯一。  \n",
    "差集：{}-{}  \n",
    "交集：{}&{}  \n",
    "并集：{}|{}  \n",
    "空集：set()  "
   ]
  },
  {
   "cell_type": "markdown",
   "id": "09870544",
   "metadata": {},
   "source": [
    "集合名.add(元素) 集合中添加元素  \n",
    "集合名.remove(元素) 删除元素  \n",
    "frozenset([]) 不可变集合，不能进行添加，删除"
   ]
  },
  {
   "cell_type": "markdown",
   "id": "76fcf446",
   "metadata": {},
   "source": [
    "## 字典"
   ]
  },
  {
   "cell_type": "markdown",
   "id": "2d9215f3",
   "metadata": {},
   "source": [
    "在python中，字典是一系列键（key）-值（value）对，每个键都有一个值相关联，字典不是序列，是映射类型。{key1:value1, key2:value2, ...}"
   ]
  },
  {
   "cell_type": "markdown",
   "id": "00ff10b7",
   "metadata": {},
   "source": [
    "字典名[key] 通过key，访问value，字典中不能有重复的key。  \n",
    "value可取的值：int,float,set,str,list,dict  \n",
    "key必须是不可变的类型：int,str  \n",
    "空字典 变量名 = {} "
   ]
  },
  {
   "cell_type": "markdown",
   "id": "c926220a",
   "metadata": {},
   "source": [
    "字典内置函数 dir(dict)  \n",
    "字典名.get(键名) 得到键对应的值  \n",
    "字典名.clear() 清空字典  \n",
    "字典名[新键]=新值 字典中添加新的键值  \n",
    "字典名.update(新字典) 将新字典加入字典中  \n",
    "字典名.items() 以列表返回可遍历元组数组  \n",
    "字典名.keys() 得到字典中的键  \n",
    "字典名.values() 得到字典中的值"
   ]
  },
  {
   "cell_type": "markdown",
   "id": "4d481f8a-a2f5-4211-a7f4-9eb06d99d65c",
   "metadata": {},
   "source": [
    "dict.get(key, default=None)\n",
    "\n",
    "key: 要查找的键。  \n",
    "default: 如果键不存在时返回的默认值（可选，默认是 None）。\n"
   ]
  },
  {
   "cell_type": "code",
   "execution_count": 1,
   "id": "39d9abc8-63b0-43ce-aee3-f5c1f374c6d6",
   "metadata": {
    "execution": {
     "iopub.execute_input": "2024-11-25T12:39:35.085437Z",
     "iopub.status.busy": "2024-11-25T12:39:35.082963Z",
     "iopub.status.idle": "2024-11-25T12:39:35.106080Z",
     "shell.execute_reply": "2024-11-25T12:39:35.104814Z",
     "shell.execute_reply.started": "2024-11-25T12:39:35.085437Z"
    }
   },
   "outputs": [
    {
     "name": "stdout",
     "output_type": "stream",
     "text": [
      "1\n",
      "None\n",
      "0\n"
     ]
    }
   ],
   "source": [
    "my_dict = {\"a\": 1, \"b\": 2, \"c\": 3}\n",
    "\n",
    "# 键存在\n",
    "print(my_dict.get(\"a\"))  # 输出: 1\n",
    "\n",
    "# 键不存在，返回默认值 None\n",
    "print(my_dict.get(\"d\"))  # 输出: None\n",
    "\n",
    "# 键不存在，返回指定的默认值\n",
    "print(my_dict.get(\"d\", 0))  # 输出: 0"
   ]
  },
  {
   "cell_type": "markdown",
   "id": "c5e45bcc",
   "metadata": {},
   "source": [
    "setdefault是Python中字典的一个方法， 它用于在字典中查找指定键 如果键存在， 则返回对应的值； 如果键不存在，则在字典中添加该键，并将其值设置为指定的默认值。  \n",
    "`dict.setdefault(key, default_value)`  \n",
    "其中，key为要查找或添加的键，default_value为键不存在时设置的默认值。 如果省略default_value，则默认为None。"
   ]
  },
  {
   "cell_type": "code",
   "execution_count": 1,
   "id": "ec728741",
   "metadata": {
    "ExecuteTime": {
     "end_time": "2024-07-31T03:45:27.580475Z",
     "start_time": "2024-07-31T03:45:27.575136Z"
    }
   },
   "outputs": [
    {
     "name": "stdout",
     "output_type": "stream",
     "text": [
      "{'a': 1, 'b': 2, 'c': 3}\n"
     ]
    }
   ],
   "source": [
    "d = {\"a\": 1, \"b\": 2}\n",
    "d.setdefault(\"c\", 3)\n",
    "print(d)  # 输出：{'a': 1, 'b': 2, 'c': 3}\n",
    "# 字典d本来并没有键为'c'的元素，使用setdefault方法可以添加一个新的键'c'和默认值3"
   ]
  },
  {
   "cell_type": "markdown",
   "id": "1e9b53a7",
   "metadata": {},
   "source": [
    "python字典的排序，按key排序和按value排序"
   ]
  },
  {
   "cell_type": "code",
   "execution_count": 1,
   "id": "f8259065",
   "metadata": {
    "ExecuteTime": {
     "end_time": "2022-06-02T02:55:12.899476Z",
     "start_time": "2022-06-02T02:55:12.876536Z"
    },
    "execution": {
     "iopub.execute_input": "2024-05-07T12:47:30.441867Z",
     "iopub.status.busy": "2024-05-07T12:47:30.440865Z",
     "iopub.status.idle": "2024-05-07T12:47:30.463016Z",
     "shell.execute_reply": "2024-05-07T12:47:30.462055Z",
     "shell.execute_reply.started": "2024-05-07T12:47:30.441867Z"
    }
   },
   "outputs": [
    {
     "data": {
      "text/plain": [
       "dict_items([('a', 5), ('c', 3), ('b', 4)])"
      ]
     },
     "execution_count": 1,
     "metadata": {},
     "output_type": "execute_result"
    }
   ],
   "source": [
    "d = {'a':5, 'c':3, 'b':4}\n",
    "d.items()"
   ]
  },
  {
   "cell_type": "markdown",
   "id": "01fedfa7",
   "metadata": {},
   "source": [
    "用关键字key或value可对字典按值排序或按key排序（升序）"
   ]
  },
  {
   "cell_type": "code",
   "execution_count": 2,
   "id": "177a2d43",
   "metadata": {
    "ExecuteTime": {
     "end_time": "2022-06-02T02:58:34.177558Z",
     "start_time": "2022-06-02T02:58:34.160282Z"
    },
    "execution": {
     "iopub.execute_input": "2024-05-07T12:47:32.119216Z",
     "iopub.status.busy": "2024-05-07T12:47:32.116459Z",
     "iopub.status.idle": "2024-05-07T12:47:32.136204Z",
     "shell.execute_reply": "2024-05-07T12:47:32.135430Z",
     "shell.execute_reply.started": "2024-05-07T12:47:32.119216Z"
    }
   },
   "outputs": [
    {
     "data": {
      "text/plain": [
       "[('c', 3), ('b', 4), ('a', 5)]"
      ]
     },
     "execution_count": 2,
     "metadata": {},
     "output_type": "execute_result"
    }
   ],
   "source": [
    "#按value排序\n",
    "s = sorted(d.items(),key = lambda x:x[1]) #x[1]表示第二个元素即value\n",
    "s"
   ]
  },
  {
   "cell_type": "code",
   "execution_count": 3,
   "id": "50a9b277",
   "metadata": {
    "ExecuteTime": {
     "end_time": "2022-06-02T02:58:38.659772Z",
     "start_time": "2022-06-02T02:58:38.643733Z"
    },
    "execution": {
     "iopub.execute_input": "2024-05-07T12:47:32.695007Z",
     "iopub.status.busy": "2024-05-07T12:47:32.693068Z",
     "iopub.status.idle": "2024-05-07T12:47:32.709932Z",
     "shell.execute_reply": "2024-05-07T12:47:32.708544Z",
     "shell.execute_reply.started": "2024-05-07T12:47:32.695007Z"
    }
   },
   "outputs": [
    {
     "data": {
      "text/plain": [
       "[('a', 5), ('b', 4), ('c', 3)]"
      ]
     },
     "execution_count": 3,
     "metadata": {},
     "output_type": "execute_result"
    }
   ],
   "source": [
    "#按key排序\n",
    "s = sorted(d.items(),key = lambda x:x[0]) #x[0]表示第一个元素即key\n",
    "s"
   ]
  },
  {
   "cell_type": "code",
   "execution_count": 7,
   "id": "097c69ba-6282-45b8-9022-02d4b86027cf",
   "metadata": {
    "execution": {
     "iopub.execute_input": "2024-05-07T12:48:57.236876Z",
     "iopub.status.busy": "2024-05-07T12:48:57.235878Z",
     "iopub.status.idle": "2024-05-07T12:48:57.254283Z",
     "shell.execute_reply": "2024-05-07T12:48:57.253319Z",
     "shell.execute_reply.started": "2024-05-07T12:48:57.236876Z"
    }
   },
   "outputs": [
    {
     "name": "stdout",
     "output_type": "stream",
     "text": [
      "[('a', 5), ('b', 4), ('c', 3)]\n"
     ]
    }
   ],
   "source": [
    "# 将key和value分装成元祖，再进行排序\n",
    "f = zip(d.keys(), d.values())\n",
    "c = sorted(f)\n",
    "print(c)"
   ]
  },
  {
   "cell_type": "code",
   "execution_count": 6,
   "id": "960083d1-cea6-4f24-8428-f6aaaea5717d",
   "metadata": {
    "execution": {
     "iopub.execute_input": "2024-05-07T12:48:30.069455Z",
     "iopub.status.busy": "2024-05-07T12:48:30.066089Z",
     "iopub.status.idle": "2024-05-07T12:48:30.090576Z",
     "shell.execute_reply": "2024-05-07T12:48:30.089618Z",
     "shell.execute_reply.started": "2024-05-07T12:48:30.069455Z"
    }
   },
   "outputs": [
    {
     "name": "stdout",
     "output_type": "stream",
     "text": [
      "[('c', 3), ('b', 4), ('a', 5)]\n"
     ]
    }
   ],
   "source": [
    "f = zip(d.keys(), d.values())\n",
    "c = sorted(f, reverse=True)\n",
    "print(c)"
   ]
  },
  {
   "cell_type": "markdown",
   "id": "6a4b7906",
   "metadata": {},
   "source": [
    "字典不能遍历，但可用字典名.items()来代替"
   ]
  },
  {
   "cell_type": "code",
   "execution_count": 4,
   "id": "1169bcfd",
   "metadata": {
    "ExecuteTime": {
     "end_time": "2022-06-02T08:49:04.297456Z",
     "start_time": "2022-06-02T08:49:04.285540Z"
    },
    "execution": {
     "iopub.execute_input": "2024-05-07T12:47:33.960529Z",
     "iopub.status.busy": "2024-05-07T12:47:33.959141Z",
     "iopub.status.idle": "2024-05-07T12:47:33.974666Z",
     "shell.execute_reply": "2024-05-07T12:47:33.973116Z",
     "shell.execute_reply.started": "2024-05-07T12:47:33.960529Z"
    }
   },
   "outputs": [
    {
     "name": "stdout",
     "output_type": "stream",
     "text": [
      "a\n",
      "c\n",
      "b\n"
     ]
    }
   ],
   "source": [
    "d = {'a':5, 'c':3, 'b':4}\n",
    "for key, value in d.items():\n",
    "    print(key)"
   ]
  },
  {
   "cell_type": "markdown",
   "id": "6c710165",
   "metadata": {},
   "source": [
    "for循环中，key和value是字典中的形参，分别代表键和值，可以用其他字母代替，a.items()将字典以列表的形式返回，最后打印键的所有，也可以打印键对应的值。"
   ]
  },
  {
   "cell_type": "markdown",
   "id": "e4b38ff0",
   "metadata": {},
   "source": [
    "## 其他"
   ]
  },
  {
   "cell_type": "markdown",
   "id": "aca04fdc",
   "metadata": {},
   "source": [
    "### None"
   ]
  },
  {
   "cell_type": "markdown",
   "id": "12b8344a",
   "metadata": {},
   "source": [
    "None在python中是一个对象，它不等同于空字符串，空列表，0，False"
   ]
  },
  {
   "cell_type": "markdown",
   "id": "c64c3ad9",
   "metadata": {},
   "source": [
    "### 可变对象与不可变对象"
   ]
  },
  {
   "cell_type": "markdown",
   "id": "de8cd51c",
   "metadata": {},
   "source": [
    "列表，字典，numpy数组都是可变对象，大多数用户定义的类型也是可变的，可变对象中包含的的对象和值是可以修改的。  \n",
    "字符串，元组中的对象和值是不可以修改的，是不可变对象，如果它们中的一个对象是可变的，你可以在内部进行修改。  "
   ]
  },
  {
   "cell_type": "markdown",
   "id": "0f6218c4",
   "metadata": {},
   "source": [
    "# 变量与运算符"
   ]
  },
  {
   "cell_type": "markdown",
   "id": "c9c622c9",
   "metadata": {},
   "source": [
    "变量使用：  \n",
    "1、在使用变量之前，需要对其先赋值。  \n",
    "2、变量名可以是数字、字母、下划线，但变量名不能以数字开头。  \n",
    "3、字母可以是大写或小写，但大小写是不同的。  \n",
    "4、等号=是赋值的意思。"
   ]
  },
  {
   "cell_type": "markdown",
   "id": "3110735d",
   "metadata": {},
   "source": [
    "比较运算符：>,<,==,>=,<=,!="
   ]
  },
  {
   "cell_type": "markdown",
   "id": "7266588e",
   "metadata": {},
   "source": [
    "逻辑运算符：not,and,or,优先级 not>and>or"
   ]
  },
  {
   "cell_type": "markdown",
   "id": "2a4a68dd",
   "metadata": {
    "ExecuteTime": {
     "end_time": "2022-06-02T08:24:00.749177Z",
     "start_time": "2022-06-02T08:24:00.729240Z"
    }
   },
   "source": [
    "科学计数法 e"
   ]
  },
  {
   "cell_type": "markdown",
   "id": "de587413",
   "metadata": {},
   "source": [
    "幂运算 **"
   ]
  },
  {
   "cell_type": "raw",
   "id": "451f89b9",
   "metadata": {},
   "source": [
    "函数：函数名(参数列表)：\n",
    "    函数体\n",
    "函数体中有返回值return，没有返回值，会返回None，利用列表可返回多个值，也可返回字典等，return(a,b,c)返回多个值"
   ]
  },
  {
   "cell_type": "markdown",
   "id": "e94909bb",
   "metadata": {},
   "source": [
    "# 分支与循环"
   ]
  },
  {
   "cell_type": "raw",
   "id": "26eac600",
   "metadata": {},
   "source": [
    "if 条件:       if 条件:\n",
    "    语句           语句1\n",
    "else:         elif 条件2:\n",
    "    语句           语句2\n",
    "             else:\n",
    "                 语句"
   ]
  },
  {
   "cell_type": "raw",
   "id": "ceb03288",
   "metadata": {},
   "source": [
    "while 条件:\n",
    "    语句\n",
    "else:\n",
    "    语句"
   ]
  },
  {
   "cell_type": "raw",
   "id": "4ea13b7d",
   "metadata": {},
   "source": [
    "for 目标 in 表达式:\n",
    "    语句\n",
    "else:\n",
    "    语句"
   ]
  },
  {
   "cell_type": "markdown",
   "id": "73ee2595",
   "metadata": {},
   "source": [
    "range(a,b,c) 从a开始，到b结束，步长为c  \n",
    "break 终止当前循环并跳出循环，不再执行下次循环。if不算循环  \n",
    "continue 终止当前循环，执行下次循环  \n",
    "range(n) 产生从0到n-1的数"
   ]
  },
  {
   "cell_type": "markdown",
   "id": "cdfb5da8",
   "metadata": {},
   "source": [
    "# 文件系统"
   ]
  },
  {
   "cell_type": "markdown",
   "id": "b44b6575",
   "metadata": {},
   "source": [
    "## 文件操作"
   ]
  },
  {
   "cell_type": "markdown",
   "id": "01574d6b",
   "metadata": {
    "ExecuteTime": {
     "end_time": "2022-06-02T08:58:34.962823Z",
     "start_time": "2022-06-02T08:58:34.943019Z"
    }
   },
   "source": [
    "1、打开文件：open(文件名，打开模式) f = open(\"路径\\\\\")\n",
    "2、打开模式：  \n",
    "'r' 以只读方式打开文件  \n",
    "'w' 以写入方式打开文件，会覆盖已存在的文件  \n",
    "'b' 以二进制模式打开文件  \n",
    "3、f.close() 关闭文件  \n",
    "f.read() 读取文件的所有内容，并将文件指针指向末尾  \n",
    "f.write() 写入文件  "
   ]
  },
  {
   "cell_type": "raw",
   "id": "80025996",
   "metadata": {},
   "source": [
    "打开文件的步骤  \n",
    "f = open(\"路径\")    \n",
    "for each in f :  \n",
    "    print(each)   \n",
    "或者  \n",
    "print(f.read())  \n",
    "或者  \n",
    "with open(\"路径\",读写模式) as f:  \n",
    "    文件操作  "
   ]
  },
  {
   "cell_type": "raw",
   "id": "fac15a6a",
   "metadata": {},
   "source": [
    "file = os.path.join(os.getcwd(), \"dist.txt\")  \n",
    "with open(file, 'r') as file:  \n",
    "    fh = file.read()  "
   ]
  },
  {
   "cell_type": "markdown",
   "id": "b85367aa",
   "metadata": {},
   "source": [
    "使用with语句来读写文件，就可以省略关闭文件的繁琐了，不管在处理文件过程中是否发生异常，都能保证with语句执行完毕后已经关闭了打开的文件句柄。"
   ]
  },
  {
   "cell_type": "markdown",
   "id": "f5255edb",
   "metadata": {},
   "source": [
    "## os使用"
   ]
  },
  {
   "cell_type": "markdown",
   "id": "b50a1d21",
   "metadata": {},
   "source": [
    "import os #导入os模块  \n",
    "os.remove(path) #path是指要移除的文件路径  \n",
    "os.getcwd() #得到当前工作目录  \n",
    "os.path.getsize(文件名) #查看指定文件的大小  \n",
    "os.listdir() #返回指定目录下的所有文件和目录名  \n",
    "os.path.exists(文件名) #判断文件是否存在"
   ]
  },
  {
   "cell_type": "markdown",
   "id": "2c270045-4f98-407c-a65c-f38b0c403ed0",
   "metadata": {},
   "source": [
    "## 循环读取文件"
   ]
  },
  {
   "cell_type": "code",
   "execution_count": null,
   "id": "968125d2-c48d-4d68-8830-3813e6070dd3",
   "metadata": {},
   "outputs": [],
   "source": [
    "import os\n",
    "\n",
    "def read_txt_files_in_folder(folder_paths):\n",
    "    contents = []\n",
    "    # 遍历所有文件夹中的所有文件\n",
    "    for folder_path in folder_paths:\n",
    "        for filename in os.listdir(folder_path):\n",
    "            # 检查文件是否为.txt文件\n",
    "            if filename.endswith('.txt'):\n",
    "                file_path = os.path.join(folder_path, filename)\n",
    "                with open(file_path, 'r', encoding='utf-8') as file:\n",
    "                    # 读取文件内容并加入到列表中\n",
    "                    contents.append(file.read())\n",
    "    return contents\n",
    "\n",
    "# 示例用法\n",
    "folder_paths = ['folder1', 'folder2']\n",
    "txt_contents = read_txt_files_in_folder(folder_paths)"
   ]
  },
  {
   "cell_type": "markdown",
   "id": "7b836a44",
   "metadata": {},
   "source": [
    "# 模块"
   ]
  },
  {
   "cell_type": "markdown",
   "id": "9f092d92",
   "metadata": {},
   "source": [
    "一个模块是单个py文件或是多个py文件"
   ]
  },
  {
   "cell_type": "markdown",
   "id": "4df1deff",
   "metadata": {},
   "source": [
    "导入模块：  \n",
    "1、import 模块名  \n",
    "2、from 模块名 import 函数名 （函数名为\\*时，可导入该模块的所有函数）  \n",
    "3、import 模块名 as 新名称"
   ]
  },
  {
   "cell_type": "markdown",
   "id": "38ef5d73",
   "metadata": {},
   "source": [
    "dir(模块名) 显示模块中的内置方法  \n",
    "help(模块名)"
   ]
  },
  {
   "cell_type": "markdown",
   "id": "3c20a4b8",
   "metadata": {},
   "source": [
    "调用模块中的函数：模块名.函数名(参数)"
   ]
  },
  {
   "cell_type": "raw",
   "id": "981d0a76",
   "metadata": {},
   "source": [
    "if __name__ == '__main__':\n",
    "    语句\n",
    " 理解：当模块被直接运行时，以下代码将被运行，当模块被导入时，代码块将不被运行。"
   ]
  },
  {
   "cell_type": "markdown",
   "id": "1fd95322",
   "metadata": {},
   "source": [
    "## 相同目录"
   ]
  },
  {
   "cell_type": "markdown",
   "id": "07f279a1",
   "metadata": {},
   "source": [
    "直接 import 即可：\n",
    "\n",
    "import b\n",
    "或者\n",
    "\n",
    "from b import *"
   ]
  },
  {
   "cell_type": "markdown",
   "id": "3913bc3a",
   "metadata": {},
   "source": [
    "## 不同目录"
   ]
  },
  {
   "cell_type": "markdown",
   "id": "112f332c",
   "metadata": {},
   "source": [
    "假设 b.py 在路径 H:\\Documents\\user\\test 下，则需要通过如下代码将路径加入到系统路径中，然后直接导入 b.py即可。"
   ]
  },
  {
   "cell_type": "raw",
   "id": "071dafa1",
   "metadata": {},
   "source": [
    "import sys\n",
    "sys.path.append(r\"H:\\Documents\\user\\test\")\n",
    "import b"
   ]
  },
  {
   "cell_type": "markdown",
   "id": "bf38d846",
   "metadata": {},
   "source": [
    "## `__all__`"
   ]
  },
  {
   "cell_type": "markdown",
   "id": "94296542",
   "metadata": {},
   "source": [
    "当我们向文件导入某个模块时，导入的是该模块中那些名称不以下划线（单下划线“`_`”或者双下划线“`__`”）开头的变量、函数和类。因此，如果我们不想模块文件中的某个成员被引入到其它文件中使用，可以在其名称前添加下划线。"
   ]
  },
  {
   "cell_type": "raw",
   "id": "74ec65c4",
   "metadata": {},
   "source": [
    "# mytest.py\n",
    "def a():\n",
    "    print('aaaaa')\n",
    "def b():\n",
    "    print('bbbbb')\n",
    "def _c():\n",
    "    print('ccccc')\n",
    "    \n",
    "# mytest2.py\n",
    "from mytest import *\n",
    "a()\n",
    "b()\n",
    "c()\n",
    "\n",
    "\n",
    "Traceback (most recent call last):\n",
    "  File \"/home/mytest2.py\", line 6, in <module>\n",
    "    c()\n",
    "NameError: name 'c' is not defined\n",
    "aaaaa\n",
    "bbbbb"
   ]
  },
  {
   "cell_type": "markdown",
   "id": "da93a1a5",
   "metadata": {},
   "source": [
    "显然，mytest2.py 文件中无法使用未引入的c() 函数。\n",
    "除此之外，还可以借助模块提供的`__all__ `变量，该变量的值是一个列表，存储的是当前模块中一些成员（变量、函数或者类）的名称。通过在模块文件中设置`__all__`变量，当其它文件以“from 模块名 `import *`”的形式导入该模块时，该文件中只能使用`__all__` 列表中指定的成员。`__all__`也是对于模块公开接口的一种约定，比起下划线，`__all__`提供了暴露接口用的“白名单”。"
   ]
  },
  {
   "cell_type": "raw",
   "id": "f4d802e7",
   "metadata": {},
   "source": [
    "# mytest.py\n",
    "__all__ = ['a','b']  #这里不同\n",
    "\n",
    "def a():\n",
    "    print('aaaaa')\n",
    "def b():\n",
    "    print('bbbbb') \n",
    "def c():                  # 这里不同\n",
    "    print('ccccc')\n",
    "    \n",
    "# mytest2.py\n",
    "from mytest import *\n",
    "a()\n",
    "b()\n",
    "c()\n",
    "\n",
    "Traceback (most recent call last):\n",
    "  File \"/home/mytest2.py\", line 6, in <module>\n",
    "    c()\n",
    "NameError: name 'c' is not defined\n",
    "aaaaa\n",
    "bbbbb"
   ]
  },
  {
   "cell_type": "markdown",
   "id": "6ad86541",
   "metadata": {},
   "source": [
    "注意：\n",
    "\n",
    "- `__all__`变量只在以from 模块名 `import *`形式导入模块时起作用，而以其他形式，如import 模块名、from 模块名 import 成员时都不起作用。\n",
    "- 代码中当然是不提倡用 `from xxx import *` 的写法的，一般只用在临时代码如console调试中，这种时候如果没有定义__all__，会将模块中非下划线开头的所有成员都导入当前命名空间中，可能弄脏当前命名空间。\n",
    "- __all__应该是list 类型的。\n",
    "- 不应该动态生成__all__，比如使用列表解析式。\n",
    "- __all__的位置：按照 PEP8 建议的风格，__all__应该写在所有 import 语句下面，和函数、常量等模块成员定义的上面。"
   ]
  },
  {
   "cell_type": "markdown",
   "id": "57b0d71b",
   "metadata": {},
   "source": [
    "# 函数式编程"
   ]
  },
  {
   "cell_type": "markdown",
   "id": "70c6096a",
   "metadata": {},
   "source": [
    "## 匿名函数"
   ]
  },
  {
   "cell_type": "markdown",
   "id": "2fbb02ba",
   "metadata": {},
   "source": [
    "匿名函数：lambda 参数列表: 表达式"
   ]
  },
  {
   "cell_type": "code",
   "execution_count": 8,
   "id": "8f5a206f",
   "metadata": {
    "ExecuteTime": {
     "end_time": "2022-06-02T09:23:03.222435Z",
     "start_time": "2022-06-02T09:23:03.212469Z"
    }
   },
   "outputs": [
    {
     "data": {
      "text/plain": [
       "3"
      ]
     },
     "execution_count": 8,
     "metadata": {},
     "output_type": "execute_result"
    }
   ],
   "source": [
    "def add(x,y):\n",
    "    return x+y\n",
    "f = add(1,2)\n",
    "f"
   ]
  },
  {
   "cell_type": "code",
   "execution_count": 9,
   "id": "906057a7",
   "metadata": {
    "ExecuteTime": {
     "end_time": "2022-06-02T09:23:30.873488Z",
     "start_time": "2022-06-02T09:23:30.856541Z"
    }
   },
   "outputs": [
    {
     "data": {
      "text/plain": [
       "3"
      ]
     },
     "execution_count": 9,
     "metadata": {},
     "output_type": "execute_result"
    }
   ],
   "source": [
    "f = lambda x, y: x+y\n",
    "f(1,2)"
   ]
  },
  {
   "cell_type": "markdown",
   "id": "0665ce1b",
   "metadata": {},
   "source": [
    "## 三元表达式"
   ]
  },
  {
   "cell_type": "markdown",
   "id": "bea86252",
   "metadata": {},
   "source": [
    "x if 条件 else y 条件为真时，返回x，条件为假时，返回y"
   ]
  },
  {
   "cell_type": "markdown",
   "id": "4591ab3d",
   "metadata": {},
   "source": [
    "## map()"
   ]
  },
  {
   "cell_type": "markdown",
   "id": "6ea4fcd8",
   "metadata": {},
   "source": [
    "map(func名，序列) 可用lambda表达式代替：根据提供的函数对指定的序列做映射。"
   ]
  },
  {
   "cell_type": "code",
   "execution_count": 2,
   "id": "377e4380",
   "metadata": {
    "ExecuteTime": {
     "end_time": "2022-06-04T12:06:43.381533Z",
     "start_time": "2022-06-04T12:06:43.363063Z"
    }
   },
   "outputs": [
    {
     "name": "stdout",
     "output_type": "stream",
     "text": [
      "<map object at 0x000001EDD1C82188>\n",
      "[1, 4, 9, 16]\n"
     ]
    }
   ],
   "source": [
    "x1 = [1,2,3,4]\n",
    "r = map(lambda x: x*x, x1)\n",
    "print(r)\n",
    "print(list(r))"
   ]
  },
  {
   "cell_type": "markdown",
   "id": "5eeb028a",
   "metadata": {},
   "source": [
    "## filter()"
   ]
  },
  {
   "cell_type": "code",
   "execution_count": 6,
   "id": "99ea8db2",
   "metadata": {
    "ExecuteTime": {
     "end_time": "2022-06-04T12:13:36.400451Z",
     "start_time": "2022-06-04T12:13:36.390682Z"
    }
   },
   "outputs": [
    {
     "name": "stdout",
     "output_type": "stream",
     "text": [
      "[1, 1, 1]\n"
     ]
    }
   ],
   "source": [
    "list_x1 = [1,0,0,1,0,1]\n",
    "r = filter(lambda x: True if x == 1 else False, list_x1) \n",
    "print(list(r))\n",
    "# filter中的lambda必须能返回True或False，filter会将结果为False的过滤掉"
   ]
  },
  {
   "cell_type": "markdown",
   "id": "3ebdd6ad",
   "metadata": {},
   "source": [
    "## reduce()"
   ]
  },
  {
   "cell_type": "code",
   "execution_count": 4,
   "id": "a82e9861",
   "metadata": {
    "ExecuteTime": {
     "end_time": "2022-06-04T12:09:52.678927Z",
     "start_time": "2022-06-04T12:09:52.661973Z"
    }
   },
   "outputs": [
    {
     "name": "stdout",
     "output_type": "stream",
     "text": [
      "15\n"
     ]
    }
   ],
   "source": [
    "from functools import reduce #连续计算，连续调用lambda\n",
    "list_x = [1,2,3,4,5]\n",
    "r = reduce(lambda x, y: x+y, list_x)\n",
    "print(r) #过程 r = (((1+2)+3)+4)+5"
   ]
  },
  {
   "cell_type": "markdown",
   "id": "c0d7035f",
   "metadata": {},
   "source": [
    "## 推导式"
   ]
  },
  {
   "cell_type": "markdown",
   "id": "0500f43b",
   "metadata": {},
   "source": [
    "### 列表推导式"
   ]
  },
  {
   "cell_type": "markdown",
   "id": "fd209fae",
   "metadata": {},
   "source": [
    "[表达式 for 变量 in 列表 if 条件] 或[表达式1 if 条件 else 表达式2 for 变量 in 列表]"
   ]
  },
  {
   "cell_type": "code",
   "execution_count": 8,
   "id": "75cb6098",
   "metadata": {
    "ExecuteTime": {
     "end_time": "2022-06-04T12:17:17.133995Z",
     "start_time": "2022-06-04T12:17:17.109028Z"
    }
   },
   "outputs": [
    {
     "data": {
      "text/plain": [
       "[36, 49, 64, 81]"
      ]
     },
     "execution_count": 8,
     "metadata": {},
     "output_type": "execute_result"
    }
   ],
   "source": [
    "a = [x**2 for x in range(10) if x>5]\n",
    "a"
   ]
  },
  {
   "cell_type": "markdown",
   "id": "4ae29886",
   "metadata": {},
   "source": [
    "### 字典推导式"
   ]
  },
  {
   "cell_type": "code",
   "execution_count": 11,
   "id": "6ffbedda",
   "metadata": {
    "ExecuteTime": {
     "end_time": "2022-06-04T12:18:44.305861Z",
     "start_time": "2022-06-04T12:18:44.293893Z"
    }
   },
   "outputs": [
    {
     "data": {
      "text/plain": [
       "{0: True,\n",
       " 1: False,\n",
       " 2: True,\n",
       " 3: False,\n",
       " 4: True,\n",
       " 5: False,\n",
       " 6: True,\n",
       " 7: False,\n",
       " 8: True,\n",
       " 9: False}"
      ]
     },
     "execution_count": 11,
     "metadata": {},
     "output_type": "execute_result"
    }
   ],
   "source": [
    "b = {i:i%2 == 0 for i in range(10)}\n",
    "b #与列表推导式类似"
   ]
  },
  {
   "cell_type": "markdown",
   "id": "fa093943",
   "metadata": {},
   "source": [
    "### 集合推导式"
   ]
  },
  {
   "cell_type": "code",
   "execution_count": 12,
   "id": "56e7b07a",
   "metadata": {
    "ExecuteTime": {
     "end_time": "2022-06-04T12:19:31.333950Z",
     "start_time": "2022-06-04T12:19:31.321481Z"
    }
   },
   "outputs": [
    {
     "data": {
      "text/plain": [
       "{1, 2, 3, 4, 5, 6, 7, 8}"
      ]
     },
     "execution_count": 12,
     "metadata": {},
     "output_type": "execute_result"
    }
   ],
   "source": [
    "c = {i for i in [1,2,3,4,5,6,7,8,1,2,3]}\n",
    "c"
   ]
  },
  {
   "cell_type": "markdown",
   "id": "38d1dbb8",
   "metadata": {},
   "source": [
    "字符串、元组没有推导式"
   ]
  },
  {
   "cell_type": "markdown",
   "id": "f6cce542",
   "metadata": {},
   "source": [
    "### 嵌套for循环"
   ]
  },
  {
   "cell_type": "code",
   "execution_count": 13,
   "id": "f6e0458a",
   "metadata": {
    "ExecuteTime": {
     "end_time": "2022-06-04T12:22:20.333006Z",
     "start_time": "2022-06-04T12:22:20.317765Z"
    }
   },
   "outputs": [
    {
     "data": {
      "text/plain": [
       "[1, 2, 3, 4, 5, 6, 7, 8, 9]"
      ]
     },
     "execution_count": 13,
     "metadata": {},
     "output_type": "execute_result"
    }
   ],
   "source": [
    "s = [(1,2,3), (4,5,6), (7,8,9)]\n",
    "f = [x for i in s for x in i]\n",
    "f"
   ]
  },
  {
   "cell_type": "markdown",
   "id": "54837bae",
   "metadata": {},
   "source": [
    "# 生成器与迭代器"
   ]
  },
  {
   "cell_type": "markdown",
   "id": "b5fe7ed9",
   "metadata": {},
   "source": [
    "生成器是一个特殊的程序，可以被用作控制循环的迭代行为，python中生成器是迭代器的一种，使用yield返回值函数，每次调用yield会暂停，而可以使用next()函数和send()函数恢复生成器。在python中，这种一边循环一边计算的机制，称为生成器（generator）。  \n",
    "生成器一次只能产生一个值，这样消耗的内存数量将大大减小。"
   ]
  },
  {
   "cell_type": "markdown",
   "id": "bd07acb3",
   "metadata": {},
   "source": [
    "## 迭代器（Iterator）"
   ]
  },
  {
   "cell_type": "markdown",
   "id": "59cc21f9",
   "metadata": {},
   "source": [
    "### 可迭代对象（Iterable）"
   ]
  },
  {
   "cell_type": "markdown",
   "id": "206f990f",
   "metadata": {},
   "source": [
    "可迭代对象，可以简单理解为可遍历对象，即能够使用 for 循环遍历的对象。Python中常见的可迭代对象有：列表、元组、字符串、集合、range、字典等。"
   ]
  },
  {
   "cell_type": "markdown",
   "id": "993c7c50",
   "metadata": {},
   "source": [
    "迭代器和生成器都是可迭代对象。"
   ]
  },
  {
   "cell_type": "markdown",
   "id": "af3782fd",
   "metadata": {},
   "source": [
    "对于Python中的任意对象，只要它定义了可以返回一个迭代器的 `__iter__` 方法，或者定义了可以支持下标索引的 `__getitem__` 方法，那么它就是一个可迭代对象。"
   ]
  },
  {
   "cell_type": "markdown",
   "id": "36df0ae8",
   "metadata": {},
   "source": [
    "对可迭代对象使用 `__iter__` 方法后，会返回一个迭代器。"
   ]
  },
  {
   "cell_type": "markdown",
   "id": "79b83151",
   "metadata": {},
   "source": [
    "如何判断一个对象是否为可迭代对象呢？请看下例。"
   ]
  },
  {
   "cell_type": "code",
   "execution_count": 1,
   "id": "517882b4",
   "metadata": {
    "ExecuteTime": {
     "end_time": "2022-11-03T09:46:34.158923Z",
     "start_time": "2022-11-03T09:46:34.143018Z"
    }
   },
   "outputs": [
    {
     "data": {
      "text/plain": [
       "False"
      ]
     },
     "execution_count": 1,
     "metadata": {},
     "output_type": "execute_result"
    }
   ],
   "source": [
    "from collections.abc import Iterable\n",
    "\n",
    "isinstance([1, 2, 3], Iterable)  # True\n",
    "isinstance((1, 2, 3), Iterable)  # True\n",
    "isinstance('123', Iterable)  # True\n",
    "isinstance({1, 2, 3}, Iterable)  # True\n",
    "isinstance(range(3), Iterable)  # True\n",
    "isinstance({'key': 'value'}, Iterable)  # True\n",
    "isinstance(123, Iterable)  # False"
   ]
  },
  {
   "cell_type": "markdown",
   "id": "32f9cd3c",
   "metadata": {},
   "source": [
    "可以看出，我们只需要使用 `isinstance(object, Iterable)` 即可判断给定的 object 是否为可迭代对象。"
   ]
  },
  {
   "cell_type": "markdown",
   "id": "aa5a4f82",
   "metadata": {},
   "source": [
    "严格来讲，`isinstance()` 只会将有 `__iter__ `方法的对象判断为 Iterable。换言之，仅用 `__getitem__` 方法实现的可迭代对象会被 `isinstance()` 误判为不可迭代对象。最正确的做法是直接尝试 `iter(object)`，如果没有报错，则说明 object 是可迭代对象。"
   ]
  },
  {
   "cell_type": "markdown",
   "id": "5ad436aa",
   "metadata": {},
   "source": [
    "### 将可迭代对象转化为迭代器"
   ]
  },
  {
   "cell_type": "markdown",
   "id": "0beed1bd",
   "metadata": {},
   "source": [
    "我们可以将现有的可迭代对象转化为可迭代器："
   ]
  },
  {
   "cell_type": "code",
   "execution_count": 2,
   "id": "5be694b6",
   "metadata": {
    "ExecuteTime": {
     "end_time": "2022-11-03T09:50:25.138788Z",
     "start_time": "2022-11-03T09:50:25.132771Z"
    }
   },
   "outputs": [
    {
     "data": {
      "text/plain": [
       "<str_iterator at 0x2850870f250>"
      ]
     },
     "execution_count": 2,
     "metadata": {},
     "output_type": "execute_result"
    }
   ],
   "source": [
    "s = '12345'\n",
    "myiter = iter(s)\n",
    "myiter"
   ]
  },
  {
   "cell_type": "markdown",
   "id": "23b5caeb",
   "metadata": {},
   "source": [
    "不断调用 `next` 方法来依次获取迭代器的元素："
   ]
  },
  {
   "cell_type": "code",
   "execution_count": 3,
   "id": "a1a2b895",
   "metadata": {
    "ExecuteTime": {
     "end_time": "2022-11-03T09:51:04.638359Z",
     "start_time": "2022-11-03T09:51:04.318084Z"
    }
   },
   "outputs": [
    {
     "ename": "StopIteration",
     "evalue": "",
     "output_type": "error",
     "traceback": [
      "\u001b[1;31m---------------------------------------------------------------------------\u001b[0m",
      "\u001b[1;31mStopIteration\u001b[0m                             Traceback (most recent call last)",
      "Cell \u001b[1;32mIn [3], line 11\u001b[0m\n\u001b[0;32m      9\u001b[0m \u001b[38;5;28mnext\u001b[39m(myiter)\n\u001b[0;32m     10\u001b[0m \u001b[38;5;66;03m# '5'\u001b[39;00m\n\u001b[1;32m---> 11\u001b[0m \u001b[38;5;28;43mnext\u001b[39;49m\u001b[43m(\u001b[49m\u001b[43mmyiter\u001b[49m\u001b[43m)\u001b[49m\n",
      "\u001b[1;31mStopIteration\u001b[0m: "
     ]
    }
   ],
   "source": [
    "next(myiter)\n",
    "# '1'\n",
    "next(myiter)\n",
    "# '2'\n",
    "next(myiter)\n",
    "# '3'\n",
    "next(myiter)\n",
    "# '4'\n",
    "next(myiter)\n",
    "# '5'\n",
    "next(myiter)"
   ]
  },
  {
   "cell_type": "markdown",
   "id": "4098b244",
   "metadata": {},
   "source": [
    "可见迭代器执行到最后时会抛出一个 StopIteration 异常。为避免这种异常，我们完全可以用更简单的 for 循环去遍历："
   ]
  },
  {
   "cell_type": "code",
   "execution_count": 5,
   "id": "acdcf511",
   "metadata": {
    "ExecuteTime": {
     "end_time": "2022-11-03T09:52:09.525095Z",
     "start_time": "2022-11-03T09:52:09.518119Z"
    }
   },
   "outputs": [
    {
     "name": "stdout",
     "output_type": "stream",
     "text": [
      "1\n",
      "2\n",
      "3\n",
      "4\n",
      "5\n"
     ]
    }
   ],
   "source": [
    "s = '12345'\n",
    "myiter = iter(s)\n",
    "for e in myiter:\n",
    "    print(e)"
   ]
  },
  {
   "cell_type": "markdown",
   "id": "2bd683fb",
   "metadata": {},
   "source": [
    "### 构造迭代器"
   ]
  },
  {
   "cell_type": "markdown",
   "id": "c6b07536",
   "metadata": {},
   "source": [
    "构造一个迭代器只需要在自定义的类中实现两个方法：`__iter__` 和 `__next__` 。"
   ]
  },
  {
   "cell_type": "markdown",
   "id": "136eaae9",
   "metadata": {},
   "source": [
    "- 迭代器是一个可以记住遍历位置的对象。\n",
    "- 迭代器对象会从第一个元素开始访问，直到所有元素都被访问为止，且只能前进不能后退。"
   ]
  },
  {
   "cell_type": "markdown",
   "id": "3df9cb6c",
   "metadata": {},
   "source": [
    "当我们构造类时，必须要有一个名为 `__init__()` 的函数，该函数可以在实例化时进行一些初始化。`__iter__()` 方法的行为类似，可以执行操作（初始化等），但必须始终返回迭代器对象本身。`__next__()` 方法还允许你进行其他操作，并且必须返回序列中的下一项。"
   ]
  },
  {
   "cell_type": "code",
   "execution_count": 6,
   "id": "e5dbd830",
   "metadata": {
    "ExecuteTime": {
     "end_time": "2022-11-03T09:55:31.917846Z",
     "start_time": "2022-11-03T09:55:31.903931Z"
    }
   },
   "outputs": [],
   "source": [
    "class MyIter:\n",
    "    def __iter__(self):\n",
    "        self.count = 1\n",
    "        return self\n",
    "    \n",
    "    def __next__(self):\n",
    "        x = self.count\n",
    "        self.count += 1\n",
    "        return x"
   ]
  },
  {
   "cell_type": "markdown",
   "id": "9b61b770",
   "metadata": {},
   "source": [
    "我们创建了一个返回数字的迭代器，每次序列的数值都将 +1。"
   ]
  },
  {
   "cell_type": "code",
   "execution_count": 7,
   "id": "b1d0998c",
   "metadata": {
    "ExecuteTime": {
     "end_time": "2022-11-03T09:56:08.962163Z",
     "start_time": "2022-11-03T09:56:08.953194Z"
    }
   },
   "outputs": [
    {
     "data": {
      "text/plain": [
       "3"
      ]
     },
     "execution_count": 7,
     "metadata": {},
     "output_type": "execute_result"
    }
   ],
   "source": [
    "myiter = iter(MyIter())\n",
    "next(myiter)\n",
    "# 1\n",
    "next(myiter)\n",
    "# 2\n",
    "next(myiter)\n",
    "# 3"
   ]
  },
  {
   "cell_type": "markdown",
   "id": "d810b12a",
   "metadata": {},
   "source": [
    "如果我们一直调用 `next()` 的方法，则序列的值将会无限递增下去。即如果我们使用 `for` 循环去遍历上述迭代器，循环将永远进行下去…"
   ]
  },
  {
   "cell_type": "raw",
   "id": "761c560d",
   "metadata": {},
   "source": [
    "myiter = iter(MyIter())\n",
    "for e in myiter:\n",
    "    print(e)\n",
    "# 循环将一直进行下去..."
   ]
  },
  {
   "cell_type": "markdown",
   "id": "de3cd1a3",
   "metadata": {},
   "source": [
    "为了防止迭代永远进行下去，我们可以在迭代次数达到一定值时抛出 `StopIteration` 异常"
   ]
  },
  {
   "cell_type": "code",
   "execution_count": 8,
   "id": "8155505b",
   "metadata": {
    "ExecuteTime": {
     "end_time": "2022-11-03T09:57:38.533831Z",
     "start_time": "2022-11-03T09:57:38.519924Z"
    }
   },
   "outputs": [],
   "source": [
    "class MyIter:\n",
    "    def __iter__(self):\n",
    "        self.count = 1\n",
    "        return self\n",
    "    \n",
    "    def __next__(self):\n",
    "        if self.count <= 5:\n",
    "            x = self.count\n",
    "            self.count += 1\n",
    "            return x\n",
    "        else:\n",
    "            raise StopIteration"
   ]
  },
  {
   "cell_type": "markdown",
   "id": "3fff69a4",
   "metadata": {},
   "source": [
    "这样再执行 `for` 循环就不会一直进行下去了："
   ]
  },
  {
   "cell_type": "code",
   "execution_count": 9,
   "id": "a23160ef",
   "metadata": {
    "ExecuteTime": {
     "end_time": "2022-11-03T09:58:03.368891Z",
     "start_time": "2022-11-03T09:58:03.361897Z"
    }
   },
   "outputs": [
    {
     "name": "stdout",
     "output_type": "stream",
     "text": [
      "1\n",
      "2\n",
      "3\n",
      "4\n",
      "5\n"
     ]
    }
   ],
   "source": [
    "myiter = iter(MyIter())\n",
    "for e in myiter:\n",
    "    print(e)"
   ]
  },
  {
   "cell_type": "markdown",
   "id": "896115a8",
   "metadata": {},
   "source": [
    "## 生成器（Generator）"
   ]
  },
  {
   "cell_type": "markdown",
   "id": "ce2ddad0",
   "metadata": {},
   "source": [
    "在Python中，一边迭代（循环）一边计算的机制，称为生成器。生成器能够迭代的关键是因为它有一个 `__next__` 方法。\n",
    "\n",
    "为什么要有生成器呢？我们知道，列表中的所有数据都存储在内存中，如果有海量数据的话将会非常消耗内存。很多时候，我们只需要访问列表中前面的元素，这样一来后面的元素所占用的空间就白白浪费了。\n",
    "\n",
    "如果列表元素能够按照某种算法推算出来，那我们就可以在循环的过程中不断推算出后续的元素，这样就不必创建完整的列表，从而节省了大量的空间（即用多少就生成多少）。\n",
    "\n",
    "有以下两种常用方法来创建生成器：\n",
    "\n",
    "- 将列表解析式中的 `[]` 改为 `()`。\n",
    "- 在自定义的函数中使用 `yield `关键字。此时这个函数就不再是一个普通函数，而是一个生成器，调用该函数就是创建了一个生成器对象。"
   ]
  },
  {
   "cell_type": "markdown",
   "id": "b2ad2850",
   "metadata": {},
   "source": [
    "### 使用 `()` 构造生成器"
   ]
  },
  {
   "cell_type": "markdown",
   "id": "5e0d9418",
   "metadata": {},
   "source": [
    "比较以下两段代码："
   ]
  },
  {
   "cell_type": "code",
   "execution_count": 10,
   "id": "d08fb1bb",
   "metadata": {
    "ExecuteTime": {
     "end_time": "2022-11-03T10:02:06.581375Z",
     "start_time": "2022-11-03T10:02:06.565751Z"
    }
   },
   "outputs": [
    {
     "data": {
      "text/plain": [
       "list"
      ]
     },
     "execution_count": 10,
     "metadata": {},
     "output_type": "execute_result"
    }
   ],
   "source": [
    "a = [x for x in range(3)]\n",
    "type(a)"
   ]
  },
  {
   "cell_type": "code",
   "execution_count": 11,
   "id": "b277d0ab",
   "metadata": {
    "ExecuteTime": {
     "end_time": "2022-11-03T10:02:07.426872Z",
     "start_time": "2022-11-03T10:02:07.417956Z"
    }
   },
   "outputs": [
    {
     "data": {
      "text/plain": [
       "generator"
      ]
     },
     "execution_count": 11,
     "metadata": {},
     "output_type": "execute_result"
    }
   ],
   "source": [
    "a = (x for x in range(3))\n",
    "type(a)"
   ]
  },
  {
   "cell_type": "markdown",
   "id": "585944cc",
   "metadata": {},
   "source": [
    "我们还可以比较列表解析式和生成器的耗时："
   ]
  },
  {
   "cell_type": "code",
   "execution_count": 13,
   "id": "bcfbabb9",
   "metadata": {
    "ExecuteTime": {
     "end_time": "2022-11-03T10:02:46.753114Z",
     "start_time": "2022-11-03T10:02:46.262980Z"
    }
   },
   "outputs": [
    {
     "name": "stdout",
     "output_type": "stream",
     "text": [
      "0.4801645278930664\n"
     ]
    }
   ],
   "source": [
    "import time\n",
    "tic = time.time()\n",
    "a = sum([x for x in range(10000000)])\n",
    "toc = time.time()\n",
    "print(toc - tic)"
   ]
  },
  {
   "cell_type": "code",
   "execution_count": 14,
   "id": "8648a493",
   "metadata": {
    "ExecuteTime": {
     "end_time": "2022-11-03T10:03:16.528819Z",
     "start_time": "2022-11-03T10:03:16.097002Z"
    }
   },
   "outputs": [
    {
     "name": "stdout",
     "output_type": "stream",
     "text": [
      "0.4167814254760742\n"
     ]
    }
   ],
   "source": [
    "tic = time.time()\n",
    "a = sum((x for x in range(10000000)))\n",
    "toc = time.time()\n",
    "print(toc - tic)"
   ]
  },
  {
   "cell_type": "markdown",
   "id": "3fe4fbbe",
   "metadata": {},
   "source": [
    "我们当然可以对生成器使用 `next()` 方法："
   ]
  },
  {
   "cell_type": "code",
   "execution_count": 17,
   "id": "8e7da0d3",
   "metadata": {
    "ExecuteTime": {
     "end_time": "2022-11-03T10:10:43.753104Z",
     "start_time": "2022-11-03T10:10:43.731217Z"
    }
   },
   "outputs": [
    {
     "ename": "StopIteration",
     "evalue": "",
     "output_type": "error",
     "traceback": [
      "\u001b[1;31m---------------------------------------------------------------------------\u001b[0m",
      "\u001b[1;31mStopIteration\u001b[0m                             Traceback (most recent call last)",
      "Cell \u001b[1;32mIn [17], line 8\u001b[0m\n\u001b[0;32m      6\u001b[0m \u001b[38;5;28mnext\u001b[39m(a)\n\u001b[0;32m      7\u001b[0m \u001b[38;5;66;03m# 2\u001b[39;00m\n\u001b[1;32m----> 8\u001b[0m \u001b[38;5;28;43mnext\u001b[39;49m\u001b[43m(\u001b[49m\u001b[43ma\u001b[49m\u001b[43m)\u001b[49m\n",
      "\u001b[1;31mStopIteration\u001b[0m: "
     ]
    }
   ],
   "source": [
    "a = (x for x in range(3))\n",
    "next(a)\n",
    "# 0\n",
    "next(a)\n",
    "# 1\n",
    "next(a)\n",
    "# 2\n",
    "next(a)\n",
    "# StopIteration: "
   ]
  },
  {
   "cell_type": "markdown",
   "id": "1198f8c1",
   "metadata": {},
   "source": [
    "但一般我们不会用 `next()` 来获取下一个返回值，而是直接使用 `for` 循环来迭代。"
   ]
  },
  {
   "cell_type": "markdown",
   "id": "807db8be",
   "metadata": {},
   "source": [
    "### 使用带有 `yield` 关键字的函数构造生成器"
   ]
  },
  {
   "cell_type": "markdown",
   "id": "8f8d07df",
   "metadata": {},
   "source": [
    "带有 `yield` 的函数不再是一个普通函数，而是一个生成器。`yield `相当于`return`一个值，并且记住这个返回的位置，下次迭代时，代码从 `yield` 的下一条语句开始执行。"
   ]
  },
  {
   "cell_type": "markdown",
   "id": "8b68073b",
   "metadata": {},
   "source": [
    "我们可以通过下面的例子先来理解一下："
   ]
  },
  {
   "cell_type": "code",
   "execution_count": 18,
   "id": "b4e73db9",
   "metadata": {
    "ExecuteTime": {
     "end_time": "2022-11-03T10:13:14.334379Z",
     "start_time": "2022-11-03T10:13:14.315504Z"
    }
   },
   "outputs": [
    {
     "data": {
      "text/plain": [
       "generator"
      ]
     },
     "execution_count": 18,
     "metadata": {},
     "output_type": "execute_result"
    }
   ],
   "source": [
    "def num():\n",
    "    print('开始执行')\n",
    "    for i in range(5):\n",
    "        yield i\n",
    "        print('继续执行')\n",
    "\n",
    "\n",
    "mygen = num()\n",
    "type(mygen)"
   ]
  },
  {
   "cell_type": "markdown",
   "id": "eadbaed7",
   "metadata": {},
   "source": [
    "由此，我们成功创建了一个生成器对象。接下来调用 `next` 方法观察这个生成器是如何工作的："
   ]
  },
  {
   "cell_type": "code",
   "execution_count": 19,
   "id": "c95c3115",
   "metadata": {
    "ExecuteTime": {
     "end_time": "2022-11-03T10:13:47.008979Z",
     "start_time": "2022-11-03T10:13:46.977152Z"
    }
   },
   "outputs": [
    {
     "name": "stdout",
     "output_type": "stream",
     "text": [
      "开始执行\n",
      "继续执行\n",
      "继续执行\n",
      "继续执行\n",
      "继续执行\n",
      "继续执行\n"
     ]
    },
    {
     "ename": "StopIteration",
     "evalue": "",
     "output_type": "error",
     "traceback": [
      "\u001b[1;31m---------------------------------------------------------------------------\u001b[0m",
      "\u001b[1;31mStopIteration\u001b[0m                             Traceback (most recent call last)",
      "Cell \u001b[1;32mIn [19], line 16\u001b[0m\n\u001b[0;32m     13\u001b[0m \u001b[38;5;28mnext\u001b[39m(mygen)\n\u001b[0;32m     14\u001b[0m \u001b[38;5;66;03m# 继续执行\u001b[39;00m\n\u001b[0;32m     15\u001b[0m \u001b[38;5;66;03m# 4\u001b[39;00m\n\u001b[1;32m---> 16\u001b[0m \u001b[38;5;28;43mnext\u001b[39;49m\u001b[43m(\u001b[49m\u001b[43mmygen\u001b[49m\u001b[43m)\u001b[49m\n",
      "\u001b[1;31mStopIteration\u001b[0m: "
     ]
    }
   ],
   "source": [
    "next(mygen)\n",
    "# 开始执行\n",
    "# 0\n",
    "next(mygen)\n",
    "# 继续执行\n",
    "# 1\n",
    "next(mygen)\n",
    "# 继续执行\n",
    "# 2\n",
    "next(mygen)\n",
    "# 继续执行\n",
    "# 3\n",
    "next(mygen)\n",
    "# 继续执行\n",
    "# 4\n",
    "next(mygen)\n",
    "# StopIteration:"
   ]
  },
  {
   "cell_type": "markdown",
   "id": "e3c6e583",
   "metadata": {},
   "source": [
    "当然我们也可以使用 `for` 循环来遍历这个生成器："
   ]
  },
  {
   "cell_type": "code",
   "execution_count": 21,
   "id": "2efca141",
   "metadata": {
    "ExecuteTime": {
     "end_time": "2022-11-03T10:14:44.683602Z",
     "start_time": "2022-11-03T10:14:44.675629Z"
    }
   },
   "outputs": [
    {
     "name": "stdout",
     "output_type": "stream",
     "text": [
      "开始执行\n",
      "0\n",
      "继续执行\n",
      "1\n",
      "继续执行\n",
      "2\n",
      "继续执行\n",
      "3\n",
      "继续执行\n",
      "4\n",
      "继续执行\n"
     ]
    }
   ],
   "source": [
    "def num():\n",
    "    print('开始执行')\n",
    "    for i in range(5):\n",
    "        yield i\n",
    "        print('继续执行')\n",
    "\n",
    "\n",
    "mygen = num()\n",
    "\n",
    "for step in mygen:\n",
    "    print(step)"
   ]
  },
  {
   "cell_type": "markdown",
   "id": "cecd5e8c",
   "metadata": {},
   "source": [
    "# 正则表达式"
   ]
  },
  {
   "cell_type": "markdown",
   "id": "eece0061",
   "metadata": {},
   "source": [
    "正则表达式（Regular Expression RE）是一个特殊的字符序列，一个字符串是否与我们所设定的字符序列相匹配，用于快速检索文本，实现一些替换文本的操作（区分大小写）。"
   ]
  },
  {
   "cell_type": "markdown",
   "id": "f05595ed",
   "metadata": {},
   "source": [
    "在python中，需要用到re模块来操作正则表达式 import re   \n",
    "构成类型：1）普通字符 2）特殊字符  \n",
    "正则表达式是对字符串操作的一种逻辑公式，就是用事先定义的一些特定字符及这些字符的组合，组成一个规律字符串，这个字符串用来表达对字符串的一种过滤逻辑。"
   ]
  },
  {
   "cell_type": "markdown",
   "id": "9b897e88",
   "metadata": {},
   "source": [
    "## 字符集合"
   ]
  },
  {
   "cell_type": "markdown",
   "id": "ea0f6bba",
   "metadata": {
    "ExecuteTime": {
     "end_time": "2022-06-04T13:16:29.594000Z",
     "start_time": "2022-06-04T13:16:29.589298Z"
    }
   },
   "source": [
    "[xyz] 匹配所包含的任意一个字符  \n",
    "[^xyz] 匹配未包含的任意字符  \n",
    "[a-z] 匹配指定范围内的任意字符  \n",
    "[^a-z] 匹配任何不在指定范围内的任意字符  \n",
    "[0-9] 匹配指定范围内的任意数字   \n",
    "[^0-9] 匹配任何不在指定范围内的任意数字  "
   ]
  },
  {
   "cell_type": "code",
   "execution_count": 1,
   "id": "41235e8a",
   "metadata": {
    "ExecuteTime": {
     "end_time": "2024-07-30T03:11:36.572044Z",
     "start_time": "2024-07-30T03:11:36.567618Z"
    }
   },
   "outputs": [
    {
     "name": "stdout",
     "output_type": "stream",
     "text": [
      "['acc', 'afc']\n"
     ]
    }
   ],
   "source": [
    "import re\n",
    "s = \"abc, acc, adc, aec, afc, ahc\"\n",
    "r = re.findall('a[cf]c', s) #寻找含c和f的字符串\n",
    "print(r)"
   ]
  },
  {
   "cell_type": "markdown",
   "id": "1dc02db7",
   "metadata": {},
   "source": [
    "## 概括字符集"
   ]
  },
  {
   "cell_type": "markdown",
   "id": "7f9da97d",
   "metadata": {},
   "source": [
    "\\d 匹配一个数字字符  \n",
    "\\D 匹配一个非数字字符  \n",
    "\\ 将下一个字符标记为一个特殊字符 \\n匹配一个换行符，\\r匹配一个回车符，\\.匹配一个点号  \n",
    "\\s 匹配任何空白字符，包括空格、制表符、换页符等  \n",
    "\\S 匹配任何非空白字符  \n",
    "\\w 匹配包括下划线的任何单词字符  \n",
    "\\W 匹配任何非单词字符"
   ]
  },
  {
   "cell_type": "markdown",
   "id": "b0cec72a",
   "metadata": {},
   "source": [
    "## 数量词"
   ]
  },
  {
   "cell_type": "markdown",
   "id": "cd6a1985",
   "metadata": {},
   "source": [
    "{n} 匹配确定的n次，'a{n}' 匹配n次a  \n",
    "{n,m} 最少匹配n次，最多匹配m次  \n",
    "{n,} 最少匹配n次  \n",
    "\\* 匹配前面的子表达式0次或多次 'za\\*' 能匹配'z','zaa'.'zaaa'等   \n",
    "? 匹配前面的子表达式0次或1次  \n",
    "x|y 匹配x或y  \n",
    ". 匹配除'\\n'之外的任何单个字符  \n",
    "\\+ 匹配前面的表达式一次或多次  \n",
    ".* 匹配任意字符  "
   ]
  },
  {
   "cell_type": "markdown",
   "id": "44a9f67a",
   "metadata": {},
   "source": [
    "## 边界匹配"
   ]
  },
  {
   "cell_type": "markdown",
   "id": "36b0ce1f",
   "metadata": {},
   "source": [
    "^ 匹配输入字符串的开始位置  \n",
    "$ 匹配输入字符串的结束位置"
   ]
  },
  {
   "cell_type": "markdown",
   "id": "5e4e82e9",
   "metadata": {},
   "source": [
    "## 组"
   ]
  },
  {
   "cell_type": "markdown",
   "id": "f1c73f1a",
   "metadata": {},
   "source": [
    "() 将匹配模式括起来代表一个组"
   ]
  },
  {
   "cell_type": "markdown",
   "id": "570a3ce9",
   "metadata": {},
   "source": [
    "## 常用的正则表达式处理函数"
   ]
  },
  {
   "cell_type": "markdown",
   "id": "0f22e843",
   "metadata": {},
   "source": [
    "### re.split()"
   ]
  },
  {
   "cell_type": "markdown",
   "id": "894a9954",
   "metadata": {},
   "source": [
    "re.split(pattern, string[, maxsplit=0, flags=0])  \n",
    "pattern:匹配的字符串  \n",
    "string:需要切分的字符串  \n",
    "maxsplit:分隔次数，默认为0(即不限次数)  \n",
    "flags:标志位，用于控制正则表达式的匹配方式，比如：是否区分大小写"
   ]
  },
  {
   "cell_type": "markdown",
   "id": "5eb1c873",
   "metadata": {},
   "source": [
    "单一分隔符，str.split()与 re.split()效果是一样的  \n",
    "多个单一 分隔符 时 ，”[]”与 “|”的 效果是一样的，但是 请注意 使用 “|”时某些字符 需要转义"
   ]
  },
  {
   "cell_type": "code",
   "execution_count": 5,
   "id": "9732b77b",
   "metadata": {
    "ExecuteTime": {
     "end_time": "2024-07-30T03:13:04.126856Z",
     "start_time": "2024-07-30T03:13:04.122565Z"
    }
   },
   "outputs": [
    {
     "name": "stdout",
     "output_type": "stream",
     "text": [
      "['word', 'Word', 'temp']\n",
      "['word', 'Word', 'temp']\n"
     ]
    }
   ],
   "source": [
    "line = \"word;Word;temp\"\n",
    "\"\"\"\n",
    "单一分隔符，str.split()与 re.split()作用一致 \n",
    "\"\"\"\n",
    "print(line.split(\";\"))\n",
    "print(re.split(r\";\", line))"
   ]
  },
  {
   "cell_type": "code",
   "execution_count": 10,
   "id": "ea1f4ba7",
   "metadata": {
    "ExecuteTime": {
     "end_time": "2024-07-30T03:17:36.014847Z",
     "start_time": "2024-07-30T03:17:36.010304Z"
    }
   },
   "outputs": [
    {
     "name": "stdout",
     "output_type": "stream",
     "text": [
      "['word', 'Word', 'emp', 'hahaha']\n",
      "['word', 'Word', '', 'emp', 'hahaha']\n"
     ]
    }
   ],
   "source": [
    "\"\"\"\n",
    "多个单一分隔符时 ，\"[]\"与 \"|\"的 效果是一样的，但是 请注意 使用\"|\"时某些字符需要转义  \n",
    "\"\"\"\n",
    "line1 = \"word;Word&&emp?hahaha\"\n",
    "print(re.split(r\"&&|;|,|\\?\", line1)) #别忘了转义\"?\"\n",
    "print(re.split(r\"[&&,;,?]\", line1)) # 多个分隔符无法分开，需要使用\"|\""
   ]
  },
  {
   "cell_type": "code",
   "execution_count": 16,
   "id": "914f7a7d",
   "metadata": {
    "ExecuteTime": {
     "end_time": "2024-07-30T03:23:11.263775Z",
     "start_time": "2024-07-30T03:23:11.259507Z"
    }
   },
   "outputs": [
    {
     "name": "stdout",
     "output_type": "stream",
     "text": [
      "['word', 'Word', 'emp', 'hahaha', 'whole', 'cai']\n"
     ]
    }
   ],
   "source": [
    "\"\"\"\n",
    "多个长短不一的分隔符时， 就应该使用 \"|\"\n",
    "\"\"\"\n",
    "line2 = \"word;Word,emp? hahaha||whole&&cai\"\n",
    "print(re.split(r\";|,|\\?\\s|;\\s|,\\s|&&|\\|\\|\", line2)) # \\|\\|代表||分隔符"
   ]
  },
  {
   "cell_type": "markdown",
   "id": "b97da3de",
   "metadata": {},
   "source": [
    "### re.findall()"
   ]
  },
  {
   "cell_type": "markdown",
   "id": "48779295",
   "metadata": {},
   "source": [
    "re.findall('正则表达式'，要检索的字符串,匹配模式)  \n",
    "在字符串中找到正则表达式所匹配的所有子串，并返回一个列表，如果没有找到匹配的，则返回空列表。匹配模式可以为空，re.I表示忽略大小写，re.S表示可以匹配换位符，或者re.I|re.S"
   ]
  },
  {
   "cell_type": "code",
   "execution_count": 26,
   "id": "3c3b8a16",
   "metadata": {
    "ExecuteTime": {
     "end_time": "2022-06-04T13:36:50.200473Z",
     "start_time": "2022-06-04T13:36:50.181044Z"
    }
   },
   "outputs": [
    {
     "name": "stdout",
     "output_type": "stream",
     "text": [
      "['C#']\n"
     ]
    }
   ],
   "source": [
    "import re\n",
    "language = 'PythonC#\\n'\n",
    "r = re.findall('c#', language, re.I)\n",
    "print(r)"
   ]
  },
  {
   "cell_type": "markdown",
   "id": "634e6bf1",
   "metadata": {},
   "source": [
    "### re.match()"
   ]
  },
  {
   "cell_type": "markdown",
   "id": "0c5f756a",
   "metadata": {},
   "source": [
    "re.match('正则表达式',字符串)  \n",
    "re.match从字符串的开始部位匹配，如果字符串开始不符合正则表达式，返回None。只匹配一次，不会匹配很多次。"
   ]
  },
  {
   "cell_type": "markdown",
   "id": "fa186893",
   "metadata": {},
   "source": [
    "### re.search()"
   ]
  },
  {
   "cell_type": "markdown",
   "id": "29a173b2",
   "metadata": {},
   "source": [
    "re.search('正则表达式',字符串)   \n",
    "re.search匹配整个字符串，只返回匹配到的第一个值，只匹配一次，不会匹配很多次。"
   ]
  },
  {
   "cell_type": "markdown",
   "id": "0f9e1443",
   "metadata": {
    "ExecuteTime": {
     "end_time": "2022-06-04T13:45:06.185978Z",
     "start_time": "2022-06-04T13:45:06.168882Z"
    }
   },
   "source": [
    "group() 用在search和match函数中  \n",
    "group函数返回匹配结果，只包括括号里的，括号外的不返回，可根据()选择输出  \n",
    "group(0)，记录的是完整的匹配结果  \n",
    "group(1)，获取第一个组中的正则表达式里面的匹配结果  \n",
    "group(1,2)，获取第一、二组中的匹配结果  \n",
    "group(n)，获取第n组中匹配结果   \n",
    "span()，返回匹配位置  \n",
    "span(n)，返回第n组中的匹配结果"
   ]
  },
  {
   "cell_type": "code",
   "execution_count": 28,
   "id": "a513aab8",
   "metadata": {
    "ExecuteTime": {
     "end_time": "2022-06-04T13:46:51.425542Z",
     "start_time": "2022-06-04T13:46:51.405558Z"
    }
   },
   "outputs": [
    {
     "name": "stdout",
     "output_type": "stream",
     "text": [
      " is short, i use \n"
     ]
    }
   ],
   "source": [
    "import re\n",
    "s = 'life is short, i use python.' #匹配life和python之间的字符\n",
    "r = re.search('life(.*)python', s) #(.*)表示一个组\n",
    "print(r.group(1))"
   ]
  },
  {
   "cell_type": "code",
   "execution_count": 30,
   "id": "e9936632",
   "metadata": {
    "ExecuteTime": {
     "end_time": "2022-06-04T13:49:50.161980Z",
     "start_time": "2022-06-04T13:49:50.147323Z"
    }
   },
   "outputs": [
    {
     "name": "stdout",
     "output_type": "stream",
     "text": [
      "(' is short, i use ', ',i love ')\n",
      "(' is short, i use ', ',i love ')\n"
     ]
    }
   ],
   "source": [
    "import re\n",
    "s = 'life is short, i use python,i love python.' #匹配life和python之间，以及python与python之间的字符\n",
    "r = re.search('life(.*)python(.*)python', s) \n",
    "print(r.group(1, 2))\n",
    "print(r.groups())#多个分组的情况"
   ]
  },
  {
   "cell_type": "markdown",
   "id": "470c8c40",
   "metadata": {},
   "source": [
    "### re.sub()"
   ]
  },
  {
   "cell_type": "markdown",
   "id": "66eae53d",
   "metadata": {
    "ExecuteTime": {
     "end_time": "2022-06-04T13:52:45.890784Z",
     "start_time": "2022-06-04T13:52:45.878011Z"
    }
   },
   "source": [
    "re.sub('正则表达式',需要替换成的字符串,原字符串,count=0或1) 正则替换  \n",
    "count=0表示替换所有符合条件的字符，count=1表示替换第一处符合条件的字符  "
   ]
  },
  {
   "cell_type": "code",
   "execution_count": 32,
   "id": "1d329cdd",
   "metadata": {
    "ExecuteTime": {
     "end_time": "2022-06-04T13:55:56.334924Z",
     "start_time": "2022-06-04T13:55:56.325618Z"
    }
   },
   "outputs": [
    {
     "name": "stdout",
     "output_type": "stream",
     "text": [
      "A9C0900D99\n"
     ]
    }
   ],
   "source": [
    "import re\n",
    "s = 'A8C3721D86'\n",
    "def convert(value):\n",
    "    matched = value.group()\n",
    "    if int(matched)>=6:\n",
    "        return '9'\n",
    "    else:\n",
    "        return '0'\n",
    "r = re.sub('\\d',convert,s)\n",
    "print(r)"
   ]
  },
  {
   "cell_type": "markdown",
   "id": "3c663111",
   "metadata": {},
   "source": [
    "## 常用正则表达式组合"
   ]
  },
  {
   "cell_type": "markdown",
   "id": "cd2defe7",
   "metadata": {},
   "source": [
    "网上搜。"
   ]
  },
  {
   "cell_type": "markdown",
   "id": "4c498710",
   "metadata": {},
   "source": [
    "# 函数"
   ]
  },
  {
   "cell_type": "markdown",
   "id": "2582ad9f",
   "metadata": {},
   "source": [
    "## 函数下划线"
   ]
  },
  {
   "cell_type": "markdown",
   "id": "12b3781b",
   "metadata": {},
   "source": [
    "1.函数名前单下划线\n",
    "\n",
    "\\_function  \n",
    "该类函数不是API的一部分，所以该函数只有类和子类能够访问调用，无法通过Import引入。\n",
    "\n",
    "2.函数名前双下划线\n",
    "\n",
    "\\_\\_function  \n",
    "该类函数不想让任何人重写它，只能从定义它的类内部访问，即此函数只有类对象本身能够访问。\n",
    "\n",
    "3.函数名前后双下划线\n",
    "\n",
    "\\_\\_function__  \n",
    "此类函数为系统定义函数名，命名函数时尽量避免此类命名方式，比如\\_\\_init__()"
   ]
  },
  {
   "cell_type": "markdown",
   "id": "20d53834",
   "metadata": {},
   "source": [
    "## 常用函数"
   ]
  },
  {
   "cell_type": "markdown",
   "id": "c9d59618",
   "metadata": {},
   "source": [
    "### zip()"
   ]
  },
  {
   "cell_type": "markdown",
   "id": "a431ebe9",
   "metadata": {},
   "source": [
    "zip()函数用于将可迭代的对象作为参数，将对象中对应的元素打包成一个元组，然后返回由这些元组组成的列表。如果各个迭代器的元素个数不一致，则返回列表长度与最短的对象相同，利用*号操作符，可以将元组解压为列表，zip返回的是一个对象，需要用list()转换。"
   ]
  },
  {
   "cell_type": "code",
   "execution_count": 20,
   "id": "a5edf235",
   "metadata": {
    "ExecuteTime": {
     "end_time": "2022-06-02T01:33:38.005992Z",
     "start_time": "2022-06-02T01:33:37.977043Z"
    }
   },
   "outputs": [
    {
     "data": {
      "text/plain": [
       "[(1, 4), (2, 5), (3, 6)]"
      ]
     },
     "execution_count": 20,
     "metadata": {},
     "output_type": "execute_result"
    }
   ],
   "source": [
    "a = [1, 2, 3]\n",
    "b = [4, 5, 6]\n",
    "c = zip(a,b)\n",
    "d = list(c)\n",
    "d"
   ]
  },
  {
   "cell_type": "code",
   "execution_count": 21,
   "id": "bb2cf69d",
   "metadata": {
    "ExecuteTime": {
     "end_time": "2022-06-02T01:33:53.996916Z",
     "start_time": "2022-06-02T01:33:53.979205Z"
    }
   },
   "outputs": [
    {
     "data": {
      "text/plain": [
       "[(1, 2, 3), (4, 5, 6)]"
      ]
     },
     "execution_count": 21,
     "metadata": {},
     "output_type": "execute_result"
    }
   ],
   "source": [
    "list(zip(*d))"
   ]
  },
  {
   "cell_type": "code",
   "execution_count": 23,
   "id": "49cf1618",
   "metadata": {
    "ExecuteTime": {
     "end_time": "2022-06-02T01:34:40.315574Z",
     "start_time": "2022-06-02T01:34:40.288400Z"
    }
   },
   "outputs": [
    {
     "data": {
      "text/plain": [
       "{1: 4, 2: 5, 3: 6}"
      ]
     },
     "execution_count": 23,
     "metadata": {},
     "output_type": "execute_result"
    }
   ],
   "source": [
    "c = {i:j for i, j in zip(a,b)}\n",
    "c"
   ]
  },
  {
   "cell_type": "code",
   "execution_count": 25,
   "id": "9e9ebc61",
   "metadata": {
    "ExecuteTime": {
     "end_time": "2022-06-02T01:35:13.014165Z",
     "start_time": "2022-06-02T01:35:12.991191Z"
    }
   },
   "outputs": [
    {
     "data": {
      "text/plain": [
       "{1: 4, 2: 5, 3: 6}"
      ]
     },
     "execution_count": 25,
     "metadata": {},
     "output_type": "execute_result"
    }
   ],
   "source": [
    "dict(zip(a,b))"
   ]
  },
  {
   "cell_type": "markdown",
   "id": "5a82dfb1",
   "metadata": {},
   "source": [
    "###  enumerate()"
   ]
  },
  {
   "cell_type": "code",
   "execution_count": 6,
   "id": "a81bd5fb",
   "metadata": {
    "ExecuteTime": {
     "end_time": "2022-06-02T09:15:46.253833Z",
     "start_time": "2022-06-02T09:15:46.245712Z"
    }
   },
   "outputs": [
    {
     "name": "stdout",
     "output_type": "stream",
     "text": [
      "0 one\n",
      "1 two\n",
      "2 three\n"
     ]
    }
   ],
   "source": [
    "seq = ['one', 'two', 'three']\n",
    "for i, element in enumerate(seq):\n",
    "    print(i,element)"
   ]
  },
  {
   "cell_type": "markdown",
   "id": "c81bafb1",
   "metadata": {},
   "source": [
    "用于将一个可遍历的数据对象（如列表，元组，字符串）组合为一个索引序列，同时列出数据和数据下标，一般用在for循环中"
   ]
  },
  {
   "cell_type": "markdown",
   "id": "15aef90c",
   "metadata": {},
   "source": [
    "### np.linalg.norm()"
   ]
  },
  {
   "cell_type": "markdown",
   "id": "0628ff25",
   "metadata": {},
   "source": [
    "`np.linalg.norm(x, ord=None, axis=None, keepdims=False)`  \n",
    "\n",
    "np.linalg.norm()用于求范数，linalg本意为linear(线性) + algebra(代数)，norm则表示范数。  \n",
    "1.x: 表示矩阵(一维数据也是可以的~)  \n",
    "2.ord: 表示范数类型"
   ]
  },
  {
   "cell_type": "code",
   "execution_count": 3,
   "id": "8e9d3462",
   "metadata": {
    "ExecuteTime": {
     "end_time": "2023-05-24T06:02:31.633283Z",
     "start_time": "2023-05-24T06:02:31.628417Z"
    }
   },
   "outputs": [
    {
     "name": "stdout",
     "output_type": "stream",
     "text": [
      "9.508032000695724\n"
     ]
    }
   ],
   "source": [
    "import numpy as np\n",
    "X = [[1, 2, 3], [4, 5, 6]]\n",
    "print(np.linalg.norm(X, ord=2)) #求2范数"
   ]
  },
  {
   "cell_type": "markdown",
   "id": "ea8440c2",
   "metadata": {},
   "source": [
    "### with"
   ]
  },
  {
   "cell_type": "markdown",
   "id": "d4a72148",
   "metadata": {},
   "source": [
    "有一些任务，可能事先需要设置，事后做清理工作。对于这种场景，Python的with语句提供了一种非常方便的处理方式。其中一个很好的例子是文件处理，你需要获取一个文件句柄，从文件中读取数据，然后关闭文件句柄。"
   ]
  },
  {
   "cell_type": "markdown",
   "id": "0f021e30",
   "metadata": {},
   "source": [
    "**Python 中的 with 语句用于异常处理，是一种上下文管理协议，封装了 try…except…finally 编码范式，提高了易用性。**"
   ]
  },
  {
   "cell_type": "code",
   "execution_count": 1,
   "id": "f8481a26",
   "metadata": {
    "ExecuteTime": {
     "end_time": "2024-08-06T01:29:37.797820Z",
     "start_time": "2024-08-06T01:29:37.791531Z"
    }
   },
   "outputs": [],
   "source": [
    "file = open('./test_runoob.txt', 'w')\n",
    "try:\n",
    "    file.write('hello world')\n",
    "finally:\n",
    "    file.close()"
   ]
  },
  {
   "cell_type": "markdown",
   "id": "40b5bbcd",
   "metadata": {},
   "source": [
    "以上代码我们对可能发生异常的代码处进行 try 捕获，发生异常时执行 except 代码块，finally 代码块是无论什么情况都会执行，所以文件会被关闭，不会因为执行异常而占用资源。"
   ]
  },
  {
   "cell_type": "code",
   "execution_count": 2,
   "id": "6189e1c9",
   "metadata": {
    "ExecuteTime": {
     "end_time": "2024-08-06T01:31:06.063440Z",
     "start_time": "2024-08-06T01:31:06.057563Z"
    }
   },
   "outputs": [],
   "source": [
    "with open('./test_runoob.txt', 'w') as file:\n",
    "    file.write('hello world !')"
   ]
  },
  {
   "cell_type": "markdown",
   "id": "67f51fb4",
   "metadata": {},
   "source": [
    "with-as表达式极大的简化了每次写finally的工作，这对保持代码的优雅性是有极大帮助的。\n",
    "\n",
    "如果有多个项，我们可以这么写：\n",
    "\n",
    "`with open(\"x.txt\") as f1, open('xxx.txt') as f2:`  \n",
    "`    do something with f1,f2`\n",
    "    \n",
    "因此，Python的with语句是提供一个有效的机制，让代码更简练，同时在异常产生时，清理工作更简单。"
   ]
  },
  {
   "cell_type": "markdown",
   "id": "56020491",
   "metadata": {},
   "source": [
    "## 参数打包与解包"
   ]
  },
  {
   "cell_type": "markdown",
   "id": "88be64af",
   "metadata": {},
   "source": [
    "### 解包"
   ]
  },
  {
   "cell_type": "markdown",
   "id": "5d7f1211",
   "metadata": {},
   "source": [
    "使用 * 解包列表，这样列表中所有的元素都能作为不同的参数传入函数中。函数中参数的数量必须与列表中元素的数量保持一致，这样一一对应，才可能解包成功。"
   ]
  },
  {
   "cell_type": "code",
   "execution_count": 16,
   "id": "b09940e0",
   "metadata": {
    "ExecuteTime": {
     "end_time": "2022-10-03T07:13:02.312583Z",
     "start_time": "2022-10-03T07:13:02.293454Z"
    }
   },
   "outputs": [
    {
     "name": "stdout",
     "output_type": "stream",
     "text": [
      "1 2 3 4\n"
     ]
    }
   ],
   "source": [
    "# 定义一个函数，传入四个参数，输出这四个参数\n",
    "def fun(a, b, c, d):\n",
    "    print(a, b, c, d)\n",
    "\n",
    "# 设置列表\n",
    "my_list = [1, 2, 3, 4]\n",
    "\n",
    "# 解包列表，作为参数传入函数\n",
    "fun(*my_list)"
   ]
  },
  {
   "cell_type": "code",
   "execution_count": 17,
   "id": "2abb2583",
   "metadata": {
    "ExecuteTime": {
     "end_time": "2022-10-03T07:14:06.297486Z",
     "start_time": "2022-10-03T07:14:06.285724Z"
    }
   },
   "outputs": [
    {
     "data": {
      "text/plain": [
       "range(3, 6)"
      ]
     },
     "execution_count": 17,
     "metadata": {},
     "output_type": "execute_result"
    }
   ],
   "source": [
    "range(3, 6) # 正常情况下，需要传入两个单独的数值\n",
    "args = [3, 6]\n",
    "range(*args) # 解包列表，调用range函数"
   ]
  },
  {
   "cell_type": "markdown",
   "id": "0f1477a1",
   "metadata": {},
   "source": [
    "### 打包"
   ]
  },
  {
   "cell_type": "markdown",
   "id": "16e07d74",
   "metadata": {},
   "source": [
    "当我们不知道需要给函数传入几个参数时，需要将全部的参数打包在一个元组中。"
   ]
  },
  {
   "cell_type": "code",
   "execution_count": 18,
   "id": "73fba252",
   "metadata": {
    "ExecuteTime": {
     "end_time": "2022-10-03T07:16:35.205762Z",
     "start_time": "2022-10-03T07:16:35.187674Z"
    }
   },
   "outputs": [
    {
     "name": "stdout",
     "output_type": "stream",
     "text": [
      "15\n",
      "30\n"
     ]
    }
   ],
   "source": [
    "# 参数打包在Python程序中的重要作用\n",
    "\n",
    "# 以下函数使用打包方法，对参数的数量进行相加运算\n",
    "def mySum(*args):\n",
    "    return sum(args)\n",
    "\n",
    "# 传入参数\n",
    "print(mySum(1, 2, 3, 4, 5))\n",
    "print(mySum(10, 20))"
   ]
  },
  {
   "cell_type": "markdown",
   "id": "b03acccf",
   "metadata": {},
   "source": [
    "### 解包和打包组合使用"
   ]
  },
  {
   "cell_type": "code",
   "execution_count": 19,
   "id": "7a4cafe0",
   "metadata": {
    "ExecuteTime": {
     "end_time": "2022-10-03T07:18:27.277556Z",
     "start_time": "2022-10-03T07:18:27.256595Z"
    }
   },
   "outputs": [
    {
     "name": "stdout",
     "output_type": "stream",
     "text": [
      "Geeksforgeeks awesome world!\n"
     ]
    }
   ],
   "source": [
    "# 参数打包解包在Python程序中的重要作用\n",
    "\n",
    "# 定义一个函数，设置需要传入三个参数，输出这三个参数\n",
    "def fun1(a, b, c):\n",
    "    print(a, b, c)\n",
    "\n",
    "# 定义一个参数，将所有参数打包成元组，输入 *args 传入fun2\n",
    "def fun2(*args):\n",
    "    # 将元组转换成列表，方便修改元素\n",
    "    args = list(args)\n",
    "    # 修改 args 的内容\n",
    "    args[0] = 'Geeksforgeeks'\n",
    "    args[1] = 'awesome'\n",
    "    # 解包 args，将其传入fun1函数\n",
    "    fun1(*args)\n",
    "\n",
    "# 执行代码\n",
    "fun2('Hello', 'beautiful', 'world!')"
   ]
  },
  {
   "cell_type": "markdown",
   "id": "4c357ae2",
   "metadata": {},
   "source": [
    "### 使用 ** 打包解包字典"
   ]
  },
  {
   "cell_type": "code",
   "execution_count": 20,
   "id": "9e2aa66f",
   "metadata": {
    "ExecuteTime": {
     "end_time": "2022-10-03T07:21:33.174485Z",
     "start_time": "2022-10-03T07:21:33.161491Z"
    }
   },
   "outputs": [
    {
     "name": "stdout",
     "output_type": "stream",
     "text": [
      "2 4 10\n"
     ]
    }
   ],
   "source": [
    "# 定义一个函数，使用 ** 为字典解包\n",
    "def fun(a, b, c):\n",
    "    print(a, b, c)\n",
    "\n",
    "d = {'a':2, 'b':4, 'c':10}\n",
    "fun(**d)"
   ]
  },
  {
   "cell_type": "markdown",
   "id": "a932a603",
   "metadata": {},
   "source": [
    "** 可以用来解包字典内容，字典中的键需要而且一定是与函数的参数保持一致。"
   ]
  },
  {
   "cell_type": "markdown",
   "id": "4b526ff0",
   "metadata": {},
   "source": [
    "## math模块"
   ]
  },
  {
   "cell_type": "code",
   "execution_count": 2,
   "id": "8adb2e20",
   "metadata": {
    "ExecuteTime": {
     "end_time": "2022-06-08T03:41:11.640002Z",
     "start_time": "2022-06-08T03:41:11.625069Z"
    }
   },
   "outputs": [],
   "source": [
    "import math"
   ]
  },
  {
   "cell_type": "markdown",
   "id": "e4cc3ff0",
   "metadata": {},
   "source": [
    "math.e 自然常数e  \n",
    "math.pi Π  \n",
    "math.sqrt() x的平方根   \n",
    "math.ceil() 向上取整  \n",
    "math.floor() 向下取整  \n",
    "math.pow(x,y) x的y次方"
   ]
  },
  {
   "cell_type": "markdown",
   "id": "79251aad",
   "metadata": {},
   "source": [
    "## 全局变量"
   ]
  },
  {
   "cell_type": "code",
   "execution_count": 2,
   "id": "a0325e48",
   "metadata": {
    "ExecuteTime": {
     "end_time": "2024-10-16T02:14:19.943483Z",
     "start_time": "2024-10-16T02:14:19.939631Z"
    }
   },
   "outputs": [],
   "source": [
    "global Vars # Vars为全局变量，可在类内的函数内使用\n",
    "Vars = 10"
   ]
  },
  {
   "cell_type": "markdown",
   "id": "0589894a",
   "metadata": {},
   "source": [
    "# 其他"
   ]
  },
  {
   "cell_type": "markdown",
   "id": "3c4acf48",
   "metadata": {},
   "source": [
    "## 连续赋值语句"
   ]
  },
  {
   "cell_type": "code",
   "execution_count": 18,
   "id": "ba7ceb42",
   "metadata": {
    "ExecuteTime": {
     "end_time": "2022-06-02T01:26:48.344816Z",
     "start_time": "2022-06-02T01:26:48.338779Z"
    }
   },
   "outputs": [
    {
     "name": "stdout",
     "output_type": "stream",
     "text": [
      "1\n",
      "3\n"
     ]
    }
   ],
   "source": [
    "a = 3\n",
    "a, b = 1, a\n",
    "print(a)\n",
    "print(b)"
   ]
  },
  {
   "cell_type": "markdown",
   "id": "c7b4ebca",
   "metadata": {},
   "source": [
    "规则：连续赋值语句中等式右边其实都是局部变量，而不是真正的变量本身，通常是先计算右边，算完之后再一次性赋值给左边。"
   ]
  },
  {
   "cell_type": "markdown",
   "id": "aa44a797",
   "metadata": {},
   "source": [
    "## python计数器"
   ]
  },
  {
   "cell_type": "code",
   "execution_count": 1,
   "id": "a8c56903",
   "metadata": {
    "ExecuteTime": {
     "end_time": "2022-06-08T03:41:07.140026Z",
     "start_time": "2022-06-08T03:41:07.120910Z"
    }
   },
   "outputs": [],
   "source": [
    "from collections import Counter"
   ]
  },
  {
   "cell_type": "code",
   "execution_count": 42,
   "id": "85ec4d89",
   "metadata": {
    "ExecuteTime": {
     "end_time": "2022-06-02T03:00:09.660194Z",
     "start_time": "2022-06-02T03:00:09.639069Z"
    }
   },
   "outputs": [
    {
     "data": {
      "text/plain": [
       "Counter({'w': 1, 'o': 2, 'd': 1, 'm': 1, 'a': 1, 'n': 1})"
      ]
     },
     "execution_count": 42,
     "metadata": {},
     "output_type": "execute_result"
    }
   ],
   "source": [
    "c = Counter('woodman') #可以是序列，字符串等\n",
    "c"
   ]
  },
  {
   "cell_type": "code",
   "execution_count": 44,
   "id": "3a36c459",
   "metadata": {
    "ExecuteTime": {
     "end_time": "2022-06-02T03:00:45.203090Z",
     "start_time": "2022-06-02T03:00:45.181484Z"
    }
   },
   "outputs": [
    {
     "data": {
      "text/plain": [
       "{'w': 1, 'o': 2, 'd': 1, 'm': 1, 'a': 1, 'n': 1}"
      ]
     },
     "execution_count": 44,
     "metadata": {},
     "output_type": "execute_result"
    }
   ],
   "source": [
    "dict(c) #将其变成字典"
   ]
  },
  {
   "cell_type": "code",
   "execution_count": 43,
   "id": "a8e41aff",
   "metadata": {
    "ExecuteTime": {
     "end_time": "2022-06-02T03:00:25.249997Z",
     "start_time": "2022-06-02T03:00:25.229128Z"
    }
   },
   "outputs": [
    {
     "data": {
      "text/plain": [
       "[('o', 2), ('w', 1), ('d', 1), ('m', 1), ('a', 1), ('n', 1)]"
      ]
     },
     "execution_count": 43,
     "metadata": {},
     "output_type": "execute_result"
    }
   ],
   "source": [
    "c.most_common()"
   ]
  },
  {
   "cell_type": "markdown",
   "id": "47909d52",
   "metadata": {},
   "source": [
    "## python计时"
   ]
  },
  {
   "cell_type": "code",
   "execution_count": 52,
   "id": "ee56ec34",
   "metadata": {
    "ExecuteTime": {
     "end_time": "2022-06-02T03:04:31.923296Z",
     "start_time": "2022-06-02T03:04:31.905977Z"
    }
   },
   "outputs": [
    {
     "data": {
      "text/plain": [
       "0.0"
      ]
     },
     "execution_count": 52,
     "metadata": {},
     "output_type": "execute_result"
    }
   ],
   "source": [
    "import time\n",
    "start = time.time()\n",
    "a = 1\n",
    "end = time.time()\n",
    "end-start"
   ]
  },
  {
   "cell_type": "markdown",
   "id": "0bbe4586",
   "metadata": {},
   "source": [
    "## python代码注释"
   ]
  },
  {
   "cell_type": "markdown",
   "id": "68013828",
   "metadata": {},
   "source": [
    "单行 #  \n",
    "多行 1、选中代码，ctrl+/ 再按一次取消注释  \n",
    "2、每行 #  \n",
    "3、输入''' '''或者\"\"\" \"\"\" 中间写入文本  "
   ]
  },
  {
   "cell_type": "markdown",
   "id": "bcf5aed4",
   "metadata": {
    "ExecuteTime": {
     "end_time": "2022-06-04T14:03:58.000239Z",
     "start_time": "2022-06-04T14:03:57.984774Z"
    }
   },
   "source": [
    "python多行Tab  \n",
    "选中代码，Tab 代码后移一个Tab  \n",
    "选中代码，shift+Tab 代码前移一个Tab，再按一次取消   "
   ]
  },
  {
   "cell_type": "markdown",
   "id": "f788b31a",
   "metadata": {},
   "source": [
    "python中有中文  \n",
    "在文件开头加上中文注释 \n",
    "#coding=utf-8  \n",
    "或者 \n",
    "#coding=gbk"
   ]
  },
  {
   "cell_type": "markdown",
   "id": "265e8b16",
   "metadata": {},
   "source": [
    "## Tab补全"
   ]
  },
  {
   "cell_type": "markdown",
   "id": "ebc5c85a",
   "metadata": {},
   "source": [
    "1、当在命令行输入表达式时，按下Tab键即可为任意变量搜索命名空间，与你目前输入的字符进行匹配。  \n",
    "2、在函数的关键字参数中节约时间。  \n",
    "3、补全对象或模块属性。"
   ]
  },
  {
   "cell_type": "markdown",
   "id": "df092d35",
   "metadata": {},
   "source": [
    "## 内省"
   ]
  },
  {
   "cell_type": "markdown",
   "id": "5b269f0c",
   "metadata": {},
   "source": [
    "1、在一个变量名的前或后使用问号，可以显示一些关于该对象的概要信息。  \n",
    "2、使用**双问号**可以显示函数的源代码。  \n",
    "3、把一些字符和通配符(\\*)结合在一起，会显示所有匹配通配符的表达式的命名。 \\*表达式\\* ?  \n",
    "4、ctrl+c可以使python程序停止运行。"
   ]
  },
  {
   "cell_type": "markdown",
   "id": "b9f8eca1",
   "metadata": {},
   "source": [
    "# 类"
   ]
  },
  {
   "cell_type": "markdown",
   "id": "fd264b19",
   "metadata": {},
   "source": [
    "## 基本概念"
   ]
  },
  {
   "cell_type": "markdown",
   "id": "df24f488",
   "metadata": {},
   "source": [
    "面向对象的特征：封装、多态和继承。\n",
    "- 类是现实世界或思维世界中的实体在计算机中的反映，它将数据以及这些数据上的操作封装在一起，用来描述具有相同属性和方法的对象的集合。\n",
    "- 类是模板，被实例化后就变成一个具体的对象，python中约定类名以大写字母开头，类中的函数称为方法。\n",
    "- 成员的可见性包含public（公有的）和private（私有的）。\n",
    "- 类包含变量和方法，变量包含类变量和实例变量，方法包含类方法、实例方法、魔法方法和静态方法。"
   ]
  },
  {
   "cell_type": "markdown",
   "id": "77d46787",
   "metadata": {},
   "source": [
    "## 变量"
   ]
  },
  {
   "cell_type": "markdown",
   "id": "ee84eeb1",
   "metadata": {},
   "source": [
    "类变量：与类有关的变量，即类中但不是实例中的变量，没有self的变量。  \n",
    "实例变量：与对象有关的变量，即实例方法中的变量，self.变量名来表示。又称为属性，属性访问采用圆点记法，当属性名与方法名同名时，属性会覆盖方法。  "
   ]
  },
  {
   "cell_type": "markdown",
   "id": "2a47faaa",
   "metadata": {},
   "source": [
    "## 方法"
   ]
  },
  {
   "cell_type": "markdown",
   "id": "160586ce",
   "metadata": {},
   "source": [
    "### 类方法"
   ]
  },
  {
   "cell_type": "markdown",
   "id": "40dc4ee9",
   "metadata": {},
   "source": [
    "类方法：用于操作类变量的方法，必须有@classmethod，习惯用cls作为参数名。"
   ]
  },
  {
   "cell_type": "code",
   "execution_count": 1,
   "id": "dd5e20dc",
   "metadata": {
    "ExecuteTime": {
     "end_time": "2022-10-03T06:01:08.539066Z",
     "start_time": "2022-10-03T06:01:08.519623Z"
    }
   },
   "outputs": [],
   "source": [
    "@classmethod\n",
    "def sum1(cls):\n",
    "    cls.sum = 1"
   ]
  },
  {
   "cell_type": "markdown",
   "id": "8b5433ee",
   "metadata": {},
   "source": [
    "### 实例方法"
   ]
  },
  {
   "cell_type": "markdown",
   "id": "4149bf7c",
   "metadata": {},
   "source": [
    "实例方法：带有self的方法，用于操作实例变量，self必须有，后面再加形参。"
   ]
  },
  {
   "cell_type": "code",
   "execution_count": 2,
   "id": "3e098572",
   "metadata": {
    "ExecuteTime": {
     "end_time": "2022-10-03T06:03:09.447672Z",
     "start_time": "2022-10-03T06:03:09.429643Z"
    }
   },
   "outputs": [],
   "source": [
    "def student(self, name, age):\n",
    "    self.name = name\n",
    "    self.age = age"
   ]
  },
  {
   "cell_type": "markdown",
   "id": "b99c0edf",
   "metadata": {},
   "source": [
    "实例方法中访问类变量：\n",
    "- 类名.类变量名\n",
    "- self.__class__.类变量名"
   ]
  },
  {
   "cell_type": "markdown",
   "id": "91eb19f6",
   "metadata": {},
   "source": [
    "### 静态方法"
   ]
  },
  {
   "cell_type": "markdown",
   "id": "fca77007",
   "metadata": {},
   "source": [
    "静态方法：没有self参数，没有指定传入值。"
   ]
  },
  {
   "cell_type": "code",
   "execution_count": 4,
   "id": "b8602e78",
   "metadata": {
    "ExecuteTime": {
     "end_time": "2022-10-03T06:06:25.804841Z",
     "start_time": "2022-10-03T06:06:25.786829Z"
    }
   },
   "outputs": [],
   "source": [
    "@staticmethod\n",
    "def sum2():\n",
    "    pass\n",
    "    return 1"
   ]
  },
  {
   "cell_type": "markdown",
   "id": "1f6b2b7c",
   "metadata": {},
   "source": [
    "### 魔法方法"
   ]
  },
  {
   "cell_type": "markdown",
   "id": "a08ad9f3",
   "metadata": {},
   "source": [
    "魔法方法：在python中，有一些内置好的特定的方法，这些方法在进行特定的操作时会自动被调用，称之为魔法方法，它们总是被双下划线包围，\\__方法名__\\()，重载/重写用得较多。"
   ]
  },
  {
   "cell_type": "markdown",
   "id": "641af6ed",
   "metadata": {},
   "source": [
    "1、 \\__init__\\(self, 参数列表)：初始化函数，又叫构造函数，在创建实例对象为其赋值时使用，不需要返回值。"
   ]
  },
  {
   "cell_type": "code",
   "execution_count": 5,
   "id": "fded65db",
   "metadata": {
    "ExecuteTime": {
     "end_time": "2022-10-03T06:17:23.667468Z",
     "start_time": "2022-10-03T06:17:23.655411Z"
    }
   },
   "outputs": [],
   "source": [
    "def __init__(self, name, age):\n",
    "    self.name = name\n",
    "    self.age = age"
   ]
  },
  {
   "cell_type": "markdown",
   "id": "7c36f057",
   "metadata": {},
   "source": [
    "2、 \\__new__\\(cls. 参数列表)：\n",
    "- new是在一个对象被实例化的时候所调用的第一个方法。\n",
    "- 它的第一个参数是这个类，其他的参数是用来直接传递给init方法。\n",
    "- new主要用于继承一个不可变的类型，比如一个tuple或string，对继承的方法进行重写。"
   ]
  },
  {
   "cell_type": "code",
   "execution_count": 8,
   "id": "bd27d0b6",
   "metadata": {
    "ExecuteTime": {
     "end_time": "2022-10-03T06:23:31.455678Z",
     "start_time": "2022-10-03T06:23:31.436332Z"
    }
   },
   "outputs": [
    {
     "name": "stdout",
     "output_type": "stream",
     "text": [
      "A\n"
     ]
    }
   ],
   "source": [
    "#将str重写为输入一个字符串，将其字符大写\n",
    "class capstr(str):\n",
    "    def __new__(cls, string):\n",
    "        string = string.upper()\n",
    "        return str.__new__(cls, string)\n",
    "    \n",
    "f = capstr('a')\n",
    "print(f)"
   ]
  },
  {
   "cell_type": "markdown",
   "id": "8bfe4d98",
   "metadata": {},
   "source": [
    "3、 创建对象的步骤：\n",
    "- 首先调用\\__new__\\()得到一个对象。\n",
    "- 调用\\__init__为对象添加属性。\n",
    "- 将对象赋值给变量"
   ]
  },
  {
   "cell_type": "markdown",
   "id": "16ee77e1",
   "metadata": {},
   "source": [
    "4、 \\__del__\\(self)：析构器，当一个实例被销毁时调用的方法。"
   ]
  },
  {
   "cell_type": "markdown",
   "id": "b741effe",
   "metadata": {},
   "source": [
    "5、内建函数：内建函数通常是python自定义的一些函数，这些函数通常具有某些特定的功能。"
   ]
  },
  {
   "cell_type": "markdown",
   "id": "aa26fdfa",
   "metadata": {},
   "source": [
    "## 类的创建和实例化"
   ]
  },
  {
   "cell_type": "markdown",
   "id": "92196bb4",
   "metadata": {},
   "source": [
    "### 创建类"
   ]
  },
  {
   "cell_type": "raw",
   "id": "5327b6a7",
   "metadata": {},
   "source": [
    "class 类名():\n",
    "    类变量  \n",
    "    实例方法\n",
    "    ..."
   ]
  },
  {
   "cell_type": "markdown",
   "id": "2442555c",
   "metadata": {},
   "source": [
    "### 实例化类"
   ]
  },
  {
   "cell_type": "markdown",
   "id": "93b53233",
   "metadata": {},
   "source": [
    "- 变量 = 类名(参数列表)，参数列表可以为空\n",
    "- 变量.方法名(参数列表)，参数列表可以为空"
   ]
  },
  {
   "cell_type": "markdown",
   "id": "d37b1b60",
   "metadata": {},
   "source": [
    "1、 实例化时，python会先去找实例变量，如果没有，会找类变量。  \n",
    "2、 其他模块调用另一模块中的类：from 模块名 import 类名"
   ]
  },
  {
   "cell_type": "code",
   "execution_count": 15,
   "id": "8fa4f741",
   "metadata": {
    "ExecuteTime": {
     "end_time": "2022-10-03T06:39:53.327435Z",
     "start_time": "2022-10-03T06:39:53.303133Z"
    }
   },
   "outputs": [
    {
     "data": {
      "text/plain": [
       "'A'"
      ]
     },
     "execution_count": 15,
     "metadata": {},
     "output_type": "execute_result"
    }
   ],
   "source": [
    "class St(): #定义类\n",
    "    def new(self, string): #定义实例方法\n",
    "        self.string = string.upper()\n",
    "        return self.string\n",
    "    \n",
    "#实例化\n",
    "f = St()\n",
    "f.new('a') "
   ]
  },
  {
   "cell_type": "markdown",
   "id": "3c7776a0",
   "metadata": {},
   "source": [
    "## 继承"
   ]
  },
  {
   "cell_type": "markdown",
   "id": "72c91e74",
   "metadata": {},
   "source": [
    "class 子类名(父类名):  子类又叫派生类，父类又叫基类、超类。  \n",
    "子类继承了父类的所有属性和方法，同时还可以定义自己的属性和方法，如果父类与子类有同名的方法，python会优先调用子类的方法。"
   ]
  },
  {
   "cell_type": "markdown",
   "id": "03ba370c",
   "metadata": {},
   "source": [
    "### 方法重写"
   ]
  },
  {
   "cell_type": "markdown",
   "id": "c3364ba2",
   "metadata": {},
   "source": [
    "1、方法重写：如果从父类继承的方法不能满足子类的需求，可以对其进行改写，这个过程叫方法的覆盖，也称为方法的重写。  \n",
    "2、继承的特点：\n",
    "- 如果在子类中需要父类的构造方法就需要显式地调用父类的构造方法，或者不重写父类的方法。\n",
    "-- case1：子类不重写\\__init__，实例化子类时，会自动调用父类的\\__init__。\n",
    "-- case2：如果重写了\\__init__，实例化子类时，就不会调用父类已经定义的\\__init__。\n",
    "-- case3：如果重写了\\__init__，要继承父类的构造方法，可以使用**super**关键字。super(子类, self).\\__init__\\(参数列表)\n",
    "- 在调用父类的方法时，需要加上父类的类名作为前缀，且需要带上self参数变量，区别在于类中自身调用普通函数时不需要带上self参数。\n",
    "- python总是首先查找对应类型的方法，如果它不能在子类中找到对应的方法，它才开始到父类中逐个查找。\n",
    "\n",
    "3、如果在继承元组中列了一个以上的类，那么它就是**多重继承**。class 子类(父类1, 父类2, ..)  \n",
    "4、issubclass(A, B) ,检查B是否是A的子类。"
   ]
  },
  {
   "cell_type": "code",
   "execution_count": 28,
   "id": "041d7d92",
   "metadata": {
    "ExecuteTime": {
     "end_time": "2022-10-13T03:55:04.386815Z",
     "start_time": "2022-10-13T03:55:04.373816Z"
    }
   },
   "outputs": [],
   "source": [
    "class Person:\n",
    "    def __init__(self, name = \"caoyuyu\"):\n",
    "        self.name = name\n",
    "\n",
    "#继承所有\n",
    "class Puple(Person):\n",
    "    pass\n",
    "\n",
    "#继承，但覆盖了init方法\n",
    "class Puple_Init(Person):\n",
    "    def __init__(self, age):\n",
    "        self.age = age\n",
    "\n",
    "#重写，但继承父类的init方法\n",
    "class Puple_Super(Person):\n",
    "    def __init__(self, age, name):\n",
    "        self.age = age\n",
    "        super().__init__(name) #要加参数，否则无法更改父类的值"
   ]
  },
  {
   "cell_type": "code",
   "execution_count": 25,
   "id": "bf3adcce",
   "metadata": {
    "ExecuteTime": {
     "end_time": "2022-10-13T03:54:50.868361Z",
     "start_time": "2022-10-13T03:54:50.849361Z"
    }
   },
   "outputs": [],
   "source": [
    "#重写，但继承父类的init方法\n",
    "class Puple_Super(Person):\n",
    "    def __init__(self, age, name):\n",
    "        self.age = age\n",
    "        super(Puple_Super, self).__init__() #要加参数，否则无法更改父类的值"
   ]
  },
  {
   "cell_type": "code",
   "execution_count": 4,
   "id": "1cb04b60",
   "metadata": {
    "ExecuteTime": {
     "end_time": "2022-10-13T03:48:59.242897Z",
     "start_time": "2022-10-13T03:48:59.232897Z"
    }
   },
   "outputs": [],
   "source": [
    "pp = Puple()"
   ]
  },
  {
   "cell_type": "code",
   "execution_count": 5,
   "id": "0c719775",
   "metadata": {
    "ExecuteTime": {
     "end_time": "2022-10-13T03:49:02.222910Z",
     "start_time": "2022-10-13T03:49:02.215939Z"
    }
   },
   "outputs": [],
   "source": [
    "pp_i = Puple_Init(10)"
   ]
  },
  {
   "cell_type": "code",
   "execution_count": 29,
   "id": "4be1004c",
   "metadata": {
    "ExecuteTime": {
     "end_time": "2022-10-13T03:55:07.427939Z",
     "start_time": "2022-10-13T03:55:07.416941Z"
    }
   },
   "outputs": [],
   "source": [
    "pp_s = Puple_Super(10, \"huruming\")"
   ]
  },
  {
   "cell_type": "code",
   "execution_count": 7,
   "id": "3e381505",
   "metadata": {
    "ExecuteTime": {
     "end_time": "2022-10-13T03:49:24.784937Z",
     "start_time": "2022-10-13T03:49:24.762937Z"
    }
   },
   "outputs": [
    {
     "data": {
      "text/plain": [
       "'caoyuyu'"
      ]
     },
     "execution_count": 7,
     "metadata": {},
     "output_type": "execute_result"
    }
   ],
   "source": [
    "pp.name"
   ]
  },
  {
   "cell_type": "code",
   "execution_count": 8,
   "id": "3b432253",
   "metadata": {
    "ExecuteTime": {
     "end_time": "2022-10-13T03:49:35.785116Z",
     "start_time": "2022-10-13T03:49:35.766115Z"
    }
   },
   "outputs": [
    {
     "ename": "AttributeError",
     "evalue": "'Puple_Init' object has no attribute 'name'",
     "output_type": "error",
     "traceback": [
      "\u001b[1;31m---------------------------------------------------------------------------\u001b[0m",
      "\u001b[1;31mAttributeError\u001b[0m                            Traceback (most recent call last)",
      "Cell \u001b[1;32mIn [8], line 1\u001b[0m\n\u001b[1;32m----> 1\u001b[0m \u001b[43mpp_i\u001b[49m\u001b[38;5;241;43m.\u001b[39;49m\u001b[43mname\u001b[49m\n",
      "\u001b[1;31mAttributeError\u001b[0m: 'Puple_Init' object has no attribute 'name'"
     ]
    }
   ],
   "source": [
    "pp_i.name"
   ]
  },
  {
   "cell_type": "code",
   "execution_count": 30,
   "id": "ae9552df",
   "metadata": {
    "ExecuteTime": {
     "end_time": "2022-10-13T03:55:10.248424Z",
     "start_time": "2022-10-13T03:55:10.240458Z"
    }
   },
   "outputs": [
    {
     "data": {
      "text/plain": [
       "'huruming'"
      ]
     },
     "execution_count": 30,
     "metadata": {},
     "output_type": "execute_result"
    }
   ],
   "source": [
    "pp_s.name"
   ]
  },
  {
   "cell_type": "markdown",
   "id": "5774801e",
   "metadata": {},
   "source": [
    "### 继承顺序"
   ]
  },
  {
   "cell_type": "code",
   "execution_count": 31,
   "id": "9f42b239",
   "metadata": {
    "ExecuteTime": {
     "end_time": "2022-10-13T05:39:13.795529Z",
     "start_time": "2022-10-13T05:39:13.777528Z"
    }
   },
   "outputs": [],
   "source": [
    "class A:\n",
    "    def __init__(self):\n",
    "        print('A')"
   ]
  },
  {
   "cell_type": "code",
   "execution_count": 32,
   "id": "01f4ef2e",
   "metadata": {
    "ExecuteTime": {
     "end_time": "2022-10-13T05:39:36.698120Z",
     "start_time": "2022-10-13T05:39:36.685122Z"
    }
   },
   "outputs": [],
   "source": [
    "class B(A):\n",
    "    def __init__(self):\n",
    "        print('B')\n",
    "        super().__init__()\n",
    "\n",
    "class C(A):\n",
    "    def __init__(self):\n",
    "        print('C')\n",
    "        super().__init__()\n",
    "\n",
    "class D(A):\n",
    "    def __init__(self):\n",
    "        print('D')\n",
    "        super().__init__()"
   ]
  },
  {
   "cell_type": "code",
   "execution_count": 33,
   "id": "d3739804",
   "metadata": {
    "ExecuteTime": {
     "end_time": "2022-10-13T05:39:53.048709Z",
     "start_time": "2022-10-13T05:39:53.029683Z"
    }
   },
   "outputs": [],
   "source": [
    "class E(B, C):\n",
    "    def __init__(self):\n",
    "        print('E')\n",
    "        super().__init__()\n",
    "\n",
    "class F(C, D):\n",
    "    def __init__(self):\n",
    "        print('F')\n",
    "        super().__init__()\n",
    "\n",
    "class G(E, F):\n",
    "    def __init__(self):\n",
    "        print('G')\n",
    "        super().__init__()"
   ]
  },
  {
   "cell_type": "code",
   "execution_count": 34,
   "id": "35fc6a16",
   "metadata": {
    "ExecuteTime": {
     "end_time": "2022-10-13T05:40:16.936796Z",
     "start_time": "2022-10-13T05:40:16.915855Z"
    }
   },
   "outputs": [
    {
     "name": "stdout",
     "output_type": "stream",
     "text": [
      "G\n",
      "E\n",
      "B\n",
      "F\n",
      "C\n",
      "D\n",
      "A\n"
     ]
    },
    {
     "data": {
      "text/plain": [
       "<__main__.G at 0x1b5910826a0>"
      ]
     },
     "execution_count": 34,
     "metadata": {},
     "output_type": "execute_result"
    }
   ],
   "source": [
    "G()"
   ]
  },
  {
   "cell_type": "markdown",
   "id": "921fe9a0",
   "metadata": {},
   "source": [
    "G继承自E, F是并列的，初始化的时候不会先把E初始化完毕才初始化F"
   ]
  },
  {
   "cell_type": "markdown",
   "id": "659ca7a7",
   "metadata": {},
   "source": [
    "### super() 在 python2、3中的区别"
   ]
  },
  {
   "cell_type": "markdown",
   "id": "40989370",
   "metadata": {},
   "source": [
    "python3 直接写成 ： super().\\__init__\\()   \n",
    "\n",
    "python2 必须写成 ：super(本类名,self).\\__init__\\()"
   ]
  },
  {
   "cell_type": "markdown",
   "id": "02131dbd",
   "metadata": {},
   "source": [
    "# 装饰器"
   ]
  },
  {
   "cell_type": "markdown",
   "id": "f20ec366",
   "metadata": {},
   "source": [
    "装饰器是将一个函数包装在另一个函数中，该函数以某种方式修改原始函数，例如添加功能、修改参数或结果等等。"
   ]
  },
  {
   "cell_type": "markdown",
   "id": "25505f30",
   "metadata": {},
   "source": [
    "## 使用函数装饰器"
   ]
  },
  {
   "cell_type": "markdown",
   "id": "efd9e9c0",
   "metadata": {},
   "source": [
    "### 实现方法"
   ]
  },
  {
   "cell_type": "markdown",
   "id": "5533b606",
   "metadata": {},
   "source": [
    "#### 定义装饰器函数"
   ]
  },
  {
   "cell_type": "code",
   "execution_count": 8,
   "id": "c53754e5",
   "metadata": {
    "ExecuteTime": {
     "end_time": "2023-02-16T08:58:45.101158Z",
     "start_time": "2023-02-16T08:58:45.088224Z"
    }
   },
   "outputs": [],
   "source": [
    "# 定义装饰器函数\n",
    "def fun_decorator(some_funct):\n",
    "    def wrapper():\n",
    "        print('这是一个装饰器')\n",
    "        for i in range(10):\n",
    "            print(i)\n",
    "        print('装饰器运行完毕，返回原始的调度方法')\n",
    "        print(some_funct())\n",
    "    return wrapper"
   ]
  },
  {
   "cell_type": "markdown",
   "id": "5a1609ff",
   "metadata": {},
   "source": [
    "#### 定义主函数"
   ]
  },
  {
   "cell_type": "code",
   "execution_count": 9,
   "id": "5126ed68",
   "metadata": {
    "ExecuteTime": {
     "end_time": "2023-02-16T08:58:46.121346Z",
     "start_time": "2023-02-16T08:58:46.118348Z"
    }
   },
   "outputs": [],
   "source": [
    "# 定义主函数\n",
    "def main_fun():\n",
    "    text = '我是主程序'\n",
    "    return text"
   ]
  },
  {
   "cell_type": "markdown",
   "id": "6d642712",
   "metadata": {},
   "source": [
    "#### 调用装饰器"
   ]
  },
  {
   "cell_type": "markdown",
   "id": "f6284553",
   "metadata": {},
   "source": [
    "将主函数作为一个变量传递给装饰器，并把这个装饰器赋值给主函数"
   ]
  },
  {
   "cell_type": "code",
   "execution_count": 10,
   "id": "73bb525b",
   "metadata": {
    "ExecuteTime": {
     "end_time": "2023-02-16T08:58:47.522797Z",
     "start_time": "2023-02-16T08:58:47.516150Z"
    }
   },
   "outputs": [
    {
     "name": "stdout",
     "output_type": "stream",
     "text": [
      "这是一个装饰器\n",
      "0\n",
      "1\n",
      "2\n",
      "3\n",
      "4\n",
      "5\n",
      "6\n",
      "7\n",
      "8\n",
      "9\n",
      "装饰器运行完毕，返回原始的调度方法\n",
      "我是主程序\n"
     ]
    }
   ],
   "source": [
    "main_fun = fun_decorator(main_fun)\n",
    "main_fun()"
   ]
  },
  {
   "cell_type": "markdown",
   "id": "924d6ffe",
   "metadata": {},
   "source": [
    "#### 使用语法糖"
   ]
  },
  {
   "cell_type": "markdown",
   "id": "1426a2d9",
   "metadata": {},
   "source": [
    "我们可以使用语法糖（@符号）来注释主函数是由fun_decorator修改的，这样可以消除main_fun = fun_decorator(main_fun)"
   ]
  },
  {
   "cell_type": "code",
   "execution_count": 11,
   "id": "23561a78",
   "metadata": {
    "ExecuteTime": {
     "end_time": "2023-02-16T09:08:54.229666Z",
     "start_time": "2023-02-16T09:08:54.221695Z"
    }
   },
   "outputs": [
    {
     "name": "stdout",
     "output_type": "stream",
     "text": [
      "这是一个装饰器\n",
      "0\n",
      "1\n",
      "2\n",
      "3\n",
      "4\n",
      "5\n",
      "6\n",
      "7\n",
      "8\n",
      "9\n",
      "装饰器运行完毕，返回原始的调度方法\n",
      "我是主程序\n"
     ]
    }
   ],
   "source": [
    "# 定义装饰器函数\n",
    "def fun_decorator(some_funct):\n",
    "    def wrapper():\n",
    "        print('这是一个装饰器')\n",
    "        for i in range(10):\n",
    "            print(i)\n",
    "        print('装饰器运行完毕，返回原始的调度方法')\n",
    "        print(some_funct())\n",
    "    return wrapper\n",
    "\n",
    "@fun_decorator\n",
    "\n",
    "# 定义主函数\n",
    "def main_fun():\n",
    "    text = '我是主程序'\n",
    "    return text\n",
    "\n",
    "main_fun()"
   ]
  },
  {
   "cell_type": "markdown",
   "id": "be91c66a",
   "metadata": {},
   "source": [
    "### 工作原理"
   ]
  },
  {
   "cell_type": "markdown",
   "id": "d11b0a8e",
   "metadata": {},
   "source": [
    "当一个带有装饰器的函数被调用，装饰器函数会捕捉到这个调用，然后装饰器函数会执行它的工作。在它完成之后，移交给原始函数，从而完成任务。\n",
    "\n",
    "语法糖是编程语言中的一种特殊语法，旨在通过使代码更易于读或写，令程序员的工作更轻松。语法糖表达式是通过查看糖丢失时代码功能是否会一起丢失来识别的。"
   ]
  },
  {
   "cell_type": "markdown",
   "id": "8d63a670",
   "metadata": {},
   "source": [
    "函数装饰器显然适用于函数。@fun_decorator装饰器行放在函数定义之前的行上。语法糖接收一个函数，并通过另一个函数自动运行其结果。在处理结束时，原始函数调用的名称应用于最终结果。对于系统来说，它看起来像直接提供结果的原始函数调用。(但，其实并不是)下面是装饰器的演示。"
   ]
  },
  {
   "cell_type": "code",
   "execution_count": 14,
   "id": "2626f9ef",
   "metadata": {
    "ExecuteTime": {
     "end_time": "2023-02-16T09:14:17.662448Z",
     "start_time": "2023-02-16T09:14:17.652449Z"
    }
   },
   "outputs": [
    {
     "name": "stdout",
     "output_type": "stream",
     "text": [
      "这是一个装饰器\n",
      "0\n",
      "1\n",
      "2\n",
      "3\n",
      "4\n",
      "5\n",
      "6\n",
      "7\n",
      "8\n",
      "9\n",
      "装饰器运行完毕，返回原始的调度方法\n",
      "None\n"
     ]
    }
   ],
   "source": [
    "@fun_decorator\n",
    "def my_function():\n",
    "    pass\n",
    "\n",
    "my_function()"
   ]
  },
  {
   "cell_type": "markdown",
   "id": "67075cae",
   "metadata": {},
   "source": [
    "当python解释器到达此代码块时，将处理my_function()并将结果传递给@fun_decorator所指向的函数。装饰器函数将被处理，结果替换为原来的my_function()结果。从本质上说，装饰器劫持了函数的调用，修改原始结果，并将修改结果替换为原始函数提供的结果。\n",
    "\n",
    "修改装饰器代码，可以采用管理或增加原始调用的形式。一旦一个函数完成它的工作，装饰器就接管并对原始结果进行处理，返回修改后的代码。"
   ]
  },
  {
   "cell_type": "markdown",
   "id": "4857a08f",
   "metadata": {},
   "source": [
    "## 使用类装饰器"
   ]
  },
  {
   "cell_type": "markdown",
   "id": "774c9f55",
   "metadata": {},
   "source": [
    "从python的2.6版本开始，装饰器就被用于处理类。在这种情况下，装饰器不仅可以应用于函数，还可以用于单个实例或类本身。它们使开发人员的意图更加明显，在调用方法或处理对象时，它们可以用于最小化错误。"
   ]
  },
  {
   "cell_type": "markdown",
   "id": "e79037ce",
   "metadata": {},
   "source": [
    "### 实现方法"
   ]
  },
  {
   "cell_type": "markdown",
   "id": "995f8948",
   "metadata": {},
   "source": [
    "类方法也可以使用装饰器。实例方法是最常见的方法形式，即类中的函数。"
   ]
  },
  {
   "cell_type": "code",
   "execution_count": 15,
   "id": "db65e79e",
   "metadata": {
    "ExecuteTime": {
     "end_time": "2023-02-16T09:21:42.720418Z",
     "start_time": "2023-02-16T09:21:42.706419Z"
    }
   },
   "outputs": [],
   "source": [
    "class Cat(object):\n",
    "    def __init__(self, breed, age):\n",
    "        super(Cat, self).__init__()\n",
    "        self.breed = breed\n",
    "        self.age = age\n",
    "        \n",
    "    def cat_age(self):\n",
    "        return self.age\n",
    "    def breed(self):\n",
    "        return self.breed\n",
    "\n",
    "    def __repr__(self):\n",
    "        return '{breed}, {age}'.format(breed = self.breed, age = self.age)"
   ]
  },
  {
   "cell_type": "markdown",
   "id": "d1808935",
   "metadata": {},
   "source": [
    "要使用这个类，需要创建一个Cat实例，提供初始参数。"
   ]
  },
  {
   "cell_type": "code",
   "execution_count": 16,
   "id": "e9027462",
   "metadata": {
    "ExecuteTime": {
     "end_time": "2023-02-16T09:22:17.069735Z",
     "start_time": "2023-02-16T09:22:17.062765Z"
    }
   },
   "outputs": [],
   "source": [
    "chip = Cat('domestic shorthair', 4)"
   ]
  },
  {
   "cell_type": "markdown",
   "id": "f50333cd",
   "metadata": {},
   "source": [
    "接下来，调用类方法，使其可以正常运行。"
   ]
  },
  {
   "cell_type": "code",
   "execution_count": 17,
   "id": "53dcaf15",
   "metadata": {
    "ExecuteTime": {
     "end_time": "2023-02-16T09:22:33.587072Z",
     "start_time": "2023-02-16T09:22:33.569071Z"
    }
   },
   "outputs": [
    {
     "name": "stdout",
     "output_type": "stream",
     "text": [
      "4\n",
      "domestic shorthair\n"
     ]
    }
   ],
   "source": [
    "print(chip.age)\n",
    "print(chip.breed)"
   ]
  },
  {
   "cell_type": "markdown",
   "id": "c03ed4dd",
   "metadata": {},
   "source": [
    "注意，这些方法被绑定到了一个实例chip中，因此，它们不能再泛型Cat类上调用。"
   ]
  },
  {
   "cell_type": "code",
   "execution_count": 18,
   "id": "9965a596",
   "metadata": {
    "ExecuteTime": {
     "end_time": "2023-02-16T09:23:00.329654Z",
     "start_time": "2023-02-16T09:23:00.252654Z"
    }
   },
   "outputs": [
    {
     "ename": "AttributeError",
     "evalue": "type object 'Cat' has no attribute 'age'",
     "output_type": "error",
     "traceback": [
      "\u001b[1;31m---------------------------------------------------------------------------\u001b[0m",
      "\u001b[1;31mAttributeError\u001b[0m                            Traceback (most recent call last)",
      "Cell \u001b[1;32mIn[18], line 1\u001b[0m\n\u001b[1;32m----> 1\u001b[0m \u001b[38;5;28mprint\u001b[39m(\u001b[43mCat\u001b[49m\u001b[38;5;241;43m.\u001b[39;49m\u001b[43mage\u001b[49m)\n",
      "\u001b[1;31mAttributeError\u001b[0m: type object 'Cat' has no attribute 'age'"
     ]
    }
   ],
   "source": [
    "print(Cat.age)"
   ]
  },
  {
   "cell_type": "markdown",
   "id": "eeabc420",
   "metadata": {},
   "source": [
    "静态方法是应用于所有实例的方法。它们用方法定义之前的@staticmethod装饰器标识。另外，方法本身不需要定义self参数。"
   ]
  },
  {
   "cell_type": "raw",
   "id": "1d881b3c",
   "metadata": {},
   "source": [
    "@staticmethod\n",
    "def cry():\n",
    "    return '橘猫'"
   ]
  },
  {
   "cell_type": "markdown",
   "id": "d470f52f",
   "metadata": {},
   "source": [
    "静态方法可以应用于实例和类本身。"
   ]
  },
  {
   "cell_type": "code",
   "execution_count": 19,
   "id": "4fd2ea1b",
   "metadata": {
    "ExecuteTime": {
     "end_time": "2023-02-16T09:25:28.907036Z",
     "start_time": "2023-02-16T09:25:28.887576Z"
    }
   },
   "outputs": [],
   "source": [
    "class Cat(object):\n",
    "    def __init__(self, breed, age):\n",
    "        super(Cat, self).__init__()\n",
    "        self.breed = breed\n",
    "        self.age = age\n",
    "        \n",
    "    def cat_age(self):\n",
    "        return self.age\n",
    "    def breed(self):\n",
    "        return self.breed\n",
    "    \n",
    "    @staticmethod\n",
    "    def cry():\n",
    "        return '橘猫'\n",
    "\n",
    "    def __repr__(self):\n",
    "        return '{breed}, {age}'.format(breed = self.breed, age = self.age)"
   ]
  },
  {
   "cell_type": "code",
   "execution_count": 20,
   "id": "85150f1e",
   "metadata": {
    "ExecuteTime": {
     "end_time": "2023-02-16T09:25:35.314813Z",
     "start_time": "2023-02-16T09:25:35.301812Z"
    }
   },
   "outputs": [
    {
     "name": "stdout",
     "output_type": "stream",
     "text": [
      "<function Cat.cry at 0x0000017B54227280>\n",
      "橘猫\n",
      "<function Cat.cry at 0x0000017B54227280>\n",
      "橘猫\n"
     ]
    }
   ],
   "source": [
    "chip = Cat('橘猫', 10)\n",
    "print(chip.cry)\n",
    "print(chip.cry())\n",
    "\n",
    "print(Cat.cry)\n",
    "print(Cat.cry())"
   ]
  },
  {
   "cell_type": "markdown",
   "id": "ac4aacce",
   "metadata": {},
   "source": [
    "当调用的是不带括号的静态方法会返回方法的内存位置。方法没有绑定到实例，但是类也可以使用它。只有在使用括号时，才会显示正确的返回对象。"
   ]
  },
  {
   "cell_type": "markdown",
   "id": "f44058a8",
   "metadata": {},
   "source": [
    "类方法由创建方法之前的@classmethod标识。此外，方法参数是cls而不是self。可以在前面的例子中的静态方法之后添加以下代码。"
   ]
  },
  {
   "cell_type": "code",
   "execution_count": 23,
   "id": "e9960cdd",
   "metadata": {
    "ExecuteTime": {
     "end_time": "2023-02-16T09:28:26.186420Z",
     "start_time": "2023-02-16T09:28:26.165420Z"
    }
   },
   "outputs": [],
   "source": [
    "class Cat(object):\n",
    "    def __init__(self, breed, age):\n",
    "        super(Cat, self).__init__()\n",
    "        self.breed = breed\n",
    "        self.age = age\n",
    "        \n",
    "    def cat_age(self):\n",
    "        return self.age\n",
    "    def breed(self):\n",
    "        return self.breed\n",
    "    \n",
    "    @staticmethod\n",
    "    def cry():\n",
    "        return '橘猫'\n",
    "    \n",
    "    @classmethod\n",
    "    def type(cls):\n",
    "        if cls.__name__ == \"Cat\":\n",
    "            return \"some sort of domestic cat\"\n",
    "        else:\n",
    "            return cls.__name__\n",
    "\n",
    "    def __repr__(self):\n",
    "        return '{breed}, {age}'.format(breed = self.breed, age = self.age)"
   ]
  },
  {
   "cell_type": "code",
   "execution_count": 24,
   "id": "0af2e1d0",
   "metadata": {
    "ExecuteTime": {
     "end_time": "2023-02-16T09:28:45.476833Z",
     "start_time": "2023-02-16T09:28:45.466833Z"
    }
   },
   "outputs": [
    {
     "name": "stdout",
     "output_type": "stream",
     "text": [
      "some sort of domestic cat\n"
     ]
    }
   ],
   "source": [
    "chip = Cat('橘猫',1)\n",
    "print(chip.type())"
   ]
  },
  {
   "cell_type": "markdown",
   "id": "945ea38a",
   "metadata": {},
   "source": [
    "在创建实例时，将检查它来自哪一个类。如果泛型Cat类是生成器，则会输出一条消息，如果使用Cat类的子类，则输出该类名称。"
   ]
  },
  {
   "cell_type": "markdown",
   "id": "56b506c5",
   "metadata": {},
   "source": [
    "# 开发包管理"
   ]
  },
  {
   "cell_type": "markdown",
   "id": "5542ba12",
   "metadata": {},
   "source": [
    "poetry是一个Python虚拟环境和依赖管理的工具。poetry和pipenv类似，另外还提供了打包和发布的功能。  \n",
    "[官方文档](https://python-poetry.org/docs/)  "
   ]
  },
  {
   "cell_type": "markdown",
   "id": "f5ba921e",
   "metadata": {},
   "source": [
    "## poetry 安装"
   ]
  },
  {
   "cell_type": "markdown",
   "id": "dc27756d",
   "metadata": {},
   "source": [
    "`pip install --user poetry`"
   ]
  },
  {
   "cell_type": "markdown",
   "id": "f41c67d6",
   "metadata": {},
   "source": [
    "安装完成之后，将脚本路径添加到 环境变量中，添加完成之后，可在终端输入命令： `poetry --version` 来确认是否安装配置完成。"
   ]
  },
  {
   "cell_type": "markdown",
   "id": "582d1d39",
   "metadata": {},
   "source": [
    "## 工程初始化"
   ]
  },
  {
   "cell_type": "markdown",
   "id": "b6d7efb9",
   "metadata": {},
   "source": [
    "### 新工程"
   ]
  },
  {
   "cell_type": "markdown",
   "id": "fde9e55b",
   "metadata": {},
   "source": [
    "如果当前还没有创建工程，可以使用poetry新建工程：\n",
    "\n",
    "输入`poetry new poetry-demo`来创建一个项目脚手架，包括基本结构、pyproject.toml文件。"
   ]
  },
  {
   "cell_type": "markdown",
   "id": "fbb63575",
   "metadata": {},
   "source": [
    "这时候，会创建一个包含如下内容的工程"
   ]
  },
  {
   "cell_type": "raw",
   "id": "e01359cf",
   "metadata": {},
   "source": [
    "poetry-demo\n",
    "├── pyproject.toml  # 使用此文件管理依赖列表和项目的各种meta信息，用来替代 Pipfile、requirements.txt、setup.py、setup.cfg、MANIFEST.in 等等各种配置文件\n",
    "├── README.rst\n",
    "├── poetry_demo     # 项目目录\n",
    "│ └── __init__.py\n",
    "└── tests\n",
    "├── __init__.py\n",
    "└── test_poetry_demo.py"
   ]
  },
  {
   "cell_type": "markdown",
   "id": "92022b58",
   "metadata": {},
   "source": [
    "### 已有工程"
   ]
  },
  {
   "cell_type": "markdown",
   "id": "74f4ba33",
   "metadata": {},
   "source": [
    "在已有的项目使用poetry，只需要执行 `poetry init` 命令来创建一个pyproject.toml文件"
   ]
  },
  {
   "cell_type": "markdown",
   "id": "d97cc0bd",
   "metadata": {},
   "source": [
    "这时候，它会让你输入包名称、版本号等信息，你可以选择输入，也可以选择按下ENTER键使用默认值，完成以后，pyproject.toml如以下格式："
   ]
  },
  {
   "cell_type": "raw",
   "id": "da5c4e67",
   "metadata": {},
   "source": [
    "name = \"poetry-demo\"\n",
    "version = \"0.1.0\"\n",
    "description = \"\"\n",
    "authors = [\"caoyuyu\"]\n",
    "\n",
    "[tool.poetry.dependencies]\n",
    "python = \"*\"\n",
    "\n",
    "[tool.poetry.dev-dependencies]\n",
    "pytest = \"^3.4\""
   ]
  },
  {
   "cell_type": "markdown",
   "id": "2f757eef",
   "metadata": {},
   "source": [
    "## 依赖包管理"
   ]
  },
  {
   "cell_type": "markdown",
   "id": "a490cca8",
   "metadata": {},
   "source": [
    "添加镜像源：`poetry source add --default mirrors https://mirrors.bfsu.edu.cn/pypi/web/simple/`"
   ]
  },
  {
   "cell_type": "markdown",
   "id": "e1b2ba7f",
   "metadata": {},
   "source": [
    "安装依赖包:可以使用install命令直接解析并安装 pyproject.toml 的依赖包"
   ]
  },
  {
   "cell_type": "markdown",
   "id": "93d38ea7",
   "metadata": {},
   "source": [
    "`poetry install`"
   ]
  },
  {
   "cell_type": "markdown",
   "id": "f477d606",
   "metadata": {},
   "source": [
    "将依赖包添加到pyproject.toml文件中，同时安装它们"
   ]
  },
  {
   "cell_type": "markdown",
   "id": "33764ca6",
   "metadata": {},
   "source": [
    "`poetry add numpy`"
   ]
  },
  {
   "cell_type": "raw",
   "id": "2713aaaa",
   "metadata": {},
   "source": [
    "还可以，通过添加配置参数–dev来区分不同环境下的依赖包。\n",
    "\n",
    "poetry add flask：安装最新稳定版本的flask\n",
    "poetry add pytest --dev: 指定为开发依赖，会写到pyproject.toml中的[tool.poetry.dev-dependencies]区域\n",
    "poetry add flask=2.22.0: 指定具体的版本\n",
    "poetry install: 安装pyproject.toml文件中的全部依赖\n",
    "poetry install --no-dev：只安装非development环境的依赖，一般部署时使用"
   ]
  },
  {
   "cell_type": "raw",
   "id": "bda79f6d",
   "metadata": {},
   "source": [
    "更新所有锁定版本的依赖包: poetry update\n",
    "$ poetry update\n",
    "\n",
    "更新指定依赖包\n",
    "$ poetry update numpy\n",
    "\n",
    "卸载依赖包: poetry remove\n",
    "$ poetry remove numpy\n",
    "\n",
    "查看可以更新的依赖: poetry show\n",
    "$ poetry show --outdated\n",
    "\n",
    "查看项目安装的依赖: poetry show\n",
    "$ poetry show\n",
    "\n",
    "树形结构查看项目安装的依赖\n",
    "$ poetry show -t\n",
    "\n",
    "执行python命令 poetry run\n",
    "$ poetry run python -V 主要用来执行python命令，会将run之后的命令放到python环境执行。\n",
    "$ poetry run python app.py 运行Python脚本\n",
    "\n",
    "将python文件打包 poetry build\n",
    "主要用来将python文件打包，打包之后的产物有两种包的格式：sdist是源码格式；wheel是编译之后的格式。\n",
    "\n",
    "$ poetry build\n",
    "\n",
    "执行单元测试\n",
    "$ poetry run pytest"
   ]
  },
  {
   "cell_type": "markdown",
   "id": "a8e6c923",
   "metadata": {},
   "source": [
    "## 虚拟环境管理"
   ]
  },
  {
   "cell_type": "raw",
   "id": "041bb5a8",
   "metadata": {},
   "source": [
    "创建虚拟环境\n",
    "\n",
    "创建虚拟环境有2种方式：\n",
    "\n",
    "方式1：\n",
    "\n",
    "如果在配置文件中配置了virtualenvs.create=true，执行 poetry install 或 poetry add 时会检查是否有虚拟环境，否则会自动创建。\n",
    "\n",
    "这里一个问题就是：如果系统中既有Python2又有Python3，且项目既支持Python2也支持Python3，那poetry会优先使用Python2。\n",
    "\n",
    "方式2：利用 poetry env use 创建\n",
    "\n",
    "指定创建虚拟环境时使用的Python解释器版本\n",
    "$ poetry env use python3.7\n",
    "\n",
    "激活虚拟环境\n",
    "$ poetry shell\n",
    "\n",
    "查看虚拟环境信息\n",
    "$ poetry env info\n",
    "\n",
    "显示虚拟环境列表\n",
    "$ poetry env list\n",
    "\n",
    "显示虚拟环境绝对路径\n",
    "$ poetry env list --full-path\n",
    "\n",
    "删除虚拟环境\n",
    "$ poetry env remove python3.7\n",
    "\n",
    "查看python版本\n",
    "$ poetry run python -V"
   ]
  },
  {
   "cell_type": "code",
   "execution_count": null,
   "id": "0d6cea5e",
   "metadata": {},
   "outputs": [],
   "source": []
  }
 ],
 "metadata": {
  "hide_input": false,
  "kernelspec": {
   "display_name": "Python 3 (ipykernel)",
   "language": "python",
   "name": "python3"
  },
  "language_info": {
   "codemirror_mode": {
    "name": "ipython",
    "version": 3
   },
   "file_extension": ".py",
   "mimetype": "text/x-python",
   "name": "python",
   "nbconvert_exporter": "python",
   "pygments_lexer": "ipython3",
   "version": "3.11.5"
  },
  "nbTranslate": {
   "displayLangs": [
    "*"
   ],
   "hotkey": "alt-t",
   "langInMainMenu": true,
   "sourceLang": "en",
   "targetLang": "fr",
   "useGoogleTranslate": true
  },
  "toc": {
   "base_numbering": 1,
   "nav_menu": {},
   "number_sections": true,
   "sideBar": true,
   "skip_h1_title": false,
   "title_cell": "Table of Contents",
   "title_sidebar": "Contents",
   "toc_cell": false,
   "toc_position": {
    "height": "calc(100% - 180px)",
    "left": "10px",
    "top": "150px",
    "width": "254.613px"
   },
   "toc_section_display": true,
   "toc_window_display": true
  },
  "varInspector": {
   "cols": {
    "lenName": 16,
    "lenType": 16,
    "lenVar": 40
   },
   "kernels_config": {
    "python": {
     "delete_cmd_postfix": "",
     "delete_cmd_prefix": "del ",
     "library": "var_list.py",
     "varRefreshCmd": "print(var_dic_list())"
    },
    "r": {
     "delete_cmd_postfix": ") ",
     "delete_cmd_prefix": "rm(",
     "library": "var_list.r",
     "varRefreshCmd": "cat(var_dic_list()) "
    }
   },
   "types_to_exclude": [
    "module",
    "function",
    "builtin_function_or_method",
    "instance",
    "_Feature"
   ],
   "window_display": false
  },
  "vscode": {
   "interpreter": {
    "hash": "89ec99c62174f1c8fd5a03edcbffb33bcf4cdc0ef2feaa7f1e454ac2d444c181"
   }
  }
 },
 "nbformat": 4,
 "nbformat_minor": 5
}
