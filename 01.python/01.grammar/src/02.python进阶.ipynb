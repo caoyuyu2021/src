{
 "cells": [
  {
   "cell_type": "markdown",
   "id": "8221efd0",
   "metadata": {},
   "source": [
    "# 代码计时"
   ]
  },
  {
   "cell_type": "markdown",
   "id": "c70d16b8",
   "metadata": {},
   "source": [
    "## time.time()"
   ]
  },
  {
   "cell_type": "markdown",
   "id": "9b574f10",
   "metadata": {},
   "source": [
    "返回当前时间的时间戳 如 1524302633.980187  \n",
    "两次时间相减，代码运行所需的 挂钟时间，也就是命令开始执行到结束的时间。"
   ]
  },
  {
   "cell_type": "code",
   "execution_count": 2,
   "id": "e175c71a",
   "metadata": {
    "ExecuteTime": {
     "end_time": "2024-05-11T02:51:10.688675Z",
     "start_time": "2024-05-11T02:51:10.683749Z"
    }
   },
   "outputs": [
    {
     "name": "stdout",
     "output_type": "stream",
     "text": [
      "Hello World\n",
      "0.0\n"
     ]
    }
   ],
   "source": [
    "import time\n",
    "start = time.time()\n",
    "print(\"Hello World\")\n",
    "end = time.time()\n",
    "print(end - start)"
   ]
  },
  {
   "cell_type": "markdown",
   "id": "92e404fe",
   "metadata": {},
   "source": [
    "## timeit"
   ]
  },
  {
   "cell_type": "code",
   "execution_count": 4,
   "id": "3b45968b",
   "metadata": {
    "ExecuteTime": {
     "end_time": "2024-05-11T02:55:35.849083Z",
     "start_time": "2024-05-11T02:55:35.792724Z"
    }
   },
   "outputs": [
    {
     "data": {
      "text/plain": [
       "0.04830319999928179"
      ]
     },
     "execution_count": 4,
     "metadata": {},
     "output_type": "execute_result"
    }
   ],
   "source": [
    "from timeit import timeit\n",
    "timeit('[i for i in range(100) if i%2==0]', number=10000)"
   ]
  },
  {
   "cell_type": "code",
   "execution_count": 5,
   "id": "4708d8e7",
   "metadata": {
    "ExecuteTime": {
     "end_time": "2024-05-11T02:56:15.242622Z",
     "start_time": "2024-05-11T02:56:14.669955Z"
    }
   },
   "outputs": [
    {
     "data": {
      "text/plain": [
       "0.5664076999992176"
      ]
     },
     "execution_count": 5,
     "metadata": {},
     "output_type": "execute_result"
    }
   ],
   "source": [
    "def func(a):\n",
    "    sum = 0\n",
    "    for i in range(a):\n",
    "        sum += i\n",
    "    return sum\n",
    "\n",
    "timeit('func(10000000)', 'from __main__ import func', number=1)"
   ]
  },
  {
   "cell_type": "markdown",
   "id": "fe862895",
   "metadata": {},
   "source": [
    "# 类型提示"
   ]
  },
  {
   "cell_type": "markdown",
   "id": "b5c12698",
   "metadata": {},
   "source": [
    "众所周知，Python 是动态类型语言，运行时不需要指定变量类型。这一点是不会改变的，但是2015年9月创始人 Guido van Rossum 在 Python 3.5 引入了一个类型系统，允许开发者指定变量类型–类型提示（Type Hints）。它的主要作用是方便开发，供IDE 和各种开发工具使用，对代码运行不产生影响，运行时会过滤类型信息。"
   ]
  },
  {
   "cell_type": "markdown",
   "id": "bc7befde",
   "metadata": {},
   "source": [
    "## 优点"
   ]
  },
  {
   "cell_type": "markdown",
   "id": "8765b022",
   "metadata": {},
   "source": [
    "1、易于理解代码\n",
    "指定函数输入和输出，便于理解代码片段的过程。\n",
    "有了类型提示（Type Hints），在调用函数时就可以告诉你需要传递哪些参数类型；以及需要扩展/修改函数时，也会告诉你输入和输出所需要的数据类型。 \n",
    "\n",
    "2、 易于重构\n",
    "类型提示可以在重构时，更好得帮助我们定位类的位置。\n",
    "\n",
    "虽然许多IDE现在采用一些启发式方法提供了这项功能，但是类型提示可以使IDE具有100%的检测准确率，并定位到类的位置。这样可以更平滑，更准确地检测变量类型在代码中的运行方式。\n",
    "\n",
    "请记住，虽然动态类型意味着任何变量都可以成为任何类型，但是所有变量在所有时间中都应只有一种类型。类型系统仍然是编程的核心组件，想想那些使用isinstance判断变量类型、应用逻辑所浪费的时间吧。\n",
    "\n",
    "3、 易于使用库\n",
    "使用类型提示意味着IDE可以拥有更准确、更智能的建议引擎。当调用自动完成时，IDE会完全放心地知道对象上有哪些方法/属性可用。此外，如果用户尝试调用不存在的内容或传递不正确类型的参数，IDE可以立即警告它。\n",
    "\n",
    "4、验证运行数据\n",
    "类型标注（Type annotations）是一种直接的方式，并且是类型文档中最常见到的那种方式。\n",
    "\n",
    "使用：语句将信息附加到变量或函数参数中。\n",
    "->运算符用于将信息附加到函数/方法的返回值中。"
   ]
  },
  {
   "cell_type": "markdown",
   "id": "2add1ca3",
   "metadata": {},
   "source": [
    "## 类型标注"
   ]
  },
  {
   "cell_type": "markdown",
   "id": "d2e7d01c",
   "metadata": {},
   "source": [
    "类型标注（Type annotations）是一种直接的方式，并且是类型文档中最常见到的那种方式。\n",
    "声明一个函数参数的类型，只要在参数名称的后面加个\":“号，带上类型名称就行了。声明函数的返回值类型，只要在函数声明结束之前，也就是”:“号之前加入一个”->\"，带上类型名称。"
   ]
  },
  {
   "cell_type": "markdown",
   "id": "e86c9571",
   "metadata": {},
   "source": [
    "常见数据类型\n",
    "\n",
    "- int,long,float: 整型,长整形,浮点型\n",
    "- bool,str: 布尔型，字符串类型\n",
    "- List, Tuple, Dict, Set:列表，元组，字典, 集合\n",
    "- Iterable,Iterator:可迭代类型，迭代器类型\n",
    "- Generator：生成器类型"
   ]
  },
  {
   "cell_type": "markdown",
   "id": "ff4ee7dc",
   "metadata": {},
   "source": [
    "### 基本数据类型"
   ]
  },
  {
   "cell_type": "code",
   "execution_count": 2,
   "id": "adfb526a",
   "metadata": {
    "ExecuteTime": {
     "end_time": "2024-03-26T12:58:54.755825Z",
     "start_time": "2024-03-26T12:58:54.743824Z"
    }
   },
   "outputs": [
    {
     "name": "stdout",
     "output_type": "stream",
     "text": [
      "test abc\n"
     ]
    }
   ],
   "source": [
    "def test(a: int, b: str) -> str:\n",
    "    print(a, b)\n",
    "    return 1000\n",
    "\n",
    "\n",
    "if __name__ == '__main__':\n",
    "    test('test', 'abc')"
   ]
  },
  {
   "cell_type": "markdown",
   "id": "096b6cca",
   "metadata": {},
   "source": [
    "只是提出了警告，但实际上运行是不会报错，毕竟python的本质还是动态语言。"
   ]
  },
  {
   "cell_type": "markdown",
   "id": "a769161f",
   "metadata": {},
   "source": [
    "### 复杂的类型标注"
   ]
  },
  {
   "cell_type": "code",
   "execution_count": 3,
   "id": "1460fdcb",
   "metadata": {
    "ExecuteTime": {
     "end_time": "2024-03-26T13:01:49.158005Z",
     "start_time": "2024-03-26T13:01:49.143446Z"
    }
   },
   "outputs": [],
   "source": [
    "from typing import List\n",
    "Vector = List[float]\n",
    "\n",
    "def scale(scalar: float, vector: Vector) -> Vector:\n",
    "    return [scalar * num for num in vector]\n",
    "\n",
    "# typechecks; a list of floats qualifies as a Vector.\n",
    "new_vector = scale(2.0, [1.0, -4.2, 5.4])"
   ]
  },
  {
   "cell_type": "code",
   "execution_count": 6,
   "id": "0d9be5f6",
   "metadata": {
    "ExecuteTime": {
     "end_time": "2024-03-26T13:03:43.398805Z",
     "start_time": "2024-03-26T13:03:43.376893Z"
    }
   },
   "outputs": [],
   "source": [
    "from typing import Dict, Tuple, Sequence\n",
    "\n",
    "ConnectionOptions = Dict[str, str]\n",
    "Address = Tuple[str, int]\n",
    "Server = Tuple[Address, ConnectionOptions]\n",
    "\n",
    "def broadcast_message(message: str, servers: Sequence[Server]) -> None:\n",
    "    ...\n",
    "\n",
    "# The static type checker will treat the previous type signature as\n",
    "# being exactly equivalent to this one.\n",
    "def broadcast_message(\n",
    "    message: str,\n",
    "    servers: Sequence[Tuple[Tuple[str, int], Dict[str, str]]]) -> None:\n",
    "    pass"
   ]
  },
  {
   "cell_type": "markdown",
   "id": "d4e4487a",
   "metadata": {},
   "source": [
    "### 泛型指定"
   ]
  },
  {
   "cell_type": "code",
   "execution_count": 7,
   "id": "08772f9e",
   "metadata": {
    "ExecuteTime": {
     "end_time": "2024-03-26T13:04:42.238882Z",
     "start_time": "2024-03-26T13:04:42.228510Z"
    }
   },
   "outputs": [],
   "source": [
    "from typing import Sequence, TypeVar, Union\n",
    "\n",
    "T = TypeVar('T')      # Declare type variable\n",
    "\n",
    "def first(l: Sequence[T]) -> T:   # Generic function\n",
    "    return l[0]\n",
    "\n",
    "T = TypeVar('T')  # Can be anything\n",
    "A = TypeVar('A', str, bytes)  # Must be str or bytes\n",
    "A = Union[str, None] # Must be str or None"
   ]
  },
  {
   "cell_type": "code",
   "execution_count": 9,
   "id": "a142a771",
   "metadata": {
    "ExecuteTime": {
     "end_time": "2024-03-26T13:06:35.438150Z",
     "start_time": "2024-03-26T13:06:35.415936Z"
    }
   },
   "outputs": [],
   "source": [
    "# 创建变量时类型指定\n",
    "from typing import NamedTuple\n",
    "\n",
    "class Employee(NamedTuple):\n",
    "    name: str\n",
    "    id: int = 3\n",
    "\n",
    "employee = Employee('Guido')\n",
    "assert employee.id == 3"
   ]
  },
  {
   "cell_type": "markdown",
   "id": "f3f8085c",
   "metadata": {},
   "source": [
    "Optional，可选类型， Optional[X] 等价于 X | None （或 Union[X, None] ）。 意思是说这个参数可以为空或已经声明的类型。\n",
    "\n",
    "但值得注意的是，这个并不等价于可选参数，当它作为参数类型注解的时候，不代表这个参数可以不传递了，而是说这个参数可以传为 None。"
   ]
  },
  {
   "cell_type": "code",
   "execution_count": 1,
   "id": "67857eb1",
   "metadata": {
    "ExecuteTime": {
     "end_time": "2024-03-27T03:48:33.910851Z",
     "start_time": "2024-03-27T03:48:33.905448Z"
    }
   },
   "outputs": [
    {
     "name": "stdout",
     "output_type": "stream",
     "text": [
      "parameter b is a NoneType!\n"
     ]
    }
   ],
   "source": [
    "#Optional\n",
    "from typing import Optional\n",
    "\n",
    "def foo_v2(a: int, b: Optional[int] = None):\n",
    "    if b:\n",
    "        print(a + b)\n",
    "    else:\n",
    "        print(\"parameter b is a NoneType!\")\n",
    "\n",
    "#只传入a位置的实参\n",
    "foo_v2(2)"
   ]
  },
  {
   "cell_type": "markdown",
   "id": "4a3aa1f3",
   "metadata": {},
   "source": [
    "### 参数注释"
   ]
  },
  {
   "cell_type": "code",
   "execution_count": 11,
   "id": "a90b76ea",
   "metadata": {
    "ExecuteTime": {
     "end_time": "2024-03-26T13:10:18.169290Z",
     "start_time": "2024-03-26T13:10:18.151457Z"
    }
   },
   "outputs": [],
   "source": [
    "def send_mail(\n",
    "    sender: \"fish@example.com\", receiver: \"panda@example.com\",\n",
    "    subject: \"say hello to you.\", message: \"hello.\",\n",
    "    attachments: list(\"type<io.BytesIO>\")) -> bool:\n",
    "    return sender"
   ]
  },
  {
   "cell_type": "code",
   "execution_count": 14,
   "id": "8debe5b2",
   "metadata": {
    "ExecuteTime": {
     "end_time": "2024-03-26T13:11:21.456709Z",
     "start_time": "2024-03-26T13:11:21.432178Z"
    }
   },
   "outputs": [
    {
     "data": {
      "text/plain": [
       "'dog@example.com'"
      ]
     },
     "execution_count": 14,
     "metadata": {},
     "output_type": "execute_result"
    }
   ],
   "source": [
    "send_mail(\"dog@example.com\", \"panda@example.com\", \"panda@example.com\", \"panda@example.com\", \"panda@example.com\")"
   ]
  },
  {
   "cell_type": "markdown",
   "id": "71e8606b",
   "metadata": {},
   "source": [
    "写在\":“号后面的并一定是一个类型。Python把这种写法称为\"annotations”(标注)，在运行的时候完全不使用它。它是专门设计出来给程序员和自动处理程序看的。任何可被计算出来的东西都可以写在那里。\n",
    "\n",
    "很明显，与直接写类型相比，直接把参数是什么样子写出来更容易让调用者看清楚函数的使用方法。更激进的话，标注还可以是被计算出来的。"
   ]
  },
  {
   "cell_type": "code",
   "execution_count": 15,
   "id": "538272d4",
   "metadata": {
    "ExecuteTime": {
     "end_time": "2024-03-26T13:11:46.598281Z",
     "start_time": "2024-03-26T13:11:46.588621Z"
    }
   },
   "outputs": [],
   "source": [
    "def add_matrix3x3(\n",
    "    x: [(1, 1, 1), (1, 1, 1), (1, 1, 1)],\n",
    "    y: [(2, 2, 2), (2, 2, 2), (2, 2, 2)],\n",
    ") -> [(3, 3, 3), (3, 3, 3), (3, 3, 3)]:\n",
    "    pass"
   ]
  },
  {
   "cell_type": "markdown",
   "id": "f4ebf7ee",
   "metadata": {},
   "source": [
    "## 不足之处"
   ]
  },
  {
   "cell_type": "code",
   "execution_count": 16,
   "id": "37a6d14d",
   "metadata": {
    "ExecuteTime": {
     "end_time": "2024-03-26T13:13:17.317405Z",
     "start_time": "2024-03-26T13:13:17.303358Z"
    }
   },
   "outputs": [
    {
     "name": "stdout",
     "output_type": "stream",
     "text": [
      "[1, 'a']\n"
     ]
    }
   ],
   "source": [
    "from typing import List\n",
    "\n",
    "\n",
    "def test(b: List[int]) -> str:\n",
    "    print(b)\n",
    "    return 'test'\n",
    "\n",
    "\n",
    "if __name__ == '__main__':\n",
    "    test([1, 'a'])"
   ]
  },
  {
   "cell_type": "markdown",
   "id": "d9f17c9b",
   "metadata": {},
   "source": [
    "从这个例子可以看出来，虽然我们指定了List[int]即由int组成的列表，但是，实际中，只要这个列表中存在int（其他的可以为任何类型），就不会出现警告。"
   ]
  },
  {
   "cell_type": "markdown",
   "id": "73922f22",
   "metadata": {},
   "source": [
    "# 类型推断"
   ]
  },
  {
   "cell_type": "markdown",
   "id": "f1e02bf7",
   "metadata": {},
   "source": [
    "isinstance() 函数来判断一个对象是否是一个已知的类型，类似 type()。"
   ]
  },
  {
   "cell_type": "markdown",
   "id": "8934277c",
   "metadata": {},
   "source": [
    "isinstance() 与 type() 区别：\n",
    "\n",
    "- type() 不会认为子类是一种父类类型，不考虑继承关系。\n",
    "\n",
    "- isinstance() 会认为子类是一种父类类型，考虑继承关系。\n",
    "\n",
    "如果要判断两个类型是否相同推荐使用 isinstance()。"
   ]
  },
  {
   "cell_type": "markdown",
   "id": "b6955284",
   "metadata": {},
   "source": [
    "以下是 isinstance() 方法的语法:\n",
    "\n",
    "isinstance(object, classinfo)\n",
    "\n",
    "参数\n",
    "- object -- 实例对象。\n",
    "- classinfo -- 可以是直接或间接类名、基本类型或者由它们组成的元组。\n",
    "\n",
    "如果对象的类型与参数二的类型（classinfo）相同则返回 True，否则返回 False。"
   ]
  },
  {
   "cell_type": "markdown",
   "id": "29eedd7e",
   "metadata": {},
   "source": [
    "## 单类型"
   ]
  },
  {
   "cell_type": "code",
   "execution_count": 17,
   "id": "5db97708",
   "metadata": {
    "ExecuteTime": {
     "end_time": "2024-03-26T13:21:47.212380Z",
     "start_time": "2024-03-26T13:21:47.196415Z"
    }
   },
   "outputs": [
    {
     "data": {
      "text/plain": [
       "True"
      ]
     },
     "execution_count": 17,
     "metadata": {},
     "output_type": "execute_result"
    }
   ],
   "source": [
    "a = 2\n",
    "isinstance (a,int)"
   ]
  },
  {
   "cell_type": "code",
   "execution_count": 18,
   "id": "140ce885",
   "metadata": {
    "ExecuteTime": {
     "end_time": "2024-03-26T13:22:09.885986Z",
     "start_time": "2024-03-26T13:22:09.867010Z"
    }
   },
   "outputs": [
    {
     "data": {
      "text/plain": [
       "False"
      ]
     },
     "execution_count": 18,
     "metadata": {},
     "output_type": "execute_result"
    }
   ],
   "source": [
    "isinstance (a,str)"
   ]
  },
  {
   "cell_type": "markdown",
   "id": "f8ee7796",
   "metadata": {},
   "source": [
    "## 多类型"
   ]
  },
  {
   "cell_type": "code",
   "execution_count": 19,
   "id": "e9818e21",
   "metadata": {
    "ExecuteTime": {
     "end_time": "2024-03-26T13:22:15.210818Z",
     "start_time": "2024-03-26T13:22:15.188142Z"
    }
   },
   "outputs": [
    {
     "data": {
      "text/plain": [
       "True"
      ]
     },
     "execution_count": 19,
     "metadata": {},
     "output_type": "execute_result"
    }
   ],
   "source": [
    "isinstance (a,(str,int,list))    # 是元组中的一个返回 True"
   ]
  },
  {
   "cell_type": "markdown",
   "id": "fc380099",
   "metadata": {},
   "source": [
    "对于基本类型来说 classinfo 可以是：\n",
    "\n",
    "int，float，bool，complex，str(字符串)，list，dict(字典)，set，tuple\n",
    "\n",
    "要注意的是，classinfo 的字符串是 str 而不是 string，字典也是简写 dict。"
   ]
  },
  {
   "cell_type": "markdown",
   "id": "01128b16",
   "metadata": {},
   "source": [
    "## None"
   ]
  },
  {
   "cell_type": "code",
   "execution_count": 27,
   "id": "36e6b66c",
   "metadata": {
    "ExecuteTime": {
     "end_time": "2024-03-26T13:43:00.791142Z",
     "start_time": "2024-03-26T13:43:00.780033Z"
    }
   },
   "outputs": [
    {
     "data": {
      "text/plain": [
       "True"
      ]
     },
     "execution_count": 27,
     "metadata": {},
     "output_type": "execute_result"
    }
   ],
   "source": [
    "isinstance(None, type(None))"
   ]
  },
  {
   "cell_type": "code",
   "execution_count": 28,
   "id": "178c640a",
   "metadata": {
    "ExecuteTime": {
     "end_time": "2024-03-26T13:43:01.390502Z",
     "start_time": "2024-03-26T13:43:01.371448Z"
    }
   },
   "outputs": [
    {
     "data": {
      "text/plain": [
       "True"
      ]
     },
     "execution_count": 28,
     "metadata": {},
     "output_type": "execute_result"
    }
   ],
   "source": [
    "isinstance(None, (type(None), list, str))"
   ]
  },
  {
   "cell_type": "markdown",
   "id": "0a76084f",
   "metadata": {},
   "source": [
    "# python脚本"
   ]
  },
  {
   "cell_type": "markdown",
   "id": "5d415cce",
   "metadata": {},
   "source": [
    "## `__init__.py`"
   ]
  },
  {
   "cell_type": "markdown",
   "id": "14c9702b",
   "metadata": {},
   "source": [
    "在Python工程里，当python检测到一个目录下存在__init__.py文件时，python就会把它当成一个模块(module)。Module跟C＋＋的命名空间和Java的Package的概念很像，都是为了科学地组织化工程，管理命名空间。\n",
    "\n",
    "__init__.py可以是一个空文件，也可以有非常丰富的内容。本文将举一个非常简单的例子，来介绍__init__.py的用法.\n",
    "\n",
    "__init__.py 会在 import 的时候被执行，而空的 __init__.py 在Python新版本中已经不需要你额外去定义了，因为就算你不定义 init， Python 也知道你导入的包路径，但是如果你想要做一些初始化操作，或者像我们刚刚说的预先导入相关的模块，那么定义 __init__.py 还是很有必要的\n",
    "\n",
    "[https://zhuanlan.zhihu.com/p/115350758](相关网址)"
   ]
  },
  {
   "cell_type": "markdown",
   "id": "337c6b4c",
   "metadata": {},
   "source": [
    "## python文件中执行另一个python文件"
   ]
  },
  {
   "cell_type": "markdown",
   "id": "441cd78a",
   "metadata": {},
   "source": [
    "在python文件中直接执行另一个python文件，和引用（import）其他python文件的方法函数有所不同，相当于直接Run python文件"
   ]
  },
  {
   "cell_type": "markdown",
   "id": "ac56999d",
   "metadata": {},
   "source": [
    "使用 os.system()"
   ]
  },
  {
   "cell_type": "raw",
   "id": "3a3bd2a5",
   "metadata": {},
   "source": [
    "os.system('python print.py')"
   ]
  },
  {
   "cell_type": "markdown",
   "id": "0651a706",
   "metadata": {},
   "source": [
    "print.py为另一个python文件"
   ]
  },
  {
   "cell_type": "markdown",
   "id": "f4658487",
   "metadata": {},
   "source": [
    "# .npy文件"
   ]
  },
  {
   "cell_type": "markdown",
   "id": "1770ea87",
   "metadata": {},
   "source": [
    ".npy文件是numpy专用的二进制文件。在深度神经网络训练过程中通常需要读取预训练权重，预训练权重通常是 .npy文件。"
   ]
  },
  {
   "cell_type": "markdown",
   "id": "e676edf9",
   "metadata": {},
   "source": [
    "## 读取与保存"
   ]
  },
  {
   "cell_type": "code",
   "execution_count": 1,
   "id": "161176f3",
   "metadata": {
    "ExecuteTime": {
     "end_time": "2024-04-17T02:11:14.128075Z",
     "start_time": "2024-04-17T02:11:14.119622Z"
    }
   },
   "outputs": [
    {
     "name": "stdout",
     "output_type": "stream",
     "text": [
      "----type----\n",
      "<class 'numpy.ndarray'>\n",
      "----shape----\n",
      "(2, 3)\n",
      "----data----\n",
      "[[1 2 3]\n",
      " [4 5 6]]\n"
     ]
    }
   ],
   "source": [
    "import numpy as np\n",
    "\n",
    "arr = np.array([[1, 2, 3],\n",
    "               [4, 5, 6]])\n",
    "np.save('../data/weight.npy', arr)\n",
    "\n",
    "loadData = np.load('../data/weight.npy')\n",
    "\n",
    "print(\"----type----\")\n",
    "print(type(loadData))\n",
    "print(\"----shape----\")\n",
    "print(loadData.shape)\n",
    "print(\"----data----\")\n",
    "print(loadData)"
   ]
  },
  {
   "cell_type": "markdown",
   "id": "06df501c",
   "metadata": {},
   "source": [
    "# jupyter运行命令行命令"
   ]
  },
  {
   "cell_type": "markdown",
   "id": "45c192d6",
   "metadata": {},
   "source": [
    "根据操作系统的不同可分linux命令和cmd命令，语法和对应命令完全相同，只是**每句前面都要加一个英文感叹号**。linux命令在colab，kaggle等云端环境非常常见，因为云端只能操作notebook，但很多人不知道cmd命令也是可以的。另外，conda命令也是可以执行的，因此一份notebook可以包含从建立虚拟环境，到编辑代码，到创建py脚本，最后用命令行执行脚本的全过程。"
   ]
  },
  {
   "cell_type": "code",
   "execution_count": 1,
   "id": "376979fa",
   "metadata": {
    "ExecuteTime": {
     "end_time": "2024-04-17T10:16:17.305231Z",
     "start_time": "2024-04-17T10:16:12.347649Z"
    }
   },
   "outputs": [
    {
     "name": "stdout",
     "output_type": "stream",
     "text": [
      "# conda environments:\n",
      "#\n",
      "base                  *  D:\\Anaconda\n",
      "\n"
     ]
    }
   ],
   "source": [
    "!conda env list"
   ]
  },
  {
   "cell_type": "code",
   "execution_count": 5,
   "id": "65a64c8e",
   "metadata": {
    "ExecuteTime": {
     "end_time": "2024-04-17T10:19:05.758334Z",
     "start_time": "2024-04-17T10:19:05.753133Z"
    }
   },
   "outputs": [
    {
     "name": "stdout",
     "output_type": "stream",
     "text": [
      "Overwriting ../data/main.py\n"
     ]
    }
   ],
   "source": [
    "%%writefile ../data/main.py\n",
    "# 本地创建一个main.py文件，并填入代码\n",
    "import numpy as np\n",
    "a=np.array([1,2,3])\n",
    "print(a)"
   ]
  },
  {
   "cell_type": "code",
   "execution_count": 6,
   "id": "d4d38c44",
   "metadata": {
    "ExecuteTime": {
     "end_time": "2024-04-17T10:21:31.457105Z",
     "start_time": "2024-04-17T10:21:30.946679Z"
    }
   },
   "outputs": [
    {
     "name": "stdout",
     "output_type": "stream",
     "text": [
      "[1 2 3]\n"
     ]
    }
   ],
   "source": [
    "!python ../data/main.py"
   ]
  },
  {
   "cell_type": "markdown",
   "id": "12c3246b",
   "metadata": {},
   "source": [
    "# argsparse"
   ]
  },
  {
   "cell_type": "markdown",
   "id": "0f490e8a",
   "metadata": {},
   "source": [
    "argsparse是python的命令行解析的标准模块，内置于python，不需要安装。这个库可以让我们直接在命令行中就可以向程序中传入参数并让程序运行。"
   ]
  },
  {
   "cell_type": "markdown",
   "id": "2c42bc62",
   "metadata": {},
   "source": [
    "## 传入一个参数"
   ]
  },
  {
   "cell_type": "markdown",
   "id": "2e015cdd",
   "metadata": {},
   "source": [
    "先在本地文件夹中新建demo.py文件"
   ]
  },
  {
   "cell_type": "code",
   "execution_count": 7,
   "id": "dd9d4f41",
   "metadata": {
    "ExecuteTime": {
     "end_time": "2024-04-17T11:10:54.207099Z",
     "start_time": "2024-04-17T11:10:54.198446Z"
    }
   },
   "outputs": [
    {
     "name": "stdout",
     "output_type": "stream",
     "text": [
      "Writing ../data/demo.py\n"
     ]
    }
   ],
   "source": [
    "%%writefile ../data/demo.py\n",
    "import argparse\n",
    "\n",
    "parser = argparse.ArgumentParser(description='命令行中传入一个数字')\n",
    "#type是要传入的参数的数据类型  help是该参数的提示信息\n",
    "parser.add_argument('integers', type=str, help='传入的数字')\n",
    "\n",
    "args = parser.parse_args()\n",
    "\n",
    "#获得传入的参数\n",
    "print(args)"
   ]
  },
  {
   "cell_type": "markdown",
   "id": "8d7961e0",
   "metadata": {},
   "source": [
    "然后在命令行中输入python demo.py -h或者python demo.py --help"
   ]
  },
  {
   "cell_type": "code",
   "execution_count": 9,
   "id": "e79cb37c",
   "metadata": {
    "ExecuteTime": {
     "end_time": "2024-04-17T11:12:04.897361Z",
     "start_time": "2024-04-17T11:12:04.609033Z"
    }
   },
   "outputs": [
    {
     "name": "stdout",
     "output_type": "stream",
     "text": [
      "usage: demo.py [-h] integers\n",
      "\n",
      "命令行中传入一个数字\n",
      "\n",
      "positional arguments:\n",
      "  integers    传入的数字\n",
      "\n",
      "options:\n",
      "  -h, --help  show this help message and exit\n"
     ]
    }
   ],
   "source": [
    "!python ../data/demo.py -h"
   ]
  },
  {
   "cell_type": "markdown",
   "id": "f1c2a5f2",
   "metadata": {},
   "source": [
    "在命令行中看到demo.py的运行结果如下"
   ]
  },
  {
   "cell_type": "markdown",
   "id": "38cb0554",
   "metadata": {},
   "source": [
    "现在我们在命令行中给demo.py 传入一个参数5，"
   ]
  },
  {
   "cell_type": "code",
   "execution_count": 10,
   "id": "4e01e6f3",
   "metadata": {
    "ExecuteTime": {
     "end_time": "2024-04-17T11:12:53.143287Z",
     "start_time": "2024-04-17T11:12:52.837367Z"
    }
   },
   "outputs": [
    {
     "name": "stdout",
     "output_type": "stream",
     "text": [
      "Namespace(integers='5')\n"
     ]
    }
   ],
   "source": [
    "!python ../data/demo.py 5"
   ]
  },
  {
   "cell_type": "markdown",
   "id": "1c68f3be",
   "metadata": {},
   "source": [
    "## 操作args字典"
   ]
  },
  {
   "cell_type": "markdown",
   "id": "fbcd5c2e",
   "metadata": {},
   "source": [
    "其实得到的这个结果Namespace(integers='5')是一种类似于python字典的数据类型。\n",
    "\n",
    "我们可以使用 arg.参数名来提取这个参数"
   ]
  },
  {
   "cell_type": "code",
   "execution_count": 11,
   "id": "6824425d",
   "metadata": {
    "ExecuteTime": {
     "end_time": "2024-04-17T11:17:15.710011Z",
     "start_time": "2024-04-17T11:17:15.703003Z"
    }
   },
   "outputs": [
    {
     "name": "stdout",
     "output_type": "stream",
     "text": [
      "Writing ../data/demo1.py\n"
     ]
    }
   ],
   "source": [
    "%%writefile ../data/demo1.py\n",
    "import argparse\n",
    "\n",
    "parser = argparse.ArgumentParser(description='命令行中传入一个数字')\n",
    "#type是要传入的参数的数据类型  help是该参数的提示信息\n",
    "parser.add_argument('integers', type=str, help='传入的数字')\n",
    "\n",
    "args = parser.parse_args()\n",
    "\n",
    "#获得传入的参数\n",
    "print(args.integers)"
   ]
  },
  {
   "cell_type": "code",
   "execution_count": 12,
   "id": "540c178f",
   "metadata": {
    "ExecuteTime": {
     "end_time": "2024-04-17T11:17:29.425610Z",
     "start_time": "2024-04-17T11:17:29.122340Z"
    }
   },
   "outputs": [
    {
     "name": "stdout",
     "output_type": "stream",
     "text": [
      "5\n"
     ]
    }
   ],
   "source": [
    "!python ../data/demo1.py 5"
   ]
  },
  {
   "cell_type": "markdown",
   "id": "539ff6c0",
   "metadata": {},
   "source": [
    "## 传入多个参数"
   ]
  },
  {
   "cell_type": "code",
   "execution_count": 13,
   "id": "f96095bc",
   "metadata": {
    "ExecuteTime": {
     "end_time": "2024-04-17T11:20:14.651959Z",
     "start_time": "2024-04-17T11:20:14.645907Z"
    }
   },
   "outputs": [
    {
     "name": "stdout",
     "output_type": "stream",
     "text": [
      "Writing ../data/demo2.py\n"
     ]
    }
   ],
   "source": [
    "%%writefile ../data/demo2.py\n",
    "import argparse\n",
    "\n",
    "parser = argparse.ArgumentParser(description='命令行中传入一个数字')\n",
    "parser.add_argument('integers', type=str, nargs='+',help='传入的数字')\n",
    "args = parser.parse_args()\n",
    "\n",
    "print(args.integers)"
   ]
  },
  {
   "cell_type": "markdown",
   "id": "89420682",
   "metadata": {},
   "source": [
    "nargs是用来说明传入的参数个数，'+' 表示传入至少一个参数。"
   ]
  },
  {
   "cell_type": "code",
   "execution_count": 16,
   "id": "08bd62a9",
   "metadata": {
    "ExecuteTime": {
     "end_time": "2024-04-17T11:20:59.799345Z",
     "start_time": "2024-04-17T11:20:59.516056Z"
    }
   },
   "outputs": [
    {
     "name": "stdout",
     "output_type": "stream",
     "text": [
      "['5', '4', '3']\n"
     ]
    }
   ],
   "source": [
    "!python ../data/demo2.py 5 4 3"
   ]
  },
  {
   "cell_type": "markdown",
   "id": "e593e8a3",
   "metadata": {},
   "source": [
    "## 改变数据类型"
   ]
  },
  {
   "cell_type": "markdown",
   "id": "f926b5f6",
   "metadata": {},
   "source": [
    "type这个关键词可以传入list, str, tuple, set, dict等。"
   ]
  },
  {
   "cell_type": "markdown",
   "id": "ce82ec12",
   "metadata": {},
   "source": [
    "## 位置参数"
   ]
  },
  {
   "cell_type": "markdown",
   "id": "f0a6f1e7",
   "metadata": {},
   "source": [
    "在命令行中传入参数时候，传入的参数的先后顺序不同，运行结果往往会不同，这是因为采用了位置参数,例如"
   ]
  },
  {
   "cell_type": "code",
   "execution_count": 17,
   "id": "a5ac3511",
   "metadata": {
    "ExecuteTime": {
     "end_time": "2024-04-17T11:22:49.433281Z",
     "start_time": "2024-04-17T11:22:49.426331Z"
    }
   },
   "outputs": [
    {
     "name": "stdout",
     "output_type": "stream",
     "text": [
      "Writing ../data/demo3.py\n"
     ]
    }
   ],
   "source": [
    "%%writefile ../data/demo3.py\n",
    "import argparse\n",
    "\n",
    "parser = argparse.ArgumentParser(description='姓名')\n",
    "parser.add_argument('param1', type=str,help='姓')\n",
    "parser.add_argument('param2', type=str,help='名')\n",
    "args = parser.parse_args()\n",
    "\n",
    "#打印姓名\n",
    "print(args.param1+args.param2)"
   ]
  },
  {
   "cell_type": "code",
   "execution_count": 18,
   "id": "13610f67",
   "metadata": {
    "ExecuteTime": {
     "end_time": "2024-04-17T11:23:22.518987Z",
     "start_time": "2024-04-17T11:23:22.234371Z"
    }
   },
   "outputs": [
    {
     "name": "stdout",
     "output_type": "stream",
     "text": [
      "张三\n"
     ]
    }
   ],
   "source": [
    "!python ../data/demo3.py 张 三"
   ]
  },
  {
   "cell_type": "markdown",
   "id": "71009eac",
   "metadata": {},
   "source": [
    "## 可选参数"
   ]
  },
  {
   "cell_type": "markdown",
   "id": "94972134",
   "metadata": {},
   "source": [
    "为了在命令行中避免上述位置参数的bug（容易忘了顺序），可以使用可选参数，这个有点像关键词传参，但是需要在关键词前面加--，例如"
   ]
  },
  {
   "cell_type": "code",
   "execution_count": 19,
   "id": "23928ac0",
   "metadata": {
    "ExecuteTime": {
     "end_time": "2024-04-17T11:24:21.965524Z",
     "start_time": "2024-04-17T11:24:21.954720Z"
    }
   },
   "outputs": [
    {
     "name": "stdout",
     "output_type": "stream",
     "text": [
      "Writing ../data/demo4.py\n"
     ]
    }
   ],
   "source": [
    "%%writefile ../data/demo4.py\n",
    "import argparse\n",
    "\n",
    "parser = argparse.ArgumentParser(description='姓名')\n",
    "parser.add_argument('--family', type=str,help='姓')\n",
    "parser.add_argument('--name', type=str,help='名')\n",
    "args = parser.parse_args()\n",
    "\n",
    "#打印姓名\n",
    "print(args.family+args.name)"
   ]
  },
  {
   "cell_type": "code",
   "execution_count": 20,
   "id": "7d9d39ab",
   "metadata": {
    "ExecuteTime": {
     "end_time": "2024-04-17T11:24:40.720329Z",
     "start_time": "2024-04-17T11:24:40.427794Z"
    }
   },
   "outputs": [
    {
     "name": "stdout",
     "output_type": "stream",
     "text": [
      "张三\n"
     ]
    }
   ],
   "source": [
    "!python ../data/demo4.py --family=张 --name=三"
   ]
  },
  {
   "cell_type": "markdown",
   "id": "615d3177",
   "metadata": {},
   "source": [
    "## 默认值"
   ]
  },
  {
   "cell_type": "markdown",
   "id": "cd33e7ec",
   "metadata": {},
   "source": [
    "add_argument中有一个default参数。有的时候需要对某个参数设置默认值，即如果命令行中没有传入该参数的值，程序使用默认值。如果命令行传入该参数，则程序使用传入的值。具体请看下面的例子"
   ]
  },
  {
   "cell_type": "code",
   "execution_count": 21,
   "id": "fb589282",
   "metadata": {
    "ExecuteTime": {
     "end_time": "2024-04-17T11:25:25.405542Z",
     "start_time": "2024-04-17T11:25:25.398866Z"
    }
   },
   "outputs": [
    {
     "name": "stdout",
     "output_type": "stream",
     "text": [
      "Writing ../data/demo5.py\n"
     ]
    }
   ],
   "source": [
    "%%writefile ../data/demo5.py\n",
    "import argparse\n",
    "\n",
    "parser = argparse.ArgumentParser(description='姓名')\n",
    "parser.add_argument('--family', type=str, default='张',help='姓')\n",
    "parser.add_argument('--name', type=str, default='三', help='名')\n",
    "args = parser.parse_args()\n",
    "\n",
    "#打印姓名\n",
    "print(args.family+args.name)"
   ]
  },
  {
   "cell_type": "code",
   "execution_count": 22,
   "id": "897a1bf2",
   "metadata": {
    "ExecuteTime": {
     "end_time": "2024-04-17T11:25:37.617521Z",
     "start_time": "2024-04-17T11:25:37.327848Z"
    }
   },
   "outputs": [
    {
     "name": "stdout",
     "output_type": "stream",
     "text": [
      "张三\n"
     ]
    }
   ],
   "source": [
    "!python ../data/demo5.py"
   ]
  },
  {
   "cell_type": "code",
   "execution_count": 24,
   "id": "ac0f14c7",
   "metadata": {
    "ExecuteTime": {
     "end_time": "2024-04-17T11:26:02.006938Z",
     "start_time": "2024-04-17T11:26:01.731113Z"
    }
   },
   "outputs": [
    {
     "name": "stdout",
     "output_type": "stream",
     "text": [
      "李三\n"
     ]
    }
   ],
   "source": [
    "!python ../data/demo5.py --family=李"
   ]
  },
  {
   "cell_type": "markdown",
   "id": "b67253c2",
   "metadata": {},
   "source": [
    "## 必须参数"
   ]
  },
  {
   "cell_type": "markdown",
   "id": "bf526108",
   "metadata": {},
   "source": [
    "add_argument有一个required参数可以设置该参数是否必需。"
   ]
  },
  {
   "cell_type": "code",
   "execution_count": 29,
   "id": "816c970e",
   "metadata": {
    "ExecuteTime": {
     "end_time": "2024-04-17T11:28:26.252285Z",
     "start_time": "2024-04-17T11:28:26.246480Z"
    }
   },
   "outputs": [
    {
     "name": "stdout",
     "output_type": "stream",
     "text": [
      "Overwriting ../data/demo6.py\n"
     ]
    }
   ],
   "source": [
    "%%writefile ../data/demo6.py\n",
    "import argparse\n",
    "\n",
    "parser = argparse.ArgumentParser(description='姓名')\n",
    "parser.add_argument('--family', type=str, default='张', help='姓')\n",
    "parser.add_argument('--name', type=str, required=True, default='', help='名')\n",
    "args = parser.parse_args()\n",
    "\n",
    "#打印姓名\n",
    "print(args.family+args.name)"
   ]
  },
  {
   "cell_type": "code",
   "execution_count": 30,
   "id": "4fc511a1",
   "metadata": {
    "ExecuteTime": {
     "end_time": "2024-04-17T11:28:27.671934Z",
     "start_time": "2024-04-17T11:28:27.402561Z"
    }
   },
   "outputs": [
    {
     "name": "stderr",
     "output_type": "stream",
     "text": [
      "usage: demo6.py [-h] [--family FAMILY] --name NAME\n",
      "demo6.py: error: the following arguments are required: --name\n"
     ]
    }
   ],
   "source": [
    "!python ../data/demo6.py --family=李"
   ]
  },
  {
   "cell_type": "code",
   "execution_count": 31,
   "id": "c4d00db4",
   "metadata": {
    "ExecuteTime": {
     "end_time": "2024-04-17T11:28:29.827511Z",
     "start_time": "2024-04-17T11:28:29.582396Z"
    }
   },
   "outputs": [
    {
     "name": "stdout",
     "output_type": "stream",
     "text": [
      "张四\n"
     ]
    }
   ],
   "source": [
    "!python ../data/demo6.py --name=四"
   ]
  },
  {
   "cell_type": "markdown",
   "id": "1086ee94",
   "metadata": {},
   "source": [
    "# Logging模块"
   ]
  },
  {
   "cell_type": "markdown",
   "id": "92f08b55",
   "metadata": {},
   "source": [
    "说到日志，无论是写框架代码还是业务代码，都离不开日志的记录，他能给我们定位问题带来极大的帮助。\n",
    "\n",
    "记录日志最简单的方法就是在你想要记录的地方加上一句 print ， 我相信新手和老鸟都经常这么干。在简单的代码中或者小型项目中这么干一点问题都没有。但是在一些稍大一点的项目，有时候定位一个问题，需要查看历史日志来定位问题，用print就不合时宜了。\n",
    "\n",
    "为什么这么说？\n",
    "\n",
    "因为 print 打印出来的日志没有时间，不知道日志记录的位置，也没有可读的日志格式， 还不能把日志输出到指定文件等等。除非这些功能你都全部自己重复造一遍轮子。\n",
    "\n",
    "最佳的做法是使用内置的logging模块， 因为 logging 模块给开发者提供了非常丰富的功能。"
   ]
  },
  {
   "cell_type": "markdown",
   "id": "cb363ce6",
   "metadata": {},
   "source": [
    "## 基本概念"
   ]
  },
  {
   "cell_type": "markdown",
   "id": "f1f54f7e",
   "metadata": {},
   "source": [
    "Python Logging模块是一个内置的日志处理工具，可以用于记录和输出应用程序的运行状态。该模块提供了一个灵活的方式来控制日志记录的输出和格式，包括记录日志的级别、日志信息的格式和输出位置等。\n",
    "\n",
    "以下是Python Logging模块的基本概念：\n",
    "\n",
    "- Logger：是日志记录器，用于记录日志信息，负责调用处理器（Handler）输出日志信息。\n",
    "- Handler：是日志处理器，负责处理日志记录器传递的日志信息，可以将日志输出到控制台、文件、网络等位置。\n",
    "- Formatter：是日志格式化器，用于定义日志输出的格式，包括时间、日志级别、消息内容等信息。\n",
    "- Level：是日志级别，表示日志的重要程度。日志级别从低到高依次为：DEBUG、INFO、WARNING、ERROR、CRITICAL。"
   ]
  },
  {
   "cell_type": "markdown",
   "id": "4aed4a8c",
   "metadata": {},
   "source": [
    "在 Python 的 logging 模块中，日志记录的优先级（或称为“级别”）是由以下常量定义的（按照从低到高的顺序）：\n",
    "\n",
    "- DEBUG: 最低级别的日志信息，通常只在调试程序时使用，记录详细的程序执行信息，便于排错。\n",
    "- INFO: 用于确认程序按预期运行的信息，记录程序运行过程中重要的事件和状态。\n",
    "- WARNING: 用于警告程序可能存在的问题，但程序仍能正常运行，记录非致命性的问题。\n",
    "- ERROR: 用于记录程序中的错误信息，指出程序出现错误的原因和位置，程序仍然能够继续运行。\n",
    "- CRITICAL: 最高级别的日志信息，表示程序出现了严重的错误，必须停止程序运行。\n",
    "\n",
    "在使用 logging 模块时，通常可以通过设置 logger 对象的级别来控制记录的日志信息的级别。例如，设置 logger 的级别为 WARNING，则只有 WARNING、ERROR 和 CRITICAL 级别的日志信息会被记录。"
   ]
  },
  {
   "cell_type": "markdown",
   "id": "5b20ca67",
   "metadata": {},
   "source": [
    "## 开启不同颜色日志输出"
   ]
  },
  {
   "cell_type": "markdown",
   "id": "7af387b8",
   "metadata": {},
   "source": [
    "注意：默认情况下，Python的logging模块为所有的logger设置了一个默认的handler。调用logger.info()方法时，该方法将使用默认handler来处理日志记录，而默认handler将日志记录发送到标准错误流（stderr）\n",
    "\n",
    "要解决这个问题，我们需要移除默认的handler，并且仅使用我们定义的handler来处理日志记录。"
   ]
  },
  {
   "cell_type": "code",
   "execution_count": 5,
   "id": "aff1a9fe",
   "metadata": {
    "ExecuteTime": {
     "end_time": "2024-07-16T07:22:57.969045Z",
     "start_time": "2024-07-16T07:22:57.955941Z"
    }
   },
   "outputs": [
    {
     "name": "stderr",
     "output_type": "stream",
     "text": [
      "\u001b[36mDEBUG: debug message\u001b[0m\n",
      "\u001b[32mINFO: info message\u001b[0m\n",
      "\u001b[33mWARNING: warning message\u001b[0m\n",
      "\u001b[31mERROR: error message\u001b[0m\n",
      "\u001b[31m\u001b[47mCRITICAL: critical message\u001b[0m\n"
     ]
    }
   ],
   "source": [
    "import logging\n",
    "import colorlog\n",
    "\n",
    "\n",
    "def get_logger(level=logging.INFO):\n",
    "    # 创建logger对象\n",
    "    logger = logging.getLogger()\n",
    "    logger.setLevel(level)\n",
    "    # 创建控制台日志处理器\n",
    "    console_handler = logging.StreamHandler()\n",
    "    console_handler.setLevel(level)\n",
    "    # 定义颜色输出格式\n",
    "    color_formatter = colorlog.ColoredFormatter(\n",
    "        '%(log_color)s%(levelname)s: %(message)s',\n",
    "        log_colors={\n",
    "            'DEBUG': 'cyan',\n",
    "            'INFO': 'green',\n",
    "            'WARNING': 'yellow',\n",
    "            'ERROR': 'red',\n",
    "            'CRITICAL': 'red,bg_white',\n",
    "        })\n",
    "    # 将颜色输出格式添加到控制台日志处理器\n",
    "    console_handler.setFormatter(color_formatter)\n",
    "    # 移除默认的handler\n",
    "    for handler in logger.handlers:\n",
    "        logger.removeHandler(handler)\n",
    "    # 将控制台日志处理器添加到logger对象\n",
    "    logger.addHandler(console_handler)\n",
    "    return logger\n",
    "\n",
    "\n",
    "if __name__ == '__main__':\n",
    "    # 使用时调用get_logger()即可\n",
    "    logger = get_logger(logging.DEBUG)\n",
    "    logger.debug('debug message')\n",
    "    logger.info('info message')\n",
    "    logger.warning('warning message')\n",
    "    logger.error('error message')\n",
    "    logger.critical('critical message')"
   ]
  },
  {
   "cell_type": "markdown",
   "id": "c28d0ac3",
   "metadata": {},
   "source": [
    "## 使用示例"
   ]
  },
  {
   "cell_type": "code",
   "execution_count": 3,
   "id": "71baa779",
   "metadata": {
    "ExecuteTime": {
     "end_time": "2024-07-16T07:21:37.100554Z",
     "start_time": "2024-07-16T07:21:37.093650Z"
    }
   },
   "outputs": [
    {
     "name": "stderr",
     "output_type": "stream",
     "text": [
      "\u001b[31mERROR: 发生了一个异常\u001b[0m\n",
      "Traceback (most recent call last):\n",
      "  File \"C:\\Users\\IKAS\\AppData\\Local\\Temp\\ipykernel_51208\\1227979563.py\", line 8, in <module>\n",
      "    result = 10 / 0\n",
      "             ~~~^~~\n",
      "ZeroDivisionError: division by zero\n"
     ]
    }
   ],
   "source": [
    "import logging\n",
    "\n",
    "# 创建一个Logger对象\n",
    "logger = logging.getLogger(__name__)\n",
    "\n",
    "try:\n",
    "    # 尝试执行可能会抛出异常的代码\n",
    "    result = 10 / 0\n",
    "except Exception as e:\n",
    "    # 在异常处理中记录日志\n",
    "    logger.exception('发生了一个异常')"
   ]
  },
  {
   "cell_type": "markdown",
   "id": "3e628231",
   "metadata": {},
   "source": [
    "# raise关键字"
   ]
  },
  {
   "cell_type": "markdown",
   "id": "7fb420ae",
   "metadata": {},
   "source": [
    "在 Python 中，raise 关键字用于手动引发异常。\n",
    "\n",
    "通常，当程序中出现异常情况时，Python 会自动抛出相应的异常并中断程序的运行。但是，在某些情况下，程序员需要自己手动引发异常，这时就可以使用 raise 关键字。\n",
    "\n",
    "raise 可以用来引发各种类型的异常，包括 Python 内置的异常和自定义的异常。语法格式为：\n",
    "\n",
    "`raise [Exception [, args [, traceback]]]`\n",
    "\n",
    "其中，Exception 是要引发的异常类型，args 是传递给异常类的参数，traceback 是可选的跟踪信息。如果省略参数，则会引发最近的异常。"
   ]
  },
  {
   "cell_type": "markdown",
   "id": "31e4a91a",
   "metadata": {},
   "source": [
    "## python标准异常"
   ]
  },
  {
   "cell_type": "markdown",
   "id": "1533d886",
   "metadata": {},
   "source": [
    "|异常名称\t|描述|\n",
    "|----|----|\n",
    "|BaseException\t|所有异常的基类\n",
    "|SystemExit\t|解释器请求退出\n",
    "|KeyboardInterrupt\t|用户中断执行(通常是输入^C)\n",
    "|Exception\t|常规错误的基类\n",
    "|StopIteration\t|迭代器没有更多的值\n",
    "|GeneratorExit\t|生成器(generator)发生异常来通知退出\n",
    "|StandardError\t|所有的内建标准异常的基类\n",
    "|ArithmeticError\t|所有数值计算错误的基类\n",
    "|FloatingPointError\t|浮点计算错误\n",
    "|OverflowError\t|数值运算超出最大限制\n",
    "|ZeroDivisionError\t|除(或取模)零 (所有数据类型)\n",
    "|AssertionError\t|断言语句失败\n",
    "|AttributeError\t|对象没有这个属性\n",
    "|EOFError\t|没有内建输入,到达EOF 标记\n",
    "|EnvironmentError\t|操作系统错误的基类\n",
    "|IOError\t|输入/输出操作失败\n",
    "|OSError\t|操作系统错误\n",
    "|WindowsError\t|系统调用失败\n",
    "|ImportError\t|导入模块/对象失败\n",
    "|LookupError\t|无效数据查询的基类\n",
    "|IndexError\t|序列中没有此索引(index)\n",
    "|KeyError\t|映射中没有这个键\n",
    "|MemoryError\t|内存溢出错误(对于Python 解释器不是致命的)\n",
    "|NameError\t|未声明/初始化对象 (没有属性)\n",
    "|UnboundLocalError\t|访问未初始化的本地变量\n",
    "|ReferenceError\t|弱引用(Weak reference)试图访问已经垃圾回收了的对象\n",
    "|RuntimeError\t|一般的运行时错误\n",
    "|NotImplementedError\t|尚未实现的方法\n",
    "|SyntaxError\tPython |语法错误\n",
    "|IndentationError\t|缩进错误\n",
    "|TabError\t|Tab 和空格混用\n",
    "|SystemError\t|一般的解释器系统错误\n",
    "|TypeError\t|对类型无效的操作\n",
    "|ValueError\t|传入无效的参数\n",
    "|UnicodeError\t|Unicode 相关的错误\n",
    "|UnicodeDecodeError\t|Unicode 解码时的错误\n",
    "|UnicodeEncodeError\t|Unicode 编码时错误\n",
    "|UnicodeTranslateError\t|Unicode 转换时错误\n",
    "|Warning\t|警告的基类\n",
    "|DeprecationWarning\t|关于被弃用的特征的警告\n",
    "|FutureWarning\t|关于构造将来语义会有改变的警告\n",
    "|OverflowWarning\t|旧的关于自动提升为长整型(long)的警告\n",
    "|PendingDeprecationWarning\t|关于特性将会被废弃的警告\n",
    "|RuntimeWarning\t|可疑的运行时行为(runtime behavior)的警告|\n",
    "|SyntaxWarning\t|可疑的语法的警告|\n",
    "|UserWarning\t|用户代码生成的警告|"
   ]
  },
  {
   "cell_type": "markdown",
   "id": "577cc98c",
   "metadata": {},
   "source": [
    "## 使用示例"
   ]
  },
  {
   "cell_type": "code",
   "execution_count": 7,
   "id": "4b7f9ce6",
   "metadata": {
    "ExecuteTime": {
     "end_time": "2024-07-16T07:45:46.424026Z",
     "start_time": "2024-07-16T07:45:44.241664Z"
    }
   },
   "outputs": [
    {
     "ename": "Exception",
     "evalue": "('Invalid level!', 0)",
     "output_type": "error",
     "traceback": [
      "\u001b[1;31m---------------------------------------------------------------------------\u001b[0m",
      "\u001b[1;31mException\u001b[0m                                 Traceback (most recent call last)",
      "Cell \u001b[1;32mIn[7], line 3\u001b[0m\n\u001b[0;32m      1\u001b[0m level \u001b[38;5;241m=\u001b[39m \u001b[38;5;241m0\u001b[39m\n\u001b[0;32m      2\u001b[0m \u001b[38;5;28;01mif\u001b[39;00m level \u001b[38;5;241m<\u001b[39m \u001b[38;5;241m1\u001b[39m:\n\u001b[1;32m----> 3\u001b[0m     \u001b[38;5;28;01mraise\u001b[39;00m \u001b[38;5;167;01mException\u001b[39;00m(\u001b[38;5;124m\"\u001b[39m\u001b[38;5;124mInvalid level!\u001b[39m\u001b[38;5;124m\"\u001b[39m, level)\n",
      "\u001b[1;31mException\u001b[0m: ('Invalid level!', 0)"
     ]
    }
   ],
   "source": [
    "level = 0\n",
    "if level < 1:\n",
    "    raise Exception(\"Invalid level!\", level)"
   ]
  },
  {
   "cell_type": "markdown",
   "id": "f2146e48",
   "metadata": {},
   "source": [
    "# python异常处理"
   ]
  },
  {
   "cell_type": "markdown",
   "id": "40692d3c",
   "metadata": {},
   "source": [
    "异常即是一个事件，该事件会在程序执行过程中发生，影响了程序的正常执行。\n",
    "\n",
    "一般情况下，在Python无法正常处理程序时就会发生一个异常。\n",
    "\n",
    "异常是Python对象，表示一个错误。\n",
    "\n",
    "当Python脚本发生异常时我们需要捕获处理它，否则程序会终止执行。"
   ]
  },
  {
   "cell_type": "markdown",
   "id": "d548c001",
   "metadata": {},
   "source": [
    "|异常名称\t|描述\n",
    "|----|----|\n",
    "|BaseException\t|所有异常的基类\n",
    "SystemExit\t|解释器请求退出\n",
    "KeyboardInterrupt\t|用户中断执行(通常是输入^C)\n",
    "Exception\t|常规错误的基类\n",
    "StopIteration\t|迭代器没有更多的值\n",
    "GeneratorExit\t|生成器(generator)发生异常来通知退出\n",
    "StandardError\t|所有的内建标准异常的基类\n",
    "ArithmeticError\t|所有数值计算错误的基类\n",
    "FloatingPointError\t|浮点计算错误\n",
    "OverflowError\t|数值运算超出最大限制\n",
    "ZeroDivisionError\t|除(或取模)零 (所有数据类型)\n",
    "AssertionError\t|断言语句失败\n",
    "AttributeError\t|对象没有这个属性\n",
    "EOFError\t|没有内建输入,到达EOF 标记\n",
    "EnvironmentError\t|操作系统错误的基类\n",
    "IOError\t|输入/输出操作失败\n",
    "OSError\t|操作系统错误\n",
    "WindowsError\t|系统调用失败\n",
    "ImportError\t|导入模块/对象失败\n",
    "LookupError\t|无效数据查询的基类\n",
    "IndexError\t|序列中没有此索引(index)\n",
    "KeyError\t|映射中没有这个键\n",
    "MemoryError\t|内存溢出错误(对于Python 解释器不是致命的)\n",
    "NameError\t|未声明/初始化对象 (没有属性)\n",
    "UnboundLocalError\t|访问未初始化的本地变量\n",
    "ReferenceError\t|弱引用(Weak reference)试图访问已经垃圾回收了的对象\n",
    "RuntimeError\t|一般的运行时错误\n",
    "NotImplementedError\t|尚未实现的方法\n",
    "SyntaxError\tPython |语法错误\n",
    "IndentationError\t|缩进错误\n",
    "TabError\t|Tab 和空格混用\n",
    "SystemError\t|一般的解释器系统错误\n",
    "TypeError\t|对类型无效的操作\n",
    "ValueError\t|传入无效的参数\n",
    "UnicodeError\t|Unicode 相关的错误\n",
    "UnicodeDecodeError\t|Unicode 解码时的错误\n",
    "UnicodeEncodeError\t|Unicode 编码时错误\n",
    "UnicodeTranslateError\t|Unicode 转换时错误\n",
    "Warning\t|警告的基类\n",
    "DeprecationWarning\t|关于被弃用的特征的警告\n",
    "FutureWarning\t|关于构造将来语义会有改变的警告\n",
    "OverflowWarning\t|旧的关于自动提升为长整型(long)的警告\n",
    "PendingDeprecationWarning\t|关于特性将会被废弃的警告\n",
    "RuntimeWarning\t|可疑的运行时行为(runtime behavior)的警告\n",
    "SyntaxWarning\t|可疑的语法的警告\n",
    "UserWarning\t|用户代码生成的警告"
   ]
  },
  {
   "cell_type": "markdown",
   "id": "7fc67e52",
   "metadata": {},
   "source": [
    "## 异常处理"
   ]
  },
  {
   "cell_type": "markdown",
   "id": "c7e6afa4",
   "metadata": {},
   "source": [
    "捕捉异常可以使用try/except语句。\n",
    "\n",
    "try/except语句用来检测try语句块中的错误，从而让except语句捕获异常信息并处理。\n",
    "\n",
    "如果你不想在异常发生时结束你的程序，只需在try里捕获它。"
   ]
  },
  {
   "cell_type": "raw",
   "id": "f49966b5",
   "metadata": {},
   "source": [
    "try:\n",
    "<语句>        #运行别的代码\n",
    "except <名字>：\n",
    "<语句>        #如果在try部份引发了'name'异常\n",
    "except <名字>，<数据>:\n",
    "<语句>        #如果引发了'name'异常，获得附加的数据\n",
    "else:\n",
    "<语句>        #如果没有异常发生"
   ]
  },
  {
   "cell_type": "markdown",
   "id": "673ec7f9",
   "metadata": {},
   "source": [
    "try的工作原理是，当开始一个try语句后，python就在当前程序的上下文中作标记，这样当异常出现时就可以回到这里，try子句先执行，接下来会发生什么依赖于执行时是否出现异常。\n",
    "\n",
    "- 如果当try后的语句执行时发生异常，python就跳回到try并执行第一个匹配该异常的except子句，异常处理完毕，控制流就通过整个try语句（除非在处理异常时又引发新的异常）。  \n",
    "- 如果在try后的语句里发生了异常，却没有匹配的except子句，异常将被递交到上层的try，或者到程序的最上层（这样将结束程序，并打印默认的出错信息）。  \n",
    "- 如果在try子句执行时没有发生异常，python将执行else语句后的语句（如果有else的话），然后控制流通过整个try语句。"
   ]
  },
  {
   "cell_type": "code",
   "execution_count": 2,
   "id": "956b0578",
   "metadata": {
    "ExecuteTime": {
     "end_time": "2024-07-31T02:39:22.535676Z",
     "start_time": "2024-07-31T02:39:22.523690Z"
    }
   },
   "outputs": [
    {
     "name": "stdout",
     "output_type": "stream",
     "text": [
      "内容写入文件成功\n"
     ]
    }
   ],
   "source": [
    "#!/usr/bin/python\n",
    "# -*- coding: UTF-8 -*-\n",
    "\n",
    "try:\n",
    "    fh = open(\"../outputs/testfile\", \"w\")\n",
    "    fh.write(\"这是一个测试文件，用于测试异常!!\")\n",
    "except IOError:\n",
    "    print(\"Error: 没有找到文件或读取文件失败\")\n",
    "else:\n",
    "    print(\"内容写入文件成功\")\n",
    "    fh.close()"
   ]
  },
  {
   "cell_type": "markdown",
   "id": "3c02d331",
   "metadata": {},
   "source": [
    "## 使用except而不带任何异常类型"
   ]
  },
  {
   "cell_type": "markdown",
   "id": "9c5f615e",
   "metadata": {},
   "source": [
    "你可以不带任何异常类型使用except，如下实例："
   ]
  },
  {
   "cell_type": "raw",
   "id": "a0e78593",
   "metadata": {},
   "source": [
    "try:\n",
    "    正常的操作\n",
    "   ......................\n",
    "except:\n",
    "    发生异常，执行这块代码\n",
    "   ......................\n",
    "else:\n",
    "    如果没有异常执行这块代码"
   ]
  },
  {
   "cell_type": "code",
   "execution_count": 10,
   "id": "f2b98589",
   "metadata": {
    "ExecuteTime": {
     "end_time": "2024-07-31T03:01:03.068962Z",
     "start_time": "2024-07-31T03:01:03.064603Z"
    }
   },
   "outputs": [
    {
     "name": "stdout",
     "output_type": "stream",
     "text": [
      "发生了异常 10.0\n"
     ]
    }
   ],
   "source": [
    "try:\n",
    "    # 尝试执行可能引发异常的代码\n",
    "    result = 10 / 0  # 这里将引发ZeroDivisionError异常\n",
    "except:\n",
    "    # 如果发生了异常，执行下面代码\n",
    "    result = 10 / 1\n",
    "    print('发生了异常', result)\n",
    "else:\n",
    "    print(result)"
   ]
  },
  {
   "cell_type": "code",
   "execution_count": 11,
   "id": "4cacdfc0",
   "metadata": {
    "ExecuteTime": {
     "end_time": "2024-07-31T03:01:03.761202Z",
     "start_time": "2024-07-31T03:01:03.756594Z"
    }
   },
   "outputs": [
    {
     "name": "stdout",
     "output_type": "stream",
     "text": [
      "未发生异常 10.0\n"
     ]
    }
   ],
   "source": [
    "try:\n",
    "    # 尝试执行可能引发异常的代码\n",
    "    result = 10 / 1  \n",
    "except:\n",
    "    # 如果发生了异常，执行下面代码\n",
    "    result = 10 / 1\n",
    "    print('发生了异常', result)\n",
    "else:\n",
    "    # 如果没有发生异常，执行下面代码\n",
    "    print('未发生异常', result)"
   ]
  },
  {
   "cell_type": "markdown",
   "id": "d8a7b94c",
   "metadata": {},
   "source": [
    "## 使用except而带多种异常类型"
   ]
  },
  {
   "cell_type": "markdown",
   "id": "412d203d",
   "metadata": {},
   "source": [
    "你也可以使用相同的except语句来处理多个异常信息，如下所示："
   ]
  },
  {
   "cell_type": "raw",
   "id": "3ab27e72",
   "metadata": {},
   "source": [
    "try:\n",
    "    正常的操作\n",
    "   ......................\n",
    "except(Exception1[, Exception2[,...ExceptionN]]):\n",
    "   发生以上多个异常中的一个，执行这块代码\n",
    "   ......................\n",
    "else:\n",
    "    如果没有异常执行这块代码\n"
   ]
  },
  {
   "cell_type": "markdown",
   "id": "5227d4d7",
   "metadata": {},
   "source": [
    "## try-finally 语句"
   ]
  },
  {
   "cell_type": "markdown",
   "id": "54eadfb2",
   "metadata": {},
   "source": [
    "try-finally 语句无论是否发生异常都将执行最后的代码。"
   ]
  },
  {
   "cell_type": "raw",
   "id": "46e23c99",
   "metadata": {},
   "source": [
    "try:\n",
    "<语句>\n",
    "finally:\n",
    "<语句>    #退出try时总会执行\n",
    "raise"
   ]
  },
  {
   "cell_type": "code",
   "execution_count": 13,
   "id": "b378e4cb",
   "metadata": {
    "ExecuteTime": {
     "end_time": "2024-07-31T03:07:08.587015Z",
     "start_time": "2024-07-31T03:07:08.579909Z"
    }
   },
   "outputs": [
    {
     "name": "stdout",
     "output_type": "stream",
     "text": [
      "关闭文件\n"
     ]
    }
   ],
   "source": [
    "#!/usr/bin/python\n",
    "# -*- coding: UTF-8 -*-\n",
    "\n",
    "try:\n",
    "    fh = open(\"../outputs/testfile\", \"w\")\n",
    "    try:\n",
    "        fh.write(\"这是一个测试文件，用于测试异常!!\")\n",
    "    finally:\n",
    "        print(\"关闭文件\")\n",
    "        fh.close()\n",
    "except IOError:\n",
    "    print(\"Error: 没有找到文件或读取文件失败\")"
   ]
  },
  {
   "cell_type": "markdown",
   "id": "ef9526ec",
   "metadata": {},
   "source": [
    "# threading模块"
   ]
  },
  {
   "cell_type": "markdown",
   "id": "df5a68e6",
   "metadata": {},
   "source": [
    "在 Python 的 threading 模块中，线程锁（Lock）用于实现线程之间的同步，确保在同一时刻只有一个线程能够访问被锁保护的代码区域。线程锁（Lock）对象用于在多线程环境中控制对共享资源的访问，以避免数据竞争和不一致的问题。"
   ]
  },
  {
   "cell_type": "markdown",
   "id": "d9318895",
   "metadata": {},
   "source": [
    "## 原理"
   ]
  },
  {
   "cell_type": "markdown",
   "id": "0a1aff20",
   "metadata": {},
   "source": [
    "线程锁通过在一个线程访问共享资源时阻止其他线程访问，来确保资源的完整性。只有获取锁的线程才能访问共享资源，其他线程必须等待锁被释放。当一个线程获取到锁后，其他线程如果尝试获取该锁，会被阻塞，直到持有锁的线程释放锁。这样可以避免多个线程同时对共享资源进行修改，导致数据不一致或出现错误的结果。\n",
    "\n",
    "简单说，线程锁的核心原理是保证在同一时间只有一个线程可以获得锁并访问被保护的资源。当一个线程获得锁时，其他尝试获取同一个锁的线程将被阻塞，直到持有锁的线程释放它。这种机制确保了共享资源的互斥访问，防止了数据竞争和不一致性。"
   ]
  },
  {
   "cell_type": "markdown",
   "id": "daf92586",
   "metadata": {},
   "source": [
    "## 构造方法"
   ]
  },
  {
   "cell_type": "code",
   "execution_count": 3,
   "id": "8cc2e7c8",
   "metadata": {
    "ExecuteTime": {
     "end_time": "2024-08-06T02:33:26.022511Z",
     "start_time": "2024-08-06T02:33:26.018232Z"
    }
   },
   "outputs": [
    {
     "name": "stdout",
     "output_type": "stream",
     "text": [
      "线程中的代码实现\n"
     ]
    }
   ],
   "source": [
    "import threading\n",
    "\n",
    "lock = threading.Lock()\n",
    "\n",
    "lock.acquire()\n",
    "print(\"线程中的代码实现\")\n",
    "lock.release()"
   ]
  },
  {
   "cell_type": "markdown",
   "id": "ddd37926",
   "metadata": {},
   "source": [
    "常用方法：\n",
    "\n",
    "- acquire(blocking=True, timeout=-1): 尝试获取锁。如果 blocking 为 True（默认值），则线程会阻塞直到获取到锁；如果设置为 False，则不会阻塞，如果无法立即获取锁会返回 False。timeout 用于指定阻塞的超时时间（以秒为单位），超过时间未获取到锁则返回 False。\n",
    "- release(): 释放锁。\n",
    "- locked(): 如果锁被某个线程持有，返回 True\n",
    "\n",
    "原始锁是一个在锁定时不属于特定线程的同步基元组件。在Python中，它是能用的最低级的同步基元组件，由 _thread 扩展模块直接实现。\n",
    "\n",
    "原始锁处于 \"锁定\" 或者 \"非锁定\" 两种状态之一。它被创建时为非锁定状态。它有两个基本方法， acquire() 和 release() 。当状态为非锁定时， acquire() 将状态改为 锁定 并立即返回。当状态是锁定时， acquire() 将阻塞至其他线程调用 release() 将其改为非锁定状态，然后 acquire() 调用重置其为锁定状态并返回。 release() 只在锁定状态下调用； 它将状态改为非锁定并立即返回。如果尝试释放一个非锁定的锁，则会引发 RuntimeError 异常。\n",
    "\n",
    "锁同样支持 上下文管理协议。\n",
    "\n",
    "当多个线程在 acquire() 等待状态转变为未锁定被阻塞，然后 release() 重置状态为未锁定时，只有一个线程能继续执行；至于哪个等待线程继续执行没有定义，并且会根据实现而不同。\n",
    "\n",
    "所有方法的执行都是原子性的。"
   ]
  },
  {
   "cell_type": "markdown",
   "id": "02c77ad2",
   "metadata": {},
   "source": [
    "## 死锁"
   ]
  },
  {
   "cell_type": "markdown",
   "id": "17146ba4",
   "metadata": {},
   "source": [
    "### 死锁的定义"
   ]
  },
  {
   "cell_type": "markdown",
   "id": "fcbfce12",
   "metadata": {},
   "source": [
    "多线程以及多进程改善了系统资源的利用率并提高了系统 的处理能力。然而，并发执行也带来了新的问题——死锁。所谓死锁是指多个线程因竞争资源而造成的一种僵局（互相等待），若无外力作用，这些进程都将无法向前推进。"
   ]
  },
  {
   "cell_type": "markdown",
   "id": "39ef9150",
   "metadata": {},
   "source": [
    "### 死锁产生的原因"
   ]
  },
  {
   "cell_type": "markdown",
   "id": "ea207bc0",
   "metadata": {},
   "source": [
    "1) 系统资源的竞争\n",
    "\n",
    "通常系统中拥有的不可剥夺资源，其数量不足以满足多个进程运行的需要，使得进程在 运行过程中，会因争夺资源而陷入僵局，如磁带机、打印机等。只有对不可剥夺资源的竞争 才可能产生死锁，对可剥夺资源的竞争是不会引起死锁的。\n",
    "\n",
    "2) 进程推进顺序非法\n",
    "\n",
    "进程在运行过程中，请求和释放资源的顺序不当，也同样会导致死锁。例如，并发进程 P1、P2分别保持了资源R1、R2，而进程P1申请资源R2，进程P2申请资源R1时，两者都 会因为所需资源被占用而阻塞。\n",
    "\n",
    "3) 信号量使用不当也会造成死锁。\n",
    "\n",
    "进程间彼此相互等待对方发来的消息，结果也会使得这 些进程间无法继续向前推进。例如，进程A等待进程B发的消息，进程B又在等待进程A 发的消息，可以看出进程A和B不是因为竞争同一资源，而是在等待对方的资源导致死锁。\n",
    "\n",
    "4) 死锁产生的必要条件\n",
    "\n",
    "产生死锁必须同时满足以下四个条件，只要其中任一条件不成立，死锁就不会发生。\n",
    "\n",
    "- 互斥条件：进程要求对所分配的资源（如打印机）进行排他性控制，即在一段时间内某 资源仅为一个进程所占有。此时若有其他进程请求该资源，则请求进程只能等待。\n",
    "- 不剥夺条件：进程所获得的资源在未使用完毕之前，不能被其他进程强行夺走，即只能 由获得该资源的进程自己来释放（只能是主动释放)。\n",
    "- 请求和保持条件：进程已经保持了至少一个资源，但又提出了新的资源请求，而该资源 已被其他进程占有，此时请求进程被阻塞，但对自己已获得的资源保持不放。\n",
    "- 循环等待条件：存在一种进程资源的循环等待链，链中每一个进程已获得的资源同时被 链中下一个进程所请求。即存在一个处于等待状态的进程集合{Pl, P2, ..., pn}，其中Pi等 待的资源被P(i+1)占有（i=0, 1, ..., n-1)，Pn等待的资源被P0占有."
   ]
  },
  {
   "cell_type": "markdown",
   "id": "e911e721",
   "metadata": {},
   "source": [
    "### 如何避免死锁"
   ]
  },
  {
   "cell_type": "markdown",
   "id": "4e36d10f",
   "metadata": {},
   "source": [
    "在有些情况下死锁是可以避免的。三种用于避免死锁的技术：\n",
    "\n",
    "- 加锁顺序（线程按照一定的顺序加锁）\n",
    "- 加锁时限（线程尝试获取锁的时候加上一定的时限，超过时限则放弃对该锁的请求，并释放自己占有的锁）\n",
    "- 死锁检测"
   ]
  },
  {
   "cell_type": "markdown",
   "id": "fea946c6",
   "metadata": {},
   "source": [
    "**加锁顺序**\n",
    "\n",
    "当多个线程需要相同的一些锁，但是按照不同的顺序加锁，死锁就很容易发生。\n",
    "\n",
    "如果能确保所有的线程都是按照相同的顺序获得锁，那么死锁就不会发生。\n",
    "\n",
    "如果一个线程（比如线程3）需要一些锁，那么它必须按照确定的顺序获取锁。它只有获得了从顺序上排在前面的锁之后，才能获取后面的锁。\n",
    "\n",
    "例如，线程2和线程3只有在获取了锁A之后才能尝试获取锁C(译者注：获取锁A是获取锁C的必要条件)。因为线程1已经拥有了锁A，所以线程2和3需要一直等到锁A被释放。然后在它们尝试对B或C加锁之前，必须成功地对A加了锁。\n",
    "\n",
    "按照顺序加锁是一种有效的死锁预防机制。但是，这种方式需要你事先知道所有可能会用到的锁(译者注：并对这些锁做适当的排序)，但总有些时候是无法预知的。"
   ]
  },
  {
   "cell_type": "markdown",
   "id": "c1cc19c5",
   "metadata": {},
   "source": [
    "**加锁时限**\n",
    "\n",
    "另外一个可以避免死锁的方法是在尝试获取锁的时候加一个超时时间，这也就意味着在尝试获取锁的过程中若超过了这个时限该线程则放弃对该锁请求。若一个线程没有在给定的时限内成功获得所有需要的锁，则会进行回退并释放所有已经获得的锁，然后等待一段随机的时间再重试。这段随机的等待时间让其它线程有机会尝试获取相同的这些锁，并且让该应用在没有获得锁的时候可以继续运行(加锁超时后可以先继续运行干点其它事情，再回头来重复之前加锁的逻辑)。"
   ]
  },
  {
   "cell_type": "markdown",
   "id": "6b795b08",
   "metadata": {},
   "source": [
    "**死锁检测**\n",
    "\n",
    "死锁检测是一个更好的死锁预防机制，它主要是针对那些不可能实现按序加锁并且锁超时也不可行的场景。\n",
    "\n",
    "每当一个线程获得了锁，会在线程和锁相关的数据结构中（map、graph等等）将其记下。除此之外，每当有线程请求锁，也需要记录在这个数据结构中。\n",
    "\n",
    "当一个线程请求锁失败时，这个线程可以遍历锁的关系图看看是否有死锁发生。例如，线程A请求锁7，但是锁7这个时候被线程B持有，这时线程A就可以检查一下线程B是否已经请求了线程A当前所持有的锁。如果线程B确实有这样的请求，那么就是发生了死锁（线程A拥有锁1，请求锁7；线程B拥有锁7，请求锁1）。\n",
    "\n",
    "当然，死锁一般要比两个线程互相持有对方的锁这种情况要复杂的多。线程A等待线程B，线程B等待线程C，线程C等待线程D，线程D又在等待线程A。线程A为了检测死锁，它需要递进地检测所有被B请求的锁。从线程B所请求的锁开始，线程A找到了线程C，然后又找到了线程D，发现线程D请求的锁被线程A自己持有着。这是它就知道发生了死锁。"
   ]
  },
  {
   "cell_type": "markdown",
   "id": "23a76cbe",
   "metadata": {},
   "source": [
    "那么当检测出死锁时，这些线程该做些什么呢？\n",
    "\n",
    "一个可行的做法是释放所有锁，回退，并且等待一段随机的时间后重试。这个和简单的加锁超时类似，不一样的是只有死锁已经发生了才回退，而不会是因为加锁的请求超时了。虽然有回退和等待，但是如果有大量的线程竞争同一批锁，它们还是会重复地死锁（原因同超时类似，不能从根本上减轻竞争）。\n",
    "\n",
    "一个更好的方案是给这些线程设置优先级，让一个（或几个）线程回退，剩下的线程就像没发生死锁一样继续保持着它们需要的锁。如果赋予这些线程的优先级是固定不变的，同一批线程总是会拥有更高的优先级。为避免这个问题，可以在死锁发生的时候设置随机的优先级。\n"
   ]
  },
  {
   "cell_type": "markdown",
   "id": "f2cdef81",
   "metadata": {},
   "source": [
    "### 解决办法"
   ]
  },
  {
   "cell_type": "markdown",
   "id": "0a82a029",
   "metadata": {},
   "source": [
    "**法一：将互斥锁Lock替换为逻辑锁RLock**"
   ]
  },
  {
   "cell_type": "markdown",
   "id": "f30ea3b4",
   "metadata": {},
   "source": [
    "RLock（可重入锁）是一个可以被同一个线程请求多次的同步指令。RLock使用了“拥有的线程”和“递归等级”的概念，处于锁定状态时，RLock被某个线程拥有。拥有RLock的线程可以再次调用acquire()，释放锁时需要调用release()相同次数。可以认为RLock包含一个锁定池和一个初始值为0的计数器，每次成功调用 acquire()/release()，计数器将+1/-1，为0时锁处于未锁定状态。\n",
    "\n",
    "构造方法：mylock = Threading.RLock()\n",
    "\n",
    "实例方法：acquire([timeout])/release(): 跟Lock差不多。\n"
   ]
  },
  {
   "cell_type": "code",
   "execution_count": 4,
   "id": "06624741",
   "metadata": {
    "ExecuteTime": {
     "end_time": "2024-08-06T02:51:52.296425Z",
     "start_time": "2024-08-06T02:51:52.291518Z"
    }
   },
   "outputs": [],
   "source": [
    "lock = threading.RLock()"
   ]
  },
  {
   "cell_type": "markdown",
   "id": "a01b4b84",
   "metadata": {},
   "source": [
    "# globals()和locals() 函数"
   ]
  },
  {
   "cell_type": "markdown",
   "id": "2ea53b1a",
   "metadata": {},
   "source": [
    "## globals()"
   ]
  },
  {
   "cell_type": "markdown",
   "id": "dd8b880d",
   "metadata": {},
   "source": [
    "描述  \n",
    "globals() 函数会以字典类型返回当前位置的全部全局变量。\n",
    "\n",
    "语法  \n",
    "globals() 函数语法：\n",
    "`globals()`\n",
    "\n",
    "参数  \n",
    "无  \n",
    "\n",
    "返回值  \n",
    "返回全局变量的字典。"
   ]
  },
  {
   "cell_type": "code",
   "execution_count": 1,
   "id": "5a319c9d",
   "metadata": {
    "ExecuteTime": {
     "end_time": "2024-08-15T08:31:53.615048Z",
     "start_time": "2024-08-15T08:31:53.610134Z"
    }
   },
   "outputs": [
    {
     "name": "stdout",
     "output_type": "stream",
     "text": [
      "{'__name__': '__main__', '__doc__': 'Automatically created module for IPython interactive environment', '__package__': None, '__loader__': None, '__spec__': None, '__builtin__': <module 'builtins' (built-in)>, '__builtins__': <module 'builtins' (built-in)>, '_ih': ['', \"a='runoob'\\nprint(globals()) # globals 函数返回一个全局变量的字典，包括所有导入的变量。\"], '_oh': {}, '_dh': [WindowsPath('D:/Jupyter notebook/src/01.python/01.grammar/src')], 'In': ['', \"a='runoob'\\nprint(globals()) # globals 函数返回一个全局变量的字典，包括所有导入的变量。\"], 'Out': {}, 'get_ipython': <function get_ipython at 0x0000014864C71B20>, 'exit': <IPython.core.autocall.ZMQExitAutocall object at 0x0000014867910A10>, 'quit': <IPython.core.autocall.ZMQExitAutocall object at 0x0000014867910A10>, 'open': <function open at 0x0000014865885760>, '_': '', '__': '', '___': '', 'json': <module 'json' from 'D:\\\\Anaconda\\\\Lib\\\\json\\\\__init__.py'>, 'yapf_reformat': <function yapf_reformat at 0x0000014867916AC0>, 'autopep8': <module 'autopep8' from 'D:\\\\Anaconda\\\\Lib\\\\site-packages\\\\autopep8.py'>, 'getsizeof': <built-in function getsizeof>, 'NamespaceMagics': <class 'IPython.core.magics.namespace.NamespaceMagics'>, '_nms': <IPython.core.magics.namespace.NamespaceMagics object at 0x0000014867A0DC50>, '_Jupyter': <ipykernel.zmqshell.ZMQInteractiveShell object at 0x0000014867908610>, 'np': <module 'numpy' from 'D:\\\\Anaconda\\\\Lib\\\\site-packages\\\\numpy\\\\__init__.py'>, '_getsizeof': <function _getsizeof at 0x0000014867916660>, '_getshapeof': <function _getshapeof at 0x0000014867916700>, '_getcontentof': <function _getcontentof at 0x00000148679165C0>, 'var_dic_list': <function var_dic_list at 0x0000014867916A20>, '_i': '', '_ii': '', '_iii': '', '_i1': \"a='runoob'\\nprint(globals()) # globals 函数返回一个全局变量的字典，包括所有导入的变量。\", 'a': 'runoob'}\n"
     ]
    }
   ],
   "source": [
    "a='runoob'\n",
    "print(globals()) # globals 函数返回一个全局变量的字典，包括所有导入的变量。"
   ]
  },
  {
   "cell_type": "markdown",
   "id": "f130186a",
   "metadata": {},
   "source": [
    "## locals()"
   ]
  },
  {
   "cell_type": "markdown",
   "id": "a7cb74d7",
   "metadata": {},
   "source": [
    "描述  \n",
    "locals() 函数会以字典类型返回当前位置的全部局部变量。  \n",
    "对于函数, 方法, lambda 函式, 类, 以及实现了 __call__ 方法的类实例, 它都返回 True。\n",
    "\n",
    "语法  \n",
    "locals() 函数语法：  \n",
    "`locals()`\n",
    "\n",
    "参数  \n",
    "无\n",
    "\n",
    "返回值  \n",
    "返回字典类型的局部变量。"
   ]
  },
  {
   "cell_type": "code",
   "execution_count": 2,
   "id": "30bcc9b4",
   "metadata": {
    "ExecuteTime": {
     "end_time": "2024-08-15T08:34:01.959782Z",
     "start_time": "2024-08-15T08:34:01.955485Z"
    }
   },
   "outputs": [
    {
     "name": "stdout",
     "output_type": "stream",
     "text": [
      "{'arg': 4, 'z': 1}\n"
     ]
    }
   ],
   "source": [
    "def runoob(arg):  # 两个局部变量：arg、z\n",
    "    z = 1\n",
    "    print(locals())\n",
    "\n",
    "runoob(4)"
   ]
  },
  {
   "cell_type": "markdown",
   "id": "eae59126",
   "metadata": {},
   "source": [
    "# python解压缩文件"
   ]
  },
  {
   "cell_type": "markdown",
   "id": "ab647c5b",
   "metadata": {},
   "source": [
    "## zipfile模块"
   ]
  },
  {
   "cell_type": "markdown",
   "id": "14be89b3",
   "metadata": {},
   "source": [
    "zipfile是Python中处理压缩文件的模块之一，它支持大多数压缩文件格式，如.zip、.tar.gz、.tar.bz2等。"
   ]
  },
  {
   "cell_type": "code",
   "execution_count": 5,
   "id": "92e4a4bb",
   "metadata": {
    "ExecuteTime": {
     "end_time": "2024-08-20T02:01:06.904514Z",
     "start_time": "2024-08-20T02:01:06.897518Z"
    }
   },
   "outputs": [],
   "source": [
    "import zipfile\n",
    "\n",
    "with zipfile.ZipFile('../data/example.zip', 'r') as zip_ref:\n",
    "    zip_ref.extractall('../data/new_folder')"
   ]
  },
  {
   "cell_type": "markdown",
   "id": "6fa2bf78",
   "metadata": {},
   "source": [
    "在此示例中，'example.zip'是要解压缩的文件，'new_folder'是要将文件放置的目录。压缩文件将被解压缩到此目录中。"
   ]
  },
  {
   "cell_type": "markdown",
   "id": "f1f860e5",
   "metadata": {},
   "source": [
    "## shutil模块"
   ]
  },
  {
   "cell_type": "markdown",
   "id": "d385b841",
   "metadata": {},
   "source": [
    "shutil是Python中处理文件复制、移动、解压缩等的模块之一。"
   ]
  },
  {
   "cell_type": "code",
   "execution_count": 6,
   "id": "910f4ebb",
   "metadata": {
    "ExecuteTime": {
     "end_time": "2024-08-20T02:14:55.502085Z",
     "start_time": "2024-08-20T02:14:55.494635Z"
    }
   },
   "outputs": [],
   "source": [
    "import shutil\n",
    "\n",
    "shutil.unpack_archive('../data/example.zip', '../data/new_folder', 'zip')"
   ]
  },
  {
   "cell_type": "markdown",
   "id": "5c7e8763",
   "metadata": {},
   "source": [
    "在此示例中，'example.zip'是要解压缩的文件，'new_folder'是要将文件放置的目录，'zip'是要解压缩的文件类型。"
   ]
  },
  {
   "cell_type": "markdown",
   "id": "79f8c18e",
   "metadata": {},
   "source": [
    "## tarfile模块"
   ]
  },
  {
   "cell_type": "markdown",
   "id": "532ea507",
   "metadata": {},
   "source": [
    "tarfile是Python中处理.tar文件的模块之一。"
   ]
  },
  {
   "cell_type": "code",
   "execution_count": 7,
   "id": "d14e6ae0",
   "metadata": {
    "ExecuteTime": {
     "end_time": "2024-08-20T02:17:36.513153Z",
     "start_time": "2024-08-20T02:17:36.493552Z"
    }
   },
   "outputs": [],
   "source": [
    "import tarfile\n",
    "\n",
    "with tarfile.open('../data/example.tar.gz', 'r:gz') as tar:\n",
    "    tar.extractall('../data/new_folder')"
   ]
  },
  {
   "cell_type": "markdown",
   "id": "9c62e740",
   "metadata": {},
   "source": [
    "在此示例中，'example.tar.gz'是要解压缩的文件，'new_folder'是要将文件放置的目录。压缩文件将被解压缩到此目录中。"
   ]
  },
  {
   "cell_type": "markdown",
   "id": "68df3ae5",
   "metadata": {},
   "source": [
    "## patool模块"
   ]
  },
  {
   "cell_type": "markdown",
   "id": "cd56c3cb",
   "metadata": {},
   "source": [
    "patool是Python中处理压缩文件的模块之一，它支持zip、tar、rar、7z等多种压缩文件格式。"
   ]
  },
  {
   "cell_type": "code",
   "execution_count": 9,
   "id": "922c8e0c",
   "metadata": {
    "ExecuteTime": {
     "end_time": "2024-08-20T02:23:45.204556Z",
     "start_time": "2024-08-20T02:23:45.085406Z"
    }
   },
   "outputs": [
    {
     "name": "stderr",
     "output_type": "stream",
     "text": [
      "INFO patool: Extracting ../data/example.zip ...\n",
      "INFO patool: running \"d:\\Program Files\\7-Zip\\7z.EXE\" x -o../data/new_folder -- ../data/example.zip\n",
      "INFO patool:     with input=\n",
      "INFO patool: ... ../data/example.zip extracted to `../data/new_folder'.\n"
     ]
    },
    {
     "data": {
      "text/plain": [
       "'../data/new_folder'"
      ]
     },
     "execution_count": 9,
     "metadata": {},
     "output_type": "execute_result"
    }
   ],
   "source": [
    "import patoolib\n",
    "\n",
    "patoolib.extract_archive('../data/example.zip', outdir='../data/new_folder')"
   ]
  },
  {
   "cell_type": "markdown",
   "id": "b64d9430",
   "metadata": {},
   "source": [
    "在此示例中，'example.rar'是要解压缩的文件，'new_folder'是要将文件放置的目录。压缩文件将被解压缩到此目录中。"
   ]
  },
  {
   "cell_type": "markdown",
   "id": "105bd460",
   "metadata": {},
   "source": [
    "## os模块"
   ]
  },
  {
   "cell_type": "markdown",
   "id": "1cbf8996",
   "metadata": {},
   "source": [
    "os是Python中处理操作系统功能的模块之一。"
   ]
  },
  {
   "cell_type": "code",
   "execution_count": 10,
   "id": "3a2fb903",
   "metadata": {
    "ExecuteTime": {
     "end_time": "2024-08-20T02:25:00.669357Z",
     "start_time": "2024-08-20T02:25:00.660810Z"
    }
   },
   "outputs": [],
   "source": [
    "import os\n",
    "import zipfile\n",
    "\n",
    "if not os.path.exists('../data/new_folder'):\n",
    "    os.makedirs('../data/new_folder')\n",
    "\n",
    "with zipfile.ZipFile('../data/example.zip', 'r') as zip_ref:\n",
    "    zip_ref.extractall('../data/new_folder')"
   ]
  },
  {
   "cell_type": "markdown",
   "id": "48f48cdd",
   "metadata": {},
   "source": [
    "在此示例中，'example.zip'是要解压缩的文件，如果不存在“new_folder”目录，则创建新目录。如果目录已存在，则压缩文件将被解压缩到此目录中。"
   ]
  },
  {
   "cell_type": "markdown",
   "id": "c67530fa-a31d-418e-98c7-e1c04373edfe",
   "metadata": {},
   "source": [
    "# python字符串编码和解码"
   ]
  },
  {
   "cell_type": "markdown",
   "id": "c3239739-7a89-4726-9189-2e8bc551310f",
   "metadata": {},
   "source": [
    "## base64编码简介"
   ]
  },
  {
   "cell_type": "markdown",
   "id": "cd825d59-566b-47c4-b2f4-320b78a34e7c",
   "metadata": {},
   "source": [
    "base64：就是使用64个可打印字符来表示二进制数据的方法。  \n",
    "64个字符：  \n",
    "‘ABCDEFGHIJKLMNOPQRSTUVWXYZabcdefghijklmnopqrstuvwxyz0123456789+/’\n",
    "64个字符按顺序分别对应了十进制数字的0到63，可以理解为上面的字符串的索引。444"
   ]
  },
  {
   "cell_type": "markdown",
   "id": "a5a23b63-0106-414b-a265-5d1e578a4205",
   "metadata": {},
   "source": [
    "将字符串转换为base64编码流程：首先将文本字符串--------转换为二进制--------然后用64个字符表示二进制数。  \n",
    "字符串转换为二进制的方式：string.encode(编码方式)  \n",
    "其中string表示要转换的字符串，编码方式有:UTF-8、GBK(繁体中文、简体中文)、GB2312(简体中文编码)、UNICODE等。444"
   ]
  },
  {
   "cell_type": "markdown",
   "id": "3e3eb72c-140e-4ca0-9ba9-8e875d547000",
   "metadata": {},
   "source": [
    "注意：整数是不能编码的，整数只有进制转换，比如十进制转换为二进制。"
   ]
  },
  {
   "cell_type": "markdown",
   "id": "5c61f563-18f9-4e9e-9253-f9237f4b84fc",
   "metadata": {},
   "source": [
    "## 将字符串转换为base64编码"
   ]
  },
  {
   "cell_type": "code",
   "execution_count": 20,
   "id": "26d9fe66-9110-4ab6-b37a-ea224ab56e91",
   "metadata": {
    "execution": {
     "iopub.execute_input": "2024-09-02T11:36:44.460560Z",
     "iopub.status.busy": "2024-09-02T11:36:44.459508Z",
     "iopub.status.idle": "2024-09-02T11:36:44.481287Z",
     "shell.execute_reply": "2024-09-02T11:36:44.480396Z",
     "shell.execute_reply.started": "2024-09-02T11:36:44.460560Z"
    }
   },
   "outputs": [
    {
     "name": "stdout",
     "output_type": "stream",
     "text": [
      "b'aGVsbG93b3JsZDUyMA=='\n",
      "aGVsbG93b3JsZDUyMA==\n"
     ]
    }
   ],
   "source": [
    "import base64\n",
    "\n",
    "string = \"helloworld520\"\n",
    "temp_b = string.encode(\"utf-8\")  # 将字符串转换为二进制\n",
    "content_b = base64.b64encode(temp_b)\n",
    "print(content_b)\n",
    "str_result = content_b.decode('utf-8')\n",
    "print(str_result)"
   ]
  },
  {
   "cell_type": "markdown",
   "id": "6a52e62e-e6bb-4720-bc9e-37e49bdb0be8",
   "metadata": {},
   "source": [
    "## 将编码还原为字符串"
   ]
  },
  {
   "cell_type": "code",
   "execution_count": 23,
   "id": "ad80d5f0-9b33-460c-9031-c8ace52fcf3e",
   "metadata": {
    "execution": {
     "iopub.execute_input": "2024-09-02T11:36:46.049572Z",
     "iopub.status.busy": "2024-09-02T11:36:46.048711Z",
     "iopub.status.idle": "2024-09-02T11:36:46.068471Z",
     "shell.execute_reply": "2024-09-02T11:36:46.067595Z",
     "shell.execute_reply.started": "2024-09-02T11:36:46.049572Z"
    }
   },
   "outputs": [
    {
     "data": {
      "text/plain": [
       "'helloworld520'"
      ]
     },
     "execution_count": 23,
     "metadata": {},
     "output_type": "execute_result"
    }
   ],
   "source": [
    "my_str = base64.b64decode(str_result).decode(\"utf-8\")\n",
    "my_str"
   ]
  },
  {
   "cell_type": "markdown",
   "id": "83701eef",
   "metadata": {},
   "source": [
    "# 迭代库"
   ]
  },
  {
   "cell_type": "markdown",
   "id": "ef710e2f",
   "metadata": {},
   "source": [
    "itertools 库是 Python 中一个强大的工具集，提供了许多用于迭代操作的函数。其中，product 函数是一个特别有用的工具，它可以帮助我们生成多个可迭代对象的笛卡尔积。"
   ]
  },
  {
   "cell_type": "code",
   "execution_count": 1,
   "id": "0cc7a4dd",
   "metadata": {
    "ExecuteTime": {
     "end_time": "2024-10-14T09:19:21.124539Z",
     "start_time": "2024-10-14T09:19:21.120539Z"
    }
   },
   "outputs": [],
   "source": [
    "import itertools"
   ]
  },
  {
   "cell_type": "markdown",
   "id": "588b2c3d",
   "metadata": {},
   "source": [
    "## product"
   ]
  },
  {
   "cell_type": "markdown",
   "id": "94aee834",
   "metadata": {},
   "source": [
    "`itertools.product(*iterables, repeat=1)`"
   ]
  },
  {
   "cell_type": "markdown",
   "id": "7fa2f9a3",
   "metadata": {},
   "source": [
    "### 生成可迭代对象的笛卡尔积"
   ]
  },
  {
   "cell_type": "markdown",
   "id": "428b7590",
   "metadata": {},
   "source": [
    "itertools.product 的主要功能是生成多个可迭代对象的笛卡尔积。什么是笛卡尔积呢？在数学中，给定多个集合，它们的笛卡尔积是所有可能的有序对的集合。在 Python 中，itertools.product 不仅限于两个集合，而是可以处理多个集合的情况。"
   ]
  },
  {
   "cell_type": "code",
   "execution_count": 2,
   "id": "9482c9e1",
   "metadata": {
    "ExecuteTime": {
     "end_time": "2024-10-14T09:22:19.189288Z",
     "start_time": "2024-10-14T09:22:19.183697Z"
    }
   },
   "outputs": [
    {
     "name": "stdout",
     "output_type": "stream",
     "text": [
      "[(1, 'a'), (1, 'b'), (2, 'a'), (2, 'b')]\n",
      "[(1, 'a', 'x'), (1, 'a', 'y'), (1, 'b', 'x'), (1, 'b', 'y'), (2, 'a', 'x'), (2, 'a', 'y'), (2, 'b', 'x'), (2, 'b', 'y')]\n"
     ]
    }
   ],
   "source": [
    "import itertools\n",
    "\n",
    "# 示例 1：两个集合的笛卡尔积\n",
    "iterable1 = [1, 2]\n",
    "iterable2 = ['a', 'b']\n",
    "\n",
    "result = list(itertools.product(iterable1, iterable2))\n",
    "print(result)\n",
    "# Output: [(1, 'a'), (1, 'b'), (2, 'a'), (2, 'b')]\n",
    "\n",
    "# 示例 2：三个集合的笛卡尔积\n",
    "iterable3 = ['x', 'y']\n",
    "result = list(itertools.product(iterable1, iterable2, iterable3))\n",
    "print(result)\n",
    "# Output: [(1, 'a', 'x'), (1, 'a', 'y'), (1, 'b', 'x'), (1, 'b', 'y'),\n",
    "#          (2, 'a', 'x'), (2, 'a', 'y'), (2, 'b', 'x'), (2, 'b', 'y')]"
   ]
  },
  {
   "cell_type": "markdown",
   "id": "eda8d175",
   "metadata": {},
   "source": [
    "### 重复元素的笛卡尔积"
   ]
  },
  {
   "cell_type": "markdown",
   "id": "1829bbdc",
   "metadata": {},
   "source": [
    "itertools.product 还允许我们指定某个可迭代对象中的元素重复出现的次数，这对于某些特定的需求非常有用。通过设置 repeat 参数，我们可以达到这个目的。"
   ]
  },
  {
   "cell_type": "code",
   "execution_count": 3,
   "id": "9dfb6bf6",
   "metadata": {
    "ExecuteTime": {
     "end_time": "2024-10-14T09:26:19.579249Z",
     "start_time": "2024-10-14T09:26:19.573048Z"
    }
   },
   "outputs": [
    {
     "name": "stdout",
     "output_type": "stream",
     "text": [
      "[(1, 'a', 1, 'a'), (1, 'a', 1, 'b'), (1, 'a', 2, 'a'), (1, 'a', 2, 'b'), (1, 'b', 1, 'a'), (1, 'b', 1, 'b'), (1, 'b', 2, 'a'), (1, 'b', 2, 'b'), (2, 'a', 1, 'a'), (2, 'a', 1, 'b'), (2, 'a', 2, 'a'), (2, 'a', 2, 'b'), (2, 'b', 1, 'a'), (2, 'b', 1, 'b'), (2, 'b', 2, 'a'), (2, 'b', 2, 'b')]\n"
     ]
    }
   ],
   "source": [
    "import itertools\n",
    "\n",
    "# 示例：两个集合的笛卡尔积，每个元素重复两次\n",
    "iterable1 = [1, 2]\n",
    "iterable2 = ['a', 'b']\n",
    "\n",
    "result = list(itertools.product(iterable1, iterable2, repeat=2))\n",
    "print(result)"
   ]
  },
  {
   "cell_type": "markdown",
   "id": "880d9945",
   "metadata": {},
   "source": [
    "### 用于迭代的懒惰计算"
   ]
  },
  {
   "cell_type": "markdown",
   "id": "46317832",
   "metadata": {},
   "source": [
    "itertools.product 使用懒惰计算（lazy evaluation）的方式生成笛卡尔积，这意味着它并不一次性地将所有可能组合存储在内存中，而是在迭代过程中动态生成。这对于处理大规模数据集时非常有用，因为它节省了内存空间。"
   ]
  },
  {
   "cell_type": "code",
   "execution_count": 4,
   "id": "6cfb1bdd",
   "metadata": {
    "ExecuteTime": {
     "end_time": "2024-10-14T09:27:21.806071Z",
     "start_time": "2024-10-14T09:27:21.800555Z"
    }
   },
   "outputs": [
    {
     "name": "stdout",
     "output_type": "stream",
     "text": [
      "(1, 'a')\n",
      "(1, 'b')\n",
      "(1, 'c')\n",
      "(2, 'a')\n",
      "(2, 'b')\n",
      "(2, 'c')\n",
      "(3, 'a')\n",
      "(3, 'b')\n",
      "(3, 'c')\n"
     ]
    }
   ],
   "source": [
    "import itertools\n",
    "\n",
    "# 示例：懒惰计算的笛卡尔积\n",
    "iterable1 = [1, 2, 3]\n",
    "iterable2 = ['a', 'b', 'c']\n",
    "\n",
    "product_iter = itertools.product(iterable1, iterable2)\n",
    "\n",
    "# 只有在迭代时才会生成组合\n",
    "for item in product_iter:\n",
    "    print(item)"
   ]
  },
  {
   "cell_type": "markdown",
   "id": "bde50456",
   "metadata": {},
   "source": [
    "# 字符翻译转换表"
   ]
  },
  {
   "cell_type": "markdown",
   "id": "2d76a985",
   "metadata": {},
   "source": [
    "在 Python 中，str.maketrans()方法是一个静态方法，用于创建一个翻译表，该表被 str.translate() 方法使用，用于在字符串中执行替换操作。"
   ]
  },
  {
   "cell_type": "markdown",
   "id": "f3211a44",
   "metadata": {},
   "source": [
    "static str.maketrans(x[, y[, z]]) 此静态方法返回一个可供 str.translate() 使用的转换对照表。这里，y 和 z 是可选参数。参数情况为：\n",
    "\n",
    "- 如果只有一个参数，则它必须是一个将 Unicode 码位序号（整数）或字符（长度为 1 的字符串）映射到 Unicode 码位序号、（任意长度的）字符串或 None 的字典。 字符键将会被转换为码位序号。  \n",
    "- 如果有两个参数，则它们必须是两个长度相等的字符串，并且在结果字典中，x 中每个字符将被映射到 y 中相同位置的字符。  \n",
    "- 如果有第三个参数，它必须是一个字符串，其中的字符将在结果中被映射到 None。"
   ]
  },
  {
   "cell_type": "markdown",
   "id": "582bf77c",
   "metadata": {},
   "source": [
    "str.maketrans()方法最多接受三个参数：\n",
    "\n",
    "- x：如果只提供一个参数，它必须是一个将 Unicode 序数映射到翻译字符串的字典。即 如果只提供了一个参数，那么它必须是一个字典。字典应包含从单个字符串到其翻译的1对1映射，或从Unicode数字（97表示“a”）到其翻译。\n",
    "- y：如果给定两个参数，它们必须是相等长度的字符串，在生成的字典中，x中的每个字符都映射到y中相同位置的字符。即如果传递了两个参数，那么它必须是两个长度相等的字符串。第一个字符串中的每个字符都是第二个字符串中相应索引的替换。\n",
    "- z：如果给定三个参数，z中的每个字符都映射到None。即如果传递了三个参数，则第三个参数中的每个字符都映射为None。\n",
    "\n",
    "maketrans 方法返回一个转换表（字典类型），该表具有 Unicode 序数到其转换/替换的1对1映射。"
   ]
  },
  {
   "cell_type": "code",
   "execution_count": 1,
   "id": "eedcb76b",
   "metadata": {
    "ExecuteTime": {
     "end_time": "2024-10-22T03:42:44.721315Z",
     "start_time": "2024-10-22T03:42:44.717251Z"
    }
   },
   "outputs": [
    {
     "name": "stdout",
     "output_type": "stream",
     "text": [
      "123\n"
     ]
    }
   ],
   "source": [
    "MAP_DICT = {'a': '1', 'b': '2', 'c': '3'} # 映射表\n",
    "# 一个参数，字典映射\n",
    "translation_table_one = str.maketrans(MAP_DICT)\n",
    "text_one = \"abc\"\n",
    "translated_text_one = text_one.translate(translation_table_one)\n",
    "print(translated_text_one)  # 输出: 123"
   ]
  },
  {
   "cell_type": "code",
   "execution_count": 2,
   "id": "312e72fa",
   "metadata": {
    "ExecuteTime": {
     "end_time": "2024-10-22T03:56:13.221636Z",
     "start_time": "2024-10-22T03:56:13.216088Z"
    }
   },
   "outputs": [
    {
     "name": "stdout",
     "output_type": "stream",
     "text": [
      "123\n"
     ]
    }
   ],
   "source": [
    "# 两个参数，字符映射\n",
    "translation_table_two = str.maketrans('abc', '123')\n",
    "text_two = \"abc\"\n",
    "translated_text_two = text_two.translate(translation_table_two)\n",
    "print(translated_text_two)  # 输出: 123"
   ]
  },
  {
   "cell_type": "code",
   "execution_count": 3,
   "id": "0111f02e",
   "metadata": {
    "ExecuteTime": {
     "end_time": "2024-10-22T03:56:29.758383Z",
     "start_time": "2024-10-22T03:56:29.753074Z"
    }
   },
   "outputs": [
    {
     "name": "stdout",
     "output_type": "stream",
     "text": [
      "123\n"
     ]
    }
   ],
   "source": [
    "# 三个参数，字符删除\n",
    "translation_table_three = str.maketrans('abc', '123', 'xyz')\n",
    "text_three = \"abcxyz\"\n",
    "translated_text_three = text_three.translate(translation_table_three)\n",
    "print(translated_text_three)  # 输出: 123"
   ]
  },
  {
   "cell_type": "markdown",
   "id": "1eac7539",
   "metadata": {},
   "source": [
    "# collections库"
   ]
  },
  {
   "cell_type": "markdown",
   "id": "97939c9f",
   "metadata": {},
   "source": [
    "## defaultdict(int)"
   ]
  },
  {
   "cell_type": "markdown",
   "id": "933acbc4",
   "metadata": {},
   "source": [
    "当你使用 defaultdict(int) 时，字典中不存在的键会被自动初始化为整数类型的默认值 0。这非常适合用来统计计数或累加值的场景。\n"
   ]
  },
  {
   "cell_type": "code",
   "execution_count": 1,
   "id": "b28e6b38",
   "metadata": {
    "ExecuteTime": {
     "end_time": "2024-11-22T03:02:51.236046Z",
     "start_time": "2024-11-22T03:02:51.232061Z"
    }
   },
   "outputs": [
    {
     "name": "stdout",
     "output_type": "stream",
     "text": [
      "defaultdict(<class 'int'>, {'h': 1, 'e': 1, 'l': 2, 'o': 1})\n"
     ]
    }
   ],
   "source": [
    "from collections import defaultdict\n",
    "\n",
    "text = \"hello\"\n",
    "char_count = defaultdict(int)\n",
    "\n",
    "for char in text:\n",
    "    char_count[char] += 1\n",
    "\n",
    "print(char_count)  # 输出：{'h': 1, 'e': 1, 'l': 2, 'o': 1}"
   ]
  },
  {
   "cell_type": "markdown",
   "id": "7535b741",
   "metadata": {},
   "source": [
    "# getattr()"
   ]
  },
  {
   "cell_type": "markdown",
   "id": "f2bc478d",
   "metadata": {},
   "source": [
    "getattr() 是 Python 的一个内置函数，用于获取对象的属性或方法。它的灵活性在于可以在运行时动态地访问对象的属性和方法，而不是在代码编写时就确定。\n",
    "\n",
    "`getattr(object, name[, default])`\n",
    "\n",
    "参数说明  \n",
    "- object：必需参数，代表要从中获取属性或方法的对象。可以是自定义类的实例、内置对象（如列表、字典）、模块等。\n",
    "- name：必需参数，是一个字符串，表示要获取的属性或方法的名称。\n",
    "- default：可选参数。当对象没有指定的属性或方法时，若提供了 default，则返回该默认值；若未提供，则会抛出 AttributeError 异常。"
   ]
  },
  {
   "cell_type": "markdown",
   "id": "b71a4e41",
   "metadata": {},
   "source": [
    "## 获取对象的属性"
   ]
  },
  {
   "cell_type": "code",
   "execution_count": 1,
   "id": "a3f76249",
   "metadata": {
    "ExecuteTime": {
     "end_time": "2025-04-08T02:31:54.312832Z",
     "start_time": "2025-04-08T02:31:54.305850Z"
    }
   },
   "outputs": [
    {
     "name": "stdout",
     "output_type": "stream",
     "text": [
      "Alice\n",
      "25\n",
      "AttributeError: 'Person' object has no attribute 'address'\n",
      "Unknown\n"
     ]
    }
   ],
   "source": [
    "class Person:\n",
    "    def __init__(self, name, age):\n",
    "        self.name = name\n",
    "        self.age = age\n",
    "\n",
    "# 创建 Person 类的实例\n",
    "p = Person(\"Alice\", 25)\n",
    "\n",
    "# 使用 getattr 获取属性\n",
    "name = getattr(p, \"name\")\n",
    "age = getattr(p, \"age\")\n",
    "\n",
    "print(name)  # 输出: Alice\n",
    "print(age)   # 输出: 25\n",
    "\n",
    "# 尝试获取不存在的属性，不提供默认值会抛出异常\n",
    "try:\n",
    "    address = getattr(p, \"address\")\n",
    "except AttributeError as e:\n",
    "    print(f\"AttributeError: {e}\")\n",
    "\n",
    "# 提供默认值\n",
    "address = getattr(p, \"address\", \"Unknown\")\n",
    "print(address)  # 输出: Unknown"
   ]
  },
  {
   "cell_type": "markdown",
   "id": "c5b07ead",
   "metadata": {},
   "source": [
    "## 获取对象的方法并调用"
   ]
  },
  {
   "cell_type": "code",
   "execution_count": 2,
   "id": "2a170163",
   "metadata": {
    "ExecuteTime": {
     "end_time": "2025-04-08T02:33:45.972565Z",
     "start_time": "2025-04-08T02:33:45.965511Z"
    }
   },
   "outputs": [
    {
     "name": "stdout",
     "output_type": "stream",
     "text": [
      "8\n"
     ]
    }
   ],
   "source": [
    "class Calculator:\n",
    "    def add(self, a, b):\n",
    "        return a + b\n",
    "\n",
    "# 创建 Calculator 类的实例\n",
    "calc = Calculator()\n",
    "\n",
    "# 使用 getattr 获取方法\n",
    "add_method = getattr(calc, \"add\")\n",
    "\n",
    "# 调用获取到的方法\n",
    "result = add_method(3, 5)\n",
    "print(result)  # 输出: 8"
   ]
  },
  {
   "cell_type": "markdown",
   "id": "86c07ec0",
   "metadata": {},
   "source": [
    "## 在模块中使用 getattr"
   ]
  },
  {
   "cell_type": "code",
   "execution_count": 3,
   "id": "a8f16cd1",
   "metadata": {
    "ExecuteTime": {
     "end_time": "2025-04-08T02:34:28.716650Z",
     "start_time": "2025-04-08T02:34:28.710274Z"
    }
   },
   "outputs": [
    {
     "name": "stdout",
     "output_type": "stream",
     "text": [
      "4.0\n"
     ]
    }
   ],
   "source": [
    "import math\n",
    "\n",
    "# 获取 math 模块中的 sqrt 方法\n",
    "sqrt_method = getattr(math, \"sqrt\")\n",
    "\n",
    "# 调用获取到的方法\n",
    "result = sqrt_method(16)\n",
    "print(result)  # 输出: 4.0"
   ]
  },
  {
   "cell_type": "code",
   "execution_count": null,
   "id": "80760d3d",
   "metadata": {},
   "outputs": [],
   "source": []
  }
 ],
 "metadata": {
  "hide_input": false,
  "kernelspec": {
   "display_name": "Python 3 (ipykernel)",
   "language": "python",
   "name": "python3"
  },
  "language_info": {
   "codemirror_mode": {
    "name": "ipython",
    "version": 3
   },
   "file_extension": ".py",
   "mimetype": "text/x-python",
   "name": "python",
   "nbconvert_exporter": "python",
   "pygments_lexer": "ipython3",
   "version": "3.11.5"
  },
  "nbTranslate": {
   "displayLangs": [
    "*"
   ],
   "hotkey": "alt-t",
   "langInMainMenu": true,
   "sourceLang": "en",
   "targetLang": "fr",
   "useGoogleTranslate": true
  },
  "toc": {
   "base_numbering": 1,
   "nav_menu": {},
   "number_sections": true,
   "sideBar": true,
   "skip_h1_title": false,
   "title_cell": "Table of Contents",
   "title_sidebar": "Contents",
   "toc_cell": false,
   "toc_position": {
    "height": "calc(100% - 180px)",
    "left": "10px",
    "top": "150px",
    "width": "210.65px"
   },
   "toc_section_display": true,
   "toc_window_display": true
  },
  "varInspector": {
   "cols": {
    "lenName": 16,
    "lenType": 16,
    "lenVar": 40
   },
   "kernels_config": {
    "python": {
     "delete_cmd_postfix": "",
     "delete_cmd_prefix": "del ",
     "library": "var_list.py",
     "varRefreshCmd": "print(var_dic_list())"
    },
    "r": {
     "delete_cmd_postfix": ") ",
     "delete_cmd_prefix": "rm(",
     "library": "var_list.r",
     "varRefreshCmd": "cat(var_dic_list()) "
    }
   },
   "types_to_exclude": [
    "module",
    "function",
    "builtin_function_or_method",
    "instance",
    "_Feature"
   ],
   "window_display": false
  }
 },
 "nbformat": 4,
 "nbformat_minor": 5
}
