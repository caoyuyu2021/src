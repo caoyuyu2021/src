{
 "cells": [
  {
   "cell_type": "markdown",
   "id": "df86683a-a7a0-48bb-9a8e-a5f56a02e5e8",
   "metadata": {},
   "source": [
    "jupyter notebook里面无法显示图片，只需要加一行代码：\n",
    "`%matplotlib inline`，加上之后再运行即可(要加在代码的前面)"
   ]
  },
  {
   "cell_type": "code",
   "execution_count": null,
   "id": "48ff2b30-734b-48ad-b1ec-918b8fa4253d",
   "metadata": {},
   "outputs": [],
   "source": []
  }
 ],
 "metadata": {
  "kernelspec": {
   "display_name": "Python 3 (ipykernel)",
   "language": "python",
   "name": "python3"
  },
  "language_info": {
   "codemirror_mode": {
    "name": "ipython",
    "version": 3
   },
   "file_extension": ".py",
   "mimetype": "text/x-python",
   "name": "python",
   "nbconvert_exporter": "python",
   "pygments_lexer": "ipython3",
   "version": "3.12.7"
  }
 },
 "nbformat": 4,
 "nbformat_minor": 5
}
