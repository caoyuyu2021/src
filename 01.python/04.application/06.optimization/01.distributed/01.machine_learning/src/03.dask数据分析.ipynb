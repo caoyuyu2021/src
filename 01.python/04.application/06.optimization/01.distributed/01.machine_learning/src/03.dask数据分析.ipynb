{
 "cells": [
  {
   "cell_type": "markdown",
   "id": "6700b736",
   "metadata": {},
   "source": [
    "# Dask DataFrame"
   ]
  },
  {
   "cell_type": "markdown",
   "id": "3bdb2c1b",
   "metadata": {},
   "source": [
    "pandas 已经成为 DataFrame 的标准，但无法利用多核和集群，Dask DataFrame 试图解决 pandas 并行计算的问题。Dask DataFrame 尽量提供与 pandas 一致的 API，但使用起来，Dask DataFrame 仍有很多不同。Dask DataFrame 将大数据切分成小的 Partition，每个 Partition 是一个 pandas DataFrame。Dask 会把 DataFrame 的元数据记录下来，存储在 \\_meta 中。多个 Partition 的信息存储在内置变量 partitions 里和 divisions 里。Dask 用 Task Graph 管理计算图。对于用户来说，其实不需要太深入理解 Dask DataFrame 具体如何实现的，只需要调用跟 pandas 类似的上层 API。本章假设用户已经了解并熟悉 pandas，并重点讨论 Dask DataFrame 与 pandas 的区别。"
   ]
  },
  {
   "cell_type": "markdown",
   "id": "b54ab32f",
   "metadata": {},
   "source": [
    "# 读写数据"
   ]
  },
  {
   "cell_type": "markdown",
   "id": "5b831b17",
   "metadata": {},
   "source": [
    "Dask DataFrame 支持 pandas 中几乎所有的数据读写操作，包括从本地、NFS、HDFS 或 S3 上读写文本文件、Parquet、HDF、JSON 等格式的文件。 下表是几个常见的读写操作。\n",
    "\n",
    "||CSV|Parquet|HDF\n",
    "|---|---|---|---|\n",
    "|读|read_csv()|read_parquet()|read_hdf()\n",
    "|写|to_csv()|to_parquet()|to_hdf()"
   ]
  },
  {
   "cell_type": "markdown",
   "id": "23921d44",
   "metadata": {},
   "source": [
    "## 文件系统"
   ]
  },
  {
   "cell_type": "markdown",
   "id": "9ea28af9",
   "metadata": {},
   "source": [
    "当我们在使用 Dask 集群读写数据时，数据源应该存储在 NFS、HDFS、S3 这种共享文件系统，这样所有 Dask Worker 都能访问该数据。\n",
    "\n",
    "业内经常使用文件系统前缀（Scheme）来标识不同的文件系统，并调用不同的库来读写文件系统。下表是几个 Scheme 例子。一个数据集地址，应该是一个统一资源标识（Uniform Resource Identifier，URI），URI 包括 Scheme 和具体的地址，URI 模板为：scheme://path/to/data。比如：file:///tmp/tripdata.parquet 或 s3://tmp/tripdata.parquet。\n",
    "\n",
    "||本地|S3|HDFS\n",
    "|---|---|---|---|\n",
    "|Scheme|file://|s3://|hdfs://"
   ]
  },
  {
   "cell_type": "markdown",
   "id": "6f872356",
   "metadata": {},
   "source": [
    "如果数据集地址没有加任何 Scheme，会假设是本地可访问的文件系统，即该计算节点可以直接读写和访问的文件系统。比如，网络文件系统（Network File System，NFS）是分布式文件系统，假如被挂载到多个计算节点的 /mnt/nfs 目录，使用 Dask 读写该目录时，可直接使用 /mnt/nfs 这个目录。\n",
    "\n",
    "HDFS 和 S3 这样共享文件系统，在企业或组织中被多人共享，因此经常有用户验证的环节，以做好用户之间的数据隔离，避免用户互相修改或删除数据。不同的文件系统有自己的用户验证的方式，比如，S3 用户需要提供令牌（Token），Token 可以通过 read_*() 和 to_*() (包括 read_csv()、read_parquet、to_parquet() 等方法) 的 storage_options 参数传递进来。如果你对用户验证不熟悉，应咨询组织中负责运维管理的同事。"
   ]
  },
  {
   "cell_type": "markdown",
   "id": "2e135db4",
   "metadata": {},
   "source": [
    "## 数据切分与并行读取"
   ]
  },
  {
   "cell_type": "markdown",
   "id": "09375c42",
   "metadata": {},
   "source": [
    "### 案例：飞机起降数据"
   ]
  },
  {
   "cell_type": "markdown",
   "id": "0ee89b2c",
   "metadata": {},
   "source": [
    "飞机起降数据集由多个逗号分隔的数值（Comma-Separated Values，CSV）文件组成，每个文件对应一个年份，我们读取多个 CSV，来展示 Dask DataFrame 与 pandas 的区别。"
   ]
  },
  {
   "cell_type": "code",
   "execution_count": 7,
   "id": "0a712bf4",
   "metadata": {
    "ExecuteTime": {
     "end_time": "2024-08-08T02:16:06.858790Z",
     "start_time": "2024-08-08T02:16:06.854782Z"
    },
    "execution": {
     "iopub.execute_input": "2025-04-22T08:48:06.739901Z",
     "iopub.status.busy": "2025-04-22T08:48:06.729789Z",
     "iopub.status.idle": "2025-04-22T08:48:06.742995Z",
     "shell.execute_reply": "2025-04-22T08:48:06.742995Z",
     "shell.execute_reply.started": "2025-04-22T08:48:06.739901Z"
    }
   },
   "outputs": [],
   "source": [
    "import os\n",
    "import glob\n",
    "\n",
    "import sys\n",
    "sys.path.append(\"..\")\n",
    "\n",
    "import warnings\n",
    "warnings.simplefilter(action='ignore', category=FutureWarning)\n",
    "\n",
    "file_path = os.path.join(\"../../../../../../../data/20.others/nyc_flights/\", \"nyc-flights\", \"*.csv\")"
   ]
  },
  {
   "cell_type": "code",
   "execution_count": 8,
   "id": "22f550bf",
   "metadata": {
    "ExecuteTime": {
     "end_time": "2024-08-08T01:40:57.505764Z",
     "start_time": "2024-08-08T01:40:48.502233Z"
    },
    "execution": {
     "iopub.execute_input": "2025-04-22T08:48:07.731449Z",
     "iopub.status.busy": "2025-04-22T08:48:07.730858Z",
     "iopub.status.idle": "2025-04-22T08:48:10.021754Z",
     "shell.execute_reply": "2025-04-22T08:48:10.021224Z",
     "shell.execute_reply.started": "2025-04-22T08:48:07.731449Z"
    }
   },
   "outputs": [
    {
     "name": "stderr",
     "output_type": "stream",
     "text": [
      "D:\\Anaconda\\Lib\\site-packages\\distributed\\node.py:182: UserWarning: Port 8787 is already in use.\n",
      "Perhaps you already have a cluster running?\n",
      "Hosting the HTTP server on port 56640 instead\n",
      "  warnings.warn(\n"
     ]
    }
   ],
   "source": [
    "import dask\n",
    "dask.config.set({'dataframe.query-planning': False})\n",
    "import dask.dataframe as dd\n",
    "import pandas as pd\n",
    "from dask.distributed import LocalCluster, Client\n",
    "\n",
    "cluster = LocalCluster()\n",
    "client = Client(cluster)"
   ]
  },
  {
   "cell_type": "markdown",
   "id": "d46b620f",
   "metadata": {},
   "source": [
    "pandas 和 Dask DataFrame 都提供了 read_csv() 方法，用来读取 CSV 文件。Dask 的 read_csv() 参数与 pandas 几乎一致，可以参考 pandas 的 read_csv()。比如在这个例子中，原始数据有很多列，其中前三列分别为，年：Year，月：Month，日：DayofMonth，read_csv() 方法的 parse_dates 参数将这三列解析为时间 datetime64 类型，并生成一个新的列 Date。"
   ]
  },
  {
   "cell_type": "code",
   "execution_count": 9,
   "id": "f53cfea3",
   "metadata": {
    "ExecuteTime": {
     "end_time": "2024-08-08T01:40:59.977087Z",
     "start_time": "2024-08-08T01:40:59.929435Z"
    },
    "execution": {
     "iopub.execute_input": "2025-04-22T08:48:11.599462Z",
     "iopub.status.busy": "2025-04-22T08:48:11.599462Z",
     "iopub.status.idle": "2025-04-22T08:48:11.638212Z",
     "shell.execute_reply": "2025-04-22T08:48:11.637692Z",
     "shell.execute_reply.started": "2025-04-22T08:48:11.599462Z"
    }
   },
   "outputs": [],
   "source": [
    "ddf = dd.read_csv(file_path, parse_dates={'Date': [0, 1, 2]})"
   ]
  },
  {
   "cell_type": "markdown",
   "id": "978cbd06",
   "metadata": {},
   "source": [
    "这里的 file_path 是 *.csv 的形式，匹配所有以 csv 结尾的文件；而 pandas 的 read_csv() 只能读取单个文件，并不支持 *.csv 这样的通配符。如果想用 pandas 读文件夹下面的所有以 csv 结尾的文件，应该："
   ]
  },
  {
   "cell_type": "code",
   "execution_count": 10,
   "id": "22aed1fe",
   "metadata": {
    "ExecuteTime": {
     "end_time": "2024-08-08T01:41:05.051160Z",
     "start_time": "2024-08-08T01:41:01.394550Z"
    },
    "execution": {
     "iopub.execute_input": "2025-04-22T08:48:14.735433Z",
     "iopub.status.busy": "2025-04-22T08:48:14.735433Z",
     "iopub.status.idle": "2025-04-22T08:48:17.705204Z",
     "shell.execute_reply": "2025-04-22T08:48:17.704695Z",
     "shell.execute_reply.started": "2025-04-22T08:48:14.735433Z"
    }
   },
   "outputs": [],
   "source": [
    "file_list = glob.glob(file_path)\n",
    "data = []\n",
    "\n",
    "for p in file_list:\n",
    "    df = pd.read_csv(p, parse_dates={'Date': [0, 1, 2]})\n",
    "    data.append(df)\n",
    "\n",
    "pdf = pd.concat(data)"
   ]
  },
  {
   "cell_type": "code",
   "execution_count": 11,
   "id": "355f277b",
   "metadata": {
    "ExecuteTime": {
     "end_time": "2024-08-08T01:41:09.784779Z",
     "start_time": "2024-08-08T01:41:08.538863Z"
    },
    "execution": {
     "iopub.execute_input": "2025-04-22T08:48:20.367583Z",
     "iopub.status.busy": "2025-04-22T08:48:20.367583Z",
     "iopub.status.idle": "2025-04-22T08:48:22.361433Z",
     "shell.execute_reply": "2025-04-22T08:48:22.360918Z",
     "shell.execute_reply.started": "2025-04-22T08:48:20.367583Z"
    }
   },
   "outputs": [
    {
     "name": "stderr",
     "output_type": "stream",
     "text": [
      "2025-04-22 16:48:20,405 - distributed.protocol.core - CRITICAL - Failed to deserialize\n",
      "Traceback (most recent call last):\n",
      "  File \"D:\\Anaconda\\Lib\\site-packages\\distributed\\protocol\\core.py\", line 175, in loads\n",
      "    return msgpack.loads(\n",
      "           ^^^^^^^^^^^^^^\n",
      "  File \"D:\\Anaconda\\Lib\\site-packages\\msgpack\\fallback.py\", line 136, in unpackb\n",
      "    raise ExtraData(ret, unpacker._get_extradata())\n",
      "msgpack.exceptions.ExtraData: unpack(b) received extra data.\n",
      "2025-04-22 16:48:20,417 - distributed.core - ERROR - Exception while handling op register-client\n",
      "Traceback (most recent call last):\n",
      "  File \"D:\\Anaconda\\Lib\\site-packages\\distributed\\core.py\", line 831, in _handle_comm\n",
      "    result = await result\n",
      "             ^^^^^^^^^^^^\n",
      "  File \"D:\\Anaconda\\Lib\\site-packages\\distributed\\scheduler.py\", line 5902, in add_client\n",
      "    await self.handle_stream(comm=comm, extra={\"client\": client})\n",
      "  File \"D:\\Anaconda\\Lib\\site-packages\\distributed\\core.py\", line 886, in handle_stream\n",
      "    msgs = await comm.read()\n",
      "           ^^^^^^^^^^^^^^^^^\n",
      "  File \"D:\\Anaconda\\Lib\\site-packages\\distributed\\comm\\tcp.py\", line 247, in read\n",
      "    msg = await from_frames(\n",
      "          ^^^^^^^^^^^^^^^^^^\n",
      "  File \"D:\\Anaconda\\Lib\\site-packages\\distributed\\comm\\utils.py\", line 78, in from_frames\n",
      "    res = _from_frames()\n",
      "          ^^^^^^^^^^^^^^\n",
      "  File \"D:\\Anaconda\\Lib\\site-packages\\distributed\\comm\\utils.py\", line 61, in _from_frames\n",
      "    return protocol.loads(\n",
      "           ^^^^^^^^^^^^^^^\n",
      "  File \"D:\\Anaconda\\Lib\\site-packages\\distributed\\protocol\\core.py\", line 175, in loads\n",
      "    return msgpack.loads(\n",
      "           ^^^^^^^^^^^^^^\n",
      "  File \"D:\\Anaconda\\Lib\\site-packages\\msgpack\\fallback.py\", line 136, in unpackb\n",
      "    raise ExtraData(ret, unpacker._get_extradata())\n",
      "msgpack.exceptions.ExtraData: unpack(b) received extra data.\n",
      "Task exception was never retrieved\n",
      "future: <Task finished name='Task-118524' coro=<Server._handle_comm() done, defined at D:\\Anaconda\\Lib\\site-packages\\distributed\\core.py:737> exception=ExtraData(({'op': 'update-graph', 'graph_header': {'serializer': 'pickle', 'writeable': (True, True, True, True, True)}, 'graph_frames': (b'\\x80\\x05\\x95\\x9c\\x13\\x00\\x00\\x00\\x00\\x00\\x00\\x8c\\x1edistributed.protocol.serialize\\x94\\x8c\\x08ToPickle\\x94\\x93\\x94)\\x81\\x94}\\x94\\x8c\\x04data\\x94\\x8c\\x13dask.highlevelgraph\\x94\\x8c\\x0eHighLevelGraph\\x94\\x93\\x94)\\x81\\x94}\\x94(\\x8c\\x0cdependencies\\x94}\\x94(\\x8c;head-1-3-to_pyarrow_string-b5164819e55142c70b5eaaf62aa81a6a\\x94\\x8f\\x94(\\x8c2to_pyarrow_string-b5164819e55142c70b5eaaf62aa81a6a\\x94\\x90h\\x0f\\x8f\\x94u\\x8c\\x10key_dependencies\\x94}\\x94\\x8c\\x06layers\\x94}\\x94(h\\rh\\x06\\x8c\\x11MaterializedLayer\\x94\\x93\\x94)\\x81\\x94}\\x94(\\x8c\\x0bannotations\\x94N\\x8c\\x16collection_annotations\\x94}\\x94(\\x8c\\x0bnpartitions\\x94K\\x01\\x8c\\x07columns\\x94]\\x94(\\x8c\\x04Date\\x94\\x8c\\tDayOfWeek\\x94\\x8c\\x07DepTime\\x94\\x8c\\nCRSDepTime\\x94\\x8c\\x07ArrTime\\x94\\x8c\\nCRSArrTime\\x94\\x8c\\rUniqueCarrier\\x94\\x8c\\tFlightNum\\x94\\x8c\\x07TailNum\\x94\\x8c\\x11ActualElapsedTime\\x94\\x8c\\x0eCRSElapsedTime\\x94\\x8c\\x07AirTime\\x94\\x8c\\x08ArrDelay\\x94\\x8c\\x08DepDelay\\x94\\x8c\\x06Origin\\x94\\x8c\\x04Dest\\x94\\x8c\\x08Distance\\x94\\x8c\\x06TaxiIn\\x94\\x8c\\x07TaxiOut\\x94\\x8c\\tCancelled\\x94\\x8c\\x08Diverted\\x94e\\x8c\\x04type\\x94\\x8c\\x1ddask.dataframe.core.DataFrame\\x94\\x8c\\x0edataframe_type\\x94\\x8c\\x1bpandas.core.frame.DataFrame\\x94\\x8c\\rseries_dtypes\\x94}\\x94(h\\x1f\\x8c\\x05numpy\\x94\\x8c\\x05dtype\\x94\\x93\\x94\\x8c\\x02M8\\x94\\x89\\x88\\x87\\x94R\\x94(K\\x04\\x8c\\x01<\\x94NNNJ\\xff\\xff\\xff\\xffJ\\xff\\xff\\xff\\xffK\\x00}\\x94(C\\x02ns\\x94K\\x01K\\x01K\\x01t\\x94\\x86\\x94t\\x94bh h<\\x8c\\x02i8\\x94\\x89\\x88\\x87\\x94R\\x94(K\\x03h@NNNJ\\xff\\xff\\xff\\xffJ\\xff\\xff\\xff\\xffK\\x00t\\x94bh!h<\\x8c\\x02f8\\x94\\x89\\x88\\x87\\x94R\\x94(K\\x03h@NNNJ\\xff\\xff\\xff\\xffJ\\xff\\xff\\xff\\xffK\\x00t\\x94bh\"hHh#hLh$hHh%\\x8c\\x1apandas.core.arrays.string_\\x94\\x8c\\x0bStringDtype\\x94\\x93\\x94)\\x81\\x94}\\x94\\x8c\\x07storage\\x94\\x8c\\x07pyarrow\\x94sbh&hHh\\'hLh(hLh)hHh*hLh+hLh,hLh-hP)\\x81\\x94}\\x94hShTsbh.hP)\\x81\\x94}\\x94hShTsbh/hLh0hLh1hLh2hHh3hHuu\\x8c\\x07mapping\\x94}\\x94h\\rK\\x00\\x86\\x94\\x8c\\x13dask.dataframe.core\\x94\\x8c\\tsafe_head\\x94\\x93\\x94h\\x0fK\\x00\\x86\\x94K\\x03\\x87\\x94subh\\x0f\\x8c\\x0edask.blockwise\\x94\\x8c\\tBlockwise\\x94\\x93\\x94)\\x81\\x94}\\x94(h\\x19Nh\\x1aN\\x8c\\x06output\\x94h\\x0f\\x8c\\x0eoutput_indices\\x94\\x8c\\x02.0\\x94\\x85\\x94\\x8c\\routput_blocks\\x94\\x8f\\x94(K\\x00\\x85\\x94\\x90\\x8c\\x03dsk\\x94}\\x94(h\\x0f\\x8c\\tfunctools\\x94\\x8c\\x07partial\\x94\\x93\\x94\\x8c\\x17dask.dataframe._pyarrow\\x94\\x8c\\x10_to_string_dtype\\x94\\x93\\x94\\x85\\x94R\\x94(ht)}\\x94(\\x8c\\x0bdtype_check\\x94hr\\x8c\\x16is_object_string_dtype\\x94\\x93\\x94\\x8c\\x0bindex_check\\x94hr\\x8c\\x16is_object_string_index\\x94\\x93\\x94\\x8c\\x0cstring_dtype\\x94hTuNt\\x94b\\x8c,read-csv-703766968343d2951f70f902e446a10c_.0\\x94\\x86\\x94h\\x80\\x8c\\x15dask.dataframe.io.csv\\x94\\x8c\\x12CSVFunctionWrapper\\x94\\x93\\x94)\\x81\\x94}\\x94(\\x8c\\x0cfull_columns\\x94]\\x94(h\\x1fh h!h\"h#h$h%h&h\\'h(h)h*h+h,h-h.h/h0h1h2h3e\\x8c\\x08_columns\\x94N\\x8c\\x07colname\\x94N\\x8c\\x04head\\x94\\x8c\\x11pandas.core.frame\\x94\\x8c\\tDataFrame\\x94\\x93\\x94)\\x81\\x94}\\x94(\\x8c\\x04_mgr\\x94\\x8c\\x1epandas.core.internals.managers\\x94\\x8c\\x0cBlockManager\\x94\\x93\\x94(\\x8c\\x16pandas._libs.internals\\x94\\x8c\\x0f_unpickle_block\\x94\\x93\\x94\\x8c\\x13pandas._libs.arrays\\x94\\x8c\\x1c__pyx_unpickle_NDArrayBacked\\x94\\x93\\x94\\x8c\\x1cpandas.core.arrays.datetimes\\x94\\x8c\\rDatetimeArray\\x94\\x93\\x94J\\x1f\\x06\\xf1\\x04N\\x87\\x94R\\x94h<\\x8c\\x02M8\\x94\\x89\\x88\\x87\\x94R\\x94(K\\x04h@NNNJ\\xff\\xff\\xff\\xffJ\\xff\\xff\\xff\\xffK\\x00}\\x94(C\\x02ns\\x94K\\x01K\\x01K\\x01t\\x94\\x86\\x94t\\x94b\\x8c\\x15numpy.core.multiarray\\x94\\x8c\\x0c_reconstruct\\x94\\x93\\x94h:\\x8c\\x07ndarray\\x94\\x93\\x94K\\x00\\x85\\x94C\\x01b\\x94\\x87\\x94R\\x94(K\\x01K\\x01K\\n\\x86\\x94h<\\x8c\\x02M8\\x94\\x89\\x88\\x87\\x94R\\x94(K\\x04h@NNNJ\\xff\\xff\\xff\\xffJ\\xff\\xff\\xff\\xffK\\x00}\\x94(C\\x02ns\\x94K\\x01K\\x01K\\x01t\\x94\\x86\\x94t\\x94b\\x89CP\\x00\\x00\\x13\\x8eI}4\\t\\x00\\x00b\\x1f\\xde\\xcb4\\t\\x00\\x00\\xb1\\xb0r\\x1a5\\t\\x00\\x00\\x00B\\x07i5\\t\\x00\\x00O\\xd3\\x9b\\xb75\\t\\x00\\x00\\x9ed0\\x066\\t\\x00\\x00\\xed\\xf5\\xc4T6\\t\\x00\\x00<\\x87Y\\xa36\\t\\x00\\x00\\x8b\\x18\\xee\\xf16\\t\\x00\\x00\\xda\\xa9\\x82@7\\t\\x94t\\x94b}\\x94(\\x8c\\x05_freq\\x94N\\x8c\\x06_cache\\x94}\\x94\\x8c\\x04unit\\x94\\x8c\\x02ns\\x94su\\x87\\x94b\\x8c\\x08builtins\\x94\\x8c\\x05slice\\x94\\x93\\x94K\\x00K\\x01K\\x01\\x87\\x94R\\x94K\\x02\\x87\\x94R\\x94h\\x97\\x8c\\x12numpy.core.numeric\\x94\\x8c\\x0b_frombuffer\\x94\\x93\\x94(\\x97hLK\\nK\\n\\x86\\x94\\x8c\\x01C\\x94t\\x94R\\x94h\\xcc(\\x97hHK\\n\\x85\\x94h\\xcet\\x94R\\x94K\\x02\\x87\\x94R\\x94h\\x97h\\xcc(\\x97hHK\\x07K\\n\\x86\\x94h\\xcet\\x94R\\x94h\\xcc(\\x97hHK\\x07\\x85\\x94h\\xcet\\x94R\\x94K\\x02\\x87\\x94R\\x94h\\x97h\\xaah\\xacK\\x00\\x85\\x94h\\xae\\x87\\x94R\\x94(K\\x01K\\x03K\\n\\x86\\x94h<\\x8c\\x02O8\\x94\\x89\\x88\\x87\\x94R\\x94(K\\x03\\x8c\\x01|\\x94NNNJ\\xff\\xff\\xff\\xffJ\\xff\\xff\\xff\\xffK?t\\x94b\\x89]\\x94(\\x8c\\x02US\\x94h\\xe8h\\xe8h\\xe8h\\xe8h\\xe8h\\xe8h\\xe8h\\xe8h\\xe8\\x8c\\x03EWR\\x94h\\xe9h\\xe9h\\xe9h\\xe9h\\xe9h\\xe9h\\xe9h\\xe9h\\xe9\\x8c\\x03PIT\\x94h\\xeah\\xeah\\xeah\\xeah\\xeah\\xeah\\xeah\\xeah\\xeaet\\x94bh\\xcc(\\x97hHK\\x03\\x85\\x94h\\xcet\\x94R\\x94K\\x02\\x87\\x94R\\x94t\\x94]\\x94(\\x8c\\x18pandas.core.indexes.base\\x94\\x8c\\n_new_Index\\x94\\x93\\x94h\\xf3\\x8c\\x05Index\\x94\\x93\\x94}\\x94(h\\x05h\\xaah\\xacK\\x00\\x85\\x94h\\xae\\x87\\x94R\\x94(K\\x01K\\x15\\x85\\x94h\\xe4\\x89]\\x94(h\\x1fh h!h\"h#h$h%h&h\\'h(h)h*h+h,h-h.h/h0h1h2h3et\\x94b\\x8c\\x04name\\x94Nu\\x86\\x94R\\x94h\\xf5\\x8c\\x19pandas.core.indexes.range\\x94\\x8c\\nRangeIndex\\x94\\x93\\x94}\\x94(h\\xffN\\x8c\\x05start\\x94K\\x00\\x8c\\x04stop\\x94K\\n\\x8c\\x04step\\x94K\\x01u\\x86\\x94R\\x94e\\x86\\x94R\\x94\\x8c\\x04_typ\\x94\\x8c\\tdataframe\\x94\\x8c\\t_metadata\\x94]\\x94\\x8c\\x05attrs\\x94}\\x94\\x8c\\x06_flags\\x94}\\x94\\x8c\\x17allows_duplicate_labels\\x94\\x88sub\\x8c\\x06header\\x94C\\xd9Year,Month,DayofMonth,DayOfWeek,DepTime,CRSDepTime,ArrTime,CRSArrTime,UniqueCarrier,FlightNum,TailNum,ActualElapsedTime,CRSElapsedTime,AirTime,ArrDelay,DepDelay,Origin,Dest,Distance,TaxiIn,TaxiOut,Cancelled,Diverted\\r\\n\\x94\\x8c\\x06reader\\x94\\x8c\\x19pandas.io.parsers.readers\\x94\\x8c\\x08read_csv\\x94\\x93\\x94\\x8c\\x06dtypes\\x94}\\x94(h\\x1fh\\xa2h hHh!hLh\"hHh#hLh$hHh%h\\xe4h&hHh\\'hLh(hLh)hHh*hLh+hLh,hLh-h\\xe4h.h\\xe4h/hLh0hLh1hLh2hHh3hHu\\x8c\\x07enforce\\x94\\x89\\x8c\\x06kwargs\\x94}\\x94\\x8c\\x0bparse_dates\\x94}\\x94h\\x1f]\\x94(K\\x00K\\x01K\\x02essub\\x8c\\x13__dask_blockwise__0\\x94\\x86\\x94u\\x8c\\tnumblocks\\x94}\\x94\\x8c 29f5000b6b27f69fc1af5d629a00ffe4\\x94K\\x06\\x85\\x94s\\x8c\\x07io_deps\\x94}\\x94j(\\x01\\x00\\x00ha\\x8c\\x10BlockwiseDepDict\\x94\\x93\\x94)\\x81\\x94}\\x94(hY}\\x94(K\\x00\\x85\\x94]\\x94((\\x8c\\x0fdask.bytes.core\\x94\\x8c\\x14read_block_from_file\\x94\\x93\\x94\\x8c\\x0bfsspec.core\\x94\\x8c\\x08OpenFile\\x94\\x93\\x94(\\x8c\\x0bfsspec.spec\\x94\\x8c\\rmake_instance\\x94\\x93\\x94\\x8c\\x1cfsspec.implementations.local\\x94\\x8c\\x0fLocalFileSystem\\x94\\x93\\x94)}\\x94\\x87\\x94R\\x94\\x8c\\xacD:/Jupyter notebook/src/01.python/04.application/06.optimization/01.distributed/01.machine_learning/src/../../../../../../../data/20.others/nyc_flights/nyc-flights/1991.csv\\x94\\x8c\\x02rb\\x94NNNNt\\x94R\\x94K\\x00JP\\x8cL\\x01C\\x01\\n\\x94t\\x94N\\x88\\x88eK\\x01\\x85\\x94]\\x94((j5\\x01\\x00\\x00j8\\x01\\x00\\x00(jA\\x01\\x00\\x00\\x8c\\xacD:/Jupyter notebook/src/01.python/04.application/06.optimization/01.distributed/01.machine_learning/src/../../../../../../../data/20.others/nyc_flights/nyc-flights/1992.csv\\x94jC\\x01\\x00\\x00NNNNt\\x94R\\x94K\\x00J\\x1afP\\x01jF\\x01\\x00\\x00t\\x94N\\x88\\x88eK\\x02\\x85\\x94]\\x94((j5\\x01\\x00\\x00j8\\x01\\x00\\x00(jA\\x01\\x00\\x00\\x8c\\xacD:/Jupyter notebook/src/01.python/04.application/06.optimization/01.distributed/01.machine_learning/src/../../../../../../../data/20.others/nyc_flights/nyc-flights/1993.csv\\x94jC\\x01\\x00\\x00NNNNt\\x94R\\x94K\\x00Jx\\xf2K\\x01jF\\x01\\x00\\x00t\\x94N\\x88\\x88eK\\x03\\x85\\x94]\\x94((j5\\x01\\x00\\x00j8\\x01\\x00\\x00(jA\\x01\\x00\\x00\\x8c\\xacD:/Jupyter notebook/src/01.python/04.application/06.optimization/01.distributed/01.machine_learning/src/../../../../../../../data/20.others/nyc_flights/nyc-flights/1994.csv\\x94jC\\x01\\x00\\x00NNNNt\\x94R\\x94K\\x00J\\x93\\x0cO\\x01jF\\x01\\x00\\x00t\\x94N\\x88\\x88eK\\x04\\x85\\x94]\\x94((j5\\x01\\x00\\x00j8\\x01\\x00\\x00(jA\\x01\\x00\\x00\\x8c\\xacD:/Jupyter notebook/src/01.python/04.application/06.optimization/01.distributed/01.machine_learning/src/../../../../../../../data/20.others/nyc_flights/nyc-flights/1995.csv\\x94jC\\x01\\x00\\x00NNNNt\\x94R\\x94K\\x00J\\xa3\\xf4\\x83\\x01jF\\x01\\x00\\x00t\\x94N\\x88\\x88eK\\x05\\x85\\x94]\\x94((j5\\x01\\x00\\x00j8\\x01\\x00\\x00(jA\\x01\\x00\\x00\\x8c\\xacD:/Jupyter notebook/src/01.python/04.application/06.optimization/01.distributed/01.machine_learning/src/../../../../../../../data/20.others/nyc_flights/nyc-flights/1996.csv\\x94jC\\x01\\x00\\x00NNNNt\\x94R\\x94K\\x00J\\xa4\\x1d\\x81\\x01jF\\x01\\x00\\x00t\\x94N\\x88\\x88eu\\x8c\\x0eproduces_tasks\\x94\\x88j&\\x01\\x00\\x00j)\\x01\\x00\\x00\\x8c\\x0e_produces_keys\\x94\\x89ubs\\x8c\\x07indices\\x94j(\\x01\\x00\\x00hh\\x85\\x94\\x86\\x94\\x85\\x94\\x8c\\x0bconcatenate\\x94N\\x8c\\x08new_axes\\x94}\\x94ubuubsb.', b'\\x00\\x00\\x00\\x00\\x00\\xfc\\x92@\\x00\\x00\\x00\\x00\\x00\\xfc\\x92@\\x00\\x00\\x00\\x00\\x00\\x00\\x93@\\x00\\x00\\x00\\x00\\x00\\\\\\x94@\\x00\\x00\\x00\\x00\\x00\\xfc\\x92@\\x00\\x00\\x00\\x00\\x00\\xfc\\x92@\\x00\\x00\\x00\\x00\\x00\\xfc\\x92@\\x00\\x00\\x00\\x00\\x00\\x04\\x93@\\x00\\x00\\x00\\x00\\x00\\xa4\\x93@\\x00\\x00\\x00\\x00\\x00\\xfc\\x92@', 0, 0, 0, 0), 0: 124, (64, 0, 0, 0): 0, (64, 0, 0, 0, 0): 0, -108: 64},), bytearray(b'\\x96@\\x00\\x00\\x00\\x00\\x00 \\x95@\\x00\\x00\\x00\\x00\\x00\\xf4\\x94@\\x00\\x00\\x00\\x00\\x00\\xcc\\x94@\\x00\\x00\\x00\\x00\\x00\\xfc\\x94@\\x00\\x00\\x00\\x00\\x00\\x10\\x96@\\x00\\x00\\x00\\x00\\x000\\x95@\\x00\\x00\\x00\\x00\\x00\\x00\\xf8\\x7f\\x00\\x00\\x00\\x00\\x00\\x00\\xf8\\x7f\\x00\\x00\\x00\\x00\\x00\\x00\\xf8\\x7f\\x00\\x00\\x00\\x00\\x00\\x00\\xf8\\x7f\\x00\\x00\\x00\\x00\\x00\\x00\\xf8\\x7f\\x00\\x00\\x00\\x00\\x00\\x00\\xf8\\x7f\\x00\\x00\\x00\\x00\\x00\\x00\\xf8\\x7f\\x00\\x00\\x00\\x00\\x00\\x00\\xf8\\x7f\\x00\\x00\\x00\\x00\\x00\\x00\\xf8\\x7f\\x00\\x00\\x00\\x00\\x00\\x00\\xf8\\x7f\\x00\\x00\\x00\\x00\\x00@U@\\x00\\x00\\x00\\x00\\x00\\x80X@\\x00\\x00\\x00\\x00\\x00\\x00S@\\x00\\x00\\x00\\x00\\x00\\x00X@\\x00\\x00\\x00\\x00\\x00@X@\\x00\\x00\\x00\\x00\\x00\\x80U@\\x00\\x00\\x00\\x00\\x00\\x00S@\\x00\\x00\\x00\\x00\\x00\\x80U@\\x00\\x00\\x00\\x00\\x00\\xc0R@\\x00\\x00\\x00\\x00\\x00@Y@\\x00\\x00\\x00\\x00\\x00\\x00\\xf8\\x7f\\x00\\x00\\x00\\x00\\x00\\x00\\xf8\\x7f\\x00\\x00\\x00\\x00\\x00\\x00\\xf8\\x7f\\x00\\x00\\x00\\x00\\x00\\x00\\xf8\\x7f\\x00\\x00\\x00\\x00\\x00\\x00\\xf8\\x7f\\x00\\x00\\x00\\x00\\x00\\x00\\xf8\\x7f\\x00\\x00\\x00\\x00\\x00\\x00\\xf8\\x7f\\x00\\x00\\x00\\x00\\x00\\x00\\xf8\\x7f\\x00\\x00\\x00\\x00\\x00\\x00\\xf8\\x7f\\x00\\x00\\x00\\x00\\x00\\x00\\xf8\\x7f\\x00\\x00\\x00\\x00\\x00\\x00\\x10@\\x00\\x00\\x00\\x00\\x00\\x001@\\x00\\x00\\x00\\x00\\x00\\x00\\x10\\xc0\\x00\\x00\\x00\\x00\\x00\\x80O@\\x00\\x00\\x00\\x00\\x00\\x000@\\x00\\x00\\x00\\x00\\x00\\x00\\x14@\\x00\\x00\\x00\\x00\\x00\\x00\\x14\\xc0\\x00\\x00\\x00\\x00\\x00\\x00\\x1c@\\x00\\x00\\x00\\x00\\x00\\x00B@\\x00\\x00\\x00\\x00\\x00\\x004@\\x00\\x00\\x00\\x00\\x00\\x00\\x00\\x00\\x00\\x00\\x00\\x00\\x00\\x00\\x00\\x00\\x00\\x00\\x00\\x00\\x00\\x00\\xf0?\\x00\\x00\\x00\\x00\\x00\\x00H@\\x00\\x00\\x00\\x00\\x00\\x00\\x00\\x00\\x00\\x00\\x00\\x00\\x00\\x00\\x00\\x00\\x00\\x00\\x00\\x00\\x00\\x00\\x00\\x00\\x00\\x00\\x00\\x00\\x00\\x00\\x00@\\x00\\x00\\x00\\x00\\x00\\x00E@\\x00\\x00\\x00\\x00\\x00\\x00\\x00\\x00\\x00\\x00\\x00\\x00\\x00\\xf0s@\\x00\\x00\\x00\\x00\\x00\\xf0s@\\x00\\x00\\x00\\x00\\x00\\xf0s@\\x00\\x00\\x00\\x00\\x00\\xf0s@\\x00\\x00\\x00\\x00\\x00\\xf0s@\\x00\\x00\\x00\\x00\\x00\\xf0s@\\x00\\x00\\x00\\x00\\x00\\xf0s@\\x00\\x00\\x00\\x00\\x00\\xf0s@\\x00\\x00\\x00\\x00\\x00\\xf0s@\\x00\\x00\\x00\\x00\\x00\\xf0s@\\x00\\x00\\x00\\x00\\x00\\x00\\xf8\\x7f\\x00\\x00\\x00\\x00\\x00\\x00\\xf8\\x7f\\x00\\x00\\x00\\x00\\x00\\x00\\xf8\\x7f\\x00\\x00\\x00\\x00\\x00\\x00\\xf8\\x7f\\x00\\x00\\x00\\x00\\x00\\x00\\xf8\\x7f\\x00\\x00\\x00\\x00\\x00\\x00\\xf8\\x7f\\x00\\x00\\x00\\x00\\x00\\x00\\xf8\\x7f\\x00\\x00\\x00\\x00\\x00\\x00\\xf8\\x7f\\x00\\x00\\x00\\x00\\x00\\x00\\xf8\\x7f\\x00\\x00\\x00\\x00\\x00\\x00\\xf8\\x7f\\x00\\x00\\x00\\x00\\x00\\x00\\xf8\\x7f\\x00\\x00\\x00\\x00\\x00\\x00\\xf8\\x7f\\x00\\x00\\x00\\x00\\x00\\x00\\xf8\\x7f\\x00\\x00\\x00\\x00\\x00\\x00\\xf8\\x7f\\x00\\x00\\x00\\x00\\x00\\x00\\xf8\\x7f\\x00\\x00\\x00\\x00\\x00\\x00\\xf8\\x7f\\x00\\x00\\x00\\x00\\x00\\x00\\xf8\\x7f\\x00\\x00\\x00\\x00\\x00\\x00\\xf8\\x7f\\x00\\x00\\x00\\x00\\x00\\x00\\xf8\\x7f\\x00\\x00\\x00\\x00\\x00\\x00\\xf8\\x7f\\xc4P\\x02\\x00\\x00\\x00\\x00\\x00\\x00\\x00\\x04\\x00\\x00\\x00\\x00\\x00\\x00\\x00\\x08\\x00\\x00\\x00\\x00\\x00\\x00\\x00\\t\\x00\\x00\\x00\\x00\\x00\\x00\\x00\\x0b\\x00\\x00\\x00\\x00\\x00\\x00\\x00\\x0c\\x00\\x00\\x00\\x00\\x00\\x00\\x00\\r\\x00\\x00\\x00\\x00\\x00\\x00\\x00\\x10\\x00\\x00\\x00\\x00\\x00\\x00\\x00\\x11\\x00\\x00\\x00\\x00\\x00\\x00\\x00\\x12\\x00\\x00\\x00\\x00\\x00\\x00\\x00\\xc48\\x02\\x00\\x00\\x00\\x00\\x00\\x00\\x00\\x03\\x00\\x00\\x00\\x00\\x00\\x00\\x00\\x04\\x00\\x00\\x00\\x00\\x00\\x00\\x00\\x05\\x00\\x00\\x00\\x00\\x00\\x00\\x00\\x06\\x00\\x00\\x00\\x00\\x00\\x00\\x00\\x07\\x00\\x00\\x00\\x00\\x00\\x00\\x00\\x01\\x00\\x00\\x00\\x00\\x00\\x00\\x00\\x02\\x00\\x00\\x00\\x00\\x00\\x00\\x00\\x03\\x00\\x00\\x00\\x00\\x00\\x00\\x00\\x04\\x00\\x00\\x00\\x00\\x00\\x00\\x00\\xbf\\x04\\x00\\x00\\x00\\x00\\x00\\x00\\xbf\\x04\\x00\\x00\\x00\\x00\\x00\\x00\\xbf\\x04\\x00\\x00\\x00\\x00\\x00\\x00\\xbf\\x04\\x00\\x00\\x00\\x00\\x00\\x00\\xbf\\x04\\x00\\x00\\x00\\x00\\x00\\x00\\xbf\\x04\\x00\\x00\\x00\\x00\\x00\\x00\\xbf\\x04\\x00\\x00\\x00\\x00\\x00\\x00\\xbf\\x04\\x00\\x00\\x00\\x00\\x00\\x00\\xbf\\x04\\x00\\x00\\x00\\x00\\x00\\x00\\xbf\\x04\\x00\\x00\\x00\\x00\\x00\\x008\\x05\\x00\\x00\\x00\\x00\\x00\\x008\\x05\\x00\\x00\\x00\\x00\\x00\\x008\\x05\\x00\\x00\\x00\\x00\\x00\\x008\\x05\\x00\\x00\\x00\\x00\\x00\\x008\\x05\\x00\\x00\\x00\\x00\\x00\\x008\\x05\\x00\\x00\\x00\\x00\\x00\\x008\\x05\\x00\\x00\\x00\\x00\\x00\\x008\\x05\\x00\\x00\\x00\\x00\\x00\\x008\\x05\\x00\\x00\\x00\\x00\\x00\\x008\\x05\\x00\\x00\\x00\\x00\\x00\\x00y\\x00\\x00\\x00\\x00\\x00\\x00\\x00y\\x00\\x00\\x00\\x00\\x00\\x00\\x00y\\x00\\x00\\x00\\x00\\x00\\x00\\x00y\\x00\\x00\\x00\\x00\\x00\\x00\\x00y\\x00\\x00\\x00\\x00\\x00\\x00\\x00y\\x00\\x00\\x00\\x00\\x00\\x00\\x00y\\x00\\x00\\x00\\x00\\x00\\x00\\x00y\\x00\\x00\\x00\\x00\\x00\\x00\\x00y\\x00\\x00\\x00\\x00\\x00\\x00\\x00y\\x00\\x00\\x00\\x00\\x00\\x00\\x00Q\\x00\\x00\\x00\\x00\\x00\\x00\\x00Q\\x00\\x00\\x00\\x00\\x00\\x00\\x00Q\\x00\\x00\\x00\\x00\\x00\\x00\\x00Q\\x00\\x00\\x00\\x00\\x00\\x00\\x00Q\\x00\\x00\\x00\\x00\\x00\\x00\\x00Q\\x00\\x00\\x00\\x00\\x00\\x00\\x00Q\\x00\\x00\\x00\\x00\\x00\\x00\\x00Q\\x00\\x00\\x00\\x00\\x00\\x00\\x00Q\\x00\\x00\\x00\\x00\\x00\\x00\\x00Q\\x00\\x00\\x00\\x00\\x00\\x00\\x00\\x00\\x00\\x00\\x00\\x00\\x00\\x00\\x00\\x00\\x00\\x00\\x00\\x00\\x00\\x00\\x00\\x00\\x00\\x00\\x00\\x00\\x00\\x00\\x00\\x00\\x00\\x00\\x00\\x00\\x00\\x00\\x00\\x00\\x00\\x00\\x00\\x00\\x00\\x00\\x00\\x00\\x00\\x00\\x00\\x00\\x00\\x00\\x00\\x00\\x00\\x00\\x00\\x00\\x00\\x00\\x00\\x00\\x00\\x00\\x00\\x00\\x00\\x00\\x00\\x00\\x00\\x00\\x00\\x00\\x00\\x00\\x00\\x00\\x00\\x00\\x00\\x00\\x00\\x00\\x00\\x00\\x00\\x00\\x00\\x00\\x00\\x00\\x00\\x00\\x00\\x00\\x00\\x00\\x00\\x00\\x00\\x00\\x00\\x00\\x00\\x00\\x00\\x00\\x00\\x00\\x00\\x00\\x00\\x00\\x00\\x00\\x00\\x00\\x00\\x00\\x00\\x00\\x00\\x00\\x00\\x00\\x00\\x00\\x00\\x00\\x00\\x00\\x00\\x00\\x00\\x00\\x00\\x00\\x00\\x00\\x00\\x00\\x00\\x00\\x00\\x00\\x00\\x00\\x00\\x00\\x00\\x00\\x00\\x00\\x00\\x00\\x00\\x00\\x00\\x00\\x00\\x00\\x00\\x00\\x00\\xc48\\x01\\x00\\x00\\x00\\x00\\x00\\x00\\x00\\x03\\x00\\x00\\x00\\x00\\x00\\x00\\x00\\x05\\x00\\x00\\x00\\x00\\x00\\x00\\x00\\x07\\x00\\x00\\x00\\x00\\x00\\x00\\x00\\n\\x00\\x00\\x00\\x00\\x00\\x00\\x00\\x13\\x00\\x00\\x00\\x00\\x00\\x00\\x00\\x14\\x00\\x00\\x00\\x00\\x00\\x00\\x00\\xc4\\x18\\x06\\x00\\x00\\x00\\x00\\x00\\x00\\x00\\x0e\\x00\\x00\\x00\\x00\\x00\\x00\\x00\\x0f\\x00\\x00\\x00\\x00\\x00\\x00\\x00\\xa4keys\\x91\\x92\\xd9;head-1-3-to_pyarrow_string-b5164819e55142c70b5eaaf62aa81a6a\\x00\\xb1internal_priority\\xc0\\xafsubmitting_task\\xc0\\xacfifo_timeout\\xa360s\\xa6actors\\xc0\\xa4code\\x81\\xab__Pickled__\\x01\\xabannotations\\x81\\xab__Pickled__\\x02\\xadspan_metadata\\x81\\xab__Pickled__\\x03'))>\n",
      "Traceback (most recent call last):\n",
      "  File \"D:\\Anaconda\\Lib\\site-packages\\distributed\\core.py\", line 831, in _handle_comm\n",
      "    result = await result\n",
      "             ^^^^^^^^^^^^\n",
      "  File \"D:\\Anaconda\\Lib\\site-packages\\distributed\\scheduler.py\", line 5902, in add_client\n",
      "    await self.handle_stream(comm=comm, extra={\"client\": client})\n",
      "  File \"D:\\Anaconda\\Lib\\site-packages\\distributed\\core.py\", line 886, in handle_stream\n",
      "    msgs = await comm.read()\n",
      "           ^^^^^^^^^^^^^^^^^\n",
      "  File \"D:\\Anaconda\\Lib\\site-packages\\distributed\\comm\\tcp.py\", line 247, in read\n",
      "    msg = await from_frames(\n",
      "          ^^^^^^^^^^^^^^^^^^\n",
      "  File \"D:\\Anaconda\\Lib\\site-packages\\distributed\\comm\\utils.py\", line 78, in from_frames\n",
      "    res = _from_frames()\n",
      "          ^^^^^^^^^^^^^^\n",
      "  File \"D:\\Anaconda\\Lib\\site-packages\\distributed\\comm\\utils.py\", line 61, in _from_frames\n",
      "    return protocol.loads(\n",
      "           ^^^^^^^^^^^^^^^\n",
      "  File \"D:\\Anaconda\\Lib\\site-packages\\distributed\\protocol\\core.py\", line 175, in loads\n",
      "    return msgpack.loads(\n",
      "           ^^^^^^^^^^^^^^\n",
      "  File \"D:\\Anaconda\\Lib\\site-packages\\msgpack\\fallback.py\", line 136, in unpackb\n",
      "    raise ExtraData(ret, unpacker._get_extradata())\n",
      "msgpack.exceptions.ExtraData: unpack(b) received extra data.\n"
     ]
    },
    {
     "ename": "FutureCancelledError",
     "evalue": "('head-1-3-to_pyarrow_string-b5164819e55142c70b5eaaf62aa81a6a', 0) cancelled for reason: scheduler-connection-lost.\nClient lost the connection to the scheduler. Please check your connection and re-run your work.",
     "output_type": "error",
     "traceback": [
      "\u001b[1;31m---------------------------------------------------------------------------\u001b[0m",
      "\u001b[1;31mFutureCancelledError\u001b[0m                      Traceback (most recent call last)",
      "Cell \u001b[1;32mIn[11], line 1\u001b[0m\n\u001b[1;32m----> 1\u001b[0m ddf\u001b[38;5;241m.\u001b[39mhead(\u001b[38;5;241m3\u001b[39m)\n",
      "File \u001b[1;32mD:\\Anaconda\\Lib\\site-packages\\dask\\dataframe\\core.py:1557\u001b[0m, in \u001b[0;36m_Frame.head\u001b[1;34m(self, n, npartitions, compute)\u001b[0m\n\u001b[0;32m   1555\u001b[0m \u001b[38;5;66;03m# No need to warn if we're already looking at all partitions\u001b[39;00m\n\u001b[0;32m   1556\u001b[0m safe \u001b[38;5;241m=\u001b[39m npartitions \u001b[38;5;241m!=\u001b[39m \u001b[38;5;28mself\u001b[39m\u001b[38;5;241m.\u001b[39mnpartitions\n\u001b[1;32m-> 1557\u001b[0m \u001b[38;5;28;01mreturn\u001b[39;00m \u001b[38;5;28mself\u001b[39m\u001b[38;5;241m.\u001b[39m_head(n\u001b[38;5;241m=\u001b[39mn, npartitions\u001b[38;5;241m=\u001b[39mnpartitions, compute\u001b[38;5;241m=\u001b[39mcompute, safe\u001b[38;5;241m=\u001b[39msafe)\n",
      "File \u001b[1;32mD:\\Anaconda\\Lib\\site-packages\\dask\\dataframe\\core.py:1591\u001b[0m, in \u001b[0;36m_Frame._head\u001b[1;34m(self, n, npartitions, compute, safe)\u001b[0m\n\u001b[0;32m   1586\u001b[0m result \u001b[38;5;241m=\u001b[39m new_dd_object(\n\u001b[0;32m   1587\u001b[0m     graph, name, \u001b[38;5;28mself\u001b[39m\u001b[38;5;241m.\u001b[39m_meta, [\u001b[38;5;28mself\u001b[39m\u001b[38;5;241m.\u001b[39mdivisions[\u001b[38;5;241m0\u001b[39m], \u001b[38;5;28mself\u001b[39m\u001b[38;5;241m.\u001b[39mdivisions[npartitions]]\n\u001b[0;32m   1588\u001b[0m )\n\u001b[0;32m   1590\u001b[0m \u001b[38;5;28;01mif\u001b[39;00m compute:\n\u001b[1;32m-> 1591\u001b[0m     result \u001b[38;5;241m=\u001b[39m result\u001b[38;5;241m.\u001b[39mcompute()\n\u001b[0;32m   1592\u001b[0m \u001b[38;5;28;01mreturn\u001b[39;00m result\n",
      "File \u001b[1;32mD:\\Anaconda\\Lib\\site-packages\\dask\\base.py:376\u001b[0m, in \u001b[0;36mDaskMethodsMixin.compute\u001b[1;34m(self, **kwargs)\u001b[0m\n\u001b[0;32m    352\u001b[0m \u001b[38;5;28;01mdef\u001b[39;00m \u001b[38;5;21mcompute\u001b[39m(\u001b[38;5;28mself\u001b[39m, \u001b[38;5;241m*\u001b[39m\u001b[38;5;241m*\u001b[39mkwargs):\n\u001b[0;32m    353\u001b[0m \u001b[38;5;250m    \u001b[39m\u001b[38;5;124;03m\"\"\"Compute this dask collection\u001b[39;00m\n\u001b[0;32m    354\u001b[0m \n\u001b[0;32m    355\u001b[0m \u001b[38;5;124;03m    This turns a lazy Dask collection into its in-memory equivalent.\u001b[39;00m\n\u001b[1;32m   (...)\u001b[0m\n\u001b[0;32m    374\u001b[0m \u001b[38;5;124;03m    dask.compute\u001b[39;00m\n\u001b[0;32m    375\u001b[0m \u001b[38;5;124;03m    \"\"\"\u001b[39;00m\n\u001b[1;32m--> 376\u001b[0m     (result,) \u001b[38;5;241m=\u001b[39m compute(\u001b[38;5;28mself\u001b[39m, traverse\u001b[38;5;241m=\u001b[39m\u001b[38;5;28;01mFalse\u001b[39;00m, \u001b[38;5;241m*\u001b[39m\u001b[38;5;241m*\u001b[39mkwargs)\n\u001b[0;32m    377\u001b[0m     \u001b[38;5;28;01mreturn\u001b[39;00m result\n",
      "File \u001b[1;32mD:\\Anaconda\\Lib\\site-packages\\dask\\base.py:664\u001b[0m, in \u001b[0;36mcompute\u001b[1;34m(traverse, optimize_graph, scheduler, get, *args, **kwargs)\u001b[0m\n\u001b[0;32m    661\u001b[0m     postcomputes\u001b[38;5;241m.\u001b[39mappend(x\u001b[38;5;241m.\u001b[39m__dask_postcompute__())\n\u001b[0;32m    663\u001b[0m \u001b[38;5;28;01mwith\u001b[39;00m shorten_traceback():\n\u001b[1;32m--> 664\u001b[0m     results \u001b[38;5;241m=\u001b[39m schedule(dsk, keys, \u001b[38;5;241m*\u001b[39m\u001b[38;5;241m*\u001b[39mkwargs)\n\u001b[0;32m    666\u001b[0m \u001b[38;5;28;01mreturn\u001b[39;00m repack([f(r, \u001b[38;5;241m*\u001b[39ma) \u001b[38;5;28;01mfor\u001b[39;00m r, (f, a) \u001b[38;5;129;01min\u001b[39;00m \u001b[38;5;28mzip\u001b[39m(results, postcomputes)])\n",
      "File \u001b[1;32mD:\\Anaconda\\Lib\\site-packages\\distributed\\client.py:2414\u001b[0m, in \u001b[0;36mClient._gather\u001b[1;34m(self, futures, errors, direct, local_worker)\u001b[0m\n\u001b[0;32m   2412\u001b[0m     exception \u001b[38;5;241m=\u001b[39m st\u001b[38;5;241m.\u001b[39mexception\n\u001b[0;32m   2413\u001b[0m     traceback \u001b[38;5;241m=\u001b[39m st\u001b[38;5;241m.\u001b[39mtraceback\n\u001b[1;32m-> 2414\u001b[0m     \u001b[38;5;28;01mraise\u001b[39;00m exception\u001b[38;5;241m.\u001b[39mwith_traceback(traceback)\n\u001b[0;32m   2415\u001b[0m \u001b[38;5;28;01mif\u001b[39;00m errors \u001b[38;5;241m==\u001b[39m \u001b[38;5;124m\"\u001b[39m\u001b[38;5;124mskip\u001b[39m\u001b[38;5;124m\"\u001b[39m:\n\u001b[0;32m   2416\u001b[0m     bad_keys\u001b[38;5;241m.\u001b[39madd(key)\n",
      "\u001b[1;31mFutureCancelledError\u001b[0m: ('head-1-3-to_pyarrow_string-b5164819e55142c70b5eaaf62aa81a6a', 0) cancelled for reason: scheduler-connection-lost.\nClient lost the connection to the scheduler. Please check your connection and re-run your work."
     ]
    }
   ],
   "source": [
    "ddf.head(3)"
   ]
  },
  {
   "cell_type": "code",
   "execution_count": 6,
   "id": "5b7765b1",
   "metadata": {
    "ExecuteTime": {
     "end_time": "2024-08-08T01:41:18.464035Z",
     "start_time": "2024-08-08T01:41:18.445672Z"
    }
   },
   "outputs": [
    {
     "data": {
      "text/html": [
       "<div>\n",
       "<style scoped>\n",
       "    .dataframe tbody tr th:only-of-type {\n",
       "        vertical-align: middle;\n",
       "    }\n",
       "\n",
       "    .dataframe tbody tr th {\n",
       "        vertical-align: top;\n",
       "    }\n",
       "\n",
       "    .dataframe thead th {\n",
       "        text-align: right;\n",
       "    }\n",
       "</style>\n",
       "<table border=\"1\" class=\"dataframe\">\n",
       "  <thead>\n",
       "    <tr style=\"text-align: right;\">\n",
       "      <th></th>\n",
       "      <th>Date</th>\n",
       "      <th>DayOfWeek</th>\n",
       "      <th>DepTime</th>\n",
       "      <th>CRSDepTime</th>\n",
       "      <th>ArrTime</th>\n",
       "      <th>CRSArrTime</th>\n",
       "      <th>UniqueCarrier</th>\n",
       "      <th>FlightNum</th>\n",
       "      <th>TailNum</th>\n",
       "      <th>ActualElapsedTime</th>\n",
       "      <th>...</th>\n",
       "      <th>AirTime</th>\n",
       "      <th>ArrDelay</th>\n",
       "      <th>DepDelay</th>\n",
       "      <th>Origin</th>\n",
       "      <th>Dest</th>\n",
       "      <th>Distance</th>\n",
       "      <th>TaxiIn</th>\n",
       "      <th>TaxiOut</th>\n",
       "      <th>Cancelled</th>\n",
       "      <th>Diverted</th>\n",
       "    </tr>\n",
       "  </thead>\n",
       "  <tbody>\n",
       "    <tr>\n",
       "      <th>0</th>\n",
       "      <td>1991-01-08</td>\n",
       "      <td>2</td>\n",
       "      <td>1215.0</td>\n",
       "      <td>1215</td>\n",
       "      <td>1340.0</td>\n",
       "      <td>1336</td>\n",
       "      <td>US</td>\n",
       "      <td>121</td>\n",
       "      <td>NaN</td>\n",
       "      <td>85.0</td>\n",
       "      <td>...</td>\n",
       "      <td>NaN</td>\n",
       "      <td>4.0</td>\n",
       "      <td>0.0</td>\n",
       "      <td>EWR</td>\n",
       "      <td>PIT</td>\n",
       "      <td>319.0</td>\n",
       "      <td>NaN</td>\n",
       "      <td>NaN</td>\n",
       "      <td>0</td>\n",
       "      <td>0</td>\n",
       "    </tr>\n",
       "    <tr>\n",
       "      <th>1</th>\n",
       "      <td>1991-01-09</td>\n",
       "      <td>3</td>\n",
       "      <td>1215.0</td>\n",
       "      <td>1215</td>\n",
       "      <td>1353.0</td>\n",
       "      <td>1336</td>\n",
       "      <td>US</td>\n",
       "      <td>121</td>\n",
       "      <td>NaN</td>\n",
       "      <td>98.0</td>\n",
       "      <td>...</td>\n",
       "      <td>NaN</td>\n",
       "      <td>17.0</td>\n",
       "      <td>0.0</td>\n",
       "      <td>EWR</td>\n",
       "      <td>PIT</td>\n",
       "      <td>319.0</td>\n",
       "      <td>NaN</td>\n",
       "      <td>NaN</td>\n",
       "      <td>0</td>\n",
       "      <td>0</td>\n",
       "    </tr>\n",
       "    <tr>\n",
       "      <th>2</th>\n",
       "      <td>1991-01-10</td>\n",
       "      <td>4</td>\n",
       "      <td>1216.0</td>\n",
       "      <td>1215</td>\n",
       "      <td>1332.0</td>\n",
       "      <td>1336</td>\n",
       "      <td>US</td>\n",
       "      <td>121</td>\n",
       "      <td>NaN</td>\n",
       "      <td>76.0</td>\n",
       "      <td>...</td>\n",
       "      <td>NaN</td>\n",
       "      <td>-4.0</td>\n",
       "      <td>1.0</td>\n",
       "      <td>EWR</td>\n",
       "      <td>PIT</td>\n",
       "      <td>319.0</td>\n",
       "      <td>NaN</td>\n",
       "      <td>NaN</td>\n",
       "      <td>0</td>\n",
       "      <td>0</td>\n",
       "    </tr>\n",
       "  </tbody>\n",
       "</table>\n",
       "<p>3 rows × 21 columns</p>\n",
       "</div>"
      ],
      "text/plain": [
       "        Date  DayOfWeek  DepTime  CRSDepTime  ArrTime  CRSArrTime  \\\n",
       "0 1991-01-08          2   1215.0        1215   1340.0        1336   \n",
       "1 1991-01-09          3   1215.0        1215   1353.0        1336   \n",
       "2 1991-01-10          4   1216.0        1215   1332.0        1336   \n",
       "\n",
       "  UniqueCarrier  FlightNum TailNum  ActualElapsedTime  ...  AirTime  ArrDelay  \\\n",
       "0            US        121     NaN               85.0  ...      NaN       4.0   \n",
       "1            US        121     NaN               98.0  ...      NaN      17.0   \n",
       "2            US        121     NaN               76.0  ...      NaN      -4.0   \n",
       "\n",
       "   DepDelay  Origin Dest Distance  TaxiIn  TaxiOut  Cancelled  Diverted  \n",
       "0       0.0     EWR  PIT    319.0     NaN      NaN          0         0  \n",
       "1       0.0     EWR  PIT    319.0     NaN      NaN          0         0  \n",
       "2       1.0     EWR  PIT    319.0     NaN      NaN          0         0  \n",
       "\n",
       "[3 rows x 21 columns]"
      ]
     },
     "execution_count": 6,
     "metadata": {},
     "output_type": "execute_result"
    }
   ],
   "source": [
    "pdf.head(3)"
   ]
  },
  {
   "cell_type": "markdown",
   "id": "a5dd8ff8",
   "metadata": {},
   "source": [
    "这里体现出 Dask DataFrame 与 pandas 的区别：Dask DataFrame 接受 \\*.csv 这样的通配符，可以批量读取文件夹下所有的以 csv 结尾的文件。Dask DataFrame 在实现时，先对 \\*.csv 目录进行了遍历，了解到目录下一共有多少个 CSV 文件，并在构建 Task Graph 时，根据文件数量，并行地启动多个 pandas 进程。\n",
    "\n",
    "ddf.visualize() 将 Task Graph 进行了可视化，可以看到：目录下有 m 个 CSV 文件，在 Task Graph 中生成 m 个 read_csv() 子图，执行时并行地启动 m 个 pandas 的 read_csv()；或者说，每个 CSV 文件对应一个 Partition。根据文件数量构建 Task Graph 中的并行粒度是一种最简单的图生成方式。"
   ]
  },
  {
   "cell_type": "code",
   "execution_count": 7,
   "id": "8c6586ac",
   "metadata": {
    "ExecuteTime": {
     "end_time": "2024-08-07T06:15:46.332858Z",
     "start_time": "2024-08-07T06:15:42.825026Z"
    }
   },
   "outputs": [
    {
     "name": "stderr",
     "output_type": "stream",
     "text": [
      "Warning: Could not load \"D:\\Anaconda\\Library\\bin\\gvplugin_pango.dll\" - It was found, so perhaps one of its dependents was not.  Try ldd.\r\n"
     ]
    },
    {
     "data": {
      "image/svg+xml": [
       "<svg xmlns=\"http://www.w3.org/2000/svg\" xmlns:xlink=\"http://www.w3.org/1999/xlink\" width=\"674pt\" height=\"176pt\" viewBox=\"0.00 0.00 674.13 176.13\">\n",
       "<g id=\"graph0\" class=\"graph\" transform=\"scale(1 1) rotate(0) translate(4 172.13)\">\n",
       "<polygon fill=\"white\" stroke=\"transparent\" points=\"-4,4 -4,-172.13 670.13,-172.13 670.13,4 -4,4\"/>\n",
       "<!-- &#45;561133109648795314 -->\n",
       "<g id=\"node1\" class=\"node\">\n",
       "<title>-561133109648795314</title>\n",
       "<ellipse fill=\"none\" stroke=\"black\" cx=\"48.07\" cy=\"-48.07\" rx=\"48.13\" ry=\"48.13\"/>\n",
       "<text text-anchor=\"middle\" x=\"48.07\" y=\"-43.87\" font-family=\"Helvetica,sans-Serif\" font-size=\"14.00\">read-csv</text>\n",
       "</g>\n",
       "<!-- &#45;761257217869138755 -->\n",
       "<g id=\"node2\" class=\"node\">\n",
       "<title>-761257217869138755</title>\n",
       "<polygon fill=\"none\" stroke=\"black\" points=\"75.07,-168.13 21.07,-168.13 21.07,-132.13 75.07,-132.13 75.07,-168.13\"/>\n",
       "<text text-anchor=\"middle\" x=\"48.07\" y=\"-145.93\" font-family=\"Helvetica,sans-Serif\" font-size=\"14.00\">0</text>\n",
       "</g>\n",
       "<!-- &#45;561133109648795314&#45;&gt;&#45;761257217869138755 -->\n",
       "<g id=\"edge1\" class=\"edge\">\n",
       "<title>-561133109648795314-&gt;-761257217869138755</title>\n",
       "<path fill=\"none\" stroke=\"black\" d=\"M48.07,-96.17C48.07,-104.95 48.07,-113.85 48.07,-121.79\"/>\n",
       "<polygon fill=\"black\" stroke=\"black\" points=\"44.57,-121.91 48.07,-131.91 51.57,-121.91 44.57,-121.91\"/>\n",
       "</g>\n",
       "<!-- &#45;1365260014797368356 -->\n",
       "<g id=\"node3\" class=\"node\">\n",
       "<title>-1365260014797368356</title>\n",
       "<ellipse fill=\"none\" stroke=\"black\" cx=\"162.07\" cy=\"-48.07\" rx=\"48.13\" ry=\"48.13\"/>\n",
       "<text text-anchor=\"middle\" x=\"162.07\" y=\"-43.87\" font-family=\"Helvetica,sans-Serif\" font-size=\"14.00\">read-csv</text>\n",
       "</g>\n",
       "<!-- 5746383538232859670 -->\n",
       "<g id=\"node4\" class=\"node\">\n",
       "<title>5746383538232859670</title>\n",
       "<polygon fill=\"none\" stroke=\"black\" points=\"189.07,-168.13 135.07,-168.13 135.07,-132.13 189.07,-132.13 189.07,-168.13\"/>\n",
       "<text text-anchor=\"middle\" x=\"162.07\" y=\"-145.93\" font-family=\"Helvetica,sans-Serif\" font-size=\"14.00\">1</text>\n",
       "</g>\n",
       "<!-- &#45;1365260014797368356&#45;&gt;5746383538232859670 -->\n",
       "<g id=\"edge2\" class=\"edge\">\n",
       "<title>-1365260014797368356-&gt;5746383538232859670</title>\n",
       "<path fill=\"none\" stroke=\"black\" d=\"M162.07,-96.17C162.07,-104.95 162.07,-113.85 162.07,-121.79\"/>\n",
       "<polygon fill=\"black\" stroke=\"black\" points=\"158.57,-121.91 162.07,-131.91 165.57,-121.91 158.57,-121.91\"/>\n",
       "</g>\n",
       "<!-- 2874059157641524252 -->\n",
       "<g id=\"node5\" class=\"node\">\n",
       "<title>2874059157641524252</title>\n",
       "<ellipse fill=\"none\" stroke=\"black\" cx=\"276.07\" cy=\"-48.07\" rx=\"48.13\" ry=\"48.13\"/>\n",
       "<text text-anchor=\"middle\" x=\"276.07\" y=\"-43.87\" font-family=\"Helvetica,sans-Serif\" font-size=\"14.00\">read-csv</text>\n",
       "</g>\n",
       "<!-- 853309509260163304 -->\n",
       "<g id=\"node6\" class=\"node\">\n",
       "<title>853309509260163304</title>\n",
       "<polygon fill=\"none\" stroke=\"black\" points=\"303.07,-168.13 249.07,-168.13 249.07,-132.13 303.07,-132.13 303.07,-168.13\"/>\n",
       "<text text-anchor=\"middle\" x=\"276.07\" y=\"-145.93\" font-family=\"Helvetica,sans-Serif\" font-size=\"14.00\">2</text>\n",
       "</g>\n",
       "<!-- 2874059157641524252&#45;&gt;853309509260163304 -->\n",
       "<g id=\"edge3\" class=\"edge\">\n",
       "<title>2874059157641524252-&gt;853309509260163304</title>\n",
       "<path fill=\"none\" stroke=\"black\" d=\"M276.07,-96.17C276.07,-104.95 276.07,-113.85 276.07,-121.79\"/>\n",
       "<polygon fill=\"black\" stroke=\"black\" points=\"272.57,-121.91 276.07,-131.91 279.57,-121.91 272.57,-121.91\"/>\n",
       "</g>\n",
       "<!-- &#45;8487962705496334789 -->\n",
       "<g id=\"node7\" class=\"node\">\n",
       "<title>-8487962705496334789</title>\n",
       "<ellipse fill=\"none\" stroke=\"black\" cx=\"390.07\" cy=\"-48.07\" rx=\"48.13\" ry=\"48.13\"/>\n",
       "<text text-anchor=\"middle\" x=\"390.07\" y=\"-43.87\" font-family=\"Helvetica,sans-Serif\" font-size=\"14.00\">read-csv</text>\n",
       "</g>\n",
       "<!-- 7360950265362161729 -->\n",
       "<g id=\"node8\" class=\"node\">\n",
       "<title>7360950265362161729</title>\n",
       "<polygon fill=\"none\" stroke=\"black\" points=\"417.07,-168.13 363.07,-168.13 363.07,-132.13 417.07,-132.13 417.07,-168.13\"/>\n",
       "<text text-anchor=\"middle\" x=\"390.07\" y=\"-145.93\" font-family=\"Helvetica,sans-Serif\" font-size=\"14.00\">3</text>\n",
       "</g>\n",
       "<!-- &#45;8487962705496334789&#45;&gt;7360950265362161729 -->\n",
       "<g id=\"edge4\" class=\"edge\">\n",
       "<title>-8487962705496334789-&gt;7360950265362161729</title>\n",
       "<path fill=\"none\" stroke=\"black\" d=\"M390.07,-96.17C390.07,-104.95 390.07,-113.85 390.07,-121.79\"/>\n",
       "<polygon fill=\"black\" stroke=\"black\" points=\"386.57,-121.91 390.07,-131.91 393.57,-121.91 386.57,-121.91\"/>\n",
       "</g>\n",
       "<!-- 8921941955940896184 -->\n",
       "<g id=\"node9\" class=\"node\">\n",
       "<title>8921941955940896184</title>\n",
       "<ellipse fill=\"none\" stroke=\"black\" cx=\"504.07\" cy=\"-48.07\" rx=\"48.13\" ry=\"48.13\"/>\n",
       "<text text-anchor=\"middle\" x=\"504.07\" y=\"-43.87\" font-family=\"Helvetica,sans-Serif\" font-size=\"14.00\">read-csv</text>\n",
       "</g>\n",
       "<!-- &#45;1930481146594902765 -->\n",
       "<g id=\"node10\" class=\"node\">\n",
       "<title>-1930481146594902765</title>\n",
       "<polygon fill=\"none\" stroke=\"black\" points=\"531.07,-168.13 477.07,-168.13 477.07,-132.13 531.07,-132.13 531.07,-168.13\"/>\n",
       "<text text-anchor=\"middle\" x=\"504.07\" y=\"-145.93\" font-family=\"Helvetica,sans-Serif\" font-size=\"14.00\">4</text>\n",
       "</g>\n",
       "<!-- 8921941955940896184&#45;&gt;&#45;1930481146594902765 -->\n",
       "<g id=\"edge5\" class=\"edge\">\n",
       "<title>8921941955940896184-&gt;-1930481146594902765</title>\n",
       "<path fill=\"none\" stroke=\"black\" d=\"M504.07,-96.17C504.07,-104.95 504.07,-113.85 504.07,-121.79\"/>\n",
       "<polygon fill=\"black\" stroke=\"black\" points=\"500.57,-121.91 504.07,-131.91 507.57,-121.91 500.57,-121.91\"/>\n",
       "</g>\n",
       "<!-- 8117815050792323142 -->\n",
       "<g id=\"node11\" class=\"node\">\n",
       "<title>8117815050792323142</title>\n",
       "<ellipse fill=\"none\" stroke=\"black\" cx=\"618.07\" cy=\"-48.07\" rx=\"48.13\" ry=\"48.13\"/>\n",
       "<text text-anchor=\"middle\" x=\"618.07\" y=\"-43.87\" font-family=\"Helvetica,sans-Serif\" font-size=\"14.00\">read-csv</text>\n",
       "</g>\n",
       "<!-- 4577159609507095660 -->\n",
       "<g id=\"node12\" class=\"node\">\n",
       "<title>4577159609507095660</title>\n",
       "<polygon fill=\"none\" stroke=\"black\" points=\"645.07,-168.13 591.07,-168.13 591.07,-132.13 645.07,-132.13 645.07,-168.13\"/>\n",
       "<text text-anchor=\"middle\" x=\"618.07\" y=\"-145.93\" font-family=\"Helvetica,sans-Serif\" font-size=\"14.00\">5</text>\n",
       "</g>\n",
       "<!-- 8117815050792323142&#45;&gt;4577159609507095660 -->\n",
       "<g id=\"edge6\" class=\"edge\">\n",
       "<title>8117815050792323142-&gt;4577159609507095660</title>\n",
       "<path fill=\"none\" stroke=\"black\" d=\"M618.07,-96.17C618.07,-104.95 618.07,-113.85 618.07,-121.79\"/>\n",
       "<polygon fill=\"black\" stroke=\"black\" points=\"614.57,-121.91 618.07,-131.91 621.57,-121.91 614.57,-121.91\"/>\n",
       "</g>\n",
       "</g>\n",
       "</svg>"
      ],
      "text/plain": [
       "<IPython.core.display.SVG object>"
      ]
     },
     "execution_count": 7,
     "metadata": {},
     "output_type": "execute_result"
    }
   ],
   "source": [
    "ddf.visualize(filename=\"../images/nyc-flights-graph\", format=\"svg\")"
   ]
  },
  {
   "cell_type": "markdown",
   "id": "ad050fa5",
   "metadata": {},
   "source": [
    "这个例子中，Dask 根据文件数量来确定 Partition 的数量。之前提到，数据切分得过细或者过粗都不是最好的。对于所有可能的场景来说，单纯根据文件数量来确定切分为多少个 Partition 的方式并不一定是最优的：因为如果很多小文件，切分粒度会过细；或者如果是单个大文件，切分粒度过粗，可能导致 OOM。这两种极端情况下生成的 Task Graph 和并行粒度都不是最优的。所以，Dask DataFrame 的 read_csv() 提供了自定义每个 Partition 大小的参数 blocksize，单个 Partition 的大小不会超过 blocksize。如果用户没有显式设置 `blocksize`，Dask DataFrame 会根据探测到的计算资源情况来确定 blocksize，最大不超过 64MB。"
   ]
  },
  {
   "cell_type": "markdown",
   "id": "d318a9a4",
   "metadata": {},
   "source": [
    "## 数据表模式推理"
   ]
  },
  {
   "cell_type": "markdown",
   "id": "ca5dd1b8",
   "metadata": {},
   "source": [
    "在读取这些数据时，Dask DataFrame 对数据的类型和表模式进行了推测，并将字段名、字段对应的数据类型等表模式记录下来。Dask DataFrame 的 read_csv() 有 sample 的参数，表示只读取前面 sample 字节大小的数据，并根据这些数据来推测数据类型。这会带来问题，应该在最开始读取数据的时候就明确数据类型，而不是依赖 Dask 的表模式推测："
   ]
  },
  {
   "cell_type": "code",
   "execution_count": 7,
   "id": "3d985a2e",
   "metadata": {
    "ExecuteTime": {
     "end_time": "2024-08-08T01:45:58.258772Z",
     "start_time": "2024-08-08T01:45:56.915933Z"
    }
   },
   "outputs": [
    {
     "data": {
      "text/html": [
       "<div>\n",
       "<style scoped>\n",
       "    .dataframe tbody tr th:only-of-type {\n",
       "        vertical-align: middle;\n",
       "    }\n",
       "\n",
       "    .dataframe tbody tr th {\n",
       "        vertical-align: top;\n",
       "    }\n",
       "\n",
       "    .dataframe thead th {\n",
       "        text-align: right;\n",
       "    }\n",
       "</style>\n",
       "<table border=\"1\" class=\"dataframe\">\n",
       "  <thead>\n",
       "    <tr style=\"text-align: right;\">\n",
       "      <th></th>\n",
       "      <th>Date</th>\n",
       "      <th>DayOfWeek</th>\n",
       "      <th>DepTime</th>\n",
       "      <th>CRSDepTime</th>\n",
       "      <th>ArrTime</th>\n",
       "      <th>CRSArrTime</th>\n",
       "      <th>UniqueCarrier</th>\n",
       "      <th>FlightNum</th>\n",
       "      <th>TailNum</th>\n",
       "      <th>ActualElapsedTime</th>\n",
       "      <th>...</th>\n",
       "      <th>AirTime</th>\n",
       "      <th>ArrDelay</th>\n",
       "      <th>DepDelay</th>\n",
       "      <th>Origin</th>\n",
       "      <th>Dest</th>\n",
       "      <th>Distance</th>\n",
       "      <th>TaxiIn</th>\n",
       "      <th>TaxiOut</th>\n",
       "      <th>Cancelled</th>\n",
       "      <th>Diverted</th>\n",
       "    </tr>\n",
       "  </thead>\n",
       "  <tbody>\n",
       "    <tr>\n",
       "      <th>259511</th>\n",
       "      <td>1996-12-29</td>\n",
       "      <td>7</td>\n",
       "      <td>2008.0</td>\n",
       "      <td>1640</td>\n",
       "      <td>2236.0</td>\n",
       "      <td>1852</td>\n",
       "      <td>UA</td>\n",
       "      <td>1659</td>\n",
       "      <td>N424UA</td>\n",
       "      <td>268.0</td>\n",
       "      <td>...</td>\n",
       "      <td>225.0</td>\n",
       "      <td>224.0</td>\n",
       "      <td>208.0</td>\n",
       "      <td>LGA</td>\n",
       "      <td>DEN</td>\n",
       "      <td>1619.0</td>\n",
       "      <td>8.0</td>\n",
       "      <td>35.0</td>\n",
       "      <td>False</td>\n",
       "      <td>0</td>\n",
       "    </tr>\n",
       "    <tr>\n",
       "      <th>259512</th>\n",
       "      <td>1996-12-30</td>\n",
       "      <td>1</td>\n",
       "      <td>1644.0</td>\n",
       "      <td>1640</td>\n",
       "      <td>1855.0</td>\n",
       "      <td>1852</td>\n",
       "      <td>UA</td>\n",
       "      <td>1659</td>\n",
       "      <td>N401UA</td>\n",
       "      <td>251.0</td>\n",
       "      <td>...</td>\n",
       "      <td>235.0</td>\n",
       "      <td>3.0</td>\n",
       "      <td>4.0</td>\n",
       "      <td>LGA</td>\n",
       "      <td>DEN</td>\n",
       "      <td>1619.0</td>\n",
       "      <td>5.0</td>\n",
       "      <td>11.0</td>\n",
       "      <td>False</td>\n",
       "      <td>0</td>\n",
       "    </tr>\n",
       "    <tr>\n",
       "      <th>259513</th>\n",
       "      <td>1996-12-31</td>\n",
       "      <td>2</td>\n",
       "      <td>1659.0</td>\n",
       "      <td>1640</td>\n",
       "      <td>1902.0</td>\n",
       "      <td>1852</td>\n",
       "      <td>UA</td>\n",
       "      <td>1659</td>\n",
       "      <td>N414UA</td>\n",
       "      <td>243.0</td>\n",
       "      <td>...</td>\n",
       "      <td>216.0</td>\n",
       "      <td>10.0</td>\n",
       "      <td>19.0</td>\n",
       "      <td>LGA</td>\n",
       "      <td>DEN</td>\n",
       "      <td>1619.0</td>\n",
       "      <td>5.0</td>\n",
       "      <td>22.0</td>\n",
       "      <td>False</td>\n",
       "      <td>0</td>\n",
       "    </tr>\n",
       "  </tbody>\n",
       "</table>\n",
       "<p>3 rows × 21 columns</p>\n",
       "</div>"
      ],
      "text/plain": [
       "             Date  DayOfWeek  DepTime  CRSDepTime  ArrTime  CRSArrTime  \\\n",
       "259511 1996-12-29          7   2008.0        1640   2236.0        1852   \n",
       "259512 1996-12-30          1   1644.0        1640   1855.0        1852   \n",
       "259513 1996-12-31          2   1659.0        1640   1902.0        1852   \n",
       "\n",
       "       UniqueCarrier  FlightNum TailNum  ActualElapsedTime  ...  AirTime  \\\n",
       "259511            UA       1659  N424UA              268.0  ...    225.0   \n",
       "259512            UA       1659  N401UA              251.0  ...    235.0   \n",
       "259513            UA       1659  N414UA              243.0  ...    216.0   \n",
       "\n",
       "        ArrDelay  DepDelay  Origin Dest Distance  TaxiIn  TaxiOut  Cancelled  \\\n",
       "259511     224.0     208.0     LGA  DEN   1619.0     8.0     35.0      False   \n",
       "259512       3.0       4.0     LGA  DEN   1619.0     5.0     11.0      False   \n",
       "259513      10.0      19.0     LGA  DEN   1619.0     5.0     22.0      False   \n",
       "\n",
       "        Diverted  \n",
       "259511         0  \n",
       "259512         0  \n",
       "259513         0  \n",
       "\n",
       "[3 rows x 21 columns]"
      ]
     },
     "execution_count": 7,
     "metadata": {},
     "output_type": "execute_result"
    }
   ],
   "source": [
    "ddf = dd.read_csv(file_path,\n",
    "                 parse_dates={'Date': [0, 1, 2]},\n",
    "                 dtype={'TailNum': object,\n",
    "                        'CRSElapsedTime': float,\n",
    "                        'Cancelled': bool})\n",
    "ddf.tail(3)"
   ]
  },
  {
   "cell_type": "markdown",
   "id": "b033f175",
   "metadata": {},
   "source": [
    "Dask DataFrame 把各个字段的 Schema 放在了 _meta 里，包括字段的名称和类型。"
   ]
  },
  {
   "cell_type": "code",
   "execution_count": 8,
   "id": "90a1a2f9",
   "metadata": {
    "ExecuteTime": {
     "end_time": "2024-08-08T01:46:20.697590Z",
     "start_time": "2024-08-08T01:46:20.687741Z"
    }
   },
   "outputs": [
    {
     "data": {
      "text/html": [
       "<div>\n",
       "<style scoped>\n",
       "    .dataframe tbody tr th:only-of-type {\n",
       "        vertical-align: middle;\n",
       "    }\n",
       "\n",
       "    .dataframe tbody tr th {\n",
       "        vertical-align: top;\n",
       "    }\n",
       "\n",
       "    .dataframe thead th {\n",
       "        text-align: right;\n",
       "    }\n",
       "</style>\n",
       "<table border=\"1\" class=\"dataframe\">\n",
       "  <thead>\n",
       "    <tr style=\"text-align: right;\">\n",
       "      <th></th>\n",
       "      <th>Date</th>\n",
       "      <th>DayOfWeek</th>\n",
       "      <th>DepTime</th>\n",
       "      <th>CRSDepTime</th>\n",
       "      <th>ArrTime</th>\n",
       "      <th>CRSArrTime</th>\n",
       "      <th>UniqueCarrier</th>\n",
       "      <th>FlightNum</th>\n",
       "      <th>TailNum</th>\n",
       "      <th>ActualElapsedTime</th>\n",
       "      <th>...</th>\n",
       "      <th>AirTime</th>\n",
       "      <th>ArrDelay</th>\n",
       "      <th>DepDelay</th>\n",
       "      <th>Origin</th>\n",
       "      <th>Dest</th>\n",
       "      <th>Distance</th>\n",
       "      <th>TaxiIn</th>\n",
       "      <th>TaxiOut</th>\n",
       "      <th>Cancelled</th>\n",
       "      <th>Diverted</th>\n",
       "    </tr>\n",
       "  </thead>\n",
       "  <tbody>\n",
       "  </tbody>\n",
       "</table>\n",
       "<p>0 rows × 21 columns</p>\n",
       "</div>"
      ],
      "text/plain": [
       "Empty DataFrame\n",
       "Columns: [Date, DayOfWeek, DepTime, CRSDepTime, ArrTime, CRSArrTime, UniqueCarrier, FlightNum, TailNum, ActualElapsedTime, CRSElapsedTime, AirTime, ArrDelay, DepDelay, Origin, Dest, Distance, TaxiIn, TaxiOut, Cancelled, Diverted]\n",
       "Index: []\n",
       "\n",
       "[0 rows x 21 columns]"
      ]
     },
     "execution_count": 8,
     "metadata": {},
     "output_type": "execute_result"
    }
   ],
   "source": [
    "ddf._meta"
   ]
  },
  {
   "cell_type": "markdown",
   "id": "be0daf6f",
   "metadata": {},
   "source": [
    "依然使用刚才的例子，我们加上 blocksize 参数，分别设置为 50_000 和 5_000_000，比较一下不同 Partition 下计算速度，也可以观察 Dask 仪表盘上提供的各类信息。blocksize 为 50_000 时，Task Graph 切分粒度更细，计算图更大，复杂的计算图带来额外开销使得总体耗时更长。"
   ]
  },
  {
   "cell_type": "code",
   "execution_count": 9,
   "id": "52da15f6",
   "metadata": {
    "ExecuteTime": {
     "end_time": "2024-08-08T01:47:25.285135Z",
     "start_time": "2024-08-08T01:47:22.134869Z"
    }
   },
   "outputs": [
    {
     "name": "stdout",
     "output_type": "stream",
     "text": [
      "Origin\n",
      "EWR    669254\n",
      "JFK    255485\n",
      "LGA    591305\n",
      "Name: Origin, dtype: int64\n",
      "CPU times: total: 1.16 s\n",
      "Wall time: 3.14 s\n"
     ]
    }
   ],
   "source": [
    "%%time\n",
    "ddf = dd.read_csv(file_path,\n",
    "                 parse_dates={'Date': [0, 1, 2]},\n",
    "                 dtype={'TailNum': object,\n",
    "                        'CRSElapsedTime': float,\n",
    "                        'Cancelled': bool},\n",
    "              blocksize=500_000)\n",
    "\n",
    "origin_cnt = ddf[~ddf.Cancelled].groupby(\"Origin\").Origin.count().compute()\n",
    "print(origin_cnt)"
   ]
  },
  {
   "cell_type": "code",
   "execution_count": 10,
   "id": "7407e65b",
   "metadata": {
    "ExecuteTime": {
     "end_time": "2024-08-08T01:47:52.668776Z",
     "start_time": "2024-08-08T01:47:50.781338Z"
    }
   },
   "outputs": [
    {
     "name": "stdout",
     "output_type": "stream",
     "text": [
      "Origin\n",
      "EWR    669254\n",
      "JFK    255485\n",
      "LGA    591305\n",
      "Name: Origin, dtype: int64\n",
      "CPU times: total: 531 ms\n",
      "Wall time: 1.88 s\n"
     ]
    }
   ],
   "source": [
    "%%time\n",
    "ddf = dd.read_csv(file_path, \n",
    "                parse_dates={\"Date\": [0, 1, 2]},\n",
    "                dtype={\"TailNum\": str, \"CRSElapsedTime\": float, \"Cancelled\": bool},\n",
    "                blocksize=5_000_000\n",
    "            )\n",
    "\n",
    "origin_cnt = ddf[~ddf.Cancelled].groupby(\"Origin\").Origin.count().compute()\n",
    "print(origin_cnt)"
   ]
  },
  {
   "cell_type": "markdown",
   "id": "5572e936",
   "metadata": {},
   "source": [
    "## Parquet"
   ]
  },
  {
   "attachments": {
    "image.png": {
     "image/png": "[encoded data removed]"
    }
   },
   "cell_type": "markdown",
   "id": "12f8bb75",
   "metadata": {},
   "source": [
    "在大数据工程领域，Apache Parquet 是一种被广泛应用的文件格式。相比 CSV 等纯文本类型文件，Parquet 有以下优势：\n",
    "\n",
    "- 列式存储\n",
    "\n",
    "- 内嵌表模式\n",
    "\n",
    "- 数据压缩\n",
    "\n",
    "具体而言，列式存储按照列进行存储，而不是 CSV 那样按行存储。数据分析时，我们可能只关心特定的列，而不是所有的列，因此在读取数据时，Parquet 允许很方便地过滤掉不需要的列，而不必读取整个行，即列裁剪（Column Pruning）。除了列裁剪，行裁剪（Row Pruning）是另一种减少数据读取的技术。Parquet 自带了表模式，每个 Parquet 文件里嵌入了每个列的列名、数据类型等元数据，也就避免了 Dask DataFrame 进行表模式推测时推测不准确的问题。Parquet 中的数据是经过压缩的，相比 CSV，Parquet 更节省持久化存储的空间。\n",
    "\n",
    "Parquet 被广泛应用在 Apache Spark、Apache Hive 和 Apache Flink 等大数据生态。\n",
    "\n",
    "![image.png](attachment:image.png)"
   ]
  },
  {
   "cell_type": "markdown",
   "id": "7be070a4",
   "metadata": {},
   "source": [
    "比如，应该尽量读取所需要的列，而不是所有的列。"
   ]
  },
  {
   "cell_type": "code",
   "execution_count": 12,
   "id": "91b151df",
   "metadata": {
    "ExecuteTime": {
     "end_time": "2024-08-08T01:55:06.025174Z",
     "start_time": "2024-08-08T01:55:06.005944Z"
    }
   },
   "outputs": [
    {
     "data": {
      "text/html": [
       "<div><strong>Dask DataFrame Structure:</strong></div>\n",
       "<div>\n",
       "<style scoped>\n",
       "    .dataframe tbody tr th:only-of-type {\n",
       "        vertical-align: middle;\n",
       "    }\n",
       "\n",
       "    .dataframe tbody tr th {\n",
       "        vertical-align: top;\n",
       "    }\n",
       "\n",
       "    .dataframe thead th {\n",
       "        text-align: right;\n",
       "    }\n",
       "</style>\n",
       "<table border=\"1\" class=\"dataframe\">\n",
       "  <thead>\n",
       "    <tr style=\"text-align: right;\">\n",
       "      <th></th>\n",
       "      <th>Month</th>\n",
       "    </tr>\n",
       "    <tr>\n",
       "      <th>npartitions=1</th>\n",
       "      <th></th>\n",
       "    </tr>\n",
       "  </thead>\n",
       "  <tbody>\n",
       "    <tr>\n",
       "      <th></th>\n",
       "      <td>object</td>\n",
       "    </tr>\n",
       "    <tr>\n",
       "      <th></th>\n",
       "      <td>...</td>\n",
       "    </tr>\n",
       "  </tbody>\n",
       "</table>\n",
       "</div>\n",
       "<div>Dask Name: read-parquet, 1 graph layer</div>"
      ],
      "text/plain": [
       "Dask DataFrame Structure:\n",
       "                Month\n",
       "npartitions=1        \n",
       "               object\n",
       "                  ...\n",
       "Dask Name: read-parquet, 1 graph layer"
      ]
     },
     "execution_count": 12,
     "metadata": {},
     "output_type": "execute_result"
    }
   ],
   "source": [
    "dd.read_parquet(\n",
    "    \"../data/AirPassengers.parquet\",\n",
    "    columns=[\"Month\"]\n",
    ")"
   ]
  },
  {
   "cell_type": "markdown",
   "id": "28eba619",
   "metadata": {},
   "source": [
    "可以过滤掉不需要的数据："
   ]
  },
  {
   "cell_type": "code",
   "execution_count": 14,
   "id": "2573a939",
   "metadata": {
    "ExecuteTime": {
     "end_time": "2024-08-08T01:56:45.305974Z",
     "start_time": "2024-08-08T01:56:45.289284Z"
    }
   },
   "outputs": [
    {
     "data": {
      "text/html": [
       "<div><strong>Dask DataFrame Structure:</strong></div>\n",
       "<div>\n",
       "<style scoped>\n",
       "    .dataframe tbody tr th:only-of-type {\n",
       "        vertical-align: middle;\n",
       "    }\n",
       "\n",
       "    .dataframe tbody tr th {\n",
       "        vertical-align: top;\n",
       "    }\n",
       "\n",
       "    .dataframe thead th {\n",
       "        text-align: right;\n",
       "    }\n",
       "</style>\n",
       "<table border=\"1\" class=\"dataframe\">\n",
       "  <thead>\n",
       "    <tr style=\"text-align: right;\">\n",
       "      <th></th>\n",
       "      <th>Month</th>\n",
       "    </tr>\n",
       "    <tr>\n",
       "      <th>npartitions=1</th>\n",
       "      <th></th>\n",
       "    </tr>\n",
       "  </thead>\n",
       "  <tbody>\n",
       "    <tr>\n",
       "      <th></th>\n",
       "      <td>object</td>\n",
       "    </tr>\n",
       "    <tr>\n",
       "      <th></th>\n",
       "      <td>...</td>\n",
       "    </tr>\n",
       "  </tbody>\n",
       "</table>\n",
       "</div>\n",
       "<div>Dask Name: read-parquet, 1 graph layer</div>"
      ],
      "text/plain": [
       "Dask DataFrame Structure:\n",
       "                Month\n",
       "npartitions=1        \n",
       "               object\n",
       "                  ...\n",
       "Dask Name: read-parquet, 1 graph layer"
      ]
     },
     "execution_count": 14,
     "metadata": {},
     "output_type": "execute_result"
    }
   ],
   "source": [
    "dd.read_parquet(\"../data/AirPassengers.parquet\", filters=[(\"Month\", \">=\", \"1949-07\")])"
   ]
  },
  {
   "cell_type": "markdown",
   "id": "a3f16583",
   "metadata": {},
   "source": [
    "# 索引"
   ]
  },
  {
   "attachments": {
    "image.png": {
     "image/png": "[encoded data removed]"
    }
   },
   "cell_type": "markdown",
   "id": "e0e2a5a5",
   "metadata": {},
   "source": [
    "如下图所示，pandas DataFrame 主要对二维的表进行处理，有列标签和行标签。行标签通常会被用户忽视，但实际上起着至关重要的作用：索引（Indexing）。大多数 pandas DataFrame 的行标签是排好序的索引，比如从 0 开始递增。 这种排好序的索引使得 pandas DataFrame 里面的数据是有序的。\n",
    "\n",
    "![image.png](attachment:image.png)\n",
    "\n",
    "创建 pandas DataFrame 时，会在最左侧自动生成了索引列。从下面的例子可以看出来，索引列没有列名，称不上是一个“字段”，它是在传入数据的字段基础上新增的列。"
   ]
  },
  {
   "cell_type": "code",
   "execution_count": 15,
   "id": "3c3c47f9",
   "metadata": {
    "ExecuteTime": {
     "end_time": "2024-08-08T01:59:39.380624Z",
     "start_time": "2024-08-08T01:59:39.371806Z"
    }
   },
   "outputs": [
    {
     "data": {
      "text/html": [
       "<div>\n",
       "<style scoped>\n",
       "    .dataframe tbody tr th:only-of-type {\n",
       "        vertical-align: middle;\n",
       "    }\n",
       "\n",
       "    .dataframe tbody tr th {\n",
       "        vertical-align: top;\n",
       "    }\n",
       "\n",
       "    .dataframe thead th {\n",
       "        text-align: right;\n",
       "    }\n",
       "</style>\n",
       "<table border=\"1\" class=\"dataframe\">\n",
       "  <thead>\n",
       "    <tr style=\"text-align: right;\">\n",
       "      <th></th>\n",
       "      <th>A</th>\n",
       "      <th>B</th>\n",
       "      <th>C</th>\n",
       "      <th>D</th>\n",
       "    </tr>\n",
       "  </thead>\n",
       "  <tbody>\n",
       "    <tr>\n",
       "      <th>0</th>\n",
       "      <td>foo</td>\n",
       "      <td>one</td>\n",
       "      <td>1</td>\n",
       "      <td>10</td>\n",
       "    </tr>\n",
       "    <tr>\n",
       "      <th>1</th>\n",
       "      <td>bar</td>\n",
       "      <td>one</td>\n",
       "      <td>2</td>\n",
       "      <td>20</td>\n",
       "    </tr>\n",
       "    <tr>\n",
       "      <th>2</th>\n",
       "      <td>baz</td>\n",
       "      <td>two</td>\n",
       "      <td>3</td>\n",
       "      <td>30</td>\n",
       "    </tr>\n",
       "    <tr>\n",
       "      <th>3</th>\n",
       "      <td>qux</td>\n",
       "      <td>three</td>\n",
       "      <td>4</td>\n",
       "      <td>40</td>\n",
       "    </tr>\n",
       "  </tbody>\n",
       "</table>\n",
       "</div>"
      ],
      "text/plain": [
       "     A      B  C   D\n",
       "0  foo    one  1  10\n",
       "1  bar    one  2  20\n",
       "2  baz    two  3  30\n",
       "3  qux  three  4  40"
      ]
     },
     "execution_count": 15,
     "metadata": {},
     "output_type": "execute_result"
    }
   ],
   "source": [
    "df = pd.DataFrame({\n",
    "   'A': ['foo', 'bar', 'baz', 'qux'],\n",
    "   'B': ['one', 'one', 'two', 'three'],\n",
    "   'C': [1, 2, 3, 4],\n",
    "   'D': [10, 20, 30, 40]\n",
    "})\n",
    "df"
   ]
  },
  {
   "cell_type": "markdown",
   "id": "5563a4ae",
   "metadata": {},
   "source": [
    "也可以设置一个字段作为索引列："
   ]
  },
  {
   "cell_type": "code",
   "execution_count": 16,
   "id": "8365f68f",
   "metadata": {
    "ExecuteTime": {
     "end_time": "2024-08-08T01:59:54.898010Z",
     "start_time": "2024-08-08T01:59:54.872117Z"
    }
   },
   "outputs": [
    {
     "data": {
      "text/html": [
       "<div>\n",
       "<style scoped>\n",
       "    .dataframe tbody tr th:only-of-type {\n",
       "        vertical-align: middle;\n",
       "    }\n",
       "\n",
       "    .dataframe tbody tr th {\n",
       "        vertical-align: top;\n",
       "    }\n",
       "\n",
       "    .dataframe thead th {\n",
       "        text-align: right;\n",
       "    }\n",
       "</style>\n",
       "<table border=\"1\" class=\"dataframe\">\n",
       "  <thead>\n",
       "    <tr style=\"text-align: right;\">\n",
       "      <th></th>\n",
       "      <th>B</th>\n",
       "      <th>C</th>\n",
       "      <th>D</th>\n",
       "    </tr>\n",
       "    <tr>\n",
       "      <th>A</th>\n",
       "      <th></th>\n",
       "      <th></th>\n",
       "      <th></th>\n",
       "    </tr>\n",
       "  </thead>\n",
       "  <tbody>\n",
       "    <tr>\n",
       "      <th>foo</th>\n",
       "      <td>one</td>\n",
       "      <td>1</td>\n",
       "      <td>10</td>\n",
       "    </tr>\n",
       "    <tr>\n",
       "      <th>bar</th>\n",
       "      <td>one</td>\n",
       "      <td>2</td>\n",
       "      <td>20</td>\n",
       "    </tr>\n",
       "    <tr>\n",
       "      <th>baz</th>\n",
       "      <td>two</td>\n",
       "      <td>3</td>\n",
       "      <td>30</td>\n",
       "    </tr>\n",
       "    <tr>\n",
       "      <th>qux</th>\n",
       "      <td>three</td>\n",
       "      <td>4</td>\n",
       "      <td>40</td>\n",
       "    </tr>\n",
       "  </tbody>\n",
       "</table>\n",
       "</div>"
      ],
      "text/plain": [
       "         B  C   D\n",
       "A                \n",
       "foo    one  1  10\n",
       "bar    one  2  20\n",
       "baz    two  3  30\n",
       "qux  three  4  40"
      ]
     },
     "execution_count": 16,
     "metadata": {},
     "output_type": "execute_result"
    }
   ],
   "source": [
    "df = df.set_index('A')\n",
    "df"
   ]
  },
  {
   "cell_type": "markdown",
   "id": "83e57915",
   "metadata": {},
   "source": [
    "或者重置回原来的结构："
   ]
  },
  {
   "cell_type": "code",
   "execution_count": 17,
   "id": "4ce542cb",
   "metadata": {
    "ExecuteTime": {
     "end_time": "2024-08-08T02:00:09.628138Z",
     "start_time": "2024-08-08T02:00:09.618732Z"
    }
   },
   "outputs": [
    {
     "data": {
      "text/html": [
       "<div>\n",
       "<style scoped>\n",
       "    .dataframe tbody tr th:only-of-type {\n",
       "        vertical-align: middle;\n",
       "    }\n",
       "\n",
       "    .dataframe tbody tr th {\n",
       "        vertical-align: top;\n",
       "    }\n",
       "\n",
       "    .dataframe thead th {\n",
       "        text-align: right;\n",
       "    }\n",
       "</style>\n",
       "<table border=\"1\" class=\"dataframe\">\n",
       "  <thead>\n",
       "    <tr style=\"text-align: right;\">\n",
       "      <th></th>\n",
       "      <th>A</th>\n",
       "      <th>B</th>\n",
       "      <th>C</th>\n",
       "      <th>D</th>\n",
       "    </tr>\n",
       "  </thead>\n",
       "  <tbody>\n",
       "    <tr>\n",
       "      <th>0</th>\n",
       "      <td>foo</td>\n",
       "      <td>one</td>\n",
       "      <td>1</td>\n",
       "      <td>10</td>\n",
       "    </tr>\n",
       "    <tr>\n",
       "      <th>1</th>\n",
       "      <td>bar</td>\n",
       "      <td>one</td>\n",
       "      <td>2</td>\n",
       "      <td>20</td>\n",
       "    </tr>\n",
       "    <tr>\n",
       "      <th>2</th>\n",
       "      <td>baz</td>\n",
       "      <td>two</td>\n",
       "      <td>3</td>\n",
       "      <td>30</td>\n",
       "    </tr>\n",
       "    <tr>\n",
       "      <th>3</th>\n",
       "      <td>qux</td>\n",
       "      <td>three</td>\n",
       "      <td>4</td>\n",
       "      <td>40</td>\n",
       "    </tr>\n",
       "  </tbody>\n",
       "</table>\n",
       "</div>"
      ],
      "text/plain": [
       "     A      B  C   D\n",
       "0  foo    one  1  10\n",
       "1  bar    one  2  20\n",
       "2  baz    two  3  30\n",
       "3  qux  three  4  40"
      ]
     },
     "execution_count": 17,
     "metadata": {},
     "output_type": "execute_result"
    }
   ],
   "source": [
    "df = df.reset_index()\n",
    "df"
   ]
  },
  {
   "cell_type": "markdown",
   "id": "5906f730",
   "metadata": {},
   "source": [
    "## 有序行索引"
   ]
  },
  {
   "cell_type": "markdown",
   "id": "8b58aae6",
   "metadata": {},
   "source": [
    "Dask DataFrame 由多个 pandas DataFrame 组成，但如何在全局维度维护整个 Dask DataFrame 行标签和行顺序是一个很大的挑战。Dask DataFrame 并没有刻意保留全局有序性，也使得它无法支持所有 pandas DataFrame 的功能。\n",
    "\n",
    "如下图所示，Dask DataFrame 在切分时有 divisions（分界线）。"
   ]
  },
  {
   "attachments": {
    "image.png": {
     "image/png": "[encoded data removed]"
    }
   },
   "cell_type": "markdown",
   "id": "4c6ff81d",
   "metadata": {},
   "source": [
    "![image.png](attachment:image.png)"
   ]
  },
  {
   "cell_type": "markdown",
   "id": "a3e34d71",
   "metadata": {},
   "source": [
    "以 Dask 提供的样例数据函数 dask.datasets.timeseries 为例，它生成了时间序列，使用时间戳作为行标签，每个 Partition 的边界都被记录下来，存储在 .divisions 里。len(divisons) 等于 npartitions + 1。"
   ]
  },
  {
   "cell_type": "code",
   "execution_count": 18,
   "id": "c531798f",
   "metadata": {
    "ExecuteTime": {
     "end_time": "2024-08-08T02:03:17.185069Z",
     "start_time": "2024-08-08T02:03:17.171412Z"
    }
   },
   "outputs": [
    {
     "name": "stdout",
     "output_type": "stream",
     "text": [
      "df.npartitions: 1826\n",
      "df.divisions: 1827\n"
     ]
    }
   ],
   "source": [
    "ts_df = dask.datasets.timeseries(\"2018-01-01\", \"2023-01-01\")\n",
    "print(f\"df.npartitions: {ts_df.npartitions}\")\n",
    "print(f\"df.divisions: {len(ts_df.divisions)}\")"
   ]
  },
  {
   "cell_type": "markdown",
   "id": "669e4905",
   "metadata": {},
   "source": [
    "Dask DataFrame 没有记录每个 Partition 中有多少行，因此无法在全局角度支持基于行索引的操作，比如iloc"
   ]
  },
  {
   "cell_type": "code",
   "execution_count": 19,
   "id": "9aad5afc",
   "metadata": {
    "ExecuteTime": {
     "end_time": "2024-08-08T02:05:57.920440Z",
     "start_time": "2024-08-08T02:05:57.912424Z"
    }
   },
   "outputs": [
    {
     "name": "stdout",
     "output_type": "stream",
     "text": [
      "NotImplementedError, 'DataFrame.iloc' only supports selecting columns. It must be used like 'df.iloc[:, column_indexer]'.\n"
     ]
    }
   ],
   "source": [
    "try:\n",
    "    ts_df.iloc[3].compute()\n",
    "except Exception as e:\n",
    "    print(f\"{type(e).__name__}, {e}\")"
   ]
  },
  {
   "cell_type": "markdown",
   "id": "48fd5f67",
   "metadata": {},
   "source": [
    "但是可以**支持列标签来选择某些列**；或者**行标签上的 : 通配符选择所有的行**："
   ]
  },
  {
   "cell_type": "code",
   "execution_count": 20,
   "id": "4472f5ed",
   "metadata": {
    "ExecuteTime": {
     "end_time": "2024-08-08T02:07:18.105012Z",
     "start_time": "2024-08-08T02:06:27.805353Z"
    }
   },
   "outputs": [
    {
     "data": {
      "text/html": [
       "<div>\n",
       "<style scoped>\n",
       "    .dataframe tbody tr th:only-of-type {\n",
       "        vertical-align: middle;\n",
       "    }\n",
       "\n",
       "    .dataframe tbody tr th {\n",
       "        vertical-align: top;\n",
       "    }\n",
       "\n",
       "    .dataframe thead th {\n",
       "        text-align: right;\n",
       "    }\n",
       "</style>\n",
       "<table border=\"1\" class=\"dataframe\">\n",
       "  <thead>\n",
       "    <tr style=\"text-align: right;\">\n",
       "      <th></th>\n",
       "      <th>id</th>\n",
       "      <th>x</th>\n",
       "    </tr>\n",
       "    <tr>\n",
       "      <th>timestamp</th>\n",
       "      <th></th>\n",
       "      <th></th>\n",
       "    </tr>\n",
       "  </thead>\n",
       "  <tbody>\n",
       "    <tr>\n",
       "      <th>2018-01-01 00:00:00</th>\n",
       "      <td>1013</td>\n",
       "      <td>-0.820125</td>\n",
       "    </tr>\n",
       "    <tr>\n",
       "      <th>2018-01-01 00:00:01</th>\n",
       "      <td>939</td>\n",
       "      <td>0.309612</td>\n",
       "    </tr>\n",
       "    <tr>\n",
       "      <th>2018-01-01 00:00:02</th>\n",
       "      <td>1000</td>\n",
       "      <td>-0.031801</td>\n",
       "    </tr>\n",
       "    <tr>\n",
       "      <th>2018-01-01 00:00:03</th>\n",
       "      <td>1015</td>\n",
       "      <td>-0.070204</td>\n",
       "    </tr>\n",
       "    <tr>\n",
       "      <th>2018-01-01 00:00:04</th>\n",
       "      <td>970</td>\n",
       "      <td>0.776383</td>\n",
       "    </tr>\n",
       "    <tr>\n",
       "      <th>...</th>\n",
       "      <td>...</td>\n",
       "      <td>...</td>\n",
       "    </tr>\n",
       "    <tr>\n",
       "      <th>2022-12-31 23:59:55</th>\n",
       "      <td>1017</td>\n",
       "      <td>-0.248234</td>\n",
       "    </tr>\n",
       "    <tr>\n",
       "      <th>2022-12-31 23:59:56</th>\n",
       "      <td>1015</td>\n",
       "      <td>-0.640605</td>\n",
       "    </tr>\n",
       "    <tr>\n",
       "      <th>2022-12-31 23:59:57</th>\n",
       "      <td>990</td>\n",
       "      <td>0.444757</td>\n",
       "    </tr>\n",
       "    <tr>\n",
       "      <th>2022-12-31 23:59:58</th>\n",
       "      <td>1028</td>\n",
       "      <td>-0.651402</td>\n",
       "    </tr>\n",
       "    <tr>\n",
       "      <th>2022-12-31 23:59:59</th>\n",
       "      <td>975</td>\n",
       "      <td>-0.136669</td>\n",
       "    </tr>\n",
       "  </tbody>\n",
       "</table>\n",
       "<p>157766400 rows × 2 columns</p>\n",
       "</div>"
      ],
      "text/plain": [
       "                       id         x\n",
       "timestamp                          \n",
       "2018-01-01 00:00:00  1013 -0.820125\n",
       "2018-01-01 00:00:01   939  0.309612\n",
       "2018-01-01 00:00:02  1000 -0.031801\n",
       "2018-01-01 00:00:03  1015 -0.070204\n",
       "2018-01-01 00:00:04   970  0.776383\n",
       "...                   ...       ...\n",
       "2022-12-31 23:59:55  1017 -0.248234\n",
       "2022-12-31 23:59:56  1015 -0.640605\n",
       "2022-12-31 23:59:57   990  0.444757\n",
       "2022-12-31 23:59:58  1028 -0.651402\n",
       "2022-12-31 23:59:59   975 -0.136669\n",
       "\n",
       "[157766400 rows x 2 columns]"
      ]
     },
     "execution_count": 20,
     "metadata": {},
     "output_type": "execute_result"
    }
   ],
   "source": [
    "ts_df.iloc[:, [1, 2]].compute()"
   ]
  },
  {
   "cell_type": "markdown",
   "id": "13488196",
   "metadata": {},
   "source": [
    "因为没有记录每个 Partition 有多少条数据，Dask DataFrame 无法很好地支持一些操作，比如 median() 这样的百分位操作，因为这些操作需要：(1) 对数据排序；(2) 定位到特定的行。"
   ]
  },
  {
   "cell_type": "markdown",
   "id": "25e41668",
   "metadata": {},
   "source": [
    "## 设置索引列"
   ]
  },
  {
   "cell_type": "markdown",
   "id": "f563f9a1",
   "metadata": {},
   "source": [
    "### set_index()"
   ]
  },
  {
   "cell_type": "markdown",
   "id": "92d8b830",
   "metadata": {},
   "source": [
    "在 Dask DataFrame 中，我们可以使用 `set_index()` 方法手动设置某一列为索引列，这个操作除了设置某个字段为索引列，还会根据这个字段对全局数据进行排序，它打乱了原来每个 Partition 的数据排序，因此会有很高的成本。"
   ]
  },
  {
   "cell_type": "code",
   "execution_count": 21,
   "id": "445c2f1f",
   "metadata": {
    "ExecuteTime": {
     "end_time": "2024-08-08T02:08:51.946578Z",
     "start_time": "2024-08-08T02:08:51.868425Z"
    }
   },
   "outputs": [
    {
     "name": "stdout",
     "output_type": "stream",
     "text": [
      "  col1 col2\n",
      "0   01    a\n",
      "1   05    b\n",
      "2   02    c\n",
      "  col1 col2\n",
      "3   03    d\n",
      "4   04    e\n"
     ]
    }
   ],
   "source": [
    "def print_partitions(ddf):\n",
    "    for i in range(ddf.npartitions):\n",
    "        print(ddf.partitions[i].compute())\n",
    "\n",
    "df = pd.DataFrame(\n",
    "    {\"col1\": [\"01\", \"05\", \"02\", \"03\", \"04\"], \"col2\": [\"a\", \"b\", \"c\", \"d\", \"e\"]}\n",
    ")\n",
    "ddf = dd.from_pandas(df, npartitions=2)\n",
    "print_partitions(ddf)"
   ]
  },
  {
   "cell_type": "code",
   "execution_count": 22,
   "id": "ae285911",
   "metadata": {
    "ExecuteTime": {
     "end_time": "2024-08-08T02:09:09.252108Z",
     "start_time": "2024-08-08T02:09:08.868782Z"
    }
   },
   "outputs": [
    {
     "name": "stdout",
     "output_type": "stream",
     "text": [
      "     col2\n",
      "col1     \n",
      "01      a\n",
      "     col2\n",
      "col1     \n",
      "02      c\n",
      "03      d\n",
      "04      e\n",
      "05      b\n"
     ]
    }
   ],
   "source": [
    "ddf2 = ddf.set_index(\"col1\")\n",
    "print_partitions(ddf2)"
   ]
  },
  {
   "cell_type": "markdown",
   "id": "a2fcfc2a",
   "metadata": {},
   "source": [
    "这个例子设置 col1 列为索引列，2 个 Partition 中的数据被打乱重排。如果是在数据量很大的场景，全局数据排序和重分布的成本极高。因此应该尽量避免这个操作。set_index() 也有它的优势，它可以加速下游的计算。数据重分布又被称为 Shuffle."
   ]
  },
  {
   "cell_type": "markdown",
   "id": "d7511aa7",
   "metadata": {},
   "source": [
    "回到时间序列数据，该数据使用时间戳作为索引列。下面使用了两种方式对这份数据 set_index()。第一种没有设置 divisions，第二种设置了 divisions。\n",
    "\n",
    "第一种不设置 divisions 耗时很长，因为 Dask DataFrame 计算了所有 Partiton 的数据分布，并根据分布重排列了所有的 Partition，可以看到，Partition 的数目也发生了变化。"
   ]
  },
  {
   "cell_type": "code",
   "execution_count": 23,
   "id": "29028a11",
   "metadata": {
    "ExecuteTime": {
     "end_time": "2024-08-08T02:12:05.043158Z",
     "start_time": "2024-08-08T02:10:42.419870Z"
    }
   },
   "outputs": [
    {
     "name": "stdout",
     "output_type": "stream",
     "text": [
      "before set_index npartitions: 1826\n",
      "after set_index npartitions: 163\n",
      "CPU times: total: 27.6 s\n",
      "Wall time: 1min 22s\n"
     ]
    }
   ],
   "source": [
    "%%time\n",
    "ts_df1 = ts_df.set_index(\"id\")\n",
    "nu =  ts_df1.loc[[1001]].name.nunique().compute()\n",
    "print(f\"before set_index npartitions: {ts_df.npartitions}\")\n",
    "print(f\"after set_index npartitions: {ts_df1.npartitions}\")"
   ]
  },
  {
   "cell_type": "markdown",
   "id": "9af6f9b0",
   "metadata": {},
   "source": [
    "第二种方式先提前获取了 divisions，然后将这些 divisions 用于设置 set_index()。设定 division 的 set_index() 速度更快。"
   ]
  },
  {
   "cell_type": "code",
   "execution_count": 26,
   "id": "e29d25ce",
   "metadata": {
    "ExecuteTime": {
     "end_time": "2024-08-08T02:13:48.797208Z",
     "start_time": "2024-08-08T02:13:20.323233Z"
    }
   },
   "outputs": [],
   "source": [
    "dask_computed_divisions = ts_df.set_index(\"id\").divisions\n",
    "unique_divisions = list(dict.fromkeys(list(dask_computed_divisions)))"
   ]
  },
  {
   "cell_type": "code",
   "execution_count": 27,
   "id": "0849d7e3",
   "metadata": {
    "ExecuteTime": {
     "end_time": "2024-08-08T02:14:55.228316Z",
     "start_time": "2024-08-08T02:13:58.644301Z"
    }
   },
   "outputs": [
    {
     "name": "stdout",
     "output_type": "stream",
     "text": [
      "CPU times: total: 13.2 s\n",
      "Wall time: 56.5 s\n"
     ]
    }
   ],
   "source": [
    "%%time\n",
    "ts_df2 = ts_df.set_index(\"id\", divisions=unique_divisions)\n",
    "nuids = ts_df2.loc[[1001]].name.nunique().compute()"
   ]
  },
  {
   "cell_type": "markdown",
   "id": "69a20690",
   "metadata": {},
   "source": [
    "如果不设置索引列，直接对 id 列进行查询，发现反而更快。"
   ]
  },
  {
   "cell_type": "code",
   "execution_count": 25,
   "id": "d1dbb907",
   "metadata": {
    "ExecuteTime": {
     "end_time": "2024-08-08T02:13:01.762126Z",
     "start_time": "2024-08-08T02:12:40.657346Z"
    }
   },
   "outputs": [
    {
     "name": "stdout",
     "output_type": "stream",
     "text": [
      "CPU times: total: 5.89 s\n",
      "Wall time: 21.1 s\n"
     ]
    }
   ],
   "source": [
    "%%time\n",
    "nu = ts_df.loc[ts_df[\"id\"] == 1001].name.nunique().compute()"
   ]
  },
  {
   "cell_type": "markdown",
   "id": "bd4d84a6",
   "metadata": {},
   "source": [
    "所以 Dask DataFrame 要慎重使用 set_index()，如果 set_index() 之后有很多以下操作，可以考虑使用 set_index()。\n",
    "\n",
    "- 使用 loc 对索引列进行过滤\n",
    "\n",
    "- 两个 Dask DataFrame 在索引列上合并（merge()）\n",
    "\n",
    "- 在索引列上进行分组聚合（groupby()）"
   ]
  },
  {
   "cell_type": "markdown",
   "id": "888f28e2",
   "metadata": {},
   "source": [
    "### reset_index()"
   ]
  },
  {
   "cell_type": "markdown",
   "id": "42c6d9e9",
   "metadata": {},
   "source": [
    "在 pandas 中，groupby 默认 as_index=True，分组字段经过 groupby() 之后成为索引列。索引列在 DataFrame 中并不是“正式”的字段，如果分组聚合之后只有一个“正式”字段（不考虑索引列），分组聚合的结果就成了一个 Series。比如下面 pandas 的例子，Origin 列就是分组字段，如果不设置 as_index=False，groupby(\"Origin\", as_index=False)[\"DepDelay\"].mean() 生成的是一个 Series。"
   ]
  },
  {
   "cell_type": "code",
   "execution_count": 31,
   "id": "bd5fbeeb",
   "metadata": {
    "ExecuteTime": {
     "end_time": "2024-08-08T02:17:14.056144Z",
     "start_time": "2024-08-08T02:17:13.387043Z"
    }
   },
   "outputs": [
    {
     "data": {
      "text/html": [
       "<div>\n",
       "<style scoped>\n",
       "    .dataframe tbody tr th:only-of-type {\n",
       "        vertical-align: middle;\n",
       "    }\n",
       "\n",
       "    .dataframe tbody tr th {\n",
       "        vertical-align: top;\n",
       "    }\n",
       "\n",
       "    .dataframe thead th {\n",
       "        text-align: right;\n",
       "    }\n",
       "</style>\n",
       "<table border=\"1\" class=\"dataframe\">\n",
       "  <thead>\n",
       "    <tr style=\"text-align: right;\">\n",
       "      <th></th>\n",
       "      <th>Origin</th>\n",
       "      <th>AvgDepDelay</th>\n",
       "    </tr>\n",
       "  </thead>\n",
       "  <tbody>\n",
       "    <tr>\n",
       "      <th>2</th>\n",
       "      <td>LGA</td>\n",
       "      <td>5.726304</td>\n",
       "    </tr>\n",
       "    <tr>\n",
       "      <th>0</th>\n",
       "      <td>EWR</td>\n",
       "      <td>6.916220</td>\n",
       "    </tr>\n",
       "    <tr>\n",
       "      <th>1</th>\n",
       "      <td>JFK</td>\n",
       "      <td>9.311532</td>\n",
       "    </tr>\n",
       "  </tbody>\n",
       "</table>\n",
       "</div>"
      ],
      "text/plain": [
       "  Origin  AvgDepDelay\n",
       "2    LGA     5.726304\n",
       "0    EWR     6.916220\n",
       "1    JFK     9.311532"
      ]
     },
     "execution_count": 31,
     "metadata": {},
     "output_type": "execute_result"
    }
   ],
   "source": [
    "# pandas\n",
    "file_path = os.path.join('../../../../data/20.others/nyc_flights/nyc-flights/', \"1991.csv\")\n",
    "pdf = pd.read_csv(file_path,\n",
    "                 parse_dates={'Date': [0, 1, 2]},\n",
    "                 dtype={'TailNum': object,\n",
    "                        'CRSElapsedTime': float,\n",
    "                        'Cancelled': bool})\n",
    "uncancelled_pdf = pdf[pdf[\"Cancelled\"] == False]\n",
    "avg_pdf = uncancelled_pdf.groupby(\"Origin\", as_index=False)[\"DepDelay\"].mean()\n",
    "avg_pdf.columns = [\"Origin\", \"AvgDepDelay\"]\n",
    "avg_pdf.sort_values(\"AvgDepDelay\")"
   ]
  },
  {
   "cell_type": "markdown",
   "id": "337acbeb",
   "metadata": {},
   "source": [
    "或者是 reset_index()，来取消索引列，分组字段会成为 DataFrame 的一个正式的字段。"
   ]
  },
  {
   "cell_type": "code",
   "execution_count": 32,
   "id": "097b598a",
   "metadata": {
    "ExecuteTime": {
     "end_time": "2024-08-08T02:18:04.188959Z",
     "start_time": "2024-08-08T02:18:04.167639Z"
    }
   },
   "outputs": [
    {
     "data": {
      "text/html": [
       "<div>\n",
       "<style scoped>\n",
       "    .dataframe tbody tr th:only-of-type {\n",
       "        vertical-align: middle;\n",
       "    }\n",
       "\n",
       "    .dataframe tbody tr th {\n",
       "        vertical-align: top;\n",
       "    }\n",
       "\n",
       "    .dataframe thead th {\n",
       "        text-align: right;\n",
       "    }\n",
       "</style>\n",
       "<table border=\"1\" class=\"dataframe\">\n",
       "  <thead>\n",
       "    <tr style=\"text-align: right;\">\n",
       "      <th></th>\n",
       "      <th>Origin</th>\n",
       "      <th>AvgDepDelay</th>\n",
       "    </tr>\n",
       "  </thead>\n",
       "  <tbody>\n",
       "    <tr>\n",
       "      <th>2</th>\n",
       "      <td>LGA</td>\n",
       "      <td>5.726304</td>\n",
       "    </tr>\n",
       "    <tr>\n",
       "      <th>0</th>\n",
       "      <td>EWR</td>\n",
       "      <td>6.916220</td>\n",
       "    </tr>\n",
       "    <tr>\n",
       "      <th>1</th>\n",
       "      <td>JFK</td>\n",
       "      <td>9.311532</td>\n",
       "    </tr>\n",
       "  </tbody>\n",
       "</table>\n",
       "</div>"
      ],
      "text/plain": [
       "  Origin  AvgDepDelay\n",
       "2    LGA     5.726304\n",
       "0    EWR     6.916220\n",
       "1    JFK     9.311532"
      ]
     },
     "execution_count": 32,
     "metadata": {},
     "output_type": "execute_result"
    }
   ],
   "source": [
    "avg_pdf = uncancelled_pdf.groupby(\"Origin\")[\"DepDelay\"].mean().reset_index()\n",
    "avg_pdf.columns = [\"Origin\", \"AvgDepDelay\"]\n",
    "avg_pdf.sort_values(\"AvgDepDelay\")"
   ]
  },
  {
   "cell_type": "markdown",
   "id": "e71e26e8",
   "metadata": {},
   "source": [
    "Dask DataFrame 的 groupby() 不支持 as_index 参数。Dask DataFrame 只能使用 reset_index() 来取消索引列。"
   ]
  },
  {
   "cell_type": "markdown",
   "id": "0cd5cbac",
   "metadata": {},
   "source": [
    "# map_partitions"
   ]
  },
  {
   "attachments": {
    "image.png": {
     "image/png": "[encoded data removed]"
    }
   },
   "cell_type": "markdown",
   "id": "b485650a",
   "metadata": {},
   "source": [
    "除了3中提到的一些需要通信的计算外，有一种最简单的并行方式，英文术语为 Embarrassingly Parallel，中文可翻译为易并行。它指的是该类计算不需要太多跨 Worker 的协调和通信。比如，对某个字段加一，每个 Worker 内执行加法操作即可，Worker 之间没有通信的开销。Dask DataFrame 中可以使用 map_partitions(func) 来做这类 Embarrassingly Parallel 的操作。map_partitions(func) 的参数是一个 func，这个 func 将在每个 pandas DataFrame 上执行，func 内可以使用 pandas DataFrame 的各类操作。如下图所示，map_partitions(func) 对原来的 pandas DataFrame 进行了转换操作。\n",
    "\n",
    "![image.png](attachment:image.png)"
   ]
  },
  {
   "cell_type": "raw",
   "id": "bd0c1467",
   "metadata": {},
   "source": [
    "def transform(df):\n",
    "    df[\"trip_duration\"] = (df[\"tpep_dropoff_datetime\"] - df[\"tpep_pickup_datetime\"]).dt.seconds\n",
    "    # 将 `trip_duration` 挪到前面\n",
    "    dur_column = df.pop('trip_duration')\n",
    "    df.insert(1, dur_column.name, dur_column)\n",
    "    return df\n",
    "\n",
    "ddf = ddf.map_partitions(transform)\n",
    "ddf.compute()\n",
    "ddf.head(5)"
   ]
  },
  {
   "cell_type": "markdown",
   "id": "2ffc615a",
   "metadata": {},
   "source": [
    "Dask DataFrame 的某些 API 是 Embarrassingly Parallel 的，它的底层就是使用 map_partitions() 实现的。\n",
    "\n",
    "3.2提到过，Dask DataFrame 会在某个列（索引列）上进行切分，但如果 map_partitions() 对这些索引列做了改动，需要 clear_divisions() 或者重新 set_index()。"
   ]
  },
  {
   "cell_type": "code",
   "execution_count": 34,
   "id": "8dab3761",
   "metadata": {
    "ExecuteTime": {
     "end_time": "2024-08-08T02:23:08.863760Z",
     "start_time": "2024-08-08T02:23:08.817557Z"
    }
   },
   "outputs": [
    {
     "data": {
      "text/html": [
       "<div><strong>Dask DataFrame Structure:</strong></div>\n",
       "<div>\n",
       "<style scoped>\n",
       "    .dataframe tbody tr th:only-of-type {\n",
       "        vertical-align: middle;\n",
       "    }\n",
       "\n",
       "    .dataframe tbody tr th {\n",
       "        vertical-align: top;\n",
       "    }\n",
       "\n",
       "    .dataframe thead th {\n",
       "        text-align: right;\n",
       "    }\n",
       "</style>\n",
       "<table border=\"1\" class=\"dataframe\">\n",
       "  <thead>\n",
       "    <tr style=\"text-align: right;\">\n",
       "      <th></th>\n",
       "      <th>col1</th>\n",
       "      <th>col2</th>\n",
       "    </tr>\n",
       "    <tr>\n",
       "      <th>npartitions=2</th>\n",
       "      <th></th>\n",
       "      <th></th>\n",
       "    </tr>\n",
       "  </thead>\n",
       "  <tbody>\n",
       "    <tr>\n",
       "      <th></th>\n",
       "      <td>object</td>\n",
       "      <td>object</td>\n",
       "    </tr>\n",
       "    <tr>\n",
       "      <th></th>\n",
       "      <td>...</td>\n",
       "      <td>...</td>\n",
       "    </tr>\n",
       "    <tr>\n",
       "      <th></th>\n",
       "      <td>...</td>\n",
       "      <td>...</td>\n",
       "    </tr>\n",
       "  </tbody>\n",
       "</table>\n",
       "</div>\n",
       "<div>Dask Name: from_pandas, 1 graph layer</div>"
      ],
      "text/plain": [
       "Dask DataFrame Structure:\n",
       "                 col1    col2\n",
       "npartitions=2                \n",
       "               object  object\n",
       "                  ...     ...\n",
       "                  ...     ...\n",
       "Dask Name: from_pandas, 1 graph layer"
      ]
     },
     "execution_count": 34,
     "metadata": {},
     "output_type": "execute_result"
    }
   ],
   "source": [
    "ddf.clear_divisions()"
   ]
  },
  {
   "cell_type": "markdown",
   "id": "3281ccdb",
   "metadata": {},
   "source": [
    "# Shuffle"
   ]
  },
  {
   "cell_type": "markdown",
   "id": "d7b641d8",
   "metadata": {},
   "source": [
    "对于一个分布式系统，在不同 Worker 之间交换数据被称为 Shuffle，或者说 Shuffle 将数据从某个 Partition 移动到其他 Partition。有些 Shuffle 是显式的，比如 repartition，从 API 名称可以看出它会在不同的 Partition 之间交换数据；有些 Shuffle 是隐式的，比如 sort，merge 或 groupby 背后都有 Shuffle 过程。Shuffle 一直是分布式大数据计算领域的难题之一，像 sort、merge 或 groupby 这些 pandas 算子在单机上实现起来相对简单，但是在大数据分布式计算场景，实现起来并不那么容易。"
   ]
  },
  {
   "cell_type": "markdown",
   "id": "6a08d34e",
   "metadata": {},
   "source": [
    "## Shuffle 实现机制"
   ]
  },
  {
   "cell_type": "markdown",
   "id": "f68ee158",
   "metadata": {},
   "source": [
    "之前介绍了 Dask 主要基于 Task Graph 构建， Dask 的 Task Graph 是一个有向无环图。有向边表示下游 Partition 的输入依赖上游 Partition 的输出，任何数据移动都会在 Task Graph 上生成一条有向边。很多计算任务的 Shuffle 有大量的数据移动，有的场景下，所有数据都会打散，也意味着上游会有多条指向下游的边。这种基于 Task Graph 的 Shuffle 会使得 Task Graph 非常庞大，Task Graph 过大会使得 Dask Scheduler 的负载过重，进一步导致计算极其缓慢。如 图左侧所示，tasks 是基于 Task Graph 的机制，上游和下游之间建立了有向边，如果有中间层（通常因为上游流入的数据太大，需要将数据进一步切分成多个 Partition），那么中间层还会进一步增加 Task Graph 的复杂程度。\n",
    "\n",
    "为解决 Task Graph 过大的问题，Dask 设计了一种点对点（Peer-to-peer）的 Shuffle 机制。如 图右侧所示，p2p 在 Task Graph 中引入了一个虚拟的障碍（Barrier）节点。Barrier 并不是一个真正的 Task，引入 Barrier 节点可以使 Task Graph 复杂度显著下降。"
   ]
  },
  {
   "attachments": {
    "image.png": {
     "image/png": "[encoded data removed]"
    }
   },
   "cell_type": "markdown",
   "id": "23e338be",
   "metadata": {},
   "source": [
    "![image.png](attachment:image.png)"
   ]
  },
  {
   "cell_type": "markdown",
   "id": "3b86924c",
   "metadata": {},
   "source": [
    "目前，Dask 提供了两类 Shuffle 实现策略：单机和分布式。\n",
    "\n",
    "单机。如果数据大小超出了内存空间，可以将中间数据写到磁盘上。单机场景默认使用这种策略。\n",
    "\n",
    "分布式。如 图 4.5 所示，分布式场景提供了两种 Shuffle 策略，tasks 和 p2p。tasks 是基于 Task Graph 的 Shuffle 实现，很多场景效率比较低，会遇到刚提到的 Task Graph 过大的问题。p2p 基于点对点的 Shuffle 实现，Task Graph 的复杂性显著降低，性能也显著提升。Dask 会优先选择 p2p。\n",
    "\n",
    "`dask.config.set({\"dataframe.shuffle.method\": \"p2p\"})` 对当前 Python 脚本的所有计算都使用 p2p 方式进行 Shuffle。也可以针对某个算子设置 Shuffle 策略，比如 ddf.merge(shuffle_method=\"p2p\")。"
   ]
  },
  {
   "cell_type": "markdown",
   "id": "020fb250",
   "metadata": {},
   "source": [
    "## 数据重分布"
   ]
  },
  {
   "cell_type": "markdown",
   "id": "d59c7f3d",
   "metadata": {},
   "source": [
    "Dask DataFrame 提供了三种数据重分布方法：set_index()，repartition() 和 shuffle()，这三种都可能在全局层面对数据进行重分布。\n",
    "\n",
    "|方法名|用途|是否修改索引|是否可以修改 Partition 数量|\n",
    "|---|---|---|---|\n",
    "|DataFrame.set_index()|修改索引列，加速后续基于索引列的计算|是|是|\n",
    "|DataFrame.repartition()|修改 Partition 数量，多用于数据倾斜场景|否|是|\n",
    "DataFrame.shuffle()|将相同的值归结到同一个 Partition|否|是|"
   ]
  },
  {
   "cell_type": "markdown",
   "id": "21846964",
   "metadata": {},
   "source": [
    "我们提过，set_index() 将某字段设置为索引列，后续一系列计算非常依赖这个字段，set_index() 能显著加速后续计算。repartition() 主要解决数据倾斜的问题，即某些 Partiton 上的数据过大，过大的 Partition 有可能导致内存不足。"
   ]
  },
  {
   "cell_type": "markdown",
   "id": "8e11bd2f",
   "metadata": {},
   "source": [
    "## groupby"
   ]
  },
  {
   "attachments": {
    "image.png": {
     "image/png": "[encoded data removed]"
    }
   },
   "cell_type": "markdown",
   "id": "7452eb7e",
   "metadata": {},
   "source": [
    "我们以 groupby(by=key).sum() 为例，了解其背后的 Shuffle 过程。下图展示了计算过程，它主要有三个阶段：分组（Split）、组内聚合（Apply Aggregation，比如 sum）、组间聚合（Combine）。\n",
    "\n",
    "![image.png](attachment:image.png)\n",
    "\n",
    "分布式场景下，不同的数据分布在不同的 Partition 下，涉及到 Shuffle 的阶段有：\n",
    "\n",
    "- 分组：按照 by 指定的分组字段进行分组，相同的分组字段被分到一起，这里涉及到大量 Shuffle 操作。\n",
    "\n",
    "- 组内聚合：组内聚合的 Shuffle 操作相对比较少。\n",
    "\n",
    "- 组间聚合：组间聚合的 Shuffle 操作相对比较少。\n",
    "\n",
    "根据 Shuffle 操作的数量，不难得出结论：\n",
    "\n",
    "- groupby(by=indexed_columns).agg() 和 groupby(by=indexed_columns).apply(user_def_fn) 性能最好。indexed_columns 指的是分组字段 by 是索引列；agg 指的是 Dask DataFrame 提供的官方的 sum，mean 等聚合方法。因为 indexed_columns 是排过序的了，可以很快地对 indexed_columns 进行分组和数据分发。\n",
    "\n",
    "- groupby(by=non_indexed_columns).agg() 的数据交换量要更大一些，Dask 官方提供的 agg 方法做过一些优化。\n",
    "\n",
    "- groupby(by=non_indexed_columns).apply(user_def_fn) 的成本最高。它既要对所有数据进行交换，又要执行用户自定义的函数，用户自定义函数的效率比 Dask 官方的低。"
   ]
  },
  {
   "cell_type": "code",
   "execution_count": null,
   "id": "7ee19f6c",
   "metadata": {},
   "outputs": [],
   "source": []
  }
 ],
 "metadata": {
  "hide_input": false,
  "kernelspec": {
   "display_name": "Python 3 (ipykernel)",
   "language": "python",
   "name": "python3"
  },
  "language_info": {
   "codemirror_mode": {
    "name": "ipython",
    "version": 3
   },
   "file_extension": ".py",
   "mimetype": "text/x-python",
   "name": "python",
   "nbconvert_exporter": "python",
   "pygments_lexer": "ipython3",
   "version": "3.12.7"
  },
  "toc": {
   "base_numbering": 1,
   "nav_menu": {},
   "number_sections": true,
   "sideBar": true,
   "skip_h1_title": false,
   "title_cell": "Table of Contents",
   "title_sidebar": "Contents",
   "toc_cell": false,
   "toc_position": {
    "height": "calc(100% - 180px)",
    "left": "10px",
    "top": "150px",
    "width": "210.18px"
   },
   "toc_section_display": true,
   "toc_window_display": true
  },
  "varInspector": {
   "cols": {
    "lenName": 16,
    "lenType": 16,
    "lenVar": 40
   },
   "kernels_config": {
    "python": {
     "delete_cmd_postfix": "",
     "delete_cmd_prefix": "del ",
     "library": "var_list.py",
     "varRefreshCmd": "print(var_dic_list())"
    },
    "r": {
     "delete_cmd_postfix": ") ",
     "delete_cmd_prefix": "rm(",
     "library": "var_list.r",
     "varRefreshCmd": "cat(var_dic_list()) "
    }
   },
   "types_to_exclude": [
    "module",
    "function",
    "builtin_function_or_method",
    "instance",
    "_Feature"
   ],
   "window_display": false
  }
 },
 "nbformat": 4,
 "nbformat_minor": 5
}
