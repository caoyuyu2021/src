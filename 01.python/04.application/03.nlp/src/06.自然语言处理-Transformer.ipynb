{
 "cells": [
  {
   "cell_type": "markdown",
   "id": "2bf1d02d-8ef7-41e0-ad85-d4ef343b337f",
   "metadata": {},
   "source": [
    "# 基于Transformer的自然语言处理"
   ]
  },
  {
   "cell_type": "code",
   "execution_count": 1,
   "id": "768031db-7df8-451a-a0b1-742256b4f03b",
   "metadata": {
    "execution": {
     "iopub.execute_input": "2025-04-22T08:29:32.877645Z",
     "iopub.status.busy": "2025-04-22T08:29:32.876645Z",
     "iopub.status.idle": "2025-04-22T08:29:36.003215Z",
     "shell.execute_reply": "2025-04-22T08:29:36.003215Z",
     "shell.execute_reply.started": "2025-04-22T08:29:32.877645Z"
    }
   },
   "outputs": [
    {
     "name": "stderr",
     "output_type": "stream",
     "text": [
      "C:\\Users\\caoyu\\.conda\\envs\\nlp\\Lib\\site-packages\\tqdm\\auto.py:21: TqdmWarning: IProgress not found. Please update jupyter and ipywidgets. See https://ipywidgets.readthedocs.io/en/stable/user_install.html\n",
      "  from .autonotebook import tqdm as notebook_tqdm\n",
      "The cache for model files in Transformers v4.22.0 has been updated. Migrating your old cache. This is a one-time only operation. You can interrupt this and resume the migration later on by calling `transformers.utils.move_cache()`.\n",
      "0it [00:00, ?it/s]\n"
     ]
    }
   ],
   "source": [
    "import pandas as pd\n",
    "import numpy as np\n",
    "from pandas import DataFrame\n",
    "from datetime import timedelta\n",
    "from numpy import ndarray\n",
    "from typing import Union, List, Dict\n",
    "from sklearn.preprocessing import MinMaxScaler\n",
    "import os\n",
    "import re\n",
    "import torch\n",
    "import torch.nn as nn\n",
    "import torch.optim as optim\n",
    "from torch.utils.data import Dataset, DataLoader\n",
    "from transformers import BertTokenizer\n",
    "from sklearn.model_selection import train_test_split\n",
    "import torch.nn.functional as F\n",
    "from tqdm import tqdm  # 打印进度条\n",
    "import math\n",
    "import matplotlib.pyplot as plt\n",
    "import seaborn as sns\n",
    "from typing import List\n",
    "from pandas.tseries import offsets\n",
    "from pandas.tseries.frequencies import to_offset\n",
    "from sklearn.metrics import r2_score, mean_squared_error\n",
    "import joblib\n",
    "import warnings\n",
    "\n",
    "warnings.filterwarnings(\"ignore\")\n",
    "plt.rcParams['font.sans-serif'] = ['SimHei']  # 显示中文标签\n",
    "plt.rcParams['axes.unicode_minus'] = False"
   ]
  },
  {
   "cell_type": "markdown",
   "id": "8ebb0eea-c0da-489a-8b58-74968e5350de",
   "metadata": {},
   "source": [
    "在自然语言处理（NLP）领域，Transformer模型是一种深度学习模型架构，广泛应用于机器翻译、文本生成、情感分析等任务中。Transformer在2017年由Vaswani等人提出，突破了传统RNN模型的限制。它的核心特点是完全基于自注意力机制（Self-Attention Mechanism），并且可以并行处理输入数据，从而显著提高了模型的效率和性能。"
   ]
  },
  {
   "cell_type": "markdown",
   "id": "3d877469-a19d-45bb-a059-d0197b66fe0f",
   "metadata": {},
   "source": [
    "Transformer的主要组件包括编码器（Encoder）和解码器（Decoder），两者都由多个相同的层叠加而成。每一层的结构相似，包含自注意力和前馈神经网络（Feed-Forward Neural Network）。常见的NLP任务通常只使用编码器部分，比如BERT，而生成任务（如机器翻译）则会用到完整的编码-解码结构，例如GPT和T5等模型。"
   ]
  },
  {
   "cell_type": "markdown",
   "id": "5f59e333-926c-4078-8ec9-684310fa414e",
   "metadata": {},
   "source": [
    "## 多分类-预训练词向量"
   ]
  },
  {
   "cell_type": "markdown",
   "id": "2b5a8162-85a2-4318-b99c-e467b8409afe",
   "metadata": {},
   "source": [
    "### 数据准备"
   ]
  },
  {
   "cell_type": "code",
   "execution_count": 2,
   "id": "90d32d39-65b0-4a35-bc86-cd28e6b06e49",
   "metadata": {
    "execution": {
     "iopub.execute_input": "2025-04-22T08:29:48.848135Z",
     "iopub.status.busy": "2025-04-22T08:29:48.848135Z",
     "iopub.status.idle": "2025-04-22T08:29:48.889868Z",
     "shell.execute_reply": "2025-04-22T08:29:48.888865Z",
     "shell.execute_reply.started": "2025-04-22T08:29:48.848135Z"
    }
   },
   "outputs": [
    {
     "data": {
      "text/html": [
       "<div>\n",
       "<style scoped>\n",
       "    .dataframe tbody tr th:only-of-type {\n",
       "        vertical-align: middle;\n",
       "    }\n",
       "\n",
       "    .dataframe tbody tr th {\n",
       "        vertical-align: top;\n",
       "    }\n",
       "\n",
       "    .dataframe thead th {\n",
       "        text-align: right;\n",
       "    }\n",
       "</style>\n",
       "<table border=\"1\" class=\"dataframe\">\n",
       "  <thead>\n",
       "    <tr style=\"text-align: right;\">\n",
       "      <th></th>\n",
       "      <th>label</th>\n",
       "      <th>review</th>\n",
       "    </tr>\n",
       "  </thead>\n",
       "  <tbody>\n",
       "    <tr>\n",
       "      <th>0</th>\n",
       "      <td>1</td>\n",
       "      <td>距离川沙公路较近,但是公交指示不对,如果是\"蔡陆线\"的话,会非常麻烦.建议用别的路线.房间较...</td>\n",
       "    </tr>\n",
       "    <tr>\n",
       "      <th>1</th>\n",
       "      <td>1</td>\n",
       "      <td>商务大床房，房间很大，床有2M宽，整体感觉经济实惠不错!</td>\n",
       "    </tr>\n",
       "    <tr>\n",
       "      <th>2</th>\n",
       "      <td>1</td>\n",
       "      <td>早餐太差，无论去多少人，那边也不加食品的。酒店应该重视一下这个问题了。房间本身很好。</td>\n",
       "    </tr>\n",
       "    <tr>\n",
       "      <th>3</th>\n",
       "      <td>1</td>\n",
       "      <td>宾馆在小街道上，不大好找，但还好北京热心同胞很多~宾馆设施跟介绍的差不多，房间很小，确实挺小...</td>\n",
       "    </tr>\n",
       "    <tr>\n",
       "      <th>4</th>\n",
       "      <td>1</td>\n",
       "      <td>CBD中心,周围没什么店铺,说5星有点勉强.不知道为什么卫生间没有电吹风</td>\n",
       "    </tr>\n",
       "    <tr>\n",
       "      <th>...</th>\n",
       "      <td>...</td>\n",
       "      <td>...</td>\n",
       "    </tr>\n",
       "    <tr>\n",
       "      <th>7761</th>\n",
       "      <td>0</td>\n",
       "      <td>尼斯酒店的几大特点：噪音大、环境差、配置低、服务效率低。如：1、隔壁歌厅的声音闹至午夜3点许...</td>\n",
       "    </tr>\n",
       "    <tr>\n",
       "      <th>7762</th>\n",
       "      <td>0</td>\n",
       "      <td>盐城来了很多次，第一次住盐阜宾馆，我的确很失望整个墙壁黑咕隆咚的，好像被烟熏过一样家具非常的...</td>\n",
       "    </tr>\n",
       "    <tr>\n",
       "      <th>7763</th>\n",
       "      <td>0</td>\n",
       "      <td>看照片觉得还挺不错的，又是4星级的，但入住以后除了后悔没有别的，房间挺大但空空的，早餐是有但...</td>\n",
       "    </tr>\n",
       "    <tr>\n",
       "      <th>7764</th>\n",
       "      <td>0</td>\n",
       "      <td>我们去盐城的时候那里的最低气温只有4度，晚上冷得要死，居然还不开空调，投诉到酒店客房部，得到...</td>\n",
       "    </tr>\n",
       "    <tr>\n",
       "      <th>7765</th>\n",
       "      <td>0</td>\n",
       "      <td>说实在的我很失望，之前看了其他人的点评后觉得还可以才去的，结果让我们大跌眼镜。我想这家酒店以...</td>\n",
       "    </tr>\n",
       "  </tbody>\n",
       "</table>\n",
       "<p>7765 rows × 2 columns</p>\n",
       "</div>"
      ],
      "text/plain": [
       "      label                                             review\n",
       "0         1  距离川沙公路较近,但是公交指示不对,如果是\"蔡陆线\"的话,会非常麻烦.建议用别的路线.房间较...\n",
       "1         1                       商务大床房，房间很大，床有2M宽，整体感觉经济实惠不错!\n",
       "2         1         早餐太差，无论去多少人，那边也不加食品的。酒店应该重视一下这个问题了。房间本身很好。\n",
       "3         1  宾馆在小街道上，不大好找，但还好北京热心同胞很多~宾馆设施跟介绍的差不多，房间很小，确实挺小...\n",
       "4         1               CBD中心,周围没什么店铺,说5星有点勉强.不知道为什么卫生间没有电吹风\n",
       "...     ...                                                ...\n",
       "7761      0  尼斯酒店的几大特点：噪音大、环境差、配置低、服务效率低。如：1、隔壁歌厅的声音闹至午夜3点许...\n",
       "7762      0  盐城来了很多次，第一次住盐阜宾馆，我的确很失望整个墙壁黑咕隆咚的，好像被烟熏过一样家具非常的...\n",
       "7763      0  看照片觉得还挺不错的，又是4星级的，但入住以后除了后悔没有别的，房间挺大但空空的，早餐是有但...\n",
       "7764      0  我们去盐城的时候那里的最低气温只有4度，晚上冷得要死，居然还不开空调，投诉到酒店客房部，得到...\n",
       "7765      0  说实在的我很失望，之前看了其他人的点评后觉得还可以才去的，结果让我们大跌眼镜。我想这家酒店以...\n",
       "\n",
       "[7765 rows x 2 columns]"
      ]
     },
     "execution_count": 2,
     "metadata": {},
     "output_type": "execute_result"
    }
   ],
   "source": [
    "# 加载语料，酒店评论\n",
    "data = pd.read_csv('../../../../../data/03.nlp/ChineseNlpCorpus/datasets/ChnSentiCorp_htl_all/ChnSentiCorp_htl_all.csv')\n",
    "data = data.dropna()\n",
    "data"
   ]
  },
  {
   "cell_type": "code",
   "execution_count": 3,
   "id": "8d1a0a6a-4337-4007-9524-4b306bf9c596",
   "metadata": {
    "execution": {
     "iopub.execute_input": "2025-04-22T08:29:49.518579Z",
     "iopub.status.busy": "2025-04-22T08:29:49.518579Z",
     "iopub.status.idle": "2025-04-22T08:29:49.522618Z",
     "shell.execute_reply": "2025-04-22T08:29:49.522618Z",
     "shell.execute_reply.started": "2025-04-22T08:29:49.518579Z"
    }
   },
   "outputs": [],
   "source": [
    "def generator(data_list, train_ratio, tokenizer, batch_size, max_length: int = 128):\n",
    "    \"\"\"\n",
    "    读取数据，并对数据进行划分，生成加载器\n",
    "\n",
    "    参数说明\n",
    "    ----------\n",
    "    data_list : {list[DataFrame]}\n",
    "        输入数据，包含数据和标签\n",
    "    train_ratio : {float}\n",
    "        用于训练的数据集占比:将数据按照一定比例进行切分，取值范围为(0,1)\n",
    "    tokenizer : {}\n",
    "        分词器\n",
    "    batch_size : {int} \n",
    "        输入数据的批次大小，正整数\n",
    "    max_length : {int} \n",
    "        最大文本截取长度，正整数\n",
    "\n",
    "    返回值\n",
    "    -------\n",
    "    data_loader : {torch.utils.data.dataloader.DataLoader}\n",
    "        数据加载器\n",
    "    \"\"\"\n",
    "    # 获取数据\n",
    "    texts = data_list[0]  # 特征\n",
    "    labels = data_list[1]  # 目标\n",
    "    \n",
    "    # 划分数据\n",
    "    train_texts, val_texts, train_labels, val_labels = train_test_split(texts, labels, test_size=1-train_ratio, random_state=42)\n",
    "\n",
    "    # 定义数据集的Dataset类\n",
    "    class CustomDataset(Dataset):\n",
    "        def __init__(self, texts, labels, tokenizer, max_length=max_length):\n",
    "            self.texts = texts\n",
    "            self.labels = labels\n",
    "            self.tokenizer = tokenizer\n",
    "            self.max_length = max_length\n",
    "    \n",
    "        def __len__(self):\n",
    "            return len(self.labels)\n",
    "    \n",
    "        def __getitem__(self, idx):\n",
    "            text = self.texts[idx]\n",
    "            label = self.labels[idx]\n",
    "            \n",
    "            # 对文本进行token化，并转换为输入id和attention mask\n",
    "            encoding = self.tokenizer(\n",
    "                text,\n",
    "                truncation=True,\n",
    "                padding='max_length',\n",
    "                max_length=self.max_length,\n",
    "                return_tensors=\"pt\"\n",
    "            )\n",
    "            return {\n",
    "                'input_ids': encoding['input_ids'].squeeze(0),\n",
    "                'attention_mask': encoding['attention_mask'].squeeze(0),\n",
    "                'labels': torch.tensor(label, dtype=torch.long)\n",
    "            }\n",
    "\n",
    "    # 创建Dataset和DataLoader\n",
    "    train_dataset = CustomDataset(train_texts, train_labels, tokenizer, max_length=max_length)\n",
    "    val_dataset = CustomDataset(val_texts, val_labels, tokenizer, max_length=max_length)\n",
    "\n",
    "    train_loader = DataLoader(train_dataset, batch_size=batch_size, shuffle=True)\n",
    "    valid_loader = DataLoader(val_dataset, batch_size=batch_size)\n",
    "\n",
    "    # 查看数据划分结果\n",
    "    print(\"train_dataset:\", len(train_dataset))\n",
    "    print(\"val_dataset:\", len(val_dataset))\n",
    "\n",
    "    return train_dataset, val_dataset, train_loader, valid_loader"
   ]
  },
  {
   "cell_type": "code",
   "execution_count": 4,
   "id": "1851a751-c6ab-4ffa-9b6f-8daacc4528d5",
   "metadata": {
    "execution": {
     "iopub.execute_input": "2025-04-22T08:29:50.405346Z",
     "iopub.status.busy": "2025-04-22T08:29:50.405346Z",
     "iopub.status.idle": "2025-04-22T08:29:51.014921Z",
     "shell.execute_reply": "2025-04-22T08:29:51.014921Z",
     "shell.execute_reply.started": "2025-04-22T08:29:50.405346Z"
    }
   },
   "outputs": [
    {
     "name": "stdout",
     "output_type": "stream",
     "text": [
      "train_dataset: 6988\n",
      "val_dataset: 777\n"
     ]
    }
   ],
   "source": [
    "tokenizer = BertTokenizer.from_pretrained('bert-base-chinese')\n",
    "# 构造参数字典\n",
    "params1 = {\n",
    "    \"data_list\": [data['review'].values, data['label'].values],\n",
    "    \"train_ratio\": 0.9,\n",
    "    \"tokenizer\": tokenizer,\n",
    "    \"batch_size\": 32,\n",
    "    \"max_length\": 128,\n",
    "}\n",
    "\n",
    "# 函数传参\n",
    "train_dataset, val_dataset, train_loader, valid_loader = generator(**params1)"
   ]
  },
  {
   "cell_type": "code",
   "execution_count": 5,
   "id": "65bcf414-eeb0-4e77-8b96-020eb3273df4",
   "metadata": {
    "execution": {
     "iopub.execute_input": "2025-04-22T08:29:51.723838Z",
     "iopub.status.busy": "2025-04-22T08:29:51.723838Z",
     "iopub.status.idle": "2025-04-22T08:29:51.739739Z",
     "shell.execute_reply": "2025-04-22T08:29:51.739739Z",
     "shell.execute_reply.started": "2025-04-22T08:29:51.723838Z"
    }
   },
   "outputs": [
    {
     "name": "stdout",
     "output_type": "stream",
     "text": [
      "批次 0: 输入大小 torch.Size([32, 128]), 标签大小 torch.Size([32])\n"
     ]
    }
   ],
   "source": [
    "for batch_idx, batch in enumerate(train_loader):\n",
    "    print(f\"批次 {batch_idx}: 输入大小 {batch['input_ids'].shape}, 标签大小 {batch['labels'].shape}\")\n",
    "    break"
   ]
  },
  {
   "cell_type": "markdown",
   "id": "63bae315-c0a9-439f-91ce-5e7abf5e8c60",
   "metadata": {},
   "source": [
    "### 模型定义"
   ]
  },
  {
   "cell_type": "code",
   "execution_count": 6,
   "id": "80b199cd-da0b-4987-8968-61c425d250e3",
   "metadata": {
    "execution": {
     "iopub.execute_input": "2025-04-22T08:29:54.325251Z",
     "iopub.status.busy": "2025-04-22T08:29:54.325251Z",
     "iopub.status.idle": "2025-04-22T08:29:54.334376Z",
     "shell.execute_reply": "2025-04-22T08:29:54.334376Z",
     "shell.execute_reply.started": "2025-04-22T08:29:54.325251Z"
    }
   },
   "outputs": [],
   "source": [
    "import torch\n",
    "import torch.nn as nn\n",
    "import math\n",
    "\n",
    "# Token Embedding\n",
    "class TokenEmbedding(nn.Module):\n",
    "    def __init__(self, vocab_size, d_model):\n",
    "        super(TokenEmbedding, self).__init__()\n",
    "        self.tokenEmbedding = nn.Embedding(vocab_size, d_model)\n",
    "\n",
    "    def forward(self, x):\n",
    "        return self.tokenEmbedding(x)\n",
    "\n",
    "# Positional Embedding\n",
    "class PositionalEmbedding(nn.Module):\n",
    "    def __init__(self, d_model, max_len=5000):\n",
    "        super(PositionalEmbedding, self).__init__()\n",
    "        pe = torch.zeros(max_len, d_model)\n",
    "        position = torch.arange(0, max_len).float().unsqueeze(1)\n",
    "        div_term = torch.exp(torch.arange(0, d_model, 2).float() * -(math.log(10000.0) / d_model))\n",
    "        pe[:, 0::2] = torch.sin(position * div_term)\n",
    "        pe[:, 1::2] = torch.cos(position * div_term)\n",
    "        self.register_buffer('pe', pe)\n",
    "\n",
    "    def forward(self, x):\n",
    "        return self.pe[:x.size(1), :]\n",
    "\n",
    "# 数据嵌入层：包括词嵌入和位置编码\n",
    "class DataEmbedding(nn.Module):\n",
    "    def __init__(self, vocab_size, d_model, dropout=0.1):\n",
    "        super(DataEmbedding, self).__init__()\n",
    "        self.token_embedding = TokenEmbedding(vocab_size, d_model)\n",
    "        self.position_embedding = PositionalEmbedding(d_model=d_model)\n",
    "        self.dropout = nn.Dropout(p=dropout)\n",
    "\n",
    "    def forward(self, x):\n",
    "        x = self.token_embedding(x) + self.position_embedding(x)\n",
    "        return self.dropout(x)\n",
    "\n",
    "# 多头注意力机制\n",
    "class MultiHeadAttention(nn.Module):\n",
    "    def __init__(self, d_model, n_heads):\n",
    "        super(MultiHeadAttention, self).__init__()\n",
    "        assert d_model % n_heads == 0\n",
    "        self.d_k = d_model // n_heads\n",
    "        self.n_heads = n_heads\n",
    "        self.q_linear = nn.Linear(d_model, d_model)\n",
    "        self.k_linear = nn.Linear(d_model, d_model)\n",
    "        self.v_linear = nn.Linear(d_model, d_model)\n",
    "        self.out = nn.Linear(d_model, d_model)\n",
    "        \n",
    "    def forward(self, q, k, v, attn_mask=None):\n",
    "        bs = q.size(0)\n",
    "        q = self.q_linear(q).view(bs, -1, self.n_heads, self.d_k).transpose(1, 2)\n",
    "        k = self.k_linear(k).view(bs, -1, self.n_heads, self.d_k).transpose(1, 2)\n",
    "        v = self.v_linear(v).view(bs, -1, self.n_heads, self.d_k).transpose(1, 2)\n",
    "        \n",
    "        scores = torch.matmul(q, k.transpose(-2, -1)) / math.sqrt(self.d_k)\n",
    "        if attn_mask is not None:\n",
    "            scores = scores.masked_fill(attn_mask == 0, float('-inf'))\n",
    "        scores = torch.nn.functional.softmax(scores, dim=-1)\n",
    "        \n",
    "        attn_output = torch.matmul(scores, v).transpose(1, 2).contiguous().view(bs, -1, self.d_k * self.n_heads)\n",
    "        return self.out(attn_output)\n",
    "        \n",
    "# Encoder Layer\n",
    "class EncoderLayer(nn.Module):\n",
    "    def __init__(self, self_attention, d_model, d_ff, dropout=0.1, activation='relu'):\n",
    "        super(EncoderLayer, self).__init__()\n",
    "        self.self_attention = self_attention\n",
    "        self.ffn = nn.Sequential(\n",
    "            nn.Linear(d_model, d_ff),\n",
    "            nn.ReLU() if activation == 'relu' else nn.GELU(),\n",
    "            nn.Linear(d_ff, d_model)\n",
    "        )\n",
    "        self.norm1 = nn.LayerNorm(d_model)\n",
    "        self.norm2 = nn.LayerNorm(d_model)\n",
    "        self.dropout = nn.Dropout(dropout)\n",
    "\n",
    "    def forward(self, x, attn_mask=None):\n",
    "        attn_output = self.self_attention(x, x, x, attn_mask)\n",
    "        x = self.norm1(x + self.dropout(attn_output))\n",
    "        \n",
    "        ffn_output = self.ffn(x)\n",
    "        x = self.norm2(x + self.dropout(ffn_output))\n",
    "        \n",
    "        return x\n",
    "\n",
    "# Encoder\n",
    "class Encoder(nn.Module):\n",
    "    def __init__(self, layers, norm_layer):\n",
    "        super(Encoder, self).__init__()\n",
    "        self.layers = nn.ModuleList(layers)\n",
    "        self.norm = norm_layer\n",
    "\n",
    "    def forward(self, x, attn_mask=None):\n",
    "        for layer in self.layers:\n",
    "            x = layer(x, attn_mask)\n",
    "        return self.norm(x)\n",
    "\n",
    "# Transformer模型\n",
    "class Transformer(nn.Module):\n",
    "    def __init__(self, seq_len, vocab_size, d_model, dropout, n_heads, d_ff, \n",
    "                 e_layers, num_classes):\n",
    "        super(Transformer, self).__init__()\n",
    "\n",
    "        # 嵌入层\n",
    "        self.enc_embedding = DataEmbedding(vocab_size, d_model, dropout)\n",
    "        \n",
    "        # 编码器\n",
    "        self.encoder = Encoder(\n",
    "            [\n",
    "                EncoderLayer(\n",
    "                    MultiHeadAttention(d_model, n_heads), d_model, d_ff,\n",
    "                    dropout=dropout, activation='relu'\n",
    "                ) for _ in range(e_layers)\n",
    "            ],\n",
    "            norm_layer=torch.nn.LayerNorm(d_model)\n",
    "        )\n",
    "\n",
    "        # 分类头部\n",
    "        self.classifier = nn.Sequential(\n",
    "            nn.Linear(d_model, d_model),\n",
    "            nn.ReLU(),\n",
    "            nn.Linear(d_model, num_classes)\n",
    "        )\n",
    "\n",
    "    def forward(self, x_enc):\n",
    "        enc_out = self.enc_embedding(x_enc)\n",
    "        enc_out = self.encoder(enc_out)\n",
    "        \n",
    "        output = enc_out[:, -1, :]  # 使用序列的最后一个token表示\n",
    "        output = self.classifier(output)\n",
    "        return output"
   ]
  },
  {
   "cell_type": "markdown",
   "id": "441be1f8-a41c-4105-8313-2cd3a8296eef",
   "metadata": {},
   "source": [
    "### 模型训练"
   ]
  },
  {
   "cell_type": "code",
   "execution_count": 9,
   "id": "1d12304a-ccd3-4d31-84f4-60c507459594",
   "metadata": {
    "execution": {
     "iopub.execute_input": "2025-04-22T08:30:18.035562Z",
     "iopub.status.busy": "2025-04-22T08:30:18.034561Z",
     "iopub.status.idle": "2025-04-22T08:30:18.045566Z",
     "shell.execute_reply": "2025-04-22T08:30:18.045566Z",
     "shell.execute_reply.started": "2025-04-22T08:30:18.035562Z"
    }
   },
   "outputs": [],
   "source": [
    "def train(train_args, model_args):\n",
    "    # 参数配置\n",
    "    model_name = train_args['model_name']  # 模型名称\n",
    "    train_loader = train_args['train_loader']  # 训练集\n",
    "    valid_loader = train_args['valid_loader']  # 验证集\n",
    "    n_epochs = train_args['n_epochs']  # 训练次数\n",
    "    learning_rate = train_args['learning_rate']  # 学习率\n",
    "    loss = train_args['loss']  # 损失函数\n",
    "    patience = train_args['patience']  # 最大早停次数阈值，超过就会早停\n",
    "    lradj = train_args['lradj']  # 学习率函数\n",
    "    model_path = train_args['model_path']  # 模型保存路径\n",
    "    verbose = train_args['verbose']  # 打印训练过程\n",
    "    plots = train_args['plots']  # 绘制损失图\n",
    "    device = train_args['device']  # 训练设备，可选'cuda'和'cpu'\n",
    "\n",
    "    # 检查可用device\n",
    "    device = torch.device(device)\n",
    "\n",
    "    # 创建模型和优化器\n",
    "    model = model_name(**model_args).to(device)\n",
    "    optimizer = optim.Adam(model.parameters(), lr=learning_rate)\n",
    "    criterion = loss\n",
    "\n",
    "    # 调整学习率\n",
    "    def adjust_learning_rate(optimizer, epoch, lradj, learning_rate, train_epochs):\n",
    "        # lr = learning_rate * (0.2 ** (epoch // 2))\n",
    "        if lradj == 'type1':\n",
    "            lr_adjust = {epoch: learning_rate * (0.5 ** ((epoch - 1) // 1))}\n",
    "        elif lradj == 'type2':\n",
    "            lr_adjust = {\n",
    "                2: 5e-5, 4: 1e-5, 6: 5e-6, 8: 1e-6,\n",
    "                10: 5e-7, 15: 1e-7, 20: 5e-8\n",
    "            }\n",
    "        elif lradj == \"cosine\":\n",
    "            lr_adjust = {epoch: learning_rate / 2 *\n",
    "                         (1 + math.cos(epoch / train_epochs * math.pi))}\n",
    "        if epoch in lr_adjust.keys():\n",
    "            lr = lr_adjust[epoch]\n",
    "            # 参数组(param_groups)是用来指定不同的参数组以便对它们进行不同的优化设置，比如'lr'\n",
    "            for param_group in optimizer.param_groups:\n",
    "                param_group['lr'] = lr\n",
    "            print('Updating learning rate to {}'.format(lr))\n",
    "\n",
    "    # 设置早停\n",
    "    class EarlyStopping():\n",
    "        def __init__(self, patience=7, verbose=False, delta=0):\n",
    "            self.patience = patience  # 连续超限次数，如果满足条件，则早停\n",
    "            self.verbose = verbose\n",
    "            self.counter = 0\n",
    "            self.best_score = None\n",
    "            self.early_stop = False\n",
    "            self.val_loss_min = np.inf\n",
    "            self.delta = delta\n",
    "\n",
    "        def __call__(self, val_loss, model, path):\n",
    "            score = -val_loss\n",
    "            if self.best_score is None:\n",
    "                self.best_score = score\n",
    "                self.save_checkpoint(val_loss, model, path)\n",
    "            elif score < self.best_score + self.delta:\n",
    "                self.counter += 1\n",
    "                print(\n",
    "                    f'EarlyStopping counter: {self.counter} out of {self.patience}')\n",
    "                if self.counter >= self.patience:\n",
    "                    self.early_stop = True\n",
    "            else:\n",
    "                self.best_score = score\n",
    "                self.save_checkpoint(val_loss, model, path)\n",
    "                self.counter = 0\n",
    "\n",
    "        def save_checkpoint(self, val_loss, model, path):\n",
    "            if self.verbose:\n",
    "                print(\n",
    "                    f'Validation loss decreased ({self.val_loss_min:.6f} --> {val_loss:.6f}).  Saving model ...')\n",
    "            torch.save(model.state_dict(), path + '/' + 'checkpoint.pth')\n",
    "            self.val_loss_min = val_loss\n",
    "    early_stopping = EarlyStopping(patience=patience, verbose=verbose)\n",
    "\n",
    "    # 设置保存模型路径\n",
    "    if not os.path.exists(model_path):\n",
    "        os.makedirs(model_path)\n",
    "\n",
    "    # 模型训练和验证\n",
    "    train_losses, val_losses = [], []\n",
    "    for epoch in tqdm(range(n_epochs)):\n",
    "        model.train()\n",
    "        total_train_loss = 0\n",
    "        train_correct_predictions = 0\n",
    "        for batch in train_loader:\n",
    "            # 将数据移至 device\n",
    "            batch_x = batch['input_ids'].to(device)\n",
    "            batch_y = batch['labels'].to(device)\n",
    "            # 清空梯度\n",
    "            optimizer.zero_grad()\n",
    "            outputs = model(batch_x)\n",
    "            train_loss = criterion(outputs, batch_y)\n",
    "            # 反向传播计算得到每个参数的梯度值\n",
    "            train_loss.backward()\n",
    "            # 通过梯度下降执行一步参数更新\n",
    "            optimizer.step()\n",
    "            # 每个batch的loss和\n",
    "            total_train_loss += train_loss.item()  # .item()表示只包含一个元素的tensor中提取值\n",
    "            # 计算准确率\n",
    "            _, preds = torch.max(outputs, dim=1)\n",
    "            train_correct_predictions += torch.sum(preds == batch_y)\n",
    "\n",
    "        # 每个epoch的损失平均\n",
    "        avg_train_loss = total_train_loss / len(train_loader)\n",
    "\n",
    "        # 所有epoch的loss\n",
    "        train_losses.append(avg_train_loss)\n",
    "\n",
    "        # 计算准确率\n",
    "        train_accuracy = train_correct_predictions.double() / len(train_loader.dataset)\n",
    "\n",
    "        # 评估模型\n",
    "        model.eval()\n",
    "        # 关闭自动求导功能，只使用训练好的模型进行预测或评估，不需要进行梯度计算和参数更新\n",
    "        with torch.no_grad():\n",
    "            total_val_loss = 0\n",
    "            val_correct_predictions = 0\n",
    "            for batch in valid_loader:\n",
    "                # 将数据移至 device\n",
    "                batch_x = batch['input_ids'].to(device)\n",
    "                batch_y = batch['labels'].to(device)\n",
    "                outputs = model(batch_x)\n",
    "                val_loss = criterion(outputs, batch_y)\n",
    "                # 每个batch的loss和\n",
    "                total_val_loss += val_loss.item()\n",
    "                # 计算准确率\n",
    "                _, preds = torch.max(outputs, dim=1)\n",
    "                val_correct_predictions += torch.sum(preds == batch_y)\n",
    "\n",
    "        # 每个epoch的损失平均\n",
    "        avg_val_loss = total_val_loss / len(valid_loader)\n",
    "\n",
    "        # 所有epoch的loss\n",
    "        val_losses.append(avg_val_loss)\n",
    "\n",
    "        # 计算准确率\n",
    "        val_accuracy = val_correct_predictions.double() / len(valid_loader.dataset)\n",
    "\n",
    "        # 打印训练过程\n",
    "        if verbose:\n",
    "            print(f'Epoch [{epoch+1}/{n_epochs}], Training Loss: {avg_train_loss:.4f}, Training Accuracy: {train_accuracy:.4f}, Validation Loss: {avg_val_loss:.4f}, Validation Accuracy: {val_accuracy:.4f}')\n",
    "\n",
    "        # 设置早停\n",
    "        early_stopping(avg_val_loss, model, model_path)\n",
    "        if early_stopping.early_stop:\n",
    "            print(\"Early stopping!\")\n",
    "            break\n",
    "\n",
    "        # 调整学习率\n",
    "        adjust_learning_rate(optimizer, epoch+1, lradj,\n",
    "                             learning_rate, n_epochs)\n",
    "\n",
    "    # 绘制损失函数图\n",
    "    def plot_loss(train_loss, val_loss):\n",
    "        \"\"\"\n",
    "        绘制训练和验证损失曲线\n",
    "\n",
    "        参数:\n",
    "        - train_loss: 训练损失数组\n",
    "        - val_loss: 验证损失数组\n",
    "        \"\"\"\n",
    "        # 自动生成 epochs（假设train_loss和val_loss长度一致）\n",
    "        epochs = np.arange(len(train_loss))\n",
    "\n",
    "        # 使用 Seaborn 设置白色背景样式\n",
    "        sns.set(style=\"white\")\n",
    "\n",
    "        # 创建图形并优化细节\n",
    "        plt.figure(figsize=(10, 6))\n",
    "\n",
    "        # 绘制训练和验证曲线\n",
    "        plt.plot(epochs, train_loss, label='Training', color='#d62728', linewidth=2, marker='o', markersize=6)\n",
    "        plt.plot(epochs, val_loss, label='Validation', color='#1f77b4', linewidth=2, marker='s', markersize=6)\n",
    "\n",
    "        # 添加标题和标签\n",
    "        plt.title('Training and Validation Loss', fontsize=18, fontweight='bold', color='black')\n",
    "        plt.xlabel('Epoch', fontsize=14)\n",
    "        plt.ylabel('Loss', fontsize=14)\n",
    "\n",
    "        # 添加图例\n",
    "        plt.legend(fontsize=12, loc='upper right')\n",
    "\n",
    "        # 启用横向网格线\n",
    "        plt.grid(True, axis='y', linestyle='--', linewidth=0.5, alpha=0.7)\n",
    "\n",
    "        # 去掉顶部和右侧的边框，仅显示左侧和底部的边框\n",
    "        plt.gca().spines['top'].set_visible(False)\n",
    "        plt.gca().spines['right'].set_visible(False)\n",
    "\n",
    "        # 可选：修改左侧和底部边框的样式\n",
    "        plt.gca().spines['left'].set_linewidth(1.5)\n",
    "        plt.gca().spines['bottom'].set_linewidth(1.5)\n",
    "\n",
    "        plt.gca().spines['left'].set_visible(True)\n",
    "        plt.gca().spines['bottom'].set_visible(True)\n",
    "\n",
    "        plt.gca().tick_params(axis='both', which='both', length=0)\n",
    "\n",
    "        # 调整布局以防止标签重叠\n",
    "        plt.tight_layout()\n",
    "\n",
    "        # 展示图形\n",
    "        plt.show()\n",
    "\n",
    "    if plots:\n",
    "        plot_loss(train_losses, val_losses)\n",
    "\n",
    "    return model"
   ]
  },
  {
   "cell_type": "code",
   "execution_count": 10,
   "id": "297e962c-6933-438d-986c-508fcf5bd358",
   "metadata": {
    "execution": {
     "iopub.execute_input": "2025-04-22T08:30:18.736894Z",
     "iopub.status.busy": "2025-04-22T08:30:18.735902Z",
     "iopub.status.idle": "2025-04-22T08:30:52.823762Z",
     "shell.execute_reply": "2025-04-22T08:30:52.823762Z",
     "shell.execute_reply.started": "2025-04-22T08:30:18.736894Z"
    },
    "scrolled": true
   },
   "outputs": [
    {
     "name": "stderr",
     "output_type": "stream",
     "text": [
      "  5%|████▏                                                                              | 1/20 [00:04<01:29,  4.69s/it]"
     ]
    },
    {
     "name": "stdout",
     "output_type": "stream",
     "text": [
      "Epoch [1/20], Training Loss: 0.5148, Training Accuracy: 0.7364, Validation Loss: 0.4586, Validation Accuracy: 0.8005\n",
      "Validation loss decreased (inf --> 0.458637).  Saving model ...\n",
      "Updating learning rate to 0.0009938441702975688\n"
     ]
    },
    {
     "name": "stderr",
     "output_type": "stream",
     "text": [
      " 10%|████████▎                                                                          | 2/20 [00:08<01:18,  4.33s/it]"
     ]
    },
    {
     "name": "stdout",
     "output_type": "stream",
     "text": [
      "Epoch [2/20], Training Loss: 0.4049, Training Accuracy: 0.8200, Validation Loss: 0.4594, Validation Accuracy: 0.7773\n",
      "EarlyStopping counter: 1 out of 5\n",
      "Updating learning rate to 0.0009755282581475768\n"
     ]
    },
    {
     "name": "stderr",
     "output_type": "stream",
     "text": [
      " 15%|████████████▍                                                                      | 3/20 [00:12<01:10,  4.17s/it]"
     ]
    },
    {
     "name": "stdout",
     "output_type": "stream",
     "text": [
      "Epoch [3/20], Training Loss: 0.3730, Training Accuracy: 0.8336, Validation Loss: 0.4769, Validation Accuracy: 0.7696\n",
      "EarlyStopping counter: 2 out of 5\n",
      "Updating learning rate to 0.0009455032620941839\n"
     ]
    },
    {
     "name": "stderr",
     "output_type": "stream",
     "text": [
      " 20%|████████████████▌                                                                  | 4/20 [00:16<01:06,  4.16s/it]"
     ]
    },
    {
     "name": "stdout",
     "output_type": "stream",
     "text": [
      "Epoch [4/20], Training Loss: 0.3460, Training Accuracy: 0.8437, Validation Loss: 0.4589, Validation Accuracy: 0.7786\n",
      "EarlyStopping counter: 3 out of 5\n",
      "Updating learning rate to 0.0009045084971874737\n"
     ]
    },
    {
     "name": "stderr",
     "output_type": "stream",
     "text": [
      " 25%|████████████████████▊                                                              | 5/20 [00:20<01:01,  4.13s/it]"
     ]
    },
    {
     "name": "stdout",
     "output_type": "stream",
     "text": [
      "Epoch [5/20], Training Loss: 0.3276, Training Accuracy: 0.8578, Validation Loss: 0.4739, Validation Accuracy: 0.7941\n",
      "EarlyStopping counter: 4 out of 5\n",
      "Updating learning rate to 0.0008535533905932737\n"
     ]
    },
    {
     "name": "stderr",
     "output_type": "stream",
     "text": [
      " 25%|████████████████████▊                                                              | 5/20 [00:25<01:15,  5.04s/it]"
     ]
    },
    {
     "name": "stdout",
     "output_type": "stream",
     "text": [
      "Epoch [6/20], Training Loss: 0.3142, Training Accuracy: 0.8703, Validation Loss: 0.4923, Validation Accuracy: 0.8031\n",
      "EarlyStopping counter: 5 out of 5\n",
      "Early stopping!\n"
     ]
    },
    {
     "name": "stderr",
     "output_type": "stream",
     "text": [
      "\n"
     ]
    },
    {
     "data": {
      "image/png": "[encoded data removed]",
      "text/plain": [
       "<Figure size 1000x600 with 1 Axes>"
      ]
     },
     "metadata": {},
     "output_type": "display_data"
    }
   ],
   "source": [
    "# 构造参数字典\n",
    "params2 = {\n",
    "    \"train_args\": {\n",
    "        \"model_name\": Transformer,\n",
    "        \"train_loader\": train_loader,\n",
    "        \"valid_loader\": valid_loader,\n",
    "        \"n_epochs\": 20,\n",
    "        \"learning_rate\": 0.001,\n",
    "        \"loss\": nn.CrossEntropyLoss(),\n",
    "        \"patience\": 5,\n",
    "        \"lradj\": 'cosine',\n",
    "        \"model_path\": \"../outputs/best_models/Transformer\",\n",
    "        \"device\": 'cuda',\n",
    "        \"verbose\": True,\n",
    "        \"plots\": True,\n",
    "    },\n",
    "    \"model_args\": {\n",
    "        'seq_len': 128,\n",
    "        'vocab_size': tokenizer.vocab_size, \n",
    "        'd_model': 128,\n",
    "        'dropout': 0.1,\n",
    "        'n_heads': 8,\n",
    "        'd_ff': 256,\n",
    "        'e_layers': 1,\n",
    "        'num_classes': 2,\n",
    "    },\n",
    "}\n",
    "model = train(**params2)"
   ]
  },
  {
   "cell_type": "markdown",
   "id": "2a76d020-9ed0-4b4a-8937-fbab8db566d4",
   "metadata": {},
   "source": [
    "### 模型预测"
   ]
  },
  {
   "cell_type": "code",
   "execution_count": 11,
   "id": "55f577f7-acd5-48e5-b202-cce80f650f24",
   "metadata": {
    "execution": {
     "iopub.execute_input": "2025-04-22T08:30:56.108496Z",
     "iopub.status.busy": "2025-04-22T08:30:56.107496Z",
     "iopub.status.idle": "2025-04-22T08:30:56.111960Z",
     "shell.execute_reply": "2025-04-22T08:30:56.111960Z",
     "shell.execute_reply.started": "2025-04-22T08:30:56.108496Z"
    }
   },
   "outputs": [],
   "source": [
    "def predict(predict_args, model_args):\n",
    "    # 参数配置\n",
    "    texts = predict_args['texts']\n",
    "    model_name = predict_args['model_name']\n",
    "    tokenizer = predict_args['tokenizer']\n",
    "    model_path = predict_args['model_path']\n",
    "    device = predict_args['device']  # 可选'cuda'和'cpu'\n",
    "    max_length = predict_args['max_length']\n",
    "\n",
    "    # 检查可用device\n",
    "    device = torch.device(device)\n",
    "\n",
    "    # 加载分词器\n",
    "    encoding = tokenizer(\n",
    "        texts,\n",
    "        truncation=True,\n",
    "        padding='max_length',\n",
    "        max_length=max_length,\n",
    "        return_tensors=\"pt\"\n",
    "    )\n",
    "\n",
    "    # 加载模型\n",
    "    model = model_name(**model_args)\n",
    "    state_dict = torch.load(model_path, map_location=device)\n",
    "    model.load_state_dict(state_dict)\n",
    "\n",
    "    # 模型预测\n",
    "    model.eval()\n",
    "    with torch.no_grad():\n",
    "        X_true = encoding['input_ids'].squeeze(0).to(device)\n",
    "        outputs = model(X_true)\n",
    "        _, preds = torch.max(outputs, dim=1)\n",
    "        labels = preds.cpu().detach().numpy()\n",
    "\n",
    "    # 将原始数据与预测数据合并输出\n",
    "    y_pred = pd.DataFrame({'text': texts, 'label': labels})\n",
    "\n",
    "    return y_pred"
   ]
  },
  {
   "cell_type": "code",
   "execution_count": 12,
   "id": "68f0bb8c-7f1b-4272-a721-66e9555f9cab",
   "metadata": {
    "execution": {
     "iopub.execute_input": "2025-04-22T08:30:57.278975Z",
     "iopub.status.busy": "2025-04-22T08:30:57.278975Z",
     "iopub.status.idle": "2025-04-22T08:30:57.333680Z",
     "shell.execute_reply": "2025-04-22T08:30:57.333149Z",
     "shell.execute_reply.started": "2025-04-22T08:30:57.278975Z"
    }
   },
   "outputs": [],
   "source": [
    "# 构造参数字典\n",
    "params3 = {\n",
    "    \"predict_args\": {\n",
    "        \"model_name\": Transformer,\n",
    "        \"model_path\": \"../outputs/best_models/Transformer/checkpoint.pth\",\n",
    "        \"texts\": [data['review'][4000], data['review'][7000]],\n",
    "        \"tokenizer\": tokenizer,\n",
    "        \"max_length\": 128,\n",
    "        \"device\": 'cpu'\n",
    "    },\n",
    "    \"model_args\": {\n",
    "        'seq_len': 128,\n",
    "        'vocab_size': tokenizer.vocab_size, \n",
    "        'd_model': 128,\n",
    "        'dropout': 0.1,\n",
    "        'n_heads': 8,\n",
    "        'd_ff': 256,\n",
    "        'e_layers': 1,\n",
    "        'num_classes': 2,\n",
    "    },\n",
    "}\n",
    "y_pred = predict(**params3)"
   ]
  },
  {
   "cell_type": "code",
   "execution_count": 13,
   "id": "6c62096e-0210-46d8-aa96-28ef99f5dfe8",
   "metadata": {
    "execution": {
     "iopub.execute_input": "2025-04-22T08:30:59.835075Z",
     "iopub.status.busy": "2025-04-22T08:30:59.834073Z",
     "iopub.status.idle": "2025-04-22T08:30:59.839207Z",
     "shell.execute_reply": "2025-04-22T08:30:59.839207Z",
     "shell.execute_reply.started": "2025-04-22T08:30:59.835075Z"
    }
   },
   "outputs": [
    {
     "data": {
      "text/html": [
       "<div>\n",
       "<style scoped>\n",
       "    .dataframe tbody tr th:only-of-type {\n",
       "        vertical-align: middle;\n",
       "    }\n",
       "\n",
       "    .dataframe tbody tr th {\n",
       "        vertical-align: top;\n",
       "    }\n",
       "\n",
       "    .dataframe thead th {\n",
       "        text-align: right;\n",
       "    }\n",
       "</style>\n",
       "<table border=\"1\" class=\"dataframe\">\n",
       "  <thead>\n",
       "    <tr style=\"text-align: right;\">\n",
       "      <th></th>\n",
       "      <th>text</th>\n",
       "      <th>label</th>\n",
       "    </tr>\n",
       "  </thead>\n",
       "  <tbody>\n",
       "    <tr>\n",
       "      <th>0</th>\n",
       "      <td>这家酒店不错，入住的30楼，可以直接看到玄武湖，风景不错，房里的飘窗做得有特色，喜欢！床也很...</td>\n",
       "      <td>1</td>\n",
       "    </tr>\n",
       "    <tr>\n",
       "      <th>1</th>\n",
       "      <td>隔音效果非常差,基本上隔壁房间的说话声都能听到.最后一天隔壁老早起来吵架,简直就是对着你在说...</td>\n",
       "      <td>0</td>\n",
       "    </tr>\n",
       "  </tbody>\n",
       "</table>\n",
       "</div>"
      ],
      "text/plain": [
       "                                                text  label\n",
       "0  这家酒店不错，入住的30楼，可以直接看到玄武湖，风景不错，房里的飘窗做得有特色，喜欢！床也很...      1\n",
       "1  隔音效果非常差,基本上隔壁房间的说话声都能听到.最后一天隔壁老早起来吵架,简直就是对着你在说...      0"
      ]
     },
     "execution_count": 13,
     "metadata": {},
     "output_type": "execute_result"
    }
   ],
   "source": [
    "y_pred"
   ]
  },
  {
   "cell_type": "code",
   "execution_count": null,
   "id": "f3f6a4b1-3478-49f3-af9a-793119e92ad1",
   "metadata": {},
   "outputs": [],
   "source": []
  }
 ],
 "metadata": {
  "hide_input": false,
  "kernelspec": {
   "display_name": "nlp",
   "language": "python",
   "name": "nlp"
  },
  "language_info": {
   "codemirror_mode": {
    "name": "ipython",
    "version": 3
   },
   "file_extension": ".py",
   "mimetype": "text/x-python",
   "name": "python",
   "nbconvert_exporter": "python",
   "pygments_lexer": "ipython3",
   "version": "3.12.7"
  },
  "toc": {
   "base_numbering": 1,
   "nav_menu": {},
   "number_sections": true,
   "sideBar": true,
   "skip_h1_title": false,
   "title_cell": "Table of Contents",
   "title_sidebar": "Contents",
   "toc_cell": false,
   "toc_position": {
    "height": "calc(100% - 180px)",
    "left": "10px",
    "top": "150px",
    "width": "173.6px"
   },
   "toc_section_display": true,
   "toc_window_display": true
  },
  "varInspector": {
   "cols": {
    "lenName": 16,
    "lenType": 16,
    "lenVar": 40
   },
   "kernels_config": {
    "python": {
     "delete_cmd_postfix": "",
     "delete_cmd_prefix": "del ",
     "library": "var_list.py",
     "varRefreshCmd": "print(var_dic_list())"
    },
    "r": {
     "delete_cmd_postfix": ") ",
     "delete_cmd_prefix": "rm(",
     "library": "var_list.r",
     "varRefreshCmd": "cat(var_dic_list()) "
    }
   },
   "types_to_exclude": [
    "module",
    "function",
    "builtin_function_or_method",
    "instance",
    "_Feature"
   ],
   "window_display": false
  }
 },
 "nbformat": 4,
 "nbformat_minor": 5
}
