{
 "cells": [
  {
   "cell_type": "markdown",
   "metadata": {},
   "source": [
    "# 环境构建"
   ]
  },
  {
   "cell_type": "markdown",
   "metadata": {},
   "source": [
    "从 TF 2.11 开始，Windows平台不再支持 CUDA 构建。如果CUDA版本过高，需要在虚拟环境中构建cuda，并将其添加到系统环境中。"
   ]
  },
  {
   "cell_type": "markdown",
   "metadata": {},
   "source": [
    "**虚拟环境**  \n",
    "conda create -n tf_gpu python=3.10 -y   \n",
    "conda activate tf_gpu  \n",
    "conda install -c conda-forge cudatoolkit=11.2 cudnn=8.1.0 -y  \n",
    "python -m pip install \"tensorflow<2.11\"  "
   ]
  },
  {
   "cell_type": "markdown",
   "metadata": {},
   "source": [
    "**系统环境**  \n",
    "D:\\Anaconda\\envs\\tensorflow\\Library\\bin\n",
    "D:\\Anaconda\\envs\\tensorflow\\Library\\lib  \n",
    "D:\\Anaconda\\envs\\tensorflow\\Library\\include"
   ]
  },
  {
   "cell_type": "markdown",
   "metadata": {},
   "source": [
    "# 代码测试"
   ]
  },
  {
   "cell_type": "code",
   "execution_count": 1,
   "metadata": {
    "ExecuteTime": {
     "end_time": "2023-12-07T11:17:19.652064Z",
     "start_time": "2023-12-07T11:17:06.205262Z"
    },
    "execution": {
     "iopub.execute_input": "2025-04-27T02:32:11.915485Z",
     "iopub.status.busy": "2025-04-27T02:32:11.914486Z",
     "iopub.status.idle": "2025-04-27T02:32:13.820686Z",
     "shell.execute_reply": "2025-04-27T02:32:13.820686Z",
     "shell.execute_reply.started": "2025-04-27T02:32:11.914486Z"
    },
    "hide_input": false,
    "scrolled": true
   },
   "outputs": [
    {
     "name": "stdout",
     "output_type": "stream",
     "text": [
      "GPU: True\n",
      "可用 GPU 设备: [PhysicalDevice(name='/physical_device:GPU:0', device_type='GPU')]\n"
     ]
    }
   ],
   "source": [
    "import tensorflow as tf\n",
    "\n",
    "# 检查 GPU 是否可用\n",
    "gpus = tf.config.list_physical_devices('GPU')\n",
    "print('GPU:', len(gpus) > 0)  # 如果有 GPU 可用，则输出 True\n",
    "print('可用 GPU 设备:', gpus)"
   ]
  },
  {
   "cell_type": "code",
   "execution_count": 2,
   "metadata": {
    "ExecuteTime": {
     "end_time": "2023-03-19T10:05:03.906882Z",
     "start_time": "2023-03-19T10:05:03.892934Z"
    },
    "execution": {
     "iopub.execute_input": "2025-04-27T02:32:15.934193Z",
     "iopub.status.busy": "2025-04-27T02:32:15.933193Z",
     "iopub.status.idle": "2025-04-27T02:32:15.939695Z",
     "shell.execute_reply": "2025-04-27T02:32:15.939191Z",
     "shell.execute_reply.started": "2025-04-27T02:32:15.934193Z"
    },
    "hide_input": false
   },
   "outputs": [
    {
     "name": "stdout",
     "output_type": "stream",
     "text": [
      "tensorflow version: 2.10.1\n"
     ]
    }
   ],
   "source": [
    "import tensorflow as tf\n",
    "\n",
    "version = tf.__version__  #查看Tensorflow版本\n",
    "print(\"tensorflow version:\", version)"
   ]
  },
  {
   "cell_type": "code",
   "execution_count": 3,
   "metadata": {
    "ExecuteTime": {
     "end_time": "2023-03-19T10:05:04.817920Z",
     "start_time": "2023-03-19T10:05:04.452575Z"
    },
    "execution": {
     "iopub.execute_input": "2025-04-27T02:32:16.852763Z",
     "iopub.status.busy": "2025-04-27T02:32:16.851763Z",
     "iopub.status.idle": "2025-04-27T02:32:16.856768Z",
     "shell.execute_reply": "2025-04-27T02:32:16.856768Z",
     "shell.execute_reply.started": "2025-04-27T02:32:16.852763Z"
    }
   },
   "outputs": [
    {
     "name": "stdout",
     "output_type": "stream",
     "text": [
      "keras version: 2.10.0\n"
     ]
    }
   ],
   "source": [
    "from tensorflow import keras\n",
    "\n",
    "print(\"keras version:\", keras.__version__)"
   ]
  },
  {
   "cell_type": "code",
   "execution_count": 4,
   "metadata": {
    "ExecuteTime": {
     "end_time": "2023-03-19T10:05:20.134587Z",
     "start_time": "2023-03-19T10:05:13.915678Z"
    },
    "execution": {
     "iopub.execute_input": "2025-04-27T02:32:19.659824Z",
     "iopub.status.busy": "2025-04-27T02:32:19.659824Z",
     "iopub.status.idle": "2025-04-27T02:37:40.675744Z",
     "shell.execute_reply": "2025-04-27T02:37:40.675194Z",
     "shell.execute_reply.started": "2025-04-27T02:32:19.659824Z"
    },
    "hide_input": false
   },
   "outputs": [
    {
     "name": "stdout",
     "output_type": "stream",
     "text": [
      "/job:localhost/replica:0/task:0/device:CPU:0 /job:localhost/replica:0/task:0/device:CPU:0\n",
      "/job:localhost/replica:0/task:0/device:GPU:0 /job:localhost/replica:0/task:0/device:GPU:0\n",
      "warmup: 0.44129290000000765 178.56908090000002\n",
      "run time: 0.4177760000000035 0.0009688000000096508\n"
     ]
    }
   ],
   "source": [
    "import tensorflow as tf\n",
    "import timeit\n",
    "\n",
    "with tf.device('/cpu:0'):\n",
    "    cpu_a = tf.random.normal([10000, 1000])\n",
    "    cpu_b = tf.random.normal([1000, 2000])\n",
    "    print(cpu_a.device, cpu_b.device)\n",
    "\n",
    "with tf.device('/gpu:0'):\n",
    "    gpu_a = tf.random.normal([10000, 1000])\n",
    "    gpu_b = tf.random.normal([1000, 2000])\n",
    "    print(gpu_a.device, gpu_b.device)\n",
    "\n",
    "\n",
    "def cpu_run():\n",
    "    with tf.device('/cpu:0'):\n",
    "        c = tf.matmul(cpu_a, cpu_b)\n",
    "    return c\n",
    "\n",
    "\n",
    "def gpu_run():\n",
    "    with tf.device('/gpu:0'):\n",
    "        c = tf.matmul(gpu_a, gpu_b)\n",
    "    return c\n",
    "\n",
    "\n",
    "# warm up\t这里就当是先给gpu热热身了\n",
    "cpu_time = timeit.timeit(cpu_run, number=10)\n",
    "gpu_time = timeit.timeit(gpu_run, number=10)\n",
    "print('warmup:', cpu_time, gpu_time)\n",
    "\n",
    "cpu_time = timeit.timeit(cpu_run, number=10)\n",
    "gpu_time = timeit.timeit(gpu_run, number=10)\n",
    "print('run time:', cpu_time, gpu_time)"
   ]
  },
  {
   "cell_type": "code",
   "execution_count": 5,
   "metadata": {
    "ExecuteTime": {
     "end_time": "2023-03-19T10:05:23.597355Z",
     "start_time": "2023-03-19T10:05:23.573157Z"
    },
    "execution": {
     "iopub.execute_input": "2025-04-27T02:38:49.238886Z",
     "iopub.status.busy": "2025-04-27T02:38:49.237886Z",
     "iopub.status.idle": "2025-04-27T02:38:49.270133Z",
     "shell.execute_reply": "2025-04-27T02:38:49.269132Z",
     "shell.execute_reply.started": "2025-04-27T02:38:49.238886Z"
    },
    "hide_input": false
   },
   "outputs": [],
   "source": [
    "A = tf.constant([[1, 2], [3, 4]], dtype=tf.float32)  #定义张量\n",
    "x = tf.constant([[0, 10], [0, 0.5]])\n",
    "b = tf.constant([[1, -1]], dtype=tf.float32)\n",
    "y = tf.add(tf.matmul(A, x), b, name=\"result\")  #y=Ax+b"
   ]
  },
  {
   "cell_type": "code",
   "execution_count": 6,
   "metadata": {
    "ExecuteTime": {
     "end_time": "2023-03-19T10:05:24.415714Z",
     "start_time": "2023-03-19T10:05:24.392495Z"
    },
    "execution": {
     "iopub.execute_input": "2025-04-27T02:38:49.927724Z",
     "iopub.status.busy": "2025-04-27T02:38:49.927724Z",
     "iopub.status.idle": "2025-04-27T02:38:49.935842Z",
     "shell.execute_reply": "2025-04-27T02:38:49.935842Z",
     "shell.execute_reply.started": "2025-04-27T02:38:49.927724Z"
    }
   },
   "outputs": [
    {
     "name": "stdout",
     "output_type": "stream",
     "text": [
      "tf.Tensor(\n",
      "[[ 1. 10.]\n",
      " [ 1. 31.]], shape=(2, 2), dtype=float32)\n"
     ]
    }
   ],
   "source": [
    "print(y)#输出结果为tf.Tensor对象"
   ]
  },
  {
   "cell_type": "code",
   "execution_count": 7,
   "metadata": {
    "ExecuteTime": {
     "end_time": "2023-03-19T10:05:25.578889Z",
     "start_time": "2023-03-19T10:05:25.563416Z"
    },
    "execution": {
     "iopub.execute_input": "2025-04-27T02:38:52.678726Z",
     "iopub.status.busy": "2025-04-27T02:38:52.678726Z",
     "iopub.status.idle": "2025-04-27T02:38:52.694733Z",
     "shell.execute_reply": "2025-04-27T02:38:52.694733Z",
     "shell.execute_reply.started": "2025-04-27T02:38:52.678726Z"
    }
   },
   "outputs": [
    {
     "name": "stdout",
     "output_type": "stream",
     "text": [
      "[[ 1. 10.]\n",
      " [ 1. 31.]]\n"
     ]
    }
   ],
   "source": [
    "print(y.numpy())#转换为numpy值"
   ]
  },
  {
   "cell_type": "code",
   "execution_count": 8,
   "metadata": {
    "ExecuteTime": {
     "end_time": "2023-03-19T10:05:27.163129Z",
     "start_time": "2023-03-19T10:05:27.130938Z"
    },
    "execution": {
     "iopub.execute_input": "2025-04-27T02:38:53.309868Z",
     "iopub.status.busy": "2025-04-27T02:38:53.309868Z",
     "iopub.status.idle": "2025-04-27T02:38:53.412478Z",
     "shell.execute_reply": "2025-04-27T02:38:53.411483Z",
     "shell.execute_reply.started": "2025-04-27T02:38:53.309868Z"
    }
   },
   "outputs": [
    {
     "name": "stdout",
     "output_type": "stream",
     "text": [
      "1.0 8.0\n"
     ]
    }
   ],
   "source": [
    "x = tf.Variable(4.0)\n",
    "y = tf.Variable(2.0)\n",
    "with tf.GradientTape(persistent=True) as tape:#计算梯度\n",
    "    z = x + y\n",
    "    w = tf.pow(x, 2)\n",
    "dz_dy = tape.gradient(z, y)\n",
    "dw_dx = tape.gradient(w, x)\n",
    "print(dz_dy.numpy(), dw_dx.numpy())"
   ]
  },
  {
   "cell_type": "code",
   "execution_count": null,
   "metadata": {},
   "outputs": [],
   "source": []
  }
 ],
 "metadata": {
  "kernelspec": {
   "display_name": "tensorflow",
   "language": "python",
   "name": "tensorflow"
  },
  "language_info": {
   "codemirror_mode": {
    "name": "ipython",
    "version": 3
   },
   "file_extension": ".py",
   "mimetype": "text/x-python",
   "name": "python",
   "nbconvert_exporter": "python",
   "pygments_lexer": "ipython3",
   "version": "3.10.16"
  },
  "toc": {
   "base_numbering": 1,
   "nav_menu": {},
   "number_sections": true,
   "sideBar": true,
   "skip_h1_title": false,
   "title_cell": "Table of Contents",
   "title_sidebar": "Contents",
   "toc_cell": false,
   "toc_position": {},
   "toc_section_display": true,
   "toc_window_display": false
  },
  "varInspector": {
   "cols": {
    "lenName": 16,
    "lenType": 16,
    "lenVar": 40
   },
   "kernels_config": {
    "python": {
     "delete_cmd_postfix": "",
     "delete_cmd_prefix": "del ",
     "library": "var_list.py",
     "varRefreshCmd": "print(var_dic_list())"
    },
    "r": {
     "delete_cmd_postfix": ") ",
     "delete_cmd_prefix": "rm(",
     "library": "var_list.r",
     "varRefreshCmd": "cat(var_dic_list()) "
    }
   },
   "position": {
    "height": "392.667px",
    "left": "696.333px",
    "right": "20px",
    "top": "157px",
    "width": "611px"
   },
   "types_to_exclude": [
    "module",
    "function",
    "builtin_function_or_method",
    "instance",
    "_Feature"
   ],
   "window_display": false
  },
  "widgets": {
   "application/vnd.jupyter.widget-state+json": {
    "state": {},
    "version_major": 2,
    "version_minor": 0
   }
  }
 },
 "nbformat": 4,
 "nbformat_minor": 4
}
