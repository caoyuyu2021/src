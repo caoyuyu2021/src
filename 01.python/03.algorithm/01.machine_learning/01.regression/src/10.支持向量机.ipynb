{
 "cells": [
  {
   "cell_type": "code",
   "execution_count": 1,
   "id": "4d7870a4-f248-488b-920c-246b48a6002f",
   "metadata": {
    "execution": {
     "iopub.execute_input": "2025-03-10T07:18:28.071682Z",
     "iopub.status.busy": "2025-03-10T07:18:28.071682Z",
     "iopub.status.idle": "2025-03-10T07:18:29.873623Z",
     "shell.execute_reply": "2025-03-10T07:18:29.869831Z",
     "shell.execute_reply.started": "2025-03-10T07:18:28.071682Z"
    }
   },
   "outputs": [],
   "source": [
    "from sklearn.svm import SVR"
   ]
  },
  {
   "cell_type": "markdown",
   "id": "a47f45be-b3e9-4f11-a0bb-c27528c6bbf0",
   "metadata": {},
   "source": [
    "详见src/01.python/03.algorithm/01.machine_learning/02.classification/src/06.支持向量机.ipynb"
   ]
  },
  {
   "cell_type": "code",
   "execution_count": null,
   "id": "60631639-2944-469a-9a7f-ad7ae13c325f",
   "metadata": {},
   "outputs": [],
   "source": []
  }
 ],
 "metadata": {
  "kernelspec": {
   "display_name": "Python 3 (ipykernel)",
   "language": "python",
   "name": "python3"
  },
  "language_info": {
   "codemirror_mode": {
    "name": "ipython",
    "version": 3
   },
   "file_extension": ".py",
   "mimetype": "text/x-python",
   "name": "python",
   "nbconvert_exporter": "python",
   "pygments_lexer": "ipython3",
   "version": "3.9.18"
  }
 },
 "nbformat": 4,
 "nbformat_minor": 5
}
