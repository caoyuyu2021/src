{
 "cells": [
  {
   "cell_type": "markdown",
   "id": "b6b4395b",
   "metadata": {},
   "source": [
    "<font face=\"微软雅黑\" color=green size=5>Mysql基础</font>"
   ]
  },
  {
   "cell_type": "markdown",
   "id": "7f0c3b8a",
   "metadata": {},
   "source": [
    "# 语法"
   ]
  },
  {
   "cell_type": "markdown",
   "id": "a45fa322",
   "metadata": {},
   "source": [
    "select 查询列表  \n",
    "from 表1\n",
    "连接类型 join 表2  \n",
    "on 连接条件  \n",
    "where 筛选条件  \n",
    "group by 分组字段  \n",
    "having 分组后的筛选  \n",
    "order by 排序的字段   \n",
    "limit 起始索引, 要显示的条目个数;"
   ]
  },
  {
   "cell_type": "markdown",
   "id": "c994de10-39d8-4d17-a6bf-c34f991f7db2",
   "metadata": {},
   "source": [
    "# 安装"
   ]
  },
  {
   "cell_type": "markdown",
   "id": "ce5cbf1a-eeb7-4bc7-bf37-d28c4f7c0de6",
   "metadata": {},
   "source": [
    "安装MySQLdb或PyMySQL模块\n",
    "`pip install PyMySQL`"
   ]
  },
  {
   "cell_type": "markdown",
   "id": "abec8b81-56f0-4824-8b3f-39b9c699e473",
   "metadata": {},
   "source": [
    "# 调用"
   ]
  },
  {
   "cell_type": "markdown",
   "id": "36bf0148-2a20-403d-8881-b0b21b2884e1",
   "metadata": {},
   "source": [
    "## 直接调用"
   ]
  },
  {
   "cell_type": "code",
   "execution_count": 2,
   "id": "392642c6-7df5-4aaa-a893-3e2d16f6ec29",
   "metadata": {
    "execution": {
     "iopub.execute_input": "2025-05-06T08:42:10.681701Z",
     "iopub.status.busy": "2025-05-06T08:42:10.681701Z",
     "iopub.status.idle": "2025-05-06T08:42:10.701822Z",
     "shell.execute_reply": "2025-05-06T08:42:10.701822Z",
     "shell.execute_reply.started": "2025-05-06T08:42:10.681701Z"
    }
   },
   "outputs": [
    {
     "name": "stdout",
     "output_type": "stream",
     "text": [
      "{'time': '2012-01-01 00:00:00', 'load': 2698.0, 'temp': 32.0}\n",
      "{'time': '2012-01-01 01:00:00', 'load': 2558.0, 'temp': 32.67}\n",
      "{'time': '2012-01-01 02:00:00', 'load': 2444.0, 'temp': 30.0}\n",
      "{'time': '2012-01-01 03:00:00', 'load': 2402.0, 'temp': 31.0}\n",
      "{'time': '2012-01-01 04:00:00', 'load': 2403.0, 'temp': 32.0}\n"
     ]
    }
   ],
   "source": [
    "import pymysql.cursors\n",
    " \n",
    "# 配置连接参数\n",
    "connection = pymysql.connect(host='localhost',\n",
    "                             user='root',\n",
    "                             password='162532',\n",
    "                             database='sys',\n",
    "                             cursorclass=pymysql.cursors.DictCursor)\n",
    "try:\n",
    "    with connection.cursor() as cursor:\n",
    "        # 执行查询\n",
    "        sql = \"SELECT * FROM energy limit 5\"\n",
    "        cursor.execute(sql)\n",
    "        result = cursor.fetchall()\n",
    "        for row in result:\n",
    "            print(row)\n",
    "finally:\n",
    "    connection.close()"
   ]
  },
  {
   "cell_type": "markdown",
   "id": "e5d1dfaa-1ae0-4141-8455-a1520127004f",
   "metadata": {},
   "source": [
    "## pandas调用"
   ]
  },
  {
   "cell_type": "code",
   "execution_count": 3,
   "id": "71785e28-9e4b-474c-9a9d-6d9ce30d5ad5",
   "metadata": {
    "execution": {
     "iopub.execute_input": "2025-05-06T08:43:21.294630Z",
     "iopub.status.busy": "2025-05-06T08:43:21.294630Z",
     "iopub.status.idle": "2025-05-06T08:43:21.956647Z",
     "shell.execute_reply": "2025-05-06T08:43:21.956141Z",
     "shell.execute_reply.started": "2025-05-06T08:43:21.294630Z"
    }
   },
   "outputs": [
    {
     "name": "stdout",
     "output_type": "stream",
     "text": [
      "2025-05-06 16:43:21,721 INFO sqlalchemy.engine.Engine SELECT DATABASE()\n",
      "2025-05-06 16:43:21,721 INFO sqlalchemy.engine.Engine [raw sql] {}\n",
      "2025-05-06 16:43:21,722 INFO sqlalchemy.engine.Engine SELECT @@sql_mode\n",
      "2025-05-06 16:43:21,722 INFO sqlalchemy.engine.Engine [raw sql] {}\n",
      "2025-05-06 16:43:21,723 INFO sqlalchemy.engine.Engine SELECT @@lower_case_table_names\n",
      "2025-05-06 16:43:21,723 INFO sqlalchemy.engine.Engine [raw sql] {}\n",
      "2025-05-06 16:43:21,724 INFO sqlalchemy.engine.Engine SELECT COUNT(*) FROM information_schema.tables WHERE table_schema = %(table_schema)s AND table_name = %(table_name)s\n",
      "2025-05-06 16:43:21,725 INFO sqlalchemy.engine.Engine [generated in 0.00037s] {'table_schema': 'sys', 'table_name': 'SELECT * FROM energy'}\n",
      "2025-05-06 16:43:21,726 INFO sqlalchemy.engine.Engine SELECT * FROM energy\n",
      "2025-05-06 16:43:21,726 INFO sqlalchemy.engine.Engine [raw sql] {}\n"
     ]
    }
   ],
   "source": [
    "from sqlalchemy import create_engine\n",
    "import pandas as pd\n",
    "\n",
    "# 创建数据库连接对象\n",
    "user = 'root'  # 数据库用户名\n",
    "password = '162532'  # 数据库密码\n",
    "host = 'localhost'  # 数据库ip地址\n",
    "port = 3306  # 端口号\n",
    "database = 'sys'  # 数据库名称\n",
    "\n",
    "# 连接数据库\n",
    "engine = create_engine(\n",
    "    f'mysql+pymysql://{user}:{password}@{host}:{port}/{database}', echo=True)\n",
    "\n",
    "# sql语句\n",
    "sql = \"SELECT * FROM energy\"\n",
    "\n",
    "# 通过pandas读取数据\n",
    "data = pd.read_sql(sql, engine)"
   ]
  },
  {
   "cell_type": "code",
   "execution_count": 4,
   "id": "df5c0bd6-c4d5-46ab-a0df-6c7be504b5f8",
   "metadata": {
    "execution": {
     "iopub.execute_input": "2025-05-06T08:43:29.539732Z",
     "iopub.status.busy": "2025-05-06T08:43:29.538734Z",
     "iopub.status.idle": "2025-05-06T08:43:29.547935Z",
     "shell.execute_reply": "2025-05-06T08:43:29.547935Z",
     "shell.execute_reply.started": "2025-05-06T08:43:29.539732Z"
    }
   },
   "outputs": [
    {
     "data": {
      "text/html": [
       "<div>\n",
       "<style scoped>\n",
       "    .dataframe tbody tr th:only-of-type {\n",
       "        vertical-align: middle;\n",
       "    }\n",
       "\n",
       "    .dataframe tbody tr th {\n",
       "        vertical-align: top;\n",
       "    }\n",
       "\n",
       "    .dataframe thead th {\n",
       "        text-align: right;\n",
       "    }\n",
       "</style>\n",
       "<table border=\"1\" class=\"dataframe\">\n",
       "  <thead>\n",
       "    <tr style=\"text-align: right;\">\n",
       "      <th></th>\n",
       "      <th>time</th>\n",
       "      <th>load</th>\n",
       "      <th>temp</th>\n",
       "    </tr>\n",
       "  </thead>\n",
       "  <tbody>\n",
       "    <tr>\n",
       "      <th>0</th>\n",
       "      <td>2012-01-01 00:00:00</td>\n",
       "      <td>2698.0</td>\n",
       "      <td>32.00</td>\n",
       "    </tr>\n",
       "    <tr>\n",
       "      <th>1</th>\n",
       "      <td>2012-01-01 01:00:00</td>\n",
       "      <td>2558.0</td>\n",
       "      <td>32.67</td>\n",
       "    </tr>\n",
       "    <tr>\n",
       "      <th>2</th>\n",
       "      <td>2012-01-01 02:00:00</td>\n",
       "      <td>2444.0</td>\n",
       "      <td>30.00</td>\n",
       "    </tr>\n",
       "    <tr>\n",
       "      <th>3</th>\n",
       "      <td>2012-01-01 03:00:00</td>\n",
       "      <td>2402.0</td>\n",
       "      <td>31.00</td>\n",
       "    </tr>\n",
       "    <tr>\n",
       "      <th>4</th>\n",
       "      <td>2012-01-01 04:00:00</td>\n",
       "      <td>2403.0</td>\n",
       "      <td>32.00</td>\n",
       "    </tr>\n",
       "    <tr>\n",
       "      <th>...</th>\n",
       "      <td>...</td>\n",
       "      <td>...</td>\n",
       "      <td>...</td>\n",
       "    </tr>\n",
       "    <tr>\n",
       "      <th>26299</th>\n",
       "      <td>2014-12-31 19:00:00</td>\n",
       "      <td>4012.0</td>\n",
       "      <td>18.00</td>\n",
       "    </tr>\n",
       "    <tr>\n",
       "      <th>26300</th>\n",
       "      <td>2014-12-31 20:00:00</td>\n",
       "      <td>3856.0</td>\n",
       "      <td>16.67</td>\n",
       "    </tr>\n",
       "    <tr>\n",
       "      <th>26301</th>\n",
       "      <td>2014-12-31 21:00:00</td>\n",
       "      <td>3671.0</td>\n",
       "      <td>17.00</td>\n",
       "    </tr>\n",
       "    <tr>\n",
       "      <th>26302</th>\n",
       "      <td>2014-12-31 22:00:00</td>\n",
       "      <td>3499.0</td>\n",
       "      <td>15.33</td>\n",
       "    </tr>\n",
       "    <tr>\n",
       "      <th>26303</th>\n",
       "      <td>2014-12-31 23:00:00</td>\n",
       "      <td>3345.0</td>\n",
       "      <td>15.33</td>\n",
       "    </tr>\n",
       "  </tbody>\n",
       "</table>\n",
       "<p>26304 rows × 3 columns</p>\n",
       "</div>"
      ],
      "text/plain": [
       "                      time    load   temp\n",
       "0      2012-01-01 00:00:00  2698.0  32.00\n",
       "1      2012-01-01 01:00:00  2558.0  32.67\n",
       "2      2012-01-01 02:00:00  2444.0  30.00\n",
       "3      2012-01-01 03:00:00  2402.0  31.00\n",
       "4      2012-01-01 04:00:00  2403.0  32.00\n",
       "...                    ...     ...    ...\n",
       "26299  2014-12-31 19:00:00  4012.0  18.00\n",
       "26300  2014-12-31 20:00:00  3856.0  16.67\n",
       "26301  2014-12-31 21:00:00  3671.0  17.00\n",
       "26302  2014-12-31 22:00:00  3499.0  15.33\n",
       "26303  2014-12-31 23:00:00  3345.0  15.33\n",
       "\n",
       "[26304 rows x 3 columns]"
      ]
     },
     "execution_count": 4,
     "metadata": {},
     "output_type": "execute_result"
    }
   ],
   "source": [
    "data"
   ]
  },
  {
   "cell_type": "code",
   "execution_count": null,
   "id": "ff1bcddc-efba-4e8e-adb6-8991b23b514f",
   "metadata": {},
   "outputs": [],
   "source": []
  }
 ],
 "metadata": {
  "kernelspec": {
   "display_name": "Python 3 (ipykernel)",
   "language": "python",
   "name": "python3"
  },
  "language_info": {
   "codemirror_mode": {
    "name": "ipython",
    "version": 3
   },
   "file_extension": ".py",
   "mimetype": "text/x-python",
   "name": "python",
   "nbconvert_exporter": "python",
   "pygments_lexer": "ipython3",
   "version": "3.11.5"
  },
  "toc": {
   "base_numbering": 1,
   "nav_menu": {},
   "number_sections": true,
   "sideBar": true,
   "skip_h1_title": false,
   "title_cell": "Table of Contents",
   "title_sidebar": "Contents",
   "toc_cell": false,
   "toc_position": {},
   "toc_section_display": true,
   "toc_window_display": true
  },
  "varInspector": {
   "cols": {
    "lenName": 16,
    "lenType": 16,
    "lenVar": 40
   },
   "kernels_config": {
    "python": {
     "delete_cmd_postfix": "",
     "delete_cmd_prefix": "del ",
     "library": "var_list.py",
     "varRefreshCmd": "print(var_dic_list())"
    },
    "r": {
     "delete_cmd_postfix": ") ",
     "delete_cmd_prefix": "rm(",
     "library": "var_list.r",
     "varRefreshCmd": "cat(var_dic_list()) "
    }
   },
   "types_to_exclude": [
    "module",
    "function",
    "builtin_function_or_method",
    "instance",
    "_Feature"
   ],
   "window_display": false
  },
  "widgets": {
   "application/vnd.jupyter.widget-state+json": {
    "state": {},
    "version_major": 2,
    "version_minor": 0
   }
  }
 },
 "nbformat": 4,
 "nbformat_minor": 5
}
