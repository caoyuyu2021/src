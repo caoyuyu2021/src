{
 "cells": [
  {
   "cell_type": "markdown",
   "metadata": {},
   "source": [
    "<font face=\"微软雅黑\" color=green size=5>Scala基础Ⅰ</font>"
   ]
  },
  {
   "cell_type": "markdown",
   "metadata": {},
   "source": [
    "# 一门可伸缩的语言"
   ]
  },
  {
   "cell_type": "markdown",
   "metadata": {},
   "source": [
    "Scala这个名字来源于“scalable language”，即“可伸缩语言”。Scala是面向对象的、函数式的、兼容的、精简的、高级的、静态类型的。它运行在标准的Java平台上，可以和所有的Java类库无缝协作。读作“斯噶喇”"
   ]
  },
  {
   "cell_type": "markdown",
   "metadata": {},
   "source": [
    "# Scala入门"
   ]
  },
  {
   "cell_type": "markdown",
   "metadata": {},
   "source": [
    "## 使用Scala解释器 "
   ]
  },
  {
   "cell_type": "markdown",
   "metadata": {},
   "source": [
    "spylon-kernel中的Scala不支持中文，在终端的Scala可以支持中文，不知道原因。"
   ]
  },
  {
   "cell_type": "code",
   "execution_count": null,
   "metadata": {
    "ExecuteTime": {
     "end_time": "2022-05-24T12:19:28.054741Z",
     "start_time": "2022-05-24T12:19:16.569503Z"
    },
    "execution": {
     "iopub.execute_input": "2025-05-07T03:21:03.634879Z",
     "iopub.status.busy": "2025-05-07T03:21:03.634351Z",
     "iopub.status.idle": "2025-05-07T03:21:19.084334Z"
    }
   },
   "outputs": [
    {
     "data": {
      "text/plain": [
       "Intitializing Scala interpreter ..."
      ]
     },
     "metadata": {},
     "output_type": "display_data"
    }
   ],
   "source": [
    "1+1"
   ]
  },
  {
   "cell_type": "code",
   "execution_count": 2,
   "metadata": {
    "ExecuteTime": {
     "end_time": "2022-05-24T12:20:03.595985Z",
     "start_time": "2022-05-24T12:20:03.246767Z"
    }
   },
   "outputs": [
    {
     "name": "stdout",
     "output_type": "stream",
     "text": [
      "Hello World!\n"
     ]
    }
   ],
   "source": [
    "println(\"Hello World!\")//print命令在同一行输出、println可以换行"
   ]
  },
  {
   "cell_type": "markdown",
   "metadata": {},
   "source": [
    "## 定义变量 "
   ]
  },
  {
   "cell_type": "code",
   "execution_count": 3,
   "metadata": {
    "ExecuteTime": {
     "end_time": "2021-09-03T06:25:01.889490Z",
     "start_time": "2021-09-03T06:25:01.581315Z"
    },
    "scrolled": true
   },
   "outputs": [
    {
     "data": {
      "text/plain": [
       "msg: String = Hello World!\r\n"
      ]
     },
     "execution_count": 3,
     "metadata": {},
     "output_type": "execute_result"
    }
   ],
   "source": [
    "val msg = \"Hello World!\" //初始化不能被重新赋值"
   ]
  },
  {
   "cell_type": "code",
   "execution_count": 4,
   "metadata": {
    "ExecuteTime": {
     "end_time": "2021-09-03T06:25:02.701838Z",
     "start_time": "2021-09-03T06:25:02.378185Z"
    }
   },
   "outputs": [
    {
     "data": {
      "text/plain": [
       "mss: String = Hello World!\r\n"
      ]
     },
     "execution_count": 4,
     "metadata": {},
     "output_type": "execute_result"
    }
   ],
   "source": [
    "var mss = \"Hello World!\" //初始化可以被重新赋值 "
   ]
  },
  {
   "cell_type": "code",
   "execution_count": 5,
   "metadata": {
    "ExecuteTime": {
     "end_time": "2021-09-03T06:25:03.691104Z",
     "start_time": "2021-09-03T06:25:03.365843Z"
    }
   },
   "outputs": [
    {
     "data": {
      "text/plain": [
       "mss: String = Hello World!\r\n"
      ]
     },
     "execution_count": 5,
     "metadata": {},
     "output_type": "execute_result"
    }
   ],
   "source": [
    "var mss: String =\"Hello World!\" //变量名之后给出类型"
   ]
  },
  {
   "cell_type": "markdown",
   "metadata": {},
   "source": [
    "## 定义函数 "
   ]
  },
  {
   "cell_type": "code",
   "execution_count": 6,
   "metadata": {
    "ExecuteTime": {
     "end_time": "2021-06-18T06:55:50.025515Z",
     "start_time": "2021-06-18T06:55:49.631556Z"
    }
   },
   "outputs": [
    {
     "data": {
      "text/plain": [
       "max: (x: Int, y: Int)Int\r\n"
      ]
     },
     "execution_count": 6,
     "metadata": {},
     "output_type": "execute_result"
    }
   ],
   "source": [
    "def max(x:Int,y:Int):Int = {\n",
    "    if (x>y)\n",
    "    x\n",
    "    else\n",
    "    y\n",
    "}//函数也要定义类型"
   ]
  },
  {
   "cell_type": "code",
   "execution_count": 7,
   "metadata": {
    "ExecuteTime": {
     "end_time": "2021-06-18T06:55:50.499272Z",
     "start_time": "2021-06-18T06:55:50.028507Z"
    }
   },
   "outputs": [
    {
     "data": {
      "text/plain": [
       "mx: (x: Int, y: Int)Int\r\n"
      ]
     },
     "execution_count": 7,
     "metadata": {},
     "output_type": "execute_result"
    }
   ],
   "source": [
    "def mx(x:Int,y:Int) = if(x>y) x else y //只有一条语句不写花括号"
   ]
  },
  {
   "cell_type": "code",
   "execution_count": 8,
   "metadata": {
    "ExecuteTime": {
     "end_time": "2021-06-18T06:55:50.957049Z",
     "start_time": "2021-06-18T06:55:50.505257Z"
    }
   },
   "outputs": [
    {
     "data": {
      "text/plain": [
       "res2: Int = 5\r\n"
      ]
     },
     "execution_count": 8,
     "metadata": {},
     "output_type": "execute_result"
    }
   ],
   "source": [
    "max(3,5)//调用函数"
   ]
  },
  {
   "cell_type": "markdown",
   "metadata": {},
   "source": [
    "## 编写Scala脚本 "
   ]
  },
  {
   "cell_type": "markdown",
   "metadata": {},
   "source": [
    "在终端中运行：scala 脚本名.scala   必须cd到脚本的目录下运行，不用登陆Scala。"
   ]
  },
  {
   "cell_type": "markdown",
   "metadata": {},
   "source": [
    "## 用while做循环；用if做判断 "
   ]
  },
  {
   "cell_type": "code",
   "execution_count": 9,
   "metadata": {
    "ExecuteTime": {
     "end_time": "2021-06-18T06:55:51.558971Z",
     "start_time": "2021-06-18T06:55:50.960041Z"
    }
   },
   "outputs": [
    {
     "name": "stdout",
     "output_type": "stream",
     "text": [
      "S c a l a   i s   f u n\n"
     ]
    },
    {
     "data": {
      "text/plain": [
       "i: Int = 12\r\n",
       "args: String = Scala is fun\r\n"
      ]
     },
     "execution_count": 9,
     "metadata": {},
     "output_type": "execute_result"
    }
   ],
   "source": [
    "var i:Int = 0\n",
    "var args = \"Scala is fun\"\n",
    "while (i<args.length){\n",
    "    if(i != 0){\n",
    "        print(\" \")\n",
    "    }\n",
    "    print(args(i))\n",
    "    i+= 1\n",
    "}\n",
    "println() //while if 语句中的表达式必须放在圆括号里面，语句用花括号，单条语句可以不写花括号"
   ]
  },
  {
   "cell_type": "markdown",
   "metadata": {},
   "source": [
    "## 用foreach和for遍历 "
   ]
  },
  {
   "cell_type": "code",
   "execution_count": 10,
   "metadata": {
    "ExecuteTime": {
     "end_time": "2021-06-18T06:55:52.226704Z",
     "start_time": "2021-06-18T06:55:51.560967Z"
    }
   },
   "outputs": [
    {
     "name": "stdout",
     "output_type": "stream",
     "text": [
      "Scala is fun\n",
      "Scala is fun"
     ]
    },
    {
     "data": {
      "text/plain": [
       "args: String = Scala is fun\r\n"
      ]
     },
     "execution_count": 10,
     "metadata": {},
     "output_type": "execute_result"
    }
   ],
   "source": [
    "var args = \"Scala is fun\"\n",
    "args.foreach(arg => print(arg))//这里的print为函数字面量，函数字面量语法：(x:Int ,y:Int) => x+y x,y为参数,x+y为函数体\n",
    "println()\n",
    "args.foreach(print)//如果函数字面量只接受单个参数的语句，可以不必给出参数名和参数本身"
   ]
  },
  {
   "cell_type": "code",
   "execution_count": 11,
   "metadata": {
    "ExecuteTime": {
     "end_time": "2021-06-18T06:55:52.609707Z",
     "start_time": "2021-06-18T06:55:52.228699Z"
    }
   },
   "outputs": [
    {
     "name": "stdout",
     "output_type": "stream",
     "text": [
      "Scala is fun"
     ]
    },
    {
     "data": {
      "text/plain": [
       "args: String = Scala is fun\r\n"
      ]
     },
     "execution_count": 11,
     "metadata": {},
     "output_type": "execute_result"
    }
   ],
   "source": [
    "var args = \"Scala is fun\"\n",
    "for(arg <- args){\n",
    "    print(arg)\n",
    "} //等价于for(arg in args),只有一条命令可以不写花括号，for里面的命令要空两行"
   ]
  },
  {
   "cell_type": "markdown",
   "metadata": {},
   "source": [
    "# Scala入门（续）"
   ]
  },
  {
   "cell_type": "markdown",
   "metadata": {},
   "source": [
    "## 用类型参数化数组"
   ]
  },
  {
   "cell_type": "code",
   "execution_count": 12,
   "metadata": {
    "ExecuteTime": {
     "end_time": "2021-06-18T06:55:53.467414Z",
     "start_time": "2021-06-18T06:55:52.612700Z"
    }
   },
   "outputs": [
    {
     "name": "stdout",
     "output_type": "stream",
     "text": [
      "Hello, World! \n"
     ]
    },
    {
     "data": {
      "text/plain": [
       "greetStrings: Array[String] =\r\n",
       "Array(Hello, \", \", \"World!\r\n",
       "\")\r\n"
      ]
     },
     "execution_count": 12,
     "metadata": {},
     "output_type": "execute_result"
    }
   ],
   "source": [
    "val greetStrings = new Array[String](3) // new实例化对象或类的实例，数组永远是可变的\n",
    "greetStrings(0) = \"Hello\" //通过圆括号指定下标来访问对应下标的元素,从0开始\n",
    "greetStrings(1) = \", \"\n",
    "greetStrings(2) = \"World! \\n\"\n",
    "for(i <- 0 to 2){\n",
    "    print(greetStrings(i))\n",
    "} //to遍历从0到2"
   ]
  },
  {
   "cell_type": "code",
   "execution_count": 13,
   "metadata": {
    "ExecuteTime": {
     "end_time": "2021-06-18T06:55:54.149608Z",
     "start_time": "2021-06-18T06:55:53.474395Z"
    }
   },
   "outputs": [
    {
     "name": "stdout",
     "output_type": "stream",
     "text": [
      "Hello, World!"
     ]
    },
    {
     "data": {
      "text/plain": [
       "numnames: Array[String] = Array(Hello, \", \", World!)\r\n"
      ]
     },
     "execution_count": 13,
     "metadata": {},
     "output_type": "execute_result"
    }
   ],
   "source": [
    "val numnames = Array(\"Hello\",\", \",\"World!\")   //初始化数组\n",
    "for(i <- 0 to 2){\n",
    "    print(numnames(i))\n",
    "}"
   ]
  },
  {
   "cell_type": "markdown",
   "metadata": {},
   "source": [
    "## 使用列表"
   ]
  },
  {
   "cell_type": "code",
   "execution_count": 14,
   "metadata": {
    "ExecuteTime": {
     "end_time": "2021-06-18T06:55:54.673231Z",
     "start_time": "2021-06-18T06:55:54.152601Z"
    }
   },
   "outputs": [
    {
     "data": {
      "text/plain": [
       "onets: List[Int] = List(1, 2, 3)\r\n"
      ]
     },
     "execution_count": 14,
     "metadata": {},
     "output_type": "execute_result"
    }
   ],
   "source": [
    "val onets = List(1,2,3) //scala中的列表是不可变的，每次操作需要新增列表，列表的下标从0开始"
   ]
  },
  {
   "cell_type": "code",
   "execution_count": 15,
   "metadata": {
    "ExecuteTime": {
     "end_time": "2021-06-18T06:55:55.035807Z",
     "start_time": "2021-06-18T06:55:54.675226Z"
    }
   },
   "outputs": [
    {
     "data": {
      "text/plain": [
       "onetwo: List[Int] = List(1, 2)\r\n",
       "threefour: List[Int] = List(3, 4)\r\n",
       "five: List[Int] = List(1, 2, 3, 4)\r\n"
      ]
     },
     "execution_count": 15,
     "metadata": {},
     "output_type": "execute_result"
    }
   ],
   "source": [
    "val onetwo = List(1,2)\n",
    "val threefour = List(3,4)\n",
    "val five = onetwo :::threefour //:::代表列表拼接"
   ]
  },
  {
   "cell_type": "code",
   "execution_count": 16,
   "metadata": {
    "ExecuteTime": {
     "end_time": "2021-06-18T06:55:55.494601Z",
     "start_time": "2021-06-18T06:55:55.037801Z"
    }
   },
   "outputs": [
    {
     "data": {
      "text/plain": [
       "onetwo: List[Int] = List(1, 2)\r\n",
       "ott: List[Int] = List(0, 1, 2)\r\n"
      ]
     },
     "execution_count": 16,
     "metadata": {},
     "output_type": "execute_result"
    }
   ],
   "source": [
    "val onetwo = List(1,2)\n",
    "val ott = 0::onetwo //::代表列表最前面添加元素"
   ]
  },
  {
   "cell_type": "code",
   "execution_count": 17,
   "metadata": {
    "ExecuteTime": {
     "end_time": "2021-06-18T06:55:56.083565Z",
     "start_time": "2021-06-18T06:55:55.497593Z"
    }
   },
   "outputs": [
    {
     "data": {
      "text/plain": [
       "noe: scala.collection.immutable.Nil.type = List()\r\n",
       "noee: List[Int] = List(0)\r\n"
      ]
     },
     "execution_count": 17,
     "metadata": {},
     "output_type": "execute_result"
    }
   ],
   "source": [
    "val noe = Nil //创建一个空列表 或者 noe = List()\n",
    "val noee = 0::noe"
   ]
  },
  {
   "cell_type": "code",
   "execution_count": 18,
   "metadata": {
    "ExecuteTime": {
     "end_time": "2021-06-18T06:55:56.464570Z",
     "start_time": "2021-06-18T06:55:56.085559Z"
    }
   },
   "outputs": [
    {
     "data": {
      "text/plain": [
       "thrill: List[String] = List(Will, fill, until)\r\n",
       "res8: String = until\r\n"
      ]
     },
     "execution_count": 18,
     "metadata": {},
     "output_type": "execute_result"
    }
   ],
   "source": [
    "val thrill = \"Will\"::\"fill\"::\"until\"::Nil //创建一个列表\n",
    "thrill(2) //返回下标为2的元素"
   ]
  },
  {
   "cell_type": "code",
   "execution_count": 19,
   "metadata": {
    "ExecuteTime": {
     "end_time": "2021-06-18T06:55:56.956280Z",
     "start_time": "2021-06-18T06:55:56.467562Z"
    }
   },
   "outputs": [
    {
     "data": {
      "text/plain": [
       "res9: List[String] = List(until)\r\n"
      ]
     },
     "execution_count": 19,
     "metadata": {},
     "output_type": "execute_result"
    }
   ],
   "source": [
    "thrill.drop(2) //返回去掉了头两个元素的列表"
   ]
  },
  {
   "cell_type": "code",
   "execution_count": 20,
   "metadata": {
    "ExecuteTime": {
     "end_time": "2021-06-18T06:55:57.287929Z",
     "start_time": "2021-06-18T06:55:56.959272Z"
    }
   },
   "outputs": [
    {
     "data": {
      "text/plain": [
       "res10: List[String] = List(Will)\r\n"
      ]
     },
     "execution_count": 20,
     "metadata": {},
     "output_type": "execute_result"
    }
   ],
   "source": [
    "thrill.dropRight(2) //返回去掉后两个元素的列表"
   ]
  },
  {
   "cell_type": "code",
   "execution_count": 21,
   "metadata": {
    "ExecuteTime": {
     "end_time": "2021-06-18T06:55:57.635535Z",
     "start_time": "2021-06-18T06:55:57.290923Z"
    }
   },
   "outputs": [
    {
     "name": "stdout",
     "output_type": "stream",
     "text": [
      "Will\n",
      "fill\n",
      "until\n"
     ]
    }
   ],
   "source": [
    "thrill.foreach(s=>println(s)) //对列表中每个字符执行print，或者thrill.forearch(print)"
   ]
  },
  {
   "cell_type": "code",
   "execution_count": 22,
   "metadata": {
    "ExecuteTime": {
     "end_time": "2021-06-18T06:55:58.191071Z",
     "start_time": "2021-06-18T06:55:57.638528Z"
    }
   },
   "outputs": [
    {
     "data": {
      "text/plain": [
       "res12: String = Will\r\n"
      ]
     },
     "execution_count": 22,
     "metadata": {},
     "output_type": "execute_result"
    }
   ],
   "source": [
    "thrill.head //返回首个元素"
   ]
  },
  {
   "cell_type": "code",
   "execution_count": 23,
   "metadata": {
    "ExecuteTime": {
     "end_time": "2021-06-18T06:55:58.477327Z",
     "start_time": "2021-06-18T06:55:58.194061Z"
    }
   },
   "outputs": [
    {
     "data": {
      "text/plain": [
       "res13: Int = 3\r\n"
      ]
     },
     "execution_count": 23,
     "metadata": {},
     "output_type": "execute_result"
    }
   ],
   "source": [
    "thrill.length //返回列表的元素个数"
   ]
  },
  {
   "cell_type": "code",
   "execution_count": 24,
   "metadata": {
    "ExecuteTime": {
     "end_time": "2021-06-18T06:55:58.811499Z",
     "start_time": "2021-06-18T06:55:58.480321Z"
    }
   },
   "outputs": [
    {
     "data": {
      "text/plain": [
       "res14: List[String] = List(Will, fill)\r\n"
      ]
     },
     "execution_count": 24,
     "metadata": {},
     "output_type": "execute_result"
    }
   ],
   "source": [
    "thrill.filter(s => s.length == 4) //按顺序返回列表中长度为4的元素列表"
   ]
  },
  {
   "cell_type": "code",
   "execution_count": 25,
   "metadata": {
    "ExecuteTime": {
     "end_time": "2021-06-18T06:55:59.226329Z",
     "start_time": "2021-06-18T06:55:58.814426Z"
    }
   },
   "outputs": [
    {
     "data": {
      "text/plain": [
       "res15: Boolean = true\r\n"
      ]
     },
     "execution_count": 25,
     "metadata": {},
     "output_type": "execute_result"
    }
   ],
   "source": [
    "thrill.exists(s => s == \"until\") //判断thrill中是否有until"
   ]
  },
  {
   "cell_type": "code",
   "execution_count": 26,
   "metadata": {
    "ExecuteTime": {
     "end_time": "2021-06-18T06:55:59.557045Z",
     "start_time": "2021-06-18T06:55:59.236301Z"
    }
   },
   "outputs": [
    {
     "data": {
      "text/plain": [
       "res16: String = Will,fill,until\r\n"
      ]
     },
     "execution_count": 26,
     "metadata": {},
     "output_type": "execute_result"
    }
   ],
   "source": [
    "thrill.mkString(\",\") //按格式将列表中的元素返回成字符串"
   ]
  },
  {
   "cell_type": "code",
   "execution_count": 27,
   "metadata": {
    "ExecuteTime": {
     "end_time": "2021-06-18T06:55:59.953938Z",
     "start_time": "2021-06-18T06:55:59.560472Z"
    }
   },
   "outputs": [
    {
     "data": {
      "text/plain": [
       "res17: List[String] = List(until, fill, Will)\r\n"
      ]
     },
     "execution_count": 27,
     "metadata": {},
     "output_type": "execute_result"
    }
   ],
   "source": [
    "thrill.reverse //反转列表"
   ]
  },
  {
   "cell_type": "code",
   "execution_count": 28,
   "metadata": {
    "ExecuteTime": {
     "end_time": "2021-06-18T06:56:00.414705Z",
     "start_time": "2021-06-18T06:55:59.955931Z"
    }
   },
   "outputs": [
    {
     "data": {
      "text/plain": [
       "res18: List[String] = List(fill, until)\r\n"
      ]
     },
     "execution_count": 28,
     "metadata": {},
     "output_type": "execute_result"
    }
   ],
   "source": [
    "thrill.tail //返回除首个元素之外的其他元素组成的列表"
   ]
  },
  {
   "cell_type": "markdown",
   "metadata": {},
   "source": [
    "## 使用元组 "
   ]
  },
  {
   "cell_type": "code",
   "execution_count": 29,
   "metadata": {
    "ExecuteTime": {
     "end_time": "2021-06-18T06:56:00.779754Z",
     "start_time": "2021-06-18T06:56:00.417698Z"
    }
   },
   "outputs": [
    {
     "name": "stdout",
     "output_type": "stream",
     "text": [
      "99\n",
      "Luftballons\n"
     ]
    },
    {
     "data": {
      "text/plain": [
       "pair: (Int, String) = (99,Luftballons)\r\n"
      ]
     },
     "execution_count": 29,
     "metadata": {},
     "output_type": "execute_result"
    }
   ],
   "source": [
    "val pair = (99,\"Luftballons\") //元组也是不可变的，但元组可以包含不同类型的元素，直接使用圆括号创建元组。\n",
    "println(pair._1) //访问第一个元素，与列表访问元素不同\n",
    "println(pair._2) //访问第二个元素"
   ]
  },
  {
   "cell_type": "markdown",
   "metadata": {},
   "source": [
    "## 使用集和映射 "
   ]
  },
  {
   "cell_type": "code",
   "execution_count": 30,
   "metadata": {
    "ExecuteTime": {
     "end_time": "2021-06-18T06:56:01.320656Z",
     "start_time": "2021-06-18T06:56:00.782746Z"
    }
   },
   "outputs": [
    {
     "name": "stdout",
     "output_type": "stream",
     "text": [
      "Set(Boeing, Airbus, Lear)\r\n"
     ]
    },
    {
     "data": {
      "text/plain": [
       "jetset: scala.collection.immutable.Set[String] = Set(Boeing, Airbus, Lear)\r\n"
      ]
     },
     "execution_count": 30,
     "metadata": {},
     "output_type": "execute_result"
    }
   ],
   "source": [
    "var jetset = Set(\"Boeing\",\"Airbus\") //创建一个集\n",
    "jetset += \"Lear\" //添加元素\n",
    "println(jetset)"
   ]
  },
  {
   "cell_type": "code",
   "execution_count": 31,
   "metadata": {
    "ExecuteTime": {
     "end_time": "2021-06-18T06:56:01.636827Z",
     "start_time": "2021-06-18T06:56:01.322651Z"
    }
   },
   "outputs": [
    {
     "name": "stdout",
     "output_type": "stream",
     "text": [
      "Find big X on ground.\r\n"
     ]
    },
    {
     "data": {
      "text/plain": [
       "import scala.collection.mutable\r\n",
       "treasureMap: scala.collection.mutable.Map[Int,String] = Map(2 -> Find big X on ground., 1 -> Go to island., 3 -> Dig.)\r\n"
      ]
     },
     "execution_count": 31,
     "metadata": {},
     "output_type": "execute_result"
    }
   ],
   "source": [
    "import scala.collection.mutable //创建一个可变的映射 音译：缪的bou\n",
    "\n",
    "val treasureMap = mutable.Map[Int,String]()\n",
    "treasureMap += (1 -> \"Go to island.\") //通过->和+=方法向映射添加键值对\n",
    "treasureMap += (2 -> \"Find big X on ground.\")\n",
    "treasureMap += (3 -> \"Dig.\")\n",
    "println(treasureMap(2))"
   ]
  },
  {
   "cell_type": "code",
   "execution_count": 32,
   "metadata": {
    "ExecuteTime": {
     "end_time": "2021-06-18T06:56:02.031795Z",
     "start_time": "2021-06-18T06:56:01.638822Z"
    }
   },
   "outputs": [
    {
     "name": "stdout",
     "output_type": "stream",
     "text": [
      "three\r\n"
     ]
    },
    {
     "data": {
      "text/plain": [
       "import scala.collection.immutable\r\n",
       "Numeral: scala.collection.immutable.Map[Int,String] = Map(5 -> five, 1 -> one, 2 -> two, 3 -> three, 4 -> four)\r\n"
      ]
     },
     "execution_count": 32,
     "metadata": {},
     "output_type": "execute_result"
    }
   ],
   "source": [
    "import scala.collection.immutable //创建一个不可变的映射，默认不可变这句可以不写\n",
    "\n",
    "val Numeral = Map(1 -> \"one\",2 -> \"two\" ,3 -> \"three\",4 -> \"four\",5 -> \"five\")\n",
    "println(Numeral(3)) //获得键为3的值"
   ]
  },
  {
   "cell_type": "markdown",
   "metadata": {},
   "source": [
    "## 识别函数式编程风格 "
   ]
  },
  {
   "cell_type": "markdown",
   "metadata": {},
   "source": [
    "Scala编程方式一般分为两种：函数式编程和指令式编程。两种风格的显著差异是如果代码中包含任何var变量，它通常是指令式风格的；而如代码中完全没有var（也就是说代码中只包含val），那么它很可能是函数式的，函数式编程使得代码更清晰、更简洁，也更少出错。Scala鼓励函数式编程。"
   ]
  },
  {
   "cell_type": "code",
   "execution_count": 33,
   "metadata": {
    "ExecuteTime": {
     "end_time": "2021-06-18T06:56:02.539952Z",
     "start_time": "2021-06-18T06:56:02.040771Z"
    }
   },
   "outputs": [
    {
     "name": "stdout",
     "output_type": "stream",
     "text": [
      "Hello\n",
      ", \n",
      "World!\n"
     ]
    },
    {
     "data": {
      "text/plain": [
       "printArgs: (args: Array[String])Unit\r\n"
      ]
     },
     "execution_count": 33,
     "metadata": {},
     "output_type": "execute_result"
    }
   ],
   "source": [
    "def printArgs(args:Array[String]):Unit = { //Unit表示该函数并不返回任何有实际意义的结果\n",
    "    var i = 0\n",
    "    while(i<args.length){\n",
    "        println(args(i))\n",
    "        i +=1\n",
    "    }\n",
    "} //指令式编程\n",
    "printArgs( Array(\"Hello\",\", \",\"World!\"))"
   ]
  },
  {
   "cell_type": "code",
   "execution_count": 34,
   "metadata": {
    "ExecuteTime": {
     "end_time": "2021-06-18T06:56:02.873087Z",
     "start_time": "2021-06-18T06:56:02.541945Z"
    }
   },
   "outputs": [
    {
     "name": "stdout",
     "output_type": "stream",
     "text": [
      "Hello\n",
      ", \n",
      "World!\n"
     ]
    },
    {
     "data": {
      "text/plain": [
       "printArgs: (args: Array[String])Unit\r\n"
      ]
     },
     "execution_count": 34,
     "metadata": {},
     "output_type": "execute_result"
    }
   ],
   "source": [
    "def printArgs(args:Array[String]):Unit = {\n",
    "    for(arg <- args){\n",
    "        println(arg)\n",
    "    }\n",
    "} //函数式编程\n",
    "printArgs( Array(\"Hello\",\", \",\"World!\"))"
   ]
  },
  {
   "cell_type": "code",
   "execution_count": 35,
   "metadata": {
    "ExecuteTime": {
     "end_time": "2021-06-18T06:56:03.237658Z",
     "start_time": "2021-06-18T06:56:02.875081Z"
    }
   },
   "outputs": [
    {
     "name": "stdout",
     "output_type": "stream",
     "text": [
      "Hello\n",
      ", \n",
      "World!\n"
     ]
    },
    {
     "data": {
      "text/plain": [
       "printArgs: (args: Array[String])Unit\r\n"
      ]
     },
     "execution_count": 35,
     "metadata": {},
     "output_type": "execute_result"
    }
   ],
   "source": [
    "def printArgs(args:Array[String]):Unit = {\n",
    "    args.foreach(println)\n",
    "} //函数式编程\n",
    "printArgs( Array(\"Hello\",\", \",\"World!\"))"
   ]
  },
  {
   "cell_type": "markdown",
   "metadata": {},
   "source": [
    "##  从文件读取文本行"
   ]
  },
  {
   "cell_type": "code",
   "execution_count": 36,
   "metadata": {
    "ExecuteTime": {
     "end_time": "2021-06-18T06:56:03.540377Z",
     "start_time": "2021-06-18T06:56:03.239652Z"
    }
   },
   "outputs": [],
   "source": [
    "// import scala.io.Source\n",
    "// val args = Array(\"C:\\\\Users\\\\Cyy\\\\Desktop\\\\Files\\\\Danger.txt\") //返回每一行的文字数以及内容\n",
    "// if(args.length >0){\n",
    "//     for(line <- Source.fromFile(args(0)).getLines())\n",
    "//       println(line.length+\" \"+line)\n",
    "// }\n",
    "// else\n",
    "//   Console.err.println(\"Please enter filename\")"
   ]
  },
  {
   "cell_type": "code",
   "execution_count": 37,
   "metadata": {
    "ExecuteTime": {
     "end_time": "2021-06-18T06:56:03.843568Z",
     "start_time": "2021-06-18T06:56:03.542372Z"
    }
   },
   "outputs": [],
   "source": [
    "// import scala.io.Source\n",
    "// val args = Array(\"C:\\\\Users\\\\Cyy\\\\Desktop\\\\Files\\\\Danger.txt\")\n",
    "// for(line <- Source.fromFile(args(0)).getLines()) /*首先引入scala.io中名为Source的类，并将其第一个参数当作需要打开并处理的文件名，\n",
    "// Source.fromFile(args(0))尝试打开指定的文件，getLines()返回每一行的内容*/\n",
    "//   println(line)"
   ]
  },
  {
   "cell_type": "markdown",
   "metadata": {},
   "source": [
    "# 类和对象"
   ]
  },
  {
   "cell_type": "markdown",
   "metadata": {},
   "source": [
    "## 类、字段和方法 "
   ]
  },
  {
   "cell_type": "code",
   "execution_count": 38,
   "metadata": {
    "ExecuteTime": {
     "end_time": "2021-06-18T06:56:04.081534Z",
     "start_time": "2021-06-18T06:56:03.845598Z"
    }
   },
   "outputs": [
    {
     "data": {
      "text/plain": [
       "defined class CheckSumAccumilator1\r\n",
       "acc1: CheckSumAccumilator1 = CheckSumAccumilator1@799f9f20\r\n",
       "acc1.sum: Int = 3\r\n"
      ]
     },
     "execution_count": 38,
     "metadata": {},
     "output_type": "execute_result"
    }
   ],
   "source": [
    "class CheckSumAccumilator1{\n",
    "    var sum = 0\n",
    "}//定义类，类中有实例变量、方法\n",
    "val acc1 = new CheckSumAccumilator1 //实例化\n",
    "acc1.sum = 3 //引用类中实例变量，类中实例变量sum为var，因此可以被重新赋值，但acc本身是val，不能被重新赋值"
   ]
  },
  {
   "cell_type": "code",
   "execution_count": 39,
   "metadata": {
    "ExecuteTime": {
     "end_time": "2021-06-18T06:56:04.397688Z",
     "start_time": "2021-06-18T06:56:04.083529Z"
    }
   },
   "outputs": [
    {
     "data": {
      "text/plain": [
       "defined class CheckSumAccumilator2\r\n",
       "acc2: CheckSumAccumilator2 = CheckSumAccumilator2@46b8512c\r\n"
      ]
     },
     "execution_count": 39,
     "metadata": {},
     "output_type": "execute_result"
    }
   ],
   "source": [
    "class CheckSumAccumilator2{\n",
    "    private var sum = 0\n",
    "}//sum被标记为private，private只能被定义在同一个类中的方法访问，外部无法更新。scala中没有public，默认为公开访问\n",
    "val acc2 = new CheckSumAccumilator2 //acc2.sum = 3不能编译，sum为private"
   ]
  },
  {
   "cell_type": "code",
   "execution_count": 40,
   "metadata": {
    "ExecuteTime": {
     "end_time": "2021-06-18T06:56:04.651033Z",
     "start_time": "2021-06-18T06:56:04.399683Z"
    }
   },
   "outputs": [
    {
     "name": "stdout",
     "output_type": "stream",
     "text": [
      "3"
     ]
    },
    {
     "data": {
      "text/plain": [
       "defined class CheckCheckSumAccumilator3\r\n",
       "asc: CheckCheckSumAccumilator3 = CheckCheckSumAccumilator3@2aaf371c\r\n"
      ]
     },
     "execution_count": 40,
     "metadata": {},
     "output_type": "execute_result"
    }
   ],
   "source": [
    "class CheckCheckSumAccumilator3{\n",
    "    private var sum = 0\n",
    "    def add3(b:Int):Unit = {\n",
    "        sum += b\n",
    "        print(sum)\n",
    "    } //类中的方法，类中方法的参数都是val而不是var，在没有显式的return语句时，Scala返回的是该方法计算的最后一个值\n",
    "}\n",
    "val asc = new CheckCheckSumAccumilator3 //实例化\n",
    "asc.add3(3)//类中方法实例"
   ]
  },
  {
   "cell_type": "markdown",
   "metadata": {},
   "source": [
    "## 分号推断 "
   ]
  },
  {
   "cell_type": "code",
   "execution_count": 41,
   "metadata": {
    "ExecuteTime": {
     "end_time": "2021-06-18T06:56:04.983673Z",
     "start_time": "2021-06-18T06:56:04.653027Z"
    }
   },
   "outputs": [
    {
     "name": "stdout",
     "output_type": "stream",
     "text": [
      "hello\r\n"
     ]
    },
    {
     "data": {
      "text/plain": [
       "s: String = hello\r\n"
      ]
     },
     "execution_count": 41,
     "metadata": {},
     "output_type": "execute_result"
    }
   ],
   "source": [
    "val s = \"hello\" ; println(s) //Scala中每条语句最后的分号通常是可选的，但如果想在同一行包含多条语句，可以用分号"
   ]
  },
  {
   "cell_type": "markdown",
   "metadata": {},
   "source": [
    "## 单例对象 "
   ]
  },
  {
   "cell_type": "markdown",
   "metadata": {},
   "source": [
    "Scala提供了单例对象，关键字由class换成了object，当单例对象跟某个类共用一个名字时，它被称作这个类的伴生对象。必须在同一个源码文件中定义类和类的伴生对象。类和单例对象的一个区别是单例对象不接受参数，而类可以。没有同名的伴生类的单例对象称为孤立对象。"
   ]
  },
  {
   "cell_type": "code",
   "execution_count": 42,
   "metadata": {
    "ExecuteTime": {
     "end_time": "2021-06-18T06:56:05.395106Z",
     "start_time": "2021-06-18T06:56:04.985667Z"
    }
   },
   "outputs": [
    {
     "data": {
      "text/plain": [
       "defined object CheckSumAccumilator4\r\n",
       "res30: Int = 0\r\n"
      ]
     },
     "execution_count": 42,
     "metadata": {},
     "output_type": "execute_result"
    }
   ],
   "source": [
    "object CheckSumAccumilator4{\n",
    "    var sum = 0\n",
    "}\n",
    "CheckSumAccumilator4.sum //实例化"
   ]
  },
  {
   "cell_type": "markdown",
   "metadata": {},
   "source": [
    "## Scala应用程序 "
   ]
  },
  {
   "cell_type": "markdown",
   "metadata": {},
   "source": [
    "要运行一个.scala程序，必须提供一个独立对象的名称。这个独立对象需要包含一个main方法，该方法接受一个Array[String]作为参数，结果类型为Unit。对于一个.scala的程序，使用scalac编译，例如，scalac XXX.scala"
   ]
  },
  {
   "cell_type": "code",
   "execution_count": 43,
   "metadata": {
    "ExecuteTime": {
     "end_time": "2021-06-18T06:56:05.777103Z",
     "start_time": "2021-06-18T06:56:05.397101Z"
    }
   },
   "outputs": [
    {
     "name": "stdout",
     "output_type": "stream",
     "text": [
      "Hello World!\r\n"
     ]
    },
    {
     "data": {
      "text/plain": [
       "defined object Summer\r\n"
      ]
     },
     "execution_count": 43,
     "metadata": {},
     "output_type": "execute_result"
    }
   ],
   "source": [
    "object Summer{\n",
    "    def main(args:Array[String]):Unit = {\n",
    "        for(arg <- args){\n",
    "            println(arg)\n",
    "        }\n",
    "    }\n",
    "}\n",
    "Summer.main(Array(\"Hello World!\"))"
   ]
  },
  {
   "cell_type": "markdown",
   "metadata": {},
   "source": [
    "## App特质 "
   ]
  },
  {
   "cell_type": "markdown",
   "metadata": {},
   "source": [
    "要使用这个特质，首先要在单例对象名后面加上“entends App”,然后将你打算放在main方法里的代码直接写在单例对象的花括号里。"
   ]
  },
  {
   "cell_type": "code",
   "execution_count": 44,
   "metadata": {
    "ExecuteTime": {
     "end_time": "2021-06-18T06:56:06.284258Z",
     "start_time": "2021-06-18T06:56:05.779097Z"
    }
   },
   "outputs": [
    {
     "data": {
      "text/plain": [
       "defined object FallWinterSpringSummer\r\n"
      ]
     },
     "execution_count": 44,
     "metadata": {},
     "output_type": "execute_result"
    }
   ],
   "source": [
    "object FallWinterSpringSummer extends App{\n",
    "    for(season <-List(\"fall'\",\"winter\",\"spring\"))\n",
    "      println(season)\n",
    "}"
   ]
  },
  {
   "cell_type": "markdown",
   "metadata": {},
   "source": [
    "# 基础类型和操作"
   ]
  },
  {
   "cell_type": "markdown",
   "metadata": {},
   "source": [
    "## 一些基础类型 "
   ]
  },
  {
   "cell_type": "markdown",
   "metadata": {},
   "source": [
    "Byte、Short、Int、Long和Char类型统称为整数类型；Byte、Short、Int、Long、Char、Float和Double统称为数值类型；String为字符型；Boolean为布尔型。"
   ]
  },
  {
   "cell_type": "markdown",
   "metadata": {},
   "source": [
    "## 字面量 "
   ]
  },
  {
   "cell_type": "markdown",
   "metadata": {},
   "source": [
    "5.1中的基础类型都可以用字面量（literal）来书写，字面量是在代码中直接写入常量的一种方式。"
   ]
  },
  {
   "cell_type": "markdown",
   "metadata": {},
   "source": [
    "### 整数字面量 "
   ]
  },
  {
   "cell_type": "markdown",
   "metadata": {},
   "source": [
    "用于Byte、Short、Int、Long的整数字面量有两种形式：十进制和十六进制。0x和0X开头代表十六进制，包含0-9和大写或小写的A-F的数字。"
   ]
  },
  {
   "cell_type": "code",
   "execution_count": 45,
   "metadata": {
    "ExecuteTime": {
     "end_time": "2021-06-18T06:56:06.631331Z",
     "start_time": "2021-06-18T06:56:06.286252Z"
    }
   },
   "outputs": [
    {
     "data": {
      "text/plain": [
       "hex: Int = 5\r\n"
      ]
     },
     "execution_count": 45,
     "metadata": {},
     "output_type": "execute_result"
    }
   ],
   "source": [
    "val hex = 0x5"
   ]
  },
  {
   "cell_type": "code",
   "execution_count": 46,
   "metadata": {
    "ExecuteTime": {
     "end_time": "2021-06-18T06:56:06.915600Z",
     "start_time": "2021-06-18T06:56:06.634322Z"
    }
   },
   "outputs": [
    {
     "data": {
      "text/plain": [
       "hex2: Int = 255\r\n"
      ]
     },
     "execution_count": 46,
     "metadata": {},
     "output_type": "execute_result"
    }
   ],
   "source": [
    "val hex2 = 0x00FF //Scala总是以十进制打印整数值"
   ]
  },
  {
   "cell_type": "code",
   "execution_count": 47,
   "metadata": {
    "ExecuteTime": {
     "end_time": "2021-06-18T06:56:07.199373Z",
     "start_time": "2021-06-18T06:56:06.917526Z"
    }
   },
   "outputs": [
    {
     "data": {
      "text/plain": [
       "dec: Int = 31\r\n"
      ]
     },
     "execution_count": 47,
     "metadata": {},
     "output_type": "execute_result"
    }
   ],
   "source": [
    "val dec = 31"
   ]
  },
  {
   "cell_type": "code",
   "execution_count": 48,
   "metadata": {
    "ExecuteTime": {
     "end_time": "2021-06-18T06:56:07.623683Z",
     "start_time": "2021-06-18T06:56:07.201298Z"
    }
   },
   "outputs": [
    {
     "data": {
      "text/plain": [
       "tower: Long = 35\r\n"
      ]
     },
     "execution_count": 48,
     "metadata": {},
     "output_type": "execute_result"
    }
   ],
   "source": [
    "val tower = 35L //如果整数字面量以l或L结尾，那么它就是Long型的，否则就是Int"
   ]
  },
  {
   "cell_type": "code",
   "execution_count": 49,
   "metadata": {
    "ExecuteTime": {
     "end_time": "2021-06-18T06:56:07.957788Z",
     "start_time": "2021-06-18T06:56:07.626674Z"
    }
   },
   "outputs": [
    {
     "data": {
      "text/plain": [
       "little: Short = 345\r\n"
      ]
     },
     "execution_count": 49,
     "metadata": {},
     "output_type": "execute_result"
    }
   ],
   "source": [
    "val little:Short = 345"
   ]
  },
  {
   "cell_type": "code",
   "execution_count": 50,
   "metadata": {
    "ExecuteTime": {
     "end_time": "2021-06-18T06:56:08.306387Z",
     "start_time": "2021-06-18T06:56:07.959782Z"
    }
   },
   "outputs": [
    {
     "data": {
      "text/plain": [
       "littler: Byte = 34\r\n"
      ]
     },
     "execution_count": 50,
     "metadata": {},
     "output_type": "execute_result"
    }
   ],
   "source": [
    "val littler:Byte = 34"
   ]
  },
  {
   "cell_type": "markdown",
   "metadata": {},
   "source": [
    "### 浮点数字面量 "
   ]
  },
  {
   "cell_type": "markdown",
   "metadata": {},
   "source": [
    "浮点数字面量由十进制数、可选的小数点，以及后续一个可选的E或者e打头的指数组成。"
   ]
  },
  {
   "cell_type": "code",
   "execution_count": 51,
   "metadata": {
    "ExecuteTime": {
     "end_time": "2021-06-18T06:56:08.702329Z",
     "start_time": "2021-06-18T06:56:08.309378Z"
    }
   },
   "outputs": [
    {
     "data": {
      "text/plain": [
       "big: Double = 1.2345\r\n"
      ]
     },
     "execution_count": 51,
     "metadata": {},
     "output_type": "execute_result"
    }
   ],
   "source": [
    "val big = 1.2345"
   ]
  },
  {
   "cell_type": "code",
   "execution_count": 52,
   "metadata": {
    "ExecuteTime": {
     "end_time": "2021-06-18T06:56:09.066382Z",
     "start_time": "2021-06-18T06:56:08.705321Z"
    }
   },
   "outputs": [
    {
     "data": {
      "text/plain": [
       "bigger: Double = 1.234E10\r\n"
      ]
     },
     "execution_count": 52,
     "metadata": {},
     "output_type": "execute_result"
    }
   ],
   "source": [
    "val bigger = 1.234e10 //e代表十的多少次方"
   ]
  },
  {
   "cell_type": "code",
   "execution_count": 53,
   "metadata": {
    "ExecuteTime": {
     "end_time": "2021-06-18T06:56:09.413478Z",
     "start_time": "2021-06-18T06:56:09.069373Z"
    }
   },
   "outputs": [
    {
     "data": {
      "text/plain": [
       "little: Float = 1.2345\r\n"
      ]
     },
     "execution_count": 53,
     "metadata": {},
     "output_type": "execute_result"
    }
   ],
   "source": [
    "val little = 1.2345F //如果以F或者f结尾，它就是Float型的，否则就是Double"
   ]
  },
  {
   "cell_type": "markdown",
   "metadata": {},
   "source": [
    "### 字符字面量 "
   ]
  },
  {
   "cell_type": "markdown",
   "metadata": {},
   "source": [
    "字符字面量由一对单引号和中间的任意Unicode字符组成。"
   ]
  },
  {
   "cell_type": "code",
   "execution_count": 54,
   "metadata": {
    "ExecuteTime": {
     "end_time": "2021-06-18T06:56:09.731085Z",
     "start_time": "2021-06-18T06:56:09.415473Z"
    }
   },
   "outputs": [
    {
     "data": {
      "text/plain": [
       "a: Char = A\r\n"
      ]
     },
     "execution_count": 54,
     "metadata": {},
     "output_type": "execute_result"
    }
   ],
   "source": [
    "val a = 'A'"
   ]
  },
  {
   "cell_type": "code",
   "execution_count": 55,
   "metadata": {
    "ExecuteTime": {
     "end_time": "2021-06-18T06:56:10.029983Z",
     "start_time": "2021-06-18T06:56:09.733042Z"
    }
   },
   "outputs": [
    {
     "data": {
      "text/plain": [
       "back: Char =\r\n",
       "\r\n"
      ]
     },
     "execution_count": 55,
     "metadata": {},
     "output_type": "execute_result"
    }
   ],
   "source": [
    "val back = '\\n' // \\代表转义字符，\\n换行符，\\t制表符"
   ]
  },
  {
   "cell_type": "markdown",
   "metadata": {},
   "source": [
    "### 字符串字面量 "
   ]
  },
  {
   "cell_type": "markdown",
   "metadata": {},
   "source": [
    "字符串字面量由双引号包起来的字符组成。"
   ]
  },
  {
   "cell_type": "code",
   "execution_count": 56,
   "metadata": {
    "ExecuteTime": {
     "end_time": "2021-06-18T06:56:10.391555Z",
     "start_time": "2021-06-18T06:56:10.031977Z"
    }
   },
   "outputs": [
    {
     "data": {
      "text/plain": [
       "hello: String = hello\r\n"
      ]
     },
     "execution_count": 56,
     "metadata": {},
     "output_type": "execute_result"
    }
   ],
   "source": [
    "val hello = \"hello\""
   ]
  },
  {
   "cell_type": "code",
   "execution_count": 57,
   "metadata": {
    "ExecuteTime": {
     "end_time": "2021-06-18T06:56:10.788545Z",
     "start_time": "2021-06-18T06:56:10.393550Z"
    }
   },
   "outputs": [
    {
     "name": "stdout",
     "output_type": "stream",
     "text": [
      "Welcome to Scala\n",
      "           hello\r\n"
     ]
    }
   ],
   "source": [
    "println(\"\"\"Welcome to Scala\n",
    "           hello\"\"\") //scala支持三个双引号的原生字符串，原生字符串内部可以包含换行、单双引号和其他特殊字符"
   ]
  },
  {
   "cell_type": "markdown",
   "metadata": {},
   "source": [
    "### 符号字面量 "
   ]
  },
  {
   "cell_type": "markdown",
   "metadata": {},
   "source": [
    "符号字面量的写法是'ident，ident可以是任何由字母和数字组成的标识符。"
   ]
  },
  {
   "cell_type": "code",
   "execution_count": 58,
   "metadata": {
    "ExecuteTime": {
     "end_time": "2021-06-18T06:56:11.073866Z",
     "start_time": "2021-06-18T06:56:10.790540Z"
    }
   },
   "outputs": [
    {
     "data": {
      "text/plain": [
       "s: Symbol = 'aSymbol\r\n"
      ]
     },
     "execution_count": 58,
     "metadata": {},
     "output_type": "execute_result"
    }
   ],
   "source": [
    "val s = 'aSymbol"
   ]
  },
  {
   "cell_type": "code",
   "execution_count": 59,
   "metadata": {
    "ExecuteTime": {
     "end_time": "2021-06-18T06:56:11.437834Z",
     "start_time": "2021-06-18T06:56:11.079766Z"
    }
   },
   "outputs": [
    {
     "data": {
      "text/plain": [
       "nm: String = aSymbol\r\n"
      ]
     },
     "execution_count": 59,
     "metadata": {},
     "output_type": "execute_result"
    }
   ],
   "source": [
    "val nm = s.name //获取符号字面量的名称"
   ]
  },
  {
   "cell_type": "markdown",
   "metadata": {},
   "source": [
    "### 布尔值字面量 "
   ]
  },
  {
   "cell_type": "markdown",
   "metadata": {},
   "source": [
    "类型Boolean有两个字面量，true和false"
   ]
  },
  {
   "cell_type": "code",
   "execution_count": 60,
   "metadata": {
    "ExecuteTime": {
     "end_time": "2021-06-18T06:56:11.817815Z",
     "start_time": "2021-06-18T06:56:11.440826Z"
    }
   },
   "outputs": [
    {
     "data": {
      "text/plain": [
       "bool: Boolean = true\r\n"
      ]
     },
     "execution_count": 60,
     "metadata": {},
     "output_type": "execute_result"
    }
   ],
   "source": [
    "val bool = true"
   ]
  },
  {
   "cell_type": "code",
   "execution_count": 61,
   "metadata": {
    "ExecuteTime": {
     "end_time": "2021-06-18T06:56:12.121027Z",
     "start_time": "2021-06-18T06:56:11.820807Z"
    }
   },
   "outputs": [
    {
     "data": {
      "text/plain": [
       "fool: Boolean = false\r\n"
      ]
     },
     "execution_count": 61,
     "metadata": {},
     "output_type": "execute_result"
    }
   ],
   "source": [
    "val fool = false //0为false,非0为true"
   ]
  },
  {
   "cell_type": "markdown",
   "metadata": {},
   "source": [
    "## 字符串插值 "
   ]
  },
  {
   "cell_type": "markdown",
   "metadata": {},
   "source": [
    "字符串插值器包含三种：s、row、f"
   ]
  },
  {
   "cell_type": "code",
   "execution_count": 62,
   "metadata": {
    "ExecuteTime": {
     "end_time": "2021-06-18T06:56:12.376235Z",
     "start_time": "2021-06-18T06:56:12.123022Z"
    }
   },
   "outputs": [
    {
     "name": "stdout",
     "output_type": "stream",
     "text": [
      "Hello,reader!\r\n"
     ]
    },
    {
     "data": {
      "text/plain": [
       "name: String = reader\r\n"
      ]
     },
     "execution_count": 62,
     "metadata": {},
     "output_type": "execute_result"
    }
   ],
   "source": [
    "val name = \"reader\"\n",
    "println(s\"Hello,$name!\") //s插值器会对内嵌的每个表达式求值，对求值结果调用toString，替换掉字面量中的那些表达式，通常以$开始一个表达式"
   ]
  },
  {
   "cell_type": "code",
   "execution_count": 63,
   "metadata": {
    "ExecuteTime": {
     "end_time": "2021-06-18T06:56:12.742781Z",
     "start_time": "2021-06-18T06:56:12.378230Z"
    }
   },
   "outputs": [
    {
     "data": {
      "text/plain": [
       "res34: String = The answer is 42.\r\n"
      ]
     },
     "execution_count": 63,
     "metadata": {},
     "output_type": "execute_result"
    }
   ],
   "source": [
    "s\"The answer is ${6*7}.\" //表达式中如有非标识符字符，必须将它放进花括号中"
   ]
  },
  {
   "cell_type": "code",
   "execution_count": 64,
   "metadata": {
    "ExecuteTime": {
     "end_time": "2021-06-18T06:56:13.009599Z",
     "start_time": "2021-06-18T06:56:12.744777Z"
    }
   },
   "outputs": [
    {
     "name": "stdout",
     "output_type": "stream",
     "text": [
      "NO\\\\\\\\escape!\r\n"
     ]
    }
   ],
   "source": [
    "println(raw\"NO\\\\\\\\escape!\") //raw插值器不识别转义字符"
   ]
  },
  {
   "cell_type": "code",
   "execution_count": 65,
   "metadata": {
    "ExecuteTime": {
     "end_time": "2021-06-18T06:56:13.310794Z",
     "start_time": "2021-06-18T06:56:13.011593Z"
    }
   },
   "outputs": [
    {
     "data": {
      "text/plain": [
       "res36: String = 3.14159\r\n"
      ]
     },
     "execution_count": 65,
     "metadata": {},
     "output_type": "execute_result"
    }
   ],
   "source": [
    "f\"${math.Pi}%.5f\" //f插值器为格式化插值器"
   ]
  },
  {
   "cell_type": "code",
   "execution_count": 298,
   "metadata": {
    "ExecuteTime": {
     "end_time": "2021-06-18T07:02:33.447773Z",
     "start_time": "2021-06-18T07:02:33.225306Z"
    }
   },
   "outputs": [
    {
     "name": "stdout",
     "output_type": "stream",
     "text": [
      "Pi is 3.14159265358979300000\r\n"
     ]
    }
   ],
   "source": [
    "println(f\"Pi is ${math.Pi}%.20f\")"
   ]
  },
  {
   "cell_type": "markdown",
   "metadata": {},
   "source": [
    "## 操作符即方法"
   ]
  },
  {
   "cell_type": "code",
   "execution_count": 67,
   "metadata": {
    "ExecuteTime": {
     "end_time": "2021-06-18T06:56:13.992026Z",
     "start_time": "2021-06-18T06:56:13.694788Z"
    }
   },
   "outputs": [
    {
     "data": {
      "text/plain": [
       "sum: Int = 3\r\n"
      ]
     },
     "execution_count": 67,
     "metadata": {},
     "output_type": "execute_result"
    }
   ],
   "source": [
    "val sum = 1+2 //+为中缀操作符，操作元一个在左，一个在右"
   ]
  },
  {
   "cell_type": "code",
   "execution_count": 68,
   "metadata": {
    "ExecuteTime": {
     "end_time": "2021-06-18T06:56:14.327158Z",
     "start_time": "2021-06-18T06:56:13.997012Z"
    }
   },
   "outputs": [
    {
     "data": {
      "text/plain": [
       "summore: Int = 3\r\n"
      ]
     },
     "execution_count": 68,
     "metadata": {},
     "output_type": "execute_result"
    }
   ],
   "source": [
    "val summore = 1.+(2) //+实际上是一个方法"
   ]
  },
  {
   "cell_type": "code",
   "execution_count": 69,
   "metadata": {
    "ExecuteTime": {
     "end_time": "2021-06-18T06:56:14.708159Z",
     "start_time": "2021-06-18T06:56:14.330150Z"
    }
   },
   "outputs": [
    {
     "data": {
      "text/plain": [
       "res38: Double = -2.0\r\n"
      ]
     },
     "execution_count": 69,
     "metadata": {},
     "output_type": "execute_result"
    }
   ],
   "source": [
    "-2.0 //前缀操作符"
   ]
  },
  {
   "cell_type": "code",
   "execution_count": 70,
   "metadata": {
    "ExecuteTime": {
     "end_time": "2021-06-18T06:56:14.993922Z",
     "start_time": "2021-06-18T06:56:14.710154Z"
    }
   },
   "outputs": [
    {
     "data": {
      "text/plain": [
       "res39: Double = -2.0\r\n"
      ]
     },
     "execution_count": 70,
     "metadata": {},
     "output_type": "execute_result"
    }
   ],
   "source": [
    "(2.0).unary_-"
   ]
  },
  {
   "cell_type": "code",
   "execution_count": 71,
   "metadata": {
    "ExecuteTime": {
     "end_time": "2021-06-18T06:56:15.313102Z",
     "start_time": "2021-06-18T06:56:14.995920Z"
    }
   },
   "outputs": [
    {
     "data": {
      "text/plain": [
       "s: String = HELLO\r\n",
       "res40: String = hello\r\n"
      ]
     },
     "execution_count": 71,
     "metadata": {},
     "output_type": "execute_result"
    }
   ],
   "source": [
    "val s = \"HELLO\"\n",
    "s.toLowerCase //后缀操作符是那些不接受参数并且在调用时没有用英文句点圆括号的方法，toLowerCase()表示将字母小写，没有参数不写括号"
   ]
  },
  {
   "cell_type": "markdown",
   "metadata": {},
   "source": [
    "## 算术操作 "
   ]
  },
  {
   "cell_type": "markdown",
   "metadata": {},
   "source": [
    "算术操作符：+、-、*、/、%"
   ]
  },
  {
   "cell_type": "code",
   "execution_count": 72,
   "metadata": {
    "ExecuteTime": {
     "end_time": "2021-06-18T06:56:15.632247Z",
     "start_time": "2021-06-18T06:56:15.319086Z"
    }
   },
   "outputs": [
    {
     "data": {
      "text/plain": [
       "res41: Double = 3.5\r\n"
      ]
     },
     "execution_count": 72,
     "metadata": {},
     "output_type": "execute_result"
    }
   ],
   "source": [
    "1.2+2.3"
   ]
  },
  {
   "cell_type": "code",
   "execution_count": 73,
   "metadata": {
    "ExecuteTime": {
     "end_time": "2021-06-18T06:56:15.887094Z",
     "start_time": "2021-06-18T06:56:15.634244Z"
    }
   },
   "outputs": [
    {
     "data": {
      "text/plain": [
       "res42: Long = 5\r\n"
      ]
     },
     "execution_count": 73,
     "metadata": {},
     "output_type": "execute_result"
    }
   ],
   "source": [
    "2L+3L"
   ]
  },
  {
   "cell_type": "code",
   "execution_count": 74,
   "metadata": {
    "ExecuteTime": {
     "end_time": "2021-06-18T06:56:16.173348Z",
     "start_time": "2021-06-18T06:56:15.889089Z"
    }
   },
   "outputs": [
    {
     "data": {
      "text/plain": [
       "res43: Int = 2\r\n"
      ]
     },
     "execution_count": 74,
     "metadata": {},
     "output_type": "execute_result"
    }
   ],
   "source": [
    "11/4 //除号两边均为整数时，计算结果为整数，没有余数"
   ]
  },
  {
   "cell_type": "code",
   "execution_count": 75,
   "metadata": {
    "ExecuteTime": {
     "end_time": "2021-06-18T06:56:16.538922Z",
     "start_time": "2021-06-18T06:56:16.175342Z"
    }
   },
   "outputs": [
    {
     "data": {
      "text/plain": [
       "res44: Double = 2.75\r\n"
      ]
     },
     "execution_count": 75,
     "metadata": {},
     "output_type": "execute_result"
    }
   ],
   "source": [
    "11.0/4 //前一个操作元为小数，即可得到小数"
   ]
  },
  {
   "cell_type": "code",
   "execution_count": 76,
   "metadata": {
    "ExecuteTime": {
     "end_time": "2021-06-18T06:56:16.793325Z",
     "start_time": "2021-06-18T06:56:16.539919Z"
    }
   },
   "outputs": [
    {
     "data": {
      "text/plain": [
       "res45: Int = 3\r\n"
      ]
     },
     "execution_count": 76,
     "metadata": {},
     "output_type": "execute_result"
    }
   ],
   "source": [
    "11%4 //取余"
   ]
  },
  {
   "cell_type": "code",
   "execution_count": 77,
   "metadata": {
    "ExecuteTime": {
     "end_time": "2021-06-18T06:56:17.064543Z",
     "start_time": "2021-06-18T06:56:16.794239Z"
    }
   },
   "outputs": [
    {
     "data": {
      "text/plain": [
       "res46: Int = -2\r\n"
      ]
     },
     "execution_count": 77,
     "metadata": {},
     "output_type": "execute_result"
    }
   ],
   "source": [
    "1+ -3"
   ]
  },
  {
   "cell_type": "markdown",
   "metadata": {},
   "source": [
    "## 关系和逻辑操作 "
   ]
  },
  {
   "cell_type": "markdown",
   "metadata": {},
   "source": [
    "关系方法：>、<、>=、<=、!、&&（逻辑与）、&、||（逻辑或）、|"
   ]
  },
  {
   "cell_type": "markdown",
   "metadata": {},
   "source": [
    "## 位运算操作\n"
   ]
  },
  {
   "cell_type": "markdown",
   "metadata": {},
   "source": [
    "操作符：&（按位与）、|（按位或）、^（按位异或）、~（取反）"
   ]
  },
  {
   "cell_type": "markdown",
   "metadata": {},
   "source": [
    "## 对象相等性"
   ]
  },
  {
   "cell_type": "markdown",
   "metadata": {},
   "source": [
    "符号：==、！="
   ]
  },
  {
   "cell_type": "code",
   "execution_count": 78,
   "metadata": {
    "ExecuteTime": {
     "end_time": "2021-06-18T06:56:17.381699Z",
     "start_time": "2021-06-18T06:56:17.066538Z"
    }
   },
   "outputs": [
    {
     "data": {
      "text/plain": [
       "res47: Boolean = false\r\n"
      ]
     },
     "execution_count": 78,
     "metadata": {},
     "output_type": "execute_result"
    }
   ],
   "source": [
    "1 == 2"
   ]
  },
  {
   "cell_type": "code",
   "execution_count": 79,
   "metadata": {
    "ExecuteTime": {
     "end_time": "2021-06-18T06:56:17.636039Z",
     "start_time": "2021-06-18T06:56:17.383692Z"
    }
   },
   "outputs": [
    {
     "data": {
      "text/plain": [
       "res48: Boolean = false\r\n"
      ]
     },
     "execution_count": 79,
     "metadata": {},
     "output_type": "execute_result"
    }
   ],
   "source": [
    "List(1,2,3) ==List(2,3,4)"
   ]
  },
  {
   "cell_type": "code",
   "execution_count": 80,
   "metadata": {
    "ExecuteTime": {
     "end_time": "2021-06-18T06:56:17.955184Z",
     "start_time": "2021-06-18T06:56:17.649004Z"
    }
   },
   "outputs": [
    {
     "data": {
      "text/plain": [
       "res49: Boolean = true\r\n"
      ]
     },
     "execution_count": 80,
     "metadata": {},
     "output_type": "execute_result"
    }
   ],
   "source": [
    "List(1,2,3) != null"
   ]
  },
  {
   "cell_type": "markdown",
   "metadata": {},
   "source": [
    "## 操作符优先级和结合性 "
   ]
  },
  {
   "cell_type": "markdown",
   "metadata": {},
   "source": [
    "所有其他特殊字符、* / %、+ -、：、= ！、< >、&、^、|、所有字母、所有赋值操作符"
   ]
  },
  {
   "cell_type": "markdown",
   "metadata": {},
   "source": [
    "## 富包装类 "
   ]
  },
  {
   "cell_type": "markdown",
   "metadata": {},
   "source": [
    "RichByte、RichShort、RichInt等"
   ]
  },
  {
   "cell_type": "code",
   "execution_count": 81,
   "metadata": {
    "ExecuteTime": {
     "end_time": "2021-06-18T06:56:18.289314Z",
     "start_time": "2021-06-18T06:56:17.965181Z"
    }
   },
   "outputs": [
    {
     "data": {
      "text/plain": [
       "res50: Int = 5\r\n"
      ]
     },
     "execution_count": 81,
     "metadata": {},
     "output_type": "execute_result"
    }
   ],
   "source": [
    "0 max 5 //富操作"
   ]
  },
  {
   "cell_type": "code",
   "execution_count": 82,
   "metadata": {
    "ExecuteTime": {
     "end_time": "2021-06-18T06:56:18.527710Z",
     "start_time": "2021-06-18T06:56:18.291309Z"
    }
   },
   "outputs": [
    {
     "data": {
      "text/plain": [
       "res51: Int = 0\r\n"
      ]
     },
     "execution_count": 82,
     "metadata": {},
     "output_type": "execute_result"
    }
   ],
   "source": [
    "0 min 5"
   ]
  },
  {
   "cell_type": "markdown",
   "metadata": {},
   "source": [
    "# 函数式对象"
   ]
  },
  {
   "cell_type": "markdown",
   "metadata": {},
   "source": [
    "## Rational类的规格定义 "
   ]
  },
  {
   "cell_type": "markdown",
   "metadata": {},
   "source": [
    "有理数（rational number）"
   ]
  },
  {
   "cell_type": "markdown",
   "metadata": {},
   "source": [
    "## 构建Rational "
   ]
  },
  {
   "cell_type": "code",
   "execution_count": 83,
   "metadata": {
    "ExecuteTime": {
     "end_time": "2021-06-18T06:56:18.716198Z",
     "start_time": "2021-06-18T06:56:18.529671Z"
    }
   },
   "outputs": [
    {
     "name": "stdout",
     "output_type": "stream",
     "text": [
      "Created 1/2\r\n"
     ]
    },
    {
     "data": {
      "text/plain": [
       "defined class Rational\r\n",
       "res52: Rational = Rational@d3c6939\r\n"
      ]
     },
     "execution_count": 83,
     "metadata": {},
     "output_type": "execute_result"
    }
   ],
   "source": [
    "class Rational(n:Int,d:Int){\n",
    "    println(\"Created \"+ n +\"/\" + d)\n",
    "}\n",
    "new Rational(1,2)"
   ]
  },
  {
   "cell_type": "markdown",
   "metadata": {},
   "source": [
    "## 重新实现toString方法"
   ]
  },
  {
   "cell_type": "code",
   "execution_count": 84,
   "metadata": {
    "ExecuteTime": {
     "end_time": "2021-06-18T06:56:18.986475Z",
     "start_time": "2021-06-18T06:56:18.717195Z"
    }
   },
   "outputs": [
    {
     "data": {
      "text/plain": [
       "defined class Rational\r\n",
       "res53: Rational = 1/2\r\n"
      ]
     },
     "execution_count": 84,
     "metadata": {},
     "output_type": "execute_result"
    }
   ],
   "source": [
    "class Rational(n:Int,d:Int){\n",
    "    override def toString = n + \"/\" + d //override重载\n",
    "}\n",
    "new Rational(1,2)"
   ]
  },
  {
   "cell_type": "markdown",
   "metadata": {},
   "source": [
    "## 检查前置条件\n"
   ]
  },
  {
   "cell_type": "code",
   "execution_count": 299,
   "metadata": {
    "ExecuteTime": {
     "end_time": "2021-06-18T07:14:09.631804Z",
     "start_time": "2021-06-18T07:14:09.485689Z"
    }
   },
   "outputs": [
    {
     "data": {
      "text/plain": [
       "defined class Rational\r\n",
       "res214: Rational = 1/2\r\n"
      ]
     },
     "execution_count": 299,
     "metadata": {},
     "output_type": "execute_result"
    }
   ],
   "source": [
    "class Rational(n:Int,d:Int){\n",
    "    require(d != 0) //要求分母不为0\n",
    "    override def toString = n + \"/\" + d\n",
    "}\n",
    "new Rational(1,2)"
   ]
  },
  {
   "cell_type": "markdown",
   "metadata": {},
   "source": [
    "## 添加字段 "
   ]
  },
  {
   "cell_type": "code",
   "execution_count": 86,
   "metadata": {
    "ExecuteTime": {
     "end_time": "2021-06-18T06:56:19.384409Z",
     "start_time": "2021-06-18T06:56:19.164998Z"
    }
   },
   "outputs": [
    {
     "data": {
      "text/plain": [
       "defined class Rational\r\n",
       "onehalf: Rational = 1/2\r\n",
       "twothrids: Rational = 2/3\r\n",
       "res55: Rational = 7/6\r\n"
      ]
     },
     "execution_count": 86,
     "metadata": {},
     "output_type": "execute_result"
    }
   ],
   "source": [
    "class Rational(n:Int,d:Int){\n",
    "    require(d != 0) //要求分母不为0\n",
    "    val numer: Int = n\n",
    "    val denom: Int = d\n",
    "    override def toString = numer + \"/\" + denom\n",
    "    def add(that: Rational):Rational = {\n",
    "        new Rational(\n",
    "          numer*that.denom+that.numer*denom,\n",
    "          denom*that.denom\n",
    "        )\n",
    "    }\n",
    "}\n",
    "val onehalf = new Rational(1,2)\n",
    "val twothrids = new Rational(2,3)\n",
    "onehalf add twothrids"
   ]
  },
  {
   "cell_type": "markdown",
   "metadata": {},
   "source": [
    "## 自引用 "
   ]
  },
  {
   "cell_type": "code",
   "execution_count": 87,
   "metadata": {
    "ExecuteTime": {
     "end_time": "2021-06-18T06:56:19.733011Z",
     "start_time": "2021-06-18T06:56:19.387402Z"
    }
   },
   "outputs": [
    {
     "data": {
      "text/plain": [
       "defined class Rational\r\n"
      ]
     },
     "execution_count": 87,
     "metadata": {},
     "output_type": "execute_result"
    }
   ],
   "source": [
    "class Rational(n:Int,d:Int){\n",
    "    require(d != 0) //要求分母不为0\n",
    "    val numer: Int = n\n",
    "    val denom: Int = d\n",
    "    override def toString = numer + \"/\" + denom\n",
    "    def add(that: Rational):Rational = {\n",
    "        new Rational(\n",
    "          numer*that.denom+that.numer*denom,\n",
    "          denom*that.denom\n",
    "        )\n",
    "    }\n",
    "    def lessThan(that:Rational) = this.numer*that.denom < that.numer*this.denom /*关键字this指向当前执行方法的调用对象，当被用在构造方法\n",
    "    里的时候，指向被构造的对象实例*/\n",
    "}"
   ]
  },
  {
   "cell_type": "markdown",
   "metadata": {},
   "source": [
    "## 辅助构造方法\n"
   ]
  },
  {
   "cell_type": "markdown",
   "metadata": {},
   "source": [
    "构造方法是一种特殊的方法，它是一个与类同名的方法。对象的创建就是通过构造方法来完成，其功能主要是完成对象的初始化。主构造方法之外的构造方法称为辅助构造方法，Scala的辅助构造方法以 def this(...)开始。"
   ]
  },
  {
   "cell_type": "code",
   "execution_count": 88,
   "metadata": {
    "ExecuteTime": {
     "end_time": "2021-06-18T06:56:19.971374Z",
     "start_time": "2021-06-18T06:56:19.735007Z"
    }
   },
   "outputs": [
    {
     "data": {
      "text/plain": [
       "defined class Rational\r\n",
       "res56: Rational = 5/1\r\n"
      ]
     },
     "execution_count": 88,
     "metadata": {},
     "output_type": "execute_result"
    }
   ],
   "source": [
    "class Rational(n:Int,d:Int){\n",
    "    require(d != 0) //要求分母不为0\n",
    "    val numer: Int = n\n",
    "    val denom: Int = d\n",
    "    def this(n:Int) = this(n,1) //辅助构造方法，如果只传了分母，将分子自动写为1\n",
    "    override def toString = numer + \"/\" + denom\n",
    "    def add(that: Rational):Rational = {\n",
    "        new Rational(\n",
    "          numer*that.denom+that.numer*denom,\n",
    "          denom*that.denom\n",
    "        )\n",
    "    }\n",
    "}\n",
    "new Rational(5)"
   ]
  },
  {
   "cell_type": "markdown",
   "metadata": {},
   "source": [
    "## 私有字段和方法 "
   ]
  },
  {
   "cell_type": "code",
   "execution_count": 89,
   "metadata": {
    "ExecuteTime": {
     "end_time": "2021-06-18T06:56:20.255644Z",
     "start_time": "2021-06-18T06:56:19.972372Z"
    }
   },
   "outputs": [
    {
     "data": {
      "text/plain": [
       "defined class Rational\r\n",
       "res57: Rational = 11/7\r\n"
      ]
     },
     "execution_count": 89,
     "metadata": {},
     "output_type": "execute_result"
    }
   ],
   "source": [
    "class Rational(n:Int,d:Int){\n",
    "    require(d != 0) //要求分母不为0\n",
    "    \n",
    "    private val g = gcd(n.abs,d.abs)\n",
    "    val numer: Int = n/g\n",
    "    val denom: Int = d/g\n",
    "    \n",
    "    def this(n:Int) = this(n,1) //辅助构造方法\n",
    "    \n",
    "    def add(that: Rational):Rational = {\n",
    "        new Rational(\n",
    "          numer*that.denom+that.numer*denom,\n",
    "          denom*that.denom\n",
    "        )\n",
    "    }\n",
    "    override def toString = numer + \"/\" + denom\n",
    "    \n",
    "    private def gcd(a: Int,b: Int):Int = if(b == 0) a else gcd(b,a%b) //递归求最大公约数\n",
    "}\n",
    "new Rational(66,42)"
   ]
  },
  {
   "cell_type": "markdown",
   "metadata": {},
   "source": [
    "## 定义操作符 "
   ]
  },
  {
   "cell_type": "code",
   "execution_count": 90,
   "metadata": {
    "ExecuteTime": {
     "end_time": "2021-06-18T06:56:20.636625Z",
     "start_time": "2021-06-18T06:56:20.257639Z"
    }
   },
   "outputs": [
    {
     "data": {
      "text/plain": [
       "defined class Rational\r\n"
      ]
     },
     "execution_count": 90,
     "metadata": {},
     "output_type": "execute_result"
    }
   ],
   "source": [
    "class Rational(n:Int,d:Int){\n",
    "    require(d != 0) //要求分母不为0\n",
    "    \n",
    "    private val g = gcd(n.abs,d.abs)\n",
    "    val numer: Int = n/g\n",
    "    val denom: Int = d/g\n",
    "    \n",
    "    def this(n:Int) = this(n,1) //辅助构造方法\n",
    "    \n",
    "    def +(that: Rational):Rational = { //Scala中+是一个合法的标识符，-、*、/也一样\n",
    "        new Rational(\n",
    "          numer*that.denom+that.numer*denom,\n",
    "          denom*that.denom\n",
    "        )\n",
    "    }\n",
    "    def *(that: Rational):Rational = {\n",
    "        new Rational(\n",
    "          numer*that.numer,\n",
    "          denom*that.denom\n",
    "        )\n",
    "    }\n",
    "    override def toString = numer + \"/\" + denom\n",
    "    \n",
    "    private def gcd(a: Int,b: Int):Int  = if(b == 0) a else gcd(b,a%b) //递归求最大公约数\n",
    "}"
   ]
  },
  {
   "cell_type": "code",
   "execution_count": 91,
   "metadata": {
    "ExecuteTime": {
     "end_time": "2021-06-18T06:56:21.003672Z",
     "start_time": "2021-06-18T06:56:20.638619Z"
    }
   },
   "outputs": [
    {
     "data": {
      "text/plain": [
       "x: Rational = 1/2\r\n",
       "y: Rational = 2/3\r\n",
       "res58: Rational = 7/6\r\n"
      ]
     },
     "execution_count": 91,
     "metadata": {},
     "output_type": "execute_result"
    }
   ],
   "source": [
    "val x = new Rational(1,2)\n",
    "val y = new Rational(2,3)\n",
    "x+y"
   ]
  },
  {
   "cell_type": "code",
   "execution_count": 92,
   "metadata": {
    "ExecuteTime": {
     "end_time": "2021-06-18T06:56:21.289936Z",
     "start_time": "2021-06-18T06:56:21.005666Z"
    }
   },
   "outputs": [
    {
     "data": {
      "text/plain": [
       "res59: Rational = 1/3\r\n"
      ]
     },
     "execution_count": 92,
     "metadata": {},
     "output_type": "execute_result"
    }
   ],
   "source": [
    "x*y"
   ]
  },
  {
   "cell_type": "markdown",
   "metadata": {},
   "source": [
    "## Scala中的标识符 "
   ]
  },
  {
   "cell_type": "markdown",
   "metadata": {},
   "source": [
    "四种构成形式：字母数字组合标识符、操作标识符、混合标识符、字面标识符。  \n",
    "字母数字组合标识符：字母或下划线打头，可以包含更多的字母、数字或下划线；  \n",
    "操作标识符：由一个或多个操作字符构成，比如+、-、*、/、？、#等；  \n",
    "混合标识符：由一个字母数字组合操作符、一个下划线和一个符号操作符组成；  \n",
    "字面标识符：由反引号括起来的任意字符串(` `)。"
   ]
  },
  {
   "cell_type": "markdown",
   "metadata": {},
   "source": [
    "## 方法重载"
   ]
  },
  {
   "cell_type": "code",
   "execution_count": 93,
   "metadata": {
    "ExecuteTime": {
     "end_time": "2021-06-18T06:56:21.653987Z",
     "start_time": "2021-06-18T06:56:21.291931Z"
    }
   },
   "outputs": [
    {
     "data": {
      "text/plain": [
       "defined class Rational\r\n",
       "x: Rational = 1/2\r\n",
       "res60: Rational = 5/2\r\n"
      ]
     },
     "execution_count": 93,
     "metadata": {},
     "output_type": "execute_result"
    }
   ],
   "source": [
    "class Rational(n:Int,d:Int){\n",
    "    require(d != 0)\n",
    "    \n",
    "    private val g = gcd(n.abs,d.abs)\n",
    "    val numer: Int = n/g\n",
    "    val denom: Int = d/g\n",
    "    \n",
    "    def this(n:Int) = this(n,1) \n",
    "    \n",
    "    def +(that: Rational):Rational = { \n",
    "        new Rational(\n",
    "          numer*that.denom+that.numer*denom,\n",
    "          denom*that.denom\n",
    "        )\n",
    "    }\n",
    "    def +(i:Int):Rational = new Rational(numer + i * denom, denom) //方法重载，每个方法名被用于多个方法\n",
    "    \n",
    "    def *(that: Rational):Rational = {\n",
    "        new Rational(\n",
    "          numer*that.numer,\n",
    "          denom*that.denom\n",
    "        )\n",
    "    }\n",
    "    def *(i:Int):Rational = new Rational(i*numer, denom)\n",
    "    \n",
    "    override def toString = numer + \"/\" + denom\n",
    "    \n",
    "    private def gcd(a: Int,b: Int):Int  = if(b == 0) a else gcd(b,a%b) \n",
    "}\n",
    "val x = new Rational(1,2)\n",
    "x+2 //不能是2+x，因为没有定义，可使用隐式转换"
   ]
  },
  {
   "cell_type": "markdown",
   "metadata": {},
   "source": [
    "## 隐式转换 "
   ]
  },
  {
   "cell_type": "code",
   "execution_count": 94,
   "metadata": {
    "ExecuteTime": {
     "end_time": "2021-06-18T06:56:21.970684Z",
     "start_time": "2021-06-18T06:56:21.655981Z"
    }
   },
   "outputs": [
    {
     "data": {
      "text/plain": [
       "warning: there was one feature warning; for details, enable `:setting -feature' or `:replay -feature'\r\n",
       "intToRational: (x: Int)Rational\r\n"
      ]
     },
     "execution_count": 94,
     "metadata": {},
     "output_type": "execute_result"
    }
   ],
   "source": [
    "implicit def intToRational(x:Int) = new Rational(x) //定义一个从Int到Rational的转换方法"
   ]
  },
  {
   "cell_type": "code",
   "execution_count": 95,
   "metadata": {
    "ExecuteTime": {
     "end_time": "2021-06-18T06:56:22.304854Z",
     "start_time": "2021-06-18T06:56:21.972678Z"
    }
   },
   "outputs": [
    {
     "data": {
      "text/plain": [
       "x: Rational = 1/2\r\n",
       "res61: Rational = 5/2\r\n"
      ]
     },
     "execution_count": 95,
     "metadata": {},
     "output_type": "execute_result"
    }
   ],
   "source": [
    "val x = new Rational(1,2)\n",
    "2+x"
   ]
  },
  {
   "cell_type": "markdown",
   "metadata": {},
   "source": [
    "# 内建的控制结构"
   ]
  },
  {
   "cell_type": "markdown",
   "metadata": {},
   "source": [
    "Scala中的控制结构：if、while、for、try、match和函数调用。Scala所有的控制结构都返回某种值作为结果，这是函数式编程语言采取的策略。"
   ]
  },
  {
   "cell_type": "markdown",
   "metadata": {},
   "source": [
    "## if表达式"
   ]
  },
  {
   "cell_type": "code",
   "execution_count": 96,
   "metadata": {
    "ExecuteTime": {
     "end_time": "2021-06-18T06:56:22.651949Z",
     "start_time": "2021-06-18T06:56:22.306854Z"
    }
   },
   "outputs": [
    {
     "data": {
      "text/plain": [
       "filename: Any = S\r\n"
      ]
     },
     "execution_count": 96,
     "metadata": {},
     "output_type": "execute_result"
    }
   ],
   "source": [
    "val filename = if(!args.isEmpty) args(0) else \"default.txt\" /*如果args不为空，选取第一个值；否则，选取默认值。这里用的是val定义，\n",
    "初始化后就不再变*/"
   ]
  },
  {
   "cell_type": "markdown",
   "metadata": {},
   "source": [
    "## while循环 "
   ]
  },
  {
   "cell_type": "code",
   "execution_count": 97,
   "metadata": {
    "ExecuteTime": {
     "end_time": "2021-06-18T06:56:23.030907Z",
     "start_time": "2021-06-18T06:56:22.653886Z"
    }
   },
   "outputs": [
    {
     "data": {
      "text/plain": [
       "gcdLoop: (x: Long, y: Long)Long\r\n",
       "res62: Long = 5\r\n"
      ]
     },
     "execution_count": 97,
     "metadata": {},
     "output_type": "execute_result"
    }
   ],
   "source": [
    "def gcdLoop(x:Long,y:Long):Long = {\n",
    "    var a = x\n",
    "    var b = y\n",
    "    while(a != 0){\n",
    "        val temp = a\n",
    "        a = b % a\n",
    "        b = temp\n",
    "    }\n",
    "    return b\n",
    "} //计算最大公约数\n",
    "gcdLoop(15,20)"
   ]
  },
  {
   "cell_type": "code",
   "execution_count": 98,
   "metadata": {
    "ExecuteTime": {
     "end_time": "2021-06-18T06:56:23.364042Z",
     "start_time": "2021-06-18T06:56:23.033899Z"
    }
   },
   "outputs": [
    {
     "data": {
      "text/plain": [
       "gcdLoop: (x: Long, y: Long)Long\r\n",
       "res63: Long = 5\r\n"
      ]
     },
     "execution_count": 98,
     "metadata": {},
     "output_type": "execute_result"
    }
   ],
   "source": [
    "def gcdLoop(x:Long,y:Long):Long = {\n",
    "    var a = x\n",
    "    var b = y\n",
    "    do {\n",
    "        val temp = a\n",
    "        a = b % a\n",
    "        b = temp\n",
    "    } while(a != 0) //do..while\n",
    "    b\n",
    "} //计算最大公约数\n",
    "gcdLoop(15,20)"
   ]
  },
  {
   "cell_type": "markdown",
   "metadata": {},
   "source": [
    "## for表达式 "
   ]
  },
  {
   "cell_type": "markdown",
   "metadata": {},
   "source": [
    "### 遍历集合 "
   ]
  },
  {
   "cell_type": "code",
   "execution_count": 99,
   "metadata": {
    "ExecuteTime": {
     "end_time": "2021-06-18T06:56:23.821870Z",
     "start_time": "2021-06-18T06:56:23.366036Z"
    }
   },
   "outputs": [
    {
     "name": "stdout",
     "output_type": "stream",
     "text": [
      "Scala is fun"
     ]
    },
    {
     "data": {
      "text/plain": [
       "args: String = Scala is fun\r\n"
      ]
     },
     "execution_count": 99,
     "metadata": {},
     "output_type": "execute_result"
    }
   ],
   "source": [
    "var args = \"Scala is fun\"\n",
    "for(arg <- args){\n",
    "    print(arg)\n",
    "} //遍历集合中的每个元素，arg <- args代表生成器"
   ]
  },
  {
   "cell_type": "code",
   "execution_count": 100,
   "metadata": {
    "ExecuteTime": {
     "end_time": "2021-06-18T06:56:24.154978Z",
     "start_time": "2021-06-18T06:56:23.823864Z"
    }
   },
   "outputs": [
    {
     "name": "stdout",
     "output_type": "stream",
     "text": [
      "1\n",
      "2\n",
      "3\n",
      "4\n"
     ]
    }
   ],
   "source": [
    "for(i <- 1 to 4){\n",
    "    println(i)\n",
    "}"
   ]
  },
  {
   "cell_type": "code",
   "execution_count": 101,
   "metadata": {
    "ExecuteTime": {
     "end_time": "2021-06-18T06:56:24.474125Z",
     "start_time": "2021-06-18T06:56:24.156973Z"
    }
   },
   "outputs": [
    {
     "name": "stdout",
     "output_type": "stream",
     "text": [
      "1\n",
      "2\n",
      "3\n"
     ]
    }
   ],
   "source": [
    "for(i <- 1 until 4){\n",
    "    println(i)\n",
    "}//不包含遍历值区间中的上界"
   ]
  },
  {
   "cell_type": "markdown",
   "metadata": {},
   "source": [
    "### 过滤 "
   ]
  },
  {
   "cell_type": "code",
   "execution_count": 300,
   "metadata": {
    "ExecuteTime": {
     "end_time": "2021-06-18T07:47:54.028198Z",
     "start_time": "2021-06-18T07:47:53.757908Z"
    }
   },
   "outputs": [
    {
     "name": "stdout",
     "output_type": "stream",
     "text": [
      "Scl is fun"
     ]
    },
    {
     "data": {
      "text/plain": [
       "args: String = Scala is fun\r\n"
      ]
     },
     "execution_count": 300,
     "metadata": {},
     "output_type": "execute_result"
    }
   ],
   "source": [
    "var args = \"Scala is fun\"\n",
    "for(arg <- args if(arg != 'a')){\n",
    "    print(arg)\n",
    "} //for表达式的过滤器是for表达式的圆括号中的一个if子句"
   ]
  },
  {
   "cell_type": "markdown",
   "metadata": {},
   "source": [
    "### 嵌套迭代 "
   ]
  },
  {
   "cell_type": "markdown",
   "metadata": {},
   "source": [
    "在for表达式的圆括号中添加多个<-子句，将得到嵌套循环，中间用分号分隔。也可以使用for{...}来包含生成器和过滤器，这样就可以省去某些分号。"
   ]
  },
  {
   "cell_type": "markdown",
   "metadata": {},
   "source": [
    "### 中途变量绑定 "
   ]
  },
  {
   "cell_type": "markdown",
   "metadata": {},
   "source": [
    "### 产出一个新的集合 "
   ]
  },
  {
   "cell_type": "markdown",
   "metadata": {},
   "source": [
    "for-yield表达式的语法如下：for 子句 yield 代码体，yield关键字必须出现在整个代码体之前，{}里面的就是代码体。for表达式的代码体每次被执行，都会产出一个值，当for表达式执行完毕后，其结果将包含所有交出的值，包含在一个集合当中。"
   ]
  },
  {
   "cell_type": "code",
   "execution_count": 103,
   "metadata": {
    "ExecuteTime": {
     "end_time": "2021-06-18T06:56:25.207185Z",
     "start_time": "2021-06-18T06:56:24.828178Z"
    }
   },
   "outputs": [
    {
     "data": {
      "text/plain": [
       "filesHere: Array[String] = Array(sca.scala, csc.py)\r\n",
       "scalafile: Array[String]\r\n"
      ]
     },
     "execution_count": 103,
     "metadata": {},
     "output_type": "execute_result"
    }
   ],
   "source": [
    "val filesHere = Array(\"sca.scala\",\"csc.py\")\n",
    "def scalafile = for {\n",
    "    file <-filesHere\n",
    "    if file.endsWith(\".scala\")\n",
    "} yield file"
   ]
  },
  {
   "cell_type": "code",
   "execution_count": 104,
   "metadata": {
    "ExecuteTime": {
     "end_time": "2021-06-18T06:56:25.886961Z",
     "start_time": "2021-06-18T06:56:25.209180Z"
    }
   },
   "outputs": [
    {
     "data": {
      "text/plain": [
       "res68: List[(Int, Int)] = List((2,1), (3,1), (3,2), (4,1), (4,2), (4,3))\r\n"
      ]
     },
     "execution_count": 104,
     "metadata": {},
     "output_type": "execute_result"
    }
   ],
   "source": [
    "for(i <- List.range(1,5); j <- List.range(1,i)) yield (i,j) //中间用分号分隔"
   ]
  },
  {
   "cell_type": "code",
   "execution_count": 105,
   "metadata": {
    "ExecuteTime": {
     "end_time": "2021-06-18T06:56:26.174192Z",
     "start_time": "2021-06-18T06:56:25.888956Z"
    }
   },
   "outputs": [
    {
     "data": {
      "text/plain": [
       "res69: List[Int] = List()\r\n"
      ]
     },
     "execution_count": 105,
     "metadata": {},
     "output_type": "execute_result"
    }
   ],
   "source": [
    "List.range(1,1)"
   ]
  },
  {
   "cell_type": "code",
   "execution_count": 303,
   "metadata": {
    "ExecuteTime": {
     "end_time": "2021-06-18T07:54:29.214272Z",
     "start_time": "2021-06-18T07:54:28.895110Z"
    }
   },
   "outputs": [
    {
     "data": {
      "text/plain": [
       "res218: Array[Int] = Array(1, 2, 3, 4, 5, 6, 7, 8, 9)\r\n"
      ]
     },
     "execution_count": 303,
     "metadata": {},
     "output_type": "execute_result"
    }
   ],
   "source": [
    "Array.range(1,10)"
   ]
  },
  {
   "cell_type": "markdown",
   "metadata": {},
   "source": [
    "## 用try表达式实现异常处理"
   ]
  },
  {
   "cell_type": "code",
   "execution_count": 106,
   "metadata": {
    "ExecuteTime": {
     "end_time": "2021-06-18T06:56:26.444068Z",
     "start_time": "2021-06-18T06:56:26.176187Z"
    }
   },
   "outputs": [
    {
     "data": {
      "text/plain": [
       "n: Int = 10\r\n",
       "half: Int = 5\r\n"
      ]
     },
     "execution_count": 106,
     "metadata": {},
     "output_type": "execute_result"
    }
   ],
   "source": [
    "var n = 10\n",
    "val half = if(n % 2 == 0) n/2 else throw new RuntimeException(\"n must be even\")"
   ]
  },
  {
   "cell_type": "code",
   "execution_count": 107,
   "metadata": {
    "ExecuteTime": {
     "end_time": "2021-06-18T06:56:26.858302Z",
     "start_time": "2021-06-18T06:56:26.445993Z"
    }
   },
   "outputs": [
    {
     "data": {
      "text/plain": [
       "f: ()Int\r\n",
       "res70: Int = 2\r\n"
      ]
     },
     "execution_count": 107,
     "metadata": {},
     "output_type": "execute_result"
    }
   ],
   "source": [
    "def f(): Int = try return 1 finally return 2\n",
    "f()"
   ]
  },
  {
   "cell_type": "markdown",
   "metadata": {},
   "source": [
    "## match表达式 "
   ]
  },
  {
   "cell_type": "markdown",
   "metadata": {},
   "source": [
    "match表达式可以让你从若干选项中选择，就像其它语言中的switch语句那样。"
   ]
  },
  {
   "cell_type": "code",
   "execution_count": 305,
   "metadata": {
    "ExecuteTime": {
     "end_time": "2021-06-18T08:13:09.845438Z",
     "start_time": "2021-06-18T08:13:09.595508Z"
    }
   },
   "outputs": [
    {
     "name": "stdout",
     "output_type": "stream",
     "text": [
      "salsa\r\n"
     ]
    },
    {
     "data": {
      "text/plain": [
       "args: List[String] = List(chips, eggs, salt)\r\n",
       "firstArg: String = chips\r\n"
      ]
     },
     "execution_count": 305,
     "metadata": {},
     "output_type": "execute_result"
    }
   ],
   "source": [
    "val args = List(\"chips\",\"eggs\",\"salt\")\n",
    "val firstArg = if(args.length > 0) args(0) else \"\"\n",
    "firstArg match {\n",
    "    case \"salt\" => println(\"pepper\")\n",
    "    case \"chips\" => println(\"salsa\")\n",
    "    case _ => println(\"huh?\")\n",
    "} // 缺省的样例以下划线_表示，这个通配符在Scala中经常被用来表示某个完全不知道的值"
   ]
  },
  {
   "cell_type": "markdown",
   "metadata": {},
   "source": [
    "## 没有break和continue的日子"
   ]
  },
  {
   "cell_type": "markdown",
   "metadata": {},
   "source": [
    "Scala没有break和continue命令，最简单的方式是用if换掉每个continue，用布尔值换掉每个break。布尔值包含它的while循环是否继续。如果仍需要使用break，Scala提供了一种标准类库。scala.util.control包的Break类给出了一个break方法。  "
   ]
  },
  {
   "cell_type": "code",
   "execution_count": 109,
   "metadata": {
    "ExecuteTime": {
     "end_time": "2021-06-18T06:56:27.666182Z",
     "start_time": "2021-06-18T06:56:27.336049Z"
    }
   },
   "outputs": [
    {
     "data": {
      "text/plain": [
       "import scala.util.control.Breaks._\r\n",
       "import java.io._\r\n"
      ]
     },
     "execution_count": 109,
     "metadata": {},
     "output_type": "execute_result"
    }
   ],
   "source": [
    "import scala.util.control.Breaks._\n",
    "import java.io._"
   ]
  },
  {
   "cell_type": "code",
   "execution_count": 110,
   "metadata": {
    "ExecuteTime": {
     "end_time": "2021-06-18T06:56:28.141935Z",
     "start_time": "2021-06-18T06:56:27.668177Z"
    }
   },
   "outputs": [
    {
     "name": "stdout",
     "output_type": "stream",
     "text": [
      "salt.scala\r\n"
     ]
    },
    {
     "data": {
      "text/plain": [
       "i: Int = 3\r\n",
       "foundIt: Boolean = true\r\n",
       "args: List[String] = List(chips, eggs, salt.scala)\r\n"
      ]
     },
     "execution_count": 110,
     "metadata": {},
     "output_type": "execute_result"
    }
   ],
   "source": [
    "var i = 0\n",
    "var foundIt = false\n",
    "val args = List(\"chips\",\"eggs\",\"salt.scala\")\n",
    "\n",
    "while(i < args.length && !foundIt){\n",
    "    if(!args(i).startsWith(\"-\")){\n",
    "        if(args(i).endsWith(\".scala\")){\n",
    "            foundIt = true\n",
    "            println(args(i))\n",
    "        }\n",
    "    }\n",
    "    i = i + 1\n",
    "}//输出首部不是-，尾部是.scala的字符串"
   ]
  },
  {
   "cell_type": "markdown",
   "metadata": {},
   "source": [
    "## 变量作用域 "
   ]
  },
  {
   "cell_type": "markdown",
   "metadata": {},
   "source": [
    "Scala程序的变量在声明时附带了一个规定在哪里能使用这个名称的作用域，关于作用域最常见的例子是花括号一般都会引入一个新的作用域，即花括号内是一个作用域，离开花括号就不受作用。"
   ]
  },
  {
   "cell_type": "code",
   "execution_count": 111,
   "metadata": {
    "ExecuteTime": {
     "end_time": "2021-06-18T06:56:28.477058Z",
     "start_time": "2021-06-18T06:56:28.143930Z"
    }
   },
   "outputs": [
    {
     "data": {
      "text/plain": [
       "a: Int = 1\r\n"
      ]
     },
     "execution_count": 111,
     "metadata": {},
     "output_type": "execute_result"
    }
   ],
   "source": [
    "val a = 1\n",
    "//val a = 2 变量一旦定义好，就不能在相同的作用域内定义相同名字的新变量"
   ]
  },
  {
   "cell_type": "code",
   "execution_count": 112,
   "metadata": {
    "ExecuteTime": {
     "end_time": "2021-06-18T06:56:28.891948Z",
     "start_time": "2021-06-18T06:56:28.479053Z"
    }
   },
   "outputs": [
    {
     "name": "stdout",
     "output_type": "stream",
     "text": [
      "2\n",
      "1\n"
     ]
    },
    {
     "data": {
      "text/plain": [
       "a: Int = 1\r\n"
      ]
     },
     "execution_count": 112,
     "metadata": {},
     "output_type": "execute_result"
    }
   ],
   "source": [
    "val a = 1;\n",
    "{\n",
    "    val a = 2\n",
    "    println(a)\n",
    "}\n",
    "println(a)"
   ]
  },
  {
   "cell_type": "markdown",
   "metadata": {},
   "source": [
    "# 函数和闭包"
   ]
  },
  {
   "cell_type": "markdown",
   "metadata": {},
   "source": [
    "## 方法 "
   ]
  },
  {
   "cell_type": "markdown",
   "metadata": {},
   "source": [
    "定义函数最常用的方法是作为某个对象的成员，这样的函数被称为方法。助手方法（函数）则是在类中定义的能被类中其他函数调用的方法。"
   ]
  },
  {
   "cell_type": "markdown",
   "metadata": {},
   "source": [
    "## 局部函数 "
   ]
  },
  {
   "cell_type": "markdown",
   "metadata": {},
   "source": [
    "为了防止助手函数的名字污染整个程序的命名空间，可以将助手函数定义为私有方法，即在助手方法前加private；或者可以在某个函数内部定义函数，即局部函数，局部函数可以访问包含它们的函数的参数，可以直接接收外部函数传递的参数。"
   ]
  },
  {
   "cell_type": "markdown",
   "metadata": {},
   "source": [
    "## 一等函数 "
   ]
  },
  {
   "cell_type": "markdown",
   "metadata": {},
   "source": [
    "Scala支持一等函数，不仅可以定义函数并调用它们，还可以用匿名的字面量来编写函数并将它们作为值进行传递。函数字面量被编译成类，并在运行时实例化成函数值。函数字面量和函数值的区别在于，函数字面量存在于源码，而函数值以对象的形式存在于运行中。"
   ]
  },
  {
   "cell_type": "code",
   "execution_count": 307,
   "metadata": {
    "ExecuteTime": {
     "end_time": "2021-06-18T08:24:27.655014Z",
     "start_time": "2021-06-18T08:24:27.380732Z"
    }
   },
   "outputs": [
    {
     "data": {
      "text/plain": [
       "increase: Int => Int = $Lambda$2609/0x000000080153f840@2d3e77ea\r\n"
      ]
     },
     "execution_count": 307,
     "metadata": {},
     "output_type": "execute_result"
    }
   ],
   "source": [
    "var increase = (x: Int) => x + 1 // =>表示将该函数的左侧的内容转换成右侧的内容，函数值是对象，所以可以将它们存放在变量中"
   ]
  },
  {
   "cell_type": "code",
   "execution_count": 114,
   "metadata": {
    "ExecuteTime": {
     "end_time": "2021-06-18T06:56:29.623013Z",
     "start_time": "2021-06-18T06:56:29.228049Z"
    }
   },
   "outputs": [
    {
     "data": {
      "text/plain": [
       "res74: Int = 11\r\n"
      ]
     },
     "execution_count": 114,
     "metadata": {},
     "output_type": "execute_result"
    }
   ],
   "source": [
    "increase(10) //函数字面量也是函数，所以可以用常规的圆括号来调用它们"
   ]
  },
  {
   "cell_type": "code",
   "execution_count": 115,
   "metadata": {
    "ExecuteTime": {
     "end_time": "2021-06-18T06:56:30.067842Z",
     "start_time": "2021-06-18T06:56:29.625008Z"
    }
   },
   "outputs": [
    {
     "name": "stdout",
     "output_type": "stream",
     "text": [
      "we are "
     ]
    },
    {
     "data": {
      "text/plain": [
       "increase: Int => Int = $Lambda$2267/0x00000008018cd840@51764747\r\n",
       "res75: Int = 2\r\n"
      ]
     },
     "execution_count": 115,
     "metadata": {},
     "output_type": "execute_result"
    }
   ],
   "source": [
    "increase = (x: Int) => {\n",
    "    print(\"we \")\n",
    "    print(\"are \")\n",
    "    x+1\n",
    "} //在函数字面量中包含多于1条语句，可以将函数体用花括号括起来，每条语句占一行，组成一个代码块。该函数的返回值就是对最后一个表达式求值的结果\n",
    "increase(1)"
   ]
  },
  {
   "cell_type": "code",
   "execution_count": 116,
   "metadata": {
    "ExecuteTime": {
     "end_time": "2021-06-18T06:56:30.463866Z",
     "start_time": "2021-06-18T06:56:30.069837Z"
    }
   },
   "outputs": [
    {
     "name": "stdout",
     "output_type": "stream",
     "text": [
      "-11\n",
      "-10\n",
      "-5\n",
      "0\n",
      "5\n",
      "10\n"
     ]
    },
    {
     "data": {
      "text/plain": [
       "someNumbers: List[Int] = List(-11, -10, -5, 0, 5, 10)\r\n"
      ]
     },
     "execution_count": 116,
     "metadata": {},
     "output_type": "execute_result"
    }
   ],
   "source": [
    "val someNumbers = List(-11,-10,-5,0,5,10)\n",
    "someNumbers.foreach((x:Int) => println(x)) //foreach接收一个函数作为入参"
   ]
  },
  {
   "cell_type": "code",
   "execution_count": 117,
   "metadata": {
    "ExecuteTime": {
     "end_time": "2021-06-18T06:56:30.893704Z",
     "start_time": "2021-06-18T06:56:30.465801Z"
    }
   },
   "outputs": [
    {
     "data": {
      "text/plain": [
       "res77: List[Int] = List(0, 5, 10)\r\n"
      ]
     },
     "execution_count": 117,
     "metadata": {},
     "output_type": "execute_result"
    }
   ],
   "source": [
    "someNumbers.filter((x:Int) => x > -5)//filter方法从集合中选出那些满足由调用方指定的条件的元素"
   ]
  },
  {
   "cell_type": "markdown",
   "metadata": {},
   "source": [
    "## 函数字面量的简写形式 "
   ]
  },
  {
   "cell_type": "code",
   "execution_count": 118,
   "metadata": {
    "ExecuteTime": {
     "end_time": "2021-06-18T06:56:31.290638Z",
     "start_time": "2021-06-18T06:56:30.896671Z"
    }
   },
   "outputs": [
    {
     "data": {
      "text/plain": [
       "res78: List[Int] = List(5, 10)\r\n"
      ]
     },
     "execution_count": 118,
     "metadata": {},
     "output_type": "execute_result"
    }
   ],
   "source": [
    "someNumbers.filter((x) => x > 0) //一种方法是省去参数类型的声明"
   ]
  },
  {
   "cell_type": "code",
   "execution_count": 119,
   "metadata": {
    "ExecuteTime": {
     "end_time": "2021-06-18T06:56:31.720489Z",
     "start_time": "2021-06-18T06:56:31.292634Z"
    }
   },
   "outputs": [
    {
     "data": {
      "text/plain": [
       "res79: List[Int] = List(5, 10)\r\n"
      ]
     },
     "execution_count": 119,
     "metadata": {},
     "output_type": "execute_result"
    }
   ],
   "source": [
    "someNumbers.filter( x => x > 0) //另一种方法是省去某个靠类型推断的参数两侧的圆括号"
   ]
  },
  {
   "cell_type": "markdown",
   "metadata": {},
   "source": [
    "## 占位符语法 "
   ]
  },
  {
   "cell_type": "markdown",
   "metadata": {},
   "source": [
    "为了让函数字面量更加精简，还可以使用下划线作为占位符，用来表示一个或多个参数，只要满足每个参数只在函数字面量中出现一次即可。"
   ]
  },
  {
   "cell_type": "code",
   "execution_count": 120,
   "metadata": {
    "ExecuteTime": {
     "end_time": "2021-06-18T06:56:32.166317Z",
     "start_time": "2021-06-18T06:56:31.725476Z"
    }
   },
   "outputs": [
    {
     "data": {
      "text/plain": [
       "res80: List[Int] = List(5, 10)\r\n"
      ]
     },
     "execution_count": 120,
     "metadata": {},
     "output_type": "execute_result"
    }
   ],
   "source": [
    "someNumbers.filter(_ > 0) //表示检查某个值是否大于0，等价于someNumbers.filter( x => x > 0) "
   ]
  },
  {
   "cell_type": "code",
   "execution_count": 121,
   "metadata": {
    "ExecuteTime": {
     "end_time": "2021-06-18T06:56:32.453549Z",
     "start_time": "2021-06-18T06:56:32.168312Z"
    }
   },
   "outputs": [
    {
     "data": {
      "text/plain": [
       "f: (Int, Int) => Int = $Lambda$2273/0x00000008018ee840@2b4ee804\r\n",
       "res81: Int = 15\r\n"
      ]
     },
     "execution_count": 121,
     "metadata": {},
     "output_type": "execute_result"
    }
   ],
   "source": [
    "val f =(_:Int) + (_:Int)\n",
    "f(5,10) //多个下划线意味着多个参数,而不是对单个参数的重复使用,第一个下划线代表第一个参数,第二个代表第二个参数,以此类推"
   ]
  },
  {
   "cell_type": "markdown",
   "metadata": {},
   "source": [
    "## 部分应用的函数 "
   ]
  },
  {
   "cell_type": "markdown",
   "metadata": {},
   "source": [
    "当你使用下划线时,实际上是在编写一个部分应用的函数,部分应用的函数是一个表达式,在这个表达式中,并不需要给出函数需要的所有参数,而是给出部分,或完全不给。"
   ]
  },
  {
   "cell_type": "code",
   "execution_count": 122,
   "metadata": {
    "ExecuteTime": {
     "end_time": "2021-06-18T06:56:32.882423Z",
     "start_time": "2021-06-18T06:56:32.455543Z"
    }
   },
   "outputs": [
    {
     "data": {
      "text/plain": [
       "sum: (a: Int, b: Int, c: Int)Int\r\n",
       "res82: Int = 6\r\n"
      ]
     },
     "execution_count": 122,
     "metadata": {},
     "output_type": "execute_result"
    }
   ],
   "source": [
    "def sum(a:Int, b:Int, c:Int) = a+b+c \n",
    "sum(1,2,3)"
   ]
  },
  {
   "cell_type": "code",
   "execution_count": 123,
   "metadata": {
    "ExecuteTime": {
     "end_time": "2021-06-18T06:56:33.232513Z",
     "start_time": "2021-06-18T06:56:32.884417Z"
    }
   },
   "outputs": [
    {
     "data": {
      "text/plain": [
       "a: (Int, Int, Int) => Int = $Lambda$2274/0x00000008018ee040@63ed641b\r\n",
       "res83: Int = 6\r\n"
      ]
     },
     "execution_count": 123,
     "metadata": {},
     "output_type": "execute_result"
    }
   ],
   "source": [
    "val a=sum _ //基于sum创建一个部分应用函数,需要保留函数名和下划线之间的空格,否则编译器会认为你引用的是另一个符号\n",
    "a(1,2,3)"
   ]
  },
  {
   "cell_type": "code",
   "execution_count": null,
   "metadata": {
    "ExecuteTime": {
     "start_time": "2021-06-18T09:19:25.464Z"
    }
   },
   "outputs": [],
   "source": [
    "val b =sum(1, _: Int,3) //一部分参数\n",
    "b(2)"
   ]
  },
  {
   "cell_type": "code",
   "execution_count": 125,
   "metadata": {
    "ExecuteTime": {
     "end_time": "2021-06-18T06:56:33.980514Z",
     "start_time": "2021-06-18T06:56:33.601525Z"
    }
   },
   "outputs": [
    {
     "name": "stdout",
     "output_type": "stream",
     "text": [
      "-11\n",
      "-10\n",
      "-5\n",
      "0\n",
      "5\n",
      "10\n"
     ]
    }
   ],
   "source": [
    "someNumbers.foreach(println) //如果你要的部分应用函数表达式并不给出任何参数,可以连下划线都不写"
   ]
  },
  {
   "cell_type": "markdown",
   "metadata": {},
   "source": [
    "## 闭包 "
   ]
  },
  {
   "cell_type": "code",
   "execution_count": 126,
   "metadata": {
    "ExecuteTime": {
     "end_time": "2021-06-18T06:56:34.283700Z",
     "start_time": "2021-06-18T06:56:33.982508Z"
    }
   },
   "outputs": [
    {
     "data": {
      "text/plain": [
       "more: Int = 1\r\n",
       "addMore: Int => Int = $Lambda$2277/0x00000008018ec040@4f85a276\r\n",
       "res86: Int = 11\r\n"
      ]
     },
     "execution_count": 126,
     "metadata": {},
     "output_type": "execute_result"
    }
   ],
   "source": [
    "var more = 1\n",
    "val addMore = (x:Int) => x + more\n",
    "addMore(10)//运行时从这个函数字面量创建而来的函数值（对象）被称作闭包（包含指向被捕获的more变量的引用）"
   ]
  },
  {
   "cell_type": "markdown",
   "metadata": {},
   "source": [
    "## 特殊的函数调用形式 "
   ]
  },
  {
   "cell_type": "markdown",
   "metadata": {},
   "source": [
    "Scala支持重复参数、带名字的参数和缺省参数。"
   ]
  },
  {
   "cell_type": "markdown",
   "metadata": {},
   "source": [
    "### 重复参数 "
   ]
  },
  {
   "cell_type": "markdown",
   "metadata": {},
   "source": [
    "Scala允许你标识出函数的最后一个参数可以被重复，可以让我们可以对函数传入一个可变长度的参数列表，要表示这样一个重复参数，需要在参数的类型之后加上一个星号*。"
   ]
  },
  {
   "cell_type": "code",
   "execution_count": 127,
   "metadata": {
    "ExecuteTime": {
     "end_time": "2021-06-18T06:56:34.632788Z",
     "start_time": "2021-06-18T06:56:34.285695Z"
    }
   },
   "outputs": [
    {
     "data": {
      "text/plain": [
       "echo: (args: String*)Unit\r\n"
      ]
     },
     "execution_count": 127,
     "metadata": {},
     "output_type": "execute_result"
    }
   ],
   "source": [
    "def echo(args:String*) = for(arg <- args) println(arg)"
   ]
  },
  {
   "cell_type": "code",
   "execution_count": 128,
   "metadata": {
    "ExecuteTime": {
     "end_time": "2021-06-18T06:56:34.950471Z",
     "start_time": "2021-06-18T06:56:34.633786Z"
    }
   },
   "outputs": [
    {
     "name": "stdout",
     "output_type": "stream",
     "text": [
      "hello\n",
      "world!\n"
     ]
    }
   ],
   "source": [
    "echo(\"hello\",\"world!\")"
   ]
  },
  {
   "cell_type": "code",
   "execution_count": 129,
   "metadata": {
    "ExecuteTime": {
     "end_time": "2021-06-18T06:56:35.392310Z",
     "start_time": "2021-06-18T06:56:34.952466Z"
    }
   },
   "outputs": [
    {
     "name": "stdout",
     "output_type": "stream",
     "text": [
      "What's\n",
      "up\n",
      "doc?\n"
     ]
    },
    {
     "data": {
      "text/plain": [
       "arr: Array[String] = Array(What's, up, doc?)\r\n"
      ]
     },
     "execution_count": 129,
     "metadata": {},
     "output_type": "execute_result"
    }
   ],
   "source": [
    "val arr = Array(\"What's\",\"up\",\"doc?\")\n",
    "echo(arr: _*) //这种表示法告诉编译器将arr的每个元素作为参数传给echo，而不是将所有元素放在一起作为单个实参传入"
   ]
  },
  {
   "cell_type": "markdown",
   "metadata": {},
   "source": [
    "### 带名字的参数 "
   ]
  },
  {
   "cell_type": "code",
   "execution_count": 130,
   "metadata": {
    "ExecuteTime": {
     "end_time": "2021-06-18T06:56:35.695497Z",
     "start_time": "2021-06-18T06:56:35.394306Z"
    }
   },
   "outputs": [
    {
     "data": {
      "text/plain": [
       "speed: (distance: Float, time: Float)Float\r\n",
       "res89: Float = 10.0\r\n"
      ]
     },
     "execution_count": 130,
     "metadata": {},
     "output_type": "execute_result"
    }
   ],
   "source": [
    "def speed(distance: Float, time: Float) = distance/time\n",
    "\n",
    "speed(100,10) //带名字的参数让你可以用不同的顺序将参数传给函数，语法就是在每个实参前加上参数名和等号"
   ]
  },
  {
   "cell_type": "code",
   "execution_count": 131,
   "metadata": {
    "ExecuteTime": {
     "end_time": "2021-06-18T06:56:36.029625Z",
     "start_time": "2021-06-18T06:56:35.696495Z"
    }
   },
   "outputs": [
    {
     "data": {
      "text/plain": [
       "res90: Float = 10.0\r\n"
      ]
     },
     "execution_count": 131,
     "metadata": {},
     "output_type": "execute_result"
    }
   ],
   "source": [
    "speed(time = 10,distance = 100)"
   ]
  },
  {
   "cell_type": "markdown",
   "metadata": {},
   "source": [
    "### 缺省参数值"
   ]
  },
  {
   "cell_type": "markdown",
   "metadata": {},
   "source": [
    "Scala允许你给函数参数指定缺省值，当缺省参数未被填充时，对应的参数将自动被填充为缺省值。"
   ]
  },
  {
   "cell_type": "markdown",
   "metadata": {},
   "source": [
    "## 尾递归 "
   ]
  },
  {
   "cell_type": "markdown",
   "metadata": {},
   "source": [
    "# 控制抽象"
   ]
  },
  {
   "cell_type": "markdown",
   "metadata": {},
   "source": [
    "## 减少代码重复"
   ]
  },
  {
   "cell_type": "markdown",
   "metadata": {},
   "source": [
    "## 简化调用方代码 "
   ]
  },
  {
   "cell_type": "markdown",
   "metadata": {},
   "source": [
    "## 柯里化 "
   ]
  },
  {
   "cell_type": "markdown",
   "metadata": {},
   "source": [
    "函数式编程的一个技巧就是柯里化，一个经过柯里化的函数在应用时支持多个参数列表，而不是只有一个。"
   ]
  },
  {
   "cell_type": "code",
   "execution_count": 132,
   "metadata": {
    "ExecuteTime": {
     "end_time": "2021-06-18T06:56:36.438076Z",
     "start_time": "2021-06-18T06:56:36.031620Z"
    }
   },
   "outputs": [
    {
     "data": {
      "text/plain": [
       "sum: (x: Int, y: Int)Int\r\n",
       "res91: Int = 3\r\n"
      ]
     },
     "execution_count": 132,
     "metadata": {},
     "output_type": "execute_result"
    }
   ],
   "source": [
    "def sum(x:Int,y:Int) = x+y\n",
    "sum(1,2)"
   ]
  },
  {
   "cell_type": "code",
   "execution_count": 133,
   "metadata": {
    "ExecuteTime": {
     "end_time": "2021-06-18T06:56:36.755249Z",
     "start_time": "2021-06-18T06:56:36.444060Z"
    }
   },
   "outputs": [
    {
     "data": {
      "text/plain": [
       "cSum: (x: Int)(y: Int)Int\r\n",
       "res92: Int = 3\r\n"
      ]
     },
     "execution_count": 133,
     "metadata": {},
     "output_type": "execute_result"
    }
   ],
   "source": [
    "def cSum(x:Int)(y:Int) = x+y\n",
    "cSum(1)(2)//经过柯里化的函数"
   ]
  },
  {
   "cell_type": "markdown",
   "metadata": {},
   "source": [
    "## 编写新的控制结构 "
   ]
  },
  {
   "cell_type": "code",
   "execution_count": 134,
   "metadata": {
    "ExecuteTime": {
     "end_time": "2021-06-18T06:56:37.105380Z",
     "start_time": "2021-06-18T06:56:36.757244Z"
    }
   },
   "outputs": [
    {
     "data": {
      "text/plain": [
       "twice: (op: Double => Double, x: Double)Double\r\n",
       "res93: Double = 7.0\r\n"
      ]
     },
     "execution_count": 134,
     "metadata": {},
     "output_type": "execute_result"
    }
   ],
   "source": [
    "def twice(op: Double =>Double, x:Double) = op(op(x))\n",
    "twice(_ + 1, 5)//op的类型为Double =>Double，意思是这是一个接收一个Double作为入参，返回另一个Double的函数"
   ]
  },
  {
   "cell_type": "code",
   "execution_count": 135,
   "metadata": {
    "ExecuteTime": {
     "end_time": "2021-06-18T06:56:37.470366Z",
     "start_time": "2021-06-18T06:56:37.107309Z"
    }
   },
   "outputs": [
    {
     "name": "stdout",
     "output_type": "stream",
     "text": [
      "hello world\r\n"
     ]
    }
   ],
   "source": [
    "println{\"hello world\"} /*在Scala中，只要有那种只传入一个参数的方法调用，都可以选择花括号来将入参包起来，\n",
    "这样做的目的是为了让调用方的程序员在花括号当中编写函数字面量*/"
   ]
  },
  {
   "cell_type": "markdown",
   "metadata": {},
   "source": [
    "## 传名参数 "
   ]
  },
  {
   "cell_type": "markdown",
   "metadata": {},
   "source": [
    "对传名类型而言，空的参数列表，即()，是去掉的，这样的类型只能用于参数声明，并不存在传名变量或传名字段，即将() => 写成 =>。"
   ]
  },
  {
   "cell_type": "code",
   "execution_count": 136,
   "metadata": {
    "ExecuteTime": {
     "end_time": "2021-06-18T06:56:37.773634Z",
     "start_time": "2021-06-18T06:56:37.472359Z"
    }
   },
   "outputs": [
    {
     "data": {
      "text/plain": [
       "assertionsEnabled: Boolean = true\r\n",
       "myAssert: (predicate: () => Boolean)Unit\r\n"
      ]
     },
     "execution_count": 136,
     "metadata": {},
     "output_type": "execute_result"
    }
   ],
   "source": [
    "var assertionsEnabled = true\n",
    "def myAssert(predicate: () => Boolean) = if(assertionsEnabled && !predicate()) throw new AssertionError //原函数\n",
    "myAssert(() => 5>2)"
   ]
  },
  {
   "cell_type": "code",
   "execution_count": 137,
   "metadata": {
    "ExecuteTime": {
     "end_time": "2021-06-18T06:56:38.092782Z",
     "start_time": "2021-06-18T06:56:37.775629Z"
    }
   },
   "outputs": [
    {
     "data": {
      "text/plain": [
       "assertionsEnabled: Boolean = true\r\n",
       "byAssert: (predicate: => Boolean)Unit\r\n"
      ]
     },
     "execution_count": 137,
     "metadata": {},
     "output_type": "execute_result"
    }
   ],
   "source": [
    "var assertionsEnabled = true\n",
    "def byAssert(predicate: => Boolean) = if(assertionsEnabled && !predicate) throw new AssertionError //传名之后的函数\n",
    "byAssert(5>2)"
   ]
  },
  {
   "cell_type": "markdown",
   "metadata": {},
   "source": [
    "# 组合和继承"
   ]
  },
  {
   "cell_type": "markdown",
   "metadata": {},
   "source": [
    "组合的意思是一个类可以包含对另一个类的引用，利用这个被引用类来帮助它完成任务；而继承是超类/子类的关系。"
   ]
  },
  {
   "cell_type": "markdown",
   "metadata": {},
   "source": [
    "## 一个二维的布局类库 "
   ]
  },
  {
   "cell_type": "code",
   "execution_count": 138,
   "metadata": {
    "ExecuteTime": {
     "end_time": "2021-06-18T06:56:38.425890Z",
     "start_time": "2021-06-18T06:56:38.094778Z"
    }
   },
   "outputs": [],
   "source": [
    "/* import Element.elem\n",
    "elem(s: String): Element\n",
    "val column1 = elem(\"hello\") above elem(\"***\")\n",
    "val column2 = elem(\"***\") above elem(\"world\")\n",
    "column1 beside column2 */"
   ]
  },
  {
   "cell_type": "markdown",
   "metadata": {},
   "source": [
    "## 抽象类 "
   ]
  },
  {
   "cell_type": "code",
   "execution_count": 139,
   "metadata": {
    "ExecuteTime": {
     "end_time": "2021-06-18T06:56:38.584510Z",
     "start_time": "2021-06-18T06:56:38.427884Z"
    }
   },
   "outputs": [
    {
     "data": {
      "text/plain": [
       "defined class Element\r\n"
      ]
     },
     "execution_count": 139,
     "metadata": {},
     "output_type": "execute_result"
    }
   ],
   "source": [
    "abstract class Element{\n",
    "    def contents: Array[String]\n",
    "}//定义抽象类Element"
   ]
  },
  {
   "cell_type": "markdown",
   "metadata": {},
   "source": [
    "在这个类中，contents被声明为一个没有实现的方法，这个方法是Element类的抽象成员，一个包含抽象成员的类本身也要声明为抽象的，做法是在class关键字之前写上abstract修饰符。  \n",
    "不能直接实例化一个抽象类，但可以创建子类去实例化。  \n",
    "一个方法只要没有实现（即没有等号或方法体），那么它就是抽象的。"
   ]
  },
  {
   "cell_type": "markdown",
   "metadata": {},
   "source": [
    "## 定义无参方法 "
   ]
  },
  {
   "cell_type": "code",
   "execution_count": 140,
   "metadata": {
    "ExecuteTime": {
     "end_time": "2021-06-18T06:56:38.727104Z",
     "start_time": "2021-06-18T06:56:38.586478Z"
    }
   },
   "outputs": [
    {
     "data": {
      "text/plain": [
       "defined class Element\r\n"
      ]
     },
     "execution_count": 140,
     "metadata": {},
     "output_type": "execute_result"
    }
   ],
   "source": [
    "abstract class Element{\n",
    "    def contents: Array[String]\n",
    "    def height:Int = contents.length\n",
    "    def width:Int = if(height == 0) 0 else contents(0).length\n",
    "} //三个方法没有参数"
   ]
  },
  {
   "cell_type": "markdown",
   "metadata": {},
   "source": [
    "Scala鼓励我们将那些不接收参数也没有副作用的方法定义为无参方法（即省去空括号），同时，对于有副作用的方法，不应该省去空括号。"
   ]
  },
  {
   "cell_type": "markdown",
   "metadata": {},
   "source": [
    "## 扩展类"
   ]
  },
  {
   "cell_type": "code",
   "execution_count": 141,
   "metadata": {
    "ExecuteTime": {
     "end_time": "2021-06-18T06:56:39.011345Z",
     "start_time": "2021-06-18T06:56:38.728102Z"
    }
   },
   "outputs": [
    {
     "data": {
      "text/plain": [
       "defined class ArrayElement\r\n"
      ]
     },
     "execution_count": 141,
     "metadata": {},
     "output_type": "execute_result"
    }
   ],
   "source": [
    "class ArrayElement(conts: Array[String]) extends Element{\n",
    "    def contents: Array[String] = conts\n",
    "}"
   ]
  },
  {
   "cell_type": "markdown",
   "metadata": {},
   "source": [
    "ArrayElement类被定义为扩展自Element类，ArrayElement类被称作Element的**子类**，Element是ArrayElement的**超类**。  \n",
    "**继承**的意思是超类的所有成员也是子类的成员，但有两个例外，一是超类的私有成员并不会被子类继承；二是如果子类里已经实现了相同名称和参数的成员，那么该成员不会被继承，这种也被说成子类的成员**重写(override)**了超类的成员。"
   ]
  },
  {
   "cell_type": "markdown",
   "metadata": {},
   "source": [
    "## 重写方法和字段 "
   ]
  },
  {
   "cell_type": "code",
   "execution_count": 142,
   "metadata": {
    "ExecuteTime": {
     "end_time": "2021-06-18T06:56:39.201851Z",
     "start_time": "2021-06-18T06:56:39.013339Z"
    }
   },
   "outputs": [
    {
     "data": {
      "text/plain": [
       "defined class ArrayElement\r\n"
      ]
     },
     "execution_count": 142,
     "metadata": {},
     "output_type": "execute_result"
    }
   ],
   "source": [
    "class ArrayElement(conts: Array[String]) extends Element{\n",
    "    val contents: Array[String] = conts\n",
    "} //将无参方法重写为字段"
   ]
  },
  {
   "cell_type": "markdown",
   "metadata": {},
   "source": [
    "Scala禁止在同一个类中使用相同的名称命名字段和方法。Scala的两个命名空间分别是：值（字段、方法、包和单例对象）、类型（类和特质名）"
   ]
  },
  {
   "cell_type": "markdown",
   "metadata": {},
   "source": [
    "## 定义参数化字段"
   ]
  },
  {
   "cell_type": "code",
   "execution_count": 143,
   "metadata": {
    "ExecuteTime": {
     "end_time": "2021-06-18T06:56:39.376384Z",
     "start_time": "2021-06-18T06:56:39.204843Z"
    }
   },
   "outputs": [
    {
     "data": {
      "text/plain": [
       "defined class ArrayElement\r\n"
      ]
     },
     "execution_count": 143,
     "metadata": {},
     "output_type": "execute_result"
    }
   ],
   "source": [
    "class ArrayElement(val contents: Array[String]) extends Element{\n",
    "} //将参数和字段合并成参数化字段"
   ]
  },
  {
   "cell_type": "markdown",
   "metadata": {},
   "source": [
    "## 调用超类构造方法 "
   ]
  },
  {
   "cell_type": "code",
   "execution_count": 144,
   "metadata": {
    "ExecuteTime": {
     "end_time": "2021-06-18T06:56:39.582832Z",
     "start_time": "2021-06-18T06:56:39.378379Z"
    }
   },
   "outputs": [
    {
     "data": {
      "text/plain": [
       "defined class LineElement\r\n"
      ]
     },
     "execution_count": 144,
     "metadata": {},
     "output_type": "execute_result"
    }
   ],
   "source": [
    "class LineElement(s:String) extends ArrayElement(Array(s)){\n",
    "    override def width = s.length\n",
    "    override def height = 1\n",
    "}//ArrayElement的构造方法接收一个参数，因此，LineElement需要向其超类的主构造方法传入一个入参"
   ]
  },
  {
   "cell_type": "markdown",
   "metadata": {},
   "source": [
    "## 使用override修饰符 "
   ]
  },
  {
   "cell_type": "markdown",
   "metadata": {},
   "source": [
    "Scala要求我们在所有重写了父类具体成员的成员之前加上这个修饰符，如果某个成员并不重写或继承基类中的某个成员，这个修饰符是被禁用的。"
   ]
  },
  {
   "cell_type": "markdown",
   "metadata": {},
   "source": [
    "## 多态和动态绑定"
   ]
  },
  {
   "cell_type": "markdown",
   "metadata": {},
   "source": [
    "超类对象可以有许多不同的展现形式，这个现象叫做**多态**。"
   ]
  },
  {
   "cell_type": "markdown",
   "metadata": {},
   "source": [
    "## 声明final成员 "
   ]
  },
  {
   "cell_type": "markdown",
   "metadata": {},
   "source": [
    "final修饰符可以保证某个成员不能被子类继承，子类尝试重写改成员时会编译错误。  \n",
    "final修饰符也可以保证某个类没有子类，任何想要定义其子类的尝试都无法通过编译。"
   ]
  },
  {
   "cell_type": "markdown",
   "metadata": {},
   "source": [
    "## 使用组合和继承 "
   ]
  },
  {
   "cell_type": "markdown",
   "metadata": {},
   "source": [
    "组合和继承是两种用其他已有的类来定义新类的方式，如果追求代码复用，优选组合。"
   ]
  },
  {
   "cell_type": "markdown",
   "metadata": {},
   "source": [
    "## 实现above、beside和toString "
   ]
  },
  {
   "cell_type": "code",
   "execution_count": 145,
   "metadata": {
    "ExecuteTime": {
     "end_time": "2021-06-18T06:56:39.947877Z",
     "start_time": "2021-06-18T06:56:39.584829Z"
    }
   },
   "outputs": [],
   "source": [
    "/*abstract class Element{\n",
    "    def contents: Array[String]\n",
    "    def height:Int = contents.length\n",
    "    def width:Int = if(height == 0) 0 else contents(0).length\n",
    "    def above(that:Element): Element = new ArrayElement(this.contents ++ that.contents)\n",
    "    def beside(that:Element): Element = new ArrayElement(for((line1,line2) <- this.contents zip that.contents) yield line1 + line2)\n",
    "    override def toString = contents = contents mkString \"\\n\"\n",
    "}*/"
   ]
  },
  {
   "cell_type": "markdown",
   "metadata": {},
   "source": [
    "## 定义工厂对象 "
   ]
  },
  {
   "cell_type": "markdown",
   "metadata": {},
   "source": [
    "工厂对象包含创建其他对象的方法，使用方用这些工厂方法来构造对象，而不是直接用new构建对象。这样做的好处是对象创建逻辑可以被集中起来，而对象是如何用具体的类表示的可以隐藏起来，暴露的细节更少。"
   ]
  },
  {
   "cell_type": "code",
   "execution_count": 146,
   "metadata": {
    "ExecuteTime": {
     "end_time": "2021-06-18T06:56:40.329384Z",
     "start_time": "2021-06-18T06:56:39.949869Z"
    }
   },
   "outputs": [
    {
     "data": {
      "text/plain": [
       "defined object Element\r\n",
       "warning: previously defined class Element is not a companion to object Element.\r\n",
       "Companions must be defined together; you may wish to use :paste mode for this.\r\n"
      ]
     },
     "execution_count": 146,
     "metadata": {},
     "output_type": "execute_result"
    }
   ],
   "source": [
    "object Element{\n",
    "    def elem(contents:Array[String]):Element = new ArrayElement(contents)\n",
    "} //创建了一个Element类的伴生对象，作为工厂对象，elem就是工厂方法"
   ]
  },
  {
   "cell_type": "markdown",
   "metadata": {},
   "source": [
    "## 增高和增宽"
   ]
  },
  {
   "cell_type": "markdown",
   "metadata": {},
   "source": [
    "## 放在一起 "
   ]
  },
  {
   "cell_type": "markdown",
   "metadata": {},
   "source": [
    "# Scala的继承关系"
   ]
  },
  {
   "cell_type": "markdown",
   "metadata": {},
   "source": [
    "## Scala的类继承关系 "
   ]
  },
  {
   "cell_type": "markdown",
   "metadata": {},
   "source": [
    "在Scala中，每个类都继承自同一个名为Any的超类，由于每个类都是Any的子类，在Any中定义的方法是全类型的，它们可以在任何对象上被调用。  \n",
    "Nothing是每一个其他类的子类。\n",
    "根类Any有两个子类：AnyVal和AnyRef。  \n",
    "AnyVal是Scala中所有值类的父类，Scala提供了九个内建的值类：Byte、Short、Char、Int、Long、Float、Double、Boolean和Unit。这些类的实例在Scala中统统写作字面量，Unit（优内特）用来作为那些不返回实际意义结果的方法的结果类型，Unit有且只有一个实例值，写作()。  \n",
    "根类Any的另一个子类是AnyRef类，这是Scala所有引用类的基类，Null是每个继承自AnyRef的类的子类。"
   ]
  },
  {
   "cell_type": "markdown",
   "metadata": {},
   "source": [
    "## 基本类型的实现机制 "
   ]
  },
  {
   "cell_type": "markdown",
   "metadata": {},
   "source": [
    "Scala的相等性操作==被设计为对于类型的实际呈现是透明的，对于值类型而言，它表示的是自然（数值或布尔值）相等性。"
   ]
  },
  {
   "cell_type": "code",
   "execution_count": 147,
   "metadata": {
    "ExecuteTime": {
     "end_time": "2021-06-18T06:56:40.694015Z",
     "start_time": "2021-06-18T06:56:40.335369Z"
    }
   },
   "outputs": [
    {
     "data": {
      "text/plain": [
       "isEqual: (x: Int, y: Int)Boolean\r\n",
       "res99: Boolean = true\r\n"
      ]
     },
     "execution_count": 147,
     "metadata": {},
     "output_type": "execute_result"
    }
   ],
   "source": [
    "def isEqual(x:Int, y:Int) = x == y\n",
    "isEqual(1,1)"
   ]
  },
  {
   "cell_type": "code",
   "execution_count": 148,
   "metadata": {
    "ExecuteTime": {
     "end_time": "2021-06-18T06:56:41.137757Z",
     "start_time": "2021-06-18T06:56:40.696936Z"
    }
   },
   "outputs": [
    {
     "data": {
      "text/plain": [
       "isEqual: (x: Any, y: Any)Boolean\r\n",
       "res100: Boolean = true\r\n"
      ]
     },
     "execution_count": 148,
     "metadata": {},
     "output_type": "execute_result"
    }
   ],
   "source": [
    "def isEqual(x:Any, y:Any) = x == y\n",
    "isEqual(1,1)"
   ]
  },
  {
   "cell_type": "markdown",
   "metadata": {},
   "source": [
    "## 底类型 "
   ]
  },
  {
   "cell_type": "markdown",
   "metadata": {},
   "source": [
    "scala.Null和scala.Nothing是Scala面向对象的类型系统用于统一处理某些“极端情况”的特殊类型。Null类是null引用的类型。"
   ]
  },
  {
   "cell_type": "markdown",
   "metadata": {},
   "source": [
    "## 定义自己的值类型 "
   ]
  },
  {
   "cell_type": "markdown",
   "metadata": {},
   "source": [
    "只有特定的几个类可以成为值类，要使的某个类成为值类，它必须有且仅有一个参数，并且在内部除了def之外不能有任何其他东西。"
   ]
  },
  {
   "cell_type": "code",
   "execution_count": 149,
   "metadata": {
    "ExecuteTime": {
     "end_time": "2021-06-18T06:56:41.313306Z",
     "start_time": "2021-06-18T06:56:41.138755Z"
    }
   },
   "outputs": [
    {
     "data": {
      "text/plain": [
       "defined class Dollars\r\n",
       "money: Dollars = $10000\r\n"
      ]
     },
     "execution_count": 149,
     "metadata": {},
     "output_type": "execute_result"
    }
   ],
   "source": [
    "class Dollars(val amount: Int) {\n",
    "    override def toString() = \"$\" + amount\n",
    "}\n",
    "val money = new Dollars(10000)"
   ]
  },
  {
   "cell_type": "markdown",
   "metadata": {},
   "source": [
    "# 特质"
   ]
  },
  {
   "cell_type": "markdown",
   "metadata": {},
   "source": [
    "特质是Scala代码复用的基础单元，特质将方法和字段定义封装起来，然后通过将它们混入类的方式来实现复用。类和特质的区别：特质不能有任何类参数（即那些传入类的主构造方法的参数）；类中的super是静态绑定的，而在特质中super是动态绑定的。"
   ]
  },
  {
   "cell_type": "markdown",
   "metadata": {},
   "source": [
    "## 特质如何工作"
   ]
  },
  {
   "cell_type": "code",
   "execution_count": 150,
   "metadata": {
    "ExecuteTime": {
     "end_time": "2021-06-18T06:56:41.534714Z",
     "start_time": "2021-06-18T06:56:41.315301Z"
    }
   },
   "outputs": [
    {
     "name": "stdout",
     "output_type": "stream",
     "text": [
      "I consume memory,therefore I am!\r\n"
     ]
    },
    {
     "data": {
      "text/plain": [
       "defined trait Philosophical\r\n",
       "defined class Frog\r\n",
       "frog: Frog = green\r\n"
      ]
     },
     "execution_count": 150,
     "metadata": {},
     "output_type": "execute_result"
    }
   ],
   "source": [
    "trait Philosophical{\n",
    "    def philosophize() = {\n",
    "        println(\"I consume memory,therefore I am!\")\n",
    "    }\n",
    "}//特质的定义跟类定义很像，除了关键字trait\n",
    "\n",
    "class Frog extends Philosophical{\n",
    "    override def toString = \"green\"\n",
    "}//一旦特质定义好，我们就可以用extends或with关键字将它混入到类中\n",
    "\n",
    "val frog = new Frog\n",
    "frog.philosophize"
   ]
  },
  {
   "cell_type": "code",
   "execution_count": 151,
   "metadata": {
    "ExecuteTime": {
     "end_time": "2021-06-18T06:56:41.917708Z",
     "start_time": "2021-06-18T06:56:41.536709Z"
    }
   },
   "outputs": [
    {
     "data": {
      "text/plain": [
       "phil: Philosophical = green\r\n"
      ]
     },
     "execution_count": 151,
     "metadata": {},
     "output_type": "execute_result"
    }
   ],
   "source": [
    "val phil: Philosophical = frog //特质同时定义了一个类型，这里Philosophical被用作了类型"
   ]
  },
  {
   "cell_type": "code",
   "execution_count": 152,
   "metadata": {
    "ExecuteTime": {
     "end_time": "2021-06-18T06:56:42.076284Z",
     "start_time": "2021-06-18T06:56:41.919703Z"
    }
   },
   "outputs": [
    {
     "data": {
      "text/plain": [
       "defined class Animal\r\n",
       "defined trait Haslegs\r\n",
       "defined class Frog\r\n"
      ]
     },
     "execution_count": 152,
     "metadata": {},
     "output_type": "execute_result"
    }
   ],
   "source": [
    "class Animal\n",
    "trait Haslegs\n",
    "\n",
    "class Frog extends Animal with Philosophical with Haslegs{\n",
    "    override def toString = \"green\"\n",
    "} //混入多个特质"
   ]
  },
  {
   "cell_type": "code",
   "execution_count": 153,
   "metadata": {
    "ExecuteTime": {
     "end_time": "2021-06-18T06:56:42.347626Z",
     "start_time": "2021-06-18T06:56:42.078280Z"
    }
   },
   "outputs": [
    {
     "name": "stdout",
     "output_type": "stream",
     "text": [
      "It ain't easy being green!\r\n"
     ]
    },
    {
     "data": {
      "text/plain": [
       "defined class Animal\r\n",
       "defined class Frog\r\n",
       "phrog: Philosophical = green\r\n"
      ]
     },
     "execution_count": 153,
     "metadata": {},
     "output_type": "execute_result"
    }
   ],
   "source": [
    "class Animal\n",
    "\n",
    "class Frog extends Animal with Philosophical{\n",
    "    override def toString = \"green\"\n",
    "    override def philosophize() = {\n",
    "        println(\"It ain't easy being \" + toString + \"!\")\n",
    "    }\n",
    "} //混入多个特质\n",
    "\n",
    "val phrog: Philosophical = new Frog\n",
    "phrog.philosophize()"
   ]
  },
  {
   "cell_type": "markdown",
   "metadata": {},
   "source": [
    "## 瘦接口和富接口 "
   ]
  },
  {
   "cell_type": "markdown",
   "metadata": {},
   "source": [
    "特质的一个主要用途是自动给类添加基于已有方法的新方法，也就是说，特质可以丰富一个瘦接口，让它成为富接口。"
   ]
  },
  {
   "cell_type": "markdown",
   "metadata": {},
   "source": [
    "## 示例：矩形对象 "
   ]
  },
  {
   "cell_type": "markdown",
   "metadata": {},
   "source": [
    "## Ordered特质 "
   ]
  },
  {
   "cell_type": "markdown",
   "metadata": {},
   "source": [
    "Ordered特质为你定义了<、>、<=、>=，这些方法都是基于你提供的compare来实现的，因此，Ordered特质允许你只实现一个compare方法来增强某个类，让它拥有完整的比较操作。"
   ]
  },
  {
   "cell_type": "code",
   "execution_count": 154,
   "metadata": {
    "ExecuteTime": {
     "end_time": "2021-06-18T06:56:42.615865Z",
     "start_time": "2021-06-18T06:56:42.349555Z"
    }
   },
   "outputs": [
    {
     "data": {
      "text/plain": [
       "defined class Rational\r\n"
      ]
     },
     "execution_count": 154,
     "metadata": {},
     "output_type": "execute_result"
    }
   ],
   "source": [
    "class Rational(n:Int,d:Int) extends Ordered[Rational]{\n",
    "    require(d != 0)\n",
    "    \n",
    "    private val g = gcd(n.abs,d.abs)\n",
    "    val numer: Int = n/g\n",
    "    val denom: Int = d/g\n",
    "    \n",
    "    def this(n:Int) = this(n,1) \n",
    "    \n",
    "    def +(that: Rational):Rational = { \n",
    "        new Rational(\n",
    "          numer*that.denom+that.numer*denom,\n",
    "          denom*that.denom\n",
    "        )\n",
    "    }\n",
    "    def +(i:Int):Rational = new Rational(numer + i * denom, denom) \n",
    "    \n",
    "    def *(that: Rational):Rational = {\n",
    "        new Rational(\n",
    "          numer*that.numer,\n",
    "          denom*that.denom\n",
    "        )\n",
    "    }\n",
    "    def *(i:Int):Rational = new Rational(i*numer, denom)\n",
    "    \n",
    "    def compare(that: Rational) = (this.numer * that.denom) - (that.numer * this.denom) //添加compare方法\n",
    "    \n",
    "    override def toString = numer + \"/\" + denom\n",
    "    \n",
    "    private def gcd(a: Int,b: Int):Int  = if(b == 0) a else gcd(b,a%b) \n",
    "}"
   ]
  },
  {
   "cell_type": "code",
   "execution_count": 155,
   "metadata": {
    "ExecuteTime": {
     "end_time": "2021-06-18T06:56:43.044782Z",
     "start_time": "2021-06-18T06:56:42.624840Z"
    }
   },
   "outputs": [
    {
     "data": {
      "text/plain": [
       "half: Rational = 1/2\r\n",
       "third: Rational = 1/3\r\n",
       "res103: Boolean = true\r\n"
      ]
     },
     "execution_count": 155,
     "metadata": {},
     "output_type": "execute_result"
    }
   ],
   "source": [
    "val half = new Rational(1,2)\n",
    "val third = new Rational(1,3)\n",
    "half > third"
   ]
  },
  {
   "cell_type": "markdown",
   "metadata": {},
   "source": [
    "## 作为可叠加修改的特质 "
   ]
  },
  {
   "cell_type": "markdown",
   "metadata": {},
   "source": [
    "特质让你修改类的方法，而它们的实现方式允许你将这些修改叠加起来。"
   ]
  },
  {
   "cell_type": "code",
   "execution_count": 156,
   "metadata": {
    "ExecuteTime": {
     "end_time": "2021-06-18T06:56:43.297061Z",
     "start_time": "2021-06-18T06:56:43.046711Z"
    }
   },
   "outputs": [
    {
     "data": {
      "text/plain": [
       "defined class IntQueue\r\n",
       "import scala.collection.mutable.ArrayBuffer\r\n",
       "defined class BasicIntQueue\r\n",
       "defined trait Doubling\r\n",
       "defined trait Incrementing\r\n",
       "defined trait Filtering\r\n"
      ]
     },
     "execution_count": 156,
     "metadata": {},
     "output_type": "execute_result"
    }
   ],
   "source": [
    "abstract class IntQueue{\n",
    "    def get(): Int\n",
    "    def put(x: Int)\n",
    "} //定义抽象类\n",
    "\n",
    "import scala.collection.mutable.ArrayBuffer\n",
    "class BasicIntQueue extends IntQueue{\n",
    "    private val buf = new ArrayBuffer[Int]\n",
    "    def get() = buf.remove(0)\n",
    "    def put(x:Int) = {buf += x}\n",
    "} \n",
    "\n",
    "trait Doubling extends IntQueue{\n",
    "    abstract override def put(x: Int) = {super.put(2*x)}\n",
    "}//将所有放入队列的整数翻倍\n",
    "\n",
    "trait Incrementing extends IntQueue{\n",
    "    abstract override def put(x: Int) = {super.put(x + 1)}\n",
    "} //将所有放入队列的整数加一\n",
    "\n",
    "trait Filtering extends IntQueue{\n",
    "    abstract override def put(x: Int) = {\n",
    "        if (x >= 0) super.put(x)}\n",
    "} //从队列中去除负整数"
   ]
  },
  {
   "cell_type": "code",
   "execution_count": 157,
   "metadata": {
    "ExecuteTime": {
     "end_time": "2021-06-18T06:56:43.758847Z",
     "start_time": "2021-06-18T06:56:43.299055Z"
    }
   },
   "outputs": [
    {
     "data": {
      "text/plain": [
       "queue: BasicIntQueue with Incrementing with Filtering = $anon$1@2f18cf8c\r\n"
      ]
     },
     "execution_count": 157,
     "metadata": {},
     "output_type": "execute_result"
    }
   ],
   "source": [
    "val queue = new BasicIntQueue with Incrementing with Filtering //可叠加修改\n",
    "queue.put(-1);queue.put(0);queue.put(1) //混入特质的顺序是重要的，越靠右出现的特质越先起作用，因此最靠右的特质中的方法最先被调用"
   ]
  },
  {
   "cell_type": "code",
   "execution_count": 158,
   "metadata": {
    "ExecuteTime": {
     "end_time": "2021-06-18T06:56:44.169775Z",
     "start_time": "2021-06-18T06:56:43.760841Z"
    }
   },
   "outputs": [
    {
     "data": {
      "text/plain": [
       "res105: Int = 1\r\n"
      ]
     },
     "execution_count": 158,
     "metadata": {},
     "output_type": "execute_result"
    }
   ],
   "source": [
    "queue.get()//每次调出一个结果"
   ]
  },
  {
   "cell_type": "markdown",
   "metadata": {},
   "source": [
    "## 为什么不用多重继承？"
   ]
  },
  {
   "cell_type": "markdown",
   "metadata": {},
   "source": [
    "特质和多重继承有一个区别在于：super调用的方法在调用发生的地方就已经确定了，而特质中的super调用取决于类和混入该类的特质的线性化。多重继承对调用顺序没有给出好的解决方案。  \n",
    "另一个区别是线性化，当你用new实例化一个类的时候，Scala会将类及它所有继承的类和特质都拿出来，将它们线性的排列在一起。然后，当你在某一类中调用super是，被调用的方法是这个链条中向上最近的那一个。如果除了最后一个方法外，所有的方法都调用了super，那么最终的结果就是叠加在一起的行为。"
   ]
  },
  {
   "cell_type": "markdown",
   "metadata": {},
   "source": [
    "## 要特质不要特质？ "
   ]
  },
  {
   "cell_type": "markdown",
   "metadata": {},
   "source": [
    "如果某个行为不会被复用，用**具体的类**。  \n",
    "如果某个行为可能被用于多个互不相关的类，用**特质**。  \n",
    "如果想要从Java代码中继承某个行为，用**抽象类**。"
   ]
  },
  {
   "cell_type": "markdown",
   "metadata": {},
   "source": [
    "# 包和引入"
   ]
  },
  {
   "cell_type": "markdown",
   "metadata": {},
   "source": [
    "耦合是指程序不同部分依赖其他部分的程度。低耦合能加少程序的某个局部的某个看似无害的改动对其它部分造成严重后果的风险。减少耦合的一种方式是以模块化的风格编写代码。"
   ]
  },
  {
   "cell_type": "markdown",
   "metadata": {},
   "source": [
    "## 将代码放进包里"
   ]
  },
  {
   "cell_type": "markdown",
   "metadata": {},
   "source": [
    "## 对相关代码的精简访问"
   ]
  },
  {
   "cell_type": "markdown",
   "metadata": {},
   "source": [
    "## 引入 "
   ]
  },
  {
   "cell_type": "markdown",
   "metadata": {},
   "source": [
    "import子句使得某个包或对象的成员可以只用它们的名字访问，而不需要在前面加上包名或对象名。  \n",
    "import bobsde._ 便捷访问，用下划线访问包bobsde中的所有成员。"
   ]
  },
  {
   "cell_type": "markdown",
   "metadata": {},
   "source": [
    "import java.sql.{A,B}//引入选择器子句，从sql中引入A和B两个成员。  \n",
    "import java.{sql => S} //以S为名引入java.sql包。  \n",
    "import java.sql.{A => _}//引入除A的其他成员。"
   ]
  },
  {
   "cell_type": "markdown",
   "metadata": {},
   "source": [
    "## 隐式引入"
   ]
  },
  {
   "cell_type": "markdown",
   "metadata": {},
   "source": [
    "每个扩展名为.scala的源码文件的顶部都添加了如下三行引入子句：   \n",
    "import java.lang._ //java.lang包的全部内容   \n",
    "import scala._ //scala包的全部内容   \n",
    "import Predef._ //Predef对象的全部内容   "
   ]
  },
  {
   "cell_type": "markdown",
   "metadata": {},
   "source": [
    "## 访问修饰符"
   ]
  },
  {
   "cell_type": "markdown",
   "metadata": {},
   "source": [
    "包、类和对象的成员可以标上private和protected这样的访问修饰符。  \n",
    "**私有成员**：标为private的成员只在包含该定义的类或对象内部可见。  \n",
    "**受保护成员**：protected的成员只能从定义该成员的子类访问。  \n",
    "**公共成员**：任何没有被标为private和protected的成员都是公共的，Scala没有专门的修饰符来标记公共成员。"
   ]
  },
  {
   "cell_type": "markdown",
   "metadata": {},
   "source": [
    "Scala没有静态成员，而是用伴生对象来承载那些只存一次的成员，一个类会将它的所有访问权限跟它的伴生对象共享，反过来也一样，具体来说，一个对象可以访问它的伴生类的所有私有成员，一个类也可以访问它的伴生对象中的所有私有成员。"
   ]
  },
  {
   "cell_type": "markdown",
   "metadata": {},
   "source": [
    "## 包对象"
   ]
  },
  {
   "cell_type": "markdown",
   "metadata": {},
   "source": [
    "如果你有某个希望在整个包都能用的助手方法，大可将它放在包的顶层，具体的做法是把定义放在**包对象**中。每个包都允许有一个包对象，任何被放在包对象里的定义都会被当作这个包本身的成员。"
   ]
  },
  {
   "cell_type": "markdown",
   "metadata": {},
   "source": [
    "# 断言和测试"
   ]
  },
  {
   "cell_type": "markdown",
   "metadata": {},
   "source": [
    "没看，暂时用不到（P258-P270）。"
   ]
  },
  {
   "cell_type": "markdown",
   "metadata": {},
   "source": [
    "# 样例类和模式匹配"
   ]
  },
  {
   "cell_type": "markdown",
   "metadata": {},
   "source": [
    "## 一个简单的例子"
   ]
  },
  {
   "cell_type": "code",
   "execution_count": 159,
   "metadata": {
    "ExecuteTime": {
     "end_time": "2021-06-18T06:56:44.756305Z",
     "start_time": "2021-06-18T06:56:44.176756Z"
    }
   },
   "outputs": [
    {
     "data": {
      "text/plain": [
       "defined class Expr\r\n",
       "defined class Var\r\n",
       "defined class Number\r\n",
       "defined class UnOp\r\n",
       "defined class BinOp\r\n"
      ]
     },
     "execution_count": 159,
     "metadata": {},
     "output_type": "execute_result"
    }
   ],
   "source": [
    "abstract class Expr\n",
    "case class Var(name: String) extends Expr\n",
    "case class Number(num: Double) extends Expr\n",
    "case class UnOp(operator: String, arg: Expr) extends Expr\n",
    "case class BinOp(operator: String, left: Expr,right: Expr) extends Expr"
   ]
  },
  {
   "cell_type": "markdown",
   "metadata": {},
   "source": [
    "### 样例类 "
   ]
  },
  {
   "cell_type": "markdown",
   "metadata": {},
   "source": [
    "带有case修饰符的类称为样例类。"
   ]
  },
  {
   "cell_type": "code",
   "execution_count": 160,
   "metadata": {
    "ExecuteTime": {
     "end_time": "2021-06-18T06:56:45.437900Z",
     "start_time": "2021-06-18T06:56:44.759227Z"
    }
   },
   "outputs": [
    {
     "data": {
      "text/plain": [
       "x: Var = Var(x)\r\n"
      ]
     },
     "execution_count": 160,
     "metadata": {},
     "output_type": "execute_result"
    }
   ],
   "source": [
    "val x = Var(\"x\")  //可以不用new来构造类"
   ]
  },
  {
   "cell_type": "markdown",
   "metadata": {},
   "source": [
    "### 模式匹配 "
   ]
  },
  {
   "cell_type": "code",
   "execution_count": 161,
   "metadata": {
    "ExecuteTime": {
     "end_time": "2021-06-18T06:56:46.041820Z",
     "start_time": "2021-06-18T06:56:45.439894Z"
    }
   },
   "outputs": [
    {
     "data": {
      "text/plain": [
       "simplify: (expr: Expr)Expr\r\n",
       "res106: Expr = Var(x)\r\n"
      ]
     },
     "execution_count": 161,
     "metadata": {},
     "output_type": "execute_result"
    }
   ],
   "source": [
    "def simplify(expr: Expr): Expr = expr match{\n",
    "    case UnOp(\"-\",UnOp(\"-\",e)) => e\n",
    "    case BinOp(\"+\",e,Number(0)) => e\n",
    "    case BinOp(\"*\",e,Number(1)) => e\n",
    "    case _ => expr\n",
    "}\n",
    "simplify(BinOp(\"+\",x,Number(0)))//x要事先定义"
   ]
  },
  {
   "cell_type": "markdown",
   "metadata": {},
   "source": [
    "模式匹配包含一系列以case关键字打头的可选分支，每个可选分支都包含一个模式以及一个或多个表达式，如果模式匹配了，这些表达式就会被求值，箭头符=>用于将模式和表达式分开。  \n",
    "一个match表达式的求值过程是按照模式给出的顺序逐一尝试的，它是以一个缺省的什么都不做的case结尾的，这个缺省的case直接返回用于匹配的表达式expr。"
   ]
  },
  {
   "cell_type": "markdown",
   "metadata": {},
   "source": [
    "### 对比match和switch"
   ]
  },
  {
   "cell_type": "markdown",
   "metadata": {},
   "source": [
    "switch语句：switch （选择器） {可选分支}、match语句：选择器 match {可选分支}。  \n",
    "区别：Scala的match是一个表达式（总能得到一个值）、Scala的可选分支不会贯穿到下一个case、如果没有一个模式匹配上，会抛出异常。因此最后一个可写作case _ =>"
   ]
  },
  {
   "cell_type": "markdown",
   "metadata": {},
   "source": [
    "## 模式的种类 "
   ]
  },
  {
   "cell_type": "markdown",
   "metadata": {},
   "source": [
    "### 通配模式"
   ]
  },
  {
   "cell_type": "markdown",
   "metadata": {},
   "source": [
    "通配模式（_）会匹配任何对象，还可以用来忽略某个对象中你不关心的局部。"
   ]
  },
  {
   "cell_type": "code",
   "execution_count": 162,
   "metadata": {
    "ExecuteTime": {
     "end_time": "2021-06-18T06:56:46.487725Z",
     "start_time": "2021-06-18T06:56:46.043815Z"
    }
   },
   "outputs": [
    {
     "name": "stdout",
     "output_type": "stream",
     "text": [
      "It is a binary operation\r\n"
     ]
    },
    {
     "data": {
      "text/plain": [
       "Top: (expr: Expr)Unit\r\n"
      ]
     },
     "execution_count": 162,
     "metadata": {},
     "output_type": "execute_result"
    }
   ],
   "source": [
    "def Top(expr: Expr)= expr match {\n",
    "    case BinOp(_, _, _) => println(\"It is a binary operation\")\n",
    "    case _ => println(\"It is something else\")\n",
    "}\n",
    "Top(BinOp(\"+\",x,Number(0)))//x要事先定义"
   ]
  },
  {
   "cell_type": "markdown",
   "metadata": {},
   "source": [
    "### 常量模式"
   ]
  },
  {
   "cell_type": "code",
   "execution_count": 163,
   "metadata": {
    "ExecuteTime": {
     "end_time": "2021-06-18T06:56:46.934110Z",
     "start_time": "2021-06-18T06:56:46.489644Z"
    }
   },
   "outputs": [
    {
     "data": {
      "text/plain": [
       "describe: (x: Any)String\r\n",
       "res108: String = the empty list\r\n"
      ]
     },
     "execution_count": 163,
     "metadata": {},
     "output_type": "execute_result"
    }
   ],
   "source": [
    "def describe(x: Any) = x match{\n",
    "    case 5 => \"five\"\n",
    "    case true => \"truth\"\n",
    "    case Nil => \"the empty list\"\n",
    "    case _ => \"something else\"\n",
    "}\n",
    "describe(Nil)"
   ]
  },
  {
   "cell_type": "markdown",
   "metadata": {},
   "source": [
    "### 变量模式 "
   ]
  },
  {
   "cell_type": "code",
   "execution_count": 164,
   "metadata": {
    "ExecuteTime": {
     "end_time": "2021-06-18T06:56:47.330078Z",
     "start_time": "2021-06-18T06:56:46.937104Z"
    }
   },
   "outputs": [
    {
     "data": {
      "text/plain": [
       "import scala.math\r\n"
      ]
     },
     "execution_count": 164,
     "metadata": {},
     "output_type": "execute_result"
    }
   ],
   "source": [
    "import scala.math"
   ]
  },
  {
   "cell_type": "code",
   "execution_count": 165,
   "metadata": {
    "ExecuteTime": {
     "end_time": "2021-06-18T06:56:47.759963Z",
     "start_time": "2021-06-18T06:56:47.332073Z"
    }
   },
   "outputs": [
    {
     "data": {
      "text/plain": [
       "pi: Double = 3.141592653589793\r\n"
      ]
     },
     "execution_count": 165,
     "metadata": {},
     "output_type": "execute_result"
    }
   ],
   "source": [
    "val pi = math.Pi"
   ]
  },
  {
   "cell_type": "markdown",
   "metadata": {},
   "source": [
    "### 构造方法模式"
   ]
  },
  {
   "cell_type": "code",
   "execution_count": 166,
   "metadata": {
    "ExecuteTime": {
     "end_time": "2021-06-18T06:56:48.156991Z",
     "start_time": "2021-06-18T06:56:47.762956Z"
    }
   },
   "outputs": [
    {
     "name": "stdout",
     "output_type": "stream",
     "text": [
      "a deep match\r\n"
     ]
    },
    {
     "data": {
      "text/plain": [
       "Deepmatch: (expr: Expr)Unit\r\n"
      ]
     },
     "execution_count": 166,
     "metadata": {},
     "output_type": "execute_result"
    }
   ],
   "source": [
    "def Deepmatch(expr: Expr)= expr match {\n",
    "    case BinOp(\"+\",e,Number(0)) => println(\"a deep match\")\n",
    "    case _ => \n",
    "}\n",
    "Deepmatch(BinOp(\"+\",x,Number(0)))"
   ]
  },
  {
   "cell_type": "markdown",
   "metadata": {},
   "source": [
    "一个构造方法模式看上去像这样：BinOp(\"+\",e,Number(0))。它由一个名称BinOp和一组圆括号中的模式：\"+\"、e和Number(0)组成。这样的一个模式将首先检查被匹配的对象是否是以这个名称命名的样例类的实例，然后再检查这个对象的构造方法参数是否匹配这些额外给出的模式。"
   ]
  },
  {
   "cell_type": "markdown",
   "metadata": {},
   "source": [
    "### 序列模式"
   ]
  },
  {
   "cell_type": "code",
   "execution_count": 167,
   "metadata": {
    "ExecuteTime": {
     "end_time": "2021-06-18T06:56:48.551892Z",
     "start_time": "2021-06-18T06:56:48.158919Z"
    }
   },
   "outputs": [
    {
     "name": "stdout",
     "output_type": "stream",
     "text": [
      "found it\r\n"
     ]
    },
    {
     "data": {
      "text/plain": [
       "expr: List[Int] = List()\r\n",
       "Lis: (expr: List[Int])Unit\r\n"
      ]
     },
     "execution_count": 167,
     "metadata": {},
     "output_type": "execute_result"
    }
   ],
   "source": [
    "var expr: List[Int] = List()\n",
    "def Lis(expr: List[Int]) = expr match{\n",
    "    case List(1, _, _) => println(\"found it\")\n",
    "    case _ =>\n",
    "}\n",
    "Lis(List(1,2,3))//三元列表的模式"
   ]
  },
  {
   "cell_type": "code",
   "execution_count": 168,
   "metadata": {
    "ExecuteTime": {
     "end_time": "2021-06-18T06:56:48.964881Z",
     "start_time": "2021-06-18T06:56:48.554883Z"
    }
   },
   "outputs": [
    {
     "data": {
      "text/plain": [
       "expr: List[Int] = List(2, 3, 4)\r\n"
      ]
     },
     "execution_count": 168,
     "metadata": {},
     "output_type": "execute_result"
    }
   ],
   "source": [
    "expr = List(2,3,4)\n",
    "expr match{\n",
    "    case List(1, _*) => println(\"found it\")\n",
    "    case _ =>\n",
    "} //_*作为模式的最后一个元素，能够匹配序列中任意数量的元素"
   ]
  },
  {
   "cell_type": "markdown",
   "metadata": {},
   "source": [
    "### 元组模式"
   ]
  },
  {
   "cell_type": "code",
   "execution_count": 169,
   "metadata": {
    "ExecuteTime": {
     "end_time": "2021-06-18T06:56:49.327918Z",
     "start_time": "2021-06-18T06:56:48.966812Z"
    }
   },
   "outputs": [
    {
     "name": "stdout",
     "output_type": "stream",
     "text": [
      "matched\r\n"
     ]
    },
    {
     "data": {
      "text/plain": [
       "tupleDemo: (expr: Any)Unit\r\n"
      ]
     },
     "execution_count": 169,
     "metadata": {},
     "output_type": "execute_result"
    }
   ],
   "source": [
    "def tupleDemo(expr: Any) = expr match{\n",
    "    case (a, b, c) => println(\"matched\")\n",
    "    case _ =>\n",
    "}\n",
    "tupleDemo((s,f,a))"
   ]
  },
  {
   "cell_type": "markdown",
   "metadata": {},
   "source": [
    "### 带类型的模式"
   ]
  },
  {
   "cell_type": "code",
   "execution_count": 170,
   "metadata": {
    "ExecuteTime": {
     "end_time": "2021-06-18T06:56:49.726809Z",
     "start_time": "2021-06-18T06:56:49.329842Z"
    }
   },
   "outputs": [
    {
     "data": {
      "text/plain": [
       "gen: (x: Any)Int\r\n"
      ]
     },
     "execution_count": 170,
     "metadata": {},
     "output_type": "execute_result"
    }
   ],
   "source": [
    "def gen(x: Any) = x match{\n",
    "    case s: String => s.length\n",
    "    case m: Map[_, _] => m.size\n",
    "    case _ => -1\n",
    "} //可以用带类型的模式来替代类型测试和类型转换"
   ]
  },
  {
   "cell_type": "code",
   "execution_count": 171,
   "metadata": {
    "ExecuteTime": {
     "end_time": "2021-06-18T06:56:50.156193Z",
     "start_time": "2021-06-18T06:56:49.729800Z"
    }
   },
   "outputs": [
    {
     "data": {
      "text/plain": [
       "res113: Int = 4\r\n"
      ]
     },
     "execution_count": 171,
     "metadata": {},
     "output_type": "execute_result"
    }
   ],
   "source": [
    "gen(\"asdf\")"
   ]
  },
  {
   "cell_type": "code",
   "execution_count": 172,
   "metadata": {
    "ExecuteTime": {
     "end_time": "2021-06-18T06:56:50.629951Z",
     "start_time": "2021-06-18T06:56:50.159186Z"
    }
   },
   "outputs": [
    {
     "data": {
      "text/plain": [
       "res114: Int = 2\r\n"
      ]
     },
     "execution_count": 172,
     "metadata": {},
     "output_type": "execute_result"
    }
   ],
   "source": [
    "gen(Map(1 -> 'a',2 -> 'b'))"
   ]
  },
  {
   "cell_type": "markdown",
   "metadata": {},
   "source": [
    "Scala采用了擦除式的泛型，这意味着在运行时并不会保留类型参数的信息，唯一的例外是数组。"
   ]
  },
  {
   "cell_type": "code",
   "execution_count": 173,
   "metadata": {
    "ExecuteTime": {
     "end_time": "2021-06-18T06:56:51.027430Z",
     "start_time": "2021-06-18T06:56:50.631946Z"
    }
   },
   "outputs": [
    {
     "data": {
      "text/plain": [
       "<console>:39: warning: non-variable type argument Int in type pattern scala.collection.immutable.Map[Int,Int] (the underlying of Map[Int,Int]) is unchecked since it is eliminated by erasure\r\n",
       "           case m: Map[Int,Int] => true\r\n",
       "                   ^\r\n",
       "isInt: (x: Any)Boolean\r\n"
      ]
     },
     "execution_count": 173,
     "metadata": {},
     "output_type": "execute_result"
    }
   ],
   "source": [
    "def isInt(x: Any) = x match{\n",
    "    case m: Map[Int,Int] => true\n",
    "    case _ => false\n",
    "}"
   ]
  },
  {
   "cell_type": "code",
   "execution_count": 174,
   "metadata": {
    "ExecuteTime": {
     "end_time": "2021-06-18T06:56:51.550053Z",
     "start_time": "2021-06-18T06:56:51.030422Z"
    }
   },
   "outputs": [
    {
     "data": {
      "text/plain": [
       "res115: Boolean = true\r\n"
      ]
     },
     "execution_count": 174,
     "metadata": {},
     "output_type": "execute_result"
    }
   ],
   "source": [
    "isInt(Map(\"abc\" -> \"adc\")) //采用了类型擦除，这里原本应该报错"
   ]
  },
  {
   "cell_type": "markdown",
   "metadata": {},
   "source": [
    "### 变量绑定"
   ]
  },
  {
   "cell_type": "markdown",
   "metadata": {},
   "source": [
    "可以对其他任何模式添加变量，只需要写下变量名、一个@符号和模式本身，就得到一个变量绑定模式。"
   ]
  },
  {
   "cell_type": "markdown",
   "metadata": {},
   "source": [
    "## 模式守卫"
   ]
  },
  {
   "cell_type": "code",
   "execution_count": 175,
   "metadata": {
    "ExecuteTime": {
     "end_time": "2021-06-18T06:56:51.914507Z",
     "start_time": "2021-06-18T06:56:51.552048Z"
    }
   },
   "outputs": [
    {
     "data": {
      "text/plain": [
       "simadd: (e: Expr)Expr\r\n",
       "res116: Expr = BinOp(*,Number(1.0),Number(2.0))\r\n"
      ]
     },
     "execution_count": 175,
     "metadata": {},
     "output_type": "execute_result"
    }
   ],
   "source": [
    "def simadd(e: Expr) = e match{\n",
    "    case BinOp(\"+\",x,y) if x == y =>\n",
    "    BinOp(\"*\",x,Number(2))\n",
    "    case _ => e\n",
    "}\n",
    "simadd(BinOp(\"+\",Number(1),Number(1)))"
   ]
  },
  {
   "cell_type": "markdown",
   "metadata": {},
   "source": [
    "Scala要求模式都是线性的：同一个模式变量在模式中只能出现一次，可以用一个模式守卫来重新定义这个匹配逻辑。模式守卫出现在模式之后，并以if打头。"
   ]
  },
  {
   "cell_type": "markdown",
   "metadata": {},
   "source": [
    "## 模式重叠"
   ]
  },
  {
   "cell_type": "markdown",
   "metadata": {},
   "source": [
    "模式会按照代码中的顺序逐个被尝试。"
   ]
  },
  {
   "cell_type": "markdown",
   "metadata": {},
   "source": [
    "## 密封类"
   ]
  },
  {
   "cell_type": "code",
   "execution_count": 176,
   "metadata": {
    "ExecuteTime": {
     "end_time": "2021-06-18T06:56:52.229663Z",
     "start_time": "2021-06-18T06:56:51.916500Z"
    }
   },
   "outputs": [
    {
     "data": {
      "text/plain": [
       "defined class Expr\r\n",
       "defined class Var\r\n",
       "defined class Number\r\n",
       "defined class UnOp\r\n",
       "defined class BinOp\r\n"
      ]
     },
     "execution_count": 176,
     "metadata": {},
     "output_type": "execute_result"
    }
   ],
   "source": [
    "sealed abstract class Expr //密封类要加sealed\n",
    "case class Var(name: String) extends Expr\n",
    "case class Number(num: Double) extends Expr\n",
    "case class UnOp(operator: String, arg: Expr) extends Expr\n",
    "case class BinOp(operator: String, left: Expr,right: Expr) extends Expr"
   ]
  },
  {
   "cell_type": "code",
   "execution_count": 177,
   "metadata": {
    "ExecuteTime": {
     "end_time": "2021-06-18T06:56:52.802667Z",
     "start_time": "2021-06-18T06:56:52.232655Z"
    }
   },
   "outputs": [
    {
     "data": {
      "text/plain": [
       "<console>:41: warning: match may not be exhaustive.\r\n",
       "It would fail on the following inputs: BinOp(_, _, _), UnOp(_, _)\r\n",
       "       def describe(e: Expr): String = e match{\r\n",
       "                                       ^\r\n",
       "describe: (e: Expr)String\r\n"
      ]
     },
     "execution_count": 177,
     "metadata": {},
     "output_type": "execute_result"
    }
   ],
   "source": [
    "def describe(e: Expr): String = e match{\n",
    "    case Number(_) => \"a number\"\n",
    "    case Var(_) => \"a variable\"\n",
    "}//没有列举完毕，会警告"
   ]
  },
  {
   "cell_type": "markdown",
   "metadata": {},
   "source": [
    "## Option类型 "
   ]
  },
  {
   "cell_type": "markdown",
   "metadata": {},
   "source": [
    "Scala由一个名为Option的标准类型来表示可选值，这样的值可以有两种形式：Some(x)，其中x是那些实际的值；或者None对象，代表没有值。"
   ]
  },
  {
   "cell_type": "code",
   "execution_count": 178,
   "metadata": {
    "ExecuteTime": {
     "end_time": "2021-06-18T06:56:53.121832Z",
     "start_time": "2021-06-18T06:56:52.804662Z"
    }
   },
   "outputs": [
    {
     "data": {
      "text/plain": [
       "capitals: scala.collection.immutable.Map[String,String] = Map(France -> Paris, Japan -> Tokyo)\r\n",
       "res117: Option[String] = Some(Paris)\r\n"
      ]
     },
     "execution_count": 178,
     "metadata": {},
     "output_type": "execute_result"
    }
   ],
   "source": [
    "val capitals = Map(\"France\" -> \"Paris\",\"Japan\" -> \"Tokyo\")\n",
    "capitals get \"France\" //get得到键对应的值"
   ]
  },
  {
   "cell_type": "code",
   "execution_count": 179,
   "metadata": {
    "ExecuteTime": {
     "end_time": "2021-06-18T06:56:53.485931Z",
     "start_time": "2021-06-18T06:56:53.123827Z"
    }
   },
   "outputs": [
    {
     "data": {
      "text/plain": [
       "show: (x: Option[String])String\r\n",
       "res118: String = Tokyo\r\n"
      ]
     },
     "execution_count": 179,
     "metadata": {},
     "output_type": "execute_result"
    }
   ],
   "source": [
    "def show(x: Option[String]) = x match{\n",
    "    case Some(s) => s\n",
    "    case None => \"?\"\n",
    "}\n",
    "show(capitals get \"Japan\")"
   ]
  },
  {
   "cell_type": "markdown",
   "metadata": {},
   "source": [
    "## 到处都是模式"
   ]
  },
  {
   "cell_type": "markdown",
   "metadata": {},
   "source": [
    "### 变量定义中的模式"
   ]
  },
  {
   "cell_type": "code",
   "execution_count": 180,
   "metadata": {
    "ExecuteTime": {
     "end_time": "2021-06-18T06:56:53.930695Z",
     "start_time": "2021-06-18T06:56:53.487854Z"
    }
   },
   "outputs": [
    {
     "data": {
      "text/plain": [
       "myTuple: (Int, String) = (123,abc)\r\n",
       "number: Int = 123\r\n",
       "string: String = abc\r\n"
      ]
     },
     "execution_count": 180,
     "metadata": {},
     "output_type": "execute_result"
    }
   ],
   "source": [
    "val myTuple = (123,\"abc\")\n",
    "val (number,string) = myTuple//将一个元组解开并分别赋予不同的值"
   ]
  },
  {
   "cell_type": "markdown",
   "metadata": {},
   "source": [
    "### 作为偏函数的case序列"
   ]
  },
  {
   "cell_type": "markdown",
   "metadata": {},
   "source": [
    "### for表达式中的模式"
   ]
  },
  {
   "cell_type": "code",
   "execution_count": 181,
   "metadata": {
    "ExecuteTime": {
     "end_time": "2021-06-18T06:56:54.279759Z",
     "start_time": "2021-06-18T06:56:53.932687Z"
    }
   },
   "outputs": [
    {
     "name": "stdout",
     "output_type": "stream",
     "text": [
      "The capital of France is Paris\n",
      "The capital of Japan is Tokyo\n"
     ]
    }
   ],
   "source": [
    "for((country,city) <- capitals) //对偶模式\n",
    "  println(\"The capital of \" + country + \" is \" + city)"
   ]
  },
  {
   "cell_type": "markdown",
   "metadata": {},
   "source": [
    "# 使用列表"
   ]
  },
  {
   "cell_type": "markdown",
   "metadata": {},
   "source": [
    "## List字面量 "
   ]
  },
  {
   "cell_type": "markdown",
   "metadata": {},
   "source": [
    "列表跟数组非常像，不过有两个重要的区别。首先，列表是不可变的，也就是说，列表的元素不能通过赋值改变。其次，列表的结构是递归的（链表），而数组是平的。"
   ]
  },
  {
   "cell_type": "code",
   "execution_count": 182,
   "metadata": {
    "ExecuteTime": {
     "end_time": "2021-06-18T06:56:54.661738Z",
     "start_time": "2021-06-18T06:56:54.281753Z"
    }
   },
   "outputs": [
    {
     "data": {
      "text/plain": [
       "nums: List[Int] = List(1, 2, 3, 4)\r\n"
      ]
     },
     "execution_count": 182,
     "metadata": {},
     "output_type": "execute_result"
    }
   ],
   "source": [
    "val nums = List(1,2,3,4)"
   ]
  },
  {
   "cell_type": "code",
   "execution_count": 183,
   "metadata": {
    "ExecuteTime": {
     "end_time": "2021-06-18T06:56:55.028783Z",
     "start_time": "2021-06-18T06:56:54.663732Z"
    }
   },
   "outputs": [
    {
     "data": {
      "text/plain": [
       "diags: List[List[Int]] = List(List(1, 0, 0), List(0, 1, 0), List(0, 0, 1))\r\n"
      ]
     },
     "execution_count": 183,
     "metadata": {},
     "output_type": "execute_result"
    }
   ],
   "source": [
    "val diags = List(List(1,0,0),List(0,1,0),List(0,0,1))"
   ]
  },
  {
   "cell_type": "code",
   "execution_count": 184,
   "metadata": {
    "ExecuteTime": {
     "end_time": "2021-06-18T06:56:55.330947Z",
     "start_time": "2021-06-18T06:56:55.030750Z"
    }
   },
   "outputs": [
    {
     "data": {
      "text/plain": [
       "empty: List[Nothing] = List()\r\n"
      ]
     },
     "execution_count": 184,
     "metadata": {},
     "output_type": "execute_result"
    }
   ],
   "source": [
    "val empty = List()"
   ]
  },
  {
   "cell_type": "markdown",
   "metadata": {},
   "source": [
    "## List类型"
   ]
  },
  {
   "cell_type": "markdown",
   "metadata": {},
   "source": [
    "列表是同构的，即，同一个列表的所有元素必须是相同的类型。元素类型为T的列表的类型写作List[T]。列表是协变的，意思是对每一组类型S和T，如果S是T的子类型，那么List[S]就是List[T]的子类型。Noting是底类型，是所有类型的子类型。"
   ]
  },
  {
   "cell_type": "code",
   "execution_count": 185,
   "metadata": {
    "ExecuteTime": {
     "end_time": "2021-06-18T06:56:55.616502Z",
     "start_time": "2021-06-18T06:56:55.332941Z"
    }
   },
   "outputs": [
    {
     "data": {
      "text/plain": [
       "fruit: List[String] = List(apples, oranges, pears)\r\n"
      ]
     },
     "execution_count": 185,
     "metadata": {},
     "output_type": "execute_result"
    }
   ],
   "source": [
    "val fruit: List[String] = List(\"apples\",\"oranges\",\"pears\")"
   ]
  },
  {
   "cell_type": "markdown",
   "metadata": {},
   "source": [
    "## 构建列表 "
   ]
  },
  {
   "cell_type": "markdown",
   "metadata": {},
   "source": [
    "所有列表都构建自两个基础的构建单元：Nil和::。Nil表示空列表，中缀操作符::表示在列表前追加元素。"
   ]
  },
  {
   "cell_type": "code",
   "execution_count": 186,
   "metadata": {
    "ExecuteTime": {
     "end_time": "2021-06-18T06:56:55.997483Z",
     "start_time": "2021-06-18T06:56:55.618499Z"
    }
   },
   "outputs": [
    {
     "data": {
      "text/plain": [
       "nums: List[Int] = List(1, 2, 3, 4)\r\n"
      ]
     },
     "execution_count": 186,
     "metadata": {},
     "output_type": "execute_result"
    }
   ],
   "source": [
    "val nums = 1::2::3::4::Nil //等价于List(1, 2, 3, 4)"
   ]
  },
  {
   "cell_type": "markdown",
   "metadata": {},
   "source": [
    "## 列表的基本操作 "
   ]
  },
  {
   "cell_type": "markdown",
   "metadata": {},
   "source": [
    "对列表的所有操作都可以用下面这三项来表述：  \n",
    "head 返回列表的第一个元素，只对非空列表有定义  \n",
    "tail 返回列表中除第一个元素之外的所有元素，只对非空列表有定义  \n",
    "isEmpty 返回列表是否为空列表"
   ]
  },
  {
   "cell_type": "code",
   "execution_count": 187,
   "metadata": {
    "ExecuteTime": {
     "end_time": "2021-06-18T06:56:56.316631Z",
     "start_time": "2021-06-18T06:56:56.001472Z"
    }
   },
   "outputs": [
    {
     "data": {
      "text/plain": [
       "res120: Boolean = true\r\n"
      ]
     },
     "execution_count": 187,
     "metadata": {},
     "output_type": "execute_result"
    }
   ],
   "source": [
    "empty.isEmpty"
   ]
  },
  {
   "cell_type": "code",
   "execution_count": 188,
   "metadata": {
    "ExecuteTime": {
     "end_time": "2021-06-18T06:56:56.650735Z",
     "start_time": "2021-06-18T06:56:56.318626Z"
    }
   },
   "outputs": [
    {
     "data": {
      "text/plain": [
       "res121: String = oranges\r\n"
      ]
     },
     "execution_count": 188,
     "metadata": {},
     "output_type": "execute_result"
    }
   ],
   "source": [
    "fruit.tail.head"
   ]
  },
  {
   "cell_type": "markdown",
   "metadata": {},
   "source": [
    "## 列表模式 "
   ]
  },
  {
   "cell_type": "markdown",
   "metadata": {},
   "source": [
    "列表也可以用模式匹配解开，列表模式可以逐一对应到列表表达式，可以用List(...)这样的模式来匹配列表的所有元素，也可以用::操作符和Nil常量一点点将列表解开。"
   ]
  },
  {
   "cell_type": "code",
   "execution_count": 189,
   "metadata": {
    "ExecuteTime": {
     "end_time": "2021-06-18T06:56:57.032714Z",
     "start_time": "2021-06-18T06:56:56.652730Z"
    }
   },
   "outputs": [
    {
     "data": {
      "text/plain": [
       "fruit: List[String] = List(apples, oranges, pears)\r\n",
       "a: String = apples\r\n",
       "b: String = oranges\r\n",
       "c: String = pears\r\n"
      ]
     },
     "execution_count": 189,
     "metadata": {},
     "output_type": "execute_result"
    }
   ],
   "source": [
    "val fruit: List[String] = List(\"apples\",\"oranges\",\"pears\")\n",
    "val List(a,b,c) = fruit"
   ]
  },
  {
   "cell_type": "code",
   "execution_count": 190,
   "metadata": {
    "ExecuteTime": {
     "end_time": "2021-06-18T06:56:57.365823Z",
     "start_time": "2021-06-18T06:56:57.034708Z"
    }
   },
   "outputs": [
    {
     "data": {
      "text/plain": [
       "a: String = apples\r\n",
       "b: String = oranges\r\n",
       "rest: List[String] = List(pears)\r\n"
      ]
     },
     "execution_count": 190,
     "metadata": {},
     "output_type": "execute_result"
    }
   ],
   "source": [
    "val a::b::rest = fruit //事先不知道列表中元素的个数，用::来匹配"
   ]
  },
  {
   "cell_type": "code",
   "execution_count": 191,
   "metadata": {
    "ExecuteTime": {
     "end_time": "2021-06-18T06:56:57.811631Z",
     "start_time": "2021-06-18T06:56:57.367817Z"
    }
   },
   "outputs": [
    {
     "data": {
      "text/plain": [
       "a: String = apples\r\n",
       "rest: List[String] = List(oranges, pears)\r\n"
      ]
     },
     "execution_count": 191,
     "metadata": {},
     "output_type": "execute_result"
    }
   ],
   "source": [
    "val a::rest = fruit"
   ]
  },
  {
   "cell_type": "markdown",
   "metadata": {},
   "source": [
    "## List类的初阶方法 "
   ]
  },
  {
   "cell_type": "markdown",
   "metadata": {},
   "source": [
    "如果一个方法不接受任何函数作为入参，就被称为初阶方法。"
   ]
  },
  {
   "cell_type": "markdown",
   "metadata": {},
   "source": [
    "### 拼接两个列表 "
   ]
  },
  {
   "cell_type": "code",
   "execution_count": 192,
   "metadata": {
    "ExecuteTime": {
     "end_time": "2021-06-18T06:56:58.113824Z",
     "start_time": "2021-06-18T06:56:57.813627Z"
    }
   },
   "outputs": [
    {
     "data": {
      "text/plain": [
       "res122: List[Int] = List(1, 2, 3, 4, 5)\r\n"
      ]
     },
     "execution_count": 192,
     "metadata": {},
     "output_type": "execute_result"
    }
   ],
   "source": [
    "List(1,2):::List(3,4,5) //:::接收两个列表参数作为操作元，且列表的拼接是右结合的，x:::y:::z等价于x:::(y:::z)"
   ]
  },
  {
   "cell_type": "markdown",
   "metadata": {},
   "source": [
    "### 分治原则"
   ]
  },
  {
   "cell_type": "code",
   "execution_count": 193,
   "metadata": {
    "ExecuteTime": {
     "end_time": "2021-06-18T06:56:58.540680Z",
     "start_time": "2021-06-18T06:56:58.115817Z"
    }
   },
   "outputs": [
    {
     "data": {
      "text/plain": [
       "append: [T](xs: List[T], ys: List[T])List[T]\r\n",
       "res123: List[Int] = List(1, 2, 3, 4, 5)\r\n"
      ]
     },
     "execution_count": 193,
     "metadata": {},
     "output_type": "execute_result"
    }
   ],
   "source": [
    "def append[T](xs: List[T],ys: List[T]): List[T] = xs match {\n",
    "    case List() => ys\n",
    "    case x::xs1 => x :: append(xs1 , ys)\n",
    "} //手动拼接\n",
    "append(List(1,2),List(3,4,5))"
   ]
  },
  {
   "cell_type": "markdown",
   "metadata": {},
   "source": [
    "### 获取列表的长度"
   ]
  },
  {
   "cell_type": "code",
   "execution_count": 194,
   "metadata": {
    "ExecuteTime": {
     "end_time": "2021-06-18T06:56:59.081235Z",
     "start_time": "2021-06-18T06:56:58.542675Z"
    }
   },
   "outputs": [
    {
     "data": {
      "text/plain": [
       "res124: Int = 3\r\n"
      ]
     },
     "execution_count": 194,
     "metadata": {},
     "output_type": "execute_result"
    }
   ],
   "source": [
    "List(1,2,3).length"
   ]
  },
  {
   "cell_type": "markdown",
   "metadata": {},
   "source": [
    "### 访问列表的末端 "
   ]
  },
  {
   "cell_type": "code",
   "execution_count": 195,
   "metadata": {
    "ExecuteTime": {
     "end_time": "2021-06-18T06:56:59.462243Z",
     "start_time": "2021-06-18T06:56:59.083229Z"
    }
   },
   "outputs": [
    {
     "data": {
      "text/plain": [
       "abc: List[Int] = List(1, 2, 3, 4, 5)\r\n",
       "res125: Int = 5\r\n"
      ]
     },
     "execution_count": 195,
     "metadata": {},
     "output_type": "execute_result"
    }
   ],
   "source": [
    "val abc = List(1,2,3,4,5)\n",
    "abc.last //返回非空列表的最后一个元素"
   ]
  },
  {
   "cell_type": "code",
   "execution_count": 196,
   "metadata": {
    "ExecuteTime": {
     "end_time": "2021-06-18T06:56:59.844219Z",
     "start_time": "2021-06-18T06:56:59.465234Z"
    }
   },
   "outputs": [
    {
     "data": {
      "text/plain": [
       "res126: List[Int] = List(1, 2, 3, 4)\r\n"
      ]
     },
     "execution_count": 196,
     "metadata": {},
     "output_type": "execute_result"
    }
   ],
   "source": [
    "abc.init //返回除了最后一个元素之外的剩余部分，只对非空列表有定义"
   ]
  },
  {
   "cell_type": "markdown",
   "metadata": {},
   "source": [
    "### 反转元素 "
   ]
  },
  {
   "cell_type": "code",
   "execution_count": 197,
   "metadata": {
    "ExecuteTime": {
     "end_time": "2021-06-18T06:57:00.304986Z",
     "start_time": "2021-06-18T06:56:59.846214Z"
    }
   },
   "outputs": [
    {
     "data": {
      "text/plain": [
       "res127: List[Int] = List(5, 4, 3, 2, 1)\r\n"
      ]
     },
     "execution_count": 197,
     "metadata": {},
     "output_type": "execute_result"
    }
   ],
   "source": [
    "abc.reverse //反转列表，reverse会创建一个新的列表，而不是对传入的列表做修改"
   ]
  },
  {
   "cell_type": "code",
   "execution_count": 198,
   "metadata": {
    "ExecuteTime": {
     "end_time": "2021-06-18T06:57:00.607180Z",
     "start_time": "2021-06-18T06:57:00.306981Z"
    }
   },
   "outputs": [
    {
     "data": {
      "text/plain": [
       "abcd: List[Int] = List(5, 4, 3, 2, 1)\r\n",
       "abcd: List[Int] = List(5, 4, 3, 2, 1)\r\n"
      ]
     },
     "execution_count": 198,
     "metadata": {},
     "output_type": "execute_result"
    }
   ],
   "source": [
    "var abcd = List[Int]()\n",
    "abcd = abc.reverse "
   ]
  },
  {
   "cell_type": "markdown",
   "metadata": {},
   "source": [
    "### 前缀和后缀 "
   ]
  },
  {
   "cell_type": "code",
   "execution_count": 199,
   "metadata": {
    "ExecuteTime": {
     "end_time": "2021-06-18T06:57:00.925329Z",
     "start_time": "2021-06-18T06:57:00.609173Z"
    }
   },
   "outputs": [
    {
     "data": {
      "text/plain": [
       "abcd: List[Int] = List(1, 2, 3, 4, 5, 6)\r\n",
       "res128: List[Int] = List(1, 2)\r\n"
      ]
     },
     "execution_count": 199,
     "metadata": {},
     "output_type": "execute_result"
    }
   ],
   "source": [
    "val abcd = List(1,2,3,4,5,6)\n",
    "abcd take 2 //返回列表的前2个元素"
   ]
  },
  {
   "cell_type": "code",
   "execution_count": 200,
   "metadata": {
    "ExecuteTime": {
     "end_time": "2021-06-18T06:57:01.371135Z",
     "start_time": "2021-06-18T06:57:00.927322Z"
    }
   },
   "outputs": [
    {
     "data": {
      "text/plain": [
       "res129: List[Int] = List(3, 4, 5, 6)\r\n"
      ]
     },
     "execution_count": 200,
     "metadata": {},
     "output_type": "execute_result"
    }
   ],
   "source": [
    "abcd drop 2 //返回列表除了前2个元素之外的所有元素"
   ]
  },
  {
   "cell_type": "code",
   "execution_count": 201,
   "metadata": {
    "ExecuteTime": {
     "end_time": "2021-06-18T06:57:01.672370Z",
     "start_time": "2021-06-18T06:57:01.373129Z"
    }
   },
   "outputs": [
    {
     "data": {
      "text/plain": [
       "res130: (List[Int], List[Int]) = (List(1, 2),List(3, 4, 5, 6))\r\n"
      ]
     },
     "execution_count": 201,
     "metadata": {},
     "output_type": "execute_result"
    }
   ],
   "source": [
    "abcd splitAt 2 //将列表从指定的下标位置切开，返回这两个列表组成的对偶，下标从0开始"
   ]
  },
  {
   "cell_type": "markdown",
   "metadata": {},
   "source": [
    "### 元素选择 "
   ]
  },
  {
   "cell_type": "code",
   "execution_count": 202,
   "metadata": {
    "ExecuteTime": {
     "end_time": "2021-06-18T06:57:01.975047Z",
     "start_time": "2021-06-18T06:57:01.674324Z"
    }
   },
   "outputs": [
    {
     "data": {
      "text/plain": [
       "abcd: List[Int] = List(1, 2, 3, 4, 5, 6)\r\n",
       "res131: Int = 3\r\n"
      ]
     },
     "execution_count": 202,
     "metadata": {},
     "output_type": "execute_result"
    }
   ],
   "source": [
    "val abcd = List(1,2,3,4,5,6)\n",
    "abcd apply 2 //apply方法支持从任意位置选取元素\n",
    "abcd(2) //上式和这里等价"
   ]
  },
  {
   "cell_type": "code",
   "execution_count": 203,
   "metadata": {
    "ExecuteTime": {
     "end_time": "2021-06-18T06:57:02.290226Z",
     "start_time": "2021-06-18T06:57:01.977042Z"
    }
   },
   "outputs": [
    {
     "data": {
      "text/plain": [
       "res132: scala.collection.immutable.Range = Range 0 until 6\r\n"
      ]
     },
     "execution_count": 203,
     "metadata": {},
     "output_type": "execute_result"
    }
   ],
   "source": [
    "abcd.indices //返回包含了指定列表的所有有效下标的列表"
   ]
  },
  {
   "cell_type": "markdown",
   "metadata": {},
   "source": [
    "### 扁平化列表的列表 "
   ]
  },
  {
   "cell_type": "code",
   "execution_count": 204,
   "metadata": {
    "ExecuteTime": {
     "end_time": "2021-06-18T06:57:02.719104Z",
     "start_time": "2021-06-18T06:57:02.293216Z"
    }
   },
   "outputs": [
    {
     "data": {
      "text/plain": [
       "res133: List[Int] = List(1, 2, 3, 4, 5)\r\n"
      ]
     },
     "execution_count": 204,
     "metadata": {},
     "output_type": "execute_result"
    }
   ],
   "source": [
    "List(List(1,2),List(3),List(),List(4,5)).flatten //flatten方法接收一个列表的列表（其他列表不行）并将它扁平化，返回单个列表"
   ]
  },
  {
   "cell_type": "code",
   "execution_count": 205,
   "metadata": {
    "ExecuteTime": {
     "end_time": "2021-06-18T06:57:03.069168Z",
     "start_time": "2021-06-18T06:57:02.721099Z"
    }
   },
   "outputs": [
    {
     "data": {
      "text/plain": [
       "res134: List[Char] = List(a, p, p, l, e, s, o, r, a, n, g, e, s, p, e, a, r, s)\r\n"
      ]
     },
     "execution_count": 205,
     "metadata": {},
     "output_type": "execute_result"
    }
   ],
   "source": [
    "fruit.map(_.toCharArray).flatten"
   ]
  },
  {
   "cell_type": "markdown",
   "metadata": {},
   "source": [
    "### 将列表zip起来 "
   ]
  },
  {
   "cell_type": "code",
   "execution_count": 206,
   "metadata": {
    "ExecuteTime": {
     "end_time": "2021-06-18T06:57:03.463648Z",
     "start_time": "2021-06-18T06:57:03.071163Z"
    }
   },
   "outputs": [
    {
     "data": {
      "text/plain": [
       "aaa: List[String] = List(a, b, c, d, e)\r\n",
       "res135: scala.collection.immutable.IndexedSeq[(Int, String)] = Vector((0,a), (1,b), (2,c), (3,d), (4,e))\r\n"
      ]
     },
     "execution_count": 206,
     "metadata": {},
     "output_type": "execute_result"
    }
   ],
   "source": [
    "val aaa = List(\"a\",\"b\",\"c\",\"d\",\"e\")\n",
    "aaa.indices zip aaa //拉链（zip）操作接收两个列表，返回一个由对偶组成的列表"
   ]
  },
  {
   "cell_type": "code",
   "execution_count": 207,
   "metadata": {
    "ExecuteTime": {
     "end_time": "2021-06-18T06:57:03.843648Z",
     "start_time": "2021-06-18T06:57:03.465640Z"
    }
   },
   "outputs": [
    {
     "data": {
      "text/plain": [
       "aab: List[(String, Int)] = List((a,1), (b,2), (c,3))\r\n"
      ]
     },
     "execution_count": 207,
     "metadata": {},
     "output_type": "execute_result"
    }
   ],
   "source": [
    "val aab = aaa zip List(1,2,3) //如果两个列表的长度不同，那么任何没有配对上的元素将被丢弃"
   ]
  },
  {
   "cell_type": "code",
   "execution_count": 208,
   "metadata": {
    "ExecuteTime": {
     "end_time": "2021-06-18T06:57:04.161327Z",
     "start_time": "2021-06-18T06:57:03.844645Z"
    }
   },
   "outputs": [
    {
     "data": {
      "text/plain": [
       "res136: List[(String, Int)] = List((a,0), (b,1), (c,2), (d,3), (e,4))\r\n"
      ]
     },
     "execution_count": 208,
     "metadata": {},
     "output_type": "execute_result"
    }
   ],
   "source": [
    "aaa.zipWithIndex //将列表中的每个元素和它出现在列表中的位置组合成对偶"
   ]
  },
  {
   "cell_type": "code",
   "execution_count": 209,
   "metadata": {
    "ExecuteTime": {
     "end_time": "2021-06-18T06:57:04.462540Z",
     "start_time": "2021-06-18T06:57:04.163322Z"
    }
   },
   "outputs": [
    {
     "data": {
      "text/plain": [
       "res137: (List[String], List[Int]) = (List(a, b, c),List(1, 2, 3))\r\n"
      ]
     },
     "execution_count": 209,
     "metadata": {},
     "output_type": "execute_result"
    }
   ],
   "source": [
    "aab.unzip //任何元组的列表也可以通过unzip方法转换回由列表组成的元组"
   ]
  },
  {
   "cell_type": "markdown",
   "metadata": {},
   "source": [
    "### 显示列表"
   ]
  },
  {
   "cell_type": "code",
   "execution_count": 210,
   "metadata": {
    "ExecuteTime": {
     "end_time": "2021-06-18T06:57:04.795647Z",
     "start_time": "2021-06-18T06:57:04.464536Z"
    }
   },
   "outputs": [
    {
     "data": {
      "text/plain": [
       "aaa: List[String] = List(a, b, c, d, e)\r\n",
       "res138: String = List(a, b, c, d, e)\r\n"
      ]
     },
     "execution_count": 210,
     "metadata": {},
     "output_type": "execute_result"
    }
   ],
   "source": [
    "val aaa = List(\"a\",\"b\",\"c\",\"d\",\"e\")\n",
    "aaa.toString //返回列表的标准字符串表现形式"
   ]
  },
  {
   "cell_type": "markdown",
   "metadata": {},
   "source": [
    "如果需要不同的表现形式，可以用mkString方法。xs mkString (pre,sep,post)涉及四个操作元：要显示的列表xs、出现在最前面的前缀字符串pre、在元素间显示的分隔字符串sep，以及出现在最后面的后缀字符串post。  \n",
    "mkString有两个重载的变种，第一个变种只接收一个分隔符；第二个变种什么入参都不填"
   ]
  },
  {
   "cell_type": "code",
   "execution_count": 211,
   "metadata": {
    "ExecuteTime": {
     "end_time": "2021-06-18T06:57:05.109356Z",
     "start_time": "2021-06-18T06:57:04.797642Z"
    }
   },
   "outputs": [
    {
     "data": {
      "text/plain": [
       "res139: String = [a;b;c;d;e]\r\n"
      ]
     },
     "execution_count": 211,
     "metadata": {},
     "output_type": "execute_result"
    }
   ],
   "source": [
    "aaa mkString (\"[\",\";\",\"]\")"
   ]
  },
  {
   "cell_type": "code",
   "execution_count": 212,
   "metadata": {
    "ExecuteTime": {
     "end_time": "2021-06-18T06:57:05.459382Z",
     "start_time": "2021-06-18T06:57:05.111315Z"
    }
   },
   "outputs": [
    {
     "data": {
      "text/plain": [
       "res140: String = abcde\r\n"
      ]
     },
     "execution_count": 212,
     "metadata": {},
     "output_type": "execute_result"
    }
   ],
   "source": [
    "aaa.mkString"
   ]
  },
  {
   "cell_type": "markdown",
   "metadata": {},
   "source": [
    "### 转换列表"
   ]
  },
  {
   "cell_type": "code",
   "execution_count": 213,
   "metadata": {
    "ExecuteTime": {
     "end_time": "2021-06-18T06:57:05.872279Z",
     "start_time": "2021-06-18T06:57:05.468358Z"
    }
   },
   "outputs": [
    {
     "data": {
      "text/plain": [
       "aaa: List[String] = List(a, b, c, d, e)\r\n",
       "arr: Array[String] = Array(a, b, c, d, e)\r\n"
      ]
     },
     "execution_count": 213,
     "metadata": {},
     "output_type": "execute_result"
    }
   ],
   "source": [
    "val aaa = List(\"a\",\"b\",\"c\",\"d\",\"e\")\n",
    "val arr = aaa.toArray //将列表转换成数组"
   ]
  },
  {
   "cell_type": "code",
   "execution_count": 214,
   "metadata": {
    "ExecuteTime": {
     "end_time": "2021-06-18T06:57:06.237324Z",
     "start_time": "2021-06-18T06:57:05.874274Z"
    }
   },
   "outputs": [
    {
     "data": {
      "text/plain": [
       "res141: List[String] = List(a, b, c, d, e)\r\n"
      ]
     },
     "execution_count": 214,
     "metadata": {},
     "output_type": "execute_result"
    }
   ],
   "source": [
    "arr.toList //将数组转换成列表"
   ]
  },
  {
   "cell_type": "code",
   "execution_count": 215,
   "metadata": {
    "ExecuteTime": {
     "end_time": "2021-06-18T06:57:06.556470Z",
     "start_time": "2021-06-18T06:57:06.239318Z"
    }
   },
   "outputs": [
    {
     "data": {
      "text/plain": [
       "arr2: Array[Int] = Array(0, 0, 0, 1, 2, 3, 0, 0, 0, 0)\r\n"
      ]
     },
     "execution_count": 215,
     "metadata": {},
     "output_type": "execute_result"
    }
   ],
   "source": [
    "val arr2 = new Array[Int](10)\n",
    "List(1,2,3) copyToArray(arr2,3) //将列表中的元素依次复制到目标数组的指定位置"
   ]
  },
  {
   "cell_type": "code",
   "execution_count": 216,
   "metadata": {
    "ExecuteTime": {
     "end_time": "2021-06-18T06:57:06.951436Z",
     "start_time": "2021-06-18T06:57:06.558465Z"
    }
   },
   "outputs": [
    {
     "data": {
      "text/plain": [
       "it: Iterator[String] = <iterator>\r\n",
       "res143: String = a\r\n"
      ]
     },
     "execution_count": 216,
     "metadata": {},
     "output_type": "execute_result"
    }
   ],
   "source": [
    "val it = arr.iterator //通过迭代器访问列表元素\n",
    "it.next //依次访问"
   ]
  },
  {
   "cell_type": "code",
   "execution_count": 217,
   "metadata": {
    "ExecuteTime": {
     "end_time": "2021-06-18T06:57:07.221728Z",
     "start_time": "2021-06-18T06:57:06.953429Z"
    }
   },
   "outputs": [
    {
     "data": {
      "text/plain": [
       "res144: String = b\r\n"
      ]
     },
     "execution_count": 217,
     "metadata": {},
     "output_type": "execute_result"
    }
   ],
   "source": [
    "it.next"
   ]
  },
  {
   "cell_type": "markdown",
   "metadata": {},
   "source": [
    "## list类的高阶方法"
   ]
  },
  {
   "cell_type": "markdown",
   "metadata": {},
   "source": [
    "### 对列表作映射 "
   ]
  },
  {
   "cell_type": "markdown",
   "metadata": {},
   "source": [
    "xs map f 这个操作将类型为List[T]的列表xs和类型为T => U的函数f作为操作元，返回一个通过应用f到xs的**每个元素**后得到的列表。"
   ]
  },
  {
   "cell_type": "code",
   "execution_count": 1,
   "metadata": {
    "ExecuteTime": {
     "end_time": "2021-07-01T09:49:14.982417Z",
     "start_time": "2021-07-01T09:49:01.038841Z"
    }
   },
   "outputs": [
    {
     "data": {
      "text/plain": [
       "Intitializing Scala interpreter ..."
      ]
     },
     "metadata": {},
     "output_type": "display_data"
    },
    {
     "data": {
      "text/plain": [
       "Spark Web UI available at http://192.168.56.1:4040\n",
       "SparkContext available as 'sc' (version = 3.0.1, master = local[*], app id = local-1625132949073)\n",
       "SparkSession available as 'spark'\n"
      ]
     },
     "metadata": {},
     "output_type": "display_data"
    },
    {
     "data": {
      "text/plain": [
       "res0: List[Int] = List(2, 3, 4)\r\n"
      ]
     },
     "execution_count": 1,
     "metadata": {},
     "output_type": "execute_result"
    }
   ],
   "source": [
    "List(1,2,3) map (_ + 1)"
   ]
  },
  {
   "cell_type": "code",
   "execution_count": 5,
   "metadata": {
    "ExecuteTime": {
     "end_time": "2021-07-01T09:50:19.839445Z",
     "start_time": "2021-07-01T09:50:19.371674Z"
    }
   },
   "outputs": [
    {
     "data": {
      "text/plain": [
       "a: List[Int] = List(2, 3, 4)\r\n",
       "res4: List[Int] = List(2, 3, 4)\r\n"
      ]
     },
     "execution_count": 5,
     "metadata": {},
     "output_type": "execute_result"
    }
   ],
   "source": [
    "val a = List(1,2,3) map (_ + 1)\n",
    "a"
   ]
  },
  {
   "cell_type": "code",
   "execution_count": 219,
   "metadata": {
    "ExecuteTime": {
     "end_time": "2021-06-18T06:57:08.029117Z",
     "start_time": "2021-06-18T06:57:07.556360Z"
    }
   },
   "outputs": [
    {
     "data": {
      "text/plain": [
       "words: List[String] = List(the, quick, brown, fox)\r\n",
       "res146: List[Int] = List(3, 5, 5, 3)\r\n"
      ]
     },
     "execution_count": 219,
     "metadata": {},
     "output_type": "execute_result"
    }
   ],
   "source": [
    "val words = List(\"the\",\"quick\",\"brown\",\"fox\")\n",
    "words map (_.length)"
   ]
  },
  {
   "cell_type": "code",
   "execution_count": 220,
   "metadata": {
    "ExecuteTime": {
     "end_time": "2021-06-18T06:57:08.364222Z",
     "start_time": "2021-06-18T06:57:08.031112Z"
    }
   },
   "outputs": [
    {
     "data": {
      "text/plain": [
       "res147: List[String] = List(eht, kciuq, nworb, xof)\r\n"
      ]
     },
     "execution_count": 220,
     "metadata": {},
     "output_type": "execute_result"
    }
   ],
   "source": [
    "words map (_.toList.reverse.mkString)"
   ]
  },
  {
   "cell_type": "markdown",
   "metadata": {},
   "source": [
    "flatMap要求右侧的操作元是一个返回元素列表的函数，它将这个函数应用到列表的**每个元素**，然后将所有结果拼接起来返回。"
   ]
  },
  {
   "cell_type": "code",
   "execution_count": 221,
   "metadata": {
    "ExecuteTime": {
     "end_time": "2021-06-18T06:57:08.682394Z",
     "start_time": "2021-06-18T06:57:08.366216Z"
    }
   },
   "outputs": [
    {
     "data": {
      "text/plain": [
       "res148: List[List[Char]] = List(List(t, h, e), List(q, u, i, c, k), List(b, r, o, w, n), List(f, o, x))\r\n"
      ]
     },
     "execution_count": 221,
     "metadata": {},
     "output_type": "execute_result"
    }
   ],
   "source": [
    "words map (_.toList)"
   ]
  },
  {
   "cell_type": "code",
   "execution_count": 222,
   "metadata": {
    "ExecuteTime": {
     "end_time": "2021-06-18T06:57:09.032476Z",
     "start_time": "2021-06-18T06:57:08.684389Z"
    }
   },
   "outputs": [
    {
     "data": {
      "text/plain": [
       "res149: List[Char] = List(t, h, e, q, u, i, c, k, b, r, o, w, n, f, o, x)\r\n"
      ]
     },
     "execution_count": 222,
     "metadata": {},
     "output_type": "execute_result"
    }
   ],
   "source": [
    "words flatMap (_.toList)"
   ]
  },
  {
   "cell_type": "markdown",
   "metadata": {},
   "source": [
    "foreach要求右操作元是一个过程（结果类型为Unit的函数），它只是简单的将过程应用到列表中的**每个元素**。"
   ]
  },
  {
   "cell_type": "code",
   "execution_count": 223,
   "metadata": {
    "ExecuteTime": {
     "end_time": "2021-06-18T06:57:09.319216Z",
     "start_time": "2021-06-18T06:57:09.033471Z"
    }
   },
   "outputs": [
    {
     "data": {
      "text/plain": [
       "sum: Int = 15\r\n"
      ]
     },
     "execution_count": 223,
     "metadata": {},
     "output_type": "execute_result"
    }
   ],
   "source": [
    "var sum = 0\n",
    "List(1,2,3,4,5) foreach (sum += _)"
   ]
  },
  {
   "cell_type": "markdown",
   "metadata": {},
   "source": [
    "### 过滤列表 "
   ]
  },
  {
   "cell_type": "markdown",
   "metadata": {},
   "source": [
    "xs filter p 这个操作的两个操作元分别是类型为List[T]的列表xs和类型为T => Boolean的前提条件函数p，这个操作将输出xs中所有p(x)为**true**的元素x。"
   ]
  },
  {
   "cell_type": "code",
   "execution_count": 224,
   "metadata": {
    "ExecuteTime": {
     "end_time": "2021-06-18T06:57:09.606464Z",
     "start_time": "2021-06-18T06:57:09.321211Z"
    }
   },
   "outputs": [
    {
     "data": {
      "text/plain": [
       "res151: List[Int] = List(2, 4)\r\n"
      ]
     },
     "execution_count": 224,
     "metadata": {},
     "output_type": "execute_result"
    }
   ],
   "source": [
    "List(1,2,3,4,5) filter (_ % 2 == 0) //音译：非欧特"
   ]
  },
  {
   "cell_type": "code",
   "execution_count": 225,
   "metadata": {
    "ExecuteTime": {
     "end_time": "2021-06-18T06:57:10.035316Z",
     "start_time": "2021-06-18T06:57:09.608458Z"
    }
   },
   "outputs": [
    {
     "data": {
      "text/plain": [
       "words: List[String] = List(the, quick, brown, fox)\r\n",
       "res152: List[String] = List(the, fox)\r\n"
      ]
     },
     "execution_count": 225,
     "metadata": {},
     "output_type": "execute_result"
    }
   ],
   "source": [
    "val words = List(\"the\",\"quick\",\"brown\",\"fox\")\n",
    "words filter (_.length == 3)"
   ]
  },
  {
   "cell_type": "markdown",
   "metadata": {},
   "source": [
    "partition方法跟filter很象不过返回的是一对列表，其中一个包含所有前提条件为true的元素，另一个包含所有前提条件为false的元素。"
   ]
  },
  {
   "cell_type": "code",
   "execution_count": 226,
   "metadata": {
    "ExecuteTime": {
     "end_time": "2021-06-18T06:57:10.290635Z",
     "start_time": "2021-06-18T06:57:10.037311Z"
    }
   },
   "outputs": [
    {
     "data": {
      "text/plain": [
       "res153: (List[Int], List[Int]) = (List(2, 4),List(1, 3, 5))\r\n"
      ]
     },
     "execution_count": 226,
     "metadata": {},
     "output_type": "execute_result"
    }
   ],
   "source": [
    "List(1,2,3,4,5) partition (_ % 2 == 0) //音译：怕忒寻"
   ]
  },
  {
   "cell_type": "markdown",
   "metadata": {},
   "source": [
    "find方法返回满足给定前提条件的第一个元素，而不是所有元素。xs find p，如果xs中存在一个元素x满足p(x)为true，那么就返回**Some(x)**，如果对于所有元素而言p都为false，那么则返回**None**。"
   ]
  },
  {
   "cell_type": "code",
   "execution_count": 227,
   "metadata": {
    "ExecuteTime": {
     "end_time": "2021-06-18T06:57:10.576894Z",
     "start_time": "2021-06-18T06:57:10.291633Z"
    }
   },
   "outputs": [
    {
     "data": {
      "text/plain": [
       "res154: Option[Int] = Some(2)\r\n"
      ]
     },
     "execution_count": 227,
     "metadata": {},
     "output_type": "execute_result"
    }
   ],
   "source": [
    "List(1,2,3,4,5) find (_ % 2 == 0)"
   ]
  },
  {
   "cell_type": "code",
   "execution_count": 228,
   "metadata": {
    "ExecuteTime": {
     "end_time": "2021-06-18T06:57:10.926485Z",
     "start_time": "2021-06-18T06:57:10.577892Z"
    }
   },
   "outputs": [
    {
     "data": {
      "text/plain": [
       "res155: Option[Int] = None\r\n"
      ]
     },
     "execution_count": 228,
     "metadata": {},
     "output_type": "execute_result"
    }
   ],
   "source": [
    "List(1,2,3,4,5) find (_ <= 0)"
   ]
  },
  {
   "cell_type": "markdown",
   "metadata": {},
   "source": [
    "xs takeWhile p操作返回列表xs中连续满足p的最长前缀。  \n",
    "xs dropWhile p操作将**去除**列表xs中连续满足p的最长前缀。"
   ]
  },
  {
   "cell_type": "code",
   "execution_count": 229,
   "metadata": {
    "ExecuteTime": {
     "end_time": "2021-06-18T06:57:11.197793Z",
     "start_time": "2021-06-18T06:57:10.928480Z"
    }
   },
   "outputs": [
    {
     "data": {
      "text/plain": [
       "res156: List[Int] = List(1, 2, 3)\r\n"
      ]
     },
     "execution_count": 229,
     "metadata": {},
     "output_type": "execute_result"
    }
   ],
   "source": [
    "List(1,2,3,-4,5) takeWhile (_ > 0)"
   ]
  },
  {
   "cell_type": "code",
   "execution_count": 230,
   "metadata": {
    "ExecuteTime": {
     "end_time": "2021-06-18T06:57:11.468613Z",
     "start_time": "2021-06-18T06:57:11.199788Z"
    }
   },
   "outputs": [
    {
     "data": {
      "text/plain": [
       "res157: List[Int] = List(-4, 5)\r\n"
      ]
     },
     "execution_count": 230,
     "metadata": {},
     "output_type": "execute_result"
    }
   ],
   "source": [
    "List(1,2,3,-4,5) dropWhile (_ > 0)"
   ]
  },
  {
   "cell_type": "markdown",
   "metadata": {},
   "source": [
    "span方法将takeWhile和dropWhile两个操作合二为一，返回一对列表，且不会重复遍历xs。"
   ]
  },
  {
   "cell_type": "code",
   "execution_count": 231,
   "metadata": {
    "ExecuteTime": {
     "end_time": "2021-06-18T06:57:11.818676Z",
     "start_time": "2021-06-18T06:57:11.469611Z"
    }
   },
   "outputs": [
    {
     "data": {
      "text/plain": [
       "res158: (List[Int], List[Int]) = (List(1, 2, 3),List(-4, 5))\r\n"
      ]
     },
     "execution_count": 231,
     "metadata": {},
     "output_type": "execute_result"
    }
   ],
   "source": [
    "List(1,2,3,-4,5) span (_ > 0) //音译：斯班"
   ]
  },
  {
   "cell_type": "markdown",
   "metadata": {},
   "source": [
    "### 对列表的前提条件检查 "
   ]
  },
  {
   "cell_type": "markdown",
   "metadata": {},
   "source": [
    "xs forall p这个操作接收一个列表xs和一个前提条件p作为入参。如果列表中**所有元素**都满足p就返回true。  \n",
    "xs exists p这个操作返回true的要求是xs中**存在一个**元素满足前提条件p。"
   ]
  },
  {
   "cell_type": "code",
   "execution_count": 232,
   "metadata": {
    "ExecuteTime": {
     "end_time": "2021-06-18T06:57:12.182232Z",
     "start_time": "2021-06-18T06:57:11.820671Z"
    }
   },
   "outputs": [
    {
     "data": {
      "text/plain": [
       "res159: Boolean = false\r\n"
      ]
     },
     "execution_count": 232,
     "metadata": {},
     "output_type": "execute_result"
    }
   ],
   "source": [
    "List(1,2,3,-4,5) forall (_ > 0)"
   ]
  },
  {
   "cell_type": "code",
   "execution_count": 233,
   "metadata": {
    "ExecuteTime": {
     "end_time": "2021-06-18T06:57:12.483429Z",
     "start_time": "2021-06-18T06:57:12.190248Z"
    }
   },
   "outputs": [
    {
     "data": {
      "text/plain": [
       "res160: Boolean = true\r\n"
      ]
     },
     "execution_count": 233,
     "metadata": {},
     "output_type": "execute_result"
    }
   ],
   "source": [
    "List(1,2,3,-4,5) exists (_ > 0)"
   ]
  },
  {
   "cell_type": "markdown",
   "metadata": {},
   "source": [
    "### 折叠列表 "
   ]
  },
  {
   "cell_type": "markdown",
   "metadata": {},
   "source": [
    "左折叠：(z /: xs)(op) 涉及三个对象：起始值z、列表xs和二元操作符op，折叠的结果以z为前缀，对列表的元素依次连续应用op。"
   ]
  },
  {
   "cell_type": "code",
   "execution_count": 234,
   "metadata": {
    "ExecuteTime": {
     "end_time": "2021-06-18T06:57:12.785645Z",
     "start_time": "2021-06-18T06:57:12.485421Z"
    }
   },
   "outputs": [
    {
     "data": {
      "text/plain": [
       "res161: Int = 6\r\n"
      ]
     },
     "execution_count": 234,
     "metadata": {},
     "output_type": "execute_result"
    }
   ],
   "source": [
    "(0 /: List(1,2,3))(_ + _)//等价于(((0+1)+2)+3)"
   ]
  },
  {
   "cell_type": "markdown",
   "metadata": {},
   "source": [
    "右折叠：(xs :\\ z)(op)  等于 op(a,op(b,op(c,z)))"
   ]
  },
  {
   "cell_type": "code",
   "execution_count": 235,
   "metadata": {
    "ExecuteTime": {
     "end_time": "2021-06-18T06:57:13.150691Z",
     "start_time": "2021-06-18T06:57:12.787641Z"
    }
   },
   "outputs": [
    {
     "data": {
      "text/plain": [
       "res162: Int = 6\r\n"
      ]
     },
     "execution_count": 235,
     "metadata": {},
     "output_type": "execute_result"
    }
   ],
   "source": [
    "(List(1,2,3) :\\ 0)(_ + _)//等价于(((0+3)+2)+1)"
   ]
  },
  {
   "cell_type": "markdown",
   "metadata": {},
   "source": [
    "### 列表排序 "
   ]
  },
  {
   "cell_type": "markdown",
   "metadata": {},
   "source": [
    "xs sortWith before 这个操作对列表xs中的元素进行排序，其中xs是列表，而before是一个用来比较两个元素的函数。"
   ]
  },
  {
   "cell_type": "code",
   "execution_count": 236,
   "metadata": {
    "ExecuteTime": {
     "end_time": "2021-06-18T06:57:13.433466Z",
     "start_time": "2021-06-18T06:57:13.152685Z"
    }
   },
   "outputs": [
    {
     "data": {
      "text/plain": [
       "res163: List[Int] = List(-3, 1, 2, 4, 6)\r\n"
      ]
     },
     "execution_count": 236,
     "metadata": {},
     "output_type": "execute_result"
    }
   ],
   "source": [
    "List(1,-3,4,2,6) sortWith (_ < _)"
   ]
  },
  {
   "cell_type": "code",
   "execution_count": 237,
   "metadata": {
    "ExecuteTime": {
     "end_time": "2021-06-18T06:57:13.719720Z",
     "start_time": "2021-06-18T06:57:13.438453Z"
    }
   },
   "outputs": [
    {
     "data": {
      "text/plain": [
       "words: List[String] = List(the, quick, brown, fox)\r\n",
       "res164: List[String] = List(quick, brown, the, fox)\r\n"
      ]
     },
     "execution_count": 237,
     "metadata": {},
     "output_type": "execute_result"
    }
   ],
   "source": [
    "val words = List(\"the\",\"quick\",\"brown\",\"fox\")\n",
    "words sortWith (_.length > _.length)"
   ]
  },
  {
   "cell_type": "markdown",
   "metadata": {},
   "source": [
    "## List对象的方法 "
   ]
  },
  {
   "cell_type": "markdown",
   "metadata": {},
   "source": [
    "之前介绍的都是List类的方法，因此是在每个具体的列表对象上调用它们，还有一些方法定义在全局可访问对象scala.List上，这是List的伴生对象。"
   ]
  },
  {
   "cell_type": "markdown",
   "metadata": {},
   "source": [
    "### 从元素创建列表 "
   ]
  },
  {
   "cell_type": "code",
   "execution_count": 238,
   "metadata": {
    "ExecuteTime": {
     "end_time": "2021-06-18T06:57:14.117674Z",
     "start_time": "2021-06-18T06:57:13.720717Z"
    }
   },
   "outputs": [
    {
     "data": {
      "text/plain": [
       "res165: List[Int] = List(1, 2, 3)\r\n"
      ]
     },
     "execution_count": 238,
     "metadata": {},
     "output_type": "execute_result"
    }
   ],
   "source": [
    "List.apply(1,2,3) //和List(1,2,3)等效"
   ]
  },
  {
   "cell_type": "markdown",
   "metadata": {},
   "source": [
    "### 创建数值区间 "
   ]
  },
  {
   "cell_type": "code",
   "execution_count": 239,
   "metadata": {
    "ExecuteTime": {
     "end_time": "2021-06-18T06:57:14.404924Z",
     "start_time": "2021-06-18T06:57:14.119669Z"
    }
   },
   "outputs": [
    {
     "data": {
      "text/plain": [
       "res166: List[Int] = List(1, 2, 3, 4)\r\n"
      ]
     },
     "execution_count": 239,
     "metadata": {},
     "output_type": "execute_result"
    }
   ],
   "source": [
    "List.range(1,5) //创建一个包含从from开始递增到until减1的列表"
   ]
  },
  {
   "cell_type": "code",
   "execution_count": 240,
   "metadata": {
    "ExecuteTime": {
     "end_time": "2021-06-18T06:57:14.691184Z",
     "start_time": "2021-06-18T06:57:14.406919Z"
    }
   },
   "outputs": [
    {
     "data": {
      "text/plain": [
       "res167: List[Int] = List(9, 6, 3)\r\n"
      ]
     },
     "execution_count": 240,
     "metadata": {},
     "output_type": "execute_result"
    }
   ],
   "source": [
    "List.range(9,1,-3) //创建一个从from开始，间隔为step的值，step可正可负"
   ]
  },
  {
   "cell_type": "markdown",
   "metadata": {},
   "source": [
    "### 创建相同元素的列表 "
   ]
  },
  {
   "cell_type": "markdown",
   "metadata": {},
   "source": [
    "fill方法创建包含零个或多个同一个元素的拷贝，它接收两个参数，要创建的列表长度和需要重复的元素，两个参数各自以不同的参数列表给出。"
   ]
  },
  {
   "cell_type": "code",
   "execution_count": 241,
   "metadata": {
    "ExecuteTime": {
     "end_time": "2021-06-18T06:57:15.070680Z",
     "start_time": "2021-06-18T06:57:14.693179Z"
    }
   },
   "outputs": [
    {
     "data": {
      "text/plain": [
       "res168: List[Char] = List(a, a, a, a, a)\r\n"
      ]
     },
     "execution_count": 241,
     "metadata": {},
     "output_type": "execute_result"
    }
   ],
   "source": [
    "List.fill(5)('a') "
   ]
  },
  {
   "cell_type": "code",
   "execution_count": 242,
   "metadata": {
    "ExecuteTime": {
     "end_time": "2021-06-18T06:57:15.355918Z",
     "start_time": "2021-06-18T06:57:15.086638Z"
    }
   },
   "outputs": [
    {
     "data": {
      "text/plain": [
       "res169: List[List[(Char, Char)]] = List(List((b,a), (b,a), (b,a)), List((b,a), (b,a), (b,a)))\r\n"
      ]
     },
     "execution_count": 242,
     "metadata": {},
     "output_type": "execute_result"
    }
   ],
   "source": [
    "List.fill(2,3)('b','a') //如果fill的参数多于1个，它就会创建多维列表"
   ]
  },
  {
   "cell_type": "markdown",
   "metadata": {},
   "source": [
    "### 表格化一个函数"
   ]
  },
  {
   "cell_type": "markdown",
   "metadata": {},
   "source": [
    "tabulate方法创建的是一个根据给定的函数计算的元素的列表，第一个参数列表给出要创建的列表的维度，第二个参数列表描述的是列表的元素，它是从函数计算来的。"
   ]
  },
  {
   "cell_type": "code",
   "execution_count": 243,
   "metadata": {
    "ExecuteTime": {
     "end_time": "2021-06-18T06:57:15.658640Z",
     "start_time": "2021-06-18T06:57:15.358909Z"
    }
   },
   "outputs": [
    {
     "data": {
      "text/plain": [
       "square: List[Int] = List(0, 1, 4, 9, 16)\r\n"
      ]
     },
     "execution_count": 243,
     "metadata": {},
     "output_type": "execute_result"
    }
   ],
   "source": [
    "val square = List.tabulate(5)(n => n * n)"
   ]
  },
  {
   "cell_type": "code",
   "execution_count": 244,
   "metadata": {
    "ExecuteTime": {
     "end_time": "2021-06-18T06:57:15.993832Z",
     "start_time": "2021-06-18T06:57:15.660636Z"
    }
   },
   "outputs": [
    {
     "data": {
      "text/plain": [
       "squares: List[List[Int]] = List(List(0, 0, 0, 0, 0), List(0, 1, 2, 3, 4), List(0, 2, 4, 6, 8), List(0, 3, 6, 9, 12), List(0, 4, 8, 12, 16))\r\n"
      ]
     },
     "execution_count": 244,
     "metadata": {},
     "output_type": "execute_result"
    }
   ],
   "source": [
    "val squares = List.tabulate(5,5)(_ * _)"
   ]
  },
  {
   "cell_type": "markdown",
   "metadata": {},
   "source": [
    "### 拼接多个列表 "
   ]
  },
  {
   "cell_type": "markdown",
   "metadata": {},
   "source": [
    "concat方法将多个列表拼接在一起。"
   ]
  },
  {
   "cell_type": "code",
   "execution_count": 245,
   "metadata": {
    "ExecuteTime": {
     "end_time": "2021-06-18T06:57:16.359792Z",
     "start_time": "2021-06-18T06:57:15.995739Z"
    }
   },
   "outputs": [
    {
     "data": {
      "text/plain": [
       "res170: List[Char] = List(a, b, c)\r\n"
      ]
     },
     "execution_count": 245,
     "metadata": {},
     "output_type": "execute_result"
    }
   ],
   "source": [
    "List.concat(List('a','b'),List('c'))"
   ]
  },
  {
   "cell_type": "markdown",
   "metadata": {},
   "source": [
    "## 同时处理多个列表 "
   ]
  },
  {
   "cell_type": "code",
   "execution_count": 246,
   "metadata": {
    "ExecuteTime": {
     "end_time": "2021-06-18T06:57:16.661985Z",
     "start_time": "2021-06-18T06:57:16.361787Z"
    }
   },
   "outputs": [
    {
     "data": {
      "text/plain": [
       "res171: List[Int] = List(30, 80)\r\n"
      ]
     },
     "execution_count": 246,
     "metadata": {},
     "output_type": "execute_result"
    }
   ],
   "source": [
    "(List(10,20),List(3,4,5)).zipped.map(_ * _) //zipped方法只会把所有列表中都有值的元素zip在一起，多出来的会被丢弃"
   ]
  },
  {
   "cell_type": "code",
   "execution_count": 247,
   "metadata": {
    "ExecuteTime": {
     "end_time": "2021-06-18T06:57:16.965201Z",
     "start_time": "2021-06-18T06:57:16.663980Z"
    }
   },
   "outputs": [
    {
     "data": {
      "text/plain": [
       "res172: Boolean = true\r\n"
      ]
     },
     "execution_count": 247,
     "metadata": {},
     "output_type": "execute_result"
    }
   ],
   "source": [
    "(List(\"abc\",\"de\"),List(3,2)).zipped.forall(_.length == _)"
   ]
  },
  {
   "cell_type": "code",
   "execution_count": 248,
   "metadata": {
    "ExecuteTime": {
     "end_time": "2021-06-18T06:57:17.299362Z",
     "start_time": "2021-06-18T06:57:16.967196Z"
    }
   },
   "outputs": [
    {
     "data": {
      "text/plain": [
       "res173: Boolean = false\r\n"
      ]
     },
     "execution_count": 248,
     "metadata": {},
     "output_type": "execute_result"
    }
   ],
   "source": [
    "(List(\"abc\",\"de\"),List(3,2)).zipped.exists(_.length != _)"
   ]
  },
  {
   "cell_type": "markdown",
   "metadata": {},
   "source": [
    "# 使用其他集合类"
   ]
  },
  {
   "cell_type": "markdown",
   "metadata": {},
   "source": [
    "## 序列"
   ]
  },
  {
   "cell_type": "markdown",
   "metadata": {},
   "source": [
    "### 列表"
   ]
  },
  {
   "cell_type": "markdown",
   "metadata": {},
   "source": [
    "参考第3章第2节、第16章和第22章。"
   ]
  },
  {
   "cell_type": "markdown",
   "metadata": {},
   "source": [
    "### 数组 "
   ]
  },
  {
   "cell_type": "markdown",
   "metadata": {},
   "source": [
    "参考第3章第1节、第10章。"
   ]
  },
  {
   "cell_type": "markdown",
   "metadata": {},
   "source": [
    "### 列表缓冲 "
   ]
  },
  {
   "cell_type": "markdown",
   "metadata": {},
   "source": [
    "List类提供对列表头部的快速访问，对尾部访问则没那么高效，当需要往列表尾部追加元素来构建列表时，通常反过来往头部追加元素，追加完成后，再调用reverse来获取我们想要的顺序，避免reverse的操作是使用ListBuffer。"
   ]
  },
  {
   "cell_type": "code",
   "execution_count": 249,
   "metadata": {
    "ExecuteTime": {
     "end_time": "2021-06-18T06:57:17.536696Z",
     "start_time": "2021-06-18T06:57:17.301361Z"
    }
   },
   "outputs": [
    {
     "data": {
      "text/plain": [
       "import scala.collection.mutable.ListBuffer\r\n"
      ]
     },
     "execution_count": 249,
     "metadata": {},
     "output_type": "execute_result"
    }
   ],
   "source": [
    "import scala.collection.mutable.ListBuffer"
   ]
  },
  {
   "cell_type": "markdown",
   "metadata": {},
   "source": [
    "### 数组缓冲 "
   ]
  },
  {
   "cell_type": "markdown",
   "metadata": {},
   "source": [
    "ArrayBuffer跟数组很像，所有的Array操作在ArrayBuffer上都可以,不过由于实现的包装，会稍慢一些。"
   ]
  },
  {
   "cell_type": "code",
   "execution_count": 250,
   "metadata": {
    "ExecuteTime": {
     "end_time": "2021-06-18T06:57:17.855864Z",
     "start_time": "2021-06-18T06:57:17.538692Z"
    }
   },
   "outputs": [
    {
     "data": {
      "text/plain": [
       "import scala.collection.mutable.ArrayBuffer\r\n",
       "buf: scala.collection.mutable.ArrayBuffer[Int] = ArrayBuffer(12)\r\n",
       "res174: buf.type = ArrayBuffer(12)\r\n"
      ]
     },
     "execution_count": 250,
     "metadata": {},
     "output_type": "execute_result"
    }
   ],
   "source": [
    "import scala.collection.mutable.ArrayBuffer\n",
    "val buf = new ArrayBuffer[Int]()\n",
    "buf += 12"
   ]
  },
  {
   "cell_type": "code",
   "execution_count": 251,
   "metadata": {
    "ExecuteTime": {
     "end_time": "2021-06-18T06:57:18.300741Z",
     "start_time": "2021-06-18T06:57:17.857859Z"
    }
   },
   "outputs": [
    {
     "data": {
      "text/plain": [
       "res175: buf.type = ArrayBuffer(12, 15)\r\n"
      ]
     },
     "execution_count": 251,
     "metadata": {},
     "output_type": "execute_result"
    }
   ],
   "source": [
    "buf += 15"
   ]
  },
  {
   "cell_type": "code",
   "execution_count": 252,
   "metadata": {
    "ExecuteTime": {
     "end_time": "2021-06-18T06:57:18.616856Z",
     "start_time": "2021-06-18T06:57:18.302669Z"
    }
   },
   "outputs": [
    {
     "data": {
      "text/plain": [
       "res176: Int = 2\r\n"
      ]
     },
     "execution_count": 252,
     "metadata": {},
     "output_type": "execute_result"
    }
   ],
   "source": [
    "buf.length"
   ]
  },
  {
   "cell_type": "markdown",
   "metadata": {},
   "source": [
    "### 字符串 "
   ]
  },
  {
   "cell_type": "markdown",
   "metadata": {},
   "source": [
    "另一个序列是StringOps，Predef实现了从String到StringOps的隐式转换，可以将任何字符串当作序列来处理。"
   ]
  },
  {
   "cell_type": "markdown",
   "metadata": {},
   "source": [
    "## 集和映射 "
   ]
  },
  {
   "cell_type": "markdown",
   "metadata": {},
   "source": [
    "### 使用集"
   ]
  },
  {
   "cell_type": "markdown",
   "metadata": {},
   "source": [
    "集的关键特征是它们会确保同一时刻，集里的每个对象都最多出现一次。"
   ]
  },
  {
   "cell_type": "code",
   "execution_count": 253,
   "metadata": {
    "ExecuteTime": {
     "end_time": "2021-06-18T06:57:18.903090Z",
     "start_time": "2021-06-18T06:57:18.618851Z"
    }
   },
   "outputs": [
    {
     "data": {
      "text/plain": [
       "import scala.collection.mutable\r\n",
       "res177: scala.collection.mutable.Set[Int] = Set(1, 2, 3)\r\n"
      ]
     },
     "execution_count": 253,
     "metadata": {},
     "output_type": "execute_result"
    }
   ],
   "source": [
    "import scala.collection.mutable\n",
    "mutable.Set(1,2,3) //可用mutable.Set表示可变集"
   ]
  },
  {
   "cell_type": "code",
   "execution_count": 254,
   "metadata": {
    "ExecuteTime": {
     "end_time": "2021-06-18T06:57:19.269142Z",
     "start_time": "2021-06-18T06:57:18.905120Z"
    }
   },
   "outputs": [
    {
     "data": {
      "text/plain": [
       "text: String = See Spot run. Run, Spot.Run!\r\n",
       "wordsArray: Array[String] = Array(See, Spot, run, Run, Spot, Run)\r\n",
       "words: scala.collection.mutable.Set[String] = Set(see, run, spot)\r\n",
       "res178: scala.collection.mutable.Set[String] = Set(see, run, spot)\r\n"
      ]
     },
     "execution_count": 254,
     "metadata": {},
     "output_type": "execute_result"
    }
   ],
   "source": [
    "val text = \"See Spot run. Run, Spot.Run!\"\n",
    "val wordsArray = text.split(\"[ !.,]+\") //正则化\n",
    "val words = mutable.Set.empty[String]\n",
    "for(word <- wordsArray){\n",
    "    words += word.toLowerCase//变小写\n",
    "}\n",
    "words //输出文本中的不同单词"
   ]
  },
  {
   "cell_type": "markdown",
   "metadata": {},
   "source": [
    "**常用的集操作**"
   ]
  },
  {
   "cell_type": "code",
   "execution_count": 255,
   "metadata": {
    "ExecuteTime": {
     "end_time": "2021-06-18T06:57:19.555398Z",
     "start_time": "2021-06-18T06:57:19.270140Z"
    }
   },
   "outputs": [
    {
     "data": {
      "text/plain": [
       "nums: scala.collection.immutable.Set[Int] = Set(1, 2, 3)\r\n"
      ]
     },
     "execution_count": 255,
     "metadata": {},
     "output_type": "execute_result"
    }
   ],
   "source": [
    "val nums = Set(1,2,3) //创建一个不可变集"
   ]
  },
  {
   "cell_type": "code",
   "execution_count": 256,
   "metadata": {
    "ExecuteTime": {
     "end_time": "2021-06-18T06:57:19.842293Z",
     "start_time": "2021-06-18T06:57:19.557392Z"
    }
   },
   "outputs": [
    {
     "data": {
      "text/plain": [
       "res179: scala.collection.immutable.Set[Int] = Set(1, 2, 3, 5)\r\n"
      ]
     },
     "execution_count": 256,
     "metadata": {},
     "output_type": "execute_result"
    }
   ],
   "source": [
    "nums + 5 //添加元素"
   ]
  },
  {
   "cell_type": "code",
   "execution_count": 257,
   "metadata": {
    "ExecuteTime": {
     "end_time": "2021-06-18T06:57:20.129491Z",
     "start_time": "2021-06-18T06:57:19.844286Z"
    }
   },
   "outputs": [
    {
     "data": {
      "text/plain": [
       "res180: scala.collection.immutable.Set[Int] = Set(1, 2)\r\n"
      ]
     },
     "execution_count": 257,
     "metadata": {},
     "output_type": "execute_result"
    }
   ],
   "source": [
    "nums - 3 //移除元素"
   ]
  },
  {
   "cell_type": "code",
   "execution_count": 258,
   "metadata": {
    "ExecuteTime": {
     "end_time": "2021-06-18T06:57:20.527449Z",
     "start_time": "2021-06-18T06:57:20.131486Z"
    }
   },
   "outputs": [
    {
     "data": {
      "text/plain": [
       "res181: scala.collection.immutable.Set[Int] = Set(5, 1, 6, 2, 3)\r\n"
      ]
     },
     "execution_count": 258,
     "metadata": {},
     "output_type": "execute_result"
    }
   ],
   "source": [
    "nums ++ List(5,6)"
   ]
  },
  {
   "cell_type": "code",
   "execution_count": 259,
   "metadata": {
    "ExecuteTime": {
     "end_time": "2021-06-18T06:57:20.814238Z",
     "start_time": "2021-06-18T06:57:20.528446Z"
    }
   },
   "outputs": [
    {
     "data": {
      "text/plain": [
       "res182: scala.collection.immutable.Set[Int] = Set(3)\r\n"
      ]
     },
     "execution_count": 259,
     "metadata": {},
     "output_type": "execute_result"
    }
   ],
   "source": [
    "nums -- List(1,2)"
   ]
  },
  {
   "cell_type": "code",
   "execution_count": 260,
   "metadata": {
    "ExecuteTime": {
     "end_time": "2021-06-18T06:57:21.084480Z",
     "start_time": "2021-06-18T06:57:20.820187Z"
    }
   },
   "outputs": [
    {
     "data": {
      "text/plain": [
       "res183: scala.collection.immutable.Set[Int] = Set(1, 3)\r\n"
      ]
     },
     "execution_count": 260,
     "metadata": {},
     "output_type": "execute_result"
    }
   ],
   "source": [
    "nums & Set(1,3,5,7) //取交集"
   ]
  },
  {
   "cell_type": "code",
   "execution_count": 261,
   "metadata": {
    "ExecuteTime": {
     "end_time": "2021-06-18T06:57:21.354757Z",
     "start_time": "2021-06-18T06:57:21.085477Z"
    }
   },
   "outputs": [
    {
     "data": {
      "text/plain": [
       "res184: Int = 3\r\n"
      ]
     },
     "execution_count": 261,
     "metadata": {},
     "output_type": "execute_result"
    }
   ],
   "source": [
    "nums.size //集的大小"
   ]
  },
  {
   "cell_type": "code",
   "execution_count": 262,
   "metadata": {
    "ExecuteTime": {
     "end_time": "2021-06-18T06:57:21.689862Z",
     "start_time": "2021-06-18T06:57:21.355754Z"
    }
   },
   "outputs": [
    {
     "data": {
      "text/plain": [
       "res185: Boolean = true\r\n"
      ]
     },
     "execution_count": 262,
     "metadata": {},
     "output_type": "execute_result"
    }
   ],
   "source": [
    "nums.contains(3) //是否包含"
   ]
  },
  {
   "cell_type": "code",
   "execution_count": 263,
   "metadata": {
    "ExecuteTime": {
     "end_time": "2021-06-18T06:57:21.960140Z",
     "start_time": "2021-06-18T06:57:21.691856Z"
    }
   },
   "outputs": [
    {
     "data": {
      "text/plain": [
       "words: scala.collection.mutable.Set[String] = Set(the)\r\n",
       "res186: words.type = Set(the)\r\n"
      ]
     },
     "execution_count": 263,
     "metadata": {},
     "output_type": "execute_result"
    }
   ],
   "source": [
    "val words = mutable.Set.empty[String]\n",
    "words += \"the\""
   ]
  },
  {
   "cell_type": "code",
   "execution_count": 264,
   "metadata": {
    "ExecuteTime": {
     "end_time": "2021-06-18T06:57:22.245396Z",
     "start_time": "2021-06-18T06:57:21.962135Z"
    }
   },
   "outputs": [
    {
     "data": {
      "text/plain": [
       "res187: words.type = Set()\r\n"
      ]
     },
     "execution_count": 264,
     "metadata": {},
     "output_type": "execute_result"
    }
   ],
   "source": [
    "words -= \"the\""
   ]
  },
  {
   "cell_type": "code",
   "execution_count": 265,
   "metadata": {
    "ExecuteTime": {
     "end_time": "2021-06-18T06:57:22.593483Z",
     "start_time": "2021-06-18T06:57:22.247390Z"
    }
   },
   "outputs": [
    {
     "data": {
      "text/plain": [
       "res188: words.type = Set(re, do, mi)\r\n"
      ]
     },
     "execution_count": 265,
     "metadata": {},
     "output_type": "execute_result"
    }
   ],
   "source": [
    "words ++= List(\"do\",\"re\",\"mi\") //添加多个元素"
   ]
  },
  {
   "cell_type": "code",
   "execution_count": 266,
   "metadata": {
    "ExecuteTime": {
     "end_time": "2021-06-18T06:57:22.880771Z",
     "start_time": "2021-06-18T06:57:22.595478Z"
    }
   },
   "outputs": [
    {
     "data": {
      "text/plain": [
       "res189: words.type = Set(mi)\r\n"
      ]
     },
     "execution_count": 266,
     "metadata": {},
     "output_type": "execute_result"
    }
   ],
   "source": [
    "words --= List(\"do\",\"re\") //移除多个元素"
   ]
  },
  {
   "cell_type": "code",
   "execution_count": 267,
   "metadata": {
    "ExecuteTime": {
     "end_time": "2021-06-18T06:57:23.165579Z",
     "start_time": "2021-06-18T06:57:22.882732Z"
    }
   },
   "outputs": [
    {
     "data": {
      "text/plain": [
       "res190: scala.collection.mutable.Set[String] = Set()\r\n"
      ]
     },
     "execution_count": 267,
     "metadata": {},
     "output_type": "execute_result"
    }
   ],
   "source": [
    "words.clear //移除所有元素\n",
    "words"
   ]
  },
  {
   "cell_type": "markdown",
   "metadata": {},
   "source": [
    "### 使用映射 "
   ]
  },
  {
   "cell_type": "markdown",
   "metadata": {},
   "source": [
    "映射可以对集的每个元素都关联一个值，只不过不再是用从0开始的整数下标去索引，而是可以用任意键来索引它，引入mutable这个包名，可以创建一个空的可变映射。"
   ]
  },
  {
   "cell_type": "code",
   "execution_count": 268,
   "metadata": {
    "ExecuteTime": {
     "end_time": "2021-06-18T06:57:23.451787Z",
     "start_time": "2021-06-18T06:57:23.166550Z"
    }
   },
   "outputs": [
    {
     "data": {
      "text/plain": [
       "import scala.collection.mutable\r\n",
       "map: scala.collection.mutable.Map[String,Int] = Map()\r\n"
      ]
     },
     "execution_count": 268,
     "metadata": {},
     "output_type": "execute_result"
    }
   ],
   "source": [
    "import scala.collection.mutable\n",
    "val map = mutable.Map.empty[String,Int] //创建空的可变映射，在创建时必须给出两个类型，第一个是针对映射的键key，第二个是针对映射的值value"
   ]
  },
  {
   "cell_type": "code",
   "execution_count": 269,
   "metadata": {
    "ExecuteTime": {
     "end_time": "2021-06-18T06:57:23.751983Z",
     "start_time": "2021-06-18T06:57:23.453782Z"
    }
   },
   "outputs": [
    {
     "data": {
      "text/plain": [
       "res191: scala.collection.mutable.Map[String,Int] = Map(hello -> 1, there -> 2)\r\n"
      ]
     },
     "execution_count": 269,
     "metadata": {},
     "output_type": "execute_result"
    }
   ],
   "source": [
    "map(\"hello\") = 1\n",
    "map(\"there\") = 2\n",
    "map"
   ]
  },
  {
   "cell_type": "code",
   "execution_count": 270,
   "metadata": {
    "ExecuteTime": {
     "end_time": "2021-06-18T06:57:24.133661Z",
     "start_time": "2021-06-18T06:57:23.753977Z"
    }
   },
   "outputs": [
    {
     "data": {
      "text/plain": [
       "countsWords: (text: String)scala.collection.mutable.Map[String,Int]\r\n",
       "text: String = See Spot run. Run, Spot.Run!\r\n",
       "res192: scala.collection.mutable.Map[String,Int] = Map(spot -> 2, see -> 1, run -> 3)\r\n"
      ]
     },
     "execution_count": 270,
     "metadata": {},
     "output_type": "execute_result"
    }
   ],
   "source": [
    "def countsWords(text: String) = {\n",
    "    val counts = mutable.Map.empty[String,Int]\n",
    "    for(rawWord <- text.split(\"[ !.,]+\")){\n",
    "        val word = rawWord.toLowerCase\n",
    "        val oldCount = if(counts.contains(word)) counts(word) else 0 /*contains来检查某个单词是否已经出现过，如果为true，\n",
    "        那么这个单词还没出现过*/\n",
    "        counts += (word -> (oldCount + 1))\n",
    "    }\n",
    "    counts\n",
    "}\n",
    "val text = \"See Spot run. Run, Spot.Run!\"\n",
    "countsWords(text)"
   ]
  },
  {
   "cell_type": "markdown",
   "metadata": {},
   "source": [
    "**常见的映射操作**"
   ]
  },
  {
   "cell_type": "code",
   "execution_count": 271,
   "metadata": {
    "ExecuteTime": {
     "end_time": "2021-06-18T06:57:24.418408Z",
     "start_time": "2021-06-18T06:57:24.135656Z"
    }
   },
   "outputs": [
    {
     "data": {
      "text/plain": [
       "nums: scala.collection.immutable.Map[String,Int] = Map(i -> 1, ii -> 2)\r\n"
      ]
     },
     "execution_count": 271,
     "metadata": {},
     "output_type": "execute_result"
    }
   ],
   "source": [
    "val nums = Map(\"i\" -> 1,\"ii\" -> 2) //创建一个不可变映射"
   ]
  },
  {
   "cell_type": "code",
   "execution_count": 272,
   "metadata": {
    "ExecuteTime": {
     "end_time": "2021-06-18T06:57:24.704643Z",
     "start_time": "2021-06-18T06:57:24.420403Z"
    }
   },
   "outputs": [
    {
     "data": {
      "text/plain": [
       "res193: scala.collection.immutable.Map[String,Int] = Map(i -> 1, ii -> 2, vi -> 6)\r\n"
      ]
     },
     "execution_count": 272,
     "metadata": {},
     "output_type": "execute_result"
    }
   ],
   "source": [
    "nums + (\"vi\" -> 6) //添加一个条目"
   ]
  },
  {
   "cell_type": "code",
   "execution_count": 273,
   "metadata": {
    "ExecuteTime": {
     "end_time": "2021-06-18T06:57:25.134936Z",
     "start_time": "2021-06-18T06:57:24.708634Z"
    }
   },
   "outputs": [
    {
     "data": {
      "text/plain": [
       "res194: scala.collection.immutable.Map[String,Int] = Map(i -> 1)\r\n"
      ]
     },
     "execution_count": 273,
     "metadata": {},
     "output_type": "execute_result"
    }
   ],
   "source": [
    "nums - \"ii\" //移除一个条目"
   ]
  },
  {
   "cell_type": "code",
   "execution_count": 274,
   "metadata": {
    "ExecuteTime": {
     "end_time": "2021-06-18T06:57:25.479522Z",
     "start_time": "2021-06-18T06:57:25.136932Z"
    }
   },
   "outputs": [
    {
     "data": {
      "text/plain": [
       "res195: scala.collection.immutable.Map[String,Int] = Map(i -> 1, ii -> 2, iii -> 3, v -> 5)\r\n"
      ]
     },
     "execution_count": 274,
     "metadata": {},
     "output_type": "execute_result"
    }
   ],
   "source": [
    "nums ++ List(\"iii\" -> 3,\"v\" -> 5) //添加多个条目"
   ]
  },
  {
   "cell_type": "code",
   "execution_count": 275,
   "metadata": {
    "ExecuteTime": {
     "end_time": "2021-06-18T06:57:25.812203Z",
     "start_time": "2021-06-18T06:57:25.481517Z"
    }
   },
   "outputs": [
    {
     "data": {
      "text/plain": [
       "res196: scala.collection.immutable.Map[String,Int] = Map(ii -> 2)\r\n"
      ]
     },
     "execution_count": 275,
     "metadata": {},
     "output_type": "execute_result"
    }
   ],
   "source": [
    "nums -- List(\"i\",\"iii\") //移除多个条目"
   ]
  },
  {
   "cell_type": "code",
   "execution_count": 276,
   "metadata": {
    "ExecuteTime": {
     "end_time": "2021-06-18T06:57:26.130354Z",
     "start_time": "2021-06-18T06:57:25.814197Z"
    }
   },
   "outputs": [
    {
     "data": {
      "text/plain": [
       "res197: Int = 2\r\n"
      ]
     },
     "execution_count": 276,
     "metadata": {},
     "output_type": "execute_result"
    }
   ],
   "source": [
    "nums.size //返回映射的大小"
   ]
  },
  {
   "cell_type": "code",
   "execution_count": 277,
   "metadata": {
    "ExecuteTime": {
     "end_time": "2021-06-18T06:57:26.478162Z",
     "start_time": "2021-06-18T06:57:26.132348Z"
    }
   },
   "outputs": [
    {
     "data": {
      "text/plain": [
       "res198: Boolean = true\r\n"
      ]
     },
     "execution_count": 277,
     "metadata": {},
     "output_type": "execute_result"
    }
   ],
   "source": [
    "nums.contains(\"ii\") //检查是否包含（包含的话就返回true）"
   ]
  },
  {
   "cell_type": "code",
   "execution_count": 278,
   "metadata": {
    "ExecuteTime": {
     "end_time": "2021-06-18T06:57:26.780086Z",
     "start_time": "2021-06-18T06:57:26.480156Z"
    }
   },
   "outputs": [
    {
     "data": {
      "text/plain": [
       "res199: Int = 2\r\n"
      ]
     },
     "execution_count": 278,
     "metadata": {},
     "output_type": "execute_result"
    }
   ],
   "source": [
    "nums(\"ii\") //获取指定键的值"
   ]
  },
  {
   "cell_type": "code",
   "execution_count": 279,
   "metadata": {
    "ExecuteTime": {
     "end_time": "2021-06-18T06:57:27.065347Z",
     "start_time": "2021-06-18T06:57:26.782081Z"
    }
   },
   "outputs": [
    {
     "data": {
      "text/plain": [
       "res200: Iterable[String] = Set(i, ii)\r\n"
      ]
     },
     "execution_count": 279,
     "metadata": {},
     "output_type": "execute_result"
    }
   ],
   "source": [
    "nums.keys //返回所有的键"
   ]
  },
  {
   "cell_type": "code",
   "execution_count": 280,
   "metadata": {
    "ExecuteTime": {
     "end_time": "2021-06-18T06:57:27.493738Z",
     "start_time": "2021-06-18T06:57:27.066345Z"
    }
   },
   "outputs": [
    {
     "data": {
      "text/plain": [
       "res201: scala.collection.immutable.Set[String] = Set(i, ii)\r\n"
      ]
     },
     "execution_count": 280,
     "metadata": {},
     "output_type": "execute_result"
    }
   ],
   "source": [
    "nums.keySet //以集的形式返回所有的键"
   ]
  },
  {
   "cell_type": "code",
   "execution_count": 281,
   "metadata": {
    "ExecuteTime": {
     "end_time": "2021-06-18T06:57:27.796944Z",
     "start_time": "2021-06-18T06:57:27.495733Z"
    }
   },
   "outputs": [
    {
     "data": {
      "text/plain": [
       "res202: Iterable[Int] = MapLike.DefaultValuesIterable(1, 2)\r\n"
      ]
     },
     "execution_count": 281,
     "metadata": {},
     "output_type": "execute_result"
    }
   ],
   "source": [
    "nums.values //返回所有的值"
   ]
  },
  {
   "cell_type": "code",
   "execution_count": 282,
   "metadata": {
    "ExecuteTime": {
     "end_time": "2021-06-18T06:57:28.098664Z",
     "start_time": "2021-06-18T06:57:27.797941Z"
    }
   },
   "outputs": [
    {
     "data": {
      "text/plain": [
       "res203: Boolean = false\r\n"
      ]
     },
     "execution_count": 282,
     "metadata": {},
     "output_type": "execute_result"
    }
   ],
   "source": [
    "nums.isEmpty //表示映射是否为空"
   ]
  },
  {
   "cell_type": "code",
   "execution_count": 283,
   "metadata": {
    "ExecuteTime": {
     "end_time": "2021-06-18T06:57:28.416813Z",
     "start_time": "2021-06-18T06:57:28.100660Z"
    }
   },
   "outputs": [
    {
     "data": {
      "text/plain": [
       "import scala.collection.mutable\r\n",
       "words: scala.collection.mutable.Map[String,Int] = Map()\r\n"
      ]
     },
     "execution_count": 283,
     "metadata": {},
     "output_type": "execute_result"
    }
   ],
   "source": [
    "import scala.collection.mutable\n",
    "val words = mutable.Map.empty[String,Int]//创建可变映射"
   ]
  },
  {
   "cell_type": "code",
   "execution_count": 284,
   "metadata": {
    "ExecuteTime": {
     "end_time": "2021-06-18T06:57:28.781861Z",
     "start_time": "2021-06-18T06:57:28.417810Z"
    }
   },
   "outputs": [
    {
     "data": {
      "text/plain": [
       "res204: words.type = Map(one -> 1)\r\n"
      ]
     },
     "execution_count": 284,
     "metadata": {},
     "output_type": "execute_result"
    }
   ],
   "source": [
    "words += (\"one\" -> 1) //添加一个映射条目（可变映射）"
   ]
  },
  {
   "cell_type": "code",
   "execution_count": 285,
   "metadata": {
    "ExecuteTime": {
     "end_time": "2021-06-18T06:57:29.084766Z",
     "start_time": "2021-06-18T06:57:28.782860Z"
    }
   },
   "outputs": [
    {
     "data": {
      "text/plain": [
       "res205: words.type = Map()\r\n"
      ]
     },
     "execution_count": 285,
     "metadata": {},
     "output_type": "execute_result"
    }
   ],
   "source": [
    "words -= \"one\" //移除一个映射条目（可变映射）"
   ]
  },
  {
   "cell_type": "code",
   "execution_count": 286,
   "metadata": {
    "ExecuteTime": {
     "end_time": "2021-06-18T06:57:29.449283Z",
     "start_time": "2021-06-18T06:57:29.086726Z"
    }
   },
   "outputs": [
    {
     "data": {
      "text/plain": [
       "res206: words.type = Map(three -> 3, five -> 5)\r\n"
      ]
     },
     "execution_count": 286,
     "metadata": {},
     "output_type": "execute_result"
    }
   ],
   "source": [
    "words ++= List(\"three\" -> 3,\"five\" -> 5) //添加多个条目(可变映射)"
   ]
  },
  {
   "cell_type": "code",
   "execution_count": 287,
   "metadata": {
    "ExecuteTime": {
     "end_time": "2021-06-18T06:57:29.860183Z",
     "start_time": "2021-06-18T06:57:29.451277Z"
    }
   },
   "outputs": [
    {
     "data": {
      "text/plain": [
       "res207: words.type = Map()\r\n"
      ]
     },
     "execution_count": 287,
     "metadata": {},
     "output_type": "execute_result"
    }
   ],
   "source": [
    " words --= List(\"three\",\"five\") //移除多个条目（可变映射）"
   ]
  },
  {
   "cell_type": "markdown",
   "metadata": {},
   "source": [
    "###  默认的集和映射"
   ]
  },
  {
   "cell_type": "markdown",
   "metadata": {},
   "source": [
    "Scala集合类库目前的不可变映射和不可变集单个对象最多可以存4个条目，对于少于五个的集和映射，有专门的特定大小的类与之对应，一旦要求一个大于等于五个元素的集和映射，则会使用哈希表。"
   ]
  },
  {
   "cell_type": "markdown",
   "metadata": {},
   "source": [
    "###  排好序的集和映射"
   ]
  },
  {
   "cell_type": "markdown",
   "metadata": {},
   "source": [
    "Scala集合类库提供了SortedSet和SortedMap特质，这些特质被TreeSet和TreeMap类实现，用来保持元素或键的顺序，这两个类只有不可变的版本。"
   ]
  },
  {
   "cell_type": "code",
   "execution_count": 288,
   "metadata": {
    "ExecuteTime": {
     "end_time": "2021-06-18T06:57:30.209280Z",
     "start_time": "2021-06-18T06:57:29.862178Z"
    }
   },
   "outputs": [
    {
     "data": {
      "text/plain": [
       "import scala.collection.immutable.TreeSet\r\n",
       "te: scala.collection.immutable.TreeSet[Int] = TreeSet(0, 1, 2, 3, 4, 5, 6, 7, 8, 9)\r\n"
      ]
     },
     "execution_count": 288,
     "metadata": {},
     "output_type": "execute_result"
    }
   ],
   "source": [
    "import scala.collection.immutable.TreeSet\n",
    "val te = TreeSet(9,3,1,8,0,2,7,4,6,5)"
   ]
  },
  {
   "cell_type": "code",
   "execution_count": 289,
   "metadata": {
    "ExecuteTime": {
     "end_time": "2021-06-18T06:57:30.524435Z",
     "start_time": "2021-06-18T06:57:30.211275Z"
    }
   },
   "outputs": [
    {
     "data": {
      "text/plain": [
       "cs: scala.collection.immutable.TreeSet[Char] = TreeSet(f, n, u)\r\n"
      ]
     },
     "execution_count": 289,
     "metadata": {},
     "output_type": "execute_result"
    }
   ],
   "source": [
    "val cs = TreeSet('f','u','n')"
   ]
  },
  {
   "cell_type": "code",
   "execution_count": 290,
   "metadata": {
    "ExecuteTime": {
     "end_time": "2021-06-18T06:57:30.873561Z",
     "start_time": "2021-06-18T06:57:30.526430Z"
    }
   },
   "outputs": [
    {
     "data": {
      "text/plain": [
       "import scala.collection.immutable.TreeMap\r\n",
       "tm: scala.collection.immutable.TreeMap[Int,Char] = Map(1 -> x, 3 -> x, 4 -> x)\r\n"
      ]
     },
     "execution_count": 290,
     "metadata": {},
     "output_type": "execute_result"
    }
   ],
   "source": [
    "import scala.collection.immutable.TreeMap\n",
    "var tm = TreeMap(3 -> 'x',1 -> 'x', 4 -> 'x')"
   ]
  },
  {
   "cell_type": "code",
   "execution_count": 291,
   "metadata": {
    "ExecuteTime": {
     "end_time": "2021-06-18T06:57:31.255554Z",
     "start_time": "2021-06-18T06:57:30.875523Z"
    }
   },
   "outputs": [
    {
     "data": {
      "text/plain": [
       "res208: scala.collection.immutable.TreeMap[Int,Char] = Map(1 -> x, 2 -> x, 3 -> x, 4 -> x)\r\n"
      ]
     },
     "execution_count": 291,
     "metadata": {},
     "output_type": "execute_result"
    }
   ],
   "source": [
    "tm += (2 -> 'x')\n",
    "tm"
   ]
  },
  {
   "cell_type": "markdown",
   "metadata": {},
   "source": [
    "## 在可变和不可变集合类之间选择"
   ]
  },
  {
   "cell_type": "markdown",
   "metadata": {},
   "source": [
    "Scala提供了一些语法糖，尽管不可变集和映射并不真正支持+=操作，但如果将变量声明为var而不是val，那这个集合就能用+=操作来更新。同样的理念适用于任何以=结尾的方法。"
   ]
  },
  {
   "cell_type": "code",
   "execution_count": 292,
   "metadata": {
    "ExecuteTime": {
     "end_time": "2021-06-18T06:57:31.557743Z",
     "start_time": "2021-06-18T06:57:31.257547Z"
    }
   },
   "outputs": [
    {
     "data": {
      "text/plain": [
       "people: scala.collection.immutable.Set[String] = Set(Nancy, Jane, Bob)\r\n",
       "res209: scala.collection.immutable.Set[String] = Set(Nancy, Jane, Bob)\r\n"
      ]
     },
     "execution_count": 292,
     "metadata": {},
     "output_type": "execute_result"
    }
   ],
   "source": [
    "var people = Set(\"Nancy\",\"Jane\")\n",
    "people += \"Bob\"\n",
    "people"
   ]
  },
  {
   "cell_type": "markdown",
   "metadata": {},
   "source": [
    "## 初始化集合"
   ]
  },
  {
   "cell_type": "markdown",
   "metadata": {},
   "source": [
    "Scala创建和初始化一个集合最常见的方式是将初始元素传入所选集合的伴生对象的工厂方法。只需要将元素放在伴生对象名后的圆括号里即可，Scala编译器会将它转换成对伴生对象apply方法的调用。伴生对象通常会使用apply函数定义伴生类的构造方法。 这样在创建伴生类的对象时就可以省略 new 关键字。"
   ]
  },
  {
   "cell_type": "markdown",
   "metadata": {},
   "source": [
    "## 元组"
   ]
  },
  {
   "cell_type": "markdown",
   "metadata": {},
   "source": [
    "元组的一个常见的场景是从方法返回多个值。"
   ]
  },
  {
   "cell_type": "code",
   "execution_count": 293,
   "metadata": {
    "ExecuteTime": {
     "end_time": "2021-06-18T06:57:31.923764Z",
     "start_time": "2021-06-18T06:57:31.559738Z"
    }
   },
   "outputs": [
    {
     "data": {
      "text/plain": [
       "longestWord: (words: Array[String])(String, Int)\r\n"
      ]
     },
     "execution_count": 293,
     "metadata": {},
     "output_type": "execute_result"
    }
   ],
   "source": [
    "def longestWord(words: Array[String]) = {\n",
    "    var word = words(0)\n",
    "    var idx = 0\n",
    "    for(i <- 1 until words.length){\n",
    "        if(words(i).length > word.length){\n",
    "            word = words(i)\n",
    "            idx = i\n",
    "        }\n",
    "    }\n",
    "  (word ,idx)\n",
    "}// 查找集合中最长的单词及其下标"
   ]
  },
  {
   "cell_type": "code",
   "execution_count": 294,
   "metadata": {
    "ExecuteTime": {
     "end_time": "2021-06-18T06:57:32.321703Z",
     "start_time": "2021-06-18T06:57:31.925761Z"
    }
   },
   "outputs": [
    {
     "data": {
      "text/plain": [
       "longest: (String, Int) = (quick,1)\r\n",
       "res210: (String, Int) = (quick,1)\r\n"
      ]
     },
     "execution_count": 294,
     "metadata": {},
     "output_type": "execute_result"
    }
   ],
   "source": [
    "val longest = longestWord(Array(\"The\",\"quick\",\"brown\",\"fox\"))\n",
    "longest"
   ]
  },
  {
   "cell_type": "code",
   "execution_count": 295,
   "metadata": {
    "ExecuteTime": {
     "end_time": "2021-06-18T06:57:32.637877Z",
     "start_time": "2021-06-18T06:57:32.323698Z"
    }
   },
   "outputs": [
    {
     "data": {
      "text/plain": [
       "res211: String = quick\r\n"
      ]
     },
     "execution_count": 295,
     "metadata": {},
     "output_type": "execute_result"
    }
   ],
   "source": [
    "longest._1 //要访问元组的元素，可以用_1访问第一个元素，用_2访问第二个元素"
   ]
  },
  {
   "cell_type": "code",
   "execution_count": 296,
   "metadata": {
    "ExecuteTime": {
     "end_time": "2021-06-18T06:57:32.968764Z",
     "start_time": "2021-06-18T06:57:32.639871Z"
    }
   },
   "outputs": [
    {
     "data": {
      "text/plain": [
       "res212: Int = 1\r\n"
      ]
     },
     "execution_count": 296,
     "metadata": {},
     "output_type": "execute_result"
    }
   ],
   "source": [
    "longest._2"
   ]
  },
  {
   "cell_type": "code",
   "execution_count": 297,
   "metadata": {
    "ExecuteTime": {
     "end_time": "2021-06-18T06:57:33.364707Z",
     "start_time": "2021-06-18T06:57:32.970759Z"
    }
   },
   "outputs": [
    {
     "data": {
      "text/plain": [
       "word: String = quick\r\n",
       "idx: Int = 1\r\n"
      ]
     },
     "execution_count": 297,
     "metadata": {},
     "output_type": "execute_result"
    }
   ],
   "source": [
    "val (word, idx) = longest"
   ]
  },
  {
   "cell_type": "code",
   "execution_count": null,
   "metadata": {},
   "outputs": [],
   "source": []
  }
 ],
 "metadata": {
  "kernelspec": {
   "display_name": "spylon-kernel",
   "language": "scala",
   "name": "spylon-kernel"
  },
  "language_info": {
   "codemirror_mode": "text/x-scala",
   "file_extension": ".scala",
   "help_links": [
    {
     "text": "MetaKernel Magics",
     "url": "https://metakernel.readthedocs.io/en/latest/source/README.html"
    }
   ],
   "mimetype": "text/x-scala",
   "name": "scala",
   "pygments_lexer": "scala",
   "version": "0.4.1"
  },
  "notify_time": "30",
  "toc": {
   "base_numbering": 1,
   "nav_menu": {
    "height": "36px",
    "width": "224px"
   },
   "number_sections": true,
   "sideBar": true,
   "skip_h1_title": false,
   "title_cell": "Table of Contents",
   "title_sidebar": "Contents",
   "toc_cell": false,
   "toc_position": {
    "height": "calc(100% - 180px)",
    "left": "10px",
    "top": "150px",
    "width": "253.865px"
   },
   "toc_section_display": true,
   "toc_window_display": true
  },
  "varInspector": {
   "cols": {
    "lenName": 16,
    "lenType": 16,
    "lenVar": 40
   },
   "kernels_config": {
    "python": {
     "delete_cmd_postfix": "",
     "delete_cmd_prefix": "del ",
     "library": "var_list.py",
     "varRefreshCmd": "print(var_dic_list())"
    },
    "r": {
     "delete_cmd_postfix": ") ",
     "delete_cmd_prefix": "rm(",
     "library": "var_list.r",
     "varRefreshCmd": "cat(var_dic_list()) "
    }
   },
   "types_to_exclude": [
    "module",
    "function",
    "builtin_function_or_method",
    "instance",
    "_Feature"
   ],
   "window_display": false
  },
  "widgets": {
   "application/vnd.jupyter.widget-state+json": {
    "state": {},
    "version_major": 2,
    "version_minor": 0
   }
  }
 },
 "nbformat": 4,
 "nbformat_minor": 4
}
